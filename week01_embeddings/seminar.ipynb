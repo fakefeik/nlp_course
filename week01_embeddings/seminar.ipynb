{
 "cells": [
  {
   "cell_type": "markdown",
   "metadata": {},
   "source": [
    "## Seminar 1: Fun with Word Embeddings (3 points)\n",
    "\n",
    "Today we gonna play with word embeddings: train our own little embedding, load one from   gensim model zoo and use it to visualize text corpora.\n",
    "\n",
    "This whole thing is gonna happen on top of embedding dataset.\n",
    "\n",
    "__Requirements:__  `pip install --upgrade nltk gensim bokeh` , but only if you're running locally."
   ]
  },
  {
   "cell_type": "code",
   "execution_count": 1,
   "metadata": {
    "collapsed": true
   },
   "outputs": [],
   "source": [
    "import warnings\n",
    "\n",
    "warnings.filterwarnings('ignore')"
   ]
  },
  {
   "cell_type": "code",
   "execution_count": 2,
   "metadata": {},
   "outputs": [
    {
     "name": "stderr",
     "output_type": "stream",
     "text": [
      "'wget' is not recognized as an internal or external command,\n",
      "operable program or batch file.\n"
     ]
    }
   ],
   "source": [
    "# download the data:\n",
    "!wget https://www.dropbox.com/s/obaitrix9jyu84r/quora.txt?dl=1 -O ./quora.txt\n",
    "# alternative download link: https://yadi.sk/i/BPQrUu1NaTduEw"
   ]
  },
  {
   "cell_type": "code",
   "execution_count": 3,
   "metadata": {
    "scrolled": false
   },
   "outputs": [
    {
     "data": {
      "text/plain": [
       "\"What TV shows or books help you read people's body language?\\n\""
      ]
     },
     "execution_count": 3,
     "metadata": {},
     "output_type": "execute_result"
    }
   ],
   "source": [
    "import numpy as np\n",
    "\n",
    "data = list(open(\"./quora.txt\", encoding='utf8'))\n",
    "data[50]"
   ]
  },
  {
   "cell_type": "markdown",
   "metadata": {},
   "source": [
    "__Tokenization:__ a typical first step for an nlp task is to split raw data into words.\n",
    "The text we're working with is in raw format: with all the punctuation and smiles attached to some words, so a simple str.split won't do.\n",
    "\n",
    "Let's use __`nltk`__ - a library that handles many nlp tasks like tokenization, stemming or part-of-speech tagging."
   ]
  },
  {
   "cell_type": "code",
   "execution_count": 4,
   "metadata": {},
   "outputs": [
    {
     "name": "stdout",
     "output_type": "stream",
     "text": [
      "['What', 'TV', 'shows', 'or', 'books', 'help', 'you', 'read', 'people', \"'\", 's', 'body', 'language', '?']\n"
     ]
    }
   ],
   "source": [
    "from nltk.tokenize import WordPunctTokenizer\n",
    "tokenizer = WordPunctTokenizer()\n",
    "\n",
    "print(tokenizer.tokenize(data[50]))"
   ]
  },
  {
   "cell_type": "code",
   "execution_count": 5,
   "metadata": {
    "collapsed": true
   },
   "outputs": [],
   "source": [
    "# TASK: lowercase everything and extract tokens with tokenizer. \n",
    "# data_tok should be a list of lists of tokens for each line in data.\n",
    "\n",
    "data_tok = list(map(lambda x: tokenizer.tokenize(x.lower()), data))"
   ]
  },
  {
   "cell_type": "code",
   "execution_count": 6,
   "metadata": {
    "collapsed": true
   },
   "outputs": [],
   "source": [
    "assert all(isinstance(row, (list, tuple)) for row in data_tok), \"please convert each line into a list of tokens (strings)\"\n",
    "assert all(all(isinstance(tok, str) for tok in row) for row in data_tok), \"please convert each line into a list of tokens (strings)\"\n",
    "is_latin = lambda tok: all('a' <= x.lower() <= 'z' for x in tok)\n",
    "assert all(map(lambda l: not is_latin(l) or l.islower(), map(' '.join, data_tok))), \"please make sure to lowercase the data\""
   ]
  },
  {
   "cell_type": "code",
   "execution_count": 7,
   "metadata": {},
   "outputs": [
    {
     "name": "stdout",
     "output_type": "stream",
     "text": [
      "[\"can i get back with my ex even though she is pregnant with another guy ' s baby ?\", 'what are some ways to overcome a fast food addiction ?']\n"
     ]
    }
   ],
   "source": [
    "print([' '.join(row) for row in data_tok[:2]])"
   ]
  },
  {
   "cell_type": "markdown",
   "metadata": {},
   "source": [
    "__Word vectors:__ as the saying goes, there's more than one way to train word embeddings. There's Word2Vec and GloVe with different objective functions. Then there's fasttext that uses character-level models to train word embeddings. \n",
    "\n",
    "The choice is huge, so let's start someplace small: __gensim__ is another nlp library that features many vector-based models incuding word2vec."
   ]
  },
  {
   "cell_type": "code",
   "execution_count": 8,
   "metadata": {
    "collapsed": true
   },
   "outputs": [],
   "source": [
    "from gensim.models import Word2Vec\n",
    "model = Word2Vec(data_tok, \n",
    "                 size=32,      # embedding vector size\n",
    "                 min_count=5,  # consider words that occured at least 5 times\n",
    "                 window=5).wv  # define context as a 5-word window around the target word"
   ]
  },
  {
   "cell_type": "code",
   "execution_count": 9,
   "metadata": {},
   "outputs": [
    {
     "data": {
      "text/plain": [
       "array([ 0.5853319 , -0.6157533 , -2.4357305 ,  0.00529074,  0.35977682,\n",
       "        4.5220976 , -0.23843916, -1.7400726 , -0.32803467,  0.5019443 ,\n",
       "       -1.3519748 ,  4.272072  ,  0.44536382, -3.8759387 ,  0.01613226,\n",
       "       -0.27171838,  0.5718439 , -0.7324508 , -2.4328787 , -0.12832695,\n",
       "        0.6242789 , -0.09842729,  2.8728163 ,  3.6448333 , -1.6464554 ,\n",
       "       -1.5399134 ,  0.93806094, -0.05856245,  1.1881077 , -2.34103   ,\n",
       "        0.11693048,  3.8492072 ], dtype=float32)"
      ]
     },
     "execution_count": 9,
     "metadata": {},
     "output_type": "execute_result"
    }
   ],
   "source": [
    "# now you can get word vectors !\n",
    "model.get_vector('anything')"
   ]
  },
  {
   "cell_type": "code",
   "execution_count": 10,
   "metadata": {},
   "outputs": [
    {
     "data": {
      "text/plain": [
       "[('rice', 0.9589992761611938),\n",
       " ('cheese', 0.9401140809059143),\n",
       " ('noodles', 0.9290673732757568),\n",
       " ('sauce', 0.923054575920105),\n",
       " ('butter', 0.9208883047103882),\n",
       " ('wine', 0.9192198514938354),\n",
       " ('vodka', 0.9080661535263062),\n",
       " ('pasta', 0.9034940004348755),\n",
       " ('chocolate', 0.903058648109436),\n",
       " ('fruit', 0.9017030596733093)]"
      ]
     },
     "execution_count": 10,
     "metadata": {},
     "output_type": "execute_result"
    }
   ],
   "source": [
    "# or query similar words directly. Go play with it!\n",
    "model.most_similar('bread')"
   ]
  },
  {
   "cell_type": "code",
   "execution_count": 11,
   "metadata": {},
   "outputs": [
    {
     "data": {
      "text/plain": [
       "[('master', 0.8181051015853882),\n",
       " ('degree', 0.7594022154808044),\n",
       " ('course', 0.7371950745582581),\n",
       " ('phd', 0.7285158634185791),\n",
       " ('computer', 0.7222098112106323),\n",
       " ('cs', 0.7219449281692505),\n",
       " ('programs', 0.7210090160369873),\n",
       " ('ms', 0.7096420526504517),\n",
       " ('certification', 0.7024151682853699),\n",
       " ('oracle', 0.6851133108139038)]"
      ]
     },
     "execution_count": 11,
     "metadata": {},
     "output_type": "execute_result"
    }
   ],
   "source": [
    "model.most_similar('program')"
   ]
  },
  {
   "cell_type": "markdown",
   "metadata": {},
   "source": [
    "### Using pre-trained model\n",
    "\n",
    "Took it a while, huh? Now imagine training life-sized (100~300D) word embeddings on gigabytes of text: wikipedia articles or twitter posts. \n",
    "\n",
    "Thankfully, nowadays you can get a pre-trained word embedding model in 2 lines of code (no sms required, promise)."
   ]
  },
  {
   "cell_type": "code",
   "execution_count": 12,
   "metadata": {
    "collapsed": true
   },
   "outputs": [],
   "source": [
    "import gensim.downloader as api\n",
    "model = api.load('glove-twitter-100')"
   ]
  },
  {
   "cell_type": "code",
   "execution_count": 13,
   "metadata": {},
   "outputs": [
    {
     "data": {
      "text/plain": [
       "[('broker', 0.5820155739784241),\n",
       " ('bonuses', 0.5424473285675049),\n",
       " ('banker', 0.5385112762451172),\n",
       " ('designer', 0.5197198390960693),\n",
       " ('merchandising', 0.49642330408096313),\n",
       " ('treet', 0.49220192432403564),\n",
       " ('shopper', 0.4920561909675598),\n",
       " ('part-time', 0.4912828207015991),\n",
       " ('freelance', 0.4843312203884125),\n",
       " ('aupair', 0.4796452522277832)]"
      ]
     },
     "execution_count": 13,
     "metadata": {},
     "output_type": "execute_result"
    }
   ],
   "source": [
    "model.most_similar(positive=[\"coder\", \"money\"], negative=[\"brain\"])"
   ]
  },
  {
   "cell_type": "markdown",
   "metadata": {},
   "source": [
    "### Visualizing word vectors\n",
    "\n",
    "One way to see if our vectors are any good is to plot them. Thing is, those vectors are in 30D+ space and we humans are more used to 2-3D.\n",
    "\n",
    "Luckily, we machine learners know about __dimensionality reduction__ methods.\n",
    "\n",
    "Let's use that to plot 1000 most frequent words"
   ]
  },
  {
   "cell_type": "code",
   "execution_count": 14,
   "metadata": {},
   "outputs": [
    {
     "name": "stdout",
     "output_type": "stream",
     "text": [
      "['<user>', '_', 'please', 'apa', 'justin', 'text', 'hari', 'playing', 'once', 'sei']\n"
     ]
    }
   ],
   "source": [
    "words = sorted(model.vocab.keys(), \n",
    "               key=lambda word: model.vocab[word].count,\n",
    "               reverse=True)[:1000]\n",
    "\n",
    "print(words[::100])"
   ]
  },
  {
   "cell_type": "code",
   "execution_count": 15,
   "metadata": {
    "collapsed": true
   },
   "outputs": [],
   "source": [
    "# for each word, compute it's vector with model\n",
    "word_vectors = np.array(list(map(model.get_vector, words)))"
   ]
  },
  {
   "cell_type": "code",
   "execution_count": 16,
   "metadata": {
    "collapsed": true
   },
   "outputs": [],
   "source": [
    "assert isinstance(word_vectors, np.ndarray)\n",
    "assert word_vectors.shape == (len(words), 100)\n",
    "assert np.isfinite(word_vectors).all()"
   ]
  },
  {
   "cell_type": "markdown",
   "metadata": {},
   "source": [
    "#### Linear projection: PCA\n",
    "\n",
    "The simplest linear dimensionality reduction method is __P__rincipial __C__omponent __A__nalysis.\n",
    "\n",
    "In geometric terms, PCA tries to find axes along which most of the variance occurs. The \"natural\" axes, if you wish.\n",
    "\n",
    "<img src=\"https://github.com/yandexdataschool/Practical_RL/raw/master/yet_another_week/_resource/pca_fish.png\" style=\"width:30%\">\n",
    "\n",
    "\n",
    "Under the hood, it attempts to decompose object-feature matrix $X$ into two smaller matrices: $W$ and $\\hat W$ minimizing _mean squared error_:\n",
    "\n",
    "$$\\|(X W) \\hat{W} - X\\|^2_2 \\to_{W, \\hat{W}} \\min$$\n",
    "- $X \\in \\mathbb{R}^{n \\times m}$ - object matrix (**centered**);\n",
    "- $W \\in \\mathbb{R}^{m \\times d}$ - matrix of direct transformation;\n",
    "- $\\hat{W} \\in \\mathbb{R}^{d \\times m}$ - matrix of reverse transformation;\n",
    "- $n$ samples, $m$ original dimensions and $d$ target dimensions;\n",
    "\n"
   ]
  },
  {
   "cell_type": "code",
   "execution_count": 17,
   "metadata": {
    "collapsed": true
   },
   "outputs": [],
   "source": [
    "from sklearn.decomposition import PCA\n",
    "\n",
    "# map word vectors onto 2d plane with PCA. Use good old sklearn api (fit, transform)\n",
    "# after that, normalize vectors to make sure they have zero mean and unit variance\n",
    "word_vectors_pca = PCA(n_components=2).fit_transform(word_vectors)\n",
    "\n",
    "word_vectors_pca = (word_vectors_pca - word_vectors_pca.mean(axis=0)) / word_vectors_pca.std(axis=0)"
   ]
  },
  {
   "cell_type": "code",
   "execution_count": 18,
   "metadata": {
    "collapsed": true
   },
   "outputs": [],
   "source": [
    "assert word_vectors_pca.shape == (len(word_vectors), 2), \"there must be a 2d vector for each word\"\n",
    "assert max(abs(word_vectors_pca.mean(0))) < 1e-5, \"points must be zero-centered\"\n",
    "assert max(abs(1.0 - word_vectors_pca.std(0))) < 1e-2, \"points must have unit variance\""
   ]
  },
  {
   "cell_type": "markdown",
   "metadata": {},
   "source": [
    "#### Let's draw it!"
   ]
  },
  {
   "cell_type": "code",
   "execution_count": 19,
   "metadata": {},
   "outputs": [
    {
     "data": {
      "text/html": [
       "\n",
       "    <div class=\"bk-root\">\n",
       "        <a href=\"https://bokeh.pydata.org\" target=\"_blank\" class=\"bk-logo bk-logo-small bk-logo-notebook\"></a>\n",
       "        <span id=\"56bbe325-be95-40ff-94b8-d6164a3d5368\">Loading BokehJS ...</span>\n",
       "    </div>"
      ]
     },
     "metadata": {},
     "output_type": "display_data"
    },
    {
     "data": {
      "application/javascript": [
       "\n",
       "(function(root) {\n",
       "  function now() {\n",
       "    return new Date();\n",
       "  }\n",
       "\n",
       "  var force = true;\n",
       "\n",
       "  if (typeof (root._bokeh_onload_callbacks) === \"undefined\" || force === true) {\n",
       "    root._bokeh_onload_callbacks = [];\n",
       "    root._bokeh_is_loading = undefined;\n",
       "  }\n",
       "\n",
       "  var JS_MIME_TYPE = 'application/javascript';\n",
       "  var HTML_MIME_TYPE = 'text/html';\n",
       "  var EXEC_MIME_TYPE = 'application/vnd.bokehjs_exec.v0+json';\n",
       "  var CLASS_NAME = 'output_bokeh rendered_html';\n",
       "\n",
       "  /**\n",
       "   * Render data to the DOM node\n",
       "   */\n",
       "  function render(props, node) {\n",
       "    var script = document.createElement(\"script\");\n",
       "    node.appendChild(script);\n",
       "  }\n",
       "\n",
       "  /**\n",
       "   * Handle when an output is cleared or removed\n",
       "   */\n",
       "  function handleClearOutput(event, handle) {\n",
       "    var cell = handle.cell;\n",
       "\n",
       "    var id = cell.output_area._bokeh_element_id;\n",
       "    var server_id = cell.output_area._bokeh_server_id;\n",
       "    // Clean up Bokeh references\n",
       "    if (id !== undefined) {\n",
       "      Bokeh.index[id].model.document.clear();\n",
       "      delete Bokeh.index[id];\n",
       "    }\n",
       "\n",
       "    if (server_id !== undefined) {\n",
       "      // Clean up Bokeh references\n",
       "      var cmd = \"from bokeh.io.state import curstate; print(curstate().uuid_to_server['\" + server_id + \"'].get_sessions()[0].document.roots[0]._id)\";\n",
       "      cell.notebook.kernel.execute(cmd, {\n",
       "        iopub: {\n",
       "          output: function(msg) {\n",
       "            var element_id = msg.content.text.trim();\n",
       "            Bokeh.index[element_id].model.document.clear();\n",
       "            delete Bokeh.index[element_id];\n",
       "          }\n",
       "        }\n",
       "      });\n",
       "      // Destroy server and session\n",
       "      var cmd = \"import bokeh.io.notebook as ion; ion.destroy_server('\" + server_id + \"')\";\n",
       "      cell.notebook.kernel.execute(cmd);\n",
       "    }\n",
       "  }\n",
       "\n",
       "  /**\n",
       "   * Handle when a new output is added\n",
       "   */\n",
       "  function handleAddOutput(event, handle) {\n",
       "    var output_area = handle.output_area;\n",
       "    var output = handle.output;\n",
       "\n",
       "    // limit handleAddOutput to display_data with EXEC_MIME_TYPE content only\n",
       "    if ((output.output_type != \"display_data\") || (!output.data.hasOwnProperty(EXEC_MIME_TYPE))) {\n",
       "      return\n",
       "    }\n",
       "\n",
       "    var toinsert = output_area.element.find(`.${CLASS_NAME.split(' ')[0]}`);\n",
       "\n",
       "    if (output.metadata[EXEC_MIME_TYPE][\"id\"] !== undefined) {\n",
       "      toinsert[0].firstChild.textContent = output.data[JS_MIME_TYPE];\n",
       "      // store reference to embed id on output_area\n",
       "      output_area._bokeh_element_id = output.metadata[EXEC_MIME_TYPE][\"id\"];\n",
       "    }\n",
       "    if (output.metadata[EXEC_MIME_TYPE][\"server_id\"] !== undefined) {\n",
       "      var bk_div = document.createElement(\"div\");\n",
       "      bk_div.innerHTML = output.data[HTML_MIME_TYPE];\n",
       "      var script_attrs = bk_div.children[0].attributes;\n",
       "      for (var i = 0; i < script_attrs.length; i++) {\n",
       "        toinsert[0].firstChild.setAttribute(script_attrs[i].name, script_attrs[i].value);\n",
       "      }\n",
       "      // store reference to server id on output_area\n",
       "      output_area._bokeh_server_id = output.metadata[EXEC_MIME_TYPE][\"server_id\"];\n",
       "    }\n",
       "  }\n",
       "\n",
       "  function register_renderer(events, OutputArea) {\n",
       "\n",
       "    function append_mime(data, metadata, element) {\n",
       "      // create a DOM node to render to\n",
       "      var toinsert = this.create_output_subarea(\n",
       "        metadata,\n",
       "        CLASS_NAME,\n",
       "        EXEC_MIME_TYPE\n",
       "      );\n",
       "      this.keyboard_manager.register_events(toinsert);\n",
       "      // Render to node\n",
       "      var props = {data: data, metadata: metadata[EXEC_MIME_TYPE]};\n",
       "      render(props, toinsert[0]);\n",
       "      element.append(toinsert);\n",
       "      return toinsert\n",
       "    }\n",
       "\n",
       "    /* Handle when an output is cleared or removed */\n",
       "    events.on('clear_output.CodeCell', handleClearOutput);\n",
       "    events.on('delete.Cell', handleClearOutput);\n",
       "\n",
       "    /* Handle when a new output is added */\n",
       "    events.on('output_added.OutputArea', handleAddOutput);\n",
       "\n",
       "    /**\n",
       "     * Register the mime type and append_mime function with output_area\n",
       "     */\n",
       "    OutputArea.prototype.register_mime_type(EXEC_MIME_TYPE, append_mime, {\n",
       "      /* Is output safe? */\n",
       "      safe: true,\n",
       "      /* Index of renderer in `output_area.display_order` */\n",
       "      index: 0\n",
       "    });\n",
       "  }\n",
       "\n",
       "  // register the mime type if in Jupyter Notebook environment and previously unregistered\n",
       "  if (root.Jupyter !== undefined) {\n",
       "    var events = require('base/js/events');\n",
       "    var OutputArea = require('notebook/js/outputarea').OutputArea;\n",
       "\n",
       "    if (OutputArea.prototype.mime_types().indexOf(EXEC_MIME_TYPE) == -1) {\n",
       "      register_renderer(events, OutputArea);\n",
       "    }\n",
       "  }\n",
       "\n",
       "  \n",
       "  if (typeof (root._bokeh_timeout) === \"undefined\" || force === true) {\n",
       "    root._bokeh_timeout = Date.now() + 5000;\n",
       "    root._bokeh_failed_load = false;\n",
       "  }\n",
       "\n",
       "  var NB_LOAD_WARNING = {'data': {'text/html':\n",
       "     \"<div style='background-color: #fdd'>\\n\"+\n",
       "     \"<p>\\n\"+\n",
       "     \"BokehJS does not appear to have successfully loaded. If loading BokehJS from CDN, this \\n\"+\n",
       "     \"may be due to a slow or bad network connection. Possible fixes:\\n\"+\n",
       "     \"</p>\\n\"+\n",
       "     \"<ul>\\n\"+\n",
       "     \"<li>re-rerun `output_notebook()` to attempt to load from CDN again, or</li>\\n\"+\n",
       "     \"<li>use INLINE resources instead, as so:</li>\\n\"+\n",
       "     \"</ul>\\n\"+\n",
       "     \"<code>\\n\"+\n",
       "     \"from bokeh.resources import INLINE\\n\"+\n",
       "     \"output_notebook(resources=INLINE)\\n\"+\n",
       "     \"</code>\\n\"+\n",
       "     \"</div>\"}};\n",
       "\n",
       "  function display_loaded() {\n",
       "    var el = document.getElementById(\"56bbe325-be95-40ff-94b8-d6164a3d5368\");\n",
       "    if (el != null) {\n",
       "      el.textContent = \"BokehJS is loading...\";\n",
       "    }\n",
       "    if (root.Bokeh !== undefined) {\n",
       "      if (el != null) {\n",
       "        el.textContent = \"BokehJS \" + root.Bokeh.version + \" successfully loaded.\";\n",
       "      }\n",
       "    } else if (Date.now() < root._bokeh_timeout) {\n",
       "      setTimeout(display_loaded, 100)\n",
       "    }\n",
       "  }\n",
       "\n",
       "\n",
       "  function run_callbacks() {\n",
       "    try {\n",
       "      root._bokeh_onload_callbacks.forEach(function(callback) { callback() });\n",
       "    }\n",
       "    finally {\n",
       "      delete root._bokeh_onload_callbacks\n",
       "    }\n",
       "    console.info(\"Bokeh: all callbacks have finished\");\n",
       "  }\n",
       "\n",
       "  function load_libs(js_urls, callback) {\n",
       "    root._bokeh_onload_callbacks.push(callback);\n",
       "    if (root._bokeh_is_loading > 0) {\n",
       "      console.log(\"Bokeh: BokehJS is being loaded, scheduling callback at\", now());\n",
       "      return null;\n",
       "    }\n",
       "    if (js_urls == null || js_urls.length === 0) {\n",
       "      run_callbacks();\n",
       "      return null;\n",
       "    }\n",
       "    console.log(\"Bokeh: BokehJS not loaded, scheduling load and callback at\", now());\n",
       "    root._bokeh_is_loading = js_urls.length;\n",
       "    for (var i = 0; i < js_urls.length; i++) {\n",
       "      var url = js_urls[i];\n",
       "      var s = document.createElement('script');\n",
       "      s.src = url;\n",
       "      s.async = false;\n",
       "      s.onreadystatechange = s.onload = function() {\n",
       "        root._bokeh_is_loading--;\n",
       "        if (root._bokeh_is_loading === 0) {\n",
       "          console.log(\"Bokeh: all BokehJS libraries loaded\");\n",
       "          run_callbacks()\n",
       "        }\n",
       "      };\n",
       "      s.onerror = function() {\n",
       "        console.warn(\"failed to load library \" + url);\n",
       "      };\n",
       "      console.log(\"Bokeh: injecting script tag for BokehJS library: \", url);\n",
       "      document.getElementsByTagName(\"head\")[0].appendChild(s);\n",
       "    }\n",
       "  };var element = document.getElementById(\"56bbe325-be95-40ff-94b8-d6164a3d5368\");\n",
       "  if (element == null) {\n",
       "    console.log(\"Bokeh: ERROR: autoload.js configured with elementid '56bbe325-be95-40ff-94b8-d6164a3d5368' but no matching script tag was found. \")\n",
       "    return false;\n",
       "  }\n",
       "\n",
       "  var js_urls = [\"https://cdn.pydata.org/bokeh/release/bokeh-0.12.10.min.js\", \"https://cdn.pydata.org/bokeh/release/bokeh-widgets-0.12.10.min.js\", \"https://cdn.pydata.org/bokeh/release/bokeh-tables-0.12.10.min.js\", \"https://cdn.pydata.org/bokeh/release/bokeh-gl-0.12.10.min.js\"];\n",
       "\n",
       "  var inline_js = [\n",
       "    function(Bokeh) {\n",
       "      Bokeh.set_log_level(\"info\");\n",
       "    },\n",
       "    \n",
       "    function(Bokeh) {\n",
       "      \n",
       "    },\n",
       "    function(Bokeh) {\n",
       "      console.log(\"Bokeh: injecting CSS: https://cdn.pydata.org/bokeh/release/bokeh-0.12.10.min.css\");\n",
       "      Bokeh.embed.inject_css(\"https://cdn.pydata.org/bokeh/release/bokeh-0.12.10.min.css\");\n",
       "      console.log(\"Bokeh: injecting CSS: https://cdn.pydata.org/bokeh/release/bokeh-widgets-0.12.10.min.css\");\n",
       "      Bokeh.embed.inject_css(\"https://cdn.pydata.org/bokeh/release/bokeh-widgets-0.12.10.min.css\");\n",
       "      console.log(\"Bokeh: injecting CSS: https://cdn.pydata.org/bokeh/release/bokeh-tables-0.12.10.min.css\");\n",
       "      Bokeh.embed.inject_css(\"https://cdn.pydata.org/bokeh/release/bokeh-tables-0.12.10.min.css\");\n",
       "    }\n",
       "  ];\n",
       "\n",
       "  function run_inline_js() {\n",
       "    \n",
       "    if ((root.Bokeh !== undefined) || (force === true)) {\n",
       "      for (var i = 0; i < inline_js.length; i++) {\n",
       "        inline_js[i].call(root, root.Bokeh);\n",
       "      }if (force === true) {\n",
       "        display_loaded();\n",
       "      }} else if (Date.now() < root._bokeh_timeout) {\n",
       "      setTimeout(run_inline_js, 100);\n",
       "    } else if (!root._bokeh_failed_load) {\n",
       "      console.log(\"Bokeh: BokehJS failed to load within specified timeout.\");\n",
       "      root._bokeh_failed_load = true;\n",
       "    } else if (force !== true) {\n",
       "      var cell = $(document.getElementById(\"56bbe325-be95-40ff-94b8-d6164a3d5368\")).parents('.cell').data().cell;\n",
       "      cell.output_area.append_execute_result(NB_LOAD_WARNING)\n",
       "    }\n",
       "\n",
       "  }\n",
       "\n",
       "  if (root._bokeh_is_loading === 0) {\n",
       "    console.log(\"Bokeh: BokehJS loaded, going straight to plotting\");\n",
       "    run_inline_js();\n",
       "  } else {\n",
       "    load_libs(js_urls, function() {\n",
       "      console.log(\"Bokeh: BokehJS plotting callback run at\", now());\n",
       "      run_inline_js();\n",
       "    });\n",
       "  }\n",
       "}(window));"
      ],
      "application/vnd.bokehjs_load.v0+json": "\n(function(root) {\n  function now() {\n    return new Date();\n  }\n\n  var force = true;\n\n  if (typeof (root._bokeh_onload_callbacks) === \"undefined\" || force === true) {\n    root._bokeh_onload_callbacks = [];\n    root._bokeh_is_loading = undefined;\n  }\n\n  \n\n  \n  if (typeof (root._bokeh_timeout) === \"undefined\" || force === true) {\n    root._bokeh_timeout = Date.now() + 5000;\n    root._bokeh_failed_load = false;\n  }\n\n  var NB_LOAD_WARNING = {'data': {'text/html':\n     \"<div style='background-color: #fdd'>\\n\"+\n     \"<p>\\n\"+\n     \"BokehJS does not appear to have successfully loaded. If loading BokehJS from CDN, this \\n\"+\n     \"may be due to a slow or bad network connection. Possible fixes:\\n\"+\n     \"</p>\\n\"+\n     \"<ul>\\n\"+\n     \"<li>re-rerun `output_notebook()` to attempt to load from CDN again, or</li>\\n\"+\n     \"<li>use INLINE resources instead, as so:</li>\\n\"+\n     \"</ul>\\n\"+\n     \"<code>\\n\"+\n     \"from bokeh.resources import INLINE\\n\"+\n     \"output_notebook(resources=INLINE)\\n\"+\n     \"</code>\\n\"+\n     \"</div>\"}};\n\n  function display_loaded() {\n    var el = document.getElementById(\"56bbe325-be95-40ff-94b8-d6164a3d5368\");\n    if (el != null) {\n      el.textContent = \"BokehJS is loading...\";\n    }\n    if (root.Bokeh !== undefined) {\n      if (el != null) {\n        el.textContent = \"BokehJS \" + root.Bokeh.version + \" successfully loaded.\";\n      }\n    } else if (Date.now() < root._bokeh_timeout) {\n      setTimeout(display_loaded, 100)\n    }\n  }\n\n\n  function run_callbacks() {\n    try {\n      root._bokeh_onload_callbacks.forEach(function(callback) { callback() });\n    }\n    finally {\n      delete root._bokeh_onload_callbacks\n    }\n    console.info(\"Bokeh: all callbacks have finished\");\n  }\n\n  function load_libs(js_urls, callback) {\n    root._bokeh_onload_callbacks.push(callback);\n    if (root._bokeh_is_loading > 0) {\n      console.log(\"Bokeh: BokehJS is being loaded, scheduling callback at\", now());\n      return null;\n    }\n    if (js_urls == null || js_urls.length === 0) {\n      run_callbacks();\n      return null;\n    }\n    console.log(\"Bokeh: BokehJS not loaded, scheduling load and callback at\", now());\n    root._bokeh_is_loading = js_urls.length;\n    for (var i = 0; i < js_urls.length; i++) {\n      var url = js_urls[i];\n      var s = document.createElement('script');\n      s.src = url;\n      s.async = false;\n      s.onreadystatechange = s.onload = function() {\n        root._bokeh_is_loading--;\n        if (root._bokeh_is_loading === 0) {\n          console.log(\"Bokeh: all BokehJS libraries loaded\");\n          run_callbacks()\n        }\n      };\n      s.onerror = function() {\n        console.warn(\"failed to load library \" + url);\n      };\n      console.log(\"Bokeh: injecting script tag for BokehJS library: \", url);\n      document.getElementsByTagName(\"head\")[0].appendChild(s);\n    }\n  };var element = document.getElementById(\"56bbe325-be95-40ff-94b8-d6164a3d5368\");\n  if (element == null) {\n    console.log(\"Bokeh: ERROR: autoload.js configured with elementid '56bbe325-be95-40ff-94b8-d6164a3d5368' but no matching script tag was found. \")\n    return false;\n  }\n\n  var js_urls = [\"https://cdn.pydata.org/bokeh/release/bokeh-0.12.10.min.js\", \"https://cdn.pydata.org/bokeh/release/bokeh-widgets-0.12.10.min.js\", \"https://cdn.pydata.org/bokeh/release/bokeh-tables-0.12.10.min.js\", \"https://cdn.pydata.org/bokeh/release/bokeh-gl-0.12.10.min.js\"];\n\n  var inline_js = [\n    function(Bokeh) {\n      Bokeh.set_log_level(\"info\");\n    },\n    \n    function(Bokeh) {\n      \n    },\n    function(Bokeh) {\n      console.log(\"Bokeh: injecting CSS: https://cdn.pydata.org/bokeh/release/bokeh-0.12.10.min.css\");\n      Bokeh.embed.inject_css(\"https://cdn.pydata.org/bokeh/release/bokeh-0.12.10.min.css\");\n      console.log(\"Bokeh: injecting CSS: https://cdn.pydata.org/bokeh/release/bokeh-widgets-0.12.10.min.css\");\n      Bokeh.embed.inject_css(\"https://cdn.pydata.org/bokeh/release/bokeh-widgets-0.12.10.min.css\");\n      console.log(\"Bokeh: injecting CSS: https://cdn.pydata.org/bokeh/release/bokeh-tables-0.12.10.min.css\");\n      Bokeh.embed.inject_css(\"https://cdn.pydata.org/bokeh/release/bokeh-tables-0.12.10.min.css\");\n    }\n  ];\n\n  function run_inline_js() {\n    \n    if ((root.Bokeh !== undefined) || (force === true)) {\n      for (var i = 0; i < inline_js.length; i++) {\n        inline_js[i].call(root, root.Bokeh);\n      }if (force === true) {\n        display_loaded();\n      }} else if (Date.now() < root._bokeh_timeout) {\n      setTimeout(run_inline_js, 100);\n    } else if (!root._bokeh_failed_load) {\n      console.log(\"Bokeh: BokehJS failed to load within specified timeout.\");\n      root._bokeh_failed_load = true;\n    } else if (force !== true) {\n      var cell = $(document.getElementById(\"56bbe325-be95-40ff-94b8-d6164a3d5368\")).parents('.cell').data().cell;\n      cell.output_area.append_execute_result(NB_LOAD_WARNING)\n    }\n\n  }\n\n  if (root._bokeh_is_loading === 0) {\n    console.log(\"Bokeh: BokehJS loaded, going straight to plotting\");\n    run_inline_js();\n  } else {\n    load_libs(js_urls, function() {\n      console.log(\"Bokeh: BokehJS plotting callback run at\", now());\n      run_inline_js();\n    });\n  }\n}(window));"
     },
     "metadata": {},
     "output_type": "display_data"
    }
   ],
   "source": [
    "import bokeh.models as bm, bokeh.plotting as pl\n",
    "from bokeh.io import output_notebook\n",
    "output_notebook()\n",
    "\n",
    "def draw_vectors(x, y, radius=10, alpha=0.25, color='blue',\n",
    "                 width=600, height=400, show=True, **kwargs):\n",
    "    \"\"\" draws an interactive plot for data points with auxilirary info on hover \"\"\"\n",
    "    if isinstance(color, str): color = [color] * len(x)\n",
    "    data_source = bm.ColumnDataSource({ 'x' : x, 'y' : y, 'color': color, **kwargs })\n",
    "\n",
    "    fig = pl.figure(active_scroll='wheel_zoom', width=width, height=height)\n",
    "    fig.scatter('x', 'y', size=radius, color='color', alpha=alpha, source=data_source)\n",
    "\n",
    "    fig.add_tools(bm.HoverTool(tooltips=[(key, \"@\" + key) for key in kwargs.keys()]))\n",
    "    if show: pl.show(fig)\n",
    "    return fig"
   ]
  },
  {
   "cell_type": "code",
   "execution_count": 20,
   "metadata": {},
   "outputs": [
    {
     "data": {
      "text/html": [
       "\n",
       "<div class=\"bk-root\">\n",
       "    <div class=\"bk-plotdiv\" id=\"03a926a7-79ac-4b29-8c9c-4ed32b803fd9\"></div>\n",
       "</div>"
      ]
     },
     "metadata": {},
     "output_type": "display_data"
    },
    {
     "data": {
      "application/javascript": [
       "(function(root) {\n",
       "  function embed_document(root) {\n",
       "    var docs_json = {\"62b54ede-b757-44aa-99e7-d325911b6736\":{\"roots\":{\"references\":[{\"attributes\":{},\"id\":\"88f267f5-459b-4a97-86f7-fc59bd927c07\",\"type\":\"BasicTicker\"},{\"attributes\":{\"plot\":null,\"text\":\"\"},\"id\":\"e35da434-1ff8-4cfb-8cd8-f961af065706\",\"type\":\"Title\"},{\"attributes\":{\"below\":[{\"id\":\"4551d3df-bd99-4aa2-97f4-1fbf218a31b3\",\"type\":\"LinearAxis\"}],\"left\":[{\"id\":\"ec9c36f9-1572-4cde-9975-409975a5c090\",\"type\":\"LinearAxis\"}],\"plot_height\":400,\"renderers\":[{\"id\":\"4551d3df-bd99-4aa2-97f4-1fbf218a31b3\",\"type\":\"LinearAxis\"},{\"id\":\"383a730a-fa02-4c63-be21-85b73d8e1e57\",\"type\":\"Grid\"},{\"id\":\"ec9c36f9-1572-4cde-9975-409975a5c090\",\"type\":\"LinearAxis\"},{\"id\":\"2b313e11-0b75-44f5-a4bf-152fb83e269e\",\"type\":\"Grid\"},{\"id\":\"b7ff269a-d974-4f0c-a7e5-c86cbb5f14b4\",\"type\":\"BoxAnnotation\"},{\"id\":\"25071a45-586d-4588-bbd0-6b75e279125e\",\"type\":\"GlyphRenderer\"}],\"title\":{\"id\":\"e35da434-1ff8-4cfb-8cd8-f961af065706\",\"type\":\"Title\"},\"toolbar\":{\"id\":\"efd662ec-9b62-4ec1-8995-de2880a76bc8\",\"type\":\"Toolbar\"},\"x_range\":{\"id\":\"c8d1b494-03f7-473d-9595-268403549806\",\"type\":\"DataRange1d\"},\"x_scale\":{\"id\":\"91b29e64-35ba-4e5b-b11f-49a75527b4cc\",\"type\":\"LinearScale\"},\"y_range\":{\"id\":\"6343692a-9344-4d47-87b6-95780ea030ab\",\"type\":\"DataRange1d\"},\"y_scale\":{\"id\":\"ce8d9e67-7a9e-4d11-a1bc-babce835552d\",\"type\":\"LinearScale\"}},\"id\":\"06418415-7cd1-44f1-94e2-e5af00639404\",\"subtype\":\"Figure\",\"type\":\"Plot\"},{\"attributes\":{\"dimension\":1,\"plot\":{\"id\":\"06418415-7cd1-44f1-94e2-e5af00639404\",\"subtype\":\"Figure\",\"type\":\"Plot\"},\"ticker\":{\"id\":\"88f267f5-459b-4a97-86f7-fc59bd927c07\",\"type\":\"BasicTicker\"}},\"id\":\"2b313e11-0b75-44f5-a4bf-152fb83e269e\",\"type\":\"Grid\"},{\"attributes\":{\"plot\":{\"id\":\"06418415-7cd1-44f1-94e2-e5af00639404\",\"subtype\":\"Figure\",\"type\":\"Plot\"},\"ticker\":{\"id\":\"40a95050-3432-4d8a-8d54-03f1ee266988\",\"type\":\"BasicTicker\"}},\"id\":\"383a730a-fa02-4c63-be21-85b73d8e1e57\",\"type\":\"Grid\"},{\"attributes\":{\"overlay\":{\"id\":\"b7ff269a-d974-4f0c-a7e5-c86cbb5f14b4\",\"type\":\"BoxAnnotation\"}},\"id\":\"41b12d4b-4cae-469e-b23b-3b22b100bdf7\",\"type\":\"BoxZoomTool\"},{\"attributes\":{\"callback\":null},\"id\":\"c8d1b494-03f7-473d-9595-268403549806\",\"type\":\"DataRange1d\"},{\"attributes\":{\"callback\":null,\"tooltips\":[[\"token\",\"@token\"]]},\"id\":\"e2c02b44-5297-4d24-ac8f-de9dc0d44b80\",\"type\":\"HoverTool\"},{\"attributes\":{\"fill_alpha\":{\"value\":0.1},\"fill_color\":{\"value\":\"#1f77b4\"},\"line_alpha\":{\"value\":0.1},\"line_color\":{\"value\":\"#1f77b4\"},\"size\":{\"units\":\"screen\",\"value\":10},\"x\":{\"field\":\"x\"},\"y\":{\"field\":\"y\"}},\"id\":\"ecb98ae1-13ce-4f1a-aee9-22768de754c7\",\"type\":\"Circle\"},{\"attributes\":{\"active_drag\":\"auto\",\"active_inspect\":\"auto\",\"active_scroll\":{\"id\":\"1b5fe7c1-8ca3-4b27-b26b-c7b5cd979f53\",\"type\":\"WheelZoomTool\"},\"active_tap\":\"auto\",\"tools\":[{\"id\":\"123bcb1e-3441-4d43-a259-5d07b6263526\",\"type\":\"PanTool\"},{\"id\":\"1b5fe7c1-8ca3-4b27-b26b-c7b5cd979f53\",\"type\":\"WheelZoomTool\"},{\"id\":\"41b12d4b-4cae-469e-b23b-3b22b100bdf7\",\"type\":\"BoxZoomTool\"},{\"id\":\"b7a9281a-b2e4-4043-a67f-915eabb018be\",\"type\":\"SaveTool\"},{\"id\":\"c0609a0f-3d02-4da0-b133-bee43e8d9022\",\"type\":\"ResetTool\"},{\"id\":\"98b637e1-3eae-47e0-99b4-63b43297f72d\",\"type\":\"HelpTool\"},{\"id\":\"e2c02b44-5297-4d24-ac8f-de9dc0d44b80\",\"type\":\"HoverTool\"}]},\"id\":\"efd662ec-9b62-4ec1-8995-de2880a76bc8\",\"type\":\"Toolbar\"},{\"attributes\":{},\"id\":\"1b5fe7c1-8ca3-4b27-b26b-c7b5cd979f53\",\"type\":\"WheelZoomTool\"},{\"attributes\":{\"bottom_units\":\"screen\",\"fill_alpha\":{\"value\":0.5},\"fill_color\":{\"value\":\"lightgrey\"},\"left_units\":\"screen\",\"level\":\"overlay\",\"line_alpha\":{\"value\":1.0},\"line_color\":{\"value\":\"black\"},\"line_dash\":[4,4],\"line_width\":{\"value\":2},\"plot\":null,\"render_mode\":\"css\",\"right_units\":\"screen\",\"top_units\":\"screen\"},\"id\":\"b7ff269a-d974-4f0c-a7e5-c86cbb5f14b4\",\"type\":\"BoxAnnotation\"},{\"attributes\":{\"data_source\":{\"id\":\"f9ff02e5-d89d-46ca-bec6-10719c2973b0\",\"type\":\"ColumnDataSource\"},\"glyph\":{\"id\":\"4631acde-6757-4112-a562-d84c6f89b559\",\"type\":\"Circle\"},\"hover_glyph\":null,\"muted_glyph\":null,\"nonselection_glyph\":{\"id\":\"ecb98ae1-13ce-4f1a-aee9-22768de754c7\",\"type\":\"Circle\"},\"selection_glyph\":null,\"view\":{\"id\":\"2ecfff1e-5f38-4752-805f-c19e1782205a\",\"type\":\"CDSView\"}},\"id\":\"25071a45-586d-4588-bbd0-6b75e279125e\",\"type\":\"GlyphRenderer\"},{\"attributes\":{\"formatter\":{\"id\":\"da4918e9-a30a-48f7-8067-e6c4c28757c5\",\"type\":\"BasicTickFormatter\"},\"plot\":{\"id\":\"06418415-7cd1-44f1-94e2-e5af00639404\",\"subtype\":\"Figure\",\"type\":\"Plot\"},\"ticker\":{\"id\":\"88f267f5-459b-4a97-86f7-fc59bd927c07\",\"type\":\"BasicTicker\"}},\"id\":\"ec9c36f9-1572-4cde-9975-409975a5c090\",\"type\":\"LinearAxis\"},{\"attributes\":{},\"id\":\"da4918e9-a30a-48f7-8067-e6c4c28757c5\",\"type\":\"BasicTickFormatter\"},{\"attributes\":{\"source\":{\"id\":\"f9ff02e5-d89d-46ca-bec6-10719c2973b0\",\"type\":\"ColumnDataSource\"}},\"id\":\"2ecfff1e-5f38-4752-805f-c19e1782205a\",\"type\":\"CDSView\"},{\"attributes\":{\"fill_alpha\":{\"value\":0.25},\"fill_color\":{\"field\":\"color\"},\"line_alpha\":{\"value\":0.25},\"line_color\":{\"field\":\"color\"},\"size\":{\"units\":\"screen\",\"value\":10},\"x\":{\"field\":\"x\"},\"y\":{\"field\":\"y\"}},\"id\":\"4631acde-6757-4112-a562-d84c6f89b559\",\"type\":\"Circle\"},{\"attributes\":{},\"id\":\"40a95050-3432-4d8a-8d54-03f1ee266988\",\"type\":\"BasicTicker\"},{\"attributes\":{},\"id\":\"98b637e1-3eae-47e0-99b4-63b43297f72d\",\"type\":\"HelpTool\"},{\"attributes\":{},\"id\":\"f54a396d-8ee0-4a15-8780-beceb5aab786\",\"type\":\"BasicTickFormatter\"},{\"attributes\":{},\"id\":\"91b29e64-35ba-4e5b-b11f-49a75527b4cc\",\"type\":\"LinearScale\"},{\"attributes\":{},\"id\":\"c0609a0f-3d02-4da0-b133-bee43e8d9022\",\"type\":\"ResetTool\"},{\"attributes\":{\"callback\":null},\"id\":\"6343692a-9344-4d47-87b6-95780ea030ab\",\"type\":\"DataRange1d\"},{\"attributes\":{\"formatter\":{\"id\":\"f54a396d-8ee0-4a15-8780-beceb5aab786\",\"type\":\"BasicTickFormatter\"},\"plot\":{\"id\":\"06418415-7cd1-44f1-94e2-e5af00639404\",\"subtype\":\"Figure\",\"type\":\"Plot\"},\"ticker\":{\"id\":\"40a95050-3432-4d8a-8d54-03f1ee266988\",\"type\":\"BasicTicker\"}},\"id\":\"4551d3df-bd99-4aa2-97f4-1fbf218a31b3\",\"type\":\"LinearAxis\"},{\"attributes\":{},\"id\":\"ce8d9e67-7a9e-4d11-a1bc-babce835552d\",\"type\":\"LinearScale\"},{\"attributes\":{},\"id\":\"b7a9281a-b2e4-4043-a67f-915eabb018be\",\"type\":\"SaveTool\"},{\"attributes\":{\"callback\":null,\"column_names\":[\"x\",\"y\",\"color\",\"token\"],\"data\":{\"color\":[\"blue\",\"blue\",\"blue\",\"blue\",\"blue\",\"blue\",\"blue\",\"blue\",\"blue\",\"blue\",\"blue\",\"blue\",\"blue\",\"blue\",\"blue\",\"blue\",\"blue\",\"blue\",\"blue\",\"blue\",\"blue\",\"blue\",\"blue\",\"blue\",\"blue\",\"blue\",\"blue\",\"blue\",\"blue\",\"blue\",\"blue\",\"blue\",\"blue\",\"blue\",\"blue\",\"blue\",\"blue\",\"blue\",\"blue\",\"blue\",\"blue\",\"blue\",\"blue\",\"blue\",\"blue\",\"blue\",\"blue\",\"blue\",\"blue\",\"blue\",\"blue\",\"blue\",\"blue\",\"blue\",\"blue\",\"blue\",\"blue\",\"blue\",\"blue\",\"blue\",\"blue\",\"blue\",\"blue\",\"blue\",\"blue\",\"blue\",\"blue\",\"blue\",\"blue\",\"blue\",\"blue\",\"blue\",\"blue\",\"blue\",\"blue\",\"blue\",\"blue\",\"blue\",\"blue\",\"blue\",\"blue\",\"blue\",\"blue\",\"blue\",\"blue\",\"blue\",\"blue\",\"blue\",\"blue\",\"blue\",\"blue\",\"blue\",\"blue\",\"blue\",\"blue\",\"blue\",\"blue\",\"blue\",\"blue\",\"blue\",\"blue\",\"blue\",\"blue\",\"blue\",\"blue\",\"blue\",\"blue\",\"blue\",\"blue\",\"blue\",\"blue\",\"blue\",\"blue\",\"blue\",\"blue\",\"blue\",\"blue\",\"blue\",\"blue\",\"blue\",\"blue\",\"blue\",\"blue\",\"blue\",\"blue\",\"blue\",\"blue\",\"blue\",\"blue\",\"blue\",\"blue\",\"blue\",\"blue\",\"blue\",\"blue\",\"blue\",\"blue\",\"blue\",\"blue\",\"blue\",\"blue\",\"blue\",\"blue\",\"blue\",\"blue\",\"blue\",\"blue\",\"blue\",\"blue\",\"blue\",\"blue\",\"blue\",\"blue\",\"blue\",\"blue\",\"blue\",\"blue\",\"blue\",\"blue\",\"blue\",\"blue\",\"blue\",\"blue\",\"blue\",\"blue\",\"blue\",\"blue\",\"blue\",\"blue\",\"blue\",\"blue\",\"blue\",\"blue\",\"blue\",\"blue\",\"blue\",\"blue\",\"blue\",\"blue\",\"blue\",\"blue\",\"blue\",\"blue\",\"blue\",\"blue\",\"blue\",\"blue\",\"blue\",\"blue\",\"blue\",\"blue\",\"blue\",\"blue\",\"blue\",\"blue\",\"blue\",\"blue\",\"blue\",\"blue\",\"blue\",\"blue\",\"blue\",\"blue\",\"blue\",\"blue\",\"blue\",\"blue\",\"blue\",\"blue\",\"blue\",\"blue\",\"blue\",\"blue\",\"blue\",\"blue\",\"blue\",\"blue\",\"blue\",\"blue\",\"blue\",\"blue\",\"blue\",\"blue\",\"blue\",\"blue\",\"blue\",\"blue\",\"blue\",\"blue\",\"blue\",\"blue\",\"blue\",\"blue\",\"blue\",\"blue\",\"blue\",\"blue\",\"blue\",\"blue\",\"blue\",\"blue\",\"blue\",\"blue\",\"blue\",\"blue\",\"blue\",\"blue\",\"blue\",\"blue\",\"blue\",\"blue\",\"blue\",\"blue\",\"blue\",\"blue\",\"blue\",\"blue\",\"blue\",\"blue\",\"blue\",\"blue\",\"blue\",\"blue\",\"blue\",\"blue\",\"blue\",\"blue\",\"blue\",\"blue\",\"blue\",\"blue\",\"blue\",\"blue\",\"blue\",\"blue\",\"blue\",\"blue\",\"blue\",\"blue\",\"blue\",\"blue\",\"blue\",\"blue\",\"blue\",\"blue\",\"blue\",\"blue\",\"blue\",\"blue\",\"blue\",\"blue\",\"blue\",\"blue\",\"blue\",\"blue\",\"blue\",\"blue\",\"blue\",\"blue\",\"blue\",\"blue\",\"blue\",\"blue\",\"blue\",\"blue\",\"blue\",\"blue\",\"blue\",\"blue\",\"blue\",\"blue\",\"blue\",\"blue\",\"blue\",\"blue\",\"blue\",\"blue\",\"blue\",\"blue\",\"blue\",\"blue\",\"blue\",\"blue\",\"blue\",\"blue\",\"blue\",\"blue\",\"blue\",\"blue\",\"blue\",\"blue\",\"blue\",\"blue\",\"blue\",\"blue\",\"blue\",\"blue\",\"blue\",\"blue\",\"blue\",\"blue\",\"blue\",\"blue\",\"blue\",\"blue\",\"blue\",\"blue\",\"blue\",\"blue\",\"blue\",\"blue\",\"blue\",\"blue\",\"blue\",\"blue\",\"blue\",\"blue\",\"blue\",\"blue\",\"blue\",\"blue\",\"blue\",\"blue\",\"blue\",\"blue\",\"blue\",\"blue\",\"blue\",\"blue\",\"blue\",\"blue\",\"blue\",\"blue\",\"blue\",\"blue\",\"blue\",\"blue\",\"blue\",\"blue\",\"blue\",\"blue\",\"blue\",\"blue\",\"blue\",\"blue\",\"blue\",\"blue\",\"blue\",\"blue\",\"blue\",\"blue\",\"blue\",\"blue\",\"blue\",\"blue\",\"blue\",\"blue\",\"blue\",\"blue\",\"blue\",\"blue\",\"blue\",\"blue\",\"blue\",\"blue\",\"blue\",\"blue\",\"blue\",\"blue\",\"blue\",\"blue\",\"blue\",\"blue\",\"blue\",\"blue\",\"blue\",\"blue\",\"blue\",\"blue\",\"blue\",\"blue\",\"blue\",\"blue\",\"blue\",\"blue\",\"blue\",\"blue\",\"blue\",\"blue\",\"blue\",\"blue\",\"blue\",\"blue\",\"blue\",\"blue\",\"blue\",\"blue\",\"blue\",\"blue\",\"blue\",\"blue\",\"blue\",\"blue\",\"blue\",\"blue\",\"blue\",\"blue\",\"blue\",\"blue\",\"blue\",\"blue\",\"blue\",\"blue\",\"blue\",\"blue\",\"blue\",\"blue\",\"blue\",\"blue\",\"blue\",\"blue\",\"blue\",\"blue\",\"blue\",\"blue\",\"blue\",\"blue\",\"blue\",\"blue\",\"blue\",\"blue\",\"blue\",\"blue\",\"blue\",\"blue\",\"blue\",\"blue\",\"blue\",\"blue\",\"blue\",\"blue\",\"blue\",\"blue\",\"blue\",\"blue\",\"blue\",\"blue\",\"blue\",\"blue\",\"blue\",\"blue\",\"blue\",\"blue\",\"blue\",\"blue\",\"blue\",\"blue\",\"blue\",\"blue\",\"blue\",\"blue\",\"blue\",\"blue\",\"blue\",\"blue\",\"blue\",\"blue\",\"blue\",\"blue\",\"blue\",\"blue\",\"blue\",\"blue\",\"blue\",\"blue\",\"blue\",\"blue\",\"blue\",\"blue\",\"blue\",\"blue\",\"blue\",\"blue\",\"blue\",\"blue\",\"blue\",\"blue\",\"blue\",\"blue\",\"blue\",\"blue\",\"blue\",\"blue\",\"blue\",\"blue\",\"blue\",\"blue\",\"blue\",\"blue\",\"blue\",\"blue\",\"blue\",\"blue\",\"blue\",\"blue\",\"blue\",\"blue\",\"blue\",\"blue\",\"blue\",\"blue\",\"blue\",\"blue\",\"blue\",\"blue\",\"blue\",\"blue\",\"blue\",\"blue\",\"blue\",\"blue\",\"blue\",\"blue\",\"blue\",\"blue\",\"blue\",\"blue\",\"blue\",\"blue\",\"blue\",\"blue\",\"blue\",\"blue\",\"blue\",\"blue\",\"blue\",\"blue\",\"blue\",\"blue\",\"blue\",\"blue\",\"blue\",\"blue\",\"blue\",\"blue\",\"blue\",\"blue\",\"blue\",\"blue\",\"blue\",\"blue\",\"blue\",\"blue\",\"blue\",\"blue\",\"blue\",\"blue\",\"blue\",\"blue\",\"blue\",\"blue\",\"blue\",\"blue\",\"blue\",\"blue\",\"blue\",\"blue\",\"blue\",\"blue\",\"blue\",\"blue\",\"blue\",\"blue\",\"blue\",\"blue\",\"blue\",\"blue\",\"blue\",\"blue\",\"blue\",\"blue\",\"blue\",\"blue\",\"blue\",\"blue\",\"blue\",\"blue\",\"blue\",\"blue\",\"blue\",\"blue\",\"blue\",\"blue\",\"blue\",\"blue\",\"blue\",\"blue\",\"blue\",\"blue\",\"blue\",\"blue\",\"blue\",\"blue\",\"blue\",\"blue\",\"blue\",\"blue\",\"blue\",\"blue\",\"blue\",\"blue\",\"blue\",\"blue\",\"blue\",\"blue\",\"blue\",\"blue\",\"blue\",\"blue\",\"blue\",\"blue\",\"blue\",\"blue\",\"blue\",\"blue\",\"blue\",\"blue\",\"blue\",\"blue\",\"blue\",\"blue\",\"blue\",\"blue\",\"blue\",\"blue\",\"blue\",\"blue\",\"blue\",\"blue\",\"blue\",\"blue\",\"blue\",\"blue\",\"blue\",\"blue\",\"blue\",\"blue\",\"blue\",\"blue\",\"blue\",\"blue\",\"blue\",\"blue\",\"blue\",\"blue\",\"blue\",\"blue\",\"blue\",\"blue\",\"blue\",\"blue\",\"blue\",\"blue\",\"blue\",\"blue\",\"blue\",\"blue\",\"blue\",\"blue\",\"blue\",\"blue\",\"blue\",\"blue\",\"blue\",\"blue\",\"blue\",\"blue\",\"blue\",\"blue\",\"blue\",\"blue\",\"blue\",\"blue\",\"blue\",\"blue\",\"blue\",\"blue\",\"blue\",\"blue\",\"blue\",\"blue\",\"blue\",\"blue\",\"blue\",\"blue\",\"blue\",\"blue\",\"blue\",\"blue\",\"blue\",\"blue\",\"blue\",\"blue\",\"blue\",\"blue\",\"blue\",\"blue\",\"blue\",\"blue\",\"blue\",\"blue\",\"blue\",\"blue\",\"blue\",\"blue\",\"blue\",\"blue\",\"blue\",\"blue\",\"blue\",\"blue\",\"blue\",\"blue\",\"blue\",\"blue\",\"blue\",\"blue\",\"blue\",\"blue\",\"blue\",\"blue\",\"blue\",\"blue\",\"blue\",\"blue\",\"blue\",\"blue\",\"blue\",\"blue\",\"blue\",\"blue\",\"blue\",\"blue\",\"blue\",\"blue\",\"blue\",\"blue\",\"blue\",\"blue\",\"blue\",\"blue\",\"blue\",\"blue\",\"blue\",\"blue\",\"blue\",\"blue\",\"blue\",\"blue\",\"blue\",\"blue\",\"blue\",\"blue\",\"blue\",\"blue\",\"blue\",\"blue\",\"blue\",\"blue\",\"blue\",\"blue\",\"blue\",\"blue\",\"blue\",\"blue\",\"blue\",\"blue\",\"blue\",\"blue\",\"blue\",\"blue\",\"blue\",\"blue\",\"blue\",\"blue\",\"blue\",\"blue\",\"blue\",\"blue\",\"blue\",\"blue\",\"blue\",\"blue\",\"blue\",\"blue\",\"blue\",\"blue\",\"blue\",\"blue\",\"blue\",\"blue\",\"blue\",\"blue\",\"blue\",\"blue\",\"blue\",\"blue\",\"blue\",\"blue\",\"blue\",\"blue\",\"blue\",\"blue\",\"blue\",\"blue\",\"blue\",\"blue\",\"blue\",\"blue\",\"blue\",\"blue\",\"blue\",\"blue\",\"blue\",\"blue\",\"blue\",\"blue\",\"blue\",\"blue\",\"blue\",\"blue\",\"blue\",\"blue\",\"blue\",\"blue\",\"blue\",\"blue\",\"blue\",\"blue\",\"blue\",\"blue\",\"blue\",\"blue\",\"blue\",\"blue\",\"blue\",\"blue\",\"blue\",\"blue\",\"blue\",\"blue\",\"blue\",\"blue\",\"blue\",\"blue\",\"blue\",\"blue\",\"blue\",\"blue\",\"blue\",\"blue\",\"blue\",\"blue\",\"blue\",\"blue\",\"blue\",\"blue\",\"blue\",\"blue\",\"blue\",\"blue\",\"blue\",\"blue\",\"blue\",\"blue\",\"blue\",\"blue\",\"blue\",\"blue\",\"blue\",\"blue\",\"blue\",\"blue\",\"blue\",\"blue\",\"blue\",\"blue\",\"blue\",\"blue\",\"blue\",\"blue\",\"blue\",\"blue\",\"blue\",\"blue\",\"blue\",\"blue\",\"blue\",\"blue\",\"blue\",\"blue\",\"blue\",\"blue\",\"blue\",\"blue\",\"blue\",\"blue\",\"blue\",\"blue\",\"blue\",\"blue\",\"blue\",\"blue\",\"blue\",\"blue\",\"blue\",\"blue\",\"blue\",\"blue\",\"blue\",\"blue\",\"blue\",\"blue\",\"blue\",\"blue\",\"blue\",\"blue\",\"blue\",\"blue\",\"blue\",\"blue\",\"blue\",\"blue\",\"blue\",\"blue\",\"blue\",\"blue\",\"blue\",\"blue\",\"blue\",\"blue\",\"blue\",\"blue\",\"blue\",\"blue\",\"blue\",\"blue\",\"blue\",\"blue\",\"blue\",\"blue\",\"blue\",\"blue\",\"blue\",\"blue\",\"blue\",\"blue\",\"blue\",\"blue\",\"blue\"],\"token\":[\"<user>\",\".\",\":\",\"rt\",\",\",\"<repeat>\",\"<hashtag>\",\"<number>\",\"<url>\",\"!\",\"i\",\"a\",\"\\\"\",\"the\",\"?\",\"you\",\"to\",\"(\",\"<allcaps>\",\"<elong>\",\")\",\"me\",\"de\",\"<smile>\",\"\\uff01\",\"que\",\"and\",\"\\u3002\",\"-\",\"my\",\"no\",\"\\u3001\",\"is\",\"it\",\"\\u2026\",\"in\",\"n\",\"for\",\"/\",\"of\",\"la\",\"'s\",\"*\",\"do\",\"n't\",\"that\",\"on\",\"y\",\"'\",\"e\",\"o\",\"u\",\"en\",\"this\",\"el\",\"so\",\"be\",\"'m\",\"with\",\"just\",\">\",\"your\",\"^\",\"like\",\"have\",\"te\",\"at\",\"\\uff1f\",\"love\",\"se\",\"are\",\"<\",\"m\",\"r\",\"if\",\"all\",\"b\",\"\\u30fb\",\"not\",\"but\",\"we\",\"es\",\"ya\",\"&\",\"follow\",\"up\",\"what\",\"get\",\"lol\",\"un\",\"\\u2665\",\"lo\",\"when\",\"was\",\"\\u201c\",\"\\u201d\",\"one\",\"por\",\"si\",\"out\",\"_\",\"mi\",\"can\",\"<sadface>\",\"\\u0645\\u0646\",\"\\u2661\",\"\\u00b4\",\"he\",\"con\",\"they\",\"now\",\"go\",\"\\u060c\",\"para\",\"los\",\"know\",\"haha\",\"good\",\"tu\",\"back\",\"~\",\"about\",\"new\",\";\",\"as\",\"day\",\"how\",\"who\",\"will\",\"want\",\"people\",\"yo\",\"eu\",\"from\",\"di\",\"time\",\"<heart>\",\"s\",\"aku\",\"da\",\"'re\",\"<lolface>\",\"una\",\"got\",\"las\",\"more\",\"x\",\"she\",\"today\",\"\\uff08\",\">>\",\"k\",\"by\",\"or\",\"\\u0641\\u064a\",\"\\uff65\",\"too\",\"le\",\"\\u00e9\",\"|\",\"[\",\"\\uff09\",\"]\",\"see\",\"why\",\"yg\",\"ca\",\"como\",\"her\",\"\\u2014\",\"q\",\"need\",\"an\",\"na\",\"\\u7b11\",\"there\",\"\\u03c9\",\"happy\",\"im\",\"mas\",\"je\",\"life\",\"really\",\"make\",\"yang\",\"shit\",\"think\",\"t\",\"\\u2764\",\"n\\u00e3o\",\"never\",\"some\",\"\\uff5e\",\"oh\",\"\\u2605\",\"did\",\"would\",\"del\",\"`\",\"d\",\"please\",\"via\",\"much\",\"fuck\",\"al\",\"dia\",\"$\",\"\\u0648\",\"right\",\"best\",\"c\",\"going\",\"\\u0627\\u0644\\u0644\\u0647\",\"pero\",\"only\",\"has\",\"\\u266a\",\"'ll\",\"twitter\",\"=\",\"hahaha\",\"its\",\"nn\",\"\\uff40\",\"\\u00bf\",\"am\",\"say\",\"<neutralface>\",\"them\",\"here\",\"\\u0644\\u0627\",\"off\",\"still\",\"dan\",\"+\",\"night\",\"w\",\"ada\",\"someone\",\"even\",\"then\",\"\\u2606\",\"ni\",\"come\",\"com\",\"always\",\"man\",\"'ve\",\"been\",\"his\",\"itu\",\"\\u0639\\u0644\\u0649\",\"-_-\",\"\\u263a\",\"over\",\"um\",\"\\u0645\\u0627\",\"hate\",\"girl\",\"ai\",\"had\",\"pra\",\"todo\",\"mais\",\"feel\",\"let\",\"ini\",\"because\",\"\\uff9f\",\"thanks\",\"ah\",\"way\",\"ever\",\"look\",\"tweet\",\"followers\",\"should\",\"our\",\"xd\",\"aja\",\"esta\",\"school\",\"him\",\"ser\",\"take\",\"than\",\"video\",\"em\",\"last\",\"wanna\",\"does\",\"us\",\"miss\",\"l\",\"ga\",\"better\",\"well\",\"could\",\"\\u25bd\",\"%\",\"apa\",\"cuando\",\"team\",\"\\u2714\",\"@\",\"ok\",\"\\u061f\",\"\\u2022\",\"vida\",\"quiero\",\"les\",\"being\",\"real\",\"down\",\"kamu\",\"everyone\",\"gonna\",\"live\",\"tonight\",\"yes\",\"work\",\"ass\",\"retweet\",\"nada\",\"sama\",\"first\",\"<<\",\"photo\",\"tomorrow\",\"where\",\"god\",\"son\",\"ke\",\"ta\",\"f\",\"home\",\"lagi\",\"thank\",\"birthday\",\"\\u2588\",\"ha\",\"great\",\"lmao\",\"omg\",\"morning\",\"m\\u00e1s\",\"mau\",\"baby\",\"dont\",\"\\uff61\",\"their\",\"p\",\"things\",\"game\",\"pas\",\"bad\",\"year\",\"yeah\",\"su\",\"bitch\",\"\\u0432\",\"stop\",\"hoy\",\"something\",\"meu\",\"tak\",\"gak\",\"world\",\"amor\",\"h\",\"\\\\\",\"ver\",\"\\uff1b\",\"porque\",\"give\",\"these\",\"\\u0627\\u0644\\u0644\\u0647\\u0645\",\"were\",\"hay\",\"sleep\",\"gue\",\"every\",\"friends\",\"uma\",\"tell\",\"amo\",\"vou\",\"bien\",\"\\u00a1\",\"again\",\"\\uff3e\",\"\\uff0f\",\"done\",\"after\",\"todos\",\"girls\",\"guys\",\"getting\",\"big\",\"wait\",\"justin\",\"eh\",\"\\u2192\",\"kan\",\"kita\",\"jajaja\",\"wish\",\"said\",\"fucking\",\"show\",\"thing\",\"next\",\"voc\\u00ea\",\"nos\",\"little\",\"tengo\",\"keep\",\"person\",\"''\",\"\\u2200\",\"hope\",\"\\u0643\\u0644\",\"hey\",\"bisa\",\"free\",\"made\",\"foto\",\"va\",\"everything\",\"iya\",\"nigga\",\"eso\",\"et\",\"watch\",\"music\",\"week\",\"talk\",\"ne\",\"solo\",\"gente\",\"udah\",\"\\uff1a\",\"--\",\"\\uff3c\",\"mejor\",\"facebook\",\"ma\",\"v\",\"phone\",\"most\",\"same\",\"okay\",\"ik\",\"before\",\"minha\",\"days\",\"g\",\"ti\",\"damn\",\"nice\",\"voy\",\"vai\",\"call\",\"long\",\"tapi\",\"http\",\"sin\",\"nunca\",\"doing\",\"other\",\"find\",\"il\",\"sa\",\"sorry\",\"nya\",\"orang\",\"\\u00b0\",\"hard\",\"mean\",\"die\",\"\\u0627\\u0644\\u0644\\u064a\",\"tem\",\"soy\",\"este\",\"kalo\",\"s\\u00f3\",\"th\",\"win\",\"nothing\",\"into\",\"face\",\"cute\",\"'d\",\"gracias\",\"lah\",\"\\u0438\",\"any\",\"play\",\"\\u2190\",\"ko\",\"text\",\"\\u2323\",\"estoy\",\"tau\",\"ur\",\"buat\",\"#\",\"cause\",\"\\u044f\",\"put\",\"kau\",\"siempre\",\"juga\",\"casa\",\"\\u0623\\u0646\",\"help\",\"start\",\"feliz\",\"old\",\"ir\",\"very\",\"care\",\"bir\",\"makes\",\"song\",\"check\",\"watching\",\"ahora\",\"jadi\",\"os\",\"may\",\"friend\",\"beautiful\",\"heart\",\"ka\",\"vc\",\"mundo\",\"\\u043d\\u0430\",\"sure\",\"tan\",\"pretty\",\"aqui\",\"\\u043d\\u0435\",\"house\",\"\\u0631\\u062a\\u0648\\u064a\\u062a\",\"\\u064a\\u0627\",\"ja\",\"true\",\"muy\",\"away\",\"already\",\"actually\",\"believe\",\"try\",\"many\",\"ma\\u00f1ana\",\"mis\",\"lu\",\"those\",\"hot\",\"qu\\u00e9\",\"mal\",\"\\u0639\\u0646\",\"though\",\"ask\",\"amazing\",\"bed\",\"}\",\"two\",\"mom\",\"d\\u00eda\",\"ve\",\"dari\",\"gameinsight\",\"stay\",\"fun\",\"around\",\"van\",\"cont\",\"ready\",\"money\",\"bu\",\"funny\",\"cool\",\"hair\",\"\\u00e0\",\"tho\",\"{\",\"wo\",\"hi\",\"name\",\"tiene\",\"hahahaha\",\"pa\",\"algo\",\"gotta\",\"\\u0648\\u0644\\u0627\",\"boy\",\"another\",\"c'est\",\"hari\",\"jajajaja\",\"having\",\"cara\",\"jaja\",\"dm\",\"looking\",\"top\",\"android\",\"dah\",\"wow\",\"\\u2591\",\"eres\",\"ben\",\"must\",\"news\",\"met\",\"est\\u00e1\",\"nih\",\"family\",\"black\",\"thought\",\"nak\",\"super\",\"end\",\"hace\",\"remember\",\"ama\",\"party\",\"cant\",\"vamos\",\"anything\",\"anyone\",\"\\u0641\\u0648\\u0644\\u0648\",\"perfect\",\"guy\",\"vez\",\"christmas\",\"dos\",\"bueno\",\"nao\",\"years\",\"vote\",\"dormir\",\"bro\",\"else\",\"quien\",\"untuk\",\"jangan\",\"myself\",\"head\",\"mind\",\"gua\",\"talking\",\"while\",\"dat\",\"food\",\"\\u0434\",\"coming\",\"wkwk\",\"trying\",\"saya\",\"mucho\",\"without\",\"wrong\",\"\\u2019s\",\"baru\",\"__\",\"hehe\",\"hacer\",\"lot\",\"followed\",\"crazy\",\"hell\",\"feeling\",\"des\",\"kok\",\"j\",\"stats\",\"j'\",\"\\u0627\\u0646\",\"tweets\",\"non\",\"cosas\",\"era\",\"high\",\"niggas\",\"change\",\"movie\",\"xx\",\"mad\",\"sih\",\"sometimes\",\"deh\",\"allah\",\"through\",\"pour\",\"ela\",\"soon\",\"gone\",\"playing\",\"smile\",\"bukan\",\"tv\",\"fans\",\"hasta\",\"akan\",\"y'\",\"looks\",\"isso\",\"\\u270c\",\"tired\",\"boys\",\"might\",\"dong\",\"lg\",\"use\",\"maybe\",\"until\",\"menos\",\"own\",\"dengan\",\"eat\",\"ou\",\"weekend\",\"\\u02d8\",\"class\",\"ele\",\"harry\",\"iphone\",\"friday\",\"single\",\"ff\",\"awesome\",\"bout\",\"muito\",\"hoje\",\"\\u00ac\",\"dios\",\"such\",\"estar\",\"j\\u00e1\",\"quando\",\"esa\",\"making\",\"\\u2501\",\"times\",\"lmfao\",\"gw\",\"moment\",\"yet\",\"aw\",\"smh\",\"banget\",\"masih\",\"qui\",\"quem\",\"\\u2013\",\"leave\",\"du\",\"une\",\"guess\",\"hit\",\"\\u0441\",\"pm\",\"since\",\"pues\",\"est\",\"job\",\"\\uff89\",\"mana\",\"bom\",\"siapa\",\"suka\",\"bieber\",\"mention\",\"lebih\",\"favorite\",\"bitches\",\"forever\",\"\\u0644\\u064a\",\"final\",\"read\",\"alguien\",\"open\",\"yourself\",\"ese\",\"che\",\"sex\",\"yaa\",\"car\",\"direction\",\"tidak\",\"seu\",\"gets\",\"left\",\"re\",\"jam\",\"enough\",\"\\u0625\\u0644\\u0627\",\"once\",\"\\u2019\",\"part\",\"cada\",\"\\u5b9a\\u671f\",\"\\u0644\\u0643\",\"een\",\"seen\",\"kak\",\"as\\u00ed\",\"nem\",\"\\u0639\\u0645\\u0644\",\"white\",\"told\",\"says\",\"esto\",\"sad\",\"mo\",\"fue\",\"yah\",\"summer\",\"\\u0647\",\"\\u2b55\",\"\\u00bb\",\"thats\",\"\\u0645\\u0639\",\"posted\",\"wants\",\"agora\",\"together\",\"fan\",\"men\",\"hear\",\"full\",\"\\u2600\",\"sigo\",\"pq\",\"dulu\",\"plus\",\"foi\",\"tudo\",\"\\u0647\\u0648\",\"ill\",\"\\u3042\",\"thinking\",\"wtf\",\"pagi\",\"mama\",\"kalau\",\"hati\",\"sexy\",\"sayang\",\"baik\",\"semua\",\"hola\",\"went\",\"vos\",\"tanto\",\"finally\",\"fb\",\"sea\",\"stupid\",\"tus\",\"seriously\",\"hora\",\"min\",\"pic\",\"estas\",\"turn\",\"hours\",\"excited\",\"nah\",\"buy\",\"saying\",\"mah\",\"break\",\"needs\",\"ce\",\"room\",\"choice\",\"far\",\"dead\",\"quero\",\"saw\",\"kids\",\"lil\",\"whole\",\"puede\",\"fall\",\"sus\",\"lost\",\"asi\",\"word\",\"\\u2639\",\"also\",\"\\u0631\\u064a\\u062a\\u0648\\u064a\\u062a\",\"probably\",\"everybody\",\"tarde\",\"run\",\"sei\",\"follback\",\"forget\",\"sweet\",\"welcome\",\"selamat\",\"\\uff3f\",\"sur\",\"place\",\"gusta\",\"sabe\",\"androidgames\",\"tp\",\"tiempo\",\"\\u0628\\u0633\",\"sou\",\"tuh\",\"vs\",\"eyes\",\"\\u0627\\u0646\\u0627\",\"picture\",\"das\",\"meet\",\"anak\",\"persona\",\"essa\",\"bored\",\"following\",\"nadie\",\"nobody\",\"dice\",\"alone\",\"sick\",\"red\",\"city\",\"cinta\",\"\\u6708\",\"linda\",\"dream\",\"story\",\"km\",\"het\",\"waiting\",\"^_^\",\"mine\",\"\\u0447\\u0442\\u043e\",\"reason\",\"kk\",\"\\u0644\\u0648\",\"online\",\"fast\",\"udh\",\"wanted\",\"op\",\"others\",\"gay\",\"n\\u2019t\",\"used\",\"sem\",\"understand\",\"moi\",\"sm\",\"aint\",\"donde\",\"bem\",\"which\",\"ng\",\"followback\",\"punya\",\"late\",\"anda\",\"tidur\",\"puedo\",\"early\",\"nd\",\"personas\",\"banyak\",\"\\u2705\",\"\\u278a\",\"trust\",\"noche\",\"tl\",\"\\uff1e\",\"\\u00ab\",\"af\",\"move\",\"pro\",\"bring\",\"ku\",\"called\",\"relationship\",\"idk\",\"hurt\",\"st\",\"pernah\",\"pessoas\",\"hello\",\"uno\",\"unfollowers\",\"cry\"],\"x\":{\"__ndarray__\":\"o73GPq1Jmz5Rqfs+SyPKPmnvqz7E5dk+S1tWPgVPqT6msJk+CYmMPg73jL/ogQK9H2HJPlKRor+UkqM+zuyqv+LRgb8crxc/23YOPwQqLz+5hBk/bmFjval9vT8tr8I+Yx2FPjea1j/ks7S/1eQYPogv0D6fO6O/aEabPp9Ghz6c9Ke/d8q2v08kCz/fNIy/MeQNP5XBj78uafU+yNeivw39nz90toW/6/ULPxM1Er8aWMW/O77Vvww1bb+vSZo/AC60PjSIPz+Rj3k/axZhvmHrqD8QHLG/trCkPzoXVr9BIJ6/UvGZv97ap7/B9bi/P0yWPr6fvb82ohg/91qTv8lsw7+E3cU/HcSAvwMcpD5hPEq/KCrNP2rCor8fyac+WnazPjUJWT7DI7i/a4Sdv0HASD4SLbk+6umpvzyKu7+EuH6/98fAP21DJT+MsbG+kTZPvqj1jL+caaa/KHC7v13GN79Vj6c/6qpNPxPGxj9Ows6//SO0v9Pjkz6W5Mo9w4FNv3JG0z/a87c/+Uqcv3HOPj9qjp8/b0+kv+APFj98K8g/q7w7P/WngT+kGx2/d1alP/cX27//B5a/Wv5rv/XHrz8qT9s/isuhP/0Uq78Z7SI8FuWHv02mvz/0QEy/PSXRPmQitr9bUFG/oPzUPhgi976oiWq/DPq0vz4br7+tsqC/mlyfv0hmrr8bYvk+yFiXP7AKnb/NXUU//g9GvxirvT785tM+SFYIP5zyLj+qd7W/zzYCPwzttz+Oyae/TN6mP/dsir/NL8E+hH6uv5bjmr90DrU+CEOFvYmyHj9J01S/YMiLv6UaoD+j/BE/rpyKv5/ehz+ok50/nNUEP3iB7j4Xnrw+KanZPpj9i78CKpu/APL3PhXCOr89vNo/vvqSv6fTRT+GCK0/ChqZv8wGOb8BeSY/vBcOP/SIwb9vmkA/oewDvzFPjb/SSNM/9REPP6H8f79Pz7i/sOCRv0tiEj8Wp5O/Fq+/vxgYuz5NxyU+yC+0PxBWkr9SBqe/WziTPukIML5WCAM/qKa6v5bUwr8O75s/LJjoPg2zFT+OkRO/FbJHPixPmb9OsmK/mO1wP4fksz8XlJg+gRagPwgjqb/y60q/D38LPwp0uL/+2aE/irKuP7gTo7+hHzi/YIFePyE2rb9lPj8+9pDZPlnOhj7guqm/DSQIP8GobD+GI6w/buMNv7Isc78baz8/yfTEv7/Ijr+BXq0/YJZDvz0tqL/r90g/cGoeP/hXXL8SH1m+a+QAP8I3qb+cd6y/hmiqv0B7BT8vs0Y/eMYkv6X7eT+NRZ2/miYLvzk1v79fO7S/Tjasv3EeKD8X65M/UFazPh0H3z7y/4+/G4MYP6EstT+R8pe/YO5svzIM1j1Jeay/ZOWlP46C1D862aA/k32Xv/n/iL9TJyM/yOC6v9bhPT9EOyy/SNgQPyl8ir9rZI2/S/6Cv7tc070Yyrq9Kj25v9aJnb/gxTQ/i3hdPwOh0D/wrH6/2e6uv3k81D+F54m/E42qv8pctby/7sY+qlCEvzXEnL8+oLi/Frx1v9KD8L6yULo+N1QNP0bspb+OuJe/yHu/v74qHj8iLaI+vrEzP0H9yz+sXdK+BcnZPvlrcz6p2h0+dQiHP5u8JD9iT9M/gN2/P+MPhT/3q7a/FQ+xvnykb7+WBU0/KGusv9ILs79cBtm+mTqSvwP5KL8vYZ+/Ac+Qv6PU+731DtY/dcQuP8t8kr+XMje+Myyjvpa9kL/fR5y/mmlZvzDTCz+7blY/VSRzP17VXD73L0i/YmwaP76aW78bee6+kcwmP92Y2j5QfJe/tzqDv+sz3r7Bd0O/yNXTP5wbXT9B09y+k3CKv/vUHz9Zyb+/pZAgP5QCiL/DZS2/77Y0P8dKX78akIa/e8YzvydSrD8/3E6/lcrqPtrMVr/GNsA/zyGfvyCZmj8tseo+IH5FPyIcRL/DYuI/5lXyPruLRD9K6bg/7PkVPxUu3D8FT5G/P3q4vzgyqD9HW7a/t7GjP1rkir/NdzQ/go2vv7v5Y7+dzpQ//C6av94gqj/yKKM/zam8P1nvpj/w73i/wIkkP6L+wT7kFX6/EriRv+jq2j/t0XK/Y2KGv72htb/4yiC/lCh5v1pAFT5e7E8/DzAhP9GPFz9L6RY/WDy7P/tYbr/WipW/fFyBvy8Rwb6JBqC/DS9yv9RTvT/H7r8/9Y9Rv/fvvT/rPX6/U9mWvyrLXT88n0I/lY2Nv/Mymj/Gjw2+5bQ1P5iRFL+slou/DBS0P1KFlD+a3Z+/POA/P3QDhb+VV8o/7d3IPiD2hr8wzg6/WARyvyYqk7/+wUc/SB+KP93/2D9O8EM/B96BPhm+tT5e3Rc/NvLEP+5Qaz4e6Xc+QaLEPqT9Sr9ieZi/BJiJv4mtAr87nye+JL+fvxVdnj92gYi/kPSiPispqD9MY4q/7elPv6yLvz/3tKQ/N+FIvyV2YL9o7ig/JQaoPs61fT8ERN4/GW6tv+sUsL/VOY6/wpvlPkYNfj5NBdW+lGIgP0crKD8vxm4/IKhnv6d8jL8x/uy+0cOrPzcpoD/kjKs/A/7PP3s/PT9Zm6U/HP02vxFfR7+tu42/QVKlv1fJjL42xD6/07d0v0PguD9eQLs+NekoP/Wpmb8ZEh+/Ijc2P2rGgz4k1F+/egwdP9lDvz+3cjU/bECNv0XOCz+LXck+7+2Pv/I7GD/0cXG/xo7lPhSIzT8TFkI/9J65P4eFqT9YKU+/uXmCvx4U2j8lwYG/DnmwPxRYgb+joUq/tx5EP/hYlb/CEje/eV43v/eEj78lBb8/Ac0wP1l4mj9C2yi/HsZMv7SdT7/z7Ti/eRO0PvSMlD8ehdQ/FZsDP4MEgb++XW4/eyqAv6Nzxj9DYkU/Tmw9vzrdmT8Shoc/Ku2NP7JzOL/82sE/6bqJv9Dapb+/26+/zMAkv3yagr/HGqS/UdO6P5UpkT96bno/iJG2v4EiAr+o48s/gqzDPxgiuT/nQay/qpGBvtBKf7/LoX6/3dwWP8Tnh7+8n2e/kPnTP/sijj/DKR0/nc+UPT3nT7+mXEq/Du2dvwGTIj+yJrM+uJg2v1MwZL9wFjQ/3G6Mv8vaAr9QmmK/PaREP1kagb9MhxQ/W5Q/v3m5Mb5m02O/o8zCP/kYpD6YA2k/B4jfP4Wumb99+q8/aa7zvpRTi78Wdfw+jaESP7ntuT/viqy/ltu6P7Cdvj+dTKQ+EhCdv6lnKb5PPYU+SFemPhStib7DbTw/s2nFPyDJiT6dcoa/1NOuvvsMob6fKs4/0x8qP16tN7/jLvq+5kyvv6L4mz4SQ4w+OIpavyfWwj+OiYC/NE+WP6C06L47fYy/NYXDP8VOrb/ST6W/alOWP06QL7+t/4+/wIzWPynLZL8Hm60/9mqxPw27mT/bH4O/0qINvmh61D/TXpW+VvSgv0jo0z8NACc/pGk2PwQ5qL/tA42/HkaIv/cmQT/XlZy/uxmiv79EPL9AEXC/8WpZPzTUgb/Sdz4/gmGxv8iiDD+2crg/14Gcvzocor8Ex2e/7cMZP8NdAz+dMqw+JEjIP3oiib8gbdm+VqRkv8Jner8oZ16/lswnP60zRD8b6XM+1Cr7vjk2+z6fkas/yyO5vWjD4z5WatU/uT2SPzd1Rb/In5S/zQ94vznsJL9DWw++JQFsv6gQMz/s3Zm/ysoMPz0iYT5EIae/XSZVPmiPoz+/E1u/E7GZv1D+ar/mqhO/noIvP9UWBD4FSS++iwnHP/yGND+0VFS/cMCEvzenqj9ZkZc9VvuOv4H/Or//orO/stwOP6DRFD9CgDm/HxVXv0zcoL8GlOM/YEhrvzEZFD9YqYm/P09QP/z7Kr9lNSA/PtZvv8J8pj/tI8Y9CO9XPnZPMb9RQ92+EgUIP64lWL8/pYO/ycSdPxmpoT90HK0/hbPFPyv+kb+cVd8/MParP5odqT9JNsM/me+Uv7wVMj9ZSWG/FodQvyuqGz9DhRC/8dScv0BiFD1WPny/in0sPwOcND+8OUI/GD20P3xrRj45GJG/S3bWPi7pKj+Ft42/cgVHv3x+AT8V1YM9zsyKv8Xcvz8g/O8+x+9Ov/c2JD+gBls/6SuaP6fiOj+XLyE/HekUPsSZ/LxI4i0/Q7Usv5fzUr9ytcS+hzqkP7/1Bj8Wv2G/gu7TP0Ov+L46ZZS/IbSxP902gj/32ya/+gs3P3bWKL9cUKc9+V1DP2YHpD9tapK/SMCPv3mdEz+f1Rs+N2igv1O+uT/0bDa/U3FHPrxaCr+0eNg/Rn0RPwPzmT88t6Y9ynmBv8YFGT/v/9Q/J5qXP5yrlT/2/Dq/wpydv2kydr+/wcc/GgFZv8DKhD7jDb8/T5hqPtaOO7+nB6Q/5dO1PpHLOD+WeJi/uyLBP9XjMr/aHGe/4n6ZPwTch78cTQy+1jmTvjVamb/OYZy+QxKNPq8dzj+prLc/R4kpPxBKob0CwJk/4L+xP6nkrD/u9pu/ta14P0bIlb+ekdG+TwM6P7J/zD6omAc/l882P/IzJz2KchE/c1g3P0lIEj+kqZc/WeOavxOswj8WrtQ/sVJ3v9TrzD7eWjs/CFCTv9QEyT/Nr4y/imDUP53b0j4LpMu+7GfHP++tc7/eSoy/+Xlgv9QcBTt8u36/gJ+Wv+/uyD6lZTW/8rBXv6VVRz+mNHO/UYO1vrSpQ7+ZKQu/BoOgP6XWPb/JYUy/0UJHv4hFp79nh88/TeZZv3ftnT9B/WS/F0HLP/NfRr9TMUM/k+eIv8YhbD+CAra/kkWFvzRR3T+4nTW/Ni6oP1JVMz+qAH2/ZP4Gv5KGwL7LrCo/ZNxSPxCvKz95e1e/ezqoP2ML1D/iq5c+pNIjP9yTzD8G560/3KiWP0KSGT8q/J8+DpFrvx8vlD8/S3u/4YCDP+CGGb/AQj0/PbqqPwd4lz8Km1S/Z/8rvxn30j91g4e/SAKUP4Dh7r5phoK/Wl8pvppQm74geGw/BUPGPjLapD/ciCK/WLrmvrE9Wj9YFg0+LaRwv7m2eT5hM1q/X9M8P7Wvj79dQGc/gOCnP2LKl7zMeCu/+m86P/+5Lr9n8Sc+t5BQv1AvD72PQJy/4jSSvxJqiD8BQ5i/cV4IPyW70z7cyJW/llHLPxc/rz+A85+/8ZUcPojq/T42hyY/LrEnv94UtD/7YUM/j/DAP8V5j79PHMq+OYPEP+/yIT/5UMg+/OsUP14Eg7+Ai8A/60ivPjFkDT/w8zk/aYwrvvw0GL/ITw8/MfiDv7WMFj8rMJG/C0mHvyX9QL8QlZa/0HzfvhR4MD/HW6w/h/ATvkk1hz/GdgW91n1Vvw==\",\"dtype\":\"float32\",\"shape\":[1000]},\"y\":{\"__ndarray__\":\"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\",\"dtype\":\"float32\",\"shape\":[1000]}}},\"id\":\"f9ff02e5-d89d-46ca-bec6-10719c2973b0\",\"type\":\"ColumnDataSource\"},{\"attributes\":{},\"id\":\"123bcb1e-3441-4d43-a259-5d07b6263526\",\"type\":\"PanTool\"}],\"root_ids\":[\"06418415-7cd1-44f1-94e2-e5af00639404\"]},\"title\":\"Bokeh Application\",\"version\":\"0.12.10\"}};\n",
       "    var render_items = [{\"docid\":\"62b54ede-b757-44aa-99e7-d325911b6736\",\"elementid\":\"03a926a7-79ac-4b29-8c9c-4ed32b803fd9\",\"modelid\":\"06418415-7cd1-44f1-94e2-e5af00639404\"}];\n",
       "\n",
       "    root.Bokeh.embed.embed_items(docs_json, render_items);\n",
       "  }\n",
       "\n",
       "  if (root.Bokeh !== undefined) {\n",
       "    embed_document(root);\n",
       "  } else {\n",
       "    var attempts = 0;\n",
       "    var timer = setInterval(function(root) {\n",
       "      if (root.Bokeh !== undefined) {\n",
       "        embed_document(root);\n",
       "        clearInterval(timer);\n",
       "      }\n",
       "      attempts++;\n",
       "      if (attempts > 100) {\n",
       "        console.log(\"Bokeh: ERROR: Unable to embed document because BokehJS library is missing\")\n",
       "        clearInterval(timer);\n",
       "      }\n",
       "    }, 10, root)\n",
       "  }\n",
       "})(window);"
      ],
      "application/vnd.bokehjs_exec.v0+json": ""
     },
     "metadata": {
      "application/vnd.bokehjs_exec.v0+json": {
       "id": "06418415-7cd1-44f1-94e2-e5af00639404"
      }
     },
     "output_type": "display_data"
    },
    {
     "data": {
      "text/html": [
       "<div style=\"display: table;\"><div style=\"display: table-row;\"><div style=\"display: table-cell;\"><b title=\"bokeh.plotting.figure.Figure\">Figure</b>(</div><div style=\"display: table-cell;\">id&nbsp;=&nbsp;'06418415-7cd1-44f1-94e2-e5af00639404', <span id=\"6ea251e2-eda6-4f9d-878c-21d12882a7cb\" style=\"cursor: pointer;\">&hellip;)</span></div></div><div class=\"eabe31bd-2efd-42e2-85ee-c31fda2b1885\" style=\"display: none;\"><div style=\"display: table-cell;\"></div><div style=\"display: table-cell;\">above&nbsp;=&nbsp;[],</div></div><div class=\"eabe31bd-2efd-42e2-85ee-c31fda2b1885\" style=\"display: none;\"><div style=\"display: table-cell;\"></div><div style=\"display: table-cell;\">aspect_scale&nbsp;=&nbsp;1,</div></div><div class=\"eabe31bd-2efd-42e2-85ee-c31fda2b1885\" style=\"display: none;\"><div style=\"display: table-cell;\"></div><div style=\"display: table-cell;\">background_fill_alpha&nbsp;=&nbsp;{'value': 1.0},</div></div><div class=\"eabe31bd-2efd-42e2-85ee-c31fda2b1885\" style=\"display: none;\"><div style=\"display: table-cell;\"></div><div style=\"display: table-cell;\">background_fill_color&nbsp;=&nbsp;{'value': '#ffffff'},</div></div><div class=\"eabe31bd-2efd-42e2-85ee-c31fda2b1885\" style=\"display: none;\"><div style=\"display: table-cell;\"></div><div style=\"display: table-cell;\">below&nbsp;=&nbsp;[LinearAxis(id='4551d3df-bd99-4aa2-97f4-1fbf218a31b3', ...)],</div></div><div class=\"eabe31bd-2efd-42e2-85ee-c31fda2b1885\" style=\"display: none;\"><div style=\"display: table-cell;\"></div><div style=\"display: table-cell;\">border_fill_alpha&nbsp;=&nbsp;{'value': 1.0},</div></div><div class=\"eabe31bd-2efd-42e2-85ee-c31fda2b1885\" style=\"display: none;\"><div style=\"display: table-cell;\"></div><div style=\"display: table-cell;\">border_fill_color&nbsp;=&nbsp;{'value': '#ffffff'},</div></div><div class=\"eabe31bd-2efd-42e2-85ee-c31fda2b1885\" style=\"display: none;\"><div style=\"display: table-cell;\"></div><div style=\"display: table-cell;\">css_classes&nbsp;=&nbsp;None,</div></div><div class=\"eabe31bd-2efd-42e2-85ee-c31fda2b1885\" style=\"display: none;\"><div style=\"display: table-cell;\"></div><div style=\"display: table-cell;\">disabled&nbsp;=&nbsp;False,</div></div><div class=\"eabe31bd-2efd-42e2-85ee-c31fda2b1885\" style=\"display: none;\"><div style=\"display: table-cell;\"></div><div style=\"display: table-cell;\">extra_x_ranges&nbsp;=&nbsp;{},</div></div><div class=\"eabe31bd-2efd-42e2-85ee-c31fda2b1885\" style=\"display: none;\"><div style=\"display: table-cell;\"></div><div style=\"display: table-cell;\">extra_y_ranges&nbsp;=&nbsp;{},</div></div><div class=\"eabe31bd-2efd-42e2-85ee-c31fda2b1885\" style=\"display: none;\"><div style=\"display: table-cell;\"></div><div style=\"display: table-cell;\">h_symmetry&nbsp;=&nbsp;True,</div></div><div class=\"eabe31bd-2efd-42e2-85ee-c31fda2b1885\" style=\"display: none;\"><div style=\"display: table-cell;\"></div><div style=\"display: table-cell;\">height&nbsp;=&nbsp;None,</div></div><div class=\"eabe31bd-2efd-42e2-85ee-c31fda2b1885\" style=\"display: none;\"><div style=\"display: table-cell;\"></div><div style=\"display: table-cell;\">hidpi&nbsp;=&nbsp;True,</div></div><div class=\"eabe31bd-2efd-42e2-85ee-c31fda2b1885\" style=\"display: none;\"><div style=\"display: table-cell;\"></div><div style=\"display: table-cell;\">js_event_callbacks&nbsp;=&nbsp;{},</div></div><div class=\"eabe31bd-2efd-42e2-85ee-c31fda2b1885\" style=\"display: none;\"><div style=\"display: table-cell;\"></div><div style=\"display: table-cell;\">js_property_callbacks&nbsp;=&nbsp;{},</div></div><div class=\"eabe31bd-2efd-42e2-85ee-c31fda2b1885\" style=\"display: none;\"><div style=\"display: table-cell;\"></div><div style=\"display: table-cell;\">left&nbsp;=&nbsp;[LinearAxis(id='ec9c36f9-1572-4cde-9975-409975a5c090', ...)],</div></div><div class=\"eabe31bd-2efd-42e2-85ee-c31fda2b1885\" style=\"display: none;\"><div style=\"display: table-cell;\"></div><div style=\"display: table-cell;\">lod_factor&nbsp;=&nbsp;10,</div></div><div class=\"eabe31bd-2efd-42e2-85ee-c31fda2b1885\" style=\"display: none;\"><div style=\"display: table-cell;\"></div><div style=\"display: table-cell;\">lod_interval&nbsp;=&nbsp;300,</div></div><div class=\"eabe31bd-2efd-42e2-85ee-c31fda2b1885\" style=\"display: none;\"><div style=\"display: table-cell;\"></div><div style=\"display: table-cell;\">lod_threshold&nbsp;=&nbsp;2000,</div></div><div class=\"eabe31bd-2efd-42e2-85ee-c31fda2b1885\" style=\"display: none;\"><div style=\"display: table-cell;\"></div><div style=\"display: table-cell;\">lod_timeout&nbsp;=&nbsp;500,</div></div><div class=\"eabe31bd-2efd-42e2-85ee-c31fda2b1885\" style=\"display: none;\"><div style=\"display: table-cell;\"></div><div style=\"display: table-cell;\">match_aspect&nbsp;=&nbsp;False,</div></div><div class=\"eabe31bd-2efd-42e2-85ee-c31fda2b1885\" style=\"display: none;\"><div style=\"display: table-cell;\"></div><div style=\"display: table-cell;\">min_border&nbsp;=&nbsp;5,</div></div><div class=\"eabe31bd-2efd-42e2-85ee-c31fda2b1885\" style=\"display: none;\"><div style=\"display: table-cell;\"></div><div style=\"display: table-cell;\">min_border_bottom&nbsp;=&nbsp;None,</div></div><div class=\"eabe31bd-2efd-42e2-85ee-c31fda2b1885\" style=\"display: none;\"><div style=\"display: table-cell;\"></div><div style=\"display: table-cell;\">min_border_left&nbsp;=&nbsp;None,</div></div><div class=\"eabe31bd-2efd-42e2-85ee-c31fda2b1885\" style=\"display: none;\"><div style=\"display: table-cell;\"></div><div style=\"display: table-cell;\">min_border_right&nbsp;=&nbsp;None,</div></div><div class=\"eabe31bd-2efd-42e2-85ee-c31fda2b1885\" style=\"display: none;\"><div style=\"display: table-cell;\"></div><div style=\"display: table-cell;\">min_border_top&nbsp;=&nbsp;None,</div></div><div class=\"eabe31bd-2efd-42e2-85ee-c31fda2b1885\" style=\"display: none;\"><div style=\"display: table-cell;\"></div><div style=\"display: table-cell;\">name&nbsp;=&nbsp;None,</div></div><div class=\"eabe31bd-2efd-42e2-85ee-c31fda2b1885\" style=\"display: none;\"><div style=\"display: table-cell;\"></div><div style=\"display: table-cell;\">outline_line_alpha&nbsp;=&nbsp;{'value': 1.0},</div></div><div class=\"eabe31bd-2efd-42e2-85ee-c31fda2b1885\" style=\"display: none;\"><div style=\"display: table-cell;\"></div><div style=\"display: table-cell;\">outline_line_cap&nbsp;=&nbsp;'butt',</div></div><div class=\"eabe31bd-2efd-42e2-85ee-c31fda2b1885\" style=\"display: none;\"><div style=\"display: table-cell;\"></div><div style=\"display: table-cell;\">outline_line_color&nbsp;=&nbsp;{'value': '#e5e5e5'},</div></div><div class=\"eabe31bd-2efd-42e2-85ee-c31fda2b1885\" style=\"display: none;\"><div style=\"display: table-cell;\"></div><div style=\"display: table-cell;\">outline_line_dash&nbsp;=&nbsp;[],</div></div><div class=\"eabe31bd-2efd-42e2-85ee-c31fda2b1885\" style=\"display: none;\"><div style=\"display: table-cell;\"></div><div style=\"display: table-cell;\">outline_line_dash_offset&nbsp;=&nbsp;0,</div></div><div class=\"eabe31bd-2efd-42e2-85ee-c31fda2b1885\" style=\"display: none;\"><div style=\"display: table-cell;\"></div><div style=\"display: table-cell;\">outline_line_join&nbsp;=&nbsp;'miter',</div></div><div class=\"eabe31bd-2efd-42e2-85ee-c31fda2b1885\" style=\"display: none;\"><div style=\"display: table-cell;\"></div><div style=\"display: table-cell;\">outline_line_width&nbsp;=&nbsp;{'value': 1},</div></div><div class=\"eabe31bd-2efd-42e2-85ee-c31fda2b1885\" style=\"display: none;\"><div style=\"display: table-cell;\"></div><div style=\"display: table-cell;\">output_backend&nbsp;=&nbsp;'canvas',</div></div><div class=\"eabe31bd-2efd-42e2-85ee-c31fda2b1885\" style=\"display: none;\"><div style=\"display: table-cell;\"></div><div style=\"display: table-cell;\">plot_height&nbsp;=&nbsp;400,</div></div><div class=\"eabe31bd-2efd-42e2-85ee-c31fda2b1885\" style=\"display: none;\"><div style=\"display: table-cell;\"></div><div style=\"display: table-cell;\">plot_width&nbsp;=&nbsp;600,</div></div><div class=\"eabe31bd-2efd-42e2-85ee-c31fda2b1885\" style=\"display: none;\"><div style=\"display: table-cell;\"></div><div style=\"display: table-cell;\">renderers&nbsp;=&nbsp;[LinearAxis(id='4551d3df-bd99-4aa2-97f4-1fbf218a31b3', ...), Grid(id='383a730a-fa02-4c63-be21-85b73d8e1e57', ...), LinearAxis(id='ec9c36f9-1572-4cde-9975-409975a5c090', ...), Grid(id='2b313e11-0b75-44f5-a4bf-152fb83e269e', ...), BoxAnnotation(id='b7ff269a-d974-4f0c-a7e5-c86cbb5f14b4', ...), GlyphRenderer(id='25071a45-586d-4588-bbd0-6b75e279125e', ...)],</div></div><div class=\"eabe31bd-2efd-42e2-85ee-c31fda2b1885\" style=\"display: none;\"><div style=\"display: table-cell;\"></div><div style=\"display: table-cell;\">right&nbsp;=&nbsp;[],</div></div><div class=\"eabe31bd-2efd-42e2-85ee-c31fda2b1885\" style=\"display: none;\"><div style=\"display: table-cell;\"></div><div style=\"display: table-cell;\">sizing_mode&nbsp;=&nbsp;'fixed',</div></div><div class=\"eabe31bd-2efd-42e2-85ee-c31fda2b1885\" style=\"display: none;\"><div style=\"display: table-cell;\"></div><div style=\"display: table-cell;\">subscribed_events&nbsp;=&nbsp;[],</div></div><div class=\"eabe31bd-2efd-42e2-85ee-c31fda2b1885\" style=\"display: none;\"><div style=\"display: table-cell;\"></div><div style=\"display: table-cell;\">tags&nbsp;=&nbsp;[],</div></div><div class=\"eabe31bd-2efd-42e2-85ee-c31fda2b1885\" style=\"display: none;\"><div style=\"display: table-cell;\"></div><div style=\"display: table-cell;\">title&nbsp;=&nbsp;Title(id='e35da434-1ff8-4cfb-8cd8-f961af065706', ...),</div></div><div class=\"eabe31bd-2efd-42e2-85ee-c31fda2b1885\" style=\"display: none;\"><div style=\"display: table-cell;\"></div><div style=\"display: table-cell;\">title_location&nbsp;=&nbsp;'above',</div></div><div class=\"eabe31bd-2efd-42e2-85ee-c31fda2b1885\" style=\"display: none;\"><div style=\"display: table-cell;\"></div><div style=\"display: table-cell;\">toolbar&nbsp;=&nbsp;Toolbar(id='efd662ec-9b62-4ec1-8995-de2880a76bc8', ...),</div></div><div class=\"eabe31bd-2efd-42e2-85ee-c31fda2b1885\" style=\"display: none;\"><div style=\"display: table-cell;\"></div><div style=\"display: table-cell;\">toolbar_location&nbsp;=&nbsp;'right',</div></div><div class=\"eabe31bd-2efd-42e2-85ee-c31fda2b1885\" style=\"display: none;\"><div style=\"display: table-cell;\"></div><div style=\"display: table-cell;\">toolbar_sticky&nbsp;=&nbsp;True,</div></div><div class=\"eabe31bd-2efd-42e2-85ee-c31fda2b1885\" style=\"display: none;\"><div style=\"display: table-cell;\"></div><div style=\"display: table-cell;\">v_symmetry&nbsp;=&nbsp;False,</div></div><div class=\"eabe31bd-2efd-42e2-85ee-c31fda2b1885\" style=\"display: none;\"><div style=\"display: table-cell;\"></div><div style=\"display: table-cell;\">width&nbsp;=&nbsp;None,</div></div><div class=\"eabe31bd-2efd-42e2-85ee-c31fda2b1885\" style=\"display: none;\"><div style=\"display: table-cell;\"></div><div style=\"display: table-cell;\">x_range&nbsp;=&nbsp;DataRange1d(id='c8d1b494-03f7-473d-9595-268403549806', ...),</div></div><div class=\"eabe31bd-2efd-42e2-85ee-c31fda2b1885\" style=\"display: none;\"><div style=\"display: table-cell;\"></div><div style=\"display: table-cell;\">x_scale&nbsp;=&nbsp;LinearScale(id='91b29e64-35ba-4e5b-b11f-49a75527b4cc', ...),</div></div><div class=\"eabe31bd-2efd-42e2-85ee-c31fda2b1885\" style=\"display: none;\"><div style=\"display: table-cell;\"></div><div style=\"display: table-cell;\">y_range&nbsp;=&nbsp;DataRange1d(id='6343692a-9344-4d47-87b6-95780ea030ab', ...),</div></div><div class=\"eabe31bd-2efd-42e2-85ee-c31fda2b1885\" style=\"display: none;\"><div style=\"display: table-cell;\"></div><div style=\"display: table-cell;\">y_scale&nbsp;=&nbsp;LinearScale(id='ce8d9e67-7a9e-4d11-a1bc-babce835552d', ...))</div></div></div>\n",
       "<script>\n",
       "(function() {\n",
       "  var expanded = false;\n",
       "  var ellipsis = document.getElementById(\"6ea251e2-eda6-4f9d-878c-21d12882a7cb\");\n",
       "  ellipsis.addEventListener(\"click\", function() {\n",
       "    var rows = document.getElementsByClassName(\"eabe31bd-2efd-42e2-85ee-c31fda2b1885\");\n",
       "    for (var i = 0; i < rows.length; i++) {\n",
       "      var el = rows[i];\n",
       "      el.style.display = expanded ? \"none\" : \"table-row\";\n",
       "    }\n",
       "    ellipsis.innerHTML = expanded ? \"&hellip;)\" : \"&lsaquo;&lsaquo;&lsaquo;\";\n",
       "    expanded = !expanded;\n",
       "  });\n",
       "})();\n",
       "</script>\n"
      ],
      "text/plain": [
       "Figure(id='06418415-7cd1-44f1-94e2-e5af00639404', ...)"
      ]
     },
     "execution_count": 20,
     "metadata": {},
     "output_type": "execute_result"
    }
   ],
   "source": [
    "draw_vectors(word_vectors_pca[:, 0], word_vectors_pca[:, 1], token=words)\n",
    "\n",
    "# hover a mouse over there and see if you can identify the clusters"
   ]
  },
  {
   "cell_type": "markdown",
   "metadata": {},
   "source": [
    "### Visualizing neighbors with t-SNE\n",
    "PCA is nice but it's strictly linear and thus only able to capture coarse high-level structure of the data.\n",
    "\n",
    "If we instead want to focus on keeping neighboring points near, we could use TSNE, which is itself an embedding method. Here you can read __[more on TSNE](https://distill.pub/2016/misread-tsne/)__."
   ]
  },
  {
   "cell_type": "code",
   "execution_count": 21,
   "metadata": {},
   "outputs": [
    {
     "name": "stdout",
     "output_type": "stream",
     "text": [
      "[t-SNE] Computing 91 nearest neighbors...\n",
      "[t-SNE] Indexed 1000 samples in 0.006s...\n",
      "[t-SNE] Computed neighbors for 1000 samples in 0.251s...\n",
      "[t-SNE] Computed conditional probabilities for sample 1000 / 1000\n",
      "[t-SNE] Mean sigma: 1.716134\n",
      "[t-SNE] Computed conditional probabilities in 0.055s\n",
      "[t-SNE] Iteration 50: error = 68.3340912, gradient norm = 0.3116019 (50 iterations in 25.176s)\n",
      "[t-SNE] Iteration 100: error = 68.6465836, gradient norm = 0.2843233 (50 iterations in 24.413s)\n",
      "[t-SNE] Iteration 150: error = 68.6829681, gradient norm = 0.2950920 (50 iterations in 28.873s)\n",
      "[t-SNE] Iteration 200: error = 69.6979752, gradient norm = 0.2776084 (50 iterations in 26.071s)\n",
      "[t-SNE] Iteration 250: error = 68.7031326, gradient norm = 0.3088475 (50 iterations in 29.980s)\n",
      "[t-SNE] KL divergence after 250 iterations with early exaggeration: 68.703133\n",
      "[t-SNE] Iteration 300: error = 1.2312186, gradient norm = 0.0022563 (50 iterations in 21.637s)\n",
      "[t-SNE] Iteration 350: error = 1.0996958, gradient norm = 0.0016152 (50 iterations in 17.747s)\n",
      "[t-SNE] Iteration 400: error = 1.0720652, gradient norm = 0.0003195 (50 iterations in 17.621s)\n",
      "[t-SNE] Iteration 450: error = 1.0572655, gradient norm = 0.0002041 (50 iterations in 17.689s)\n",
      "[t-SNE] Iteration 500: error = 1.0482038, gradient norm = 0.0001724 (50 iterations in 17.845s)\n",
      "[t-SNE] Iteration 550: error = 1.0430274, gradient norm = 0.0001498 (50 iterations in 18.665s)\n",
      "[t-SNE] Iteration 600: error = 1.0387925, gradient norm = 0.0001362 (50 iterations in 18.862s)\n",
      "[t-SNE] Iteration 650: error = 1.0365303, gradient norm = 0.0001112 (50 iterations in 21.952s)\n",
      "[t-SNE] Iteration 700: error = 1.0345299, gradient norm = 0.0001312 (50 iterations in 18.881s)\n",
      "[t-SNE] Iteration 750: error = 1.0331861, gradient norm = 0.0001116 (50 iterations in 17.530s)\n",
      "[t-SNE] Iteration 800: error = 1.0323019, gradient norm = 0.0000972 (50 iterations in 18.713s)\n",
      "[t-SNE] Iteration 850: error = 1.0313525, gradient norm = 0.0000854 (50 iterations in 24.538s)\n",
      "[t-SNE] Iteration 900: error = 1.0306642, gradient norm = 0.0000872 (50 iterations in 19.470s)\n",
      "[t-SNE] Iteration 950: error = 1.0300932, gradient norm = 0.0000839 (50 iterations in 17.182s)\n",
      "[t-SNE] Iteration 1000: error = 1.0293281, gradient norm = 0.0000973 (50 iterations in 17.738s)\n",
      "[t-SNE] Error after 1000 iterations: 1.029328\n"
     ]
    }
   ],
   "source": [
    "from sklearn.manifold import TSNE\n",
    "\n",
    "# map word vectors onto 2d plane with TSNE. hint: use verbose=100 to see what it's doing.\n",
    "# normalize them as just lke with pca\n",
    "\n",
    "word_tsne = TSNE(n_components=2, verbose=100).fit_transform(word_vectors)"
   ]
  },
  {
   "cell_type": "code",
   "execution_count": 22,
   "metadata": {
    "collapsed": true
   },
   "outputs": [],
   "source": [
    "word_tsne = (word_tsne - word_tsne.mean(axis=0)) / word_tsne.std(axis=0)"
   ]
  },
  {
   "cell_type": "code",
   "execution_count": 23,
   "metadata": {
    "scrolled": false
   },
   "outputs": [
    {
     "data": {
      "text/html": [
       "\n",
       "<div class=\"bk-root\">\n",
       "    <div class=\"bk-plotdiv\" id=\"b5d1d96c-f046-47b5-9054-d42347eb942a\"></div>\n",
       "</div>"
      ]
     },
     "metadata": {},
     "output_type": "display_data"
    },
    {
     "data": {
      "application/javascript": [
       "(function(root) {\n",
       "  function embed_document(root) {\n",
       "    var docs_json = {\"dd1d6d47-e7b0-4b18-ae04-654c366d6019\":{\"roots\":{\"references\":[{\"attributes\":{\"callback\":null},\"id\":\"31800b99-08ba-4c15-a0ec-967c41add3a7\",\"type\":\"DataRange1d\"},{\"attributes\":{\"bottom_units\":\"screen\",\"fill_alpha\":{\"value\":0.5},\"fill_color\":{\"value\":\"lightgrey\"},\"left_units\":\"screen\",\"level\":\"overlay\",\"line_alpha\":{\"value\":1.0},\"line_color\":{\"value\":\"black\"},\"line_dash\":[4,4],\"line_width\":{\"value\":2},\"plot\":null,\"render_mode\":\"css\",\"right_units\":\"screen\",\"top_units\":\"screen\"},\"id\":\"eee87608-6f17-4525-ac91-2aa2ebf7af7f\",\"type\":\"BoxAnnotation\"},{\"attributes\":{},\"id\":\"c40c3fef-e3b1-49d7-a1e0-bebe594e2c4e\",\"type\":\"PanTool\"},{\"attributes\":{\"callback\":null,\"column_names\":[\"x\",\"y\",\"color\",\"token\"],\"data\":{\"color\":[\"green\",\"green\",\"green\",\"green\",\"green\",\"green\",\"green\",\"green\",\"green\",\"green\",\"green\",\"green\",\"green\",\"green\",\"green\",\"green\",\"green\",\"green\",\"green\",\"green\",\"green\",\"green\",\"green\",\"green\",\"green\",\"green\",\"green\",\"green\",\"green\",\"green\",\"green\",\"green\",\"green\",\"green\",\"green\",\"green\",\"green\",\"green\",\"green\",\"green\",\"green\",\"green\",\"green\",\"green\",\"green\",\"green\",\"green\",\"green\",\"green\",\"green\",\"green\",\"green\",\"green\",\"green\",\"green\",\"green\",\"green\",\"green\",\"green\",\"green\",\"green\",\"green\",\"green\",\"green\",\"green\",\"green\",\"green\",\"green\",\"green\",\"green\",\"green\",\"green\",\"green\",\"green\",\"green\",\"green\",\"green\",\"green\",\"green\",\"green\",\"green\",\"green\",\"green\",\"green\",\"green\",\"green\",\"green\",\"green\",\"green\",\"green\",\"green\",\"green\",\"green\",\"green\",\"green\",\"green\",\"green\",\"green\",\"green\",\"green\",\"green\",\"green\",\"green\",\"green\",\"green\",\"green\",\"green\",\"green\",\"green\",\"green\",\"green\",\"green\",\"green\",\"green\",\"green\",\"green\",\"green\",\"green\",\"green\",\"green\",\"green\",\"green\",\"green\",\"green\",\"green\",\"green\",\"green\",\"green\",\"green\",\"green\",\"green\",\"green\",\"green\",\"green\",\"green\",\"green\",\"green\",\"green\",\"green\",\"green\",\"green\",\"green\",\"green\",\"green\",\"green\",\"green\",\"green\",\"green\",\"green\",\"green\",\"green\",\"green\",\"green\",\"green\",\"green\",\"green\",\"green\",\"green\",\"green\",\"green\",\"green\",\"green\",\"green\",\"green\",\"green\",\"green\",\"green\",\"green\",\"green\",\"green\",\"green\",\"green\",\"green\",\"green\",\"green\",\"green\",\"green\",\"green\",\"green\",\"green\",\"green\",\"green\",\"green\",\"green\",\"green\",\"green\",\"green\",\"green\",\"green\",\"green\",\"green\",\"green\",\"green\",\"green\",\"green\",\"green\",\"green\",\"green\",\"green\",\"green\",\"green\",\"green\",\"green\",\"green\",\"green\",\"green\",\"green\",\"green\",\"green\",\"green\",\"green\",\"green\",\"green\",\"green\",\"green\",\"green\",\"green\",\"green\",\"green\",\"green\",\"green\",\"green\",\"green\",\"green\",\"green\",\"green\",\"green\",\"green\",\"green\",\"green\",\"green\",\"green\",\"green\",\"green\",\"green\",\"green\",\"green\",\"green\",\"green\",\"green\",\"green\",\"green\",\"green\",\"green\",\"green\",\"green\",\"green\",\"green\",\"green\",\"green\",\"green\",\"green\",\"green\",\"green\",\"green\",\"green\",\"green\",\"green\",\"green\",\"green\",\"green\",\"green\",\"green\",\"green\",\"green\",\"green\",\"green\",\"green\",\"green\",\"green\",\"green\",\"green\",\"green\",\"green\",\"green\",\"green\",\"green\",\"green\",\"green\",\"green\",\"green\",\"green\",\"green\",\"green\",\"green\",\"green\",\"green\",\"green\",\"green\",\"green\",\"green\",\"green\",\"green\",\"green\",\"green\",\"green\",\"green\",\"green\",\"green\",\"green\",\"green\",\"green\",\"green\",\"green\",\"green\",\"green\",\"green\",\"green\",\"green\",\"green\",\"green\",\"green\",\"green\",\"green\",\"green\",\"green\",\"green\",\"green\",\"green\",\"green\",\"green\",\"green\",\"green\",\"green\",\"green\",\"green\",\"green\",\"green\",\"green\",\"green\",\"green\",\"green\",\"green\",\"green\",\"green\",\"green\",\"green\",\"green\",\"green\",\"green\",\"green\",\"green\",\"green\",\"green\",\"green\",\"green\",\"green\",\"green\",\"green\",\"green\",\"green\",\"green\",\"green\",\"green\",\"green\",\"green\",\"green\",\"green\",\"green\",\"green\",\"green\",\"green\",\"green\",\"green\",\"green\",\"green\",\"green\",\"green\",\"green\",\"green\",\"green\",\"green\",\"green\",\"green\",\"green\",\"green\",\"green\",\"green\",\"green\",\"green\",\"green\",\"green\",\"green\",\"green\",\"green\",\"green\",\"green\",\"green\",\"green\",\"green\",\"green\",\"green\",\"green\",\"green\",\"green\",\"green\",\"green\",\"green\",\"green\",\"green\",\"green\",\"green\",\"green\",\"green\",\"green\",\"green\",\"green\",\"green\",\"green\",\"green\",\"green\",\"green\",\"green\",\"green\",\"green\",\"green\",\"green\",\"green\",\"green\",\"green\",\"green\",\"green\",\"green\",\"green\",\"green\",\"green\",\"green\",\"green\",\"green\",\"green\",\"green\",\"green\",\"green\",\"green\",\"green\",\"green\",\"green\",\"green\",\"green\",\"green\",\"green\",\"green\",\"green\",\"green\",\"green\",\"green\",\"green\",\"green\",\"green\",\"green\",\"green\",\"green\",\"green\",\"green\",\"green\",\"green\",\"green\",\"green\",\"green\",\"green\",\"green\",\"green\",\"green\",\"green\",\"green\",\"green\",\"green\",\"green\",\"green\",\"green\",\"green\",\"green\",\"green\",\"green\",\"green\",\"green\",\"green\",\"green\",\"green\",\"green\",\"green\",\"green\",\"green\",\"green\",\"green\",\"green\",\"green\",\"green\",\"green\",\"green\",\"green\",\"green\",\"green\",\"green\",\"green\",\"green\",\"green\",\"green\",\"green\",\"green\",\"green\",\"green\",\"green\",\"green\",\"green\",\"green\",\"green\",\"green\",\"green\",\"green\",\"green\",\"green\",\"green\",\"green\",\"green\",\"green\",\"green\",\"green\",\"green\",\"green\",\"green\",\"green\",\"green\",\"green\",\"green\",\"green\",\"green\",\"green\",\"green\",\"green\",\"green\",\"green\",\"green\",\"green\",\"green\",\"green\",\"green\",\"green\",\"green\",\"green\",\"green\",\"green\",\"green\",\"green\",\"green\",\"green\",\"green\",\"green\",\"green\",\"green\",\"green\",\"green\",\"green\",\"green\",\"green\",\"green\",\"green\",\"green\",\"green\",\"green\",\"green\",\"green\",\"green\",\"green\",\"green\",\"green\",\"green\",\"green\",\"green\",\"green\",\"green\",\"green\",\"green\",\"green\",\"green\",\"green\",\"green\",\"green\",\"green\",\"green\",\"green\",\"green\",\"green\",\"green\",\"green\",\"green\",\"green\",\"green\",\"green\",\"green\",\"green\",\"green\",\"green\",\"green\",\"green\",\"green\",\"green\",\"green\",\"green\",\"green\",\"green\",\"green\",\"green\",\"green\",\"green\",\"green\",\"green\",\"green\",\"green\",\"green\",\"green\",\"green\",\"green\",\"green\",\"green\",\"green\",\"green\",\"green\",\"green\",\"green\",\"green\",\"green\",\"green\",\"green\",\"green\",\"green\",\"green\",\"green\",\"green\",\"green\",\"green\",\"green\",\"green\",\"green\",\"green\",\"green\",\"green\",\"green\",\"green\",\"green\",\"green\",\"green\",\"green\",\"green\",\"green\",\"green\",\"green\",\"green\",\"green\",\"green\",\"green\",\"green\",\"green\",\"green\",\"green\",\"green\",\"green\",\"green\",\"green\",\"green\",\"green\",\"green\",\"green\",\"green\",\"green\",\"green\",\"green\",\"green\",\"green\",\"green\",\"green\",\"green\",\"green\",\"green\",\"green\",\"green\",\"green\",\"green\",\"green\",\"green\",\"green\",\"green\",\"green\",\"green\",\"green\",\"green\",\"green\",\"green\",\"green\",\"green\",\"green\",\"green\",\"green\",\"green\",\"green\",\"green\",\"green\",\"green\",\"green\",\"green\",\"green\",\"green\",\"green\",\"green\",\"green\",\"green\",\"green\",\"green\",\"green\",\"green\",\"green\",\"green\",\"green\",\"green\",\"green\",\"green\",\"green\",\"green\",\"green\",\"green\",\"green\",\"green\",\"green\",\"green\",\"green\",\"green\",\"green\",\"green\",\"green\",\"green\",\"green\",\"green\",\"green\",\"green\",\"green\",\"green\",\"green\",\"green\",\"green\",\"green\",\"green\",\"green\",\"green\",\"green\",\"green\",\"green\",\"green\",\"green\",\"green\",\"green\",\"green\",\"green\",\"green\",\"green\",\"green\",\"green\",\"green\",\"green\",\"green\",\"green\",\"green\",\"green\",\"green\",\"green\",\"green\",\"green\",\"green\",\"green\",\"green\",\"green\",\"green\",\"green\",\"green\",\"green\",\"green\",\"green\",\"green\",\"green\",\"green\",\"green\",\"green\",\"green\",\"green\",\"green\",\"green\",\"green\",\"green\",\"green\",\"green\",\"green\",\"green\",\"green\",\"green\",\"green\",\"green\",\"green\",\"green\",\"green\",\"green\",\"green\",\"green\",\"green\",\"green\",\"green\",\"green\",\"green\",\"green\",\"green\",\"green\",\"green\",\"green\",\"green\",\"green\",\"green\",\"green\",\"green\",\"green\",\"green\",\"green\",\"green\",\"green\",\"green\",\"green\",\"green\",\"green\",\"green\",\"green\",\"green\",\"green\",\"green\",\"green\",\"green\",\"green\",\"green\",\"green\",\"green\",\"green\",\"green\",\"green\",\"green\",\"green\",\"green\",\"green\",\"green\",\"green\",\"green\",\"green\",\"green\",\"green\",\"green\",\"green\",\"green\",\"green\",\"green\",\"green\",\"green\",\"green\",\"green\",\"green\",\"green\",\"green\",\"green\",\"green\",\"green\",\"green\",\"green\",\"green\",\"green\",\"green\",\"green\",\"green\",\"green\",\"green\",\"green\",\"green\",\"green\",\"green\",\"green\",\"green\",\"green\",\"green\",\"green\",\"green\",\"green\",\"green\",\"green\",\"green\",\"green\",\"green\",\"green\",\"green\",\"green\",\"green\",\"green\",\"green\",\"green\",\"green\",\"green\",\"green\",\"green\",\"green\",\"green\",\"green\",\"green\",\"green\",\"green\",\"green\",\"green\",\"green\",\"green\",\"green\",\"green\",\"green\",\"green\",\"green\",\"green\",\"green\",\"green\",\"green\",\"green\",\"green\",\"green\",\"green\",\"green\",\"green\",\"green\",\"green\",\"green\",\"green\",\"green\",\"green\",\"green\",\"green\",\"green\",\"green\",\"green\",\"green\",\"green\",\"green\",\"green\",\"green\",\"green\",\"green\",\"green\",\"green\",\"green\",\"green\",\"green\",\"green\",\"green\",\"green\",\"green\",\"green\",\"green\",\"green\",\"green\",\"green\",\"green\",\"green\",\"green\",\"green\",\"green\",\"green\",\"green\",\"green\",\"green\",\"green\",\"green\",\"green\",\"green\",\"green\",\"green\",\"green\",\"green\",\"green\",\"green\",\"green\",\"green\",\"green\",\"green\",\"green\",\"green\",\"green\",\"green\",\"green\",\"green\",\"green\",\"green\",\"green\",\"green\",\"green\",\"green\",\"green\",\"green\",\"green\",\"green\",\"green\",\"green\",\"green\",\"green\"],\"token\":[\"<user>\",\".\",\":\",\"rt\",\",\",\"<repeat>\",\"<hashtag>\",\"<number>\",\"<url>\",\"!\",\"i\",\"a\",\"\\\"\",\"the\",\"?\",\"you\",\"to\",\"(\",\"<allcaps>\",\"<elong>\",\")\",\"me\",\"de\",\"<smile>\",\"\\uff01\",\"que\",\"and\",\"\\u3002\",\"-\",\"my\",\"no\",\"\\u3001\",\"is\",\"it\",\"\\u2026\",\"in\",\"n\",\"for\",\"/\",\"of\",\"la\",\"'s\",\"*\",\"do\",\"n't\",\"that\",\"on\",\"y\",\"'\",\"e\",\"o\",\"u\",\"en\",\"this\",\"el\",\"so\",\"be\",\"'m\",\"with\",\"just\",\">\",\"your\",\"^\",\"like\",\"have\",\"te\",\"at\",\"\\uff1f\",\"love\",\"se\",\"are\",\"<\",\"m\",\"r\",\"if\",\"all\",\"b\",\"\\u30fb\",\"not\",\"but\",\"we\",\"es\",\"ya\",\"&\",\"follow\",\"up\",\"what\",\"get\",\"lol\",\"un\",\"\\u2665\",\"lo\",\"when\",\"was\",\"\\u201c\",\"\\u201d\",\"one\",\"por\",\"si\",\"out\",\"_\",\"mi\",\"can\",\"<sadface>\",\"\\u0645\\u0646\",\"\\u2661\",\"\\u00b4\",\"he\",\"con\",\"they\",\"now\",\"go\",\"\\u060c\",\"para\",\"los\",\"know\",\"haha\",\"good\",\"tu\",\"back\",\"~\",\"about\",\"new\",\";\",\"as\",\"day\",\"how\",\"who\",\"will\",\"want\",\"people\",\"yo\",\"eu\",\"from\",\"di\",\"time\",\"<heart>\",\"s\",\"aku\",\"da\",\"'re\",\"<lolface>\",\"una\",\"got\",\"las\",\"more\",\"x\",\"she\",\"today\",\"\\uff08\",\">>\",\"k\",\"by\",\"or\",\"\\u0641\\u064a\",\"\\uff65\",\"too\",\"le\",\"\\u00e9\",\"|\",\"[\",\"\\uff09\",\"]\",\"see\",\"why\",\"yg\",\"ca\",\"como\",\"her\",\"\\u2014\",\"q\",\"need\",\"an\",\"na\",\"\\u7b11\",\"there\",\"\\u03c9\",\"happy\",\"im\",\"mas\",\"je\",\"life\",\"really\",\"make\",\"yang\",\"shit\",\"think\",\"t\",\"\\u2764\",\"n\\u00e3o\",\"never\",\"some\",\"\\uff5e\",\"oh\",\"\\u2605\",\"did\",\"would\",\"del\",\"`\",\"d\",\"please\",\"via\",\"much\",\"fuck\",\"al\",\"dia\",\"$\",\"\\u0648\",\"right\",\"best\",\"c\",\"going\",\"\\u0627\\u0644\\u0644\\u0647\",\"pero\",\"only\",\"has\",\"\\u266a\",\"'ll\",\"twitter\",\"=\",\"hahaha\",\"its\",\"nn\",\"\\uff40\",\"\\u00bf\",\"am\",\"say\",\"<neutralface>\",\"them\",\"here\",\"\\u0644\\u0627\",\"off\",\"still\",\"dan\",\"+\",\"night\",\"w\",\"ada\",\"someone\",\"even\",\"then\",\"\\u2606\",\"ni\",\"come\",\"com\",\"always\",\"man\",\"'ve\",\"been\",\"his\",\"itu\",\"\\u0639\\u0644\\u0649\",\"-_-\",\"\\u263a\",\"over\",\"um\",\"\\u0645\\u0627\",\"hate\",\"girl\",\"ai\",\"had\",\"pra\",\"todo\",\"mais\",\"feel\",\"let\",\"ini\",\"because\",\"\\uff9f\",\"thanks\",\"ah\",\"way\",\"ever\",\"look\",\"tweet\",\"followers\",\"should\",\"our\",\"xd\",\"aja\",\"esta\",\"school\",\"him\",\"ser\",\"take\",\"than\",\"video\",\"em\",\"last\",\"wanna\",\"does\",\"us\",\"miss\",\"l\",\"ga\",\"better\",\"well\",\"could\",\"\\u25bd\",\"%\",\"apa\",\"cuando\",\"team\",\"\\u2714\",\"@\",\"ok\",\"\\u061f\",\"\\u2022\",\"vida\",\"quiero\",\"les\",\"being\",\"real\",\"down\",\"kamu\",\"everyone\",\"gonna\",\"live\",\"tonight\",\"yes\",\"work\",\"ass\",\"retweet\",\"nada\",\"sama\",\"first\",\"<<\",\"photo\",\"tomorrow\",\"where\",\"god\",\"son\",\"ke\",\"ta\",\"f\",\"home\",\"lagi\",\"thank\",\"birthday\",\"\\u2588\",\"ha\",\"great\",\"lmao\",\"omg\",\"morning\",\"m\\u00e1s\",\"mau\",\"baby\",\"dont\",\"\\uff61\",\"their\",\"p\",\"things\",\"game\",\"pas\",\"bad\",\"year\",\"yeah\",\"su\",\"bitch\",\"\\u0432\",\"stop\",\"hoy\",\"something\",\"meu\",\"tak\",\"gak\",\"world\",\"amor\",\"h\",\"\\\\\",\"ver\",\"\\uff1b\",\"porque\",\"give\",\"these\",\"\\u0627\\u0644\\u0644\\u0647\\u0645\",\"were\",\"hay\",\"sleep\",\"gue\",\"every\",\"friends\",\"uma\",\"tell\",\"amo\",\"vou\",\"bien\",\"\\u00a1\",\"again\",\"\\uff3e\",\"\\uff0f\",\"done\",\"after\",\"todos\",\"girls\",\"guys\",\"getting\",\"big\",\"wait\",\"justin\",\"eh\",\"\\u2192\",\"kan\",\"kita\",\"jajaja\",\"wish\",\"said\",\"fucking\",\"show\",\"thing\",\"next\",\"voc\\u00ea\",\"nos\",\"little\",\"tengo\",\"keep\",\"person\",\"''\",\"\\u2200\",\"hope\",\"\\u0643\\u0644\",\"hey\",\"bisa\",\"free\",\"made\",\"foto\",\"va\",\"everything\",\"iya\",\"nigga\",\"eso\",\"et\",\"watch\",\"music\",\"week\",\"talk\",\"ne\",\"solo\",\"gente\",\"udah\",\"\\uff1a\",\"--\",\"\\uff3c\",\"mejor\",\"facebook\",\"ma\",\"v\",\"phone\",\"most\",\"same\",\"okay\",\"ik\",\"before\",\"minha\",\"days\",\"g\",\"ti\",\"damn\",\"nice\",\"voy\",\"vai\",\"call\",\"long\",\"tapi\",\"http\",\"sin\",\"nunca\",\"doing\",\"other\",\"find\",\"il\",\"sa\",\"sorry\",\"nya\",\"orang\",\"\\u00b0\",\"hard\",\"mean\",\"die\",\"\\u0627\\u0644\\u0644\\u064a\",\"tem\",\"soy\",\"este\",\"kalo\",\"s\\u00f3\",\"th\",\"win\",\"nothing\",\"into\",\"face\",\"cute\",\"'d\",\"gracias\",\"lah\",\"\\u0438\",\"any\",\"play\",\"\\u2190\",\"ko\",\"text\",\"\\u2323\",\"estoy\",\"tau\",\"ur\",\"buat\",\"#\",\"cause\",\"\\u044f\",\"put\",\"kau\",\"siempre\",\"juga\",\"casa\",\"\\u0623\\u0646\",\"help\",\"start\",\"feliz\",\"old\",\"ir\",\"very\",\"care\",\"bir\",\"makes\",\"song\",\"check\",\"watching\",\"ahora\",\"jadi\",\"os\",\"may\",\"friend\",\"beautiful\",\"heart\",\"ka\",\"vc\",\"mundo\",\"\\u043d\\u0430\",\"sure\",\"tan\",\"pretty\",\"aqui\",\"\\u043d\\u0435\",\"house\",\"\\u0631\\u062a\\u0648\\u064a\\u062a\",\"\\u064a\\u0627\",\"ja\",\"true\",\"muy\",\"away\",\"already\",\"actually\",\"believe\",\"try\",\"many\",\"ma\\u00f1ana\",\"mis\",\"lu\",\"those\",\"hot\",\"qu\\u00e9\",\"mal\",\"\\u0639\\u0646\",\"though\",\"ask\",\"amazing\",\"bed\",\"}\",\"two\",\"mom\",\"d\\u00eda\",\"ve\",\"dari\",\"gameinsight\",\"stay\",\"fun\",\"around\",\"van\",\"cont\",\"ready\",\"money\",\"bu\",\"funny\",\"cool\",\"hair\",\"\\u00e0\",\"tho\",\"{\",\"wo\",\"hi\",\"name\",\"tiene\",\"hahahaha\",\"pa\",\"algo\",\"gotta\",\"\\u0648\\u0644\\u0627\",\"boy\",\"another\",\"c'est\",\"hari\",\"jajajaja\",\"having\",\"cara\",\"jaja\",\"dm\",\"looking\",\"top\",\"android\",\"dah\",\"wow\",\"\\u2591\",\"eres\",\"ben\",\"must\",\"news\",\"met\",\"est\\u00e1\",\"nih\",\"family\",\"black\",\"thought\",\"nak\",\"super\",\"end\",\"hace\",\"remember\",\"ama\",\"party\",\"cant\",\"vamos\",\"anything\",\"anyone\",\"\\u0641\\u0648\\u0644\\u0648\",\"perfect\",\"guy\",\"vez\",\"christmas\",\"dos\",\"bueno\",\"nao\",\"years\",\"vote\",\"dormir\",\"bro\",\"else\",\"quien\",\"untuk\",\"jangan\",\"myself\",\"head\",\"mind\",\"gua\",\"talking\",\"while\",\"dat\",\"food\",\"\\u0434\",\"coming\",\"wkwk\",\"trying\",\"saya\",\"mucho\",\"without\",\"wrong\",\"\\u2019s\",\"baru\",\"__\",\"hehe\",\"hacer\",\"lot\",\"followed\",\"crazy\",\"hell\",\"feeling\",\"des\",\"kok\",\"j\",\"stats\",\"j'\",\"\\u0627\\u0646\",\"tweets\",\"non\",\"cosas\",\"era\",\"high\",\"niggas\",\"change\",\"movie\",\"xx\",\"mad\",\"sih\",\"sometimes\",\"deh\",\"allah\",\"through\",\"pour\",\"ela\",\"soon\",\"gone\",\"playing\",\"smile\",\"bukan\",\"tv\",\"fans\",\"hasta\",\"akan\",\"y'\",\"looks\",\"isso\",\"\\u270c\",\"tired\",\"boys\",\"might\",\"dong\",\"lg\",\"use\",\"maybe\",\"until\",\"menos\",\"own\",\"dengan\",\"eat\",\"ou\",\"weekend\",\"\\u02d8\",\"class\",\"ele\",\"harry\",\"iphone\",\"friday\",\"single\",\"ff\",\"awesome\",\"bout\",\"muito\",\"hoje\",\"\\u00ac\",\"dios\",\"such\",\"estar\",\"j\\u00e1\",\"quando\",\"esa\",\"making\",\"\\u2501\",\"times\",\"lmfao\",\"gw\",\"moment\",\"yet\",\"aw\",\"smh\",\"banget\",\"masih\",\"qui\",\"quem\",\"\\u2013\",\"leave\",\"du\",\"une\",\"guess\",\"hit\",\"\\u0441\",\"pm\",\"since\",\"pues\",\"est\",\"job\",\"\\uff89\",\"mana\",\"bom\",\"siapa\",\"suka\",\"bieber\",\"mention\",\"lebih\",\"favorite\",\"bitches\",\"forever\",\"\\u0644\\u064a\",\"final\",\"read\",\"alguien\",\"open\",\"yourself\",\"ese\",\"che\",\"sex\",\"yaa\",\"car\",\"direction\",\"tidak\",\"seu\",\"gets\",\"left\",\"re\",\"jam\",\"enough\",\"\\u0625\\u0644\\u0627\",\"once\",\"\\u2019\",\"part\",\"cada\",\"\\u5b9a\\u671f\",\"\\u0644\\u0643\",\"een\",\"seen\",\"kak\",\"as\\u00ed\",\"nem\",\"\\u0639\\u0645\\u0644\",\"white\",\"told\",\"says\",\"esto\",\"sad\",\"mo\",\"fue\",\"yah\",\"summer\",\"\\u0647\",\"\\u2b55\",\"\\u00bb\",\"thats\",\"\\u0645\\u0639\",\"posted\",\"wants\",\"agora\",\"together\",\"fan\",\"men\",\"hear\",\"full\",\"\\u2600\",\"sigo\",\"pq\",\"dulu\",\"plus\",\"foi\",\"tudo\",\"\\u0647\\u0648\",\"ill\",\"\\u3042\",\"thinking\",\"wtf\",\"pagi\",\"mama\",\"kalau\",\"hati\",\"sexy\",\"sayang\",\"baik\",\"semua\",\"hola\",\"went\",\"vos\",\"tanto\",\"finally\",\"fb\",\"sea\",\"stupid\",\"tus\",\"seriously\",\"hora\",\"min\",\"pic\",\"estas\",\"turn\",\"hours\",\"excited\",\"nah\",\"buy\",\"saying\",\"mah\",\"break\",\"needs\",\"ce\",\"room\",\"choice\",\"far\",\"dead\",\"quero\",\"saw\",\"kids\",\"lil\",\"whole\",\"puede\",\"fall\",\"sus\",\"lost\",\"asi\",\"word\",\"\\u2639\",\"also\",\"\\u0631\\u064a\\u062a\\u0648\\u064a\\u062a\",\"probably\",\"everybody\",\"tarde\",\"run\",\"sei\",\"follback\",\"forget\",\"sweet\",\"welcome\",\"selamat\",\"\\uff3f\",\"sur\",\"place\",\"gusta\",\"sabe\",\"androidgames\",\"tp\",\"tiempo\",\"\\u0628\\u0633\",\"sou\",\"tuh\",\"vs\",\"eyes\",\"\\u0627\\u0646\\u0627\",\"picture\",\"das\",\"meet\",\"anak\",\"persona\",\"essa\",\"bored\",\"following\",\"nadie\",\"nobody\",\"dice\",\"alone\",\"sick\",\"red\",\"city\",\"cinta\",\"\\u6708\",\"linda\",\"dream\",\"story\",\"km\",\"het\",\"waiting\",\"^_^\",\"mine\",\"\\u0447\\u0442\\u043e\",\"reason\",\"kk\",\"\\u0644\\u0648\",\"online\",\"fast\",\"udh\",\"wanted\",\"op\",\"others\",\"gay\",\"n\\u2019t\",\"used\",\"sem\",\"understand\",\"moi\",\"sm\",\"aint\",\"donde\",\"bem\",\"which\",\"ng\",\"followback\",\"punya\",\"late\",\"anda\",\"tidur\",\"puedo\",\"early\",\"nd\",\"personas\",\"banyak\",\"\\u2705\",\"\\u278a\",\"trust\",\"noche\",\"tl\",\"\\uff1e\",\"\\u00ab\",\"af\",\"move\",\"pro\",\"bring\",\"ku\",\"called\",\"relationship\",\"idk\",\"hurt\",\"st\",\"pernah\",\"pessoas\",\"hello\",\"uno\",\"unfollowers\",\"cry\"],\"x\":{\"__ndarray__\":\"V7rRPtW9+D4MvMo+MY/RPj+GAT+IIPg+gEsVPu6bhD7eD08+t5T9PmTj2r8V+ju+CO/SPshvv7+qWQw/Y4Obv8ENvr8SBcw+h+K0PjndBj8j1cg+gdFdP45dlz8ZIx8/2Bw4P/mhlD8YoMu/hGI5P/4qnD7pgdS//OlfP5pzOj+5ArW/De+SvyxVxD4Wv7y/zg9TPro+wb+j6cg+C4e/v0i3sT+Kara/hk4RP3tWWL4vroy/sQWSv+RNJr+xkc8/pvS4Pli9YD4w/dc+YjX6PbeVmD9Mg6i/ucjKPzILQ7/tQqG/lxfhv2z7yr/PIYe/JGIkPjBY1L+enwQ/xJ2Gv4Emjb8Cz5k/jZDlv0gzPj/j4ge/29aWP5ezyb8e2iI+tcsQPswoEj5HL5e/cKC9v/E5DD4oXlM/yymdvyMUj7+CjpK/PFHDP9mCjz8YjdG/xbANv0RTjL9Glo6/adObv8Sarr4UMbg/WRUHP0Vnrj90wJm/zZGxv0TIyz6Zj8g+sQ9Ev48SlD+7f60/UQWNvyV+ET8XYsE/RxmIvz3GKT9EDkC9Yq0MP80oOT/VDMa/zBW/P5Xzjb+dUWO/7kx+v4BLjzvcRYM/D03aP16Li7/3YzU/mpQdv0HKrz8GxTi/hqsDP7C0ib+t/vG+Vu/0Plq1ar4DhT+/eQeNv8Qblb+aNXC/jLKOvw+Xvb+V4ds/AqISPygBxr+Oxcg/ab06v0sfAT/Ng+89RIPMP65s5D7hJ6C/0mkzPz/7vD9/vZ6/BATbP9zor781Dso8hb9xv0zMTr+eH0Y/3aK0PAvAEj9QRsm/sN6ivxLh/7z0zU0/E11AvwmkFT/f0xM/knmJPqXWsj6iLkY/l7CyPhDJfL9SiYu/eMDHP82zUL7DrZQ/Ksnbv6rbBD/EvII/orKNv6Qppr+1P0k/iAU2P8shlb/WQkQ/vb/UvtGP4r98R4k/ZWG0PhfOn7/t0oS/BNaTvyboyz8tCvS+EpSIv3D5CD6L7v8+wEoVPye1kr9KTca/a68sP88I/L0r+xU/GoeBv2ebhb9aGcs/nbY3P1kL0j2kmEG/AqRGPn/Xr79upfi+y+/MP1AVlT/qUBE/5G04vFFQZb9fdiC/p3T9Pauwb7+c88w8sxDAPybhmb+3AMa/xnYbPxiAcb9QIL6+mGWZPj/+Mz/NHlO/cCxfPiAUQj+Cls8/ZTnkvxbzdL/LASI/N7PAv/XYZb/eHM8963CJvwU2g7+TP9g/YVWXPtWvQL/s+vw8D0rBP3fes78kBY+/Mh5jvyEYGD8F2kQ/Oz+Bv72m8T6PBZe/l4cpvnyirr81OK2/pLzVv8Z+xT8d4lO9Ho5BP5FOKT83rpS/LZzWPoZsaDyoc5S/C03JvmhsJ74+/K+/hgsCP8SAlD9/Pwk/kFW8v086hb9pnbs/tI2cv8h1UT/lzqi+rrItP4ZzjL88nZW/tOIUv/io1r5zhQu/OHqHv0+Ry78KFSo/6leoP0xroT8STXO/1onTv/fqmD/iOYm/A26qvyhw1r6yEtI+J5dNvyRLPb/pW5O/5oK8vyNdAL8BZ9c9tp6tP4aFjr8tRUC/9XiFv6I/PT8LdYw+gF+9P7hKvD9lpzm/0uBiva8p2T5lwIi94j1PPTQcGj8CJpE/PM/JPxv8Dj+M16i/dzexvjydjL/Tq8I/kbe5v1aabb9lfKa+KkVHv0Z7Kb4QvXu/ZyDqvoS6Ab9Kq5U/+Z+1P+QOT78kRKg8Z3AWvyAfUb8ubZS/2mR7vxG75D9g+8s/2d4TP6/8sz18ooO/+z24P243q75hQtS+rTbcPu7POT/J4hy/cSW4vl7j+b3rWjq/EM+xP+a+tD8AX7q+HZM0vyvwUz+8J8y/ri0kPhqnn7+EZee+EKjNPiohDr9+HU6/DbYnvlOZwT9LfPK+u4k+PtZPUb92xa8/9lGrv6bo9z6FIs0/Ov+xP5Aafb/y0ZE/pqsfPsYDEz+ZfIQ/58FKP39Ikz+Tu4q/iiTEv4FC5b0F3cm/ETXKP1oalL9jcKY/HYqevwXdPb+w0+c+9sh1vwQykj/olQQ/BQaoP5dNyz8SGly/xcFDP+K2UT+3RTa/g8tgvwezjD+S+7i+Y8G5vicKob94CY2+bUpHvxZ3Qz0lyzk/Z+kkP9yQqz9XbdI/8e+9P6q7P7+Y+HO/BIwIv+Azp753jZm/dQhLvzpiKj8waos/EueYvvUizT+E0Ju/i8K8v6AH2j4Y+Ug/Isk+v0uYJr387GW+qgi5P/9I6L4c0Z6/1QORP93dpz+TjKe/u7yeP7W88b6/Hr8/UMLkPu6o0b52CU+/3m5Ov4ezf78V0M4+tLK0P5n1ij9mla0/7URHPwl/4D7BClI/9pPBP0TFu74R4QA/naulPZ/nZ7+pObe/BPFev/jQm71Y7pU9eIBivyPi7z7ZwVK/1vOyPeJwpD+DvPy+eYwQv4eDxz/ZBwg/doVuv2EZI7+JOcg/6u64PsCczj/+NpU/JtOZv4xfvb/Sype/ihAFP9oEXD8dT729tHSxPx5xzz+Ewic/d2iPv9Zyhb/m1Aq9YnqoPPeWDj9QSdM/dESpP2SDtD9whA0/q3kVv5XFeb/4gai//jCdv93iDL9JfQO/NO2AvzYGwT8YH8U/F6tXPuvRsb+GHO2+lTQyPwatWz/w5Wu/X2ZCP8WXyD9n1Ls/P8jZvxAEwz9rGiU+wbctv/ohUz4J2Iu/tDHMP17vuD/RlLU/EFh6PxDQYz0/aEO/YSFBv64ejT/FMbC+KkV+P+CFJL8DVoK/PsroPg6por9T/k6/f7zqvhwH0r4mI7w/fr3CPys2hz9rQlm/OL0/v7vpC79wVK6/mBRfP2ytIj/oWY8/iERKPhohT78g67Q/4fwTv8OaeT+RTk8+hOCFv1chP70RBY+8yZInP8QPgr9zV7Q/osiGvxQIU784GXe/G2VTv3M3g78LnL+/SP6vP8bZ4T8fNaI/5R/Bv6n7674gyc8/3+WhP2fzobyEbFS/f09ov1lMFr8Mz5K/XsQyP6Y6xr+dS0W/7carP8cR6D5rw9I/i2MPvoGCm79wOAu/JLiUv1+JBz7K5cw+vp09vzEnk7/N0N0+rartvp0pCb+0Yh+/K2nXPudfv7513zI/r79jv7hUaL4anV+/sSXBP8NWMj8vt1E/iayYPwxlL78MPdA9mgPCvoq9mL9RpuQ+Y9mxPxLzvT+ZAKK/6GGUP2PAvD/rt8a+L4AUv8FIcL6/3mG+n9XCPxixGb55S9w+B+XTP1/8xD7Uz4G/I1ssPn/d0j0DXJ8/gUytP6dfPL+R6Vq+w257vyNdyT+HQmO+imolv6PyuD9sxl2/1aLdPty0Ur8oSju/6MuGP/Apq7/VTLK/tu0vvbxBEb94PNe+lVuOPxRyN79FF4k/qg++P0xAGD8tDVK/1Tp1v/xYcz/7AJ49V86xvzG/xD+Rrd8/FmLJP6tHy78aho+/3GegvyeXpT+k0IO/iJlvv77zLD2/Pe2/1MFCPzsCWr88aKA/52GFv9/qzz/7gbU/k/Cnv8GFor+jvbW/eim7P87cET/gODw/FIvLP3SEsL+Juxm/AzsAv+m+/74jYL2/NSoFP6YErz+5ox0+o6QTvxb/0T5zdDg93bbWvva8CD8CmNk/D6KfPwu2lb9liAS/TJ+pv65Q6L7sEaw7faIAv24ZrT96w6C/FlClP+mpgz/vKZ2/UtDePtuFHz9nBVa/ST4pv8Dm8r5jqa2/M9HHP/+EpL4qMb29EFa1P8x43j9T/yO/cAEXv13LFT/g/eo+TiKZv3v4t77e5Xm/2+mjP63Wsj/GBYm/bBxKv29hZr/FnY0/JyjNv2wv2T/9P+2/4cIJPyopTL/1hUE/iclzv076HT9mxoI9XgdlvgmbUr/tRTu/XJibPNIUFr+YrB2/t6MUP3FzBj+x8Tg/BKK0P/BYJ7/mBZs/DLcIPzHhMj/S07w/nzmgv3tPUz9m5Ci/LVe5vkb8pj9SPQe/9tZUvzGss73TwMS+Q06lP7rbtj9x/Pk+vXskP8ZpmT6IRoa/asf8PpPF9D6xCEa/F1aTvzQqbD5z4Ry/EWlavztPvz9Lz+w+Dk6Cv/v1Sj+FCbs/drEXP9MyvD9uYMo/9IoxPRY42r4eKtU/Nrgmv6hBBL9Yepi/JVN6vf/2v76NmV+/BPbEP7QXe7+QP8u/yY6tP2ZsDT++1PG+f86RP70REr/kwA09cXHdP8ro+T5Te6S/3CeBv29Tuj+WZK0/YDOpv5gKAj7yIye/SfG2Po9+BL92tYw/itY0P6IhfL1FMLg9Nl+tvwppnD8WFLk/oFkTP6A/mb29hFq+Jpxyvz0yfb/xFL0/oCm+v9tzVT8hPa8/1KKgP95VRL8kgHg9a6WpvTA1cD7Kdi+/5F9mvGdKFb/0G7C/kBYHP3/Hjr+fjb29mPwkvqgAdr++LzO/y97wPhYKlT/Xxxo/Tcq5P4c71j7FzQk/2nIZPxwxET1+JW6/O2U8P3VkiL+RucO+4WeyPyUMjzx8Jsw/TwraP5fd6b6DEdU/5R7VP4W/0D8JHcQ/IUh8v3IUsz/xvZw/ZMZLvyg1vr5IpNI/G/oGv8GW4T9jDm+/p/SBP1ltdz+I6xi/WjbGP1Oiib+3vl2/Oe5Cv/Wvrj2et5K/ZcmAv6oLmz8PnDS/Nhywvy357j4NIoe/Pnd1vzMlWL/mUxC/crAGP0acrb9WAaW+0w7evtgGn79wEsM/EPaFv/363z/kV3m/ZHO6P8uZhr89kCk/mMJqv8dlR71pyni/0WS3v7DGej8rIoK/xZUxPwVmmT9+ll6/t9D8vst4kL5CrrE/Sn9eP+Zd7D4GtA6/YErFP17MkD9G0w6+DPi+PxrMtD+cokU9U+QhP3N0rz/d1Km+UKmtvyZkSz3rKxq/9gx6P9cHUr83lrw/zQDEP6eV9j7II5q/PPcWv3GwxD+IoLK/ane9P+a/mL+SVRa/m85Pvje3qb5Gbd0/BbY/P9CCjz8h6ny/cAD+vtQaqj/4DsE91blPv3EbBT92w0O/lI1QPmjhob+SWRw/WTShPJwx1L7vtB6/MhesP7hlU7+p7Nc9Amm8vxhEzr56d5S/a+KIvyWm7j7mTpy/owPZPks4tD9BtBm/WZXIP9BjGD8k3Gm/1VFXP/jJDr+utMI/Ktpmvxnvlj9r+7c/mc/KP/8MZr91sw6/SBXbP4bHzT/LLIa9NiHPvXbRq78ujKw/SD61vsxcXT8Ozm4+/TPfvnWPjb8xtzQ+dBiNv5Ui1D9DR2m/iOepv8FoPL+J+La/A40Vv8y7xj++ki0/h152vtzStT+JWxO/faezvw==\",\"dtype\":\"float32\",\"shape\":[1000]},\"y\":{\"__ndarray__\":\"KWuBP1gtfz9W/3k/8FGAP1RDaz/PnYM/mayRPz+zfD98haI/x9CFPxhEkr25DwK/J9VhP1RjTr+TgVU/8Wn5vULjG7+ggag/dnOrP0LNkD9/cqk/DvxJv1wpu78RlX0/r7fwP6t+l79KzDy/J071P2EqoD8/UxC/PU9Lv3Xr9D8IBEm//qMTvrIWlT9biG6/ww+RP5V4Ir/P56A/7oNRv9DVD78dv1W/R3CeP0Y6nL8Bexa+TtH7vX5PlL/+7F6/NnhGP8hKUz8/NC0/UIFyPxSuvL/Raku/JvUrv0xhsbxCpJS+QkJyvab5PL/qzDO+iIuBP+g8Dr/wRqc/KAGdvTselr4PC0O/aKxqvlT16z9QPe0+Yx2avxwfAryh8YE/3h1jP7p0cD+XFN69a+Cwvg0sbD9jEPc/F2eBviHWML5+3p6+FVqHv0n4Yz+ZbUG/hkCZP09scb+4l3S9aVskvwYzor4/dSy/NYC5P+RbQL8wFT69Kj81v+eeaj9lvWc/KekkPqXzjb+pKzy/XmBqv0uJlz/7mhW/WL+1vns7gT8o+wpA9li6Pyg5yj+uOZG/90w4v1LkY77j6T6/ApwfvzNTC0BcEIC/jWVYvzlFxr3VaDk/k2lXPnb+Cr+Cl3M/eyyeP3a7hD35rTg/4dVqP0EEGL8eSqi/adYhvdormTsgFsS+YHEFv7+xAr7Iupq/jaHOv0fsUb8yNQU/6+mEv6FfuD+Ku08/MjCNP0wuHD+pW/i9Xs9LP4SYPr8pjye/p2l2v7R8Jr5zaSg/cxxBvai1rL+ItPk/xnmaP7HsBT9dDli/CCxPvk6kDUBObto/nlRfvbvsUL+MxeS/RVqmP2e2uD89Zvk/Gcy4P9IF5744dwy99LtLPyDAPb+zwoa/gr/LvqnASz/0x2e/Z6AQvztomb4uBNI+yuTkP2lYbL4SFdo/V9zvPqtuUL3bh3O/dQI8v6imyz7TUgu+d+TtvkO9SD9348m+eJ7ovSRdVT9uQbw/Xj3cv55ELj51cpm+I7PxPzZnsD4IAuk/MXnKvYx/lL6DLiq/TYbDP+h0Nz/2v5I/RWalPwB/2L2TWsq+9K4mvyGj0ryH04Y/DrsKQIt2Nr+0qrc+qm5IPwSEHL80SBRAtA2TvzkyV74cIJG/CVPhP2zd9L5Xlok/cA2JP/xTNT8+Oxu+zNySP3OF1T92lrq/uMOxvOLY/z0Y+II/BvuJvmQ0Sb/7DgxAHnNrv1JrSL5iZSk/QMKIP94jtL/s4FI/TuxTP/F40j31xkU+dkhuv1tk6D8GPiA/2DYqvzEX4b+mGj4+3sqWvtDqFb8wsBy/vbHEvrPLVT86wQ5AVOtrP633jD+jD4i/W3nmv91vB0CBj8U+ukphPT/9Pr/XLS2/dw3bvxMtgb+q872/ZGPxPubHGL9XinI/sGUnvQ3b0z8JCgs/nTIoP7B13b6gM+89CKEru+JZjj+jO5U/x8ibvn6JB78RgUE//QJaP0mBi79yUr6/phq3vl0lh7//5x6/3i0qvkCrNT9vbty/Ef6Hv9rNBr8SQ2W9cqP5vg3O9j5qJ1g/wEEyP0i71L73P+O9p4WcvrzJvj9wjH8/VLVEPxVIfr/2jG0/aobOP62JoT+q1tw+zqoHQApkqj+mPWG/SQOXv5ObUb9jlQO/KXgjvyXaeL82ezM/BPCAPiiNFr9YZ3m/3ze1v/A+uz75+a6/lRj3vpcJmD/M83q/ep4pP+yahL++nJo/UAgtPzMBsb+Qp3i+q0MIP7Mlab9GtxA/L3y2vysRYz+d/Z2/4/yAP0T+Cj9e/e8+JmfhP628Ej9bf4E+fPCzvtsFhz6t57K/akSnv1f5UD8Oi509CZTdvgv01D9F2P++vOgyP+nY8z3yT1S/gKMuv7AaXr4HWpG/1Ym8PkysFr8DMfS+KH7aPzhZ2r5qQJa/kQPmPciu+L8u0Zc/+9lBP/P7Mj/0YFq/UKlRP8KkpT9eKIu/uu3fP7bUh7+LYxi/zteNvvboCUAMwwq8mLKAvy30tr/9b0A/cWxQv1aCAD/Miei/W+EuPujGQL+EqdO/TDCvv8Rkub9oLD+/F77fP8Vz7D9V4Q2+A+9+vx/tnr/H+GU+h4OQPs+oG7+NT1Y9d8pVvx27kjyrdSU/MMvYPwqUJj9qFHQ/2+6hv60SnT67t7M6G5mpvg9qfb86YLY9P6CBvxp25r9ggKK/VRMwPK1qmL+ErRQ/10nUPVttTz86/9M/qpWZPo+pCEB8wv8+yd9dP3T3Uz/Yi9q+5pwWvmxYr7/uAhM+KxtcP7VgCb/nKYu/E9xLv6KplL88DTs/saafv+PbTD7VqaY+FkhNv37qgb/HAXM/w+gBQFhDjT9yjeo/AtiOvyGPhj9XBgW/6pxSP1Bqzz6wmmS+O//evecm3T7fJtS+rXB7v0iV77+7ape/qsVAP0WRP7+2uLK+52c1Pk5dmb9fctq/+yCsPtoweb/tYWY/8DiQP0SGdb9VH2q/s0oAv++2Jb5/bLK+bvAXvwyeuT57ieQ+ixhlP2erTT9N9bQ/6Cz/PoxIKLzXxcu+pnQBQH6L37/tK6W/qb6Dv4PhSz/ZsN6/TBmwv5IhOb8XD8w9b8F7v8hHp71dxa09S1uPvk/wrr9mZow/t0TcP5/yIrtrf1C/2ynePxOM1z4lNL4+Ia2vPwQ6oL8rXU8/2EYMv3ncfj97648/EEXUvnFt4T+dUjK/rMSRPw8SfL8AO2A/i2CYv75ZEEDnsJI/9Wd5v1mmUr+liem8bQaLv+0jxT3Q930+rJfAPsOl0L44pTo/uFlQP64Slb9mcI+/hPpsP9gHq79XnJm+nBz2Pscdrj7WCzU/S37fPghs379eQ3a/A2nWPyNegr7XHK+/HIOfPcRBnb9yc+I/V2yfv6NR3T88VQVA5IIHP5Fd+T7SDa2/rjhXv9GHLb8kHTi+G2PpPcLUAr+CzVe+xKKZvz+8Wb9tezo/K4J+vn/8Gz4UvLq/YM2ov//EEEAa8Bi/QmN1Pj3amD4Dm7S/z/mdP5DyMb5ZpOE+K8iSvztNyD652C0/cgKDPxQuFz/dd2s++SBwv4evxL7NqYo/jWxcv+3GKb+ug8c+q8BGvs4TMj5Iy1u9jgVev2mW3r6N7J0/3u/HvuXtCD/+Mem7PTh3v50mMz+g0vE+aHJ5v40hDb/YWQtAd2UOPeC0Tb93PUG/ZWCUP45Zor8l4Aq/8qXbvVYio79CS5c/yfVsvPulxT0Gh3A/SCmOP/BYmT5Gb+E/HGKmv1CysT7UMru+G2SpP2S96L66rIy/u/NiPyk0Bz/yQfu9H4rFvbwllj+Rf+s9HxSAv/+Yhr/HPA0+KUTaPkKwv7+8VvO+yEqav2rdzD16ErA9Em3gPxh3sz78O5U8TLGKv0Y4o78W9Ke/zHCWvz+g1r+O/JC/4R17P5stj7+TPbs+vW4tPnpLZL8UvFY/WvB8P3LLgT4ZEH+/xszhPhDJPz98Oeo9rmx0v5qC1b4bGze/WeHQP35sU7/4aFU/fnbmvlYHdD9AA4q/o2fsO4VvhT7ssVq/e+CBPy3Glj9w2kE/yrOKv1jazr3NZYw/wmhivkTBvL6ZEvE+MzxSv1c8Qz8svEc/JxZsP3coRL8oCw9AtA2MPyeTCr8E44G/+9V4vyoImL8geg6/nejlPuNdir+DCiQ/bQl1vhdyUD/Hsj4+RlxfPwiMgT/hu3u/ckZQv7kZ3r9CjlC/gBMRv7YXTb9AZUA/uINhP2YUhr9vagQ9rEOUv8PeRj9Pp92+uoo2PBcM578iIcA/t4K9vyqbej6FA6C+WKxoPz8rgT+sxaw+BlyAvq6Yhr+cGIW/ZjMAvw+KXj8TEze/lAe9v7woo7/oGLE/Wr28v46D4L9KmuM8dSdwP5/ntb/zOyc+qEl/P58ClT6EnwC/0wPyv/zD6b/C/WM/55lwv/I8zT2Ax4y/CzjmvzHU2L+ualO/l6jdvjblxz8W6Dy/vf6yvn0kRD/zDXm/X/sgv5mZpz4IxMq+cKeAP1UZdD97Vje/FSDmv25zoD99zkK/FUphvzZtSr9dXou+OYZxP8mt2j/8R72/wimKvz+dm7/BVkG/nCyyv4bzzz//WT4/zd73v83XNj9+UjU/PVF/PK0PmD8RW0U/DFjNPg0MDL9obTc/YqUDQAIdar89uw0/Dylcv7ERhr+jV4E+7et8v4OgB79Gu4O9TzRlP+QKlL+YQtw79zREP5H7+r9Cxh+/LmhVv73Aur8h4pA/R7RLvYaRDUDKhze/OVtGP+Zugr/08Y2/b4/XPztTA0CZQNS+IKKKv8B8bz/pkJK/1fvXvzQH4D8r2Pm9HojVO9u7xzwgk4m/I0EcP0dF0z4gjIq/71VmP2GFmb9YoQRAdibRPys8vT/nUn++FF8OQLSHPz97rc2+HfPkv8LTKz9ooAI9VE6YvgOcVj57eF6/FGLFP9iCqb/Vhsq/WCWIP1c2Nr+bVu6/3Pbrv76BC0BoiPu+D8PkP51tBT4WaYq+XU6ZP7P6gj6PHHI/hAB5P0Gr/j02xIQ/LplHP1P0Xz+xR7C/6PtOv77rvL9kFGO//DE1v/FNjD/UmI6/ByeMvozmVr8nTSu+wZqSv37ITT/6wzA/EPKkvySogb8HPpi/stlNvzuzvD78ORy/KNS0PdIFQD9ZiIS/0SHOvssVMr+W3p+/LL96P+SIB7/S68m+ldHRvyj2jL9cj0E+kYAQv3IpVL9xnYC/Vb+LvyKnWr/NBWC/8oOavyKP6T5kvok/g7mfvjWD3T8iw2q+RouAPhDXkb9EP32/cl3Wvx07gD+2egw+t9+ZPnZuBz81i5w/H03jP8udVr+HPYi/LY+Ov0vegL/yB4M/PS1hP/7xg79MoARAYbXSvzxMVz8RZVq/AIpBPwQiBECvfC8/kj4qv8DggT5+Ehc/oxpQv3SF6r822L6/qLKOP5T5Zb81nW4+CO9svyQZNz8SHHm+tdzavQlxUL/r1H0/1V8AQHoyPL/6NjM/ltmDv5hsCT/7KM++uFtiv0LOpz+ISa++yw7hPy14hD6MTww/67gEQNQEYj/93WW/LBt1P5hOTT7iltC+TLqPvWImcb0tFI0+AMSqPvuG17++hog+RH1Av0R3Hz++BQ2/HRx7v7IJ9L9aTZC+WUm/PglHnj8/XEc/Y0Knv8/Rwb3t/5U/LGOWvzqBp7/Hza6/JgyDvxwaVz9oNtA/XtLKP1q7mj5flZm/i/SOP2hY5D9vjr0/96OmvtQxTb9UlCQ/sfAiv/rmkD9ASqc86TSxPgh1gb46c/U+Jyuwv8xMKz8uovG/TSEEP5LZTL/K6W0/q1IdPw==\",\"dtype\":\"float32\",\"shape\":[1000]}}},\"id\":\"d4cece09-e57c-4013-b53e-53e92b1cf9fc\",\"type\":\"ColumnDataSource\"},{\"attributes\":{\"source\":{\"id\":\"d4cece09-e57c-4013-b53e-53e92b1cf9fc\",\"type\":\"ColumnDataSource\"}},\"id\":\"f273ebbd-1ef5-47bf-8211-df8fc467d5ba\",\"type\":\"CDSView\"},{\"attributes\":{},\"id\":\"df58296b-5167-4c35-bef3-7438d1879d72\",\"type\":\"WheelZoomTool\"},{\"attributes\":{\"overlay\":{\"id\":\"eee87608-6f17-4525-ac91-2aa2ebf7af7f\",\"type\":\"BoxAnnotation\"}},\"id\":\"5e23873f-1cf2-41c5-9514-f69a13d43e4e\",\"type\":\"BoxZoomTool\"},{\"attributes\":{},\"id\":\"216bd7c8-372c-43ca-bc2b-38a86fba9031\",\"type\":\"SaveTool\"},{\"attributes\":{},\"id\":\"dd218c2a-5bac-4550-9326-25328aa340e0\",\"type\":\"ResetTool\"},{\"attributes\":{},\"id\":\"600867aa-6b2a-4276-a389-d74b25d3efaa\",\"type\":\"HelpTool\"},{\"attributes\":{\"active_drag\":\"auto\",\"active_inspect\":\"auto\",\"active_scroll\":{\"id\":\"df58296b-5167-4c35-bef3-7438d1879d72\",\"type\":\"WheelZoomTool\"},\"active_tap\":\"auto\",\"tools\":[{\"id\":\"c40c3fef-e3b1-49d7-a1e0-bebe594e2c4e\",\"type\":\"PanTool\"},{\"id\":\"df58296b-5167-4c35-bef3-7438d1879d72\",\"type\":\"WheelZoomTool\"},{\"id\":\"5e23873f-1cf2-41c5-9514-f69a13d43e4e\",\"type\":\"BoxZoomTool\"},{\"id\":\"216bd7c8-372c-43ca-bc2b-38a86fba9031\",\"type\":\"SaveTool\"},{\"id\":\"dd218c2a-5bac-4550-9326-25328aa340e0\",\"type\":\"ResetTool\"},{\"id\":\"600867aa-6b2a-4276-a389-d74b25d3efaa\",\"type\":\"HelpTool\"},{\"id\":\"23dfb6cf-79fe-4104-be72-e3bd2c9a1ff7\",\"type\":\"HoverTool\"}]},\"id\":\"6a21e32a-f591-4d7f-97bf-e3feb71e6887\",\"type\":\"Toolbar\"},{\"attributes\":{\"plot\":null,\"text\":\"\"},\"id\":\"08c68010-6bac-4ed6-93da-8331ab41bc3f\",\"type\":\"Title\"},{\"attributes\":{\"fill_alpha\":{\"value\":0.1},\"fill_color\":{\"value\":\"#1f77b4\"},\"line_alpha\":{\"value\":0.1},\"line_color\":{\"value\":\"#1f77b4\"},\"size\":{\"units\":\"screen\",\"value\":10},\"x\":{\"field\":\"x\"},\"y\":{\"field\":\"y\"}},\"id\":\"21e2eeb9-2231-480e-9326-fcf4d1af1585\",\"type\":\"Circle\"},{\"attributes\":{},\"id\":\"ec116b38-59b6-4dd6-a9d8-a9cd908a7c81\",\"type\":\"LinearScale\"},{\"attributes\":{\"callback\":null,\"tooltips\":[[\"token\",\"@token\"]]},\"id\":\"23dfb6cf-79fe-4104-be72-e3bd2c9a1ff7\",\"type\":\"HoverTool\"},{\"attributes\":{\"plot\":{\"id\":\"421cadc6-40a2-412a-9d96-354aa4ad3c50\",\"subtype\":\"Figure\",\"type\":\"Plot\"},\"ticker\":{\"id\":\"ff1279d7-5573-4ceb-af59-43099ffebb0c\",\"type\":\"BasicTicker\"}},\"id\":\"7877295a-9478-42a4-bd7d-73cad2a57d75\",\"type\":\"Grid\"},{\"attributes\":{},\"id\":\"713b2539-0f17-417e-957c-0a0fc71ee65c\",\"type\":\"BasicTickFormatter\"},{\"attributes\":{\"formatter\":{\"id\":\"713b2539-0f17-417e-957c-0a0fc71ee65c\",\"type\":\"BasicTickFormatter\"},\"plot\":{\"id\":\"421cadc6-40a2-412a-9d96-354aa4ad3c50\",\"subtype\":\"Figure\",\"type\":\"Plot\"},\"ticker\":{\"id\":\"ff1279d7-5573-4ceb-af59-43099ffebb0c\",\"type\":\"BasicTicker\"}},\"id\":\"ad5ec9c6-5bf4-4634-b7ef-3a11d615253f\",\"type\":\"LinearAxis\"},{\"attributes\":{},\"id\":\"ff1279d7-5573-4ceb-af59-43099ffebb0c\",\"type\":\"BasicTicker\"},{\"attributes\":{\"callback\":null},\"id\":\"7f2f764c-4fc6-4aa8-b181-082146b5419f\",\"type\":\"DataRange1d\"},{\"attributes\":{\"formatter\":{\"id\":\"12680426-ea31-4718-b8cb-92cda987e1b9\",\"type\":\"BasicTickFormatter\"},\"plot\":{\"id\":\"421cadc6-40a2-412a-9d96-354aa4ad3c50\",\"subtype\":\"Figure\",\"type\":\"Plot\"},\"ticker\":{\"id\":\"456aa701-0382-4c23-adfd-f7177a527e70\",\"type\":\"BasicTicker\"}},\"id\":\"00e14fd1-163e-4621-9542-982ff0f84de0\",\"type\":\"LinearAxis\"},{\"attributes\":{},\"id\":\"12680426-ea31-4718-b8cb-92cda987e1b9\",\"type\":\"BasicTickFormatter\"},{\"attributes\":{},\"id\":\"a9016d4e-21b4-47e0-85f6-2832f474add3\",\"type\":\"LinearScale\"},{\"attributes\":{},\"id\":\"456aa701-0382-4c23-adfd-f7177a527e70\",\"type\":\"BasicTicker\"},{\"attributes\":{\"dimension\":1,\"plot\":{\"id\":\"421cadc6-40a2-412a-9d96-354aa4ad3c50\",\"subtype\":\"Figure\",\"type\":\"Plot\"},\"ticker\":{\"id\":\"456aa701-0382-4c23-adfd-f7177a527e70\",\"type\":\"BasicTicker\"}},\"id\":\"730b4d82-0515-4a5f-ba77-868a44395be9\",\"type\":\"Grid\"},{\"attributes\":{\"data_source\":{\"id\":\"d4cece09-e57c-4013-b53e-53e92b1cf9fc\",\"type\":\"ColumnDataSource\"},\"glyph\":{\"id\":\"aa5d51c7-5bf9-4177-bd92-69151a784bbb\",\"type\":\"Circle\"},\"hover_glyph\":null,\"muted_glyph\":null,\"nonselection_glyph\":{\"id\":\"21e2eeb9-2231-480e-9326-fcf4d1af1585\",\"type\":\"Circle\"},\"selection_glyph\":null,\"view\":{\"id\":\"f273ebbd-1ef5-47bf-8211-df8fc467d5ba\",\"type\":\"CDSView\"}},\"id\":\"8c7c8af6-5a18-41ab-9a22-76445a78dfff\",\"type\":\"GlyphRenderer\"},{\"attributes\":{\"below\":[{\"id\":\"ad5ec9c6-5bf4-4634-b7ef-3a11d615253f\",\"type\":\"LinearAxis\"}],\"left\":[{\"id\":\"00e14fd1-163e-4621-9542-982ff0f84de0\",\"type\":\"LinearAxis\"}],\"plot_height\":400,\"renderers\":[{\"id\":\"ad5ec9c6-5bf4-4634-b7ef-3a11d615253f\",\"type\":\"LinearAxis\"},{\"id\":\"7877295a-9478-42a4-bd7d-73cad2a57d75\",\"type\":\"Grid\"},{\"id\":\"00e14fd1-163e-4621-9542-982ff0f84de0\",\"type\":\"LinearAxis\"},{\"id\":\"730b4d82-0515-4a5f-ba77-868a44395be9\",\"type\":\"Grid\"},{\"id\":\"eee87608-6f17-4525-ac91-2aa2ebf7af7f\",\"type\":\"BoxAnnotation\"},{\"id\":\"8c7c8af6-5a18-41ab-9a22-76445a78dfff\",\"type\":\"GlyphRenderer\"}],\"title\":{\"id\":\"08c68010-6bac-4ed6-93da-8331ab41bc3f\",\"type\":\"Title\"},\"toolbar\":{\"id\":\"6a21e32a-f591-4d7f-97bf-e3feb71e6887\",\"type\":\"Toolbar\"},\"x_range\":{\"id\":\"31800b99-08ba-4c15-a0ec-967c41add3a7\",\"type\":\"DataRange1d\"},\"x_scale\":{\"id\":\"a9016d4e-21b4-47e0-85f6-2832f474add3\",\"type\":\"LinearScale\"},\"y_range\":{\"id\":\"7f2f764c-4fc6-4aa8-b181-082146b5419f\",\"type\":\"DataRange1d\"},\"y_scale\":{\"id\":\"ec116b38-59b6-4dd6-a9d8-a9cd908a7c81\",\"type\":\"LinearScale\"}},\"id\":\"421cadc6-40a2-412a-9d96-354aa4ad3c50\",\"subtype\":\"Figure\",\"type\":\"Plot\"},{\"attributes\":{\"fill_alpha\":{\"value\":0.25},\"fill_color\":{\"field\":\"color\"},\"line_alpha\":{\"value\":0.25},\"line_color\":{\"field\":\"color\"},\"size\":{\"units\":\"screen\",\"value\":10},\"x\":{\"field\":\"x\"},\"y\":{\"field\":\"y\"}},\"id\":\"aa5d51c7-5bf9-4177-bd92-69151a784bbb\",\"type\":\"Circle\"}],\"root_ids\":[\"421cadc6-40a2-412a-9d96-354aa4ad3c50\"]},\"title\":\"Bokeh Application\",\"version\":\"0.12.10\"}};\n",
       "    var render_items = [{\"docid\":\"dd1d6d47-e7b0-4b18-ae04-654c366d6019\",\"elementid\":\"b5d1d96c-f046-47b5-9054-d42347eb942a\",\"modelid\":\"421cadc6-40a2-412a-9d96-354aa4ad3c50\"}];\n",
       "\n",
       "    root.Bokeh.embed.embed_items(docs_json, render_items);\n",
       "  }\n",
       "\n",
       "  if (root.Bokeh !== undefined) {\n",
       "    embed_document(root);\n",
       "  } else {\n",
       "    var attempts = 0;\n",
       "    var timer = setInterval(function(root) {\n",
       "      if (root.Bokeh !== undefined) {\n",
       "        embed_document(root);\n",
       "        clearInterval(timer);\n",
       "      }\n",
       "      attempts++;\n",
       "      if (attempts > 100) {\n",
       "        console.log(\"Bokeh: ERROR: Unable to embed document because BokehJS library is missing\")\n",
       "        clearInterval(timer);\n",
       "      }\n",
       "    }, 10, root)\n",
       "  }\n",
       "})(window);"
      ],
      "application/vnd.bokehjs_exec.v0+json": ""
     },
     "metadata": {
      "application/vnd.bokehjs_exec.v0+json": {
       "id": "421cadc6-40a2-412a-9d96-354aa4ad3c50"
      }
     },
     "output_type": "display_data"
    },
    {
     "data": {
      "text/html": [
       "<div style=\"display: table;\"><div style=\"display: table-row;\"><div style=\"display: table-cell;\"><b title=\"bokeh.plotting.figure.Figure\">Figure</b>(</div><div style=\"display: table-cell;\">id&nbsp;=&nbsp;'421cadc6-40a2-412a-9d96-354aa4ad3c50', <span id=\"f64922e0-62ba-4d89-8cec-afa3fd9c58f5\" style=\"cursor: pointer;\">&hellip;)</span></div></div><div class=\"977e3660-99f2-4e4d-93af-db399879cda6\" style=\"display: none;\"><div style=\"display: table-cell;\"></div><div style=\"display: table-cell;\">above&nbsp;=&nbsp;[],</div></div><div class=\"977e3660-99f2-4e4d-93af-db399879cda6\" style=\"display: none;\"><div style=\"display: table-cell;\"></div><div style=\"display: table-cell;\">aspect_scale&nbsp;=&nbsp;1,</div></div><div class=\"977e3660-99f2-4e4d-93af-db399879cda6\" style=\"display: none;\"><div style=\"display: table-cell;\"></div><div style=\"display: table-cell;\">background_fill_alpha&nbsp;=&nbsp;{'value': 1.0},</div></div><div class=\"977e3660-99f2-4e4d-93af-db399879cda6\" style=\"display: none;\"><div style=\"display: table-cell;\"></div><div style=\"display: table-cell;\">background_fill_color&nbsp;=&nbsp;{'value': '#ffffff'},</div></div><div class=\"977e3660-99f2-4e4d-93af-db399879cda6\" style=\"display: none;\"><div style=\"display: table-cell;\"></div><div style=\"display: table-cell;\">below&nbsp;=&nbsp;[LinearAxis(id='ad5ec9c6-5bf4-4634-b7ef-3a11d615253f', ...)],</div></div><div class=\"977e3660-99f2-4e4d-93af-db399879cda6\" style=\"display: none;\"><div style=\"display: table-cell;\"></div><div style=\"display: table-cell;\">border_fill_alpha&nbsp;=&nbsp;{'value': 1.0},</div></div><div class=\"977e3660-99f2-4e4d-93af-db399879cda6\" style=\"display: none;\"><div style=\"display: table-cell;\"></div><div style=\"display: table-cell;\">border_fill_color&nbsp;=&nbsp;{'value': '#ffffff'},</div></div><div class=\"977e3660-99f2-4e4d-93af-db399879cda6\" style=\"display: none;\"><div style=\"display: table-cell;\"></div><div style=\"display: table-cell;\">css_classes&nbsp;=&nbsp;None,</div></div><div class=\"977e3660-99f2-4e4d-93af-db399879cda6\" style=\"display: none;\"><div style=\"display: table-cell;\"></div><div style=\"display: table-cell;\">disabled&nbsp;=&nbsp;False,</div></div><div class=\"977e3660-99f2-4e4d-93af-db399879cda6\" style=\"display: none;\"><div style=\"display: table-cell;\"></div><div style=\"display: table-cell;\">extra_x_ranges&nbsp;=&nbsp;{},</div></div><div class=\"977e3660-99f2-4e4d-93af-db399879cda6\" style=\"display: none;\"><div style=\"display: table-cell;\"></div><div style=\"display: table-cell;\">extra_y_ranges&nbsp;=&nbsp;{},</div></div><div class=\"977e3660-99f2-4e4d-93af-db399879cda6\" style=\"display: none;\"><div style=\"display: table-cell;\"></div><div style=\"display: table-cell;\">h_symmetry&nbsp;=&nbsp;True,</div></div><div class=\"977e3660-99f2-4e4d-93af-db399879cda6\" style=\"display: none;\"><div style=\"display: table-cell;\"></div><div style=\"display: table-cell;\">height&nbsp;=&nbsp;None,</div></div><div class=\"977e3660-99f2-4e4d-93af-db399879cda6\" style=\"display: none;\"><div style=\"display: table-cell;\"></div><div style=\"display: table-cell;\">hidpi&nbsp;=&nbsp;True,</div></div><div class=\"977e3660-99f2-4e4d-93af-db399879cda6\" style=\"display: none;\"><div style=\"display: table-cell;\"></div><div style=\"display: table-cell;\">js_event_callbacks&nbsp;=&nbsp;{},</div></div><div class=\"977e3660-99f2-4e4d-93af-db399879cda6\" style=\"display: none;\"><div style=\"display: table-cell;\"></div><div style=\"display: table-cell;\">js_property_callbacks&nbsp;=&nbsp;{},</div></div><div class=\"977e3660-99f2-4e4d-93af-db399879cda6\" style=\"display: none;\"><div style=\"display: table-cell;\"></div><div style=\"display: table-cell;\">left&nbsp;=&nbsp;[LinearAxis(id='00e14fd1-163e-4621-9542-982ff0f84de0', ...)],</div></div><div class=\"977e3660-99f2-4e4d-93af-db399879cda6\" style=\"display: none;\"><div style=\"display: table-cell;\"></div><div style=\"display: table-cell;\">lod_factor&nbsp;=&nbsp;10,</div></div><div class=\"977e3660-99f2-4e4d-93af-db399879cda6\" style=\"display: none;\"><div style=\"display: table-cell;\"></div><div style=\"display: table-cell;\">lod_interval&nbsp;=&nbsp;300,</div></div><div class=\"977e3660-99f2-4e4d-93af-db399879cda6\" style=\"display: none;\"><div style=\"display: table-cell;\"></div><div style=\"display: table-cell;\">lod_threshold&nbsp;=&nbsp;2000,</div></div><div class=\"977e3660-99f2-4e4d-93af-db399879cda6\" style=\"display: none;\"><div style=\"display: table-cell;\"></div><div style=\"display: table-cell;\">lod_timeout&nbsp;=&nbsp;500,</div></div><div class=\"977e3660-99f2-4e4d-93af-db399879cda6\" style=\"display: none;\"><div style=\"display: table-cell;\"></div><div style=\"display: table-cell;\">match_aspect&nbsp;=&nbsp;False,</div></div><div class=\"977e3660-99f2-4e4d-93af-db399879cda6\" style=\"display: none;\"><div style=\"display: table-cell;\"></div><div style=\"display: table-cell;\">min_border&nbsp;=&nbsp;5,</div></div><div class=\"977e3660-99f2-4e4d-93af-db399879cda6\" style=\"display: none;\"><div style=\"display: table-cell;\"></div><div style=\"display: table-cell;\">min_border_bottom&nbsp;=&nbsp;None,</div></div><div class=\"977e3660-99f2-4e4d-93af-db399879cda6\" style=\"display: none;\"><div style=\"display: table-cell;\"></div><div style=\"display: table-cell;\">min_border_left&nbsp;=&nbsp;None,</div></div><div class=\"977e3660-99f2-4e4d-93af-db399879cda6\" style=\"display: none;\"><div style=\"display: table-cell;\"></div><div style=\"display: table-cell;\">min_border_right&nbsp;=&nbsp;None,</div></div><div class=\"977e3660-99f2-4e4d-93af-db399879cda6\" style=\"display: none;\"><div style=\"display: table-cell;\"></div><div style=\"display: table-cell;\">min_border_top&nbsp;=&nbsp;None,</div></div><div class=\"977e3660-99f2-4e4d-93af-db399879cda6\" style=\"display: none;\"><div style=\"display: table-cell;\"></div><div style=\"display: table-cell;\">name&nbsp;=&nbsp;None,</div></div><div class=\"977e3660-99f2-4e4d-93af-db399879cda6\" style=\"display: none;\"><div style=\"display: table-cell;\"></div><div style=\"display: table-cell;\">outline_line_alpha&nbsp;=&nbsp;{'value': 1.0},</div></div><div class=\"977e3660-99f2-4e4d-93af-db399879cda6\" style=\"display: none;\"><div style=\"display: table-cell;\"></div><div style=\"display: table-cell;\">outline_line_cap&nbsp;=&nbsp;'butt',</div></div><div class=\"977e3660-99f2-4e4d-93af-db399879cda6\" style=\"display: none;\"><div style=\"display: table-cell;\"></div><div style=\"display: table-cell;\">outline_line_color&nbsp;=&nbsp;{'value': '#e5e5e5'},</div></div><div class=\"977e3660-99f2-4e4d-93af-db399879cda6\" style=\"display: none;\"><div style=\"display: table-cell;\"></div><div style=\"display: table-cell;\">outline_line_dash&nbsp;=&nbsp;[],</div></div><div class=\"977e3660-99f2-4e4d-93af-db399879cda6\" style=\"display: none;\"><div style=\"display: table-cell;\"></div><div style=\"display: table-cell;\">outline_line_dash_offset&nbsp;=&nbsp;0,</div></div><div class=\"977e3660-99f2-4e4d-93af-db399879cda6\" style=\"display: none;\"><div style=\"display: table-cell;\"></div><div style=\"display: table-cell;\">outline_line_join&nbsp;=&nbsp;'miter',</div></div><div class=\"977e3660-99f2-4e4d-93af-db399879cda6\" style=\"display: none;\"><div style=\"display: table-cell;\"></div><div style=\"display: table-cell;\">outline_line_width&nbsp;=&nbsp;{'value': 1},</div></div><div class=\"977e3660-99f2-4e4d-93af-db399879cda6\" style=\"display: none;\"><div style=\"display: table-cell;\"></div><div style=\"display: table-cell;\">output_backend&nbsp;=&nbsp;'canvas',</div></div><div class=\"977e3660-99f2-4e4d-93af-db399879cda6\" style=\"display: none;\"><div style=\"display: table-cell;\"></div><div style=\"display: table-cell;\">plot_height&nbsp;=&nbsp;400,</div></div><div class=\"977e3660-99f2-4e4d-93af-db399879cda6\" style=\"display: none;\"><div style=\"display: table-cell;\"></div><div style=\"display: table-cell;\">plot_width&nbsp;=&nbsp;600,</div></div><div class=\"977e3660-99f2-4e4d-93af-db399879cda6\" style=\"display: none;\"><div style=\"display: table-cell;\"></div><div style=\"display: table-cell;\">renderers&nbsp;=&nbsp;[LinearAxis(id='ad5ec9c6-5bf4-4634-b7ef-3a11d615253f', ...), Grid(id='7877295a-9478-42a4-bd7d-73cad2a57d75', ...), LinearAxis(id='00e14fd1-163e-4621-9542-982ff0f84de0', ...), Grid(id='730b4d82-0515-4a5f-ba77-868a44395be9', ...), BoxAnnotation(id='eee87608-6f17-4525-ac91-2aa2ebf7af7f', ...), GlyphRenderer(id='8c7c8af6-5a18-41ab-9a22-76445a78dfff', ...)],</div></div><div class=\"977e3660-99f2-4e4d-93af-db399879cda6\" style=\"display: none;\"><div style=\"display: table-cell;\"></div><div style=\"display: table-cell;\">right&nbsp;=&nbsp;[],</div></div><div class=\"977e3660-99f2-4e4d-93af-db399879cda6\" style=\"display: none;\"><div style=\"display: table-cell;\"></div><div style=\"display: table-cell;\">sizing_mode&nbsp;=&nbsp;'fixed',</div></div><div class=\"977e3660-99f2-4e4d-93af-db399879cda6\" style=\"display: none;\"><div style=\"display: table-cell;\"></div><div style=\"display: table-cell;\">subscribed_events&nbsp;=&nbsp;[],</div></div><div class=\"977e3660-99f2-4e4d-93af-db399879cda6\" style=\"display: none;\"><div style=\"display: table-cell;\"></div><div style=\"display: table-cell;\">tags&nbsp;=&nbsp;[],</div></div><div class=\"977e3660-99f2-4e4d-93af-db399879cda6\" style=\"display: none;\"><div style=\"display: table-cell;\"></div><div style=\"display: table-cell;\">title&nbsp;=&nbsp;Title(id='08c68010-6bac-4ed6-93da-8331ab41bc3f', ...),</div></div><div class=\"977e3660-99f2-4e4d-93af-db399879cda6\" style=\"display: none;\"><div style=\"display: table-cell;\"></div><div style=\"display: table-cell;\">title_location&nbsp;=&nbsp;'above',</div></div><div class=\"977e3660-99f2-4e4d-93af-db399879cda6\" style=\"display: none;\"><div style=\"display: table-cell;\"></div><div style=\"display: table-cell;\">toolbar&nbsp;=&nbsp;Toolbar(id='6a21e32a-f591-4d7f-97bf-e3feb71e6887', ...),</div></div><div class=\"977e3660-99f2-4e4d-93af-db399879cda6\" style=\"display: none;\"><div style=\"display: table-cell;\"></div><div style=\"display: table-cell;\">toolbar_location&nbsp;=&nbsp;'right',</div></div><div class=\"977e3660-99f2-4e4d-93af-db399879cda6\" style=\"display: none;\"><div style=\"display: table-cell;\"></div><div style=\"display: table-cell;\">toolbar_sticky&nbsp;=&nbsp;True,</div></div><div class=\"977e3660-99f2-4e4d-93af-db399879cda6\" style=\"display: none;\"><div style=\"display: table-cell;\"></div><div style=\"display: table-cell;\">v_symmetry&nbsp;=&nbsp;False,</div></div><div class=\"977e3660-99f2-4e4d-93af-db399879cda6\" style=\"display: none;\"><div style=\"display: table-cell;\"></div><div style=\"display: table-cell;\">width&nbsp;=&nbsp;None,</div></div><div class=\"977e3660-99f2-4e4d-93af-db399879cda6\" style=\"display: none;\"><div style=\"display: table-cell;\"></div><div style=\"display: table-cell;\">x_range&nbsp;=&nbsp;DataRange1d(id='31800b99-08ba-4c15-a0ec-967c41add3a7', ...),</div></div><div class=\"977e3660-99f2-4e4d-93af-db399879cda6\" style=\"display: none;\"><div style=\"display: table-cell;\"></div><div style=\"display: table-cell;\">x_scale&nbsp;=&nbsp;LinearScale(id='a9016d4e-21b4-47e0-85f6-2832f474add3', ...),</div></div><div class=\"977e3660-99f2-4e4d-93af-db399879cda6\" style=\"display: none;\"><div style=\"display: table-cell;\"></div><div style=\"display: table-cell;\">y_range&nbsp;=&nbsp;DataRange1d(id='7f2f764c-4fc6-4aa8-b181-082146b5419f', ...),</div></div><div class=\"977e3660-99f2-4e4d-93af-db399879cda6\" style=\"display: none;\"><div style=\"display: table-cell;\"></div><div style=\"display: table-cell;\">y_scale&nbsp;=&nbsp;LinearScale(id='ec116b38-59b6-4dd6-a9d8-a9cd908a7c81', ...))</div></div></div>\n",
       "<script>\n",
       "(function() {\n",
       "  var expanded = false;\n",
       "  var ellipsis = document.getElementById(\"f64922e0-62ba-4d89-8cec-afa3fd9c58f5\");\n",
       "  ellipsis.addEventListener(\"click\", function() {\n",
       "    var rows = document.getElementsByClassName(\"977e3660-99f2-4e4d-93af-db399879cda6\");\n",
       "    for (var i = 0; i < rows.length; i++) {\n",
       "      var el = rows[i];\n",
       "      el.style.display = expanded ? \"none\" : \"table-row\";\n",
       "    }\n",
       "    ellipsis.innerHTML = expanded ? \"&hellip;)\" : \"&lsaquo;&lsaquo;&lsaquo;\";\n",
       "    expanded = !expanded;\n",
       "  });\n",
       "})();\n",
       "</script>\n"
      ],
      "text/plain": [
       "Figure(id='421cadc6-40a2-412a-9d96-354aa4ad3c50', ...)"
      ]
     },
     "execution_count": 23,
     "metadata": {},
     "output_type": "execute_result"
    }
   ],
   "source": [
    "draw_vectors(word_tsne[:, 0], word_tsne[:, 1], color='green', token=words)"
   ]
  },
  {
   "cell_type": "markdown",
   "metadata": {},
   "source": [
    "### Visualizing phrases\n",
    "\n",
    "Word embeddings can also be used to represent short phrases. The simplest way is to take __an average__ of vectors for all tokens in the phrase with some weights.\n",
    "\n",
    "This trick is useful to identify what data are you working with: find if there are any outliers, clusters or other artefacts.\n",
    "\n",
    "Let's try this new hammer on our data!\n"
   ]
  },
  {
   "cell_type": "code",
   "execution_count": 24,
   "metadata": {
    "collapsed": true
   },
   "outputs": [],
   "source": [
    "def get_phrase_embedding(phrase):\n",
    "    \"\"\"\n",
    "    Convert phrase to a vector by aggregating it's word embeddings. See description above.\n",
    "    \"\"\"\n",
    "    # 1. lowercase phrase\n",
    "    # 2. tokenize phrase\n",
    "    # 3. average word vectors for all words in tokenized phrase\n",
    "    # skip words that are not in model's vocabulary\n",
    "    # if all words are missing from vocabulary, return zeros\n",
    "\n",
    "    words = tokenizer.tokenize(phrase.lower())\n",
    "    vectors = np.array(list(map(model.get_vector, filter(lambda x: x in model.vocab, words))))\n",
    "    if len(vectors) == 0:\n",
    "        return np.zeros([model.vector_size], dtype='float32')\n",
    "    return np.mean(vectors, axis=0)"
   ]
  },
  {
   "cell_type": "code",
   "execution_count": 25,
   "metadata": {
    "collapsed": true,
    "scrolled": true
   },
   "outputs": [],
   "source": [
    "vector = get_phrase_embedding(\"I'm very sure. This never happened to me before...\")\n",
    "\n",
    "assert np.allclose(vector[::10],\n",
    "                   np.array([ 0.31807372, -0.02558171,  0.0933293 , -0.1002182 , -1.0278689 ,\n",
    "                             -0.16621883,  0.05083408,  0.17989802,  1.3701859 ,  0.08655966],\n",
    "                              dtype=np.float32))"
   ]
  },
  {
   "cell_type": "code",
   "execution_count": 26,
   "metadata": {
    "collapsed": true
   },
   "outputs": [],
   "source": [
    "# let's only consider ~5k phrases for a first run.\n",
    "chosen_phrases = data[::len(data) // 1000]\n",
    "\n",
    "# compute vectors for chosen phrases\n",
    "phrase_vectors = np.array(list(map(get_phrase_embedding, chosen_phrases)))"
   ]
  },
  {
   "cell_type": "code",
   "execution_count": 27,
   "metadata": {
    "collapsed": true
   },
   "outputs": [],
   "source": [
    "assert isinstance(phrase_vectors, np.ndarray) and np.isfinite(phrase_vectors).all()\n",
    "assert phrase_vectors.shape == (len(chosen_phrases), model.vector_size)"
   ]
  },
  {
   "cell_type": "code",
   "execution_count": 28,
   "metadata": {},
   "outputs": [
    {
     "name": "stdout",
     "output_type": "stream",
     "text": [
      "[t-SNE] Computing 91 nearest neighbors...\n",
      "[t-SNE] Indexed 1001 samples in 0.086s...\n",
      "[t-SNE] Computed neighbors for 1001 samples in 0.543s...\n",
      "[t-SNE] Computed conditional probabilities for sample 1000 / 1001\n",
      "[t-SNE] Computed conditional probabilities for sample 1001 / 1001\n",
      "[t-SNE] Mean sigma: 0.477874\n",
      "[t-SNE] Computed conditional probabilities in 0.570s\n",
      "[t-SNE] Iteration 50: error = 76.9612122, gradient norm = 0.3374341 (50 iterations in 89.965s)\n",
      "[t-SNE] Iteration 100: error = 79.5759430, gradient norm = 0.2963686 (50 iterations in 62.448s)\n",
      "[t-SNE] Iteration 150: error = 80.9045105, gradient norm = 0.2931196 (50 iterations in 75.076s)\n",
      "[t-SNE] Iteration 200: error = 81.3114624, gradient norm = 0.2935085 (50 iterations in 28.684s)\n",
      "[t-SNE] Iteration 250: error = 81.1218185, gradient norm = 0.2928064 (50 iterations in 29.124s)\n",
      "[t-SNE] KL divergence after 250 iterations with early exaggeration: 81.121819\n",
      "[t-SNE] Iteration 300: error = 1.9928094, gradient norm = 0.0026135 (50 iterations in 18.250s)\n",
      "[t-SNE] Iteration 350: error = 1.8923320, gradient norm = 0.0009227 (50 iterations in 15.368s)\n",
      "[t-SNE] Iteration 400: error = 1.8512691, gradient norm = 0.0005215 (50 iterations in 13.252s)\n",
      "[t-SNE] Iteration 450: error = 1.8325503, gradient norm = 0.0004417 (50 iterations in 14.084s)\n",
      "[t-SNE] Iteration 500: error = 1.8214512, gradient norm = 0.0003416 (50 iterations in 13.070s)\n",
      "[t-SNE] Iteration 550: error = 1.8123269, gradient norm = 0.0002234 (50 iterations in 13.084s)\n",
      "[t-SNE] Iteration 600: error = 1.8025115, gradient norm = 0.0002504 (50 iterations in 13.331s)\n",
      "[t-SNE] Iteration 650: error = 1.7949799, gradient norm = 0.0002159 (50 iterations in 13.408s)\n",
      "[t-SNE] Iteration 700: error = 1.7909281, gradient norm = 0.0001594 (50 iterations in 13.400s)\n",
      "[t-SNE] Iteration 750: error = 1.7865943, gradient norm = 0.0001570 (50 iterations in 14.723s)\n",
      "[t-SNE] Iteration 800: error = 1.7842989, gradient norm = 0.0001533 (50 iterations in 16.077s)\n",
      "[t-SNE] Iteration 850: error = 1.7816144, gradient norm = 0.0001526 (50 iterations in 14.804s)\n",
      "[t-SNE] Iteration 900: error = 1.7795944, gradient norm = 0.0000890 (50 iterations in 15.125s)\n",
      "[t-SNE] Iteration 950: error = 1.7775929, gradient norm = 0.0001480 (50 iterations in 14.150s)\n",
      "[t-SNE] Iteration 1000: error = 1.7767315, gradient norm = 0.0000897 (50 iterations in 14.751s)\n",
      "[t-SNE] Error after 1000 iterations: 1.776731\n"
     ]
    }
   ],
   "source": [
    "# map vectors into 2d space with pca, tsne or your other method of choice\n",
    "# don't forget to normalize\n",
    "\n",
    "phrase_vectors_2d = TSNE(verbose=1000).fit_transform(phrase_vectors)\n",
    "\n",
    "phrase_vectors_2d = (phrase_vectors_2d - phrase_vectors_2d.mean(axis=0)) / phrase_vectors_2d.std(axis=0)"
   ]
  },
  {
   "cell_type": "code",
   "execution_count": 29,
   "metadata": {},
   "outputs": [
    {
     "data": {
      "text/html": [
       "\n",
       "<div class=\"bk-root\">\n",
       "    <div class=\"bk-plotdiv\" id=\"c20af395-f62a-4afd-9ab3-1c69eacc7668\"></div>\n",
       "</div>"
      ]
     },
     "metadata": {},
     "output_type": "display_data"
    },
    {
     "data": {
      "application/javascript": [
       "(function(root) {\n",
       "  function embed_document(root) {\n",
       "    var docs_json = {\"231db516-4550-4384-8d60-eff5e9257598\":{\"roots\":{\"references\":[{\"attributes\":{\"formatter\":{\"id\":\"995e53a6-d0cd-45f5-905a-f55799c3f593\",\"type\":\"BasicTickFormatter\"},\"plot\":{\"id\":\"4562d458-978a-4600-9354-ce8d09dfe400\",\"subtype\":\"Figure\",\"type\":\"Plot\"},\"ticker\":{\"id\":\"b3a1c1c4-299d-456f-99a1-d98be1be07b1\",\"type\":\"BasicTicker\"}},\"id\":\"36f99172-aebd-4b3f-b591-6daa044c065f\",\"type\":\"LinearAxis\"},{\"attributes\":{\"fill_alpha\":{\"value\":0.25},\"fill_color\":{\"field\":\"color\"},\"line_alpha\":{\"value\":0.25},\"line_color\":{\"field\":\"color\"},\"size\":{\"units\":\"screen\",\"value\":20},\"x\":{\"field\":\"x\"},\"y\":{\"field\":\"y\"}},\"id\":\"58bd53a8-2b83-443a-b803-32c3fc500ff8\",\"type\":\"Circle\"},{\"attributes\":{\"below\":[{\"id\":\"0970fe64-3f81-41fb-9b6c-f541f7e57fbc\",\"type\":\"LinearAxis\"}],\"left\":[{\"id\":\"36f99172-aebd-4b3f-b591-6daa044c065f\",\"type\":\"LinearAxis\"}],\"plot_height\":400,\"renderers\":[{\"id\":\"0970fe64-3f81-41fb-9b6c-f541f7e57fbc\",\"type\":\"LinearAxis\"},{\"id\":\"7b860981-fa45-48c9-8589-4a9c3af95c72\",\"type\":\"Grid\"},{\"id\":\"36f99172-aebd-4b3f-b591-6daa044c065f\",\"type\":\"LinearAxis\"},{\"id\":\"c61001ce-e265-4f7f-833b-1eb8999e85bf\",\"type\":\"Grid\"},{\"id\":\"c3fe03a6-11d6-4e79-a467-4d19eef89596\",\"type\":\"BoxAnnotation\"},{\"id\":\"c839857a-9182-415a-8553-28c3c6a41a33\",\"type\":\"GlyphRenderer\"}],\"title\":{\"id\":\"a6491115-6c55-4e01-95b0-da000f3d1481\",\"type\":\"Title\"},\"toolbar\":{\"id\":\"ffbccbf7-55cd-4b10-be18-b5ff2b9b33a6\",\"type\":\"Toolbar\"},\"x_range\":{\"id\":\"1de278ca-957b-4e5b-ada2-5259ef533f60\",\"type\":\"DataRange1d\"},\"x_scale\":{\"id\":\"b5a81242-8632-4dfe-a4a5-58110fb30095\",\"type\":\"LinearScale\"},\"y_range\":{\"id\":\"b588fbf6-4b0a-4e7e-9d67-80e8c770dbf8\",\"type\":\"DataRange1d\"},\"y_scale\":{\"id\":\"67ef0418-330b-4290-b11a-9f8fab39aaad\",\"type\":\"LinearScale\"}},\"id\":\"4562d458-978a-4600-9354-ce8d09dfe400\",\"subtype\":\"Figure\",\"type\":\"Plot\"},{\"attributes\":{\"data_source\":{\"id\":\"28277612-3106-4e53-8124-45fdb6950368\",\"type\":\"ColumnDataSource\"},\"glyph\":{\"id\":\"58bd53a8-2b83-443a-b803-32c3fc500ff8\",\"type\":\"Circle\"},\"hover_glyph\":null,\"muted_glyph\":null,\"nonselection_glyph\":{\"id\":\"b09cfc0a-64e8-44c1-84fe-25b79bd97f5f\",\"type\":\"Circle\"},\"selection_glyph\":null,\"view\":{\"id\":\"cb7ce552-4f24-4836-aae2-c68bccece4cc\",\"type\":\"CDSView\"}},\"id\":\"c839857a-9182-415a-8553-28c3c6a41a33\",\"type\":\"GlyphRenderer\"},{\"attributes\":{},\"id\":\"17b3e2f9-52bd-4b50-b727-32ec61f88876\",\"type\":\"BasicTickFormatter\"},{\"attributes\":{},\"id\":\"995e53a6-d0cd-45f5-905a-f55799c3f593\",\"type\":\"BasicTickFormatter\"},{\"attributes\":{\"overlay\":{\"id\":\"c3fe03a6-11d6-4e79-a467-4d19eef89596\",\"type\":\"BoxAnnotation\"}},\"id\":\"48079885-e999-47a2-969b-6ad214d3de2b\",\"type\":\"BoxZoomTool\"},{\"attributes\":{},\"id\":\"371a1f78-1293-443a-8089-dfc1e9232245\",\"type\":\"WheelZoomTool\"},{\"attributes\":{\"dimension\":1,\"plot\":{\"id\":\"4562d458-978a-4600-9354-ce8d09dfe400\",\"subtype\":\"Figure\",\"type\":\"Plot\"},\"ticker\":{\"id\":\"b3a1c1c4-299d-456f-99a1-d98be1be07b1\",\"type\":\"BasicTicker\"}},\"id\":\"c61001ce-e265-4f7f-833b-1eb8999e85bf\",\"type\":\"Grid\"},{\"attributes\":{\"formatter\":{\"id\":\"17b3e2f9-52bd-4b50-b727-32ec61f88876\",\"type\":\"BasicTickFormatter\"},\"plot\":{\"id\":\"4562d458-978a-4600-9354-ce8d09dfe400\",\"subtype\":\"Figure\",\"type\":\"Plot\"},\"ticker\":{\"id\":\"1c5f33c8-4af0-4a47-8825-3d43894e9e00\",\"type\":\"BasicTicker\"}},\"id\":\"0970fe64-3f81-41fb-9b6c-f541f7e57fbc\",\"type\":\"LinearAxis\"},{\"attributes\":{\"callback\":null},\"id\":\"1de278ca-957b-4e5b-ada2-5259ef533f60\",\"type\":\"DataRange1d\"},{\"attributes\":{\"source\":{\"id\":\"28277612-3106-4e53-8124-45fdb6950368\",\"type\":\"ColumnDataSource\"}},\"id\":\"cb7ce552-4f24-4836-aae2-c68bccece4cc\",\"type\":\"CDSView\"},{\"attributes\":{},\"id\":\"0c5312d4-49c4-4aff-b1cf-465b7a0a2966\",\"type\":\"PanTool\"},{\"attributes\":{\"callback\":null},\"id\":\"b588fbf6-4b0a-4e7e-9d67-80e8c770dbf8\",\"type\":\"DataRange1d\"},{\"attributes\":{\"plot\":null,\"text\":\"\"},\"id\":\"a6491115-6c55-4e01-95b0-da000f3d1481\",\"type\":\"Title\"},{\"attributes\":{},\"id\":\"67ef0418-330b-4290-b11a-9f8fab39aaad\",\"type\":\"LinearScale\"},{\"attributes\":{\"active_drag\":\"auto\",\"active_inspect\":\"auto\",\"active_scroll\":{\"id\":\"371a1f78-1293-443a-8089-dfc1e9232245\",\"type\":\"WheelZoomTool\"},\"active_tap\":\"auto\",\"tools\":[{\"id\":\"0c5312d4-49c4-4aff-b1cf-465b7a0a2966\",\"type\":\"PanTool\"},{\"id\":\"371a1f78-1293-443a-8089-dfc1e9232245\",\"type\":\"WheelZoomTool\"},{\"id\":\"48079885-e999-47a2-969b-6ad214d3de2b\",\"type\":\"BoxZoomTool\"},{\"id\":\"2c991ce8-c193-4073-afa1-8dc0a9746644\",\"type\":\"SaveTool\"},{\"id\":\"dcdc0783-f8a8-4e14-9447-df30cb459044\",\"type\":\"ResetTool\"},{\"id\":\"214d211f-b714-4c26-a565-e16a9024fcb4\",\"type\":\"HelpTool\"},{\"id\":\"13a89d3d-4ba9-4025-9996-86d5e7a446ff\",\"type\":\"HoverTool\"}]},\"id\":\"ffbccbf7-55cd-4b10-be18-b5ff2b9b33a6\",\"type\":\"Toolbar\"},{\"attributes\":{},\"id\":\"2c991ce8-c193-4073-afa1-8dc0a9746644\",\"type\":\"SaveTool\"},{\"attributes\":{\"callback\":null,\"column_names\":[\"x\",\"y\",\"color\",\"phrase\"],\"data\":{\"color\":[\"blue\",\"blue\",\"blue\",\"blue\",\"blue\",\"blue\",\"blue\",\"blue\",\"blue\",\"blue\",\"blue\",\"blue\",\"blue\",\"blue\",\"blue\",\"blue\",\"blue\",\"blue\",\"blue\",\"blue\",\"blue\",\"blue\",\"blue\",\"blue\",\"blue\",\"blue\",\"blue\",\"blue\",\"blue\",\"blue\",\"blue\",\"blue\",\"blue\",\"blue\",\"blue\",\"blue\",\"blue\",\"blue\",\"blue\",\"blue\",\"blue\",\"blue\",\"blue\",\"blue\",\"blue\",\"blue\",\"blue\",\"blue\",\"blue\",\"blue\",\"blue\",\"blue\",\"blue\",\"blue\",\"blue\",\"blue\",\"blue\",\"blue\",\"blue\",\"blue\",\"blue\",\"blue\",\"blue\",\"blue\",\"blue\",\"blue\",\"blue\",\"blue\",\"blue\",\"blue\",\"blue\",\"blue\",\"blue\",\"blue\",\"blue\",\"blue\",\"blue\",\"blue\",\"blue\",\"blue\",\"blue\",\"blue\",\"blue\",\"blue\",\"blue\",\"blue\",\"blue\",\"blue\",\"blue\",\"blue\",\"blue\",\"blue\",\"blue\",\"blue\",\"blue\",\"blue\",\"blue\",\"blue\",\"blue\",\"blue\",\"blue\",\"blue\",\"blue\",\"blue\",\"blue\",\"blue\",\"blue\",\"blue\",\"blue\",\"blue\",\"blue\",\"blue\",\"blue\",\"blue\",\"blue\",\"blue\",\"blue\",\"blue\",\"blue\",\"blue\",\"blue\",\"blue\",\"blue\",\"blue\",\"blue\",\"blue\",\"blue\",\"blue\",\"blue\",\"blue\",\"blue\",\"blue\",\"blue\",\"blue\",\"blue\",\"blue\",\"blue\",\"blue\",\"blue\",\"blue\",\"blue\",\"blue\",\"blue\",\"blue\",\"blue\",\"blue\",\"blue\",\"blue\",\"blue\",\"blue\",\"blue\",\"blue\",\"blue\",\"blue\",\"blue\",\"blue\",\"blue\",\"blue\",\"blue\",\"blue\",\"blue\",\"blue\",\"blue\",\"blue\",\"blue\",\"blue\",\"blue\",\"blue\",\"blue\",\"blue\",\"blue\",\"blue\",\"blue\",\"blue\",\"blue\",\"blue\",\"blue\",\"blue\",\"blue\",\"blue\",\"blue\",\"blue\",\"blue\",\"blue\",\"blue\",\"blue\",\"blue\",\"blue\",\"blue\",\"blue\",\"blue\",\"blue\",\"blue\",\"blue\",\"blue\",\"blue\",\"blue\",\"blue\",\"blue\",\"blue\",\"blue\",\"blue\",\"blue\",\"blue\",\"blue\",\"blue\",\"blue\",\"blue\",\"blue\",\"blue\",\"blue\",\"blue\",\"blue\",\"blue\",\"blue\",\"blue\",\"blue\",\"blue\",\"blue\",\"blue\",\"blue\",\"blue\",\"blue\",\"blue\",\"blue\",\"blue\",\"blue\",\"blue\",\"blue\",\"blue\",\"blue\",\"blue\",\"blue\",\"blue\",\"blue\",\"blue\",\"blue\",\"blue\",\"blue\",\"blue\",\"blue\",\"blue\",\"blue\",\"blue\",\"blue\",\"blue\",\"blue\",\"blue\",\"blue\",\"blue\",\"blue\",\"blue\",\"blue\",\"blue\",\"blue\",\"blue\",\"blue\",\"blue\",\"blue\",\"blue\",\"blue\",\"blue\",\"blue\",\"blue\",\"blue\",\"blue\",\"blue\",\"blue\",\"blue\",\"blue\",\"blue\",\"blue\",\"blue\",\"blue\",\"blue\",\"blue\",\"blue\",\"blue\",\"blue\",\"blue\",\"blue\",\"blue\",\"blue\",\"blue\",\"blue\",\"blue\",\"blue\",\"blue\",\"blue\",\"blue\",\"blue\",\"blue\",\"blue\",\"blue\",\"blue\",\"blue\",\"blue\",\"blue\",\"blue\",\"blue\",\"blue\",\"blue\",\"blue\",\"blue\",\"blue\",\"blue\",\"blue\",\"blue\",\"blue\",\"blue\",\"blue\",\"blue\",\"blue\",\"blue\",\"blue\",\"blue\",\"blue\",\"blue\",\"blue\",\"blue\",\"blue\",\"blue\",\"blue\",\"blue\",\"blue\",\"blue\",\"blue\",\"blue\",\"blue\",\"blue\",\"blue\",\"blue\",\"blue\",\"blue\",\"blue\",\"blue\",\"blue\",\"blue\",\"blue\",\"blue\",\"blue\",\"blue\",\"blue\",\"blue\",\"blue\",\"blue\",\"blue\",\"blue\",\"blue\",\"blue\",\"blue\",\"blue\",\"blue\",\"blue\",\"blue\",\"blue\",\"blue\",\"blue\",\"blue\",\"blue\",\"blue\",\"blue\",\"blue\",\"blue\",\"blue\",\"blue\",\"blue\",\"blue\",\"blue\",\"blue\",\"blue\",\"blue\",\"blue\",\"blue\",\"blue\",\"blue\",\"blue\",\"blue\",\"blue\",\"blue\",\"blue\",\"blue\",\"blue\",\"blue\",\"blue\",\"blue\",\"blue\",\"blue\",\"blue\",\"blue\",\"blue\",\"blue\",\"blue\",\"blue\",\"blue\",\"blue\",\"blue\",\"blue\",\"blue\",\"blue\",\"blue\",\"blue\",\"blue\",\"blue\",\"blue\",\"blue\",\"blue\",\"blue\",\"blue\",\"blue\",\"blue\",\"blue\",\"blue\",\"blue\",\"blue\",\"blue\",\"blue\",\"blue\",\"blue\",\"blue\",\"blue\",\"blue\",\"blue\",\"blue\",\"blue\",\"blue\",\"blue\",\"blue\",\"blue\",\"blue\",\"blue\",\"blue\",\"blue\",\"blue\",\"blue\",\"blue\",\"blue\",\"blue\",\"blue\",\"blue\",\"blue\",\"blue\",\"blue\",\"blue\",\"blue\",\"blue\",\"blue\",\"blue\",\"blue\",\"blue\",\"blue\",\"blue\",\"blue\",\"blue\",\"blue\",\"blue\",\"blue\",\"blue\",\"blue\",\"blue\",\"blue\",\"blue\",\"blue\",\"blue\",\"blue\",\"blue\",\"blue\",\"blue\",\"blue\",\"blue\",\"blue\",\"blue\",\"blue\",\"blue\",\"blue\",\"blue\",\"blue\",\"blue\",\"blue\",\"blue\",\"blue\",\"blue\",\"blue\",\"blue\",\"blue\",\"blue\",\"blue\",\"blue\",\"blue\",\"blue\",\"blue\",\"blue\",\"blue\",\"blue\",\"blue\",\"blue\",\"blue\",\"blue\",\"blue\",\"blue\",\"blue\",\"blue\",\"blue\",\"blue\",\"blue\",\"blue\",\"blue\",\"blue\",\"blue\",\"blue\",\"blue\",\"blue\",\"blue\",\"blue\",\"blue\",\"blue\",\"blue\",\"blue\",\"blue\",\"blue\",\"blue\",\"blue\",\"blue\",\"blue\",\"blue\",\"blue\",\"blue\",\"blue\",\"blue\",\"blue\",\"blue\",\"blue\",\"blue\",\"blue\",\"blue\",\"blue\",\"blue\",\"blue\",\"blue\",\"blue\",\"blue\",\"blue\",\"blue\",\"blue\",\"blue\",\"blue\",\"blue\",\"blue\",\"blue\",\"blue\",\"blue\",\"blue\",\"blue\",\"blue\",\"blue\",\"blue\",\"blue\",\"blue\",\"blue\",\"blue\",\"blue\",\"blue\",\"blue\",\"blue\",\"blue\",\"blue\",\"blue\",\"blue\",\"blue\",\"blue\",\"blue\",\"blue\",\"blue\",\"blue\",\"blue\",\"blue\",\"blue\",\"blue\",\"blue\",\"blue\",\"blue\",\"blue\",\"blue\",\"blue\",\"blue\",\"blue\",\"blue\",\"blue\",\"blue\",\"blue\",\"blue\",\"blue\",\"blue\",\"blue\",\"blue\",\"blue\",\"blue\",\"blue\",\"blue\",\"blue\",\"blue\",\"blue\",\"blue\",\"blue\",\"blue\",\"blue\",\"blue\",\"blue\",\"blue\",\"blue\",\"blue\",\"blue\",\"blue\",\"blue\",\"blue\",\"blue\",\"blue\",\"blue\",\"blue\",\"blue\",\"blue\",\"blue\",\"blue\",\"blue\",\"blue\",\"blue\",\"blue\",\"blue\",\"blue\",\"blue\",\"blue\",\"blue\",\"blue\",\"blue\",\"blue\",\"blue\",\"blue\",\"blue\",\"blue\",\"blue\",\"blue\",\"blue\",\"blue\",\"blue\",\"blue\",\"blue\",\"blue\",\"blue\",\"blue\",\"blue\",\"blue\",\"blue\",\"blue\",\"blue\",\"blue\",\"blue\",\"blue\",\"blue\",\"blue\",\"blue\",\"blue\",\"blue\",\"blue\",\"blue\",\"blue\",\"blue\",\"blue\",\"blue\",\"blue\",\"blue\",\"blue\",\"blue\",\"blue\",\"blue\",\"blue\",\"blue\",\"blue\",\"blue\",\"blue\",\"blue\",\"blue\",\"blue\",\"blue\",\"blue\",\"blue\",\"blue\",\"blue\",\"blue\",\"blue\",\"blue\",\"blue\",\"blue\",\"blue\",\"blue\",\"blue\",\"blue\",\"blue\",\"blue\",\"blue\",\"blue\",\"blue\",\"blue\",\"blue\",\"blue\",\"blue\",\"blue\",\"blue\",\"blue\",\"blue\",\"blue\",\"blue\",\"blue\",\"blue\",\"blue\",\"blue\",\"blue\",\"blue\",\"blue\",\"blue\",\"blue\",\"blue\",\"blue\",\"blue\",\"blue\",\"blue\",\"blue\",\"blue\",\"blue\",\"blue\",\"blue\",\"blue\",\"blue\",\"blue\",\"blue\",\"blue\",\"blue\",\"blue\",\"blue\",\"blue\",\"blue\",\"blue\",\"blue\",\"blue\",\"blue\",\"blue\",\"blue\",\"blue\",\"blue\",\"blue\",\"blue\",\"blue\",\"blue\",\"blue\",\"blue\",\"blue\",\"blue\",\"blue\",\"blue\",\"blue\",\"blue\",\"blue\",\"blue\",\"blue\",\"blue\",\"blue\",\"blue\",\"blue\",\"blue\",\"blue\",\"blue\",\"blue\",\"blue\",\"blue\",\"blue\",\"blue\",\"blue\",\"blue\",\"blue\",\"blue\",\"blue\",\"blue\",\"blue\",\"blue\",\"blue\",\"blue\",\"blue\",\"blue\",\"blue\",\"blue\",\"blue\",\"blue\",\"blue\",\"blue\",\"blue\",\"blue\",\"blue\",\"blue\",\"blue\",\"blue\",\"blue\",\"blue\",\"blue\",\"blue\",\"blue\",\"blue\",\"blue\",\"blue\",\"blue\",\"blue\",\"blue\",\"blue\",\"blue\",\"blue\",\"blue\",\"blue\",\"blue\",\"blue\",\"blue\",\"blue\",\"blue\",\"blue\",\"blue\",\"blue\",\"blue\",\"blue\",\"blue\",\"blue\",\"blue\",\"blue\",\"blue\",\"blue\",\"blue\",\"blue\",\"blue\",\"blue\",\"blue\",\"blue\",\"blue\",\"blue\",\"blue\",\"blue\",\"blue\",\"blue\",\"blue\",\"blue\",\"blue\",\"blue\",\"blue\",\"blue\",\"blue\",\"blue\",\"blue\",\"blue\",\"blue\",\"blue\",\"blue\",\"blue\",\"blue\",\"blue\",\"blue\",\"blue\",\"blue\",\"blue\",\"blue\",\"blue\",\"blue\",\"blue\",\"blue\",\"blue\",\"blue\",\"blue\",\"blue\",\"blue\",\"blue\",\"blue\",\"blue\",\"blue\",\"blue\",\"blue\",\"blue\",\"blue\",\"blue\",\"blue\",\"blue\",\"blue\",\"blue\",\"blue\",\"blue\",\"blue\",\"blue\",\"blue\",\"blue\",\"blue\",\"blue\",\"blue\",\"blue\",\"blue\",\"blue\",\"blue\",\"blue\",\"blue\",\"blue\",\"blue\",\"blue\",\"blue\",\"blue\",\"blue\",\"blue\",\"blue\",\"blue\",\"blue\",\"blue\",\"blue\",\"blue\",\"blue\",\"blue\",\"blue\",\"blue\",\"blue\",\"blue\",\"blue\",\"blue\",\"blue\",\"blue\",\"blue\",\"blue\",\"blue\",\"blue\",\"blue\",\"blue\",\"blue\",\"blue\",\"blue\",\"blue\",\"blue\",\"blue\",\"blue\",\"blue\",\"blue\",\"blue\",\"blue\",\"blue\",\"blue\",\"blue\",\"blue\",\"blue\",\"blue\",\"blue\",\"blue\",\"blue\",\"blue\",\"blue\",\"blue\",\"blue\",\"blue\",\"blue\",\"blue\",\"blue\",\"blue\",\"blue\",\"blue\",\"blue\",\"blue\",\"blue\",\"blue\",\"blue\",\"blue\",\"blue\",\"blue\",\"blue\",\"blue\",\"blue\",\"blue\",\"blue\",\"blue\",\"blue\",\"blue\",\"blue\",\"blue\",\"blue\",\"blue\",\"blue\",\"blue\",\"blue\",\"blue\",\"blue\",\"blue\",\"blue\",\"blue\",\"blue\",\"blue\",\"blue\",\"blue\",\"blue\",\"blue\",\"blue\",\"blue\",\"blue\",\"blue\",\"blue\",\"blue\"],\"phrase\":[\"Can I get back with my ex even though she is pregn\",\"What is the best way to become an arms dealer in t\",\"Why doesn't Japan contribute to peace and prosperi\",\"Which is the best Panasonic air conditioner servic\",\"What did ancient Egyptians believe about the after\",\"How does one prepare for the RBI grade B officers \",\"Which institutions in Kolkata give coaching for en\",\"Will omar bravo be in fifa 17?\\n\",\"What are the pros and cons of arranged marriages?\\n\",\"What will happen if all the vegetable dies?\\n\",\"Why do people hate hypocrites?\\n\",\"What do you consider poor, middle class, wealthy a\",\"How do I concentrate on my studies?\\n\",\"What is new age psychobabble?\\n\",\"How can you tell if your man is cheating even if h\",\"Can you see yourself during lucid dreaming?\\n\",\"Which browser is most safe in terms of privacy and\",\"Can Google Assistant run on OnePlus 3T?\\n\",\"Apart from the VW Vento / Polo and Skoda Rapid, ar\",\"What is Panera Bread?\\n\",\"Do athletes live longer and healthier? If not, why\",\"Could a pitbull take on a wolf in a fight?\\n\",\"What has Obama done for Latinos/Hispanics?\\n\",\"How much is |x|^2?\\n\",\"How does operator.com work?\\n\",\"Why do people not make movies/talk about the Romas\",\"What were the major contributions of the political\",\"Company Secretaries (CS): How do I prepare for CS \",\"What are the job prospects of chemical engineers a\",\"I have never gone to a bank. How do I put money in\",\"What is the best strategy to prepare for the GATE \",\"Who is this porn star?\\n\",\"Why are specs & sunglasses so expensive?\\n\",\"I installed the movie torrent with Ultra XVid Code\",\"Can we ride scootry with learning lisence age of 1\",\"Two cards were drawn, without replacement, from a \",\"How much money is needed per month to live in indi\",\"Why do companies issue bonus shares?\\n\",\"Why are Iranians and Afghans considered white Amer\",\"Could mumps cause deafness?\\n\",\"What is meaning of sadaka?\\n\",\"What should I know before starting a YouTube caree\",\"Is the ITI College Principal is gazetted officer?\\n\",\"How do you feel now that Donald Trump is now the P\",\"What is the difference between imperial units and \",\"What is the easiest way to do effective self hypno\",\"Why has China increased its involvement in the Syr\",\"From which year CBSE class 10th exam be reintroduc\",\"Is 1080p a Blu-ray?\\n\",\"Does using mirrors to concentrate thermal energy d\",\"How do I avoid attractions by phones?\\n\",\"What are some of the effects of education can you \",\"What are the characteristics of a Pisces Sun/Libra\",\"What is the most cost-effective option to ship pac\",\"Are red and blue complementary colors?\\n\",\"Is it possible to make a material that is a superc\",\"What is the best Shonen Jump manga?\\n\",\"Are Oracle and Cisco good companies for a new grad\",\"If lighting a match is considered a chemical chang\",\"Why is Hillary so afraid of Putin?\\n\",\"Which is the best book to study electronics basics\",\"What are the basics I should know before learning \",\"Can I use Cph4 on a day to day basis?\\n\",\"Is it safe when I buy things from China?\\n\",\"Why did some ethnic minorities support Brexit?\\n\",\"How much money has tinder made?\\n\",\"What is the limit?\\n\",\"Will browsing Facebook while connected to Tor reve\",\"If I get 68.4 percent in ftre 2016 class 10 then w\",\"No product market fit: change product or market fi\",\"What makes you sad about India?\\n\",\"How do I know if someone has read my messages on w\",\"Why there is a sound when we crack our knuckles?\\n\",\"Why do I only make friends with guys?\\n\",\"What is 'open-mindedness'?\\n\",\"What is the cause of carpal tunnel syndrome?\\n\",\"What is the difference between a \\\"slow cooker\\\" and\",\"What is Hillary Clinton's stance on nuclear energy\",\"Do IIT colleges require a caste validity for an ST\",\"How do I listen a song from you?\\n\",\"Why do so many Iranians immigrate to Canada?\\n\",\"What will happen to India-U.S. relations after Tru\",\"A program that stored five words in the memory the\",\"What are ways of joining to ISRO as engineer other\",\"Can Magneto defeat Hulk?\\n\",\"What time of year is it best to visit Singapore?\\n\",\"How do I study for ib?\\n\",\"What should I do if someone doesn't reply to my em\",\"How much does Manveer Singh Phogat gets for Dangal\",\"What is it like to be cannibal?\\n\",\"How can the Android app development companies help\",\"Who would you say is the most fun person in Israel\",\"How can one improve her figure and butt size witho\",\"As a company that provides travel agencies and tou\",\"What is the most beautiful thing you saw today?\\n\",\"Is gay flirting good?\\n\",\"Can I use Stripe in Europe?\\n\",\"Will Britain leaving the European Union lead to th\",\"Why are so many East Asian immigrants so averse to\",\"Why do we need computer networking?\\n\",\"What is retina detachment?\\n\",\"Why don't more bars have mechanical bulls?\\n\",\"How do I get better understanding of C++?\\n\",\"Which is the most profitable Porsche US dealer?\\n\",\"What are the best over the ear headphones for abou\",\"Is it true that the first kill is the hardest?\\n\",\"Which is best 32 inch led tv to buy below 20,000 I\",\"I am scoring 130/506 in FiitJEE aits part test adv\",\"What kind of websites are missing from the Interne\",\"What is the best way to use free time at IITB?\\n\",\"Is it possible for me to buy my first company usin\",\"What should I do to have sex with as many women as\",\"What is the scope of Executive MBA in India?\\n\",\"Which BMW models do not have a Hofmeister Kink?\\n\",\"What is yellow journalism?\\n\",\"Why do doctors charge uninsured patients 10 times \",\"Which one is the best public sector job or private\",\"Will social media ever help to spur on the US youn\",\"How should I know a video is 360 degree?\\n\",\"Is a practice manual sufficient for the CA Final I\",\"Career Advice: Being an Indian college student, ho\",\"What are the advantages and disadvantages of Li-Fi\",\"On Snapchat, I deleted someone. Can they re-add me\",\"Are there any cereals that taste good with water?\\n\",\"Why does a woman's vagina push a mans penis out?\\n\",\"What is the British word for bullpen?\\n\",\"How hard is it for international students to get a\",\"How did Revan build his foundation of his army in \",\"What is the best way to read a fictional book? Do \",\"How do you replace a ignition lock cylinder?\\n\",\"How can I prevent business failure?\\n\",\"How often do tides occur? What causes it?\\n\",\"How do I learn Calculus on my own?\\n\",\"What is the reason for Priyanka Gandhi not changin\",\"What should I eat when I'm sick with a cold or flu\",\"What is a Business Intelligence Analyst?\\n\",\"Which sports should I start to play to paticipate \",\"How should I prepare for Java fresher interview?\\n\",\"How different are cuisines of Arab countries?\\n\",\"What is the meaning of the phrase, all is fair in \",\"Why does Quora send me a notification that my ques\",\"What are the hardest obstacles to breaking into a \",\"What makes a falling snowflake large (or not)?\\n\",\"What is the compensation for Partners/Principals a\",\"What is the difference between an array and a vect\",\"If you kiss the NC State wolf do you become an NC \",\"Is it boring (from a social perspective) to live i\",\"What would have happened if in 1971 war all 93000 \",\"What are the easiest things to do while being abro\",\"Does getting root canal cause problem in speaking \",\"What is the definition of a truncated sentence and\",\"Would I look good with a nose ring? if yes which n\",\"What are the perks of working in Amazon?\\n\",\"How can we say that climate change does not bring \",\"What it is like to meet \\\"Shahid Kapoor\\\"?\\n\",\"How does it feel when you are dead?\\n\",\"Which is the best juicer, grinder or mixer in Indi\",\"How do I learn to think more logically?\\n\",\"Which movie has the best beginning ever?\\n\",\"Which laws been enacted to prevent family members \",\"What is iPhone 6s plus cost present?\\n\",\"What is Ohm's law and amperage I?\\n\",\"What is the nicest thing a stranger has done for y\",\"Why do some heroic people who do good things choos\",\"How will Hindus react if Babri Masjid is reconstru\",\"R2I - How did you plan R2I from US if you own the \",\"How can I master C programming in 7 days?\\n\",\"What is the right way to clean ear wax?\\n\",\"What are some good games to play during class?\\n\",\"Is it possible to hack WhatsApp messenger?\\n\",\"Why do airplanes carry more weight than helicopter\",\"Shaving: Do electric shavers work better than manu\",\"Has anyone benefited, health-wise, from essential \",\"Can Students at Hogwarts have sex while there? Doe\",\"How can we enhance our efficiency with Yoga?\\n\",\"What are the best app review sites and blogs?\\n\",\"Can two companies be registered on the same addres\",\"Is it true that as per Indian law, one can't be ha\",\"Who would win in a war between Bangladesh and Myan\",\"How do you reply when someone thanks you for forgi\",\"Who would win a fight between wolverine and Batman\",\"What is one thing you wish for yourself in the fut\",\"Can you cry underwater?\\n\",\"What's the difference between SSL, TLS, and HTTPS?\",\"Why are antigravity muscles more affected in Upper\",\"In order to buy a house, does one have to rent fir\",\"What is the probability of choosing a pink ball fr\",\"Which is the best car to get under 8 lakhs?\\n\",\"Why isn't China's role in the Korean and Vietnam w\",\"What is the Laplace transform of t^(1/2) * e^ (-1/\",\"To those who told a big lie to their parents and t\",\"What is runtime polymorphism or dynamic method dis\",\"I had sex 5 days after my period, what are the cha\",\"How would you describe yourself in one tweet?\\n\",\"How do fairy tales influence creativity in humans?\",\"How do I add delay() and sound() in Dev-C++?\\n\",\"What is the pathophysiology of ADHD?\\n\",\"What are the top benefits of life insurance polici\",\"Can I get a TV from Bang & Olufsen for under $2500\",\"How is the life of an ece student at dayananda sag\",\"What is meditation?\\n\",\"Were the Ancient Greeks scientists, or just philos\",\"How does Google authenticator work?\\n\",\"Wouldn't it be better if kids were allowed to focu\",\"Can you apply for a certificate on Coursera/edX af\",\"Why do Quora engineers use large monitors?\\n\",\"How do I start an online clothing business?\\n\",\"How will the government meet the challenges of acc\",\"I saw a charge on my credit card under from a comp\",\"What is the difference between socialization and r\",\"How would the world be different if everyone spoke\",\"Who receives the fares in a cab service?\\n\",\"As a non-resident alien doing a summer internship \",\"Which is the best camera smartphone under 20k?\\n\",\"What does it mean to dream about someone before th\",\"What are the subjects in which I can apply for my \",\"What are the basics of Jainism?\\n\",\"What is the Difference between existential nihilis\",\"How can I see my girlfriend's WhatsApp chat messag\",\"What are some ways to enjoy sex with my newly marr\",\"How can I study the Bible?\\n\",\"How can someone be a friend, girlfriend, wife and \",\"What are the Snapchat usernames of punjabi celebri\",\"What is 1/2 times 1/2?\\n\",\"Where does the word restaurant come from and what \",\"What can I do with a computational linguistics deg\",\"Will trump win as president?\\n\",\"What impact will AI eventually have on how we plan\",\"Why is eating too unhealthy?\\n\",\"What if the Syrian civil war never happened?\\n\",\"How do the teachings, learning, followership and/o\",\"Did you ever been in a group of stupid people?\\n\",\"What are the multiple types of social issues?\\n\",\"Where can I find beginner NodeJS tutorials that us\",\"If I got a 7.4 CGPA in the SA1 10 class, then can \",\"Which the best time table for 10th class exams pre\",\"Elite Escorts in DHA Lahore?\\n\",\"My ex bf says he doesn't have feelings for me righ\",\"What are the questions in the interview for a fres\",\"What do you think are some of benefits to humans f\",\"Which one is the best medical college hostel in in\",\"Have you lived in a tiny house?\\n\",\"What are some things new employees should know goi\",\"Where can I hire high pressure cleaning service in\",\"How many Bollywood Actresses consume alcohol in re\",\"How does PayU earn money?\\n\",\"Is it possible to change your personality as a chi\",\"How do I apply to London School of Economics as an\",\"How do I build a profile to get accepted into a st\",\"How can I get real ghost stories?\\n\",\"Is it possible to hack NASA's New Horizons satelli\",\"What is the best way of getting good at answering \",\"How would you deal with jerks?\\n\",\"How can I do internship in Accenture India?\\n\",\"Why would an Indian girl not want to get married?\\n\",\"My WhatsApp chat backup got deleted from Google, I\",\"Is going to college really worth it or just a wast\",\"How many prophets did God send to the Jews?\\n\",\"What is the relation and difference between Artifi\",\"If you don\\u2019t have a good network, what would be th\",\"What are the best place to visit in Rio de Janeiro\",\"Which is the best college for PG in Cyber Security\",\"Which are the best English serials?\\n\",\"How do you say \\u201cWhat\\u2019s up?\\u201d in Chinese?\\n\",\"Is it bad to take expired fish oil pills because t\",\"Will there ever be a genuine Authoritarian candida\",\"Is World War III on its way right now?\\n\",\"How can you use time formats in Excel?\\n\",\"What is the best antivirus for Windows 8?\\n\",\"Why do people like Metal/Hard rock so much?\\n\",\"What are the worst smelling things in the world?\\n\",\"Could someone explain the following electives at N\",\"What's a funny thing?\\n\",\"What are the main reason of cracks?\\n\",\"How do I hitchhike in Europe?\\n\",\"What is the physical significance of quantum mecha\",\"How do we get dead people off business junk mail l\",\"Who among the four in the picture given in descrip\",\"How do I know if I authentically, genuinely, hones\",\"On average, how long does it take a letter mail fr\",\"When will One Piece have episode 517 dubbed?\\n\",\"What should I do if I fell in love with my best fr\",\"How do criminal lawyers sleep at night even when t\",\"Can I get refund for Tatkal e-ticket because train\",\"How can I buy the new Macbook 12\\\" M7 512GB model i\",\"What are the different e-governance methods used b\",\"How do I run smoother GTA V? I have intel core i3 \",\"What is the use of tanpura?\\n\",\"What are the Snapchat usernames of celebrities?\\n\",\"Which is better- cracking gate and going for IIT/i\",\"Can you lose weight without exercising?\\n\",\"What is the best way to make life more interesting\",\"Is Delhi a must for UPSC coaching?\\n\",\"Which are the best colleges for electronics and in\",\"I have been a .Net developer for over 2 years and \",\"Has a smartphone ever been taken to space? If yes \",\"What questions should I ask my boyfriend, we are b\",\"How do I delete a contact blocked in WhatsApp?\\n\",\"Is it a good time to buy real estate in Cyprus?\\n\",\"South India: Why is South India much more develope\",\"What is the formula for a hydrocarbon?\\n\",\"What if an alien comes and tells us that the physi\",\"What are the pros & cons of democracy?\\n\",\"I'm 16 years old and wanted to lose weight and bod\",\"Can I add more peers to the torrent for max speed \",\"What are the best neighborhoods to Airbnb in Chica\",\"What we will get in mahabalipuram beach sunrise or\",\"How fast can you accelerate to the speed of light?\",\"What is the difference between R-squared and Adjus\",\"How many times can women reach orgasm in a hour an\",\"Why didn't Johor, Batam & Singapore integrate more\",\"Which products are more profitable in online sell?\",\"How do I get rid of muscle?\\n\",\"What is the process of directing and casting child\",\"Is the 7th pay commission needed?\\n\",\"What are the best games that are compatible on a C\",\"What was the significance of the battle of Somme, \",\"How do you see Pakistan PM Nawaz Sharif's speech a\",\"Where can I publish my apps?\\n\",\"What was your darkest moment?\\n\",\"Why does the UK have an unwritten Constitution?\\n\",\"What are the necessary steps in documenting a mobi\",\"Why was life created? Why was life so painful?\\n\",\"How can I use explainer video to review products o\",\"What is difference between residue and error?\\n\",\"If 6.5 to 8.5 will be the safe level of pH value i\",\"I am 23 and don't know what I want. My life is ver\",\"What are your three favorite websites for reading?\",\"Why do people choose to be a GAY?\\n\",\"What is the process of death?\\n\",\"Why does light red deserve the special name \\\"pink\\\"\",\"Who are millennials?\\n\",\"What it's like doing CA articleship from Big 4s?\\n\",\"What is the most important right or freedom guaran\",\"Why do some porn stars have unprotected sex?\\n\",\"What are my reasons to live?\\n\",\"How small would a planet need to be to plainly see\",\"Some religion speaks of burning in hell after deat\",\"What does it feel like to be an IITian?\\n\",\"How does cognitive behavioural therapy work?\\n\",\"Why should you visit India?\\n\",\"I lost my Google account information. How can I re\",\"What if I port a number from Airtel to Vodafone in\",\"What are the reasons why time travel is impossible\",\"Will my iPhone alarm still go off if \\\"Do Not Distu\",\"Did South Korea cheat during the 2014 Asian Games?\",\"Take the minimum lethal volume of a gaz, put it in\",\"\\\"How to improve Project Management skills?\\\"\\n\",\"When you were small, did you ever think that your \",\"Where did the pointy \\\"S\\\" symbol come from?\\n\",\"How does it feels like to have a rich boyfriend?\\n\",\"What have you used your intelligence for?\\n\",\"What is a freewheeling diode?\\n\",\"How do we derive pi?\\n\",\"What is the importance of communication skills in \",\"How can I put icons on YouTube video titles? Also \",\"What does the phrase \\\"resonate with me\\\" mean?\\n\",\"How many types do we have of Manual testing?\\n\",\"What are IBAN numbers?\\n\",\"What is regret?\\n\",\"As a student specializing in English language, lit\",\"What is the corporate culture like at Corning? How\",\"How can I convert jazz standards to jazz guitar so\",\"How good was the surgical strike by Indian Army on\",\"What recipes are most conducive to romance?\\n\",\"What are the unknown facts about Tamil people whic\",\"Where do I find the most beautiful woman in the wo\",\"What does the grey phone icon mean on the messenge\",\"How do I share 360\\u00b0 photos on WhatsApp?\\n\",\"What is the difference between working stress meth\",\"What are the opportunities for an MBA in finance?\\n\",\"Can you patent clothing or fashion designs?\\n\",\"My in laws are apologists for Nazi war criminals a\",\"Which is the safest city in India for women?\\n\",\"What horse breed were commonly used during the \\\"Wi\",\"Is it weird to sometimes feel almost overwhelmed b\",\"Can anyone please list all the SAP SD topics a per\",\"In the filling of ibps application I put martial s\",\"In a restaurant, what are the different types of t\",\"Why does amir khan never go to any filmy awards fu\",\"What is a good inpatient drug and alcohol rehab ce\",\"Why does UV light cause contamination on optics, b\",\"How do I invest in mutual funds in India?\\n\",\"How comfortable are you with failure?\\n\",\"What skills are required to become a quant?\\n\",\"Why do startups announce fundraising?\\n\",\"What is your review of Amazon Video?\\n\",\"Why there is no team from Tamil nadu in pro kabbad\",\"How do I auto forward texts from my Verizon phone \",\"How do the Chinese people view Americans?\\n\",\"What is virgin or virginity?\\n\",\"What are the different ways of submitting a Reques\",\"Can a high school teacher legally force students t\",\"Why does water droplets form on the outer surface \",\"Which mammals have dark circles around eyes beside\",\"How do each components of a printer work?\\n\",\"What are some foods beginning with the letter W?\\n\",\"What are symptoms of a bad transmission control mo\",\"How do astronauts in ISS vote for Presidential ele\",\"What is the difference between Aim and Goal?\\n\",\"What is AT & C?\\n\",\"Who was Jackson Pollock? Was he mentally ill?\\n\",\"How do I make good vine edits?\\n\",\"How can I cut my penis?\\n\",\"How can I change my Quora profile photo?\\n\",\"My husband was here seeking asylum before we got m\",\"Is it good to use Laravel to develop a web app wit\",\"I have a mild sore throat an headache. What is tha\",\"When will a working nintendo 3DS emulator release \",\"What do we know about the health effects of vaping\",\"INSEAD: Worth the investment?\\n\",\"How is long rides in royal Enfield classic 350?\\n\",\"What famous boxers have participated on Dancing wi\",\"Will season 10 of Big Bang Theory be the final sea\",\"Can I crack KVPY (SX) with only three months left \",\"What are some little-known facts from World War II\",\"What is the most unique way of exam cheating you'v\",\"When was the last time a slam dunk broke a basketb\",\"What should I do for my excessive hair loss?\\n\",\"How do I find people's psychological weakness?\\n\",\"What is the difference between Awareness and Consc\",\"I hate everything that people around me like. Is i\",\"I think I am pretty good at thinking of a business\",\"How do you determine the thickness of a footing ba\",\"Why does vapours are formed when we pressurize alc\",\"Is it easy to adjust in German Universities withou\",\"What is UNIX and UNIX-like?\\n\",\"What is the best way to promote www.dorkyard.com?\\n\",\"What's up in Addis Abeba tonight?\\n\",\"Is there any point to going to college if you have\",\"How much would it cost to construct 800 sqft area \",\"What is an ideal wife? What is an ideal husband? W\",\"What information does port scanning provide?\\n\",\"What are the application of quasicrystals?\\n\",\"What is the determinant of the inverse of a matrix\",\"How is Brad Pitt in \\\"real Life\\\"?\\n\",\"I have a 3 yr bachelor's degree in Computer Scienc\",\"Demonetisation is good for county like India or no\",\"My parents think I am rude for being so introverte\",\"How many people have jumped off the Golden Gate br\",\"What are Osho's views on Islam?\\n\",\"Why does the government regulate health care?\\n\",\"Which phone has the best sound recording quality?\\n\",\"What is the best part of your life, and why is it \",\"Which is better hair wax or hair clay?\\n\",\"How do I charge my motorcycle battery?\\n\",\"What are the updates we get after miui 8.0.6.0?\\n\",\"Why does Robinhood need to bypass the App Store?\\n\",\"Which is a better route, Alipiri or Sri Vaari?\\n\",\"How much extra would it cost if Apple manufactured\",\"When will the next recession be?\\n\",\"What are some arguments in support of electing Don\",\"What does Russia want with Ukraine?\\n\",\"What is the difference between a recorder (block f\",\"What is the meaning of random number?\\n\",\"Which one is good for health: tea or coffee?\\n\",\"Is Texas good state for non-resident to register a\",\"What is kirchoff's law?\\n\",\"Is it wrong for a family member to keep making com\",\"My parents are forcing to marry a girl of their ch\",\"Which is better, Windows+Linux or OSX?\\n\",\"Why aren\\u2019t Christians that pray to/have a relation\",\"How much TDS will I have to pay for an RD account \",\"What is the meaning of thematic connection?\\n\",\"How should you prepare to take your maneuverabilit\",\"What are the best materials/videos/resources to ge\",\"Can a \\\"dirty\\\" finish be added back to jeans?\\n\",\"Why does my dog keep whining at night?\\n\",\"Is it bad to turn off my PC using the power button\",\"What is image processing?\\n\",\"I went to school with mostly black kids, they bull\",\"Does Donald Trump actually think he can become Pre\",\"Which are the 5 best movies you have ever seen?\\n\",\"How do I get traffic to excursions travel website?\",\"Where can I download the Android game Leo's Fortun\",\"How do I get more followers and upvotes on Quora?\\n\",\"What is a factory reset on a phone?\\n\",\"Which phone should I buy if my budget is 12000?\\n\",\"I have GPU implementation as a graduation project.\",\"What are the libertarian views on the Antarctic Tr\",\"What would the world be like if it were ruled by a\",\"How do you choose your first bank?\\n\",\"Who runs berkuliah.com?\\n\",\"What does Godel's incompleteness theorem mean for \",\"How do I delete a Gmail account?\\n\",\"If my ultimate goal is to become a vegan, should I\",\"Did the US win the war in Afghanistan?\\n\",\"How can I become a good engineering student?\\n\",\"What are some ways to increase intuition?\\n\",\"What causes depression in humans?\\n\",\"How can I control my anxiety and worries?\\n\",\"How can we jump in between the working regions of \",\"How do I stop loving someone who loves me?\\n\",\"Can personality and insecurity create a liar?\\n\",\"What is the best country and university to do a Ph\",\"How do I edit a video offline?\\n\",\"What is the rent of kiosk in an upscale mall?\\n\",\"What should I start reading if I want to attempt t\",\"Which is the best anti-virus for computers?\\n\",\"Does food unite people?\\n\",\"What do you like most about Internet?\\n\",\"What is a good model of federalism in the Philippi\",\"How do you know if a girl secretly loves you?\\n\",\"Who is the most annoying fictional character you h\",\"How do you feel when your question is unanswered o\",\"Did early humans know how babies were made?\\n\",\"If I cancel xfinity, how can I sign up as a new cu\",\"Are there any TV series similar to House MD?\\n\",\"What you need to know before buying furniture for \",\"Have you ever had a dream happen in reality?\\n\",\"Is dark matter just a scientific theory or has its\",\"How can you increase your tolerance for pain?\\n\",\"How many logical fallacies are there?\\n\",\"How do buttercream icing frosting separate?\\n\",\"Which is the cheapest cinema hall of India?\\n\",\"What do you think would be a good gre score?\\n\",\"What is the best way to update Xiaomi redmi 3 to M\",\"What does toe jam cheese taste like?\\n\",\"How do I know if a YouTube video is copyrighted?\\n\",\"How should I start a business reselling shoes?\\n\",\"How do I hire a mobile app development company?\\n\",\"What is paras pathar?\\n\",\"How is the word \\\"colony\\\" used in a sentence?\\n\",\"What is Rebecca Fugate known for?\\n\",\"What should I consider before starting my consulta\",\"Do you feel that many attractive women get away wi\",\"Why do I feel so much guilt for kissing a girl?\\n\",\"What are some good tutorials for learning Blender?\",\"Is it deceitful to befriend someone in the hopes t\",\"Who do you think BJP will put as a candidate for t\",\"Which protein supplement is best for gym to gain w\",\"What is your review of KVPY SX/SB 2016?\\n\",\"How do I get people's attention for my work?\\n\",\"What are some of your own personal stories and exp\",\"If salt concentration of the sea(3%) were differen\",\"What is the chemical name for mothballs? How was i\",\"Vitamin D receptors in the Testes?\\n\",\"How do I lose weight without working out?\\n\",\"Where can I watch anime?\\n\",\"What is BusyBox used for?\\n\",\"What would be a good desktop computer for software\",\"What are your top five favorite books and why?\\n\",\"What are some good Harry/Ginny fanfiction?\\n\",\"What are the pros and cons of having sex during pe\",\"Which device will you enjoy watching movies in: a \",\"Will there be \\\"faithless\\\" electors this election?\\n\",\"Is Donald Trump an undercover democrat?\\n\",\"Why am I the way I am?\\n\",\"Why do some women get their nipples pierced?\\n\",\"What do Delhi University girls (especially North C\",\"What is the name of this TV series?\\n\",\"My salary is below the Basic Exemption Limit, yet \",\"What is a foliated rock?\\n\",\"What are some of the best books to start learning \",\"How should I prepare for IIT-JEE 2018?\\n\",\"How do unions work?\\n\",\"Can we give neet coaching in class 11?\\n\",\"Which is the best dish TV connection in Hyderabad?\",\"How can you train a Doberman/Lab mix?\\n\",\"How do you reduce stress at work?\\n\",\"What is the best algorithm for finding the number \",\"How can I earn $250 in 2 months?\\n\",\"Why did GE buy NBC?\\n\",\"What is the highest level of c?\\n\",\"How do you mash potatoes without a masher? What el\",\"How difficult is it to learn Python?\\n\",\"How do you convert years into seconds?\\n\",\"How do you view bisexuality?\\n\",\"What is information technology? What are some exam\",\"Why are Altoids so strong?\\n\",\"How effective is email marketing?\\n\",\"Why does my tutor keep winding me up. He says he i\",\"How can I start my Tok essay which is about accura\",\"How do I repair my corrupt memory card?\\n\",\"I have 3 years to prepare for IIT JAM Physics. How\",\"What are the best Instagram hack tools that have n\",\"I am studing interior design. What are some good i\",\"What are some stupid jokes that make you laugh?\\n\",\"What are the factors affecting Real estate investm\",\"How can I get rid of white dry spot on my face? It\",\"What is it like to have an ugly wife/partner?\\n\",\"What do you love most about your life and why?\\n\",\"In the unlikely event that the Electoral College t\",\"How is life as an Engineer?\\n\",\"Where and why are the imaginary numbers used?\\n\",\"What are some good hypo-allergenic lipsticks?\\n\",\"Did the United Nations play a part in the divide o\",\"When and Why did America become a world power?\\n\",\"What are some recipes using Hormel Black Label Ham\",\"Which is the best company to invest shares on Nove\",\"The man I'm about 2 marry says when I have my peri\",\"What can be the best answer for why finance?\\n\",\"What are the best facts about the universe?\\n\",\"What's the sweetest thing you did for a bestfriend\",\"What is the difference between techno and trance m\",\"TV Sitcoms: Why do English comedy shows have peopl\",\"Does percentile system would affect neet 1 student\",\"Is there Uber in Valencia, Madrid and Barcelona?\\n\",\"Have real-life siblings ever shot intimate scenes \",\"How should I improve my writing skill for blogging\",\"Can cold weather affect a menstrual cycle?\\n\",\"How can we earn money online while studying?\\n\",\"Can a tablet keyboard be used on any kind of table\",\"What are the Upcoming development projects in Chha\",\"Where can I buy cheap Twitter followers?\\n\",\"Why do passengers from aircraft are not given a bu\",\"When should I tell my crush I like her?\\n\",\"Why does Pakistan have a better image and reputati\",\"What are Andrea Pirlo's strengths as a midfielder?\",\"From a point in space billions of light years away\",\"Will Medicaid pay for electrologist to do the shav\",\"Why do technical employees despise sales people so\",\"What are the best freelance websites for C#?\\n\",\"Will I be successful without educations?\\n\",\"How can I learn about cars?\\n\",\"What is the best question asked in an interview?\\n\",\"Why there is so much hatred against Brahmins in In\",\"How do I learn to enter journal entries online in \",\"Will CS be issuing a PR message for Boston?\\n\",\"Why do some people 'hate' drugs or people who ever\",\"How do I know my passion? What is my talent and wh\",\"How do pessimists and optimists differ?\\n\",\"How many pulleys did it take for Archimedes to lif\",\"What is the best course after 12th for a medical s\",\"What are the steps that I should follow to get in \",\"Where was the boston marathon?\\n\",\"What is it like to be in or around a bomb blast?\\n\",\"Will Trump destroy international US-companies thro\",\"Should celebrities have the right to voice their o\",\"Can I say that: \\\"A battery can be seem as a capaci\",\"What is it like to be an ENTP?\\n\",\"How do I start designing on glass?\\n\",\"What is the market risk premium formula?\\n\",\"How can I pay the parking meter if I have no coins\",\"Is it true that Obama has a secret son named \\\"Luth\",\"Which is the best coaching for IAS in up?\\n\",\"How big is the equity funding market in North Amer\",\"Which are the good government medical colleges in \",\"How do I control my hair fall?\\n\",\"Is it really worth creating Shopify themes?\\n\",\"What can cause knee pain? It only hurts when I sta\",\"Where can you find a list of common 9 letter words\",\"NSFW: Is this penis color normal or should I see a\",\"Why do most women remove the hair from their arm p\",\"Which processor is better (faster/more efficient),\",\"Which two statements are true regarding views in s\",\"What is the easiest and quickest Indian food recip\",\"What are the best local SEO companies in India?\\n\",\"How do I get rid of adult content on my Quora feed\",\"Can the zombie fungi attack humans as well?\\n\",\"If I wanted to learn about the Roman Empire,what w\",\"What are the key differences between LXDE and XFCE\",\"Can people see the sellers real name, e-mail addre\",\"Should I still watch The Matrix movie?\\n\",\"Is there any truth to the rumor that the youngest \",\"Is it ok that I don't want to hang out with my fam\",\"I am in class 9. If i want to crack IIT JEE, then \",\"Will Obama's gang stalking/surveillance program be\",\"What are some good songs to lyric text prank a fri\",\"Where can I get best quality video DJ for party in\",\"How long does it take for your hair to grow?\\n\",\"Should I update my Redmi 3s from MIUI 7 to MIUI 8?\",\"How do muscles work?\\n\",\"WHAT IS THE BEST ROUT FOR NEPAL PASUPATI NATH TEMP\",\"How to make a website similar to feedwiser.com in \",\"Why does India so scared of CPEC?\\n\",\"What did your first sex feel like as a girl?\\n\",\"In International ODI/T20 cricket matches, if a bat\",\"Why can humans feel acceleration, but not constant\",\"Can the Microsoft Surface Pro 4 run AutoCAD?\\n\",\"What are the differences between stock Crown Victo\",\"What are the good ways to download Lynda.com's tut\",\"How much is the average salary package for a 1.5 y\",\"How can you reduce the barriers of communication?\\n\",\"Why would someone use Instagram Stories over Snapc\",\"Whiskey: How many 'shots' are in a fifth of Jack D\",\"What might happen now that President-elect Donald \",\"How do I write a waiver letter for school?\\n\",\"I am interested in persuing ma industrial psycholo\",\"Does modafinil shows up on a drug test? Because my\",\"Is it possible to get high off Vyvanse?\\n\",\"Is an agnostic necessarily a skeptic, and how?\\n\",\"Where can I get best support in Sydney for buying \",\"What are the duties of a lieutenant in Indian army\",\"Why is smileys not used on Quora?\\n\",\"What does it feel like for a man when someone who \",\"How does post graduation permit impact .lets say I\",\"Online Payment Gateways and Processing: What is th\",\"What are the best books to learn c programing lang\",\"Solid State Physics: What is The Theory of Alloys?\",\"How do I fill in my first name in a PAN card dupli\",\"Why is egg yolk not good for you?\\n\",\"Anatomy of Female Pelvis: Do women really have an \",\"How much does it cost to develop mobile applicatio\",\"Who is the most honest Game of Thrones character?\\n\",\"What is a high quality Apple MacBook Air charger?\\n\",\"Where and how is the WWE championship belt made?\\n\",\"What is green communication?\\n\",\"I have been a good student since chiild hood but j\",\"I'm solving exercises of artificial neural network\",\"Compared to your own compensation, and in consider\",\"How can I keep browsing Quora forever?\\n\",\"Having built web stuff the old way (PHP/MySQL) bac\",\"Is our new currency note of Rs.2000 equipped with \",\"What's the best way to join a startup in DC?\\n\",\"What would happen if we added a second Earth of eq\",\"When will piracy on Android stop?\\n\",\"What do you mean by executive consultant and suppo\",\"Why do I always feel like I am missing something?\\n\",\"What does a user see when he/she gets a new messag\",\"How can I become a web developer?\\n\",\"Is there any good alternative softwares to Tally?\\n\",\"Would you have sex during period?\\n\",\"Are there prominent Bangladeshi Hindus?\\n\",\"I have registered for PhD (no NET) (phy) in 2013, \",\"I changed my name, but the person did a mistake. M\",\"At what age do your breasts stop growing?\\n\",\"How do I get a girl's phone number in a library?\\n\",\"I am into a habit of over thinking things. How do \",\"What is the average salary of a civil engineer?\\n\",\"What is the difference between rote learning vs me\",\"What are the ways to compete in the Olympics in 20\",\"What trivia (and/or little-known facts) do you fin\",\"Xiaomi Redmi note 3: Which is the best colour to b\",\"What does \\\" the Hadamard Perron theorem\\\" means?\\n\",\"Is there a way to see the viewing history and chat\",\"What is the best place for trekking in Goa?\\n\",\"How does an instant messenger work?\\n\",\"What are the disadvantages of the World Trade Orga\",\"Why does the US military not use AK series rifles?\",\"Does Moto m have gorilla glass?\\n\",\"What is the hierarchy of an associate consultant a\",\"What are some major landforms in Texas, and how do\",\"What other jobs can a medical degree holder do mea\",\"MY HP DEXTOP DOESNOT CONNECT WIFI WHY?\\n\",\"How can I get motivated to workout?\\n\",\"What should I gift it to my mom on her birthday?\\n\",\"Which is the best video you have ever seen?\\n\",\"I was selected in campus and was issued a joining \",\"What makes a poem a good way to express emotions? \",\"What would happen if I cut down a tree outside my \",\"Can you make money in Amway?\\n\",\"Body Weight: How many pounds can I gain every week\",\"What are the impacts (both positive & negative) of\",\"I forgot the password which I used to login n n lo\",\"What are the best websites for career?\\n\",\"What is your favourite episode of the office (USA)\",\"Why is time slower down near heavy objects?\\n\",\"How do l update any version after rooting the mobi\",\"Why is 3 am called the witching hour?\\n\",\"How do I run a shell script from Java code?\\n\",\"What are the advertising campaigns of 2011?\\n\",\"Should I opt for computer science if I don't take \",\"What are the polymers of protein?\\n\",\"How much better will the JWST be than Hubble?\\n\",\"What are the greatest examples of absence of mind?\",\"How can I understand the STOCK market from the bas\",\"How do I make Gazpacho?\\n\",\"What is the typical role of a brand manager?\\n\",\"Who are the top 5 hottest women ever?\\n\",\"What is the name of the game that Aamir Khan was r\",\"How long does it take to learn dance?\\n\",\"What's the funniest thing that's happened to you a\",\"Why are metals malleable and ductile?\\n\",\"List of national daily in India?\\n\",\"Are Volvos actually safer than comparable cars?\\n\",\"Can you tell who has been looking at your Instagra\",\"A ball dropped from the roof of a building takes 4\",\"What percentage of Hillary Clinton's supporters ha\",\"Do you think you are beautiful?\\n\",\"Which are the free email marketing tools?\\n\",\"What topic of discussion do people hate the most? \",\"What is the point in having hyper-politicised stud\",\"Why Steve Jobs is considered as innovator?\\n\",\"How long would it take an average programmer to wr\",\"Why are conservatives defending Holly Fisher? (see\",\"What is so important about Adam Smith's pin factor\",\"What is the Arizona bark scorpion, and how do anim\",\"How do I stop smoking cigarettes?\\n\",\"What are the functions of a computer's motherboard\",\"How can tea bags help for styes?\\n\",\"How can I get a patent for my really effective inn\",\"Can India ever become 'Sone Ki Chidiya' again?\\n\",\"Is there any way to play Android games LAN multipl\",\"Why should I ask my first question?\\n\",\"Who are the top writers on Hinduism on Quora? Who \",\"How do I wake up at 4:00 A.M.?\\n\",\"Why is Quora moderation collapsing all my answers?\",\"In an honest assessment, what do you think of Trum\",\"What type of bonding is present in a coordinate bo\",\"Is it possible to delete your Wikipedia account hi\",\"I'm a +2 CBSE non-medical student. Is there any pr\",\"Are there any limitations as to setting up a forei\",\"How will the drought in California affect its econ\",\"What is Informatica online training?\\n\",\"Is it compulsory for a Web designer and developer \",\"How could the US realistically pay off its debt?\\n\",\"Who is Barry Soetoro?\\n\",\"How do I solve [math]2x^3-x^2+11x+3=0[/math]?\\n\",\"What are some hobbies couples can do at home?\\n\",\"How have meerkats adapted to the desert?\\n\",\"What causes dizziness when you lay down?\\n\",\"What should one do after a civil engineering degre\",\"What are the advantages of hiring skip bins servic\",\"Why is it necessary that singers lip-sync?\\n\",\"How can I turn off the screen overlay detected on \",\"How do you clean or polish a pair of Woodland shoe\",\"What are some classes you wish you took in high sc\",\"What is the formula of [math](a+b)^3[/math]?\\n\",\"What is it like to commit yourself to a psychiatri\",\"Is there any way to slow or reverse the late effec\",\"What would the implications be if we discovered th\",\"Any other program to help on code contribution for\",\"What is the bond order of [math]H_2[/math]?\\n\",\"What is the best way to create a website without c\",\"What were some causes and effects of the French Re\",\"What are some catchy headlines for a dating site?\\n\",\"Should I get Company of Heroes, World in Conflict \",\"How do I remove a person from a group in Skype?\\n\",\"Why was Manmohan Singh briefed by PM Modi after su\",\"Does anybody want to learn Chinese?\\n\",\"Is Xiaomi going the Nokia way to oblivion?\\n\",\"Should I buy hp 17.3 AMD laptop or lenovo 17.3 i5 \",\"Which is better a government job or a software job\",\"How can the word \\\"credulity\\\" be used in a sentence\",\"Does uber track time on app?\\n\",\"How do I get over direct rejection?\\n\",\"How can any institute get an ISO certificate?\\n\",\"What are the best pranks?\\n\",\"Are non-solicit agreements enforceable if the pers\",\"Which phone is best in 2016 for a 18 years boy my \",\"What is the definition of an archetypal hero?\\n\",\"Why are some \\\"ugly\\\" people still very attractive?\\n\",\"What are the chances of Donald Trump's impeachment\",\"What would a society based on laws enforcing only \",\"What is the full form of \\\"veto\\\" power?\\n\",\"How much do people get paid to do a TED talk?\\n\",\"What does it mean to say \\\"enriching herself off of\",\"How can I be more persuasive at work?\\n\",\"What is the corporate culture like at National Bev\",\"What is the fastest way to get a PAN card?\\n\",\"Who will win in America presidential elections in \",\"How do I solve this differential problem?\\n\",\"How is Banjara's Saffron Facial Kit used?\\n\",\"How do you understand life?\\n\",\"Will an MS from NUS in electrical engineering prov\",\"How does one create a strong password? Any tips?\\n\",\"Who was the best dressed at the 2016 Emmy's?\\n\",\"What is the cost of manufacturing a SIM card?\\n\",\"Are you tolerant?\\n\",\"Is [math]\\\\{1,2,3\\\\}[/math] a compact subset of a me\",\"What kind of energy is involved in hearing and vis\",\"What happened with Lehman Brothers?\\n\",\"What is a good web page publisher?\\n\",\"Why does eating radishes cause diarrhea?\\n\",\"How do I encrypt the data on my Android phone?\\n\",\"If there were an Oscar for \\\"Best Line in a Movie\\\",\",\"Why are tyres black?\\n\",\"What is the best way to unlock a Motorola Droid Bi\",\"Is a $45 a month job worth the experience?\\n\",\"Should I settle in Canada or Japan?\\n\",\"How is the appraisal process in Accenture? How wil\",\"How does sand turn into glass?\\n\",\"What effect will increased automation of jobs and \",\"I am 25 years old Indian guy, want to settle in Ne\",\"What are some Raksha Bandhan gift suggestions for \",\"How do I write a multi-dimensional villain that is\",\"Why is there no nucleus in a red blood cell?\\n\",\"Why do Quora allow anonymous fake questions from A\",\"Is it possible to merge a foursquare venue into a \",\"How do I find out if I have Siri on my phone?\\n\",\"Why do I feel like I'm not living my life?\\n\",\"What will happen to global stock market if Donald \",\"What makes weeds grow so much faster and easier th\",\"Do people with extremely high IQ need higher sugar\",\"What should teaching assistants do?\\n\",\"Why is Perth one of the most liveable cities in th\",\"How do you get to the entrance for Resolution Cave\",\"How do I get involved in research as an undergradu\",\"If you have one option to remove anything, what wi\",\"What are the risk after angioplasty?\\n\",\"Why can't men read the signals women give off when\",\"How can a non-EU medical graduate get into residen\",\"How do I stay active?\\n\",\"I'm going to Paris. What is the equivalent \\\"neighb\",\"How do I get rid of dandruff, or at least prevent \",\"Is Medicaid going to pay for the electrologist for\",\"When Australia became a nation in 1901, Did aborig\",\"What is the difference between SSL and Sitelock?\\n\",\"What are some unsolved problems in deep machine le\",\"What's the difference between computer engineering\",\"Is it possible to get a decent job after completin\",\"What is the difference between MG & BG in railway \",\"How do I control an Arduino with a Raspberry Pi?\\n\",\"What is the best field to pursue MS after doing el\",\"What is the difference between Directx and graphic\",\"How do I wirelessly charge the electrical devices \",\"Can you upload Numbers sheets from iPad to Google \",\"What's the best movie franchise you have ever watc\",\"If light does not have mass, then how can it be ab\",\"Why is the book of Esther in the Bible?\\n\",\"What makes comic books worth reading?\\n\",\"What are the advantages of outsourcing property ma\",\"What is a Quora credit competition?\\n\",\"Are data analyst/data science jobs boring?\\n\",\"Why don't satellites crash into each other?\\n\",\"How do dermatologists remove blackheads?\\n\",\"How can I choose between my dad and my mom?\\n\",\"Can you really not change people?\\n\",\"Being a non believer of a spiritual entity, I have\",\"Is black coffee fattening? If so, what makes it fa\",\"The education system is outdated. What would you d\",\"Who are the founders of Quora?\\n\",\"What is it like to be a landlord?\\n\",\"How many stamps do I need to send a letter to germ\",\"My father just recently got married. His wife goes\",\"Which countries are best to migrate from the US?\\n\",\"Can any one tell me a basketball club in Bangalore\",\"How can Spotify download songs offline?\\n\",\"How do I make money online for free in Spain?\\n\",\"Why is Tornado Alley prone to tornadoes?\\n\",\"How does helium change the inhaler's voice?\\n\",\"What is a bedding ceremony in Game of Thrones?\\n\",\"What is it like living in former East Germany as a\",\"Did the USA or NATO commit any war crimes in Iraq?\",\"Why don't we capture terrorist and behead them?\\n\",\"What is your favorite quote (books, movies, people\",\"What mixes well with peach vodka?\\n\",\"Which Patanjali products contain cow urine?\\n\",\"Why are three phases denoted by RYB?\\n\",\"Where could I learn JavaScript online?\\n\",\"Is it appropriate to wear a sports bra simply to t\",\"What are the differences between Jenkins CI and Dr\",\"T right do you think we should be entitled to?\\n\",\"What was the public's reaction to Crystal Pepsi?\\n\",\"How can I crack MH-CET 2017 engineering by self-st\",\"What is the way to become a dental hygienist in th\",\"Why do solving math/statistics problems causes my \",\"Does your name sound as awkward to others as it so\",\"What is the proper format of writing formal-inform\",\"How does doc2vec represent feature vector of a doc\",\"Why are software development task estimations regu\",\"How can I set up molecular pathology lab?\\n\",\"How do I score a rank in CA - IPCC?\\n\",\"What are some examples of strong organic acids?\\n\",\"What can be a good hindi (indian) name for a tea b\",\"Is the Google host matching process different for \",\"Is Cuba considered part of Latin America?\\n\",\"Does the following script (\\u0256\\u2200\\u0f61\\u0632\\u2202 \\u0250\\u0167 \\u01ab\\u04bf\\u03de\\u026e\\u2609 \\u027d\\u03c6\\u0289\\u029b\\u0195), \",\"How can I increase my website's DA?\\n\",\"Is it normal to imagine having sex with other guy \",\"What is the percent purity (approx) of consumable \",\"Do soulmates just come walking into your life when\",\"If I use marijuana with my boyfriend, is there a p\",\"Can you analyze everything in soil?\\n\",\"What difference it would make if India Nuked and K\",\"What are the advantages of a dominant party system\",\"What were some things India did not do but takes c\",\"How many total women have accused Bill Clinton of \",\"Why do I wish some fictional characters existed?\\n\",\"Where can I find best hotel at Ranikhet?\\n\",\"How do I make good memes?\\n\",\"What are some of the common sayings or proverbs in\",\"What kind of writing style makes someone a \\\"dark w\",\"Are Trump and Hillary really the best America has \",\"How can I make my career in embedded system and ro\",\"Will adding a USB to VGA adapter always give an ex\",\"We will never be able to see our own faces with ou\",\"What are the ways you can stop a friend from pitch\",\"What is the average time for preparation of IAS?\\n\",\"How can I learn new things quickly?\\n\",\"What is the definition of political courage?\\n\",\"What makes death scary?\\n\",\"I'm really pretty but I don't want to be I hate th\",\"Is Assam Down Town University good?\\n\",\"How do the brain structures of bonobos change as t\",\"What's the biggest scam?\\n\",\"Does the US government have an alien flying saucer\",\"I need to gain weight, but I don't have abs. It's \",\"Why should I study Calculus?\\n\",\"Do you think your childhood contributed to your fi\",\"How does the Goods and Services Tax (GST) works?\\n\",\"Where can I download Cisco 500-285 exam dumps?\\n\",\"How do I can make a second nation in Cybernations \",\"Did Neil Armstrong really land on the moon?\\n\",\"Why is Devil any other than God head of state?\\n\",\"How do I stop being possessive over my girlfriend?\",\"How does Kongregate compute the statistics of adve\",\"Who is the best nuero physician at NIMHANS, Bangal\",\"What are nonprofit organizations?\\n\",\"I want to know the process of starting outbound ca\",\"Which are some of the best hotels to stay in Helsi\",\"What is good about Deloitte Chicago?\\n\",\"How do I recover data from a formatted hard drive?\",\"Could India and Pakistan unite again?\\n\",\"How often should I massage my face with Argan oil?\",\"How is psychodynamic therapy different from psycho\",\"What are some of Barack Obama's character traits?\\n\",\"Would it make sense to replace the B-52's 8 1960s \",\"Is it possible to bring forward my flight date of \",\"How can I learn marathons?\\n\"],\"x\":{\"__ndarray__\":\"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\",\"dtype\":\"float32\",\"shape\":[1001]},\"y\":{\"__ndarray__\":\"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\",\"dtype\":\"float32\",\"shape\":[1001]}}},\"id\":\"28277612-3106-4e53-8124-45fdb6950368\",\"type\":\"ColumnDataSource\"},{\"attributes\":{},\"id\":\"b5a81242-8632-4dfe-a4a5-58110fb30095\",\"type\":\"LinearScale\"},{\"attributes\":{},\"id\":\"214d211f-b714-4c26-a565-e16a9024fcb4\",\"type\":\"HelpTool\"},{\"attributes\":{},\"id\":\"dcdc0783-f8a8-4e14-9447-df30cb459044\",\"type\":\"ResetTool\"},{\"attributes\":{\"callback\":null,\"tooltips\":[[\"phrase\",\"@phrase\"]]},\"id\":\"13a89d3d-4ba9-4025-9996-86d5e7a446ff\",\"type\":\"HoverTool\"},{\"attributes\":{\"bottom_units\":\"screen\",\"fill_alpha\":{\"value\":0.5},\"fill_color\":{\"value\":\"lightgrey\"},\"left_units\":\"screen\",\"level\":\"overlay\",\"line_alpha\":{\"value\":1.0},\"line_color\":{\"value\":\"black\"},\"line_dash\":[4,4],\"line_width\":{\"value\":2},\"plot\":null,\"render_mode\":\"css\",\"right_units\":\"screen\",\"top_units\":\"screen\"},\"id\":\"c3fe03a6-11d6-4e79-a467-4d19eef89596\",\"type\":\"BoxAnnotation\"},{\"attributes\":{},\"id\":\"b3a1c1c4-299d-456f-99a1-d98be1be07b1\",\"type\":\"BasicTicker\"},{\"attributes\":{},\"id\":\"1c5f33c8-4af0-4a47-8825-3d43894e9e00\",\"type\":\"BasicTicker\"},{\"attributes\":{\"plot\":{\"id\":\"4562d458-978a-4600-9354-ce8d09dfe400\",\"subtype\":\"Figure\",\"type\":\"Plot\"},\"ticker\":{\"id\":\"1c5f33c8-4af0-4a47-8825-3d43894e9e00\",\"type\":\"BasicTicker\"}},\"id\":\"7b860981-fa45-48c9-8589-4a9c3af95c72\",\"type\":\"Grid\"},{\"attributes\":{\"fill_alpha\":{\"value\":0.1},\"fill_color\":{\"value\":\"#1f77b4\"},\"line_alpha\":{\"value\":0.1},\"line_color\":{\"value\":\"#1f77b4\"},\"size\":{\"units\":\"screen\",\"value\":20},\"x\":{\"field\":\"x\"},\"y\":{\"field\":\"y\"}},\"id\":\"b09cfc0a-64e8-44c1-84fe-25b79bd97f5f\",\"type\":\"Circle\"}],\"root_ids\":[\"4562d458-978a-4600-9354-ce8d09dfe400\"]},\"title\":\"Bokeh Application\",\"version\":\"0.12.10\"}};\n",
       "    var render_items = [{\"docid\":\"231db516-4550-4384-8d60-eff5e9257598\",\"elementid\":\"c20af395-f62a-4afd-9ab3-1c69eacc7668\",\"modelid\":\"4562d458-978a-4600-9354-ce8d09dfe400\"}];\n",
       "\n",
       "    root.Bokeh.embed.embed_items(docs_json, render_items);\n",
       "  }\n",
       "\n",
       "  if (root.Bokeh !== undefined) {\n",
       "    embed_document(root);\n",
       "  } else {\n",
       "    var attempts = 0;\n",
       "    var timer = setInterval(function(root) {\n",
       "      if (root.Bokeh !== undefined) {\n",
       "        embed_document(root);\n",
       "        clearInterval(timer);\n",
       "      }\n",
       "      attempts++;\n",
       "      if (attempts > 100) {\n",
       "        console.log(\"Bokeh: ERROR: Unable to embed document because BokehJS library is missing\")\n",
       "        clearInterval(timer);\n",
       "      }\n",
       "    }, 10, root)\n",
       "  }\n",
       "})(window);"
      ],
      "application/vnd.bokehjs_exec.v0+json": ""
     },
     "metadata": {
      "application/vnd.bokehjs_exec.v0+json": {
       "id": "4562d458-978a-4600-9354-ce8d09dfe400"
      }
     },
     "output_type": "display_data"
    },
    {
     "data": {
      "text/html": [
       "<div style=\"display: table;\"><div style=\"display: table-row;\"><div style=\"display: table-cell;\"><b title=\"bokeh.plotting.figure.Figure\">Figure</b>(</div><div style=\"display: table-cell;\">id&nbsp;=&nbsp;'4562d458-978a-4600-9354-ce8d09dfe400', <span id=\"11932d01-214f-4342-af56-fb4d0c6114c6\" style=\"cursor: pointer;\">&hellip;)</span></div></div><div class=\"d4c5b971-33b6-4a49-aa17-df0ef2993fa4\" style=\"display: none;\"><div style=\"display: table-cell;\"></div><div style=\"display: table-cell;\">above&nbsp;=&nbsp;[],</div></div><div class=\"d4c5b971-33b6-4a49-aa17-df0ef2993fa4\" style=\"display: none;\"><div style=\"display: table-cell;\"></div><div style=\"display: table-cell;\">aspect_scale&nbsp;=&nbsp;1,</div></div><div class=\"d4c5b971-33b6-4a49-aa17-df0ef2993fa4\" style=\"display: none;\"><div style=\"display: table-cell;\"></div><div style=\"display: table-cell;\">background_fill_alpha&nbsp;=&nbsp;{'value': 1.0},</div></div><div class=\"d4c5b971-33b6-4a49-aa17-df0ef2993fa4\" style=\"display: none;\"><div style=\"display: table-cell;\"></div><div style=\"display: table-cell;\">background_fill_color&nbsp;=&nbsp;{'value': '#ffffff'},</div></div><div class=\"d4c5b971-33b6-4a49-aa17-df0ef2993fa4\" style=\"display: none;\"><div style=\"display: table-cell;\"></div><div style=\"display: table-cell;\">below&nbsp;=&nbsp;[LinearAxis(id='0970fe64-3f81-41fb-9b6c-f541f7e57fbc', ...)],</div></div><div class=\"d4c5b971-33b6-4a49-aa17-df0ef2993fa4\" style=\"display: none;\"><div style=\"display: table-cell;\"></div><div style=\"display: table-cell;\">border_fill_alpha&nbsp;=&nbsp;{'value': 1.0},</div></div><div class=\"d4c5b971-33b6-4a49-aa17-df0ef2993fa4\" style=\"display: none;\"><div style=\"display: table-cell;\"></div><div style=\"display: table-cell;\">border_fill_color&nbsp;=&nbsp;{'value': '#ffffff'},</div></div><div class=\"d4c5b971-33b6-4a49-aa17-df0ef2993fa4\" style=\"display: none;\"><div style=\"display: table-cell;\"></div><div style=\"display: table-cell;\">css_classes&nbsp;=&nbsp;None,</div></div><div class=\"d4c5b971-33b6-4a49-aa17-df0ef2993fa4\" style=\"display: none;\"><div style=\"display: table-cell;\"></div><div style=\"display: table-cell;\">disabled&nbsp;=&nbsp;False,</div></div><div class=\"d4c5b971-33b6-4a49-aa17-df0ef2993fa4\" style=\"display: none;\"><div style=\"display: table-cell;\"></div><div style=\"display: table-cell;\">extra_x_ranges&nbsp;=&nbsp;{},</div></div><div class=\"d4c5b971-33b6-4a49-aa17-df0ef2993fa4\" style=\"display: none;\"><div style=\"display: table-cell;\"></div><div style=\"display: table-cell;\">extra_y_ranges&nbsp;=&nbsp;{},</div></div><div class=\"d4c5b971-33b6-4a49-aa17-df0ef2993fa4\" style=\"display: none;\"><div style=\"display: table-cell;\"></div><div style=\"display: table-cell;\">h_symmetry&nbsp;=&nbsp;True,</div></div><div class=\"d4c5b971-33b6-4a49-aa17-df0ef2993fa4\" style=\"display: none;\"><div style=\"display: table-cell;\"></div><div style=\"display: table-cell;\">height&nbsp;=&nbsp;None,</div></div><div class=\"d4c5b971-33b6-4a49-aa17-df0ef2993fa4\" style=\"display: none;\"><div style=\"display: table-cell;\"></div><div style=\"display: table-cell;\">hidpi&nbsp;=&nbsp;True,</div></div><div class=\"d4c5b971-33b6-4a49-aa17-df0ef2993fa4\" style=\"display: none;\"><div style=\"display: table-cell;\"></div><div style=\"display: table-cell;\">js_event_callbacks&nbsp;=&nbsp;{},</div></div><div class=\"d4c5b971-33b6-4a49-aa17-df0ef2993fa4\" style=\"display: none;\"><div style=\"display: table-cell;\"></div><div style=\"display: table-cell;\">js_property_callbacks&nbsp;=&nbsp;{},</div></div><div class=\"d4c5b971-33b6-4a49-aa17-df0ef2993fa4\" style=\"display: none;\"><div style=\"display: table-cell;\"></div><div style=\"display: table-cell;\">left&nbsp;=&nbsp;[LinearAxis(id='36f99172-aebd-4b3f-b591-6daa044c065f', ...)],</div></div><div class=\"d4c5b971-33b6-4a49-aa17-df0ef2993fa4\" style=\"display: none;\"><div style=\"display: table-cell;\"></div><div style=\"display: table-cell;\">lod_factor&nbsp;=&nbsp;10,</div></div><div class=\"d4c5b971-33b6-4a49-aa17-df0ef2993fa4\" style=\"display: none;\"><div style=\"display: table-cell;\"></div><div style=\"display: table-cell;\">lod_interval&nbsp;=&nbsp;300,</div></div><div class=\"d4c5b971-33b6-4a49-aa17-df0ef2993fa4\" style=\"display: none;\"><div style=\"display: table-cell;\"></div><div style=\"display: table-cell;\">lod_threshold&nbsp;=&nbsp;2000,</div></div><div class=\"d4c5b971-33b6-4a49-aa17-df0ef2993fa4\" style=\"display: none;\"><div style=\"display: table-cell;\"></div><div style=\"display: table-cell;\">lod_timeout&nbsp;=&nbsp;500,</div></div><div class=\"d4c5b971-33b6-4a49-aa17-df0ef2993fa4\" style=\"display: none;\"><div style=\"display: table-cell;\"></div><div style=\"display: table-cell;\">match_aspect&nbsp;=&nbsp;False,</div></div><div class=\"d4c5b971-33b6-4a49-aa17-df0ef2993fa4\" style=\"display: none;\"><div style=\"display: table-cell;\"></div><div style=\"display: table-cell;\">min_border&nbsp;=&nbsp;5,</div></div><div class=\"d4c5b971-33b6-4a49-aa17-df0ef2993fa4\" style=\"display: none;\"><div style=\"display: table-cell;\"></div><div style=\"display: table-cell;\">min_border_bottom&nbsp;=&nbsp;None,</div></div><div class=\"d4c5b971-33b6-4a49-aa17-df0ef2993fa4\" style=\"display: none;\"><div style=\"display: table-cell;\"></div><div style=\"display: table-cell;\">min_border_left&nbsp;=&nbsp;None,</div></div><div class=\"d4c5b971-33b6-4a49-aa17-df0ef2993fa4\" style=\"display: none;\"><div style=\"display: table-cell;\"></div><div style=\"display: table-cell;\">min_border_right&nbsp;=&nbsp;None,</div></div><div class=\"d4c5b971-33b6-4a49-aa17-df0ef2993fa4\" style=\"display: none;\"><div style=\"display: table-cell;\"></div><div style=\"display: table-cell;\">min_border_top&nbsp;=&nbsp;None,</div></div><div class=\"d4c5b971-33b6-4a49-aa17-df0ef2993fa4\" style=\"display: none;\"><div style=\"display: table-cell;\"></div><div style=\"display: table-cell;\">name&nbsp;=&nbsp;None,</div></div><div class=\"d4c5b971-33b6-4a49-aa17-df0ef2993fa4\" style=\"display: none;\"><div style=\"display: table-cell;\"></div><div style=\"display: table-cell;\">outline_line_alpha&nbsp;=&nbsp;{'value': 1.0},</div></div><div class=\"d4c5b971-33b6-4a49-aa17-df0ef2993fa4\" style=\"display: none;\"><div style=\"display: table-cell;\"></div><div style=\"display: table-cell;\">outline_line_cap&nbsp;=&nbsp;'butt',</div></div><div class=\"d4c5b971-33b6-4a49-aa17-df0ef2993fa4\" style=\"display: none;\"><div style=\"display: table-cell;\"></div><div style=\"display: table-cell;\">outline_line_color&nbsp;=&nbsp;{'value': '#e5e5e5'},</div></div><div class=\"d4c5b971-33b6-4a49-aa17-df0ef2993fa4\" style=\"display: none;\"><div style=\"display: table-cell;\"></div><div style=\"display: table-cell;\">outline_line_dash&nbsp;=&nbsp;[],</div></div><div class=\"d4c5b971-33b6-4a49-aa17-df0ef2993fa4\" style=\"display: none;\"><div style=\"display: table-cell;\"></div><div style=\"display: table-cell;\">outline_line_dash_offset&nbsp;=&nbsp;0,</div></div><div class=\"d4c5b971-33b6-4a49-aa17-df0ef2993fa4\" style=\"display: none;\"><div style=\"display: table-cell;\"></div><div style=\"display: table-cell;\">outline_line_join&nbsp;=&nbsp;'miter',</div></div><div class=\"d4c5b971-33b6-4a49-aa17-df0ef2993fa4\" style=\"display: none;\"><div style=\"display: table-cell;\"></div><div style=\"display: table-cell;\">outline_line_width&nbsp;=&nbsp;{'value': 1},</div></div><div class=\"d4c5b971-33b6-4a49-aa17-df0ef2993fa4\" style=\"display: none;\"><div style=\"display: table-cell;\"></div><div style=\"display: table-cell;\">output_backend&nbsp;=&nbsp;'canvas',</div></div><div class=\"d4c5b971-33b6-4a49-aa17-df0ef2993fa4\" style=\"display: none;\"><div style=\"display: table-cell;\"></div><div style=\"display: table-cell;\">plot_height&nbsp;=&nbsp;400,</div></div><div class=\"d4c5b971-33b6-4a49-aa17-df0ef2993fa4\" style=\"display: none;\"><div style=\"display: table-cell;\"></div><div style=\"display: table-cell;\">plot_width&nbsp;=&nbsp;600,</div></div><div class=\"d4c5b971-33b6-4a49-aa17-df0ef2993fa4\" style=\"display: none;\"><div style=\"display: table-cell;\"></div><div style=\"display: table-cell;\">renderers&nbsp;=&nbsp;[LinearAxis(id='0970fe64-3f81-41fb-9b6c-f541f7e57fbc', ...), Grid(id='7b860981-fa45-48c9-8589-4a9c3af95c72', ...), LinearAxis(id='36f99172-aebd-4b3f-b591-6daa044c065f', ...), Grid(id='c61001ce-e265-4f7f-833b-1eb8999e85bf', ...), BoxAnnotation(id='c3fe03a6-11d6-4e79-a467-4d19eef89596', ...), GlyphRenderer(id='c839857a-9182-415a-8553-28c3c6a41a33', ...)],</div></div><div class=\"d4c5b971-33b6-4a49-aa17-df0ef2993fa4\" style=\"display: none;\"><div style=\"display: table-cell;\"></div><div style=\"display: table-cell;\">right&nbsp;=&nbsp;[],</div></div><div class=\"d4c5b971-33b6-4a49-aa17-df0ef2993fa4\" style=\"display: none;\"><div style=\"display: table-cell;\"></div><div style=\"display: table-cell;\">sizing_mode&nbsp;=&nbsp;'fixed',</div></div><div class=\"d4c5b971-33b6-4a49-aa17-df0ef2993fa4\" style=\"display: none;\"><div style=\"display: table-cell;\"></div><div style=\"display: table-cell;\">subscribed_events&nbsp;=&nbsp;[],</div></div><div class=\"d4c5b971-33b6-4a49-aa17-df0ef2993fa4\" style=\"display: none;\"><div style=\"display: table-cell;\"></div><div style=\"display: table-cell;\">tags&nbsp;=&nbsp;[],</div></div><div class=\"d4c5b971-33b6-4a49-aa17-df0ef2993fa4\" style=\"display: none;\"><div style=\"display: table-cell;\"></div><div style=\"display: table-cell;\">title&nbsp;=&nbsp;Title(id='a6491115-6c55-4e01-95b0-da000f3d1481', ...),</div></div><div class=\"d4c5b971-33b6-4a49-aa17-df0ef2993fa4\" style=\"display: none;\"><div style=\"display: table-cell;\"></div><div style=\"display: table-cell;\">title_location&nbsp;=&nbsp;'above',</div></div><div class=\"d4c5b971-33b6-4a49-aa17-df0ef2993fa4\" style=\"display: none;\"><div style=\"display: table-cell;\"></div><div style=\"display: table-cell;\">toolbar&nbsp;=&nbsp;Toolbar(id='ffbccbf7-55cd-4b10-be18-b5ff2b9b33a6', ...),</div></div><div class=\"d4c5b971-33b6-4a49-aa17-df0ef2993fa4\" style=\"display: none;\"><div style=\"display: table-cell;\"></div><div style=\"display: table-cell;\">toolbar_location&nbsp;=&nbsp;'right',</div></div><div class=\"d4c5b971-33b6-4a49-aa17-df0ef2993fa4\" style=\"display: none;\"><div style=\"display: table-cell;\"></div><div style=\"display: table-cell;\">toolbar_sticky&nbsp;=&nbsp;True,</div></div><div class=\"d4c5b971-33b6-4a49-aa17-df0ef2993fa4\" style=\"display: none;\"><div style=\"display: table-cell;\"></div><div style=\"display: table-cell;\">v_symmetry&nbsp;=&nbsp;False,</div></div><div class=\"d4c5b971-33b6-4a49-aa17-df0ef2993fa4\" style=\"display: none;\"><div style=\"display: table-cell;\"></div><div style=\"display: table-cell;\">width&nbsp;=&nbsp;None,</div></div><div class=\"d4c5b971-33b6-4a49-aa17-df0ef2993fa4\" style=\"display: none;\"><div style=\"display: table-cell;\"></div><div style=\"display: table-cell;\">x_range&nbsp;=&nbsp;DataRange1d(id='1de278ca-957b-4e5b-ada2-5259ef533f60', ...),</div></div><div class=\"d4c5b971-33b6-4a49-aa17-df0ef2993fa4\" style=\"display: none;\"><div style=\"display: table-cell;\"></div><div style=\"display: table-cell;\">x_scale&nbsp;=&nbsp;LinearScale(id='b5a81242-8632-4dfe-a4a5-58110fb30095', ...),</div></div><div class=\"d4c5b971-33b6-4a49-aa17-df0ef2993fa4\" style=\"display: none;\"><div style=\"display: table-cell;\"></div><div style=\"display: table-cell;\">y_range&nbsp;=&nbsp;DataRange1d(id='b588fbf6-4b0a-4e7e-9d67-80e8c770dbf8', ...),</div></div><div class=\"d4c5b971-33b6-4a49-aa17-df0ef2993fa4\" style=\"display: none;\"><div style=\"display: table-cell;\"></div><div style=\"display: table-cell;\">y_scale&nbsp;=&nbsp;LinearScale(id='67ef0418-330b-4290-b11a-9f8fab39aaad', ...))</div></div></div>\n",
       "<script>\n",
       "(function() {\n",
       "  var expanded = false;\n",
       "  var ellipsis = document.getElementById(\"11932d01-214f-4342-af56-fb4d0c6114c6\");\n",
       "  ellipsis.addEventListener(\"click\", function() {\n",
       "    var rows = document.getElementsByClassName(\"d4c5b971-33b6-4a49-aa17-df0ef2993fa4\");\n",
       "    for (var i = 0; i < rows.length; i++) {\n",
       "      var el = rows[i];\n",
       "      el.style.display = expanded ? \"none\" : \"table-row\";\n",
       "    }\n",
       "    ellipsis.innerHTML = expanded ? \"&hellip;)\" : \"&lsaquo;&lsaquo;&lsaquo;\";\n",
       "    expanded = !expanded;\n",
       "  });\n",
       "})();\n",
       "</script>\n"
      ],
      "text/plain": [
       "Figure(id='4562d458-978a-4600-9354-ce8d09dfe400', ...)"
      ]
     },
     "execution_count": 29,
     "metadata": {},
     "output_type": "execute_result"
    }
   ],
   "source": [
    "draw_vectors(phrase_vectors_2d[:, 0], phrase_vectors_2d[:, 1],\n",
    "             phrase=[phrase[:50] for phrase in chosen_phrases],\n",
    "             radius=20,)"
   ]
  },
  {
   "cell_type": "markdown",
   "metadata": {},
   "source": [
    "Finally, let's build a simple \"similar question\" engine with phrase embeddings we've built."
   ]
  },
  {
   "cell_type": "code",
   "execution_count": 30,
   "metadata": {
    "collapsed": true
   },
   "outputs": [],
   "source": [
    "# compute vector embedding for all lines in data\n",
    "data_vectors = np.array([get_phrase_embedding(l) for l in data])"
   ]
  },
  {
   "cell_type": "code",
   "execution_count": 31,
   "metadata": {
    "collapsed": true
   },
   "outputs": [],
   "source": [
    "from sklearn.metrics.pairwise import cosine_similarity\n",
    "\n",
    "def find_nearest(query, k=10):\n",
    "    \"\"\"\n",
    "    given text line (query), return k most similar lines from data, sorted from most to least similar\n",
    "    similarity should be measured as cosine between query and line embedding vectors\n",
    "    hint: it's okay to use global variables: data and data_vectors. see also: np.argpartition, np.argsort\n",
    "    \"\"\"\n",
    "    \n",
    "    query_vector = get_phrase_embedding(query)\n",
    "    similarities = cosine_similarity(data_vectors, [query_vector])[:, 0]\n",
    "    top_indices = np.argpartition(similarities, -k)[-k:]\n",
    "    top_indices_sorted = np.argsort(similarities[top_indices])\n",
    "    return list(map(lambda i: data[top_indices[top_indices_sorted[k - i - 1]]], range(k)))"
   ]
  },
  {
   "cell_type": "code",
   "execution_count": 32,
   "metadata": {},
   "outputs": [
    {
     "name": "stdout",
     "output_type": "stream",
     "text": [
      "How do I get to the dark web?\n",
      "What should I do to enter hollywood?\n",
      "How do I use the Greenify app?\n",
      "What can I do to save the world?\n",
      "How do I win this?\n",
      "How do I think out of the box? How do I learn to think out of the box?\n",
      "How do I find the 5th dimension?\n",
      "How do I use the pad in MMA?\n",
      "How do I estimate the competition?\n",
      "What do I do to enter the line of event management?\n",
      "\n"
     ]
    }
   ],
   "source": [
    "results = find_nearest(query=\"How do i enter the matrix?\", k=10)\n",
    "\n",
    "print(''.join(results))\n",
    "\n",
    "assert len(results) == 10 and isinstance(results[0], str)\n",
    "assert results[0] == 'How do I get to the dark web?\\n'\n",
    "assert results[3] == 'What can I do to save the world?\\n'"
   ]
  },
  {
   "cell_type": "code",
   "execution_count": 1,
   "metadata": {},
   "outputs": [
    {
     "ename": "NameError",
     "evalue": "name 'cosine_similarity' is not defined",
     "output_type": "error",
     "traceback": [
      "\u001b[0;31m\u001b[0m",
      "\u001b[0;31mNameError\u001b[0mTraceback (most recent call last)",
      "\u001b[0;32m<ipython-input-1-57411046fb3f>\u001b[0m in \u001b[0;36m<module>\u001b[0;34m()\u001b[0m\n\u001b[0;32m----> 1\u001b[0;31m \u001b[0msimilarities\u001b[0m \u001b[0;34m=\u001b[0m \u001b[0mcosine_similarity\u001b[0m\u001b[0;34m(\u001b[0m\u001b[0mdata_vectors\u001b[0m\u001b[0;34m,\u001b[0m \u001b[0;34m[\u001b[0m\u001b[0mquery_vector\u001b[0m\u001b[0;34m]\u001b[0m\u001b[0;34m)\u001b[0m\u001b[0;34m[\u001b[0m\u001b[0;34m:\u001b[0m\u001b[0;34m,\u001b[0m \u001b[0;36m0\u001b[0m\u001b[0;34m]\u001b[0m\u001b[0;34m\u001b[0m\u001b[0m\n\u001b[0m\u001b[1;32m      2\u001b[0m \u001b[0mtop_indices\u001b[0m \u001b[0;34m=\u001b[0m \u001b[0mnp\u001b[0m\u001b[0;34m.\u001b[0m\u001b[0margpartition\u001b[0m\u001b[0;34m(\u001b[0m\u001b[0msimilarities\u001b[0m\u001b[0;34m,\u001b[0m \u001b[0;34m-\u001b[0m\u001b[0mk\u001b[0m\u001b[0;34m)\u001b[0m\u001b[0;34m[\u001b[0m\u001b[0;34m-\u001b[0m\u001b[0mk\u001b[0m\u001b[0;34m:\u001b[0m\u001b[0;34m]\u001b[0m\u001b[0;34m\u001b[0m\u001b[0m\n\u001b[1;32m      3\u001b[0m \u001b[0mtop_indices_sorted\u001b[0m \u001b[0;34m=\u001b[0m \u001b[0mnp\u001b[0m\u001b[0;34m.\u001b[0m\u001b[0margsort\u001b[0m\u001b[0;34m(\u001b[0m\u001b[0msimilarities\u001b[0m\u001b[0;34m[\u001b[0m\u001b[0mtop_indices\u001b[0m\u001b[0;34m]\u001b[0m\u001b[0;34m)\u001b[0m\u001b[0;34m\u001b[0m\u001b[0m\n",
      "\u001b[0;31mNameError\u001b[0m: name 'cosine_similarity' is not defined"
     ]
    }
   ],
   "source": [
    "similarities = cosine_similarity(data_vectors, [query_vector])[:, 0]\n",
    "top_indices = np.argpartition(similarities, -k)[-k:]\n",
    "top_indices_sorted = np.argsort(similarities[top_indices])"
   ]
  },
  {
   "cell_type": "code",
   "execution_count": 33,
   "metadata": {},
   "outputs": [
    {
     "data": {
      "text/plain": [
       "['What does Donald Trump think about Israel?\\n',\n",
       " 'What books does Donald Trump like?\\n',\n",
       " 'What does India think of Donald Trump?\\n',\n",
       " 'What does Donald Trump think of India?\\n',\n",
       " 'What does Donald Trump think of China?\\n',\n",
       " 'What does Donald Trump think about Pakistan?\\n',\n",
       " 'What companies does Donald Trump own?\\n',\n",
       " 'What does Dushka Zapata think about Donald Trump?\\n',\n",
       " 'How does it feel to date Ivanka Trump?\\n',\n",
       " 'What does salesforce mean?\\n']"
      ]
     },
     "execution_count": 33,
     "metadata": {},
     "output_type": "execute_result"
    }
   ],
   "source": [
    "find_nearest(query=\"How does Trump?\", k=10)"
   ]
  },
  {
   "cell_type": "code",
   "execution_count": 34,
   "metadata": {},
   "outputs": [
    {
     "data": {
      "text/plain": [
       "[\"Why don't I get a date?\\n\",\n",
       " \"Why do you always answer a question with a question? I don't, or do I?\\n\",\n",
       " \"Why can't I ask a question anonymously?\\n\",\n",
       " \"Why don't I get a girlfriend?\\n\",\n",
       " \"Why don't I have a boyfriend?\\n\",\n",
       " \"I don't have no question?\\n\",\n",
       " \"Why can't I take a joke?\\n\",\n",
       " \"Why don't I ever get a girl?\\n\",\n",
       " \"Can I ask a girl out that I don't know?\\n\",\n",
       " \"Why don't I have a girlfriend?\\n\"]"
      ]
     },
     "execution_count": 34,
     "metadata": {},
     "output_type": "execute_result"
    }
   ],
   "source": [
    "find_nearest(query=\"Why don't i ask a question myself?\", k=10)"
   ]
  },
  {
   "cell_type": "markdown",
   "metadata": {
    "collapsed": true
   },
   "source": [
    "__Now what?__\n",
    "* Try running TSNE on all data, not just 1000 phrases\n",
    "* See what other embeddings are there in the model zoo: `gensim.downloader.info()`\n",
    "* Take a look at [FastText](https://github.com/facebookresearch/fastText) embeddings\n",
    "* Optimize find_nearest with locality-sensitive hashing: use [nearpy](https://github.com/pixelogik/NearPy) or `sklearn.neighbors`."
   ]
  }
 ],
 "metadata": {
  "kernelspec": {
   "display_name": "Python 2",
   "language": "python",
   "name": "python2"
  },
  "language_info": {
   "codemirror_mode": {
    "name": "ipython",
    "version": 2
   },
   "file_extension": ".py",
   "mimetype": "text/x-python",
   "name": "python",
   "nbconvert_exporter": "python",
   "pygments_lexer": "ipython2",
   "version": "2.7.6"
  }
 },
 "nbformat": 4,
 "nbformat_minor": 2
}
