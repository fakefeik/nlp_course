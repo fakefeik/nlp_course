{
 "cells": [
  {
   "cell_type": "markdown",
   "metadata": {
    "colab_type": "text",
    "id": "ZuBKP1VKIkMo"
   },
   "source": [
    "### Salary prediction, episode II: make it actually work (4 points)\n",
    "\n",
    "Your main task is to use some of the tricks you've learned on the network and analyze if you can improve __validation MAE__. Try __at least 3 options__ from the list below for a passing grade. Write a short report about what you have tried. More ideas = more bonus points. \n",
    "\n",
    "__Please be serious:__ \" plot learning curves in MAE/epoch, compare models based on optimal performance, test one change at a time. You know the drill :)\n",
    "\n",
    "You can use either pure __tensorflow__ or __keras__. Feel free to adapt the seminar code for your needs.\n"
   ]
  },
  {
   "cell_type": "code",
   "execution_count": 2,
   "metadata": {
    "colab": {
     "base_uri": "https://localhost:8080/",
     "height": 34
    },
    "colab_type": "code",
    "id": "k0flnhesIkMp",
    "outputId": "d5fa7b57-d9e5-4259-e2d6-26374a416118"
   },
   "outputs": [
    {
     "name": "stderr",
     "output_type": "stream",
     "text": [
      "Using TensorFlow backend.\n"
     ]
    }
   ],
   "source": [
    "import keras\n",
    "import keras.models as M\n",
    "import keras.layers as L\n",
    "\n",
    "import nltk\n",
    "import numpy as np\n",
    "import pandas as pd\n",
    "import matplotlib.pyplot as plt\n",
    "\n",
    "from collections import Counter\n",
    "from sklearn.model_selection import train_test_split\n",
    "from sklearn.feature_extraction import DictVectorizer\n",
    "\n",
    "%matplotlib inline"
   ]
  },
  {
   "cell_type": "code",
   "execution_count": 3,
   "metadata": {
    "colab": {
     "base_uri": "https://localhost:8080/",
     "height": 598
    },
    "colab_type": "code",
    "id": "6SfCRHy8IkMw",
    "outputId": "5a7f026a-19e3-4478-d2ca-f41adc9e7917"
   },
   "outputs": [
    {
     "name": "stdout",
     "output_type": "stream",
     "text": [
      "  % Total    % Received % Xferd  Average Speed   Time    Time     Time  Current\n",
      "                                 Dload  Upload   Total   Spent    Left  Speed\n",
      "  0     0    0     0    0     0      0      0 --:--:-- --:--:-- --:--:--     0\n",
      "  0     0    0     0    0     0      0      0 --:--:-- --:--:-- --:--:--     0\n",
      "100  119M  100  119M    0     0  29.9M      0  0:00:04  0:00:04 --:--:-- 35.3M\n",
      "Train_rev1.csv\n"
     ]
    },
    {
     "data": {
      "text/html": [
       "<div>\n",
       "<style scoped>\n",
       "    .dataframe tbody tr th:only-of-type {\n",
       "        vertical-align: middle;\n",
       "    }\n",
       "\n",
       "    .dataframe tbody tr th {\n",
       "        vertical-align: top;\n",
       "    }\n",
       "\n",
       "    .dataframe thead th {\n",
       "        text-align: right;\n",
       "    }\n",
       "</style>\n",
       "<table border=\"1\" class=\"dataframe\">\n",
       "  <thead>\n",
       "    <tr style=\"text-align: right;\">\n",
       "      <th></th>\n",
       "      <th>Id</th>\n",
       "      <th>Title</th>\n",
       "      <th>FullDescription</th>\n",
       "      <th>LocationRaw</th>\n",
       "      <th>LocationNormalized</th>\n",
       "      <th>ContractType</th>\n",
       "      <th>ContractTime</th>\n",
       "      <th>Company</th>\n",
       "      <th>Category</th>\n",
       "      <th>SalaryRaw</th>\n",
       "      <th>SalaryNormalized</th>\n",
       "      <th>SourceName</th>\n",
       "    </tr>\n",
       "  </thead>\n",
       "  <tbody>\n",
       "    <tr>\n",
       "      <th>0</th>\n",
       "      <td>12612628</td>\n",
       "      <td>Engineering Systems Analyst</td>\n",
       "      <td>Engineering Systems Analyst Dorking Surrey Sal...</td>\n",
       "      <td>Dorking, Surrey, Surrey</td>\n",
       "      <td>Dorking</td>\n",
       "      <td>NaN</td>\n",
       "      <td>permanent</td>\n",
       "      <td>Gregory Martin International</td>\n",
       "      <td>Engineering Jobs</td>\n",
       "      <td>20000 - 30000/annum 20-30K</td>\n",
       "      <td>25000</td>\n",
       "      <td>cv-library.co.uk</td>\n",
       "    </tr>\n",
       "    <tr>\n",
       "      <th>1</th>\n",
       "      <td>12612830</td>\n",
       "      <td>Stress Engineer Glasgow</td>\n",
       "      <td>Stress Engineer Glasgow Salary **** to **** We...</td>\n",
       "      <td>Glasgow, Scotland, Scotland</td>\n",
       "      <td>Glasgow</td>\n",
       "      <td>NaN</td>\n",
       "      <td>permanent</td>\n",
       "      <td>Gregory Martin International</td>\n",
       "      <td>Engineering Jobs</td>\n",
       "      <td>25000 - 35000/annum 25-35K</td>\n",
       "      <td>30000</td>\n",
       "      <td>cv-library.co.uk</td>\n",
       "    </tr>\n",
       "    <tr>\n",
       "      <th>2</th>\n",
       "      <td>12612844</td>\n",
       "      <td>Modelling and simulation analyst</td>\n",
       "      <td>Mathematical Modeller / Simulation Analyst / O...</td>\n",
       "      <td>Hampshire, South East, South East</td>\n",
       "      <td>Hampshire</td>\n",
       "      <td>NaN</td>\n",
       "      <td>permanent</td>\n",
       "      <td>Gregory Martin International</td>\n",
       "      <td>Engineering Jobs</td>\n",
       "      <td>20000 - 40000/annum 20-40K</td>\n",
       "      <td>30000</td>\n",
       "      <td>cv-library.co.uk</td>\n",
       "    </tr>\n",
       "    <tr>\n",
       "      <th>3</th>\n",
       "      <td>12613049</td>\n",
       "      <td>Engineering Systems Analyst / Mathematical Mod...</td>\n",
       "      <td>Engineering Systems Analyst / Mathematical Mod...</td>\n",
       "      <td>Surrey, South East, South East</td>\n",
       "      <td>Surrey</td>\n",
       "      <td>NaN</td>\n",
       "      <td>permanent</td>\n",
       "      <td>Gregory Martin International</td>\n",
       "      <td>Engineering Jobs</td>\n",
       "      <td>25000 - 30000/annum 25K-30K negotiable</td>\n",
       "      <td>27500</td>\n",
       "      <td>cv-library.co.uk</td>\n",
       "    </tr>\n",
       "    <tr>\n",
       "      <th>4</th>\n",
       "      <td>12613647</td>\n",
       "      <td>Pioneer, Miser Engineering Systems Analyst</td>\n",
       "      <td>Pioneer, Miser  Engineering Systems Analyst Do...</td>\n",
       "      <td>Surrey, South East, South East</td>\n",
       "      <td>Surrey</td>\n",
       "      <td>NaN</td>\n",
       "      <td>permanent</td>\n",
       "      <td>Gregory Martin International</td>\n",
       "      <td>Engineering Jobs</td>\n",
       "      <td>20000 - 30000/annum 20-30K</td>\n",
       "      <td>25000</td>\n",
       "      <td>cv-library.co.uk</td>\n",
       "    </tr>\n",
       "  </tbody>\n",
       "</table>\n",
       "</div>"
      ],
      "text/plain": [
       "         Id                                              Title  \\\n",
       "0  12612628                        Engineering Systems Analyst   \n",
       "1  12612830                            Stress Engineer Glasgow   \n",
       "2  12612844                   Modelling and simulation analyst   \n",
       "3  12613049  Engineering Systems Analyst / Mathematical Mod...   \n",
       "4  12613647         Pioneer, Miser Engineering Systems Analyst   \n",
       "\n",
       "                                     FullDescription  \\\n",
       "0  Engineering Systems Analyst Dorking Surrey Sal...   \n",
       "1  Stress Engineer Glasgow Salary **** to **** We...   \n",
       "2  Mathematical Modeller / Simulation Analyst / O...   \n",
       "3  Engineering Systems Analyst / Mathematical Mod...   \n",
       "4  Pioneer, Miser  Engineering Systems Analyst Do...   \n",
       "\n",
       "                         LocationRaw LocationNormalized ContractType  \\\n",
       "0            Dorking, Surrey, Surrey            Dorking          NaN   \n",
       "1        Glasgow, Scotland, Scotland            Glasgow          NaN   \n",
       "2  Hampshire, South East, South East          Hampshire          NaN   \n",
       "3     Surrey, South East, South East             Surrey          NaN   \n",
       "4     Surrey, South East, South East             Surrey          NaN   \n",
       "\n",
       "  ContractTime                       Company          Category  \\\n",
       "0    permanent  Gregory Martin International  Engineering Jobs   \n",
       "1    permanent  Gregory Martin International  Engineering Jobs   \n",
       "2    permanent  Gregory Martin International  Engineering Jobs   \n",
       "3    permanent  Gregory Martin International  Engineering Jobs   \n",
       "4    permanent  Gregory Martin International  Engineering Jobs   \n",
       "\n",
       "                                SalaryRaw  SalaryNormalized        SourceName  \n",
       "0              20000 - 30000/annum 20-30K             25000  cv-library.co.uk  \n",
       "1              25000 - 35000/annum 25-35K             30000  cv-library.co.uk  \n",
       "2              20000 - 40000/annum 20-40K             30000  cv-library.co.uk  \n",
       "3  25000 - 30000/annum 25K-30K negotiable             27500  cv-library.co.uk  \n",
       "4              20000 - 30000/annum 20-30K             25000  cv-library.co.uk  "
      ]
     },
     "execution_count": 3,
     "metadata": {
      "tags": []
     },
     "output_type": "execute_result"
    }
   ],
   "source": [
    "!curl -L https://www.dropbox.com/s/5msc5ix7ndyba10/Train_rev1.csv.tar.gz?dl=1 -o Train_rev1.csv.tar.gz\n",
    "!tar -xvzf ./Train_rev1.csv.tar.gz\n",
    "data = pd.read_csv(\"./Train_rev1.csv\", index_col=None, encoding='utf8')\n",
    "data.head()"
   ]
  },
  {
   "cell_type": "code",
   "execution_count": 4,
   "metadata": {
    "colab": {
     "base_uri": "https://localhost:8080/",
     "height": 496
    },
    "colab_type": "code",
    "id": "7zlp6TnpIkM2",
    "outputId": "25f3ab98-e510-407f-d8d6-d15a1592dd49"
   },
   "outputs": [
    {
     "data": {
      "text/html": [
       "<div>\n",
       "<style scoped>\n",
       "    .dataframe tbody tr th:only-of-type {\n",
       "        vertical-align: middle;\n",
       "    }\n",
       "\n",
       "    .dataframe tbody tr th {\n",
       "        vertical-align: top;\n",
       "    }\n",
       "\n",
       "    .dataframe thead th {\n",
       "        text-align: right;\n",
       "    }\n",
       "</style>\n",
       "<table border=\"1\" class=\"dataframe\">\n",
       "  <thead>\n",
       "    <tr style=\"text-align: right;\">\n",
       "      <th></th>\n",
       "      <th>Id</th>\n",
       "      <th>Title</th>\n",
       "      <th>FullDescription</th>\n",
       "      <th>LocationRaw</th>\n",
       "      <th>LocationNormalized</th>\n",
       "      <th>ContractType</th>\n",
       "      <th>ContractTime</th>\n",
       "      <th>Company</th>\n",
       "      <th>Category</th>\n",
       "      <th>SalaryRaw</th>\n",
       "      <th>SalaryNormalized</th>\n",
       "      <th>SourceName</th>\n",
       "      <th>Log1pSalary</th>\n",
       "    </tr>\n",
       "  </thead>\n",
       "  <tbody>\n",
       "    <tr>\n",
       "      <th>0</th>\n",
       "      <td>12612628</td>\n",
       "      <td>engineering systems analyst</td>\n",
       "      <td>engineering systems analyst dorking surrey sal...</td>\n",
       "      <td>Dorking, Surrey, Surrey</td>\n",
       "      <td>Dorking</td>\n",
       "      <td>NaN</td>\n",
       "      <td>permanent</td>\n",
       "      <td>Gregory Martin International</td>\n",
       "      <td>Engineering Jobs</td>\n",
       "      <td>20000 - 30000/annum 20-30K</td>\n",
       "      <td>25000</td>\n",
       "      <td>cv-library.co.uk</td>\n",
       "      <td>10.126671</td>\n",
       "    </tr>\n",
       "    <tr>\n",
       "      <th>1</th>\n",
       "      <td>12612830</td>\n",
       "      <td>stress engineer glasgow</td>\n",
       "      <td>stress engineer glasgow salary **** to **** we...</td>\n",
       "      <td>Glasgow, Scotland, Scotland</td>\n",
       "      <td>Glasgow</td>\n",
       "      <td>NaN</td>\n",
       "      <td>permanent</td>\n",
       "      <td>Gregory Martin International</td>\n",
       "      <td>Engineering Jobs</td>\n",
       "      <td>25000 - 35000/annum 25-35K</td>\n",
       "      <td>30000</td>\n",
       "      <td>cv-library.co.uk</td>\n",
       "      <td>10.308986</td>\n",
       "    </tr>\n",
       "    <tr>\n",
       "      <th>2</th>\n",
       "      <td>12612844</td>\n",
       "      <td>modelling and simulation analyst</td>\n",
       "      <td>mathematical modeller / simulation analyst / o...</td>\n",
       "      <td>Hampshire, South East, South East</td>\n",
       "      <td>Hampshire</td>\n",
       "      <td>NaN</td>\n",
       "      <td>permanent</td>\n",
       "      <td>Gregory Martin International</td>\n",
       "      <td>Engineering Jobs</td>\n",
       "      <td>20000 - 40000/annum 20-40K</td>\n",
       "      <td>30000</td>\n",
       "      <td>cv-library.co.uk</td>\n",
       "      <td>10.308986</td>\n",
       "    </tr>\n",
       "    <tr>\n",
       "      <th>3</th>\n",
       "      <td>12613049</td>\n",
       "      <td>engineering systems analyst / mathematical mod...</td>\n",
       "      <td>engineering systems analyst / mathematical mod...</td>\n",
       "      <td>Surrey, South East, South East</td>\n",
       "      <td>Surrey</td>\n",
       "      <td>NaN</td>\n",
       "      <td>permanent</td>\n",
       "      <td>Gregory Martin International</td>\n",
       "      <td>Engineering Jobs</td>\n",
       "      <td>25000 - 30000/annum 25K-30K negotiable</td>\n",
       "      <td>27500</td>\n",
       "      <td>cv-library.co.uk</td>\n",
       "      <td>10.221977</td>\n",
       "    </tr>\n",
       "    <tr>\n",
       "      <th>4</th>\n",
       "      <td>12613647</td>\n",
       "      <td>pioneer , miser engineering systems analyst</td>\n",
       "      <td>pioneer , miser engineering systems analyst do...</td>\n",
       "      <td>Surrey, South East, South East</td>\n",
       "      <td>Surrey</td>\n",
       "      <td>NaN</td>\n",
       "      <td>permanent</td>\n",
       "      <td>Gregory Martin International</td>\n",
       "      <td>Engineering Jobs</td>\n",
       "      <td>20000 - 30000/annum 20-30K</td>\n",
       "      <td>25000</td>\n",
       "      <td>cv-library.co.uk</td>\n",
       "      <td>10.126671</td>\n",
       "    </tr>\n",
       "  </tbody>\n",
       "</table>\n",
       "</div>"
      ],
      "text/plain": [
       "         Id                                              Title  \\\n",
       "0  12612628                        engineering systems analyst   \n",
       "1  12612830                            stress engineer glasgow   \n",
       "2  12612844                   modelling and simulation analyst   \n",
       "3  12613049  engineering systems analyst / mathematical mod...   \n",
       "4  12613647        pioneer , miser engineering systems analyst   \n",
       "\n",
       "                                     FullDescription  \\\n",
       "0  engineering systems analyst dorking surrey sal...   \n",
       "1  stress engineer glasgow salary **** to **** we...   \n",
       "2  mathematical modeller / simulation analyst / o...   \n",
       "3  engineering systems analyst / mathematical mod...   \n",
       "4  pioneer , miser engineering systems analyst do...   \n",
       "\n",
       "                         LocationRaw LocationNormalized ContractType  \\\n",
       "0            Dorking, Surrey, Surrey            Dorking          NaN   \n",
       "1        Glasgow, Scotland, Scotland            Glasgow          NaN   \n",
       "2  Hampshire, South East, South East          Hampshire          NaN   \n",
       "3     Surrey, South East, South East             Surrey          NaN   \n",
       "4     Surrey, South East, South East             Surrey          NaN   \n",
       "\n",
       "  ContractTime                       Company          Category  \\\n",
       "0    permanent  Gregory Martin International  Engineering Jobs   \n",
       "1    permanent  Gregory Martin International  Engineering Jobs   \n",
       "2    permanent  Gregory Martin International  Engineering Jobs   \n",
       "3    permanent  Gregory Martin International  Engineering Jobs   \n",
       "4    permanent  Gregory Martin International  Engineering Jobs   \n",
       "\n",
       "                                SalaryRaw  SalaryNormalized        SourceName  \\\n",
       "0              20000 - 30000/annum 20-30K             25000  cv-library.co.uk   \n",
       "1              25000 - 35000/annum 25-35K             30000  cv-library.co.uk   \n",
       "2              20000 - 40000/annum 20-40K             30000  cv-library.co.uk   \n",
       "3  25000 - 30000/annum 25K-30K negotiable             27500  cv-library.co.uk   \n",
       "4              20000 - 30000/annum 20-30K             25000  cv-library.co.uk   \n",
       "\n",
       "   Log1pSalary  \n",
       "0    10.126671  \n",
       "1    10.308986  \n",
       "2    10.308986  \n",
       "3    10.221977  \n",
       "4    10.126671  "
      ]
     },
     "execution_count": 4,
     "metadata": {
      "tags": []
     },
     "output_type": "execute_result"
    }
   ],
   "source": [
    "text_columns = [\"Title\", \"FullDescription\"]\n",
    "categorical_columns = [\"Category\", \"Company\", \"LocationNormalized\", \"ContractType\", \"ContractTime\"]\n",
    "target_column = \"Log1pSalary\"\n",
    "\n",
    "tokenizer = nltk.tokenize.WordPunctTokenizer()\n",
    "tokenize = lambda x: ' '.join(tokenizer.tokenize(str(x).lower()))\n",
    "\n",
    "data[text_columns] = data[text_columns].applymap(tokenize)\n",
    "data[categorical_columns] = data[categorical_columns].fillna('NaN')\n",
    "data[target_column] = np.log1p(data['SalaryNormalized']).astype('float32')\n",
    "data.head()"
   ]
  },
  {
   "cell_type": "code",
   "execution_count": 0,
   "metadata": {
    "colab": {},
    "colab_type": "code",
    "collapsed": true,
    "id": "VpkRmSAYIkM6"
   },
   "outputs": [],
   "source": [
    "token_counts = Counter()\n",
    "for e in data['Title'].append(data['FullDescription']):\n",
    "    for s in e.split(' '):\n",
    "        token_counts[s] += 1\n",
    "\n",
    "UNK, PAD = \"UNK\", \"PAD\"\n",
    "min_count = 10\n",
    "tokens = [el for el in token_counts.keys() if token_counts[el] >= min_count]\n",
    "tokens = [UNK, PAD] + sorted(tokens)\n",
    "token_to_id = {tokens[i]: i for i in range(len(tokens))}"
   ]
  },
  {
   "cell_type": "code",
   "execution_count": 6,
   "metadata": {
    "colab": {
     "base_uri": "https://localhost:8080/",
     "height": 51
    },
    "colab_type": "code",
    "id": "dmIzTNTZIkM9",
    "outputId": "9a73ddd0-3f72-4e2d-c187-29c6b78a3c0f"
   },
   "outputs": [
    {
     "data": {
      "text/plain": [
       "DictVectorizer(dtype=<class 'numpy.float32'>, separator='=', sort=True,\n",
       "        sparse=False)"
      ]
     },
     "execution_count": 6,
     "metadata": {
      "tags": []
     },
     "output_type": "execute_result"
    }
   ],
   "source": [
    "top_companies, top_counts = zip(*Counter(data['Company']).most_common(1000))\n",
    "recognized_companies = set(top_companies)\n",
    "data[\"Company\"] = data[\"Company\"].apply(lambda comp: comp if comp in recognized_companies else \"Other\")\n",
    "\n",
    "categorical_vectorizer = DictVectorizer(dtype=np.float32, sparse=False)\n",
    "categorical_vectorizer.fit(data[categorical_columns].apply(dict, axis=1))"
   ]
  },
  {
   "cell_type": "code",
   "execution_count": 0,
   "metadata": {
    "colab": {},
    "colab_type": "code",
    "collapsed": true,
    "id": "iLjMXyAnIkNB"
   },
   "outputs": [],
   "source": [
    "data_train, data_val = train_test_split(data, test_size=0.2, random_state=42)"
   ]
  },
  {
   "cell_type": "code",
   "execution_count": 0,
   "metadata": {
    "colab": {},
    "colab_type": "code",
    "collapsed": true,
    "id": "zrRcKusHIkNE"
   },
   "outputs": [],
   "source": [
    "UNK_IX, PAD_IX = map(token_to_id.get, [UNK, PAD])\n",
    "\n",
    "def as_matrix(sequences, max_len=None):\n",
    "    \"\"\" Convert a list of tokens into a matrix with padding \"\"\"\n",
    "    if isinstance(sequences[0], str):\n",
    "        sequences = list(map(str.split, sequences))\n",
    "        \n",
    "    max_len = min(max(map(len, sequences)), max_len or float('inf'))\n",
    "    \n",
    "    matrix = np.full((len(sequences), max_len), np.int32(PAD_IX))\n",
    "    for i,seq in enumerate(sequences):\n",
    "        row_ix = [token_to_id.get(word, UNK_IX) for word in seq[:max_len]]\n",
    "        matrix[i, :len(row_ix)] = row_ix\n",
    "    \n",
    "    return matrix\n",
    "\n",
    "def make_batch(data, max_len=None, word_dropout=0):\n",
    "    \"\"\"\n",
    "    Creates a keras-friendly dict from the batch data.\n",
    "    :param word_dropout: replaces token index with UNK_IX with this probability\n",
    "    :returns: a dict with {'title' : int64[batch, title_max_len]\n",
    "    \"\"\"\n",
    "    batch = {}\n",
    "    batch[\"Title\"] = as_matrix(data[\"Title\"].values, max_len)\n",
    "    batch[\"FullDescription\"] = as_matrix(data[\"FullDescription\"].values, max_len)\n",
    "    batch['Categorical'] = categorical_vectorizer.transform(data[categorical_columns].apply(dict, axis=1))\n",
    "    \n",
    "    if word_dropout != 0:\n",
    "        batch[\"FullDescription\"] = apply_word_dropout(batch[\"FullDescription\"], 1. - word_dropout)\n",
    "    \n",
    "    if target_column in data.columns:\n",
    "        batch[target_column] = data[target_column].values\n",
    "    \n",
    "    return batch\n",
    "\n",
    "def apply_word_dropout(matrix, keep_prop, replace_with=UNK_IX, pad_ix=PAD_IX,):\n",
    "    dropout_mask = np.random.choice(2, np.shape(matrix), p=[keep_prop, 1 - keep_prop])\n",
    "    dropout_mask &= matrix != pad_ix\n",
    "    return np.choose(dropout_mask, [matrix, np.full_like(matrix, replace_with)])\n",
    "\n",
    "def iterate_minibatches(data, batch_size=256, shuffle=True, cycle=False, **kwargs):\n",
    "    \"\"\" iterates minibatches of data in random order \"\"\"\n",
    "    while True:\n",
    "        indices = np.arange(len(data))\n",
    "        if shuffle:\n",
    "            indices = np.random.permutation(indices)\n",
    "\n",
    "        for start in range(0, len(indices), batch_size):\n",
    "            batch = make_batch(data.iloc[indices[start : start + batch_size]], **kwargs)\n",
    "            target = batch.pop(target_column)\n",
    "            yield batch, target\n",
    "        \n",
    "        if not cycle: break\n",
    "\n",
    "def print_metrics(model, data, batch_size=256, name=\"\", **kw):\n",
    "    squared_error = abs_error = num_samples = 0.0\n",
    "    for batch_x, batch_y in iterate_minibatches(data, batch_size=batch_size, shuffle=False, **kw):\n",
    "        batch_pred = model.predict(batch_x)[:, 0]\n",
    "        squared_error += np.sum(np.square(batch_pred - batch_y))\n",
    "        abs_error += np.sum(np.abs(batch_pred - batch_y))\n",
    "        num_samples += len(batch_y)\n",
    "    print(\"%s results:\" % (name or \"\"))\n",
    "    print(\"Mean square error: %.5f\" % (squared_error / num_samples))\n",
    "    print(\"Mean absolute error: %.5f\" % (abs_error / num_samples))\n",
    "    return squared_error, abs_error"
   ]
  },
  {
   "cell_type": "code",
   "execution_count": 0,
   "metadata": {
    "colab": {},
    "colab_type": "code",
    "collapsed": true,
    "id": "4OmfotYMIkNH"
   },
   "outputs": [],
   "source": [
    "def build_model_baseline(n_tokens=len(tokens), n_cat_features=len(categorical_vectorizer.vocabulary_), hid_size=64):\n",
    "    \"\"\" Build a model that maps three data sources to a single linear output: predicted log1p(salary) \"\"\"\n",
    "    \n",
    "    print(n_tokens)\n",
    "    l_title = L.Input(shape=[None], name=\"Title\")\n",
    "    l_descr = L.Input(shape=[None], name=\"FullDescription\")\n",
    "    l_categ = L.Input(shape=[n_cat_features], name=\"Categorical\")\n",
    "    \n",
    "    # Build your monster!\n",
    "    emb = L.Embedding(n_tokens, hid_size)\n",
    "    \n",
    "    l_title_emb = emb(l_title)\n",
    "    l_title_conv = L.Conv1D(filters=hid_size, kernel_size=2, activation='relu')(l_title_emb)\n",
    "    l_title_out = L.GlobalMaxPool1D()(l_title_conv)\n",
    "    \n",
    "    l_descr_emb = emb(l_descr)\n",
    "    l_descr_conv = L.Conv1D(filters=hid_size, kernel_size=3, activation='relu')(l_descr_emb)\n",
    "    l_descr_out = L.GlobalMaxPool1D()(l_descr_conv)\n",
    "    \n",
    "    l_categ_out = L.Dense(hid_size, activation='relu')(l_categ)\n",
    "\n",
    "    l_combined = L.Concatenate()([l_title_out, l_descr_out, l_categ_out])\n",
    "    l_combined_dense = L.Dense(2 * hid_size, activation='relu')(l_combined)\n",
    "    \n",
    "    output_layer = L.Dense(1)(l_combined_dense)\n",
    "    # end of your code\n",
    "    \n",
    "    model = keras.models.Model(inputs=[l_title, l_descr, l_categ], outputs=[output_layer])\n",
    "    model.compile('adam', 'mean_squared_error', metrics=['mean_absolute_error'])\n",
    "    return model"
   ]
  },
  {
   "cell_type": "code",
   "execution_count": 27,
   "metadata": {
    "colab": {
     "base_uri": "https://localhost:8080/",
     "height": 394
    },
    "colab_type": "code",
    "id": "s1KEYLdqIkNO",
    "outputId": "1d110b1b-02b9-4df3-fbd0-a18b5b706be3"
   },
   "outputs": [
    {
     "name": "stdout",
     "output_type": "stream",
     "text": [
      "34158\n",
      "Epoch 1/10\n",
      "765/765 [==============================] - 109s 142ms/step - loss: 2.9087 - mean_absolute_error: 0.6329 - val_loss: 0.0912 - val_mean_absolute_error: 0.2256\n",
      "Epoch 2/10\n",
      "765/765 [==============================] - 93s 121ms/step - loss: 0.0774 - mean_absolute_error: 0.2063 - val_loss: 0.0726 - val_mean_absolute_error: 0.1992\n",
      "Epoch 3/10\n",
      "765/765 [==============================] - 91s 119ms/step - loss: 0.0600 - mean_absolute_error: 0.1804 - val_loss: 0.0637 - val_mean_absolute_error: 0.1862\n",
      "Epoch 4/10\n",
      "765/765 [==============================] - 96s 126ms/step - loss: 0.0512 - mean_absolute_error: 0.1663 - val_loss: 0.0597 - val_mean_absolute_error: 0.1786\n",
      "Epoch 5/10\n",
      "765/765 [==============================] - 94s 123ms/step - loss: 0.0451 - mean_absolute_error: 0.1563 - val_loss: 0.0603 - val_mean_absolute_error: 0.1805\n",
      "Epoch 6/10\n",
      "765/765 [==============================] - 93s 122ms/step - loss: 0.0408 - mean_absolute_error: 0.1488 - val_loss: 0.0573 - val_mean_absolute_error: 0.1744\n",
      "Epoch 7/10\n",
      "765/765 [==============================] - 96s 125ms/step - loss: 0.0372 - mean_absolute_error: 0.1421 - val_loss: 0.0595 - val_mean_absolute_error: 0.1789\n",
      "Epoch 8/10\n",
      "765/765 [==============================] - 93s 122ms/step - loss: 0.0346 - mean_absolute_error: 0.1374 - val_loss: 0.0592 - val_mean_absolute_error: 0.1785\n",
      "Epoch 9/10\n",
      "765/765 [==============================] - 93s 121ms/step - loss: 0.0326 - mean_absolute_error: 0.1336 - val_loss: 0.0616 - val_mean_absolute_error: 0.1832\n",
      "Epoch 10/10\n",
      "765/765 [==============================] - 96s 125ms/step - loss: 0.0299 - mean_absolute_error: 0.1278 - val_loss: 0.0566 - val_mean_absolute_error: 0.1726\n"
     ]
    }
   ],
   "source": [
    "batch_size = 256\n",
    "epochs = 10\n",
    "steps_per_epoch = (len(data_train) - 1) // batch_size + 1\n",
    "\n",
    "model_baseline = build_model_baseline()\n",
    "\n",
    "hist_baseline = model_baseline.fit_generator(iterate_minibatches(data_train, batch_size, cycle=True, word_dropout=0.05), \n",
    "                                    epochs=epochs, steps_per_epoch=steps_per_epoch,\n",
    "                                    validation_data=iterate_minibatches(data_val, batch_size, cycle=True),\n",
    "                                    validation_steps=data_val.shape[0] // batch_size)"
   ]
  },
  {
   "cell_type": "code",
   "execution_count": 10,
   "metadata": {
    "colab": {
     "base_uri": "https://localhost:8080/",
     "height": 136
    },
    "colab_type": "code",
    "id": "QtmFQUgBIkNS",
    "outputId": "341ee6b2-c1b6-41bd-f582-165ea9a6d991"
   },
   "outputs": [
    {
     "name": "stdout",
     "output_type": "stream",
     "text": [
      "Train results:\n",
      "Mean square error: 0.02734\n",
      "Mean absolute error: 0.12481\n",
      "Val results:\n",
      "Mean square error: 0.06157\n",
      "Mean absolute error: 0.18368\n"
     ]
    },
    {
     "data": {
      "text/plain": [
       "(3013.8750245571136, 8991.702272415161)"
      ]
     },
     "execution_count": 10,
     "metadata": {
      "tags": []
     },
     "output_type": "execute_result"
    }
   ],
   "source": [
    "print_metrics(model_baseline, data_train, name='Train')\n",
    "print_metrics(model_baseline, data_val, name='Val')"
   ]
  },
  {
   "cell_type": "code",
   "execution_count": 29,
   "metadata": {
    "colab": {
     "base_uri": "https://localhost:8080/",
     "height": 279
    },
    "colab_type": "code",
    "id": "3rTaax56IkNW",
    "outputId": "4456ce09-9ff7-439a-ce31-68c691cded27"
   },
   "outputs": [
    {
     "data": {
      "image/png": "[encoded data removed]",
      "text/plain": [
       "<matplotlib.figure.Figure at 0x7fd11f114908>"
      ]
     },
     "metadata": {
      "tags": []
     },
     "output_type": "display_data"
    }
   ],
   "source": [
    "def print_maes(keys=None):\n",
    "    plt.figure()\n",
    "    plt.xlabel('n_epoch')\n",
    "    plt.ylabel('Validation MAE')\n",
    "    for name in maes if keys is None else keys:\n",
    "        mae = maes[name]\n",
    "        xs = range(len(mae))\n",
    "        plt.plot(xs, mae, label=name)\n",
    "    plt.legend()\n",
    "\n",
    "maes = {}\n",
    "maes['baseline'] = hist_baseline.history['val_mean_absolute_error']\n",
    "print_maes()"
   ]
  },
  {
   "cell_type": "code",
   "execution_count": 12,
   "metadata": {
    "colab": {
     "base_uri": "https://localhost:8080/",
     "height": 394
    },
    "colab_type": "code",
    "id": "XnGsefavgGcj",
    "outputId": "a1468d91-6605-4673-ddf5-708d111bc957"
   },
   "outputs": [
    {
     "name": "stdout",
     "output_type": "stream",
     "text": [
      "34158\n",
      "Epoch 1/10\n",
      "765/765 [==============================] - 86s 112ms/step - loss: 2.4015 - mean_absolute_error: 0.5842 - val_loss: 0.0918 - val_mean_absolute_error: 0.2268\n",
      "Epoch 2/10\n",
      "765/765 [==============================] - 86s 112ms/step - loss: 0.0775 - mean_absolute_error: 0.2067 - val_loss: 0.0745 - val_mean_absolute_error: 0.2022\n",
      "Epoch 3/10\n",
      "765/765 [==============================] - 82s 107ms/step - loss: 0.0621 - mean_absolute_error: 0.1840 - val_loss: 0.0697 - val_mean_absolute_error: 0.1946\n",
      "Epoch 4/10\n",
      "765/765 [==============================] - 87s 114ms/step - loss: 0.0545 - mean_absolute_error: 0.1720 - val_loss: 0.0670 - val_mean_absolute_error: 0.1907\n",
      "Epoch 5/10\n",
      "765/765 [==============================] - 83s 109ms/step - loss: 0.0485 - mean_absolute_error: 0.1621 - val_loss: 0.0671 - val_mean_absolute_error: 0.1913\n",
      "Epoch 6/10\n",
      "765/765 [==============================] - 88s 115ms/step - loss: 0.0443 - mean_absolute_error: 0.1548 - val_loss: 0.0637 - val_mean_absolute_error: 0.1848\n",
      "Epoch 7/10\n",
      "765/765 [==============================] - 82s 107ms/step - loss: 0.0399 - mean_absolute_error: 0.1470 - val_loss: 0.0654 - val_mean_absolute_error: 0.1878\n",
      "Epoch 8/10\n",
      "765/765 [==============================] - 86s 112ms/step - loss: 0.0368 - mean_absolute_error: 0.1413 - val_loss: 0.0648 - val_mean_absolute_error: 0.1885\n",
      "Epoch 9/10\n",
      "765/765 [==============================] - 82s 107ms/step - loss: 0.0346 - mean_absolute_error: 0.1369 - val_loss: 0.0615 - val_mean_absolute_error: 0.1802\n",
      "Epoch 10/10\n",
      "765/765 [==============================] - 85s 111ms/step - loss: 0.0320 - mean_absolute_error: 0.1317 - val_loss: 0.0612 - val_mean_absolute_error: 0.1802\n"
     ]
    }
   ],
   "source": [
    "model_baseline2 = build_model_baseline()\n",
    "\n",
    "hist_baseline_no_dropout = model_baseline2.fit_generator(iterate_minibatches(data_train, batch_size, cycle=True, word_dropout=0), \n",
    "                                    epochs=epochs, steps_per_epoch=steps_per_epoch,\n",
    "                                    validation_data=iterate_minibatches(data_val, batch_size, cycle=True),\n",
    "                                    validation_steps=data_val.shape[0] // batch_size)"
   ]
  },
  {
   "cell_type": "code",
   "execution_count": 13,
   "metadata": {
    "colab": {
     "base_uri": "https://localhost:8080/",
     "height": 381
    },
    "colab_type": "code",
    "id": "SV_0LC8UgS3c",
    "outputId": "ca2a11fb-362c-492c-8ea8-034da404a0db"
   },
   "outputs": [
    {
     "name": "stdout",
     "output_type": "stream",
     "text": [
      "Train results:\n",
      "Mean square error: 0.02495\n",
      "Mean absolute error: 0.11433\n",
      "Val results:\n",
      "Mean square error: 0.06106\n",
      "Mean absolute error: 0.17997\n"
     ]
    },
    {
     "data": {
      "image/png": "[encoded data removed]",
      "text/plain": [
       "<matplotlib.figure.Figure at 0x7ff9c9408080>"
      ]
     },
     "metadata": {
      "tags": []
     },
     "output_type": "display_data"
    }
   ],
   "source": [
    "print_metrics(model_baseline2, data_train, name='Train')\n",
    "print_metrics(model_baseline2, data_val, name='Val')\n",
    "maes['no_dropout'] = hist_baseline_no_dropout.history['val_mean_absolute_error']\n",
    "print_maes()"
   ]
  },
  {
   "cell_type": "code",
   "execution_count": 14,
   "metadata": {
    "colab": {
     "base_uri": "https://localhost:8080/",
     "height": 394
    },
    "colab_type": "code",
    "id": "ymUm2nMNgcHB",
    "outputId": "50b6420a-24d8-4104-df78-c206ea278a34"
   },
   "outputs": [
    {
     "name": "stdout",
     "output_type": "stream",
     "text": [
      "34158\n",
      "Epoch 1/10\n",
      "765/765 [==============================] - 90s 117ms/step - loss: 2.8109 - mean_absolute_error: 0.6260 - val_loss: 0.1542 - val_mean_absolute_error: 0.3105\n",
      "Epoch 2/10\n",
      "765/765 [==============================] - 95s 124ms/step - loss: 0.0813 - mean_absolute_error: 0.2124 - val_loss: 0.0942 - val_mean_absolute_error: 0.2340\n",
      "Epoch 3/10\n",
      "765/765 [==============================] - 89s 116ms/step - loss: 0.0649 - mean_absolute_error: 0.1885 - val_loss: 0.0874 - val_mean_absolute_error: 0.2265\n",
      "Epoch 4/10\n",
      "765/765 [==============================] - 89s 116ms/step - loss: 0.0543 - mean_absolute_error: 0.1722 - val_loss: 0.0654 - val_mean_absolute_error: 0.1900\n",
      "Epoch 5/10\n",
      "765/765 [==============================] - 88s 115ms/step - loss: 0.0463 - mean_absolute_error: 0.1589 - val_loss: 0.0604 - val_mean_absolute_error: 0.1819\n",
      "Epoch 6/10\n",
      "765/765 [==============================] - 88s 115ms/step - loss: 0.0411 - mean_absolute_error: 0.1499 - val_loss: 0.0660 - val_mean_absolute_error: 0.1920\n",
      "Epoch 7/10\n",
      "765/765 [==============================] - 91s 119ms/step - loss: 0.0373 - mean_absolute_error: 0.1432 - val_loss: 0.0590 - val_mean_absolute_error: 0.1789\n",
      "Epoch 8/10\n",
      "765/765 [==============================] - 90s 118ms/step - loss: 0.0343 - mean_absolute_error: 0.1374 - val_loss: 0.0609 - val_mean_absolute_error: 0.1829\n",
      "Epoch 9/10\n",
      "765/765 [==============================] - 94s 123ms/step - loss: 0.0313 - mean_absolute_error: 0.1315 - val_loss: 0.0679 - val_mean_absolute_error: 0.1971\n",
      "Epoch 10/10\n",
      "765/765 [==============================] - 94s 123ms/step - loss: 0.0297 - mean_absolute_error: 0.1287 - val_loss: 0.0801 - val_mean_absolute_error: 0.2203\n"
     ]
    }
   ],
   "source": [
    "model_baseline3 = build_model_baseline()\n",
    "\n",
    "hist_baseline_inc_dropout = model_baseline3.fit_generator(iterate_minibatches(data_train, batch_size, cycle=True, word_dropout=0.1), \n",
    "                                    epochs=epochs, steps_per_epoch=steps_per_epoch,\n",
    "                                    validation_data=iterate_minibatches(data_val, batch_size, cycle=True),\n",
    "                                    validation_steps=data_val.shape[0] // batch_size)"
   ]
  },
  {
   "cell_type": "code",
   "execution_count": 15,
   "metadata": {
    "colab": {
     "base_uri": "https://localhost:8080/",
     "height": 381
    },
    "colab_type": "code",
    "id": "cdsiR5Qcgmpa",
    "outputId": "8ba39546-2f96-4ca7-e191-e45e0e3799b2"
   },
   "outputs": [
    {
     "name": "stdout",
     "output_type": "stream",
     "text": [
      "Train results:\n",
      "Mean square error: 0.04427\n",
      "Mean absolute error: 0.17424\n",
      "Val results:\n",
      "Mean square error: 0.08014\n",
      "Mean absolute error: 0.22034\n"
     ]
    },
    {
     "data": {
      "image/png": "[encoded data removed]",
      "text/plain": [
       "<matplotlib.figure.Figure at 0x7ff9c135dc18>"
      ]
     },
     "metadata": {
      "tags": []
     },
     "output_type": "display_data"
    }
   ],
   "source": [
    "print_metrics(model_baseline3, data_train, name='Train')\n",
    "print_metrics(model_baseline3, data_val, name='Val')\n",
    "maes['inc_dropout'] = hist_baseline_inc_dropout.history['val_mean_absolute_error']\n",
    "print_maes()"
   ]
  },
  {
   "cell_type": "code",
   "execution_count": 0,
   "metadata": {
    "colab": {},
    "colab_type": "code",
    "collapsed": true,
    "id": "aD4Kpxp0IkNc"
   },
   "outputs": [],
   "source": [
    "def build_model_dropout(n_tokens=len(tokens), n_cat_features=len(categorical_vectorizer.vocabulary_), hid_size=64):\n",
    "    \"\"\" Build a model that maps three data sources to a single linear output: predicted log1p(salary) \"\"\"\n",
    "    \n",
    "    l_title = L.Input(shape=[None], name=\"Title\")\n",
    "    l_descr = L.Input(shape=[None], name=\"FullDescription\")\n",
    "    l_categ = L.Input(shape=[n_cat_features], name=\"Categorical\")\n",
    "    \n",
    "    # Build your monster!\n",
    "    emb = L.Embedding(n_tokens, hid_size)\n",
    "    \n",
    "    l_title_emb = emb(l_title)\n",
    "    l_title_conv = L.Conv1D(filters=hid_size, kernel_size=2, activation='relu')(l_title_emb)\n",
    "    l_title_out = L.GlobalMaxPool1D()(l_title_conv)\n",
    "    \n",
    "    l_descr_emb = emb(l_descr)\n",
    "    l_descr_conv = L.Conv1D(filters=hid_size, kernel_size=3, activation='relu')(l_descr_emb)\n",
    "    l_descr_out = L.GlobalMaxPool1D()(l_descr_conv)\n",
    "    \n",
    "    l_categ_out = L.Dense(hid_size, activation='relu')(l_categ)\n",
    "    \n",
    "    l_combined = L.Concatenate()([l_title_out, l_descr_out, l_categ_out])\n",
    "    l_combined_dense = L.Dense(2 * hid_size, activation='relu')(l_combined)\n",
    "    \n",
    "    # Adding dropout with p=0.5 after fully connected layer\n",
    "    l_combined_dropout = L.Dropout(0.5)(l_combined_dense)\n",
    "    output_layer = L.Dense(1)(l_combined_dropout)\n",
    "    # end of your code\n",
    "    \n",
    "    model = keras.models.Model(inputs=[l_title, l_descr, l_categ], outputs=[output_layer])\n",
    "    model.compile('adam', 'mean_squared_error', metrics=['mean_absolute_error'])\n",
    "    return model"
   ]
  },
  {
   "cell_type": "code",
   "execution_count": 17,
   "metadata": {
    "colab": {
     "base_uri": "https://localhost:8080/",
     "height": 377
    },
    "colab_type": "code",
    "id": "LYczNGwnIkNf",
    "outputId": "f87e10b9-5e4d-4746-b339-4c240472688d"
   },
   "outputs": [
    {
     "name": "stdout",
     "output_type": "stream",
     "text": [
      "Epoch 1/10\n",
      "765/765 [==============================] - 95s 125ms/step - loss: 4.4546 - mean_absolute_error: 1.3910 - val_loss: 0.1728 - val_mean_absolute_error: 0.3237\n",
      "Epoch 2/10\n",
      "765/765 [==============================] - 93s 122ms/step - loss: 1.8000 - mean_absolute_error: 1.0714 - val_loss: 0.1254 - val_mean_absolute_error: 0.2732\n",
      "Epoch 3/10\n",
      "765/765 [==============================] - 90s 118ms/step - loss: 1.7379 - mean_absolute_error: 1.0513 - val_loss: 0.0962 - val_mean_absolute_error: 0.2354\n",
      "Epoch 4/10\n",
      "765/765 [==============================] - 94s 123ms/step - loss: 1.6422 - mean_absolute_error: 1.0226 - val_loss: 0.1042 - val_mean_absolute_error: 0.2507\n",
      "Epoch 5/10\n",
      "765/765 [==============================] - 90s 118ms/step - loss: 1.5323 - mean_absolute_error: 0.9874 - val_loss: 0.1996 - val_mean_absolute_error: 0.3767\n",
      "Epoch 6/10\n",
      "765/765 [==============================] - 90s 117ms/step - loss: 1.3967 - mean_absolute_error: 0.9432 - val_loss: 0.0857 - val_mean_absolute_error: 0.2222\n",
      "Epoch 7/10\n",
      "765/765 [==============================] - 94s 123ms/step - loss: 1.2698 - mean_absolute_error: 0.8987 - val_loss: 0.0736 - val_mean_absolute_error: 0.2035\n",
      "Epoch 8/10\n",
      "765/765 [==============================] - 90s 118ms/step - loss: 1.1310 - mean_absolute_error: 0.8473 - val_loss: 0.0965 - val_mean_absolute_error: 0.2411\n",
      "Epoch 9/10\n",
      "765/765 [==============================] - 94s 123ms/step - loss: 1.0042 - mean_absolute_error: 0.7994 - val_loss: 0.0971 - val_mean_absolute_error: 0.2424\n",
      "Epoch 10/10\n",
      "765/765 [==============================] - 93s 121ms/step - loss: 0.8724 - mean_absolute_error: 0.7438 - val_loss: 0.0712 - val_mean_absolute_error: 0.1997\n"
     ]
    }
   ],
   "source": [
    "model_dropout = build_model_dropout()\n",
    "\n",
    "hist_dropout = model_dropout.fit_generator(iterate_minibatches(data_train, batch_size, cycle=True, word_dropout=0.05), \n",
    "                                    epochs=epochs, steps_per_epoch=steps_per_epoch,\n",
    "                                    validation_data=iterate_minibatches(data_val, batch_size, cycle=True),\n",
    "                                    validation_steps=data_val.shape[0] // batch_size)"
   ]
  },
  {
   "cell_type": "code",
   "execution_count": 18,
   "metadata": {
    "colab": {
     "base_uri": "https://localhost:8080/",
     "height": 381
    },
    "colab_type": "code",
    "id": "got6i7DbIkNk",
    "outputId": "2178883f-c92e-47a9-f0db-8dbe0f3d2bf6"
   },
   "outputs": [
    {
     "name": "stdout",
     "output_type": "stream",
     "text": [
      "Train results:\n",
      "Mean square error: 0.06305\n",
      "Mean absolute error: 0.18860\n",
      "Val results:\n",
      "Mean square error: 0.07120\n",
      "Mean absolute error: 0.19976\n"
     ]
    },
    {
     "data": {
      "image/png": "[encoded data removed]",
      "text/plain": [
       "<matplotlib.figure.Figure at 0x7ff9be22ce48>"
      ]
     },
     "metadata": {
      "tags": []
     },
     "output_type": "display_data"
    }
   ],
   "source": [
    "print_metrics(model_dropout, data_train, name='Train')\n",
    "print_metrics(model_dropout, data_val, name='Val')\n",
    "maes['dropout'] = hist_dropout.history['val_mean_absolute_error']\n",
    "print_maes(['baseline', 'dropout'])"
   ]
  },
  {
   "cell_type": "code",
   "execution_count": 0,
   "metadata": {
    "colab": {},
    "colab_type": "code",
    "collapsed": true,
    "id": "SzASRCNwIkNo"
   },
   "outputs": [],
   "source": [
    "def build_model_dropout2(n_tokens=len(tokens), n_cat_features=len(categorical_vectorizer.vocabulary_), hid_size=64):\n",
    "    \"\"\" Build a model that maps three data sources to a single linear output: predicted log1p(salary) \"\"\"\n",
    "    \n",
    "    l_title = L.Input(shape=[None], name=\"Title\")\n",
    "    l_descr = L.Input(shape=[None], name=\"FullDescription\")\n",
    "    l_categ = L.Input(shape=[n_cat_features], name=\"Categorical\")\n",
    "    \n",
    "    # Build your monster!\n",
    "    emb = L.Embedding(n_tokens, hid_size)\n",
    "    \n",
    "    l_title_emb = emb(l_title)\n",
    "    l_title_conv = L.Conv1D(filters=hid_size, kernel_size=2, activation='relu')(l_title_emb)\n",
    "    # Adding dropout with p=0.1 after convolution layers\n",
    "    l_title_dropout = L.Dropout(0.1)(l_title_conv)\n",
    "    l_title_out = L.GlobalMaxPool1D()(l_title_dropout)\n",
    "    \n",
    "    l_descr_emb = emb(l_descr)\n",
    "    l_descr_conv = L.Conv1D(filters=hid_size, kernel_size=3, activation='relu')(l_descr_emb)\n",
    "    # Adding dropout with p=0.1 after convolution layers\n",
    "    l_descr_dropout = L.Dropout(0.1)(l_descr_conv)\n",
    "    l_descr_out = L.GlobalMaxPool1D()(l_descr_dropout)\n",
    "    \n",
    "    l_categ_out = L.Dense(hid_size, activation='relu')(l_categ)\n",
    "    \n",
    "    l_combined = L.Concatenate()([l_title_out, l_descr_out, l_categ_out])\n",
    "    l_combined_dense = L.Dense(2 * hid_size, activation='relu')(l_combined)\n",
    "    \n",
    "    # Adding dropout with p=0.5 after fully connected layer\n",
    "    l_combined_dropout = L.Dropout(0.4)(l_combined_dense)\n",
    "    output_layer = L.Dense(1)(l_combined_dropout)\n",
    "    # end of your code\n",
    "    \n",
    "    model = keras.models.Model(inputs=[l_title, l_descr, l_categ], outputs=[output_layer])\n",
    "    model.compile('adam', 'mean_squared_error', metrics=['mean_absolute_error'])\n",
    "    return model"
   ]
  },
  {
   "cell_type": "code",
   "execution_count": 20,
   "metadata": {
    "colab": {
     "base_uri": "https://localhost:8080/",
     "height": 377
    },
    "colab_type": "code",
    "id": "zZ6JJ49hIkNr",
    "outputId": "d3fd6a7b-2132-4b21-9ace-4b28dd1b502b"
   },
   "outputs": [
    {
     "name": "stdout",
     "output_type": "stream",
     "text": [
      "Epoch 1/10\n",
      "765/765 [==============================] - 99s 129ms/step - loss: 3.7774 - mean_absolute_error: 1.1918 - val_loss: 0.9407 - val_mean_absolute_error: 0.9100\n",
      "Epoch 2/10\n",
      "765/765 [==============================] - 95s 124ms/step - loss: 1.1605 - mean_absolute_error: 0.8584 - val_loss: 0.9367 - val_mean_absolute_error: 0.9180\n",
      "Epoch 3/10\n",
      "765/765 [==============================] - 95s 124ms/step - loss: 1.1320 - mean_absolute_error: 0.8483 - val_loss: 0.7782 - val_mean_absolute_error: 0.8349\n",
      "Epoch 4/10\n",
      "765/765 [==============================] - 98s 128ms/step - loss: 1.0790 - mean_absolute_error: 0.8279 - val_loss: 1.1278 - val_mean_absolute_error: 1.0248\n",
      "Epoch 5/10\n",
      "765/765 [==============================] - 97s 127ms/step - loss: 1.0309 - mean_absolute_error: 0.8090 - val_loss: 0.7967 - val_mean_absolute_error: 0.8508\n",
      "Epoch 6/10\n",
      "765/765 [==============================] - 96s 125ms/step - loss: 0.9816 - mean_absolute_error: 0.7894 - val_loss: 1.0988 - val_mean_absolute_error: 1.0134\n",
      "Epoch 7/10\n",
      "765/765 [==============================] - 99s 129ms/step - loss: 0.9152 - mean_absolute_error: 0.7618 - val_loss: 0.8537 - val_mean_absolute_error: 0.8859\n",
      "Epoch 8/10\n",
      "765/765 [==============================] - 96s 125ms/step - loss: 0.8339 - mean_absolute_error: 0.7279 - val_loss: 0.7001 - val_mean_absolute_error: 0.7963\n",
      "Epoch 9/10\n",
      "765/765 [==============================] - 98s 128ms/step - loss: 0.7676 - mean_absolute_error: 0.6981 - val_loss: 0.7117 - val_mean_absolute_error: 0.8046\n",
      "Epoch 10/10\n",
      "765/765 [==============================] - 96s 125ms/step - loss: 0.6937 - mean_absolute_error: 0.6629 - val_loss: 0.5361 - val_mean_absolute_error: 0.6885\n"
     ]
    }
   ],
   "source": [
    "model_dropout2 = build_model_dropout2()\n",
    "\n",
    "hist_dropout2 = model_dropout2.fit_generator(iterate_minibatches(data_train, batch_size, cycle=True, word_dropout=0.05), \n",
    "                                    epochs=epochs, steps_per_epoch=steps_per_epoch,\n",
    "                                    validation_data=iterate_minibatches(data_val, batch_size, cycle=True),\n",
    "                                    validation_steps=data_val.shape[0] // batch_size)"
   ]
  },
  {
   "cell_type": "code",
   "execution_count": 21,
   "metadata": {
    "colab": {
     "base_uri": "https://localhost:8080/",
     "height": 381
    },
    "colab_type": "code",
    "id": "gBE4hq9fIkNu",
    "outputId": "240975a0-8ad0-4511-9206-0c81bae6419e"
   },
   "outputs": [
    {
     "name": "stdout",
     "output_type": "stream",
     "text": [
      "Train results:\n",
      "Mean square error: 0.52289\n",
      "Mean absolute error: 0.68417\n",
      "Val results:\n",
      "Mean square error: 0.53647\n",
      "Mean absolute error: 0.68874\n"
     ]
    },
    {
     "data": {
      "image/png": "[encoded data removed]",
      "text/plain": [
       "<matplotlib.figure.Figure at 0x7ff9bd1d0c88>"
      ]
     },
     "metadata": {
      "tags": []
     },
     "output_type": "display_data"
    }
   ],
   "source": [
    "print_metrics(model_dropout2, data_train, name='Train')\n",
    "print_metrics(model_dropout2, data_val, name='Val')\n",
    "maes['dropout2'] = hist_dropout2.history['val_mean_absolute_error']\n",
    "print_maes(['baseline', 'dropout', 'dropout2'])"
   ]
  },
  {
   "cell_type": "code",
   "execution_count": 0,
   "metadata": {
    "colab": {},
    "colab_type": "code",
    "collapsed": true,
    "id": "Ew-JQY9CIkNz"
   },
   "outputs": [],
   "source": [
    "def build_model_batchnorm(n_tokens=len(tokens), n_cat_features=len(categorical_vectorizer.vocabulary_), hid_size=64):\n",
    "    \"\"\" Build a model that maps three data sources to a single linear output: predicted log1p(salary) \"\"\"\n",
    "    \n",
    "    l_title = L.Input(shape=[None], name=\"Title\")\n",
    "    l_descr = L.Input(shape=[None], name=\"FullDescription\")\n",
    "    l_categ = L.Input(shape=[n_cat_features], name=\"Categorical\")\n",
    "    \n",
    "    # Build your monster!\n",
    "    emb = L.Embedding(n_tokens, hid_size)\n",
    "    \n",
    "    l_title_emb = emb(l_title)\n",
    "    l_title_conv = L.Conv1D(filters=hid_size, kernel_size=2)(l_title_emb)\n",
    "    # Adding batch normalization before activation\n",
    "    l_title_batchnorm = L.BatchNormalization()(l_title_conv)\n",
    "    l_title_activation = L.Activation('relu')(l_title_batchnorm)\n",
    "    l_title_out = L.GlobalMaxPool1D()(l_title_activation)\n",
    "    \n",
    "    l_descr_emb = emb(l_descr)\n",
    "    l_descr_conv = L.Conv1D(filters=hid_size, kernel_size=3)(l_descr_emb)\n",
    "    # Adding batch normalization before activation\n",
    "    l_descr_batchnorm = L.BatchNormalization()(l_descr_conv)\n",
    "    l_descr_activation = L.Activation('relu')(l_descr_batchnorm)\n",
    "    l_descr_out = L.GlobalMaxPool1D()(l_descr_activation)\n",
    "    \n",
    "    l_categ_out = L.Dense(hid_size, activation='relu')(l_categ)\n",
    "\n",
    "    l_combined = L.Concatenate()([l_title_out, l_descr_out, l_categ_out])\n",
    "    l_combined_dense = L.Dense(2 * hid_size, activation='relu')(l_combined)\n",
    "    \n",
    "    output_layer = L.Dense(1)(l_combined_dense)\n",
    "    # end of your code\n",
    "    \n",
    "    model = keras.models.Model(inputs=[l_title, l_descr, l_categ], outputs=[output_layer])\n",
    "    model.compile('adam', 'mean_squared_error', metrics=['mean_absolute_error'])\n",
    "    return model"
   ]
  },
  {
   "cell_type": "code",
   "execution_count": 23,
   "metadata": {
    "colab": {
     "base_uri": "https://localhost:8080/",
     "height": 377
    },
    "colab_type": "code",
    "id": "lIEb_jkGIkN2",
    "outputId": "12595a6c-9ff2-4206-f783-5c6d2507c147"
   },
   "outputs": [
    {
     "name": "stdout",
     "output_type": "stream",
     "text": [
      "Epoch 1/10\n",
      "765/765 [==============================] - 101s 131ms/step - loss: 0.7671 - mean_absolute_error: 0.4845 - val_loss: 0.1380 - val_mean_absolute_error: 0.2895\n",
      "Epoch 2/10\n",
      "765/765 [==============================] - 102s 134ms/step - loss: 0.0939 - mean_absolute_error: 0.2313 - val_loss: 0.0929 - val_mean_absolute_error: 0.2280\n",
      "Epoch 3/10\n",
      "765/765 [==============================] - 101s 133ms/step - loss: 0.0674 - mean_absolute_error: 0.1959 - val_loss: 0.0764 - val_mean_absolute_error: 0.2060\n",
      "Epoch 4/10\n",
      "765/765 [==============================] - 101s 132ms/step - loss: 0.0589 - mean_absolute_error: 0.1832 - val_loss: 0.0746 - val_mean_absolute_error: 0.2017\n",
      "Epoch 5/10\n",
      "765/765 [==============================] - 104s 136ms/step - loss: 0.0543 - mean_absolute_error: 0.1769 - val_loss: 0.0847 - val_mean_absolute_error: 0.2231\n",
      "Epoch 6/10\n",
      "765/765 [==============================] - 102s 133ms/step - loss: 0.0567 - mean_absolute_error: 0.1824 - val_loss: 0.1181 - val_mean_absolute_error: 0.2792\n",
      "Epoch 7/10\n",
      "765/765 [==============================] - 102s 133ms/step - loss: 0.0528 - mean_absolute_error: 0.1759 - val_loss: 0.0655 - val_mean_absolute_error: 0.1886\n",
      "Epoch 8/10\n",
      "765/765 [==============================] - 102s 134ms/step - loss: 0.0505 - mean_absolute_error: 0.1722 - val_loss: 0.0964 - val_mean_absolute_error: 0.2461\n",
      "Epoch 9/10\n",
      "765/765 [==============================] - 101s 132ms/step - loss: 0.0484 - mean_absolute_error: 0.1691 - val_loss: 0.0638 - val_mean_absolute_error: 0.1856\n",
      "Epoch 10/10\n",
      "765/765 [==============================] - 101s 132ms/step - loss: 0.0467 - mean_absolute_error: 0.1657 - val_loss: 0.0666 - val_mean_absolute_error: 0.1908\n"
     ]
    }
   ],
   "source": [
    "model_batchnorm = build_model_batchnorm()\n",
    "\n",
    "hist_batchnorm = model_batchnorm.fit_generator(iterate_minibatches(data_train, batch_size, cycle=True, word_dropout=0.05), \n",
    "                                    epochs=epochs, steps_per_epoch=steps_per_epoch,\n",
    "                                    validation_data=iterate_minibatches(data_val, batch_size, cycle=True),\n",
    "                                    validation_steps=data_val.shape[0] // batch_size)"
   ]
  },
  {
   "cell_type": "code",
   "execution_count": 24,
   "metadata": {
    "colab": {
     "base_uri": "https://localhost:8080/",
     "height": 381
    },
    "colab_type": "code",
    "id": "iMN5EhNBIkN6",
    "outputId": "35ee59ca-e316-4fee-c9a0-206aa1fda177"
   },
   "outputs": [
    {
     "name": "stdout",
     "output_type": "stream",
     "text": [
      "Train results:\n",
      "Mean square error: 0.03213\n",
      "Mean absolute error: 0.13606\n",
      "Val results:\n",
      "Mean square error: 0.06658\n",
      "Mean absolute error: 0.19084\n"
     ]
    },
    {
     "data": {
      "image/png": "[encoded data removed]",
      "text/plain": [
       "<matplotlib.figure.Figure at 0x7ff9bac52160>"
      ]
     },
     "metadata": {
      "tags": []
     },
     "output_type": "display_data"
    }
   ],
   "source": [
    "print_metrics(model_batchnorm, data_train, name='Train')\n",
    "print_metrics(model_batchnorm, data_val, name='Val')\n",
    "maes['batchnorm'] = hist_batchnorm.history['val_mean_absolute_error']\n",
    "print_maes(['baseline', 'batchnorm'])"
   ]
  },
  {
   "cell_type": "code",
   "execution_count": 0,
   "metadata": {
    "colab": {},
    "colab_type": "code",
    "collapsed": true,
    "id": "dLKAVdCSIkN-"
   },
   "outputs": [],
   "source": [
    "def build_model_batchnorm2(n_tokens=len(tokens), n_cat_features=len(categorical_vectorizer.vocabulary_), hid_size=64):\n",
    "    \"\"\" Build a model that maps three data sources to a single linear output: predicted log1p(salary) \"\"\"\n",
    "    \n",
    "    l_title = L.Input(shape=[None], name=\"Title\")\n",
    "    l_descr = L.Input(shape=[None], name=\"FullDescription\")\n",
    "    l_categ = L.Input(shape=[n_cat_features], name=\"Categorical\")\n",
    "    \n",
    "    # Build your monster!\n",
    "    emb = L.Embedding(n_tokens, hid_size)\n",
    "    \n",
    "    l_title_emb = emb(l_title)\n",
    "    l_title_conv = L.Conv1D(filters=hid_size, kernel_size=2, activation='relu')(l_title_emb)\n",
    "    # Adding batch normalization after activation\n",
    "    l_title_batchnorm = L.BatchNormalization()(l_title_conv)\n",
    "    l_title_out = L.GlobalMaxPool1D()(l_title_batchnorm)\n",
    "    \n",
    "    l_descr_emb = emb(l_descr)\n",
    "    l_descr_conv = L.Conv1D(filters=hid_size, kernel_size=3, activation='relu')(l_descr_emb)\n",
    "    # Adding batch normalization after activation\n",
    "    l_descr_batchnorm = L.BatchNormalization()(l_descr_conv)\n",
    "    l_descr_out = L.GlobalMaxPool1D()(l_descr_batchnorm)\n",
    "    \n",
    "    l_categ_out = L.Dense(hid_size, activation='relu')(l_categ)\n",
    "\n",
    "    l_combined = L.Concatenate()([l_title_out, l_descr_out, l_categ_out])\n",
    "    l_combined_dense = L.Dense(2 * hid_size, activation='relu')(l_combined)\n",
    "    \n",
    "    output_layer = L.Dense(1)(l_combined_dense)\n",
    "    # end of your code\n",
    "    \n",
    "    model = keras.models.Model(inputs=[l_title, l_descr, l_categ], outputs=[output_layer])\n",
    "    model.compile('adam', 'mean_squared_error', metrics=['mean_absolute_error'])\n",
    "    return model"
   ]
  },
  {
   "cell_type": "code",
   "execution_count": 26,
   "metadata": {
    "colab": {
     "base_uri": "https://localhost:8080/",
     "height": 377
    },
    "colab_type": "code",
    "id": "unJQb6RPIkOB",
    "outputId": "9123d086-c49c-4255-a362-038fdc5c33c6"
   },
   "outputs": [
    {
     "name": "stdout",
     "output_type": "stream",
     "text": [
      "Epoch 1/10\n",
      "765/765 [==============================] - 105s 137ms/step - loss: 0.7957 - mean_absolute_error: 0.4406 - val_loss: 0.1425 - val_mean_absolute_error: 0.2952\n",
      "Epoch 2/10\n",
      "765/765 [==============================] - 98s 128ms/step - loss: 0.0838 - mean_absolute_error: 0.2182 - val_loss: 0.1043 - val_mean_absolute_error: 0.2497\n",
      "Epoch 3/10\n",
      "765/765 [==============================] - 96s 126ms/step - loss: 0.0634 - mean_absolute_error: 0.1902 - val_loss: 0.0771 - val_mean_absolute_error: 0.2077\n",
      "Epoch 4/10\n",
      "765/765 [==============================] - 102s 133ms/step - loss: 0.0564 - mean_absolute_error: 0.1799 - val_loss: 0.0927 - val_mean_absolute_error: 0.2362\n",
      "Epoch 5/10\n",
      "765/765 [==============================] - 97s 127ms/step - loss: 0.0532 - mean_absolute_error: 0.1759 - val_loss: 0.0756 - val_mean_absolute_error: 0.2073\n",
      "Epoch 6/10\n",
      "765/765 [==============================] - 97s 127ms/step - loss: 0.0511 - mean_absolute_error: 0.1731 - val_loss: 0.1500 - val_mean_absolute_error: 0.3243\n",
      "Epoch 7/10\n",
      "765/765 [==============================] - 100s 131ms/step - loss: 0.0488 - mean_absolute_error: 0.1692 - val_loss: 0.1984 - val_mean_absolute_error: 0.3863\n",
      "Epoch 8/10\n",
      "765/765 [==============================] - 98s 128ms/step - loss: 0.0496 - mean_absolute_error: 0.1713 - val_loss: 0.1730 - val_mean_absolute_error: 0.3570\n",
      "Epoch 9/10\n",
      "765/765 [==============================] - 96s 126ms/step - loss: 0.0427 - mean_absolute_error: 0.1579 - val_loss: 0.1296 - val_mean_absolute_error: 0.2986\n",
      "Epoch 10/10\n",
      "765/765 [==============================] - 98s 129ms/step - loss: 0.0449 - mean_absolute_error: 0.1625 - val_loss: 0.1272 - val_mean_absolute_error: 0.2943\n"
     ]
    }
   ],
   "source": [
    "model_batchnorm2 = build_model_batchnorm2()\n",
    "\n",
    "hist_batchnorm2 = model_batchnorm2.fit_generator(iterate_minibatches(data_train, batch_size, cycle=True, word_dropout=0.05), \n",
    "                                    epochs=epochs, steps_per_epoch=steps_per_epoch,\n",
    "                                    validation_data=iterate_minibatches(data_val, batch_size, cycle=True),\n",
    "                                    validation_steps=data_val.shape[0] // batch_size)"
   ]
  },
  {
   "cell_type": "code",
   "execution_count": 27,
   "metadata": {
    "colab": {
     "base_uri": "https://localhost:8080/",
     "height": 381
    },
    "colab_type": "code",
    "id": "XvwMj1GjIkOE",
    "outputId": "3e325e50-76a1-4a12-c483-d42fd4a371de"
   },
   "outputs": [
    {
     "name": "stdout",
     "output_type": "stream",
     "text": [
      "Train results:\n",
      "Mean square error: 0.09438\n",
      "Mean absolute error: 0.26792\n",
      "Val results:\n",
      "Mean square error: 0.12709\n",
      "Mean absolute error: 0.29417\n"
     ]
    },
    {
     "data": {
      "image/png": "[encoded data removed]",
      "text/plain": [
       "<matplotlib.figure.Figure at 0x7ff9b8f566a0>"
      ]
     },
     "metadata": {
      "tags": []
     },
     "output_type": "display_data"
    }
   ],
   "source": [
    "print_metrics(model_batchnorm2, data_train, name='Train')\n",
    "print_metrics(model_batchnorm2, data_val, name='Val')\n",
    "maes['batchnorm2'] = hist_batchnorm2.history['val_mean_absolute_error']\n",
    "print_maes(['baseline', 'batchnorm', 'batchnorm2'])"
   ]
  },
  {
   "cell_type": "code",
   "execution_count": 0,
   "metadata": {
    "colab": {},
    "colab_type": "code",
    "collapsed": true,
    "id": "-o4oMBdeIkOH"
   },
   "outputs": [],
   "source": [
    "def build_model_avg_pooling(n_tokens=len(tokens), n_cat_features=len(categorical_vectorizer.vocabulary_), hid_size=64):\n",
    "    \"\"\" Build a model that maps three data sources to a single linear output: predicted log1p(salary) \"\"\"\n",
    "    \n",
    "    l_title = L.Input(shape=[None], name=\"Title\")\n",
    "    l_descr = L.Input(shape=[None], name=\"FullDescription\")\n",
    "    l_categ = L.Input(shape=[n_cat_features], name=\"Categorical\")\n",
    "    \n",
    "    # Build your monster!\n",
    "    emb = L.Embedding(n_tokens, hid_size)\n",
    "    \n",
    "    l_title_emb = emb(l_title)\n",
    "    l_title_conv = L.Conv1D(filters=hid_size, kernel_size=2, activation='relu')(l_title_emb)\n",
    "    l_title_out = L.GlobalAvgPool1D()(l_title_conv)\n",
    "    \n",
    "    l_descr_emb = emb(l_descr)\n",
    "    l_descr_conv = L.Conv1D(filters=hid_size, kernel_size=3, activation='relu')(l_descr_emb)\n",
    "    l_descr_out = L.GlobalAvgPool1D()(l_descr_conv)\n",
    "    \n",
    "    l_categ_out = L.Dense(hid_size, activation='relu')(l_categ)\n",
    "\n",
    "    l_combined = L.Concatenate()([l_title_out, l_descr_out, l_categ_out])\n",
    "    l_combined_dense = L.Dense(2 * hid_size, activation='relu')(l_combined)\n",
    "    \n",
    "    output_layer = L.Dense(1)(l_combined_dense)\n",
    "    # end of your code\n",
    "    \n",
    "    model = keras.models.Model(inputs=[l_title, l_descr, l_categ], outputs=[output_layer])\n",
    "    model.compile('adam', 'mean_squared_error', metrics=['mean_absolute_error'])\n",
    "    return model"
   ]
  },
  {
   "cell_type": "code",
   "execution_count": 29,
   "metadata": {
    "colab": {
     "base_uri": "https://localhost:8080/",
     "height": 377
    },
    "colab_type": "code",
    "id": "U5akLZgzIkOK",
    "outputId": "33e28001-51af-4202-c62c-4230c6806310"
   },
   "outputs": [
    {
     "name": "stdout",
     "output_type": "stream",
     "text": [
      "Epoch 1/10\n",
      "765/765 [==============================] - 91s 119ms/step - loss: 3.1427 - mean_absolute_error: 0.6367 - val_loss: 0.0866 - val_mean_absolute_error: 0.2227\n",
      "Epoch 2/10\n",
      "765/765 [==============================] - 92s 121ms/step - loss: 0.0783 - mean_absolute_error: 0.2095 - val_loss: 0.0758 - val_mean_absolute_error: 0.2061\n",
      "Epoch 3/10\n",
      "765/765 [==============================] - 87s 114ms/step - loss: 0.0691 - mean_absolute_error: 0.1959 - val_loss: 0.0718 - val_mean_absolute_error: 0.2004\n",
      "Epoch 4/10\n",
      "765/765 [==============================] - 86s 113ms/step - loss: 0.0640 - mean_absolute_error: 0.1886 - val_loss: 0.0707 - val_mean_absolute_error: 0.1996\n",
      "Epoch 5/10\n",
      "765/765 [==============================] - 84s 110ms/step - loss: 0.0588 - mean_absolute_error: 0.1806 - val_loss: 0.0689 - val_mean_absolute_error: 0.1955\n",
      "Epoch 6/10\n",
      "765/765 [==============================] - 88s 115ms/step - loss: 0.0556 - mean_absolute_error: 0.1758 - val_loss: 0.0665 - val_mean_absolute_error: 0.1909\n",
      "Epoch 7/10\n",
      "765/765 [==============================] - 89s 116ms/step - loss: 0.0520 - mean_absolute_error: 0.1698 - val_loss: 0.0642 - val_mean_absolute_error: 0.1878\n",
      "Epoch 8/10\n",
      "765/765 [==============================] - 91s 119ms/step - loss: 0.0499 - mean_absolute_error: 0.1660 - val_loss: 0.0647 - val_mean_absolute_error: 0.1887\n",
      "Epoch 9/10\n",
      "765/765 [==============================] - 91s 119ms/step - loss: 0.0473 - mean_absolute_error: 0.1615 - val_loss: 0.0648 - val_mean_absolute_error: 0.1885\n",
      "Epoch 10/10\n",
      "765/765 [==============================] - 95s 124ms/step - loss: 0.0456 - mean_absolute_error: 0.1586 - val_loss: 0.0630 - val_mean_absolute_error: 0.1844\n"
     ]
    }
   ],
   "source": [
    "model_avg_pooling = build_model_avg_pooling()\n",
    "\n",
    "hist_avg_pooling = model_avg_pooling.fit_generator(iterate_minibatches(data_train, batch_size, cycle=True, word_dropout=0.05), \n",
    "                                    epochs=epochs, steps_per_epoch=steps_per_epoch,\n",
    "                                    validation_data=iterate_minibatches(data_val, batch_size, cycle=True),\n",
    "                                    validation_steps=data_val.shape[0] // batch_size)"
   ]
  },
  {
   "cell_type": "code",
   "execution_count": 30,
   "metadata": {
    "colab": {
     "base_uri": "https://localhost:8080/",
     "height": 381
    },
    "colab_type": "code",
    "id": "Sn64c9DoIkOO",
    "outputId": "a3394105-1282-42dc-8364-9dafdf30260f"
   },
   "outputs": [
    {
     "name": "stdout",
     "output_type": "stream",
     "text": [
      "Train results:\n",
      "Mean square error: 0.03846\n",
      "Mean absolute error: 0.14389\n",
      "Val results:\n",
      "Mean square error: 0.06329\n",
      "Mean absolute error: 0.18513\n"
     ]
    },
    {
     "data": {
      "image/png": "[encoded data removed]",
      "text/plain": [
       "<matplotlib.figure.Figure at 0x7ff9b876ecf8>"
      ]
     },
     "metadata": {
      "tags": []
     },
     "output_type": "display_data"
    }
   ],
   "source": [
    "print_metrics(model_avg_pooling, data_train, name='Train')\n",
    "print_metrics(model_avg_pooling, data_val, name='Val')\n",
    "maes['avg_pooling'] = hist_avg_pooling.history['val_mean_absolute_error']\n",
    "print_maes(['baseline', 'avg_pooling'])"
   ]
  },
  {
   "cell_type": "code",
   "execution_count": 0,
   "metadata": {
    "colab": {},
    "colab_type": "code",
    "collapsed": true,
    "id": "19vkLZ0AIkOR"
   },
   "outputs": [],
   "source": [
    "def build_model_more_layers(n_tokens=len(tokens), n_cat_features=len(categorical_vectorizer.vocabulary_), hid_size=64):\n",
    "    \"\"\" Build a model that maps three data sources to a single linear output: predicted log1p(salary) \"\"\"\n",
    "    \n",
    "    l_title = L.Input(shape=[None], name=\"Title\")\n",
    "    l_descr = L.Input(shape=[None], name=\"FullDescription\")\n",
    "    l_categ = L.Input(shape=[n_cat_features], name=\"Categorical\")\n",
    "    \n",
    "    # Build your monster!\n",
    "    emb = L.Embedding(n_tokens, hid_size)\n",
    "    # stack_more_layers.jpg\n",
    "    l_title_emb = emb(l_title)\n",
    "    l_title_conv = L.Conv1D(filters=hid_size, kernel_size=2, activation='relu')(l_title_emb)\n",
    "    l_title_out = L.GlobalAvgPool1D()(l_title_conv)\n",
    "    \n",
    "    l_descr_emb = emb(l_descr)\n",
    "    l_descr_conv = L.Conv1D(filters=hid_size, kernel_size=3, activation='relu')(l_descr_emb)\n",
    "    l_descr_out = L.GlobalAvgPool1D()(l_descr_conv)\n",
    "    \n",
    "    l_categ_out = L.Dense(hid_size, activation='relu')(l_categ)\n",
    "\n",
    "    l_combined = L.Concatenate()([l_title_out, l_descr_out, l_categ_out])\n",
    "    l_combined_dense = L.Dense(2 * hid_size, activation='relu')(l_combined)\n",
    "    l_out = L.Dense(hid_size, activation='relu')(l_combined_dense)\n",
    "    l_out2 = L.Dense(int(hid_size/2), activation='relu')(l_out)\n",
    "    \n",
    "    output_layer = L.Dense(1)(l_out2)\n",
    "    # end of your code\n",
    "    \n",
    "    model = keras.models.Model(inputs=[l_title, l_descr, l_categ], outputs=[output_layer])\n",
    "    model.compile('adam', 'mean_squared_error', metrics=['mean_absolute_error'])\n",
    "    return model"
   ]
  },
  {
   "cell_type": "code",
   "execution_count": 32,
   "metadata": {
    "colab": {
     "base_uri": "https://localhost:8080/",
     "height": 377
    },
    "colab_type": "code",
    "id": "esEgyMKzIkOU",
    "outputId": "14674cb3-0806-4f92-951b-8af0968fe880"
   },
   "outputs": [
    {
     "name": "stdout",
     "output_type": "stream",
     "text": [
      "Epoch 1/10\n",
      "765/765 [==============================] - 92s 120ms/step - loss: 3.1861 - mean_absolute_error: 0.6352 - val_loss: 0.0816 - val_mean_absolute_error: 0.2143\n",
      "Epoch 2/10\n",
      "765/765 [==============================] - 93s 122ms/step - loss: 0.0748 - mean_absolute_error: 0.2044 - val_loss: 0.0718 - val_mean_absolute_error: 0.2001\n",
      "Epoch 3/10\n",
      "765/765 [==============================] - 89s 117ms/step - loss: 0.0653 - mean_absolute_error: 0.1905 - val_loss: 0.0685 - val_mean_absolute_error: 0.1948\n",
      "Epoch 4/10\n",
      "765/765 [==============================] - 87s 114ms/step - loss: 0.0602 - mean_absolute_error: 0.1826 - val_loss: 0.0677 - val_mean_absolute_error: 0.1941\n",
      "Epoch 5/10\n",
      "765/765 [==============================] - 94s 122ms/step - loss: 0.0566 - mean_absolute_error: 0.1771 - val_loss: 0.0692 - val_mean_absolute_error: 0.1971\n",
      "Epoch 6/10\n",
      "765/765 [==============================] - 88s 115ms/step - loss: 0.0538 - mean_absolute_error: 0.1730 - val_loss: 0.0645 - val_mean_absolute_error: 0.1882\n",
      "Epoch 7/10\n",
      "765/765 [==============================] - 88s 115ms/step - loss: 0.0514 - mean_absolute_error: 0.1691 - val_loss: 0.0661 - val_mean_absolute_error: 0.1911\n",
      "Epoch 8/10\n",
      "765/765 [==============================] - 94s 122ms/step - loss: 0.0489 - mean_absolute_error: 0.1649 - val_loss: 0.0648 - val_mean_absolute_error: 0.1879\n",
      "Epoch 9/10\n",
      "765/765 [==============================] - 86s 112ms/step - loss: 0.0466 - mean_absolute_error: 0.1604 - val_loss: 0.0641 - val_mean_absolute_error: 0.1866\n",
      "Epoch 10/10\n",
      "765/765 [==============================] - 90s 117ms/step - loss: 0.0444 - mean_absolute_error: 0.1567 - val_loss: 0.0689 - val_mean_absolute_error: 0.1961\n"
     ]
    }
   ],
   "source": [
    "model_more_layers = build_model_more_layers()\n",
    "\n",
    "hist_more_layers = model_more_layers.fit_generator(iterate_minibatches(data_train, batch_size, cycle=True, word_dropout=0.05), \n",
    "                                    epochs=epochs, steps_per_epoch=steps_per_epoch,\n",
    "                                    validation_data=iterate_minibatches(data_val, batch_size, cycle=True),\n",
    "                                    validation_steps=data_val.shape[0] // batch_size)"
   ]
  },
  {
   "cell_type": "code",
   "execution_count": 33,
   "metadata": {
    "colab": {
     "base_uri": "https://localhost:8080/",
     "height": 381
    },
    "colab_type": "code",
    "id": "d0S2pmRdIkOY",
    "outputId": "e6d1d1c5-d38a-4061-b99f-5fee53855e99"
   },
   "outputs": [
    {
     "name": "stdout",
     "output_type": "stream",
     "text": [
      "Train results:\n",
      "Mean square error: 0.04250\n",
      "Mean absolute error: 0.15526\n",
      "Val results:\n",
      "Mean square error: 0.06928\n",
      "Mean absolute error: 0.19669\n"
     ]
    },
    {
     "data": {
      "image/png": "[encoded data removed]",
      "text/plain": [
       "<matplotlib.figure.Figure at 0x7ff9b7132550>"
      ]
     },
     "metadata": {
      "tags": []
     },
     "output_type": "display_data"
    }
   ],
   "source": [
    "print_metrics(model_more_layers, data_train, name='Train')\n",
    "print_metrics(model_more_layers, data_val, name='Val')\n",
    "maes['more_layers'] = hist_more_layers.history['val_mean_absolute_error']\n",
    "print_maes(['baseline', 'more_layers'])"
   ]
  },
  {
   "cell_type": "code",
   "execution_count": 34,
   "metadata": {
    "colab": {
     "base_uri": "https://localhost:8080/",
     "height": 394
    },
    "colab_type": "code",
    "id": "JL8cSC2c5qf3",
    "outputId": "a95aa8d9-c0ca-4b6f-dbd4-f91c96d83868"
   },
   "outputs": [
    {
     "name": "stdout",
     "output_type": "stream",
     "text": [
      "34158\n",
      "Epoch 1/10\n",
      "765/765 [==============================] - 175s 228ms/step - loss: 1.6690 - mean_absolute_error: 0.4868 - val_loss: 0.0892 - val_mean_absolute_error: 0.2238\n",
      "Epoch 2/10\n",
      "765/765 [==============================] - 114s 149ms/step - loss: 0.0704 - mean_absolute_error: 0.1967 - val_loss: 0.0692 - val_mean_absolute_error: 0.1943\n",
      "Epoch 3/10\n",
      "765/765 [==============================] - 108s 142ms/step - loss: 0.0538 - mean_absolute_error: 0.1713 - val_loss: 0.0743 - val_mean_absolute_error: 0.2056\n",
      "Epoch 4/10\n",
      "765/765 [==============================] - 108s 141ms/step - loss: 0.0460 - mean_absolute_error: 0.1585 - val_loss: 0.0585 - val_mean_absolute_error: 0.1771\n",
      "Epoch 5/10\n",
      "765/765 [==============================] - 107s 139ms/step - loss: 0.0414 - mean_absolute_error: 0.1509 - val_loss: 0.0596 - val_mean_absolute_error: 0.1797\n",
      "Epoch 6/10\n",
      "765/765 [==============================] - 108s 142ms/step - loss: 0.0370 - mean_absolute_error: 0.1426 - val_loss: 0.0563 - val_mean_absolute_error: 0.1728\n",
      "Epoch 7/10\n",
      "765/765 [==============================] - 103s 135ms/step - loss: 0.0346 - mean_absolute_error: 0.1385 - val_loss: 0.0566 - val_mean_absolute_error: 0.1737\n",
      "Epoch 8/10\n",
      "765/765 [==============================] - 103s 134ms/step - loss: 0.0318 - mean_absolute_error: 0.1332 - val_loss: 0.0570 - val_mean_absolute_error: 0.1737\n",
      "Epoch 9/10\n",
      "765/765 [==============================] - 103s 135ms/step - loss: 0.0285 - mean_absolute_error: 0.1261 - val_loss: 0.0565 - val_mean_absolute_error: 0.1731\n",
      "Epoch 10/10\n",
      "765/765 [==============================] - 105s 138ms/step - loss: 0.0268 - mean_absolute_error: 0.1228 - val_loss: 0.0682 - val_mean_absolute_error: 0.1980\n"
     ]
    }
   ],
   "source": [
    "model_more_layers2 = build_model_baseline(hid_size=128)\n",
    "\n",
    "hist_more_layers2 = model_more_layers2.fit_generator(iterate_minibatches(data_train, batch_size, cycle=True, word_dropout=0.05), \n",
    "                                    epochs=epochs, steps_per_epoch=steps_per_epoch,\n",
    "                                    validation_data=iterate_minibatches(data_val, batch_size, cycle=True),\n",
    "                                    validation_steps=data_val.shape[0] // batch_size)"
   ]
  },
  {
   "cell_type": "code",
   "execution_count": 35,
   "metadata": {
    "colab": {
     "base_uri": "https://localhost:8080/",
     "height": 381
    },
    "colab_type": "code",
    "id": "0w-YYhs35swC",
    "outputId": "5b7b1d24-6dfb-491f-cd1d-ddd8d4139e05"
   },
   "outputs": [
    {
     "name": "stdout",
     "output_type": "stream",
     "text": [
      "Train results:\n",
      "Mean square error: 0.03191\n",
      "Mean absolute error: 0.14309\n",
      "Val results:\n",
      "Mean square error: 0.06814\n",
      "Mean absolute error: 0.19799\n"
     ]
    },
    {
     "data": {
      "image/png": "[encoded data removed]",
      "text/plain": [
       "<matplotlib.figure.Figure at 0x7ff9b6166e48>"
      ]
     },
     "metadata": {
      "tags": []
     },
     "output_type": "display_data"
    }
   ],
   "source": [
    "print_metrics(model_more_layers2, data_train, name='Train')\n",
    "print_metrics(model_more_layers2, data_val, name='Val')\n",
    "maes['more_layers2'] = hist_more_layers2.history['val_mean_absolute_error']\n",
    "print_maes(['baseline', 'more_layers', 'more_layers2'])"
   ]
  },
  {
   "cell_type": "code",
   "execution_count": 10,
   "metadata": {
    "colab": {
     "base_uri": "https://localhost:8080/",
     "height": 343
    },
    "colab_type": "code",
    "id": "Ogt0xOxeshwu",
    "outputId": "3557b9ab-de8f-4102-ecea-39e655a43958"
   },
   "outputs": [
    {
     "name": "stdout",
     "output_type": "stream",
     "text": [
      "Requirement already satisfied: gensim in /usr/local/lib/python3.6/dist-packages (3.6.0)\n",
      "Requirement already satisfied: scipy>=0.18.1 in /usr/local/lib/python3.6/dist-packages (from gensim) (0.19.1)\n",
      "Requirement already satisfied: numpy>=1.11.3 in /usr/local/lib/python3.6/dist-packages (from gensim) (1.14.6)\n",
      "Requirement already satisfied: six>=1.5.0 in /usr/local/lib/python3.6/dist-packages (from gensim) (1.11.0)\n",
      "Requirement already satisfied: smart-open>=1.2.1 in /usr/local/lib/python3.6/dist-packages (from gensim) (1.7.1)\n",
      "Requirement already satisfied: boto3 in /usr/local/lib/python3.6/dist-packages (from smart-open>=1.2.1->gensim) (1.9.17)\n",
      "Requirement already satisfied: bz2file in /usr/local/lib/python3.6/dist-packages (from smart-open>=1.2.1->gensim) (0.98)\n",
      "Requirement already satisfied: boto>=2.32 in /usr/local/lib/python3.6/dist-packages (from smart-open>=1.2.1->gensim) (2.49.0)\n",
      "Requirement already satisfied: requests in /usr/local/lib/python3.6/dist-packages (from smart-open>=1.2.1->gensim) (2.18.4)\n",
      "Requirement already satisfied: botocore<1.13.0,>=1.12.17 in /usr/local/lib/python3.6/dist-packages (from boto3->smart-open>=1.2.1->gensim) (1.12.17)\n",
      "Requirement already satisfied: s3transfer<0.2.0,>=0.1.10 in /usr/local/lib/python3.6/dist-packages (from boto3->smart-open>=1.2.1->gensim) (0.1.13)\n",
      "Requirement already satisfied: jmespath<1.0.0,>=0.7.1 in /usr/local/lib/python3.6/dist-packages (from boto3->smart-open>=1.2.1->gensim) (0.9.3)\n",
      "Requirement already satisfied: idna<2.7,>=2.5 in /usr/local/lib/python3.6/dist-packages (from requests->smart-open>=1.2.1->gensim) (2.6)\n",
      "Requirement already satisfied: chardet<3.1.0,>=3.0.2 in /usr/local/lib/python3.6/dist-packages (from requests->smart-open>=1.2.1->gensim) (3.0.4)\n",
      "Requirement already satisfied: urllib3<1.23,>=1.21.1 in /usr/local/lib/python3.6/dist-packages (from requests->smart-open>=1.2.1->gensim) (1.22)\n",
      "Requirement already satisfied: certifi>=2017.4.17 in /usr/local/lib/python3.6/dist-packages (from requests->smart-open>=1.2.1->gensim) (2018.8.24)\n",
      "Requirement already satisfied: python-dateutil<3.0.0,>=2.1; python_version >= \"2.7\" in /usr/local/lib/python3.6/dist-packages (from botocore<1.13.0,>=1.12.17->boto3->smart-open>=1.2.1->gensim) (2.5.3)\n",
      "Requirement already satisfied: docutils>=0.10 in /usr/local/lib/python3.6/dist-packages (from botocore<1.13.0,>=1.12.17->boto3->smart-open>=1.2.1->gensim) (0.14)\n"
     ]
    }
   ],
   "source": [
    "!pip install gensim"
   ]
  },
  {
   "cell_type": "code",
   "execution_count": 0,
   "metadata": {
    "colab": {},
    "colab_type": "code",
    "collapsed": true,
    "id": "3chCJQpVkuPR"
   },
   "outputs": [],
   "source": [
    "import gensim.downloader \n",
    "embeddings = gensim.downloader.load(\"fasttext-wiki-news-subwords-300\")"
   ]
  },
  {
   "cell_type": "code",
   "execution_count": 12,
   "metadata": {
    "colab": {
     "base_uri": "https://localhost:8080/",
     "height": 105
    },
    "colab_type": "code",
    "id": "uyC_j-BCEbJi",
    "outputId": "763b3590-9ecb-48dd-ee8a-7e4341035511"
   },
   "outputs": [
    {
     "name": "stderr",
     "output_type": "stream",
     "text": [
      "/usr/local/lib/python3.6/dist-packages/ipykernel_launcher.py:2: DeprecationWarning: Call to deprecated `wv` (Attribute will be removed in 4.0.0, use self instead).\n",
      "  \n"
     ]
    },
    {
     "name": "stdout",
     "output_type": "stream",
     "text": [
      "34158\n",
      "(34158, 300)\n"
     ]
    }
   ],
   "source": [
    "indices = {}\n",
    "mat = np.zeros((len(tokens), embeddings.wv.vectors.shape[1]))\n",
    "for e in embeddings.vocab:\n",
    "    if e in token_to_id:\n",
    "        mat[token_to_id[e], : ] = embeddings[e]\n",
    "\n",
    "print(len(tokens))\n",
    "print(mat.shape)"
   ]
  },
  {
   "cell_type": "code",
   "execution_count": 22,
   "metadata": {
    "colab": {
     "base_uri": "https://localhost:8080/",
     "height": 34
    },
    "colab_type": "code",
    "id": "gyEojxm7Up_S",
    "outputId": "77899a71-c187-4b1a-9359-5e5f2ca92760"
   },
   "outputs": [
    {
     "data": {
      "text/plain": [
       "(34149, 34100)"
      ]
     },
     "execution_count": 22,
     "metadata": {
      "tags": []
     },
     "output_type": "execute_result"
    }
   ],
   "source": [
    "shuffle=True\n",
    "indices = np.arange(len(data_train))\n",
    "if shuffle:\n",
    "    indices = np.random.permutation(indices)\n",
    "\n",
    "start = 0\n",
    "batch = make_batch(data_train.iloc[indices[start : start + batch_size]])\n",
    "target = batch.pop(target_column)\n",
    "\n",
    "batch\n",
    "batch['FullDescription'].max(), batch['Title'].max()"
   ]
  },
  {
   "cell_type": "code",
   "execution_count": 0,
   "metadata": {
    "colab": {},
    "colab_type": "code",
    "collapsed": true,
    "id": "8O7WHp_eGVXY"
   },
   "outputs": [],
   "source": [
    "from keras.initializers import Constant\n",
    "\n",
    "def build_model_embedding(n_tokens=len(tokens), n_cat_features=len(categorical_vectorizer.vocabulary_), hid_size=64):\n",
    "    \"\"\" Build a model that maps three data sources to a single linear output: predicted log1p(salary) \"\"\"\n",
    "    \n",
    "    print(n_tokens)\n",
    "    l_title = L.Input(shape=[None], name=\"Title\")\n",
    "    l_descr = L.Input(shape=[None], name=\"FullDescription\")\n",
    "    l_categ = L.Input(shape=[n_cat_features], name=\"Categorical\")\n",
    "    \n",
    "    # Build your monster!\n",
    "    emb = L.Embedding(input_dim=n_tokens, weights=[mat], output_dim=300)\n",
    "\n",
    "    l_title_emb = emb(l_title)\n",
    "    l_title_conv = L.Conv1D(filters=hid_size, kernel_size=2, activation='relu')(l_title_emb)\n",
    "    l_title_out = L.GlobalMaxPool1D()(l_title_conv)\n",
    "    \n",
    "    l_descr_emb = emb(l_descr)\n",
    "    l_descr_conv = L.Conv1D(filters=hid_size, kernel_size=3, activation='relu')(l_descr_emb)\n",
    "    l_descr_out = L.GlobalMaxPool1D()(l_descr_conv)\n",
    "    \n",
    "    l_categ_out = L.Dense(hid_size, activation='relu')(l_categ)\n",
    "\n",
    "    l_combined = L.Concatenate()([l_title_out, l_descr_out, l_categ_out])\n",
    "    l_combined_dense = L.Dense(2 * hid_size, activation='relu')(l_combined)\n",
    "    \n",
    "    output_layer = L.Dense(1)(l_combined_dense)\n",
    "    # end of your code\n",
    "    \n",
    "    model = keras.models.Model(inputs=[l_title, l_descr, l_categ], outputs=[output_layer])\n",
    "    model.compile('adam', 'mean_squared_error', metrics=['mean_absolute_error'])\n",
    "    return model"
   ]
  },
  {
   "cell_type": "code",
   "execution_count": 25,
   "metadata": {
    "colab": {
     "base_uri": "https://localhost:8080/",
     "height": 394
    },
    "colab_type": "code",
    "id": "NICxo_UfkVuT",
    "outputId": "de28de02-b093-425f-c05f-0984b6d5ae55"
   },
   "outputs": [
    {
     "name": "stdout",
     "output_type": "stream",
     "text": [
      "34158\n",
      "Epoch 1/10\n",
      "765/765 [==============================] - 221s 288ms/step - loss: 1.2916 - mean_absolute_error: 0.4493 - val_loss: 0.0828 - val_mean_absolute_error: 0.2140\n",
      "Epoch 2/10\n",
      "765/765 [==============================] - 137s 179ms/step - loss: 0.0704 - mean_absolute_error: 0.1957 - val_loss: 0.0696 - val_mean_absolute_error: 0.1948\n",
      "Epoch 3/10\n",
      "765/765 [==============================] - 132s 173ms/step - loss: 0.0547 - mean_absolute_error: 0.1719 - val_loss: 0.0617 - val_mean_absolute_error: 0.1818\n",
      "Epoch 4/10\n",
      "765/765 [==============================] - 133s 174ms/step - loss: 0.0445 - mean_absolute_error: 0.1548 - val_loss: 0.0590 - val_mean_absolute_error: 0.1783\n",
      "Epoch 5/10\n",
      "765/765 [==============================] - 132s 173ms/step - loss: 0.0375 - mean_absolute_error: 0.1425 - val_loss: 0.0583 - val_mean_absolute_error: 0.1767\n",
      "Epoch 6/10\n",
      "765/765 [==============================] - 131s 171ms/step - loss: 0.0325 - mean_absolute_error: 0.1335 - val_loss: 0.0557 - val_mean_absolute_error: 0.1713\n",
      "Epoch 7/10\n",
      "765/765 [==============================] - 131s 171ms/step - loss: 0.0282 - mean_absolute_error: 0.1248 - val_loss: 0.0553 - val_mean_absolute_error: 0.1708\n",
      "Epoch 8/10\n",
      "765/765 [==============================] - 131s 171ms/step - loss: 0.0252 - mean_absolute_error: 0.1186 - val_loss: 0.0558 - val_mean_absolute_error: 0.1708\n",
      "Epoch 9/10\n",
      "765/765 [==============================] - 127s 167ms/step - loss: 0.0230 - mean_absolute_error: 0.1133 - val_loss: 0.0573 - val_mean_absolute_error: 0.1746\n",
      "Epoch 10/10\n",
      "765/765 [==============================] - 129s 169ms/step - loss: 0.0204 - mean_absolute_error: 0.1069 - val_loss: 0.0595 - val_mean_absolute_error: 0.1781\n"
     ]
    }
   ],
   "source": [
    "batch_size = 256\n",
    "epochs = 10\n",
    "steps_per_epoch = (len(data_train) - 1) // batch_size + 1\n",
    "\n",
    "model_embedding = build_model_embedding()\n",
    "\n",
    "hist_embedding = model_embedding.fit_generator(iterate_minibatches(data_train, batch_size, cycle=True, word_dropout=0), \n",
    "                                    epochs=epochs, steps_per_epoch=steps_per_epoch,\n",
    "                                    validation_data=iterate_minibatches(data_val, batch_size, cycle=True),\n",
    "                                    validation_steps=data_val.shape[0] // batch_size)"
   ]
  },
  {
   "cell_type": "code",
   "execution_count": 28,
   "metadata": {
    "colab": {
     "base_uri": "https://localhost:8080/",
     "height": 316
    },
    "colab_type": "code",
    "id": "43hkEknculhs",
    "outputId": "24180133-3f00-410f-8d42-c1095597c74e"
   },
   "outputs": [
    {
     "name": "stdout",
     "output_type": "stream",
     "text": [
      "Train results:\n",
      "Mean square error: 0.01806\n",
      "Mean absolute error: 0.10258\n",
      "Val results:\n",
      "Mean square error: 0.05929\n",
      "Mean absolute error: 0.17789\n"
     ]
    },
    {
     "ename": "NameError",
     "evalue": "ignored",
     "output_type": "error",
     "traceback": [
      "\u001b[0;31m---------------------------------------------------------------------------\u001b[0m",
      "\u001b[0;31mNameError\u001b[0m                                 Traceback (most recent call last)",
      "\u001b[0;32m<ipython-input-28-5920f4c0ca0c>\u001b[0m in \u001b[0;36m<module>\u001b[0;34m()\u001b[0m\n\u001b[1;32m      1\u001b[0m \u001b[0mprint_metrics\u001b[0m\u001b[0;34m(\u001b[0m\u001b[0mmodel_embedding\u001b[0m\u001b[0;34m,\u001b[0m \u001b[0mdata_train\u001b[0m\u001b[0;34m,\u001b[0m \u001b[0mname\u001b[0m\u001b[0;34m=\u001b[0m\u001b[0;34m'Train'\u001b[0m\u001b[0;34m)\u001b[0m\u001b[0;34m\u001b[0m\u001b[0m\n\u001b[1;32m      2\u001b[0m \u001b[0mprint_metrics\u001b[0m\u001b[0;34m(\u001b[0m\u001b[0mmodel_embedding\u001b[0m\u001b[0;34m,\u001b[0m \u001b[0mdata_val\u001b[0m\u001b[0;34m,\u001b[0m \u001b[0mname\u001b[0m\u001b[0;34m=\u001b[0m\u001b[0;34m'Val'\u001b[0m\u001b[0;34m)\u001b[0m\u001b[0;34m\u001b[0m\u001b[0m\n\u001b[0;32m----> 3\u001b[0;31m \u001b[0mmaes\u001b[0m\u001b[0;34m[\u001b[0m\u001b[0;34m'embedding'\u001b[0m\u001b[0;34m]\u001b[0m \u001b[0;34m=\u001b[0m \u001b[0mhist_embedding\u001b[0m\u001b[0;34m.\u001b[0m\u001b[0mhistory\u001b[0m\u001b[0;34m[\u001b[0m\u001b[0;34m'val_mean_absolute_error'\u001b[0m\u001b[0;34m]\u001b[0m\u001b[0;34m\u001b[0m\u001b[0m\n\u001b[0m\u001b[1;32m      4\u001b[0m \u001b[0mprint_maes\u001b[0m\u001b[0;34m(\u001b[0m\u001b[0;34m[\u001b[0m\u001b[0;34m'embedding'\u001b[0m\u001b[0;34m,\u001b[0m \u001b[0;34m'baseline'\u001b[0m\u001b[0;34m]\u001b[0m\u001b[0;34m)\u001b[0m\u001b[0;34m\u001b[0m\u001b[0m\n",
      "\u001b[0;31mNameError\u001b[0m: name 'maes' is not defined"
     ]
    }
   ],
   "source": [
    "print_metrics(model_embedding, data_train, name='Train')\n",
    "print_metrics(model_embedding, data_val, name='Val')"
   ]
  },
  {
   "cell_type": "code",
   "execution_count": 30,
   "metadata": {
    "colab": {
     "base_uri": "https://localhost:8080/",
     "height": 279
    },
    "colab_type": "code",
    "id": "ojgPoptWgRlP",
    "outputId": "fb2f1eba-66c8-466f-a153-15c91289aea3"
   },
   "outputs": [
    {
     "data": {
      "image/png": "[encoded data removed]",
      "text/plain": [
       "<matplotlib.figure.Figure at 0x7fd11efa6240>"
      ]
     },
     "metadata": {
      "tags": []
     },
     "output_type": "display_data"
    }
   ],
   "source": [
    "maes['embedding'] = hist_embedding.history['val_mean_absolute_error']\n",
    "print_maes(['embedding', 'baseline'])"
   ]
  },
  {
   "cell_type": "markdown",
   "metadata": {
    "colab_type": "text",
    "id": "FhE5kgATIkOr"
   },
   "source": [
    "### A short report\n",
    "\n",
    "Please tell us what you did and how did it work.\n",
    "\n",
    "* Попробовал добавить в baseline-решение слой dropout. Сначала добавил `L.Dropout(p=0.5)` после полносвязного слоя (на графике подписан `dropout`), затем попробовал добавить `L.Dropout(p=0.1)` после свертки (на графике `dropout2`), [здесь](https://stats.stackexchange.com/a/317313) писали, что в некоторых случаях может помочь. По графику видно, что оба раза дропаут ухудшил результат, притом дропаут после сверточного слоя очень сильно ухудшил качество.\n",
    "* Попробовал менять параметр `word_dropout` при обучении, попробовал совсем убрать дропаут слов (`word_dropout=0`), качество не изменилось по сравнению с бейзлайном, попробовал увеличить дропаут (`word_dropout=0.1`), качество сильно упало.\n",
    "* Попробовал добавить в baseline-решение слой BatchNormalization после сверточных слоев перед функцией активации. По графику (`batchnorm`) видно, что качество не улучшилось по отношению к бейзлайну, но и не сильно ухудшилось. Мнения по поводу того, стоит ли вставлять слой BatchNormalization до слоя активации или после [расходятся](https://stackoverflow.com/a/45624249), попробовал также вставить слой BatchNormalization после функции активации, качество также не улучшилось (на графике `batchnorm2`).\n",
    "* Попробовал заменить L.GlobalMaxPool1D на L.GlobalAvgPool1D, качество не улучшилось по сравнению с бейзлайном (на графике `avg_pooling`).\n",
    "* Попробовал добаить больше слоев на выходе, качество не улучшилось (`more_layers` на графике).\n",
    "* Попробовал увеличить размер слоев (`hid_size`) с 64 до 128, заметил значительный прирост качества для первых 8 эпох.\n",
    "* Попробовал использовать предобученные embedding'и, на графике видно, что качество улучшилось по сравнению с бейзлайном для первых 9 эпох (на графике `embedding`)."
   ]
  },
  {
   "cell_type": "markdown",
   "metadata": {
    "colab_type": "text",
    "id": "pJuLV2BWIkOr"
   },
   "source": [
    "## Recommended options\n",
    "\n",
    "#### A) CNN architecture\n",
    "\n",
    "All the tricks you know about dense and convolutional neural networks apply here as well.\n",
    "* Dropout. Nuff said.\n",
    "* Batch Norm. This time it's `L.BatchNormalization`\n",
    "* Parallel convolution layers. The idea is that you apply several nn.Conv1d to the same embeddings and concatenate output channels.\n",
    "* More layers, more neurons, ya know...\n",
    "\n",
    "\n",
    "#### B) Play with pooling\n",
    "\n",
    "There's more than one way to perform pooling:\n",
    "* Max over time - our `L.GlobalMaxPool1D`\n",
    "* Average over time (excluding PAD)\n",
    "* Softmax-pooling:\n",
    "$$ out_{i, t} = \\sum_t {h_{i,t} \\cdot {{e ^ {h_{i, t}}} \\over \\sum_\\tau e ^ {h_{j, \\tau}} } }$$\n",
    "\n",
    "* Attentive pooling\n",
    "$$ out_{i, t} = \\sum_t {h_{i,t} \\cdot Attn(h_t)}$$\n",
    "\n",
    ", where $$ Attn(h_t) = {{e ^ {NN_{attn}(h_t)}} \\over \\sum_\\tau e ^ {NN_{attn}(h_\\tau)}}  $$\n",
    "and $NN_{attn}$ is a dense layer.\n",
    "\n",
    "The optimal score is usually achieved by concatenating several different poolings, including several attentive pooling with different $NN_{attn}$ (aka multi-headed attention).\n",
    "\n",
    "The catch is that keras layers do not inlude those toys. You will have to [write your own keras layer](https://keras.io/layers/writing-your-own-keras-layers/). Or use pure tensorflow, it might even be easier :)\n",
    "\n",
    "#### C) Fun with words\n",
    "\n",
    "It's not always a good idea to train embeddings from scratch. Here's a few tricks:\n",
    "\n",
    "* Use a pre-trained embeddings from `gensim.downloader.load`. See last lecture.\n",
    "* Start with pre-trained embeddings, then fine-tune them with gradient descent. You may or may not want to use __`.get_keras_embedding()`__ method for word2vec\n",
    "* Use the same embedding matrix in title and desc vectorizer\n",
    "\n",
    "\n",
    "#### D) Going recurrent\n",
    "\n",
    "We've already learned that recurrent networks can do cool stuff in sequence modelling. Turns out, they're not useless for classification as well. With some tricks of course..\n",
    "\n",
    "* Like convolutional layers, LSTM should be pooled into a fixed-size vector with some of the poolings.\n",
    "* Since you know all the text in advance, use bidirectional RNN\n",
    "  * Run one LSTM from left to right\n",
    "  * Run another in parallel from right to left \n",
    "  * Concatenate their output sequences along unit axis (dim=-1)\n",
    "\n",
    "* It might be good idea to mix convolutions and recurrent layers differently for title and description\n",
    "\n",
    "\n",
    "#### E) Optimizing seriously\n",
    "\n",
    "* You don't necessarily need 100 epochs. Use early stopping. If you've never done this before, take a look at [early stopping callback](https://keras.io/callbacks/#earlystopping).\n",
    "  * In short, train until you notice that validation\n",
    "  * Maintain the best-on-validation snapshot via `model.save(file_name)`\n",
    "  * Plotting learning curves is usually a good idea\n",
    "  \n",
    "Good luck! And may the force be with you!"
   ]
  }
 ],
 "metadata": {
  "accelerator": "GPU",
  "colab": {
   "collapsed_sections": [
    "FhE5kgATIkOr"
   ],
   "name": "homework_part2.ipynb",
   "provenance": [],
   "version": "0.3.2"
  },
  "kernelspec": {
   "display_name": "Python 3",
   "language": "python",
   "name": "python3"
  },
  "language_info": {
   "codemirror_mode": {
    "name": "ipython",
    "version": 3
   },
   "file_extension": ".py",
   "mimetype": "text/x-python",
   "name": "python",
   "nbconvert_exporter": "python",
   "pygments_lexer": "ipython3",
   "version": "3.6.3"
  }
 },
 "nbformat": 4,
 "nbformat_minor": 1
}
