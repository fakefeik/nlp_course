{
 "cells": [
  {
   "cell_type": "markdown",
   "metadata": {},
   "source": [
    "# Large scale text analysis with deep learning (3 points)\n",
    "\n",
    "Today we're gonna apply the newly learned tools for the task of predicting job salary.\n",
    "\n",
    "<img src=\"https://kaggle2.blob.core.windows.net/competitions/kaggle/3342/media/salary%20prediction%20engine%20v2.png\" width=400px>\n",
    "\n",
    "_Special thanks to [Oleg Vasilev](https://github.com/Omrigan/) for the core assignment idea._"
   ]
  },
  {
   "cell_type": "code",
   "execution_count": 1,
   "metadata": {
    "collapsed": true
   },
   "outputs": [],
   "source": [
    "import warnings\n",
    "warnings.filterwarnings('ignore')"
   ]
  },
  {
   "cell_type": "code",
   "execution_count": 2,
   "metadata": {
    "collapsed": true
   },
   "outputs": [],
   "source": [
    "import numpy as np\n",
    "import pandas as pd\n",
    "import matplotlib.pyplot as plt\n",
    "%matplotlib inline"
   ]
  },
  {
   "cell_type": "markdown",
   "metadata": {},
   "source": [
    "### About the challenge\n",
    "For starters, let's download and unpack the data from [here](https://www.dropbox.com/s/5msc5ix7ndyba10/Train_rev1.csv.tar.gz?dl=0). \n",
    "\n",
    "You can also get it from [yadisk url](https://yadi.sk/d/vVEOWPFY3NruT7) the competition [page](https://www.kaggle.com/c/job-salary-prediction/data) (pick `Train_rev1.*`)."
   ]
  },
  {
   "cell_type": "code",
   "execution_count": 3,
   "metadata": {},
   "outputs": [
    {
     "data": {
      "text/plain": [
       "(244768, 12)"
      ]
     },
     "execution_count": 3,
     "metadata": {},
     "output_type": "execute_result"
    }
   ],
   "source": [
    "# !curl -L https://www.dropbox.com/s/5msc5ix7ndyba10/Train_rev1.csv.tar.gz?dl=1 -o Train_rev1.csv.tar.gz\n",
    "# !tar -xvzf ./Train_rev1.csv.tar.gz\n",
    "data = pd.read_csv(\"./Train_rev1.csv\", index_col=None, encoding='utf8')\n",
    "data.shape"
   ]
  },
  {
   "cell_type": "markdown",
   "metadata": {},
   "source": [
    "One problem with salary prediction is that it's oddly distributed: there are many people who are paid standard salaries and a few that get tons o money. The distribution is fat-tailed on the right side, which is inconvenient for MSE minimization.\n",
    "\n",
    "There are several techniques to combat this: using a different loss function, predicting log-target instead of raw target or even replacing targets with their percentiles among all salaries in the training set. We gonna use logarithm for now.\n",
    "\n",
    "_You can read more [in the official description](https://www.kaggle.com/c/job-salary-prediction#description)._"
   ]
  },
  {
   "cell_type": "code",
   "execution_count": 4,
   "metadata": {},
   "outputs": [
    {
     "data": {
      "image/png": "[encoded data removed]",
      "text/plain": [
       "<matplotlib.figure.Figure at 0x150aafcecf8>"
      ]
     },
     "metadata": {},
     "output_type": "display_data"
    }
   ],
   "source": [
    "data['Log1pSalary'] = np.log1p(data['SalaryNormalized']).astype('float32')\n",
    "\n",
    "plt.figure(figsize=[8, 4])\n",
    "plt.subplot(1, 2, 1)\n",
    "plt.hist(data[\"SalaryNormalized\"], bins=20);\n",
    "\n",
    "plt.subplot(1, 2, 2)\n",
    "plt.hist(data['Log1pSalary'], bins=20);"
   ]
  },
  {
   "cell_type": "markdown",
   "metadata": {},
   "source": [
    "Our task is to predict one number, __Log1pSalary__.\n",
    "\n",
    "To do so, our model can access a number of features:\n",
    "* Free text: __`Title`__ and  __`FullDescription`__\n",
    "* Categorical: __`Category`__, __`Company`__, __`LocationNormalized`__, __`ContractType`__, and __`ContractTime`__."
   ]
  },
  {
   "cell_type": "code",
   "execution_count": 5,
   "metadata": {},
   "outputs": [
    {
     "data": {
      "text/html": [
       "<div>\n",
       "<style>\n",
       "    .dataframe thead tr:only-child th {\n",
       "        text-align: right;\n",
       "    }\n",
       "\n",
       "    .dataframe thead th {\n",
       "        text-align: left;\n",
       "    }\n",
       "\n",
       "    .dataframe tbody tr th {\n",
       "        vertical-align: top;\n",
       "    }\n",
       "</style>\n",
       "<table border=\"1\" class=\"dataframe\">\n",
       "  <thead>\n",
       "    <tr style=\"text-align: right;\">\n",
       "      <th></th>\n",
       "      <th>Id</th>\n",
       "      <th>Title</th>\n",
       "      <th>FullDescription</th>\n",
       "      <th>LocationRaw</th>\n",
       "      <th>LocationNormalized</th>\n",
       "      <th>ContractType</th>\n",
       "      <th>ContractTime</th>\n",
       "      <th>Company</th>\n",
       "      <th>Category</th>\n",
       "      <th>SalaryRaw</th>\n",
       "      <th>SalaryNormalized</th>\n",
       "      <th>SourceName</th>\n",
       "      <th>Log1pSalary</th>\n",
       "    </tr>\n",
       "  </thead>\n",
       "  <tbody>\n",
       "    <tr>\n",
       "      <th>32469</th>\n",
       "      <td>68097599</td>\n",
       "      <td>Credit Control Team Leader</td>\n",
       "      <td>We are currently looking for an experienced Cr...</td>\n",
       "      <td>Leeds West Yorkshire Yorkshire</td>\n",
       "      <td>Leeds</td>\n",
       "      <td>NaN</td>\n",
       "      <td>contract</td>\n",
       "      <td>Sewell Moorhouse</td>\n",
       "      <td>Accounting &amp; Finance Jobs</td>\n",
       "      <td>20000 - 25000 per annum</td>\n",
       "      <td>22500</td>\n",
       "      <td>totaljobs.com</td>\n",
       "      <td>10.021315</td>\n",
       "    </tr>\n",
       "    <tr>\n",
       "      <th>197580</th>\n",
       "      <td>71843890</td>\n",
       "      <td>Audit Manager  Media and Marketing</td>\n",
       "      <td>An ACA qualified Manager with proven audit ski...</td>\n",
       "      <td>London</td>\n",
       "      <td>London</td>\n",
       "      <td>full_time</td>\n",
       "      <td>permanent</td>\n",
       "      <td>Ward Simpson</td>\n",
       "      <td>Accounting &amp; Finance Jobs</td>\n",
       "      <td>c47,000 - 60,000 plus benefits</td>\n",
       "      <td>53500</td>\n",
       "      <td>icaewjobs.com</td>\n",
       "      <td>10.887456</td>\n",
       "    </tr>\n",
       "    <tr>\n",
       "      <th>19744</th>\n",
       "      <td>67103225</td>\n",
       "      <td>Apprentice General warehouse Assistant</td>\n",
       "      <td>The employer has given the assurance that the ...</td>\n",
       "      <td>Macclesfield</td>\n",
       "      <td>Macclesfield</td>\n",
       "      <td>full_time</td>\n",
       "      <td>NaN</td>\n",
       "      <td>NaN</td>\n",
       "      <td>Admin Jobs</td>\n",
       "      <td>2.65 per hour</td>\n",
       "      <td>5088</td>\n",
       "      <td>Jobcentre Plus</td>\n",
       "      <td>8.534837</td>\n",
       "    </tr>\n",
       "  </tbody>\n",
       "</table>\n",
       "</div>"
      ],
      "text/plain": [
       "              Id                                   Title  \\\n",
       "32469   68097599              Credit Control Team Leader   \n",
       "197580  71843890      Audit Manager  Media and Marketing   \n",
       "19744   67103225  Apprentice General warehouse Assistant   \n",
       "\n",
       "                                          FullDescription  \\\n",
       "32469   We are currently looking for an experienced Cr...   \n",
       "197580  An ACA qualified Manager with proven audit ski...   \n",
       "19744   The employer has given the assurance that the ...   \n",
       "\n",
       "                           LocationRaw LocationNormalized ContractType  \\\n",
       "32469   Leeds West Yorkshire Yorkshire              Leeds          NaN   \n",
       "197580                          London             London    full_time   \n",
       "19744                     Macclesfield       Macclesfield    full_time   \n",
       "\n",
       "       ContractTime           Company                   Category  \\\n",
       "32469      contract  Sewell Moorhouse  Accounting & Finance Jobs   \n",
       "197580    permanent      Ward Simpson  Accounting & Finance Jobs   \n",
       "19744           NaN               NaN                 Admin Jobs   \n",
       "\n",
       "                             SalaryRaw  SalaryNormalized      SourceName  \\\n",
       "32469          20000 - 25000 per annum             22500   totaljobs.com   \n",
       "197580  c47,000 - 60,000 plus benefits             53500   icaewjobs.com   \n",
       "19744                    2.65 per hour              5088  Jobcentre Plus   \n",
       "\n",
       "        Log1pSalary  \n",
       "32469     10.021315  \n",
       "197580    10.887456  \n",
       "19744      8.534837  "
      ]
     },
     "execution_count": 5,
     "metadata": {},
     "output_type": "execute_result"
    }
   ],
   "source": [
    "text_columns = [\"Title\", \"FullDescription\"]\n",
    "categorical_columns = [\"Category\", \"Company\", \"LocationNormalized\", \"ContractType\", \"ContractTime\"]\n",
    "target_column = \"Log1pSalary\"\n",
    "\n",
    "data[categorical_columns] = data[categorical_columns].fillna('NaN') # cast missing values to string \"NaN\"\n",
    "\n",
    "data.sample(3)"
   ]
  },
  {
   "cell_type": "markdown",
   "metadata": {},
   "source": [
    "### Preprocessing text data\n",
    "\n",
    "Just like last week, applying NLP to a problem begins from tokenization: splitting raw text into sequences of tokens (words, punctuation, etc).\n",
    "\n",
    "__Your task__ is to lowercase and tokenize all texts under `Title` and `FullDescription` columns. Store the tokenized data as a __space-separated__ string of tokens for performance reasons.\n",
    "\n",
    "It's okay to use nltk tokenizers. Assertions were designed for WordPunctTokenizer, slight deviations are okay."
   ]
  },
  {
   "cell_type": "code",
   "execution_count": 6,
   "metadata": {},
   "outputs": [
    {
     "name": "stdout",
     "output_type": "stream",
     "text": [
      "Raw text:\n",
      "2         Mathematical Modeller / Simulation Analyst / O...\n",
      "100002    A successful and high achieving specialist sch...\n",
      "200002    Web Designer  HTML, CSS, JavaScript, Photoshop...\n",
      "Name: FullDescription, dtype: object\n"
     ]
    }
   ],
   "source": [
    "print(\"Raw text:\")\n",
    "print(data[\"FullDescription\"][2::100000])"
   ]
  },
  {
   "cell_type": "code",
   "execution_count": 7,
   "metadata": {
    "collapsed": true,
    "scrolled": true
   },
   "outputs": [],
   "source": [
    "import nltk\n",
    "tokenizer = nltk.tokenize.WordPunctTokenizer()\n",
    "\n",
    "tokenize = lambda x: ' '.join(tokenizer.tokenize(str(x).lower()))\n",
    "\n",
    "# see task above\n",
    "data['FullDescription'] = data['FullDescription'].map(tokenize)\n",
    "data['Title'] = data['Title'].map(tokenize)"
   ]
  },
  {
   "cell_type": "markdown",
   "metadata": {},
   "source": [
    "Now we can assume that our text is a space-separated list of tokens:"
   ]
  },
  {
   "cell_type": "code",
   "execution_count": 8,
   "metadata": {},
   "outputs": [
    {
     "name": "stdout",
     "output_type": "stream",
     "text": [
      "Tokenized:\n",
      "2         mathematical modeller / simulation analyst / o...\n",
      "100002    a successful and high achieving specialist sch...\n",
      "200002    web designer html , css , javascript , photosh...\n",
      "Name: FullDescription, dtype: object\n"
     ]
    }
   ],
   "source": [
    "print(\"Tokenized:\")\n",
    "print(data[\"FullDescription\"][2::100000])\n",
    "assert data[\"FullDescription\"][2][:50] == 'mathematical modeller / simulation analyst / opera'\n",
    "assert data[\"Title\"][54321] == 'international digital account manager ( german )'"
   ]
  },
  {
   "cell_type": "markdown",
   "metadata": {},
   "source": [
    "Not all words are equally useful. Some of them are typos or rare words that are only present a few times. \n",
    "\n",
    "Let's count how many times is each word present in the data so that we can build a \"white list\" of known words."
   ]
  },
  {
   "cell_type": "code",
   "execution_count": 9,
   "metadata": {
    "collapsed": true
   },
   "outputs": [],
   "source": [
    "from collections import Counter\n",
    "\n",
    "# Count how many times does each token occur in both \"Title\" and \"FullDescription\" in total\n",
    "# build a dictionary { token -> it's count }\n",
    "token_counts = Counter()\n",
    "for e in data['Title'].append(data['FullDescription']):\n",
    "    for s in e.split(' '):\n",
    "        token_counts[s] += 1\n",
    "\n",
    "# hint: you may or may not want to use collections.Counter"
   ]
  },
  {
   "cell_type": "code",
   "execution_count": 10,
   "metadata": {},
   "outputs": [
    {
     "name": "stdout",
     "output_type": "stream",
     "text": [
      "Total unique tokens : 202704\n",
      "('and', 2657388)\n",
      "('.', 2523216)\n",
      "(',', 2318606)\n",
      "('the', 2080994)\n",
      "('to', 2019884)\n",
      "...\n",
      "('stephanietraveltraderecruitmnt', 1)\n",
      "('ruabon', 1)\n",
      "('lowehays', 1)\n",
      "Correct!\n"
     ]
    }
   ],
   "source": [
    "print(\"Total unique tokens :\", len(token_counts))\n",
    "print('\\n'.join(map(str, token_counts.most_common(n=5))))\n",
    "print('...')\n",
    "print('\\n'.join(map(str, token_counts.most_common()[-3:])))\n",
    "\n",
    "assert token_counts.most_common(1)[0][1] in  range(2600000, 2700000)\n",
    "assert len(token_counts) in range(200000, 210000)\n",
    "print('Correct!')"
   ]
  },
  {
   "cell_type": "code",
   "execution_count": 11,
   "metadata": {},
   "outputs": [
    {
     "data": {
      "image/png": "[encoded data removed]",
      "text/plain": [
       "<matplotlib.figure.Figure at 0x1509b30d668>"
      ]
     },
     "metadata": {},
     "output_type": "display_data"
    }
   ],
   "source": [
    "# Let's see how many words are there for each count\n",
    "plt.hist(list(token_counts.values()), range=[0, 10**4], bins=50, log=True)\n",
    "plt.xlabel(\"Word counts\");"
   ]
  },
  {
   "cell_type": "markdown",
   "metadata": {},
   "source": [
    "Now filter tokens a list of all tokens that occur at least 10 times."
   ]
  },
  {
   "cell_type": "code",
   "execution_count": 12,
   "metadata": {
    "collapsed": true
   },
   "outputs": [],
   "source": [
    "min_count = 10\n",
    "\n",
    "# tokens from token_counts keys that had at least min_count occurrences throughout the dataset\n",
    "tokens = [el for el in token_counts.keys() if token_counts[el] >= min_count]"
   ]
  },
  {
   "cell_type": "code",
   "execution_count": 13,
   "metadata": {},
   "outputs": [
    {
     "name": "stdout",
     "output_type": "stream",
     "text": [
      "Vocabulary size: 34158\n",
      "Correct!\n"
     ]
    }
   ],
   "source": [
    "# Add a special tokens for unknown and empty words\n",
    "UNK, PAD = \"UNK\", \"PAD\"\n",
    "tokens = [UNK, PAD] + sorted(tokens)\n",
    "print(\"Vocabulary size:\", len(tokens))\n",
    "\n",
    "assert type(tokens) == list\n",
    "assert len(tokens) in range(32000, 35000)\n",
    "assert 'me' in tokens\n",
    "assert UNK in tokens\n",
    "print(\"Correct!\")"
   ]
  },
  {
   "cell_type": "markdown",
   "metadata": {},
   "source": [
    "Build an inverse token index: a dictionary from token(string) to it's index in `tokens` (int)"
   ]
  },
  {
   "cell_type": "code",
   "execution_count": 14,
   "metadata": {
    "collapsed": true
   },
   "outputs": [],
   "source": [
    "token_to_id = {tokens[i]: i for i in range(len(tokens))}"
   ]
  },
  {
   "cell_type": "code",
   "execution_count": 15,
   "metadata": {},
   "outputs": [
    {
     "name": "stdout",
     "output_type": "stream",
     "text": [
      "Correct!\n"
     ]
    }
   ],
   "source": [
    "assert isinstance(token_to_id, dict)\n",
    "assert len(token_to_id) == len(tokens)\n",
    "for tok in tokens:\n",
    "    assert tokens[token_to_id[tok]] == tok\n",
    "\n",
    "print(\"Correct!\")"
   ]
  },
  {
   "cell_type": "markdown",
   "metadata": {},
   "source": [
    "And finally, let's use the vocabulary you've built to map text lines into neural network-digestible matrices."
   ]
  },
  {
   "cell_type": "code",
   "execution_count": 16,
   "metadata": {
    "collapsed": true
   },
   "outputs": [],
   "source": [
    "UNK_IX, PAD_IX = map(token_to_id.get, [UNK, PAD])\n",
    "\n",
    "def as_matrix(sequences, max_len=None):\n",
    "    \"\"\" Convert a list of tokens into a matrix with padding \"\"\"\n",
    "    if isinstance(sequences[0], str):\n",
    "        sequences = list(map(str.split, sequences))\n",
    "        \n",
    "    max_len = min(max(map(len, sequences)), max_len or float('inf'))\n",
    "    \n",
    "    matrix = np.full((len(sequences), max_len), np.int32(PAD_IX))\n",
    "    for i,seq in enumerate(sequences):\n",
    "        row_ix = [token_to_id.get(word, UNK_IX) for word in seq[:max_len]]\n",
    "        matrix[i, :len(row_ix)] = row_ix\n",
    "    \n",
    "    return matrix"
   ]
  },
  {
   "cell_type": "code",
   "execution_count": 17,
   "metadata": {},
   "outputs": [
    {
     "name": "stdout",
     "output_type": "stream",
     "text": [
      "Lines:\n",
      "engineering systems analyst\n",
      "hr assistant\n",
      "senior ec & i engineer\n",
      "\n",
      "Matrix:\n",
      "[[10807 30161  2166     1     1]\n",
      " [15020  2844     1     1     1]\n",
      " [27645 10201    16 15215 10804]]\n"
     ]
    }
   ],
   "source": [
    "print(\"Lines:\")\n",
    "print('\\n'.join(data[\"Title\"][::100000].values), end='\\n\\n')\n",
    "print(\"Matrix:\")\n",
    "print(as_matrix(data[\"Title\"][::100000]))"
   ]
  },
  {
   "cell_type": "markdown",
   "metadata": {},
   "source": [
    "Now let's  encode the categirical data we have.\n",
    "\n",
    "As usual, we shall use one-hot encoding for simplicity. Kudos if you implement more advanced encodings: tf-idf, pseudo-time-series, etc."
   ]
  },
  {
   "cell_type": "code",
   "execution_count": 18,
   "metadata": {},
   "outputs": [
    {
     "data": {
      "text/plain": [
       "DictVectorizer(dtype=<class 'numpy.float32'>, separator='=', sort=True,\n",
       "        sparse=False)"
      ]
     },
     "execution_count": 18,
     "metadata": {},
     "output_type": "execute_result"
    }
   ],
   "source": [
    "from sklearn.feature_extraction import DictVectorizer\n",
    "\n",
    "# we only consider top-1k most frequent companies to minimize memory usage\n",
    "top_companies, top_counts = zip(*Counter(data['Company']).most_common(1000))\n",
    "recognized_companies = set(top_companies)\n",
    "data[\"Company\"] = data[\"Company\"].apply(lambda comp: comp if comp in recognized_companies else \"Other\")\n",
    "\n",
    "categorical_vectorizer = DictVectorizer(dtype=np.float32, sparse=False)\n",
    "categorical_vectorizer.fit(data[categorical_columns].apply(dict, axis=1))"
   ]
  },
  {
   "cell_type": "markdown",
   "metadata": {},
   "source": [
    "### The deep learning part\n",
    "\n",
    "Once we've learned to tokenize the data, let's design a machine learning experiment.\n",
    "\n",
    "As before, we won't focus too much on validation, opting for a simple train-test split.\n",
    "\n",
    "__To be completely rigorous,__ we've comitted a small crime here: we used the whole data for tokenization and vocabulary building. A more strict way would be to do that part on training set only. You may want to do that and measure the magnitude of changes."
   ]
  },
  {
   "cell_type": "code",
   "execution_count": 19,
   "metadata": {},
   "outputs": [
    {
     "name": "stdout",
     "output_type": "stream",
     "text": [
      "Train size =  195814\n",
      "Validation size =  48954\n"
     ]
    }
   ],
   "source": [
    "from sklearn.model_selection import train_test_split\n",
    "\n",
    "data_train, data_val = train_test_split(data, test_size=0.2, random_state=42)\n",
    "data_train.index = range(len(data_train))\n",
    "data_val.index = range(len(data_val))\n",
    "\n",
    "print(\"Train size = \", len(data_train))\n",
    "print(\"Validation size = \", len(data_val))"
   ]
  },
  {
   "cell_type": "code",
   "execution_count": 20,
   "metadata": {
    "collapsed": true
   },
   "outputs": [],
   "source": [
    "def make_batch(data, max_len=None, word_dropout=0):\n",
    "    \"\"\"\n",
    "    Creates a keras-friendly dict from the batch data.\n",
    "    :param word_dropout: replaces token index with UNK_IX with this probability\n",
    "    :returns: a dict with {'title' : int64[batch, title_max_len]\n",
    "    \"\"\"\n",
    "    batch = {}\n",
    "    batch[\"Title\"] = as_matrix(data[\"Title\"].values, max_len)\n",
    "    batch[\"FullDescription\"] = as_matrix(data[\"FullDescription\"].values, max_len)\n",
    "    batch['Categorical'] = categorical_vectorizer.transform(data[categorical_columns].apply(dict, axis=1))\n",
    "    \n",
    "    if word_dropout != 0:\n",
    "        batch[\"FullDescription\"] = apply_word_dropout(batch[\"FullDescription\"], 1. - word_dropout)\n",
    "    \n",
    "    if target_column in data.columns:\n",
    "        batch[target_column] = data[target_column].values\n",
    "    \n",
    "    return batch\n",
    "\n",
    "def apply_word_dropout(matrix, keep_prop, replace_with=UNK_IX, pad_ix=PAD_IX,):\n",
    "    dropout_mask = np.random.choice(2, np.shape(matrix), p=[keep_prop, 1 - keep_prop])\n",
    "    dropout_mask &= matrix != pad_ix\n",
    "    return np.choose(dropout_mask, [matrix, np.full_like(matrix, replace_with)])"
   ]
  },
  {
   "cell_type": "code",
   "execution_count": 21,
   "metadata": {},
   "outputs": [
    {
     "data": {
      "text/plain": [
       "{'Categorical': array([[0., 0., 0., ..., 0., 0., 0.],\n",
       "        [0., 0., 0., ..., 0., 0., 0.],\n",
       "        [0., 0., 0., ..., 0., 0., 0.]], dtype=float32),\n",
       " 'FullDescription': array([[27645, 29893, 33674, 32939,   982, 27645, 29893, 33674, 16451,\n",
       "         32939],\n",
       "        [29239,   197, 19175, 20042, 15554, 23162,  4051, 25511,   907,\n",
       "            82],\n",
       "        [30746, 21956, 20601,  6409, 16451,  8165, 27493,   982, 30412,\n",
       "         17746]]),\n",
       " 'Log1pSalary': array([ 9.71154 , 10.463132, 10.71444 ], dtype=float32),\n",
       " 'Title': array([[27645, 29893, 33674,     1,     1,     1,     1],\n",
       "        [29239,   197, 19175, 20042, 15554, 23162,  4051],\n",
       "        [10609, 30412, 17746,    33,  8705, 29157,    65]])}"
      ]
     },
     "execution_count": 21,
     "metadata": {},
     "output_type": "execute_result"
    }
   ],
   "source": [
    "make_batch(data_train[:3], max_len=10)"
   ]
  },
  {
   "cell_type": "markdown",
   "metadata": {},
   "source": [
    "#### Architecture\n",
    "\n",
    "Our basic model consists of three branches:\n",
    "* Title encoder\n",
    "* Description encoder\n",
    "* Categorical features encoder\n",
    "\n",
    "We will then feed all 3 branches into one common network that predicts salary.\n",
    "\n",
    "<img src=\"https://github.com/yandexdataschool/nlp_course/raw/master/resources/w2_conv_arch.png\" width=600px>"
   ]
  },
  {
   "cell_type": "markdown",
   "metadata": {},
   "source": [
    "This clearly doesn't fit into keras' __Sequential__ interface. To build such a network, one will have to use __[Keras Functional API](https://keras.io/models/model/)__."
   ]
  },
  {
   "cell_type": "code",
   "execution_count": 22,
   "metadata": {
    "scrolled": true
   },
   "outputs": [
    {
     "name": "stderr",
     "output_type": "stream",
     "text": [
      "Using TensorFlow backend.\n"
     ]
    }
   ],
   "source": [
    "import keras\n",
    "import keras.models as M\n",
    "import keras.layers as L"
   ]
  },
  {
   "cell_type": "code",
   "execution_count": 23,
   "metadata": {
    "collapsed": true
   },
   "outputs": [],
   "source": [
    "def build_model(n_tokens=len(tokens), n_cat_features=len(categorical_vectorizer.vocabulary_), hid_size=64):\n",
    "    \"\"\" Build a model that maps three data sources to a single linear output: predicted log1p(salary) \"\"\"\n",
    "    \n",
    "    l_title = L.Input(shape=[None], name=\"Title\")\n",
    "    l_descr = L.Input(shape=[None], name=\"FullDescription\")\n",
    "    l_categ = L.Input(shape=[n_cat_features], name=\"Categorical\")\n",
    "    \n",
    "    # Build your monster!\n",
    "    emb = L.Embedding(n_tokens, hid_size)\n",
    "    \n",
    "    l_title_emb = emb(l_title)\n",
    "    l_title_conv = L.Conv1D(filters=hid_size, kernel_size=2, activation='relu')(l_title_emb)\n",
    "    l_title_out = L.GlobalMaxPool1D()(l_title_conv)\n",
    "    \n",
    "    l_descr_emb = emb(l_descr)\n",
    "    l_descr_conv = L.Conv1D(filters=hid_size, kernel_size=3, activation='relu')(l_descr_emb)\n",
    "    l_descr_out = L.GlobalMaxPool1D()(l_descr_conv)\n",
    "    \n",
    "    l_categ_out = L.Dense(hid_size, activation='relu')(l_categ)\n",
    "    \n",
    "    l_combined = L.Concatenate()([l_title_out, l_descr_out, l_categ_out])\n",
    "    l_combined_dense = L.Dense(2 * hid_size, activation='relu')(l_combined)\n",
    "    \n",
    "    output_layer = L.Dense(1)(l_combined_dense)\n",
    "    # end of your code\n",
    "    \n",
    "    model = keras.models.Model(inputs=[l_title, l_descr, l_categ], outputs=[output_layer])\n",
    "    model.compile('adam', 'mean_squared_error', metrics=['mean_absolute_error'])\n",
    "    return model\n",
    "    "
   ]
  },
  {
   "cell_type": "code",
   "execution_count": 24,
   "metadata": {},
   "outputs": [
    {
     "name": "stdout",
     "output_type": "stream",
     "text": [
      "__________________________________________________________________________________________________\n",
      "Layer (type)                    Output Shape         Param #     Connected to                     \n",
      "==================================================================================================\n",
      "Title (InputLayer)              (None, None)         0                                            \n",
      "__________________________________________________________________________________________________\n",
      "FullDescription (InputLayer)    (None, None)         0                                            \n",
      "__________________________________________________________________________________________________\n",
      "embedding_1 (Embedding)         (None, None, 64)     2186112     Title[0][0]                      \n",
      "                                                                 FullDescription[0][0]            \n",
      "__________________________________________________________________________________________________\n",
      "conv1d_1 (Conv1D)               (None, None, 64)     8256        embedding_1[0][0]                \n",
      "__________________________________________________________________________________________________\n",
      "conv1d_2 (Conv1D)               (None, None, 64)     12352       embedding_1[1][0]                \n",
      "__________________________________________________________________________________________________\n",
      "Categorical (InputLayer)        (None, 3768)         0                                            \n",
      "__________________________________________________________________________________________________\n",
      "global_max_pooling1d_1 (GlobalM (None, 64)           0           conv1d_1[0][0]                   \n",
      "__________________________________________________________________________________________________\n",
      "global_max_pooling1d_2 (GlobalM (None, 64)           0           conv1d_2[0][0]                   \n",
      "__________________________________________________________________________________________________\n",
      "dense_1 (Dense)                 (None, 64)           241216      Categorical[0][0]                \n",
      "__________________________________________________________________________________________________\n",
      "concatenate_1 (Concatenate)     (None, 192)          0           global_max_pooling1d_1[0][0]     \n",
      "                                                                 global_max_pooling1d_2[0][0]     \n",
      "                                                                 dense_1[0][0]                    \n",
      "__________________________________________________________________________________________________\n",
      "dense_2 (Dense)                 (None, 128)          24704       concatenate_1[0][0]              \n",
      "__________________________________________________________________________________________________\n",
      "dense_3 (Dense)                 (None, 1)            129         dense_2[0][0]                    \n",
      "==================================================================================================\n",
      "Total params: 2,472,769\n",
      "Trainable params: 2,472,769\n",
      "Non-trainable params: 0\n",
      "__________________________________________________________________________________________________\n"
     ]
    }
   ],
   "source": [
    "model = build_model()\n",
    "model.summary()\n",
    "\n",
    "dummy_pred = model.predict(make_batch(data_train[:100]))\n",
    "dummy_loss = model.train_on_batch(make_batch(data_train[:100]), data_train['Log1pSalary'][:100])[0]\n",
    "assert dummy_pred.shape == (100, 1)\n",
    "assert len(np.unique(dummy_pred)) > 20, \"model returns suspiciously few unique outputs. Check your initialization\"\n",
    "assert np.ndim(dummy_loss) == 0 and 0. <= dummy_loss <= 250., \"make sure you minimize MSE\""
   ]
  },
  {
   "cell_type": "markdown",
   "metadata": {},
   "source": [
    "#### Training and evaluation\n",
    "\n",
    "As usual, we gonna feed our monster with random minibatches of data. \n",
    "\n",
    "As we train, we want to monitor not only loss function, which is computed in log-space, but also the actual error measured in dollars."
   ]
  },
  {
   "cell_type": "code",
   "execution_count": 25,
   "metadata": {
    "collapsed": true
   },
   "outputs": [],
   "source": [
    "def iterate_minibatches(data, batch_size=256, shuffle=True, cycle=False, **kwargs):\n",
    "    \"\"\" iterates minibatches of data in random order \"\"\"\n",
    "    while True:\n",
    "        indices = np.arange(len(data))\n",
    "        if shuffle:\n",
    "            indices = np.random.permutation(indices)\n",
    "\n",
    "        for start in range(0, len(indices), batch_size):\n",
    "            batch = make_batch(data.iloc[indices[start : start + batch_size]], **kwargs)\n",
    "            target = batch.pop(target_column)\n",
    "            yield batch, target\n",
    "        \n",
    "        if not cycle: break"
   ]
  },
  {
   "cell_type": "markdown",
   "metadata": {},
   "source": [
    "### Model training\n",
    "\n",
    "We can now fit our model the usual minibatch way. The interesting part is that we train on an infinite stream of minibatches, produced by `iterate_minibatches` function."
   ]
  },
  {
   "cell_type": "code",
   "execution_count": 26,
   "metadata": {},
   "outputs": [
    {
     "name": "stdout",
     "output_type": "stream",
     "text": [
      "Epoch 1/10\n",
      "100/100 [==============================] - 154s 2s/step - loss: 18.7389 - mean_absolute_error: 2.7144 - val_loss: 0.2802 - val_mean_absolute_error: 0.4136\n",
      "Epoch 2/10\n",
      "100/100 [==============================] - 123s 1s/step - loss: 0.2231 - mean_absolute_error: 0.3673 - val_loss: 0.2117 - val_mean_absolute_error: 0.3541\n",
      "Epoch 3/10\n",
      "100/100 [==============================] - 138s 1s/step - loss: 0.1644 - mean_absolute_error: 0.3108 - val_loss: 0.1732 - val_mean_absolute_error: 0.3193\n",
      "Epoch 4/10\n",
      "100/100 [==============================] - 82s 820ms/step - loss: 0.1385 - mean_absolute_error: 0.2808 - val_loss: 0.1467 - val_mean_absolute_error: 0.2925\n",
      "Epoch 5/10\n",
      "100/100 [==============================] - 72s 717ms/step - loss: 0.1220 - mean_absolute_error: 0.2645 - val_loss: 0.1241 - val_mean_absolute_error: 0.2672\n",
      "Epoch 6/10\n",
      "100/100 [==============================] - 74s 738ms/step - loss: 0.1137 - mean_absolute_error: 0.2531 - val_loss: 0.1080 - val_mean_absolute_error: 0.2481\n",
      "Epoch 7/10\n",
      "100/100 [==============================] - 76s 761ms/step - loss: 0.1035 - mean_absolute_error: 0.2432 - val_loss: 0.1036 - val_mean_absolute_error: 0.2427\n",
      "Epoch 8/10\n",
      "100/100 [==============================] - 62s 622ms/step - loss: 0.0963 - mean_absolute_error: 0.2321 - val_loss: 0.0996 - val_mean_absolute_error: 0.2376\n",
      "Epoch 9/10\n",
      "100/100 [==============================] - 54s 536ms/step - loss: 0.0848 - mean_absolute_error: 0.2181 - val_loss: 0.0942 - val_mean_absolute_error: 0.2301\n",
      "Epoch 10/10\n",
      "100/100 [==============================] - 54s 540ms/step - loss: 0.0854 - mean_absolute_error: 0.2182 - val_loss: 0.0973 - val_mean_absolute_error: 0.2352\n"
     ]
    },
    {
     "data": {
      "text/plain": [
       "<keras.callbacks.History at 0x15149476ba8>"
      ]
     },
     "execution_count": 26,
     "metadata": {},
     "output_type": "execute_result"
    }
   ],
   "source": [
    "batch_size = 256\n",
    "epochs = 10            # definitely too small\n",
    "steps_per_epoch = 100  # for full pass over data: (len(data_train) - 1) // batch_size + 1\n",
    "\n",
    "model = build_model()\n",
    "\n",
    "model.fit_generator(iterate_minibatches(data_train, batch_size, cycle=True, word_dropout=0.05), \n",
    "                    epochs=epochs, steps_per_epoch=steps_per_epoch,\n",
    "                    \n",
    "                    validation_data=iterate_minibatches(data_val, batch_size, cycle=True),\n",
    "                    validation_steps=data_val.shape[0] // batch_size\n",
    "                   )"
   ]
  },
  {
   "cell_type": "code",
   "execution_count": 27,
   "metadata": {},
   "outputs": [
    {
     "name": "stdout",
     "output_type": "stream",
     "text": [
      "Train results:\n",
      "Mean square error: 0.08620\n",
      "Mean absolute error: 0.22043\n",
      "Val results:\n",
      "Mean square error: 0.09708\n",
      "Mean absolute error: 0.23482\n"
     ]
    }
   ],
   "source": [
    "def print_metrics(model, data, batch_size=batch_size, name=\"\", **kw):\n",
    "    squared_error = abs_error = num_samples = 0.0\n",
    "    for batch_x, batch_y in iterate_minibatches(data, batch_size=batch_size, shuffle=False, **kw):\n",
    "        batch_pred = model.predict(batch_x)[:, 0]\n",
    "        squared_error += np.sum(np.square(batch_pred - batch_y))\n",
    "        abs_error += np.sum(np.abs(batch_pred - batch_y))\n",
    "        num_samples += len(batch_y)\n",
    "    print(\"%s results:\" % (name or \"\"))\n",
    "    print(\"Mean square error: %.5f\" % (squared_error / num_samples))\n",
    "    print(\"Mean absolute error: %.5f\" % (abs_error / num_samples))\n",
    "    return squared_error, abs_error\n",
    "    \n",
    "print_metrics(model, data_train, name='Train')\n",
    "print_metrics(model, data_val, name='Val');"
   ]
  },
  {
   "cell_type": "markdown",
   "metadata": {},
   "source": [
    "### Bonus part: explaining model predictions\n",
    "\n",
    "It's usually a good idea to understand how your model works before you let it make actual decisions. It's simple for linear models: just see which words learned positive or negative weights. However, its much harder for neural networks that learn complex nonlinear dependencies.\n",
    "\n",
    "There are, however, some ways to look inside the black box:\n",
    "* Seeing how model responds to input perturbations\n",
    "* Finding inputs that maximize/minimize activation of some chosen neurons (_read more [on distill.pub](https://distill.pub/2018/building-blocks/)_)\n",
    "* Building local linear approximations to your neural network: [article](https://arxiv.org/abs/1602.04938), [eli5 library](https://github.com/TeamHG-Memex/eli5/tree/master/eli5/formatters)\n",
    "\n",
    "Today we gonna try the first method just because it's the simplest one."
   ]
  },
  {
   "cell_type": "code",
   "execution_count": 28,
   "metadata": {
    "collapsed": true
   },
   "outputs": [],
   "source": [
    "def explain(model, sample, col_name='Title'):\n",
    "    \"\"\" Computes the effect each word had on model predictions \"\"\"\n",
    "    sample = dict(sample)\n",
    "    sample_col_tokens = [tokens[token_to_id.get(tok, 0)] for tok in sample[col_name].split()]\n",
    "    data_drop_one_token = pd.DataFrame([sample] * (len(sample_col_tokens) + 1))\n",
    "\n",
    "    for drop_i in range(len(sample_col_tokens)):\n",
    "        data_drop_one_token.loc[drop_i, col_name] = ' '.join(UNK if i == drop_i else tok\n",
    "                                                   for i, tok in enumerate(sample_col_tokens)) \n",
    "\n",
    "    *predictions_drop_one_token, baseline_pred = model.predict(make_batch(data_drop_one_token))[:, 0]\n",
    "    diffs = baseline_pred - predictions_drop_one_token\n",
    "    return list(zip(sample_col_tokens, diffs))"
   ]
  },
  {
   "cell_type": "code",
   "execution_count": 29,
   "metadata": {
    "collapsed": true
   },
   "outputs": [],
   "source": [
    "from IPython.display import HTML, display_html\n",
    "\n",
    "def draw_html(tokens_and_weights, cmap=plt.get_cmap(\"bwr\"), display=True,\n",
    "              token_template=\"\"\"<span style=\"background-color: {color_hex}\">{token}</span>\"\"\",\n",
    "              font_style=\"font-size:14px;\"\n",
    "             ):\n",
    "    \n",
    "    def get_color_hex(weight):\n",
    "        rgba = cmap(1. / (1 + np.exp(weight)), bytes=True)\n",
    "        return '#%02X%02X%02X' % rgba[:3]\n",
    "    \n",
    "    tokens_html = [\n",
    "        token_template.format(token=token, color_hex=get_color_hex(weight))\n",
    "        for token, weight in tokens_and_weights\n",
    "    ]\n",
    "    \n",
    "    \n",
    "    raw_html = \"\"\"<p style=\"{}\">{}</p>\"\"\".format(font_style, ' '.join(tokens_html))\n",
    "    if display:\n",
    "        display_html(HTML(raw_html))\n",
    "        \n",
    "    return raw_html\n",
    "    "
   ]
  },
  {
   "cell_type": "code",
   "execution_count": 30,
   "metadata": {},
   "outputs": [
    {
     "data": {
      "text/html": [
       "<p style=\"font-size:20px;\"><span style=\"background-color: #ECECFF\">sales</span> <span style=\"background-color: #7C7CFF\">specialist</span> <span style=\"background-color: #FFBCBC\">iv</span> <span style=\"background-color: #FFD8D8\">access</span> <span style=\"background-color: #FFF8F8\">and</span> <span style=\"background-color: #FFEEEE\">infusion</span></p>"
      ]
     },
     "metadata": {},
     "output_type": "display_data"
    },
    {
     "data": {
      "text/html": [
       "<p style=\"font-size:14px;\"><span style=\"background-color: #FFD6D6\">sales</span> <span style=\"background-color: #FFE8E8\">representative</span> <span style=\"background-color: #FFEAEA\">medical</span> <span style=\"background-color: #FCFCFF\">sales</span> <span style=\"background-color: #FFE0E0\">iv</span> <span style=\"background-color: #FFF0F0\">access</span> <span style=\"background-color: #FFD8D8\">and</span> <span style=\"background-color: #FFF8F8\">infusion</span> <span style=\"background-color: #FFFEFE\">an</span> <span style=\"background-color: #FFF6F6\">opportunity</span> <span style=\"background-color: #FFE8E8\">to</span> <span style=\"background-color: #FFFEFE\">work</span> <span style=\"background-color: #FFE2E2\">for</span> <span style=\"background-color: #FFCACA\">the</span> <span style=\"background-color: #FAFAFF\">industry</span> <span style=\"background-color: #FAFAFF\">leading</span> <span style=\"background-color: #FFD3D3\">manufacturer</span> <span style=\"background-color: #FCFCFF\">of</span> <span style=\"background-color: #FFDCDC\">iv</span> <span style=\"background-color: #FFF0F0\">access</span> <span style=\"background-color: #FFDADA\">and</span> <span style=\"background-color: #FFD8D8\">infusion</span> <span style=\"background-color: #FFECEC\">solutions</span> <span style=\"background-color: #FFFAFA\">.</span> <span style=\"background-color: #FFEAEA\">formally</span> <span style=\"background-color: #FFE6E6\">recognised</span> <span style=\"background-color: #FFECEC\">as</span> <span style=\"background-color: #FFF0F0\">the</span> <span style=\"background-color: #FFE2E2\">number</span> <span style=\"background-color: #FFE4E4\">****</span> <span style=\"background-color: #FFE2E2\">company</span> <span style=\"background-color: #FFF4F4\">in</span> <span style=\"background-color: #FFB6B6\">this</span> <span style=\"background-color: #F3F3FF\">market</span> <span style=\"background-color: #FFE0E0\">space</span> <span style=\"background-color: #FFF4F4\">,</span> <span style=\"background-color: #FFE4E4\">our</span> <span style=\"background-color: #FFE2E2\">client</span> <span style=\"background-color: #FFC8C8\">are</span> <span style=\"background-color: #FFE2E2\">an</span> <span style=\"background-color: #FFFEFE\">ethical</span> <span style=\"background-color: #FFD6D6\">and</span> <span style=\"background-color: #FFDEDE\">dynamic</span> <span style=\"background-color: #FFE2E2\">organisation</span> <span style=\"background-color: #FFF2F2\">absolutely</span> <span style=\"background-color: #FFF6F6\">committed</span> <span style=\"background-color: #FFF6F6\">to</span> <span style=\"background-color: #FFFEFE\">the</span> <span style=\"background-color: #FFDCDC\">advancement</span> <span style=\"background-color: #FFFEFE\">of</span> <span style=\"background-color: #FFF6F6\">innovative</span> <span style=\"background-color: #FFDEDE\">technologies</span> <span style=\"background-color: #FFF8F8\">.</span> <span style=\"background-color: #FFEAEA\">job</span> <span style=\"background-color: #FFFAFA\">title</span> <span style=\"background-color: #FFE4E4\">:</span> <span style=\"background-color: #FFFCFC\">sales</span> <span style=\"background-color: #FFF6F6\">specialist</span> <span style=\"background-color: #FFDEDE\">iv</span> <span style=\"background-color: #FFF4F4\">access</span> <span style=\"background-color: #FFE6E6\">and</span> <span style=\"background-color: #FFD3D3\">infusion</span> <span style=\"background-color: #FFECEC\">selling</span> <span style=\"background-color: #FFFEFE\">:</span> <span style=\"background-color: #FFDCDC\">medication</span> <span style=\"background-color: #FFDADA\">delivery</span> <span style=\"background-color: #FFF8F8\">solutions</span> <span style=\"background-color: #FFECEC\">selling</span> <span style=\"background-color: #FFE4E4\">to</span> <span style=\"background-color: #FFDEDE\">:</span> <span style=\"background-color: #FFF2F2\">iv</span> <span style=\"background-color: #FFE0E0\">teams</span> <span style=\"background-color: #FFFAFA\">,</span> <span style=\"background-color: #FFF8F8\">infection</span> <span style=\"background-color: #FFE2E2\">control</span> <span style=\"background-color: #F2F2FF\">,</span> <span style=\"background-color: #D3D3FF\">lead</span> <span style=\"background-color: #FFF0F0\">intensive</span> <span style=\"background-color: #FFE2E2\">care</span> <span style=\"background-color: #FFEAEA\">nurse</span> <span style=\"background-color: #FFEEEE\">specialists</span> <span style=\"background-color: #FFF0F0\">,</span> <span style=\"background-color: #FFD3D3\">ward</span> <span style=\"background-color: #FFDCDC\">managers</span> <span style=\"background-color: #FFEEEE\">territory</span> <span style=\"background-color: #FFE6E6\">:</span> <span style=\"background-color: #FFF8F8\">east</span> <span style=\"background-color: #FFD8D8\">midlands</span> <span style=\"background-color: #FFEEEE\">location</span> <span style=\"background-color: #FFE0E0\">:</span> <span style=\"background-color: #FFDEDE\">east</span> <span style=\"background-color: #FFC8C8\">midlands</span> <span style=\"background-color: #FFF6F6\">package</span> <span style=\"background-color: #FFC6C6\">:</span> <span style=\"background-color: #FFECEC\">basic</span> <span style=\"background-color: #FCFCFF\">:</span> <span style=\"background-color: #FEFEFF\">****</span> <span style=\"background-color: #F6F6FF\">k</span> <span style=\"background-color: #F2F2FF\">****</span> <span style=\"background-color: #FFDEDE\">k</span> <span style=\"background-color: #FFF2F2\">,</span> <span style=\"background-color: #FFD2D2\">uncapped</span> <span style=\"background-color: #FFE2E2\">bonus</span> <span style=\"background-color: #FFFEFE\">in</span> <span style=\"background-color: #FFB6B6\">addition</span> <span style=\"background-color: #FFF0F0\">,</span> <span style=\"background-color: #FFCECE\">full</span> <span style=\"background-color: #FFE6E6\">corporate</span> <span style=\"background-color: #FFDCDC\">benefits</span> <span style=\"background-color: #FFF0F0\">company</span> <span style=\"background-color: #FFEEEE\">information</span> <span style=\"background-color: #FFD3D3\">hugely</span> <span style=\"background-color: #FFE2E2\">ethical</span> <span style=\"background-color: #FFE6E6\">and</span> <span style=\"background-color: #FFA2A2\">professional</span> <span style=\"background-color: #FCFCFF\">global</span> <span style=\"background-color: #FFC8C8\">organisation</span> <span style=\"background-color: #FFE6E6\">extremely</span> <span style=\"background-color: #FFE4E4\">well</span> <span style=\"background-color: #FFDEDE\">established</span> <span style=\"background-color: #FFDADA\">in</span> <span style=\"background-color: #FFC8C8\">the</span> <span style=\"background-color: #FFE6E6\">uk</span> <span style=\"background-color: #FFD2D2\">the</span> <span style=\"background-color: #FFFAFA\">market</span> <span style=\"background-color: #FFFEFE\">leader</span> <span style=\"background-color: #FFD8D8\">across</span> <span style=\"background-color: #FFD0D0\">all</span> <span style=\"background-color: #FFE2E2\">of</span> <span style=\"background-color: #FFFCFC\">their</span> <span style=\"background-color: #FFFCFC\">core</span> <span style=\"background-color: #FFECEC\">business</span> <span style=\"background-color: #FEFEFF\">areas</span> <span style=\"background-color: #FFEAEA\">focus</span> <span style=\"background-color: #E8E8FF\">on</span> <span style=\"background-color: #F8F8FF\">providing</span> <span style=\"background-color: #FFE0E0\">cutting</span> <span style=\"background-color: #FFEAEA\">edge</span> <span style=\"background-color: #FFF4F4\">solutions</span> <span style=\"background-color: #FFFCFC\">along</span> <span style=\"background-color: #FFFEFE\">with</span> <span style=\"background-color: #FFDADA\">outstanding</span> <span style=\"background-color: #FFF0F0\">service</span> <span style=\"background-color: #FFE6E6\">and</span> <span style=\"background-color: #FFFCFC\">support</span> <span style=\"background-color: #FFE4E4\">a</span> <span style=\"background-color: #FFECEC\">business</span> <span style=\"background-color: #FFE0E0\">that</span> <span style=\"background-color: #FFF4F4\">retain</span> <span style=\"background-color: #FFD8D8\">talented</span> <span style=\"background-color: #FFFCFC\">personnel</span> <span style=\"background-color: #FFECEC\">by</span> <span style=\"background-color: #FFF6F6\">offering</span> <span style=\"background-color: #FFF8F8\">a</span> <span style=\"background-color: #FFDADA\">strong</span> <span style=\"background-color: #FFF2F2\">platform</span> <span style=\"background-color: #FFBEBE\">for</span> <span style=\"background-color: #FFECEC\">career</span> <span style=\"background-color: #FFE6E6\">development</span> <span style=\"background-color: #FFE2E2\">sales</span> <span style=\"background-color: #FFFEFE\">specialist</span> <span style=\"background-color: #FFDEDE\">iv</span> <span style=\"background-color: #FFF4F4\">access</span> <span style=\"background-color: #FFE6E6\">and</span> <span style=\"background-color: #FFECEC\">infusion</span> <span style=\"background-color: #FFF6F6\">you</span> <span style=\"background-color: #FFECEC\">must</span> <span style=\"background-color: #FFD0D0\">have</span> <span style=\"background-color: #FFC0C0\">/</span> <span style=\"background-color: #FFE4E4\">be</span> <span style=\"background-color: #FFF4F4\">the</span> <span style=\"background-color: #FFD8D8\">following</span> <span style=\"background-color: #FFFEFE\">at</span> <span style=\"background-color: #FFE2E2\">least</span> <span style=\"background-color: #FFECEC\">2</span> <span style=\"background-color: #FFF0F0\">years</span> <span style=\"background-color: #FFDCDC\">medical</span> <span style=\"background-color: #FFDEDE\">device</span> <span style=\"background-color: #FFE6E6\">sales</span> <span style=\"background-color: #E8E8FF\">experience</span> <span style=\"background-color: #DEDEFF\">.</span> <span style=\"background-color: #E3E3FF\">candidates</span> <span style=\"background-color: #FFE0E0\">who</span> <span style=\"background-color: #FFE8E8\">have</span> <span style=\"background-color: #FFD6D6\">sold</span> <span style=\"background-color: #FFD8D8\">disposables</span> <span style=\"background-color: #FFDADA\">/</span> <span style=\"background-color: #FFEEEE\">consumables</span> <span style=\"background-color: #FFF8F8\">or</span> <span style=\"background-color: #FFE8E8\">similar</span> <span style=\"background-color: #FFE6E6\">into</span> <span style=\"background-color: #FFF0F0\">hospitals</span> <span style=\"background-color: #FFE4E4\">would</span> <span style=\"background-color: #FFD8D8\">be</span> <span style=\"background-color: #FFE8E8\">of</span> <span style=\"background-color: #FFF4F4\">particular</span> <span style=\"background-color: #FFDCDC\">interest</span> <span style=\"background-color: #FFFEFE\">.</span> <span style=\"background-color: #FFF6F6\">candidates</span> <span style=\"background-color: #FFE0E0\">must</span> <span style=\"background-color: #FFF0F0\">have</span> <span style=\"background-color: #FFE6E6\">sold</span> <span style=\"background-color: #F3F3FF\">into</span> <span style=\"background-color: #FFAAAA\">hospitals</span> <span style=\"background-color: #FFF0F0\">demonstrable</span> <span style=\"background-color: #FFECEC\">performance</span> <span style=\"background-color: #FFEEEE\">and</span> <span style=\"background-color: #FFF4F4\">achievements</span> <span style=\"background-color: #FFF0F0\">so</span> <span style=\"background-color: #FFFEFE\">far</span> <span style=\"background-color: #FFE6E6\">personable</span> <span style=\"background-color: #FFEEEE\">,</span> <span style=\"background-color: #FFF0F0\">adaptable</span> <span style=\"background-color: #FFF4F4\">and</span> <span style=\"background-color: #FFE6E6\">willing</span> <span style=\"background-color: #FFDEDE\">to</span> <span style=\"background-color: #FFE4E4\">learn</span> <span style=\"background-color: #FFF4F4\">keen</span> <span style=\"background-color: #FFFEFE\">and</span> <span style=\"background-color: #FFE0E0\">eager</span> <span style=\"background-color: #FFDADA\">to</span> <span style=\"background-color: #FFFAFA\">be</span> <span style=\"background-color: #FFF6F6\">a</span> <span style=\"background-color: #FFFEFE\">success</span> <span style=\"background-color: #FFECEC\">candidates</span> <span style=\"background-color: #FFE4E4\">must</span> <span style=\"background-color: #FFE4E4\">have</span> <span style=\"background-color: #FFD6D6\">a</span> <span style=\"background-color: #FFCCCC\">degree</span> <span style=\"background-color: #FFD8D8\">or</span> <span style=\"background-color: #FFE6E6\">at</span> <span style=\"background-color: #FFC2C2\">least</span> <span style=\"background-color: #FFF8F8\">be</span> <span style=\"background-color: #FFFAFA\">able</span> <span style=\"background-color: #FFECEC\">to</span> <span style=\"background-color: #FFEEEE\">show</span> <span style=\"background-color: #FFF2F2\">a</span> <span style=\"background-color: #FFFCFC\">strong</span> <span style=\"background-color: #FFFAFA\">ability</span> <span style=\"background-color: #FFCECE\">to</span> <span style=\"background-color: #FFEEEE\">learn</span> <span style=\"background-color: #FFFEFE\">role</span> <span style=\"background-color: #FFE6E6\">information</span> <span style=\"background-color: #FFE8E8\">managing</span> <span style=\"background-color: #FFF0F0\">the</span> <span style=\"background-color: #FFAEAE\">east</span> <span style=\"background-color: #FFF4F4\">midlands</span> <span style=\"background-color: #FFF2F2\">region</span> <span style=\"background-color: #FFE0E0\">selling</span> <span style=\"background-color: #FFDADA\">across</span> <span style=\"background-color: #FFE0E0\">the</span> <span style=\"background-color: #FFD0D0\">company</span> <span style=\"background-color: #FFECEC\">'</span> <span style=\"background-color: #FFF6F6\">s</span> <span style=\"background-color: #FFDCDC\">range</span> <span style=\"background-color: #FFE2E2\">of</span> <span style=\"background-color: #FFF6F6\">iv</span> <span style=\"background-color: #FFD6D6\">and</span> <span style=\"background-color: #FFF2F2\">infusion</span> <span style=\"background-color: #FFF2F2\">solutions</span> <span style=\"background-color: #FFF8F8\">portfolio</span> <span style=\"background-color: #FFECEC\">selling</span> <span style=\"background-color: #FFE8E8\">into</span> <span style=\"background-color: #FCFCFF\">lead</span> <span style=\"background-color: #FFF2F2\">intensive</span> <span style=\"background-color: #FFE2E2\">care</span> <span style=\"background-color: #FFEAEA\">nurse</span> <span style=\"background-color: #FFEEEE\">specialists</span> <span style=\"background-color: #FFF0F0\">,</span> <span style=\"background-color: #FFDCDC\">ward</span> <span style=\"background-color: #FFE4E4\">managers</span> <span style=\"background-color: #FFEAEA\">,</span> <span style=\"background-color: #FFE6E6\">iv</span> <span style=\"background-color: #FFEEEE\">teams</span> <span style=\"background-color: #FFFAFA\">,</span> <span style=\"background-color: #FFEEEE\">infection</span> <span style=\"background-color: #FFFAFA\">control</span> <span style=\"background-color: #FFDCDC\">teams</span> <span style=\"background-color: #FFF6F6\">,</span> <span style=\"background-color: #FFE4E4\">procurement</span> <span style=\"background-color: #FFFCFC\">sales</span> <span style=\"background-color: #FFFEFE\">specialist</span> <span style=\"background-color: #FFDEDE\">iv</span> <span style=\"background-color: #FFF4F4\">access</span> <span style=\"background-color: #FFE8E8\">and</span> <span style=\"background-color: #FFFEFE\">infusion</span> <span style=\"background-color: #FFDADA\">candidates</span> <span style=\"background-color: #FFC2C2\">must</span> <span style=\"background-color: #FFECEC\">be</span> <span style=\"background-color: #FFFEFE\">eligible</span> <span style=\"background-color: #FFE2E2\">to</span> <span style=\"background-color: #FFF4F4\">work</span> <span style=\"background-color: #FAFAFF\">and</span> <span style=\"background-color: #FFB0B0\">live</span> <span style=\"background-color: #FFD8D8\">in</span> <span style=\"background-color: #FFC6C6\">the</span> <span style=\"background-color: #FFF2F2\">uk</span> <span style=\"background-color: #FEFEFF\">.</span> <span style=\"background-color: #FFEEEE\">please</span> <span style=\"background-color: #FFF0F0\">contact</span> <span style=\"background-color: #FFFAFA\">allan</span> <span style=\"background-color: #FFF6F6\">waller</span> <span style=\"background-color: #FFF0F0\">on</span> <span style=\"background-color: #FFF0F0\">****</span> <span style=\"background-color: #FFD0D0\">****</span> <span style=\"background-color: #FFE6E6\">****</span> <span style=\"background-color: #FFFEFE\">or</span> <span style=\"background-color: #FFDEDE\">please</span> <span style=\"background-color: #FFDADA\">hit</span> <span style=\"background-color: #FFE2E2\">the</span> <span style=\"background-color: #FFF2F2\">apply</span> <span style=\"background-color: #FFE8E8\">button</span> <span style=\"background-color: #FFC2C2\">.</span> <span style=\"background-color: #FFFAFA\">this</span> <span style=\"background-color: #FFE8E8\">job</span> <span style=\"background-color: #FFFEFE\">was</span> <span style=\"background-color: #FFF4F4\">originally</span> <span style=\"background-color: #FFE0E0\">posted</span> <span style=\"background-color: #FFE6E6\">as</span> <span style=\"background-color: #FFDADA\">www</span> <span style=\"background-color: #FFEEEE\">.</span> <span style=\"background-color: #FFDADA\">salestarget</span> <span style=\"background-color: #FFE0E0\">.</span> <span style=\"background-color: #FFC6C6\">co</span> <span style=\"background-color: #FFDADA\">.</span> <span style=\"background-color: #FFF0F0\">uk</span> <span style=\"background-color: #FFDADA\">/</span> <span style=\"background-color: #FFCACA\">jobseeking</span> <span style=\"background-color: #FFF6F6\">/</span> <span style=\"background-color: #FFFEFE\">UNK</span> <span style=\"background-color: #FFF8F8\">****</span></p>"
      ]
     },
     "metadata": {},
     "output_type": "display_data"
    }
   ],
   "source": [
    "i = 36605\n",
    "tokens_and_weights = explain(model, data.loc[i], \"Title\")\n",
    "draw_html([(tok, weight * 5) for tok, weight in tokens_and_weights], font_style='font-size:20px;');\n",
    "\n",
    "tokens_and_weights = explain(model, data.loc[i], \"FullDescription\")\n",
    "draw_html([(tok, weight * 10) for tok, weight in tokens_and_weights]);"
   ]
  },
  {
   "cell_type": "code",
   "execution_count": 31,
   "metadata": {},
   "outputs": [
    {
     "data": {
      "text/html": [
       "<p style=\"font-size:20px;\"><span style=\"background-color: #FFC0C0\">cleaning</span> <span style=\"background-color: #FFD8D8\">operative</span></p>"
      ]
     },
     "metadata": {},
     "output_type": "display_data"
    },
    {
     "data": {
      "text/html": [
       "<p style=\"font-size:14px;\"><span style=\"background-color: #FFDADA\">12</span> <span style=\"background-color: #FEFEFF\">.</span> <span style=\"background-color: #E8E8FF\">5</span> <span style=\"background-color: #FFF0F0\">hours</span> <span style=\"background-color: #F2F2FF\">per</span> <span style=\"background-color: #FFF8F8\">week</span> <span style=\"background-color: #FCFCFF\">monday</span> <span style=\"background-color: #FFF6F6\">friday</span> <span style=\"background-color: #FFFAFA\">9am</span> <span style=\"background-color: #FFECEC\">11</span> <span style=\"background-color: #FFF8F8\">.</span> <span style=\"background-color: #FFF4F4\">30am</span> <span style=\"background-color: #ECECFF\">duties</span> <span style=\"background-color: #DCDCFF\">to</span> <span style=\"background-color: #E8E8FF\">include</span> <span style=\"background-color: #FFFCFC\">sweeping</span> <span style=\"background-color: #FCFCFF\">,</span> <span style=\"background-color: #FFECEC\">mopping</span> <span style=\"background-color: #FFFCFC\">,</span> <span style=\"background-color: #FFF6F6\">vacuuming</span> <span style=\"background-color: #F8F8FF\">,</span> <span style=\"background-color: #F2F2FF\">buffing</span> <span style=\"background-color: #FFF8F8\">,</span> <span style=\"background-color: #FFEAEA\">cleaning</span> <span style=\"background-color: #FFECEC\">staff</span> <span style=\"background-color: #FFECEC\">toilets</span> <span style=\"background-color: #FAFAFF\">and</span> <span style=\"background-color: #FFE8E8\">rest</span> <span style=\"background-color: #FFB6B6\">room</span> <span style=\"background-color: #FFF4F4\">.</span> <span style=\"background-color: #E8E8FF\">must</span> <span style=\"background-color: #EEEEFF\">be</span> <span style=\"background-color: #FFFEFE\">able</span> <span style=\"background-color: #FFF6F6\">to</span> <span style=\"background-color: #FFFCFC\">read</span> <span style=\"background-color: #FFF2F2\">as</span> <span style=\"background-color: #F8F8FF\">they</span> <span style=\"background-color: #FFDEDE\">will</span> <span style=\"background-color: #FFF8F8\">be</span> <span style=\"background-color: #FFF0F0\">using</span> <span style=\"background-color: #FFFEFE\">UNK</span> <span style=\"background-color: #FFD6D6\">which</span> <span style=\"background-color: #FFEEEE\">need</span> <span style=\"background-color: #FFFEFE\">UNK</span> <span style=\"background-color: #FFDEDE\">as</span> <span style=\"background-color: #FFEEEE\">per</span> <span style=\"background-color: #FFE0E0\">instructions</span> <span style=\"background-color: #FFFAFA\">on</span> <span style=\"background-color: #FFE2E2\">the</span> <span style=\"background-color: #FFF2F2\">containers</span> <span style=\"background-color: #FFE0E0\">.</span> <span style=\"background-color: #FFE2E2\">sucessfull</span> <span style=\"background-color: #ECECFF\">applicants</span> <span style=\"background-color: #FFECEC\">will</span> <span style=\"background-color: #FFFEFE\">be</span> <span style=\"background-color: #FFC6C6\">trained</span> <span style=\"background-color: #FAFAFF\">on</span> <span style=\"background-color: #FFE8E8\">all</span> <span style=\"background-color: #FFECEC\">electrical</span> <span style=\"background-color: #FFEAEA\">appliances</span> <span style=\"background-color: #C0C0FF\">and</span> <span style=\"background-color: #FFFEFE\">UNK</span> <span style=\"background-color: #BEBEFF\">of</span> <span style=\"background-color: #FFD0D0\">cleaning</span> <span style=\"background-color: #FFF2F2\">materials</span> <span style=\"background-color: #FFFEFE\">.</span></p>"
      ]
     },
     "metadata": {},
     "output_type": "display_data"
    }
   ],
   "source": [
    "i = 12077\n",
    "tokens_and_weights = explain(model, data.loc[i], \"Title\")\n",
    "draw_html([(tok, weight * 5) for tok, weight in tokens_and_weights], font_style='font-size:20px;');\n",
    "\n",
    "tokens_and_weights = explain(model, data.loc[i], \"FullDescription\")\n",
    "draw_html([(tok, weight * 10) for tok, weight in tokens_and_weights]);"
   ]
  },
  {
   "cell_type": "code",
   "execution_count": 32,
   "metadata": {},
   "outputs": [
    {
     "name": "stdout",
     "output_type": "stream",
     "text": [
      "Index: 219905\n",
      "Salary (gbp): 12922.832\n"
     ]
    },
    {
     "data": {
      "text/html": [
       "<p style=\"font-size:20px;\"><span style=\"background-color: #B3B3FF\">ecommerce</span> <span style=\"background-color: #FFFCFC\">assistant</span> <span style=\"background-color: #F6F6FF\">merchandiser</span> <span style=\"background-color: #ECECFF\">–</span> <span style=\"background-color: #FFE2E2\">level</span> <span style=\"background-color: #FEFEFF\">3</span> <span style=\"background-color: #D0D0FF\">–</span> <span style=\"background-color: #FFFAFA\">multi</span> <span style=\"background-color: #EAEAFF\">product</span> <span style=\"background-color: #CCCCFF\">high</span> <span style=\"background-color: #FFCACA\">street</span> <span style=\"background-color: #FEFEFF\">retailer</span></p>"
      ]
     },
     "metadata": {},
     "output_type": "display_data"
    },
    {
     "data": {
      "text/html": [
       "<p style=\"font-size:14px;\"><span style=\"background-color: #FCFCFF\">my</span> <span style=\"background-color: #FFCCCC\">client</span> <span style=\"background-color: #FFECEC\">,</span> <span style=\"background-color: #FFF2F2\">an</span> <span style=\"background-color: #FFFEFE\">fast</span> <span style=\"background-color: #FFFEFE\">paced</span> <span style=\"background-color: #FEFEFF\">multi</span> <span style=\"background-color: #FFECEC\">product</span> <span style=\"background-color: #FFE0E0\">high</span> <span style=\"background-color: #FFF6F6\">street</span> <span style=\"background-color: #FFEAEA\">retailer</span> <span style=\"background-color: #FFE8E8\">are</span> <span style=\"background-color: #FFF6F6\">currently</span> <span style=\"background-color: #F2F2FF\">looking</span> <span style=\"background-color: #FCFCFF\">for</span> <span style=\"background-color: #FFE8E8\">an</span> <span style=\"background-color: #FFF8F8\">assistant</span> <span style=\"background-color: #FFFEFE\">merchandiser</span> <span style=\"background-color: #FFF4F4\">to</span> <span style=\"background-color: #FFE4E4\">join</span> <span style=\"background-color: #FFEEEE\">their</span> <span style=\"background-color: #FFEAEA\">business</span> <span style=\"background-color: #FAFAFF\">on</span> <span style=\"background-color: #FEFEFF\">their</span> <span style=\"background-color: #FFF4F4\">ecommerce</span> <span style=\"background-color: #FFEAEA\">department</span> <span style=\"background-color: #FFFEFE\">your</span> <span style=\"background-color: #FFEAEA\">main</span> <span style=\"background-color: #FFF2F2\">responsibilities</span> <span style=\"background-color: #FFE2E2\">will</span> <span style=\"background-color: #FFF0F0\">include</span> <span style=\"background-color: #FFF2F2\">dealing</span> <span style=\"background-color: #FFF0F0\">with</span> <span style=\"background-color: #FFE4E4\">promotions</span> <span style=\"background-color: #FFFEFE\">and</span> <span style=\"background-color: #FFDEDE\">markdowns</span> <span style=\"background-color: #FFF6F6\">,</span> <span style=\"background-color: #FFE4E4\">sales</span> <span style=\"background-color: #FAFAFF\">forecasting</span> <span style=\"background-color: #F8F8FF\">and</span> <span style=\"background-color: #FCFCFF\">planning</span> <span style=\"background-color: #FFF8F8\">the</span> <span style=\"background-color: #FFE0E0\">department</span> <span style=\"background-color: #FFFAFA\">,</span> <span style=\"background-color: #FFD8D8\">updating</span> <span style=\"background-color: #FFF6F6\">the</span> <span style=\"background-color: #FEFEFF\">wssi</span> <span style=\"background-color: #FFFEFE\">to</span> <span style=\"background-color: #FFFEFE\">reflect</span> <span style=\"background-color: #FFE8E8\">stock</span> <span style=\"background-color: #FFF4F4\">intake</span> <span style=\"background-color: #FFE8E8\">and</span> <span style=\"background-color: #FFEEEE\">sales</span> <span style=\"background-color: #F2F2FF\">and</span> <span style=\"background-color: #FFEEEE\">working</span> <span style=\"background-color: #FEFEFF\">closely</span> <span style=\"background-color: #FFE8E8\">with</span> <span style=\"background-color: #FFF4F4\">the</span> <span style=\"background-color: #FFF4F4\">buying</span> <span style=\"background-color: #FFE6E6\">team</span> <span style=\"background-color: #FFF4F4\">.</span> <span style=\"background-color: #FFE2E2\">the</span> <span style=\"background-color: #FFFAFA\">ideal</span> <span style=\"background-color: #FFE6E6\">candidate</span> <span style=\"background-color: #FFEAEA\">will</span> <span style=\"background-color: #FFE2E2\">have</span> <span style=\"background-color: #FFDEDE\">at</span> <span style=\"background-color: #FFB0B0\">least</span> <span style=\"background-color: #FFD8D8\">3</span> <span style=\"background-color: #FEFEFF\">years</span> <span style=\"background-color: #FFFAFA\">experience</span> <span style=\"background-color: #FFE0E0\">at</span> <span style=\"background-color: #FFE4E4\">am</span> <span style=\"background-color: #FFF2F2\">level</span> <span style=\"background-color: #FFF0F0\">and</span> <span style=\"background-color: #FFEAEA\">have</span> <span style=\"background-color: #FFECEC\">a</span> <span style=\"background-color: #F0F0FF\">solid</span> <span style=\"background-color: #FF9C9C\">understanding</span> <span style=\"background-color: #FFFAFA\">of</span> <span style=\"background-color: #FFE6E6\">the</span> <span style=\"background-color: #FFFEFE\">above</span> <span style=\"background-color: #FFDADA\">main</span> <span style=\"background-color: #FFFAFA\">role</span> <span style=\"background-color: #FFEEEE\">and</span> <span style=\"background-color: #FFEAEA\">responsibilities</span> <span style=\"background-color: #FFE0E0\">preferably</span> <span style=\"background-color: #FFE6E6\">within</span> <span style=\"background-color: #FFFCFC\">an</span> <span style=\"background-color: #FFE4E4\">ecommerce</span> <span style=\"background-color: #FFE2E2\">area</span> <span style=\"background-color: #FFD2D2\">.</span> <span style=\"background-color: #FFD3D3\">this</span> <span style=\"background-color: #FFDADA\">brand</span> <span style=\"background-color: #FFF6F6\">is</span> <span style=\"background-color: #FFE8E8\">a</span> <span style=\"background-color: #FFF6F6\">fantastic</span> <span style=\"background-color: #FFFEFE\">place</span> <span style=\"background-color: #FFEAEA\">to</span> <span style=\"background-color: #FFECEC\">work</span> <span style=\"background-color: #FFFCFC\">in</span> <span style=\"background-color: #FFBEBE\">terms</span> <span style=\"background-color: #FFEAEA\">of</span> <span style=\"background-color: #FFE4E4\">training</span> <span style=\"background-color: #FFF4F4\">within</span> <span style=\"background-color: #FFF4F4\">a</span> <span style=\"background-color: #FFFCFC\">really</span> <span style=\"background-color: #FFE4E4\">collaborative</span> <span style=\"background-color: #FFFEFE\">environment</span> <span style=\"background-color: #FFDCDC\">working</span> <span style=\"background-color: #FFE8E8\">closely</span> <span style=\"background-color: #FFECEC\">with</span> <span style=\"background-color: #FFF0F0\">marketing</span> <span style=\"background-color: #FFFEFE\">and</span> <span style=\"background-color: #FFD3D3\">content</span> <span style=\"background-color: #FFE4E4\">,</span> <span style=\"background-color: #FFBABA\">you</span> <span style=\"background-color: #FFB8B8\">will</span> <span style=\"background-color: #FFE4E4\">be</span> <span style=\"background-color: #FFDADA\">involved</span> <span style=\"background-color: #FFCACA\">in</span> <span style=\"background-color: #FFFCFC\">key</span> <span style=\"background-color: #FFF6F6\">decisions</span> <span style=\"background-color: #FFECEC\">for</span> <span style=\"background-color: #E8E8FF\">the</span> <span style=\"background-color: #FFEAEA\">online</span> <span style=\"background-color: #FAFAFF\">business</span> <span style=\"background-color: #FCFCFF\">and</span> <span style=\"background-color: #FFB3B3\">play</span> <span style=\"background-color: #FFECEC\">a</span> <span style=\"background-color: #FFFAFA\">large</span> <span style=\"background-color: #FFCECE\">part</span> <span style=\"background-color: #F0F0FF\">in</span> <span style=\"background-color: #FFDCDC\">driving</span> <span style=\"background-color: #FFF4F4\">sales</span> <span style=\"background-color: #FFF6F6\">.</span> <span style=\"background-color: #FFC3C3\">if</span> <span style=\"background-color: #FFF8F8\">this</span> <span style=\"background-color: #FFEEEE\">is</span> <span style=\"background-color: #FFECEC\">something</span> <span style=\"background-color: #FFF0F0\">that</span> <span style=\"background-color: #FFF2F2\">you</span> <span style=\"background-color: #FFA2A2\">would</span> <span style=\"background-color: #FFF6F6\">be</span> <span style=\"background-color: #FFF4F4\">interested</span> <span style=\"background-color: #FFFEFE\">in</span> <span style=\"background-color: #FFEAEA\">please</span> <span style=\"background-color: #FFECEC\">send</span> <span style=\"background-color: #F8F8FF\">your</span> <span style=\"background-color: #FFEAEA\">cv</span> <span style=\"background-color: #FFE4E4\">to</span> <span style=\"background-color: #FFFEFE\">UNK</span> <span style=\"background-color: #D8D8FF\">.</span> <span style=\"background-color: #ECECFF\">com</span> <span style=\"background-color: #FEFEFF\">please</span> <span style=\"background-color: #FFE0E0\">note</span> <span style=\"background-color: #FFFEFE\">due</span> <span style=\"background-color: #FFF0F0\">to</span> <span style=\"background-color: #FFF4F4\">mass</span> <span style=\"background-color: #FFDADA\">applications</span> <span style=\"background-color: #FFD2D2\">we</span> <span style=\"background-color: #FFD3D3\">will</span> <span style=\"background-color: #FFAEAE\">only</span> <span style=\"background-color: #FFD3D3\">be</span> <span style=\"background-color: #FFEAEA\">able</span> <span style=\"background-color: #FFE8E8\">to</span> <span style=\"background-color: #FFEAEA\">respond</span> <span style=\"background-color: #FFF0F0\">to</span> <span style=\"background-color: #FFF8F8\">successful</span> <span style=\"background-color: #FFE2E2\">candidates</span> <span style=\"background-color: #FFD2D2\">at</span> <span style=\"background-color: #FFFCFC\">this</span> <span style=\"background-color: #FFFEFE\">stage</span></p>"
      ]
     },
     "metadata": {},
     "output_type": "display_data"
    }
   ],
   "source": [
    "i = np.random.randint(len(data))\n",
    "print(\"Index:\", i)\n",
    "print(\"Salary (gbp):\", np.expm1(model.predict(make_batch(data.iloc[i: i+1]))[0, 0]))\n",
    "\n",
    "tokens_and_weights = explain(model, data.loc[i], \"Title\")\n",
    "draw_html([(tok, weight * 5) for tok, weight in tokens_and_weights], font_style='font-size:20px;');\n",
    "\n",
    "tokens_and_weights = explain(model, data.loc[i], \"FullDescription\")\n",
    "draw_html([(tok, weight * 10) for tok, weight in tokens_and_weights]);"
   ]
  },
  {
   "cell_type": "markdown",
   "metadata": {},
   "source": [
    "__Terrible start-up idea #1962:__ make a tool that automaticaly rephrases your job description (or CV) to meet salary expectations :)"
   ]
  }
 ],
 "metadata": {
  "kernelspec": {
   "display_name": "Python 3",
   "language": "python",
   "name": "python3"
  },
  "language_info": {
   "codemirror_mode": {
    "name": "ipython",
    "version": 3
   },
   "file_extension": ".py",
   "mimetype": "text/x-python",
   "name": "python",
   "nbconvert_exporter": "python",
   "pygments_lexer": "ipython3",
   "version": "3.6.3"
  }
 },
 "nbformat": 4,
 "nbformat_minor": 2
}
