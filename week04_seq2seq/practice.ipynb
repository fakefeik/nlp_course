{
  "nbformat": 4,
  "nbformat_minor": 0,
  "metadata": {
    "colab": {
      "name": "practice.ipynb",
      "version": "0.3.2",
      "provenance": [],
      "collapsed_sections": [
        "npq02mZ_4uU4"
      ]
    },
    "kernelspec": {
      "name": "python3",
      "display_name": "Python 3"
    },
    "accelerator": "GPU"
  },
  "cells": [
    {
      "metadata": {
        "id": "YS9iqsqD4uTE",
        "colab_type": "text"
      },
      "cell_type": "markdown",
      "source": [
        "## Seminar and homework (10 points total)\n",
        "\n",
        "Today we shall compose encoder-decoder neural networks and apply them to the task of machine translation.\n",
        "\n",
        "![img](https://esciencegroup.files.wordpress.com/2016/03/seq2seq.jpg)\n",
        "_(img: esciencegroup.files.wordpress.com)_\n",
        "\n",
        "\n",
        "Encoder-decoder architectures are about converting anything to anything, including\n",
        " * Machine translation and spoken dialogue systems\n",
        " * [Image captioning](http://mscoco.org/dataset/#captions-challenge2015) and [image2latex](https://openai.com/requests-for-research/#im2latex) (convolutional encoder, recurrent decoder)\n",
        " * Generating [images by captions](https://arxiv.org/abs/1511.02793) (recurrent encoder, convolutional decoder)\n",
        " * Grapheme2phoneme - convert words to transcripts"
      ]
    },
    {
      "metadata": {
        "id": "1roDfVkp4uTI",
        "colab_type": "text"
      },
      "cell_type": "markdown",
      "source": [
        "## Our task: machine translation\n",
        "\n",
        "We gonna try our encoder-decoder models on russian to english machine translation problem. More specifically, we'll translate hotel and hostel descriptions. This task shows the scale of machine translation while not requiring you to train your model for weeks if you don't use GPU.\n",
        "\n",
        "Before we get to the architecture, there's some preprocessing to be done. ~~Go tokenize~~ Alright, this time we've done preprocessing for you. As usual, the data will be tokenized with WordPunctTokenizer.\n",
        "\n",
        "However, there's one more thing to do. Our data lines contain unique rare words. If we operate on a word level, we will have to deal with large vocabulary size. If instead we use character-level models, it would take lots of iterations to process a sequence. This time we're gonna pick something inbetween.\n",
        "\n",
        "One popular approach is called [Byte Pair Encoding](https://github.com/rsennrich/subword-nmt) aka __BPE__. The algorithm starts with a character-level tokenization and then iteratively merges most frequent pairs for N iterations. This results in frequent words being merged into a single token and rare words split into syllables or even characters.\n",
        "\n"
      ]
    },
    {
      "metadata": {
        "id": "WR3g_YGr4uTL",
        "colab_type": "code",
        "colab": {}
      },
      "cell_type": "code",
      "source": [
        "!pip3 install subword-nmt &> log\n",
        "!wget https://github.com/yandexdataschool/nlp_course/raw/62c1410427385336ef2bea74b09cba39c956207d/week4_seq2seq/data.txt -O data.txt 2> log\n",
        "!wget https://github.com/yandexdataschool/nlp_course/raw/62c1410427385336ef2bea74b09cba39c956207d/week4_seq2seq/utils.py -O utils.py 2> log\n",
        "!wget https://github.com/yandexdataschool/nlp_course/raw/62c1410427385336ef2bea74b09cba39c956207d/week4_seq2seq/dummy_checkpoint.npz -O dummy_checkpoint.npz 2> log\n",
        "#thanks to tilda and deephack teams for the data"
      ],
      "execution_count": 0,
      "outputs": []
    },
    {
      "metadata": {
        "id": "fiI6CTPc4uTU",
        "colab_type": "code",
        "colab": {
          "base_uri": "https://localhost:8080/",
          "height": 34
        },
        "outputId": "04eb8a0a-b7f6-4e71-dd19-1e971fb783a9"
      },
      "cell_type": "code",
      "source": [
        "!pip3 install subword-nmt"
      ],
      "execution_count": 2,
      "outputs": [
        {
          "output_type": "stream",
          "text": [
            "Requirement already satisfied: subword-nmt in /usr/local/lib/python3.6/dist-packages (0.3.5)\n"
          ],
          "name": "stdout"
        }
      ]
    },
    {
      "metadata": {
        "id": "J_dh14Ze4uTb",
        "colab_type": "code",
        "colab": {}
      },
      "cell_type": "code",
      "source": [
        "from nltk.tokenize import WordPunctTokenizer\n",
        "from subword_nmt.learn_bpe import learn_bpe\n",
        "from subword_nmt.apply_bpe import BPE\n",
        "tokenizer = WordPunctTokenizer()\n",
        "def tokenize(x):\n",
        "    return ' '.join(tokenizer.tokenize(x.lower()))\n",
        "\n",
        "# split and tokenize the data\n",
        "with open('train.en', 'w', encoding='utf8') as f_src,  open('train.ru', 'w', encoding='utf8') as f_dst:\n",
        "    for line in open('data.txt', encoding='utf8'):\n",
        "        src_line, dst_line = line.strip().split('\\t')\n",
        "        f_src.write(tokenize(src_line) + '\\n')\n",
        "        f_dst.write(tokenize(dst_line) + '\\n')\n",
        "\n",
        "# build and apply bpe vocs\n",
        "bpe = {}\n",
        "for lang in ['en', 'ru']:\n",
        "    learn_bpe(open('./train.' + lang, encoding='utf8'), open('bpe_rules.' + lang, 'w', encoding='utf8'), num_symbols=8000)\n",
        "    bpe[lang] = BPE(open('./bpe_rules.' + lang, encoding='utf8'))\n",
        "    \n",
        "    with open('train.bpe.' + lang, 'w', encoding='utf8') as f_out:\n",
        "        for line in open('train.' + lang, encoding='utf8'):\n",
        "            f_out.write(bpe[lang].process_line(line.strip()) + '\\n')"
      ],
      "execution_count": 0,
      "outputs": []
    },
    {
      "metadata": {
        "id": "O9niLMpB4uTf",
        "colab_type": "text"
      },
      "cell_type": "markdown",
      "source": [
        "### Building vocabularies\n",
        "\n",
        "We now need to build vocabularies that map strings to token ids and vice versa. We're gonna need these fellas when we feed training data into model or convert output matrices into words."
      ]
    },
    {
      "metadata": {
        "id": "fY0h_tuT4uTg",
        "colab_type": "code",
        "colab": {}
      },
      "cell_type": "code",
      "source": [
        "import numpy as np\n",
        "import matplotlib.pyplot as plt\n",
        "%matplotlib inline"
      ],
      "execution_count": 0,
      "outputs": []
    },
    {
      "metadata": {
        "id": "zfUtqfEp4uTk",
        "colab_type": "code",
        "colab": {
          "base_uri": "https://localhost:8080/",
          "height": 170
        },
        "outputId": "ca7c88a6-5cfa-43f2-acc7-b9243d2ef5d9"
      },
      "cell_type": "code",
      "source": [
        "data_inp = np.array(open('./train.bpe.ru', encoding='utf8').read().split('\\n'))\n",
        "data_out = np.array(open('./train.bpe.en', encoding='utf8').read().split('\\n'))\n",
        "\n",
        "from sklearn.model_selection import train_test_split\n",
        "train_inp, dev_inp, train_out, dev_out = train_test_split(data_inp, data_out, test_size=3000,\n",
        "                                                          random_state=42)\n",
        "for i in range(3):\n",
        "    print('inp:', train_inp[i])\n",
        "    print('out:', train_out[i], end='\\n\\n')"
      ],
      "execution_count": 5,
      "outputs": [
        {
          "output_type": "stream",
          "text": [
            "inp: на территории обустроена бесплатная частная парковка .\n",
            "out: free private parking is available on site .\n",
            "\n",
            "inp: кроме того , в 5 минутах ходьбы работают многочисленные бары и рестораны .\n",
            "out: guests can find many bars and restaurants within a 5 - minute walk .\n",
            "\n",
            "inp: отель san mi@@ gu@@ el расположен в центре мор@@ ели@@ и , в 750 метрах от главной площади города и кафедрального собора .\n",
            "out: hotel san miguel is located in central more@@ lia , 750 metres from the city ’ s main square and cathedral .\n",
            "\n"
          ],
          "name": "stdout"
        }
      ]
    },
    {
      "metadata": {
        "id": "e0i5xF7w4uTo",
        "colab_type": "code",
        "colab": {}
      },
      "cell_type": "code",
      "source": [
        "from utils import Vocab\n",
        "inp_voc = Vocab.from_lines(train_inp)\n",
        "out_voc = Vocab.from_lines(train_out)"
      ],
      "execution_count": 0,
      "outputs": []
    },
    {
      "metadata": {
        "id": "mZlp4hxX4uTs",
        "colab_type": "code",
        "colab": {
          "base_uri": "https://localhost:8080/",
          "height": 221
        },
        "outputId": "52af353b-f3bc-406e-dc1a-fe95156ef7a4"
      },
      "cell_type": "code",
      "source": [
        "# Here's how you cast lines into ids and backwards.\n",
        "batch_lines = sorted(train_inp, key=len)[5:10]\n",
        "batch_ids = inp_voc.to_matrix(batch_lines)\n",
        "batch_lines_restored = inp_voc.to_lines(batch_ids)\n",
        "\n",
        "print(\"lines\")\n",
        "print(batch_lines)\n",
        "print(\"\\nwords to ids (0 = bos, 1 = eos):\")\n",
        "print(batch_ids)\n",
        "print(\"\\nback to words\")\n",
        "print(batch_lines_restored)"
      ],
      "execution_count": 7,
      "outputs": [
        {
          "output_type": "stream",
          "text": [
            "lines\n",
            "['гостевой дом r .', 'до афин — 20 км .', 'работает боулинг .', 'оборудован балкон .', 'подключен wi - fi .']\n",
            "\n",
            "words to ids (0 = bos, 1 = eos):\n",
            "[[   0 2688 2943 1108   29    1    1    1]\n",
            " [   0 2922 1834 8035   59 3800   29    1]\n",
            " [   0 6030 2083   29    1    1    1    1]\n",
            " [   0 4927 1870   29    1    1    1    1]\n",
            " [   0 5549 1453   27  592   29    1    1]]\n",
            "\n",
            "back to words\n",
            "['гостевой дом r .', 'до афин — 20 км .', 'работает боулинг .', 'оборудован балкон .', 'подключен wi - fi .']\n"
          ],
          "name": "stdout"
        }
      ]
    },
    {
      "metadata": {
        "id": "rv1521sU4uTy",
        "colab_type": "text"
      },
      "cell_type": "markdown",
      "source": [
        "Draw source and translation length distributions to estimate the scope of the task."
      ]
    },
    {
      "metadata": {
        "id": "C7cSm9H-4uTz",
        "colab_type": "code",
        "colab": {
          "base_uri": "https://localhost:8080/",
          "height": 280
        },
        "outputId": "39e84318-7dd1-44f2-e60f-17be3b87cdb7"
      },
      "cell_type": "code",
      "source": [
        "plt.figure(figsize=[8, 4])\n",
        "plt.subplot(1, 2, 1)\n",
        "plt.title(\"source length\")\n",
        "plt.hist(list(map(len, map(str.split, train_inp))), bins=20);\n",
        "\n",
        "plt.subplot(1, 2, 2)\n",
        "plt.title(\"translation length\")\n",
        "plt.hist(list(map(len, map(str.split, train_out))), bins=20);"
      ],
      "execution_count": 8,
      "outputs": [
        {
          "output_type": "display_data",
          "data": {
            "image/png": "[encoded data removed]",
            "text/plain": [
              "<matplotlib.figure.Figure at 0x7f72cfcba400>"
            ]
          },
          "metadata": {
            "tags": []
          }
        }
      ]
    },
    {
      "metadata": {
        "id": "eAxwtBE_4uT4",
        "colab_type": "text"
      },
      "cell_type": "markdown",
      "source": [
        "### Encoder-decoder model\n",
        "\n",
        "The code below contas a template for a simple encoder-decoder model: single GRU encoder/decoder, no attention or anything. This model is implemented for you as a reference and a baseline for your homework assignment."
      ]
    },
    {
      "metadata": {
        "id": "4eFKFrbt4uT4",
        "colab_type": "code",
        "colab": {
          "base_uri": "https://localhost:8080/",
          "height": 34
        },
        "outputId": "6459cf05-71c8-46a0-8c40-abec44212f6e"
      },
      "cell_type": "code",
      "source": [
        "import tensorflow as tf\n",
        "import keras.layers as L\n",
        "from utils import infer_length, infer_mask"
      ],
      "execution_count": 9,
      "outputs": [
        {
          "output_type": "stream",
          "text": [
            "Using TensorFlow backend.\n"
          ],
          "name": "stderr"
        }
      ]
    },
    {
      "metadata": {
        "id": "FPe9pBUe4uT8",
        "colab_type": "code",
        "colab": {}
      },
      "cell_type": "code",
      "source": [
        "class BasicModel:\n",
        "    def __init__(self, name, inp_voc, out_voc, emb_size=64, hid_size=128):\n",
        "        \"\"\"\n",
        "        A simple encoder-decoder model\n",
        "        \"\"\"\n",
        "        self.name, self.inp_voc, self.out_voc = name, inp_voc, out_voc\n",
        "\n",
        "        with tf.variable_scope(name):\n",
        "            self.emb_inp = L.Embedding(len(inp_voc), emb_size)\n",
        "            self.emb_out = L.Embedding(len(out_voc), emb_size)\n",
        "            self.enc0 = tf.nn.rnn_cell.GRUCell(hid_size)\n",
        "\n",
        "            self.dec_start = L.Dense(hid_size)\n",
        "            self.dec0 = tf.nn.rnn_cell.GRUCell(hid_size)\n",
        "            self.logits = L.Dense(len(out_voc))\n",
        "\n",
        "            # prepare to translate_lines\n",
        "            self.inp = tf.placeholder('int32', [None, None])\n",
        "            self.initial_state = self.prev_state = self.encode(self.inp)\n",
        "            self.prev_tokens = tf.placeholder('int32', [None])\n",
        "            self.next_state, self.next_logits = self.decode(self.prev_state, self.prev_tokens)\n",
        "        \n",
        "        self.weights = tf.get_collection(tf.GraphKeys.TRAINABLE_VARIABLES, scope=name)\n",
        "\n",
        "    def encode(self, inp, **flags):\n",
        "        \"\"\"\n",
        "        Takes symbolic input sequence, computes initial state\n",
        "        :param inp: matrix of input tokens [batch, time]\n",
        "        :returns: initial decoder state tensors, one or many\n",
        "        \"\"\"\n",
        "        inp_lengths = infer_length(inp, self.inp_voc.eos_ix)\n",
        "        inp_emb = self.emb_inp(inp)\n",
        "        with tf.variable_scope('enc0'):\n",
        "            _, enc_last = tf.nn.dynamic_rnn(\n",
        "                              self.enc0, inp_emb,\n",
        "                              sequence_length=inp_lengths,\n",
        "                              dtype = inp_emb.dtype)\n",
        "        dec_start = self.dec_start(enc_last)\n",
        "        return [dec_start]\n",
        "\n",
        "    def decode(self, prev_state, prev_tokens, **flags):\n",
        "        \"\"\"\n",
        "        Takes previous decoder state and tokens, returns new state and logits for next tokens\n",
        "        :param prev_state: a list of previous decoder state tensors\n",
        "        :param prev_tokens: previous output tokens, an int vector of [batch_size]\n",
        "        :return: a list of next decoder state tensors, a tensor of logits [batch, n_tokens]\n",
        "        \"\"\"\n",
        "        [prev_dec] = prev_state\n",
        "        prev_emb = self.emb_out(prev_tokens[:,None])[:,0]\n",
        "        with tf.variable_scope('dec0'):\n",
        "            new_dec_out, new_dec_state = self.dec0(prev_emb, prev_dec)\n",
        "        output_logits = self.logits(new_dec_out)\n",
        "        return [new_dec_state], output_logits\n",
        "\n",
        "    def translate_lines(self, inp_lines, max_len=100):\n",
        "        \"\"\"\n",
        "        Translates a list of lines by greedily selecting most likely next token at each step\n",
        "        :returns: a list of output lines, a sequence of model states at each step\n",
        "        \"\"\"\n",
        "        state = sess.run(self.initial_state, {self.inp: inp_voc.to_matrix(inp_lines)})\n",
        "        outputs = [[self.out_voc.bos_ix] for _ in range(len(inp_lines))]\n",
        "        all_states = [state]\n",
        "        finished = [False] * len(inp_lines)\n",
        "\n",
        "        for t in range(max_len):\n",
        "            state, logits = sess.run([self.next_state, self.next_logits], {**dict(zip(self.prev_state, state)),\n",
        "                                           self.prev_tokens: [out_i[-1] for out_i in outputs]})\n",
        "            next_tokens = np.argmax(logits, axis=-1)\n",
        "            all_states.append(state)\n",
        "            for i in range(len(next_tokens)):\n",
        "                outputs[i].append(next_tokens[i])\n",
        "                finished[i] |= next_tokens[i] == self.out_voc.eos_ix\n",
        "        return out_voc.to_lines(outputs), all_states"
      ],
      "execution_count": 0,
      "outputs": []
    },
    {
      "metadata": {
        "id": "vnn4bDyx4uUI",
        "colab_type": "code",
        "colab": {}
      },
      "cell_type": "code",
      "source": [
        "tf.reset_default_graph()\n",
        "sess = tf.InteractiveSession()\n",
        "# ^^^ if you get \"variable *** already exists\": re-run this cell again - it will clear all tf operations youve 'built\n",
        "\n",
        "model = BasicModel('model', inp_voc, out_voc)\n",
        "sess.run(tf.global_variables_initializer())"
      ],
      "execution_count": 0,
      "outputs": []
    },
    {
      "metadata": {
        "id": "-i7-Qqds4uUM",
        "colab_type": "text"
      },
      "cell_type": "markdown",
      "source": [
        "### Training loss (2 points)\n",
        "\n",
        "Our training objetive is almost the same as it was for neural language models:\n",
        "$$ L = {\\frac1{|D|}} \\sum_{X, Y \\in D} \\sum_{y_t \\in Y} - \\log p(y_t \\mid y_1, \\dots, y_{t-1}, X, \\theta) $$\n",
        "\n",
        "where $|D|$ is the __total length of all sequences__, including BOS and first EOS, but excluding PAD."
      ]
    },
    {
      "metadata": {
        "id": "D2plr3ps4uUO",
        "colab_type": "code",
        "colab": {}
      },
      "cell_type": "code",
      "source": [
        "def compute_logits(model, inp, out, **flags):\n",
        "    \"\"\"\n",
        "    :param inp: input tokens matrix, int32[batch, time]\n",
        "    :param out: reference tokens matrix, int32[batch, time]\n",
        "    :returns: logits of shape [batch, time, voc_size]\n",
        "    \n",
        "    * logits must be a linear output of your neural network.\n",
        "    * logits [:, 0, :] should always predic BOS\n",
        "    * logits [:, -1, :] should be probabilities of last token in out\n",
        "    This function should NOT return logits predicted when taking out[:, -1] as y_prev\n",
        "    \"\"\"\n",
        "    batch_size = tf.shape(inp)[0]\n",
        "    \n",
        "    # Encode inp, get initial state\n",
        "    first_state = model.encode(inp)\n",
        "    \n",
        "    # initial logits: always predict BOS\n",
        "    first_logits = tf.log(tf.one_hot(tf.fill([batch_size], model.out_voc.bos_ix),\n",
        "                                     len(model.out_voc)) + 1e-30)\n",
        "    \n",
        "    # Decode step\n",
        "    def step(prev_state, y_prev):\n",
        "        # Given previous state, obtain next state and next token logits\n",
        "        prev_state, logits = prev_state\n",
        "        state, logits = model.decode(prev_state, y_prev)\n",
        "        return [state, logits]\n",
        "\n",
        "    # You can now use tf.scan to run step several times.\n",
        "    # use tf.transpose(out) as elems (to process one time-step at a time)\n",
        "    # docs: https://www.tensorflow.org/api_docs/python/tf/scan\n",
        "    \n",
        "    _, logits_seq = tf.scan(step, tf.transpose(out), [first_state, first_logits])\n",
        "    \n",
        "    # prepend first_logits to logits_seq\n",
        "    logits_seq = tf.concat([[first_logits], logits_seq[:-1]], axis=0)\n",
        "    \n",
        "    # Make sure you convert logits_seq from [time, batch, voc_size] to [batch, time, voc_size]\n",
        "    \n",
        "    logits_seq = tf.transpose(logits_seq,  [1, 0, 2])\n",
        "    \n",
        "    return logits_seq"
      ],
      "execution_count": 0,
      "outputs": []
    },
    {
      "metadata": {
        "id": "kcIwyrTX4uUR",
        "colab_type": "code",
        "colab": {}
      },
      "cell_type": "code",
      "source": [
        "from utils import load\n",
        "load(tf.trainable_variables(), 'dummy_checkpoint.npz')\n",
        "dummy_inp = tf.constant(inp_voc.to_matrix(train_inp[:3]))\n",
        "dummy_out = tf.constant(out_voc.to_matrix(train_out[:3]))\n",
        "dummy_logits = sess.run(compute_logits(model, dummy_inp, dummy_out))\n",
        "dummy_ref = np.array([-0.13257082, -0.11084784, -0.09024167, -0.14910498], dtype='float32')\n",
        "assert np.allclose(dummy_logits.sum(-1)[0, 1:5], dummy_ref)\n",
        "ref_shape = (dummy_out.shape[0], dummy_out.shape[1], len(out_voc))\n",
        "assert dummy_logits.shape == ref_shape, \"Your logits shape should be {} but got {}\".format(dummy_logits.shape, ref_shape)\n",
        "assert all(dummy_logits[:, 0].argmax(-1) == out_voc.bos_ix), \"first step must always be BOS\""
      ],
      "execution_count": 0,
      "outputs": []
    },
    {
      "metadata": {
        "scrolled": true,
        "id": "MTU4jj1M4uUU",
        "colab_type": "code",
        "colab": {}
      },
      "cell_type": "code",
      "source": [
        "from utils import select_values_over_last_axis\n",
        "\n",
        "def compute_loss(model, inp, out, **flags):\n",
        "    \"\"\"\n",
        "    Compute loss (float32 scalar) as in the formula above\n",
        "    :param inp: input tokens matrix, int32[batch, time]\n",
        "    :param out: reference tokens matrix, int32[batch, time]\n",
        "    \n",
        "    In order to pass the tests, your function should\n",
        "    * include loss at first EOS but not the subsequent ones\n",
        "    * divide sum of losses by a sum of input lengths (use infer_length or infer_mask)\n",
        "    \"\"\"\n",
        "    mask = infer_mask(out, out_voc.eos_ix)    \n",
        "    logits_seq = compute_logits(model, inp, out, **flags)\n",
        "    \n",
        "    # Compute loss as per instructions above\n",
        "    logp_out = select_values_over_last_axis(tf.nn.log_softmax(logits_seq, -1), out)\n",
        "    print(mask, logp_out)\n",
        "    return -tf.reduce_sum(logp_out*mask)/tf.reduce_sum(mask)"
      ],
      "execution_count": 0,
      "outputs": []
    },
    {
      "metadata": {
        "id": "5c5rFGiJ4uUY",
        "colab_type": "code",
        "colab": {
          "base_uri": "https://localhost:8080/",
          "height": 51
        },
        "outputId": "13c1dacf-c564-4756-db54-6616c9b4ca80"
      },
      "cell_type": "code",
      "source": [
        "dummy_loss = sess.run(compute_loss(model, dummy_inp, dummy_out))\n",
        "print(\"Loss:\", dummy_loss)\n",
        "assert np.allclose(dummy_loss, 8.425, rtol=0.1, atol=0.1), \"We're sorry for your loss\""
      ],
      "execution_count": 15,
      "outputs": [
        {
          "output_type": "stream",
          "text": [
            "Tensor(\"SequenceMask/Cast_1:0\", shape=(3, 24), dtype=float32) Tensor(\"GatherNd:0\", shape=(3, 24), dtype=float32)\n",
            "Loss: 8.424398\n"
          ],
          "name": "stdout"
        }
      ]
    },
    {
      "metadata": {
        "id": "DrzSM5oF4uUc",
        "colab_type": "text"
      },
      "cell_type": "markdown",
      "source": [
        "### Evaluation: BLEU\n",
        "\n",
        "Machine translation is commonly evaluated with [BLEU](https://en.wikipedia.org/wiki/BLEU) score. This metric simply computes which fraction of predicted n-grams is actually present in the reference translation. It does so for n=1,2,3 and 4 and computes the geometric average with penalty if translation is shorter than reference.\n",
        "\n",
        "While BLEU [has many drawbacks](http://www.cs.jhu.edu/~ccb/publications/re-evaluating-the-role-of-bleu-in-mt-research.pdf), it still remains the most commonly used metric and one of the simplest to compute."
      ]
    },
    {
      "metadata": {
        "id": "LnNxT1Ud4uUc",
        "colab_type": "code",
        "colab": {}
      },
      "cell_type": "code",
      "source": [
        "from nltk.translate.bleu_score import corpus_bleu\n",
        "def compute_bleu(model, inp_lines, out_lines, bpe_sep='@@ ', **flags):\n",
        "    \"\"\" Estimates corpora-level BLEU score of model's translations given inp and reference out \"\"\"\n",
        "    translations, _ = model.translate_lines(inp_lines, **flags)\n",
        "    # Note: if you experience out-of-memory error, split input lines into batches and translate separately\n",
        "    return corpus_bleu([[ref] for ref in out_lines], translations) * 100"
      ],
      "execution_count": 0,
      "outputs": []
    },
    {
      "metadata": {
        "id": "LalLpvyn4uUg",
        "colab_type": "code",
        "colab": {
          "base_uri": "https://localhost:8080/",
          "height": 34
        },
        "outputId": "80f5443e-4843-481a-d1d2-a646372b64f3"
      },
      "cell_type": "code",
      "source": [
        "compute_bleu(model, dev_inp, dev_out)"
      ],
      "execution_count": 17,
      "outputs": [
        {
          "output_type": "execute_result",
          "data": {
            "text/plain": [
              "4.764888431368293"
            ]
          },
          "metadata": {
            "tags": []
          },
          "execution_count": 17
        }
      ]
    },
    {
      "metadata": {
        "id": "5GA3HeJ64uUk",
        "colab_type": "text"
      },
      "cell_type": "markdown",
      "source": [
        "### Training loop\n",
        "\n",
        "Training encoder-decoder models isn't that different from any other models: sample batches, compute loss, backprop and update"
      ]
    },
    {
      "metadata": {
        "id": "aO81uwnw4uUl",
        "colab_type": "code",
        "colab": {
          "base_uri": "https://localhost:8080/",
          "height": 34
        },
        "outputId": "96b6d4ad-24ab-4a4f-d47a-1df652c06c1c"
      },
      "cell_type": "code",
      "source": [
        "inp = tf.placeholder('int32', [None, None])\n",
        "out = tf.placeholder('int32', [None, None])\n",
        "\n",
        "loss = compute_loss(model, inp, out)\n",
        "\n",
        "train_step = tf.train.AdamOptimizer().minimize(loss)"
      ],
      "execution_count": 18,
      "outputs": [
        {
          "output_type": "stream",
          "text": [
            "Tensor(\"SequenceMask_1/Cast_1:0\", shape=(?, ?), dtype=float32) Tensor(\"GatherNd_1:0\", shape=(?, ?), dtype=float32)\n"
          ],
          "name": "stdout"
        }
      ]
    },
    {
      "metadata": {
        "scrolled": false,
        "id": "ldfO_3HW4uUp",
        "colab_type": "code",
        "colab": {}
      },
      "cell_type": "code",
      "source": [
        "from IPython.display import clear_output\n",
        "from tqdm import tqdm, trange\n",
        "metrics = {'train_loss': [], 'dev_bleu': [] }\n",
        "\n",
        "sess.run(tf.global_variables_initializer())\n",
        "batch_size = 32"
      ],
      "execution_count": 0,
      "outputs": []
    },
    {
      "metadata": {
        "scrolled": true,
        "id": "GuJViQ0z4uUs",
        "colab_type": "code",
        "colab": {
          "base_uri": "https://localhost:8080/",
          "height": 314
        },
        "outputId": "e336b50b-6528-4813-d0aa-2cc091e36017"
      },
      "cell_type": "code",
      "source": [
        "for _ in trange(25000):\n",
        "    step = len(metrics['train_loss']) + 1\n",
        "    batch_ix = np.random.randint(len(train_inp), size=batch_size)\n",
        "    feed_dict = {\n",
        "        inp: inp_voc.to_matrix(train_inp[batch_ix]),\n",
        "        out: out_voc.to_matrix(train_out[batch_ix]),\n",
        "    }\n",
        "    \n",
        "    loss_t, _ = sess.run([loss, train_step], feed_dict)\n",
        "    metrics['train_loss'].append((step, loss_t))\n",
        "    \n",
        "    if step % 100 == 0:\n",
        "        metrics['dev_bleu'].append((step, compute_bleu(model, dev_inp, dev_out)))\n",
        "        \n",
        "        clear_output(True)\n",
        "        plt.figure(figsize=(12,4))\n",
        "        for i, (name, history) in enumerate(sorted(metrics.items())):\n",
        "            plt.subplot(1, len(metrics), i + 1)\n",
        "            plt.title(name)\n",
        "            plt.plot(*zip(*history))\n",
        "            plt.grid()\n",
        "        plt.show()\n",
        "        print(\"Mean loss=%.3f\" % np.mean(metrics['train_loss'][-10:], axis=0)[1], flush=True)\n",
        "        \n",
        "# Note: it's okay if bleu oscillates up and down as long as it gets better on average over long term (e.g. 5k batches)"
      ],
      "execution_count": 21,
      "outputs": [
        {
          "output_type": "display_data",
          "data": {
            "image/png": "[encoded data removed]",
            "text/plain": [
              "<matplotlib.figure.Figure at 0x7f0455121588>"
            ]
          },
          "metadata": {
            "tags": []
          }
        },
        {
          "output_type": "stream",
          "text": [
            "Mean loss=1.730\n"
          ],
          "name": "stdout"
        },
        {
          "output_type": "stream",
          "text": [
            "\r100%|██████████| 25000/25000 [1:50:37<00:00,  1.85s/it]\n"
          ],
          "name": "stderr"
        }
      ]
    },
    {
      "metadata": {
        "id": "cokmmjDnZ1bR",
        "colab_type": "code",
        "colab": {
          "base_uri": "https://localhost:8080/",
          "height": 34
        },
        "outputId": "23cd1fbd-4960-4b78-f886-af3be031a510"
      },
      "cell_type": "code",
      "source": [
        "np.mean(metrics['dev_bleu'][-10:], axis=0)[1]"
      ],
      "execution_count": 22,
      "outputs": [
        {
          "output_type": "execute_result",
          "data": {
            "text/plain": [
              "47.067509955402066"
            ]
          },
          "metadata": {
            "tags": []
          },
          "execution_count": 22
        }
      ]
    },
    {
      "metadata": {
        "id": "irOeoYh94uUw",
        "colab_type": "code",
        "colab": {}
      },
      "cell_type": "code",
      "source": [
        "assert np.mean(metrics['dev_bleu'][-10:], axis=0)[1] > 35, \"We kind of need a higher bleu BLEU from you. Kind of right now.\""
      ],
      "execution_count": 0,
      "outputs": []
    },
    {
      "metadata": {
        "id": "w0jArvmd4uU0",
        "colab_type": "code",
        "colab": {
          "base_uri": "https://localhost:8080/",
          "height": 343
        },
        "outputId": "39497c38-77f1-484a-c8fb-455f2e3aa3db"
      },
      "cell_type": "code",
      "source": [
        "for inp_line, trans_line in zip(dev_inp[::500], model.translate_lines(dev_inp[::500])[0]):\n",
        "    print(inp_line)\n",
        "    print(trans_line)\n",
        "    print()"
      ],
      "execution_count": 22,
      "outputs": [
        {
          "output_type": "stream",
          "text": [
            "в распоряжении гостей общая кухня и общая гостиная .\n",
            "there is a shared kitchen at the property and a shared kitchen is also available .\n",
            "\n",
            "кроме того , предоставляется прокат велосипедов , услуги трансфера и бесплатная парковка .\n",
            "other facilities offered include free parking and a bicycle rental .\n",
            "\n",
            "расстояние до города ки@@ сси@@ м@@ ми составляет 26 км .\n",
            "home - out is 42 km from the property .\n",
            "\n",
            "апартаменты в пент@@ хаусе с общим открытым бассейном , садом , кондиционером и террасой для загара расположены в 5 минутах ходьбы от пляжа на курорте ка@@ бо - рой .\n",
            "featuring a terrace with sea views , the nearest beach and the nearest beach villa is located in rio de janeiro . the property is 1 . 5 km away from the beach .\n",
            "\n",
            "апартаменты mo@@ s@@ co@@ w point - loft red square находятся в москве , в 200 метрах от большого театра .\n",
            "apartment rustaveli theatre is 700 metres from apartment at moscow city centre .\n",
            "\n",
            "в вашем распоряжении собственная ванная комната с душем и полотенцами .\n",
            "featuring a shower , private bathrooms also come with towels .\n",
            "\n"
          ],
          "name": "stdout"
        }
      ]
    },
    {
      "metadata": {
        "id": "npq02mZ_4uU4",
        "colab_type": "text"
      },
      "cell_type": "markdown",
      "source": [
        "### Your Attention Required (4 points)\n",
        "\n",
        "In this section we want you to improve over the basic model by implementing a simple attention mechanism.\n",
        "\n",
        "This is gonna be a two-parter: building the __attention layer__ and using it for an __attentive seq2seq model__."
      ]
    },
    {
      "metadata": {
        "id": "Dd0w886u4uU5",
        "colab_type": "text"
      },
      "cell_type": "markdown",
      "source": [
        "### Attention layer\n",
        "\n",
        "Here you will have to implement a layer that computes a simple additive attention:\n",
        "\n",
        "Given encoder sequence $ h^e_0, h^e_1, h^e_2, ..., h^e_T$ and a single decoder state $h^d$,\n",
        "\n",
        "* Compute logits with a 2-layer neural network\n",
        "$$a_t = linear_{out}(tanh(linear_{e}(h^e_t) + linear_{d}(h_d)))$$\n",
        "* Get probabilities from logits, \n",
        "$$ p_t = {{e ^ {a_t}} \\over { \\sum_\\tau e^{a_\\tau} }} $$\n",
        "\n",
        "* Add up encoder states with probabilities to get __attention response__\n",
        "$$ attn = \\sum_t p_t \\cdot h^e_t $$\n",
        "\n",
        "You can learn more about attention layers in the leture slides or [from this post](https://distill.pub/2016/augmented-rnns/)."
      ]
    },
    {
      "metadata": {
        "id": "TMAxSjjc4uU6",
        "colab_type": "code",
        "colab": {}
      },
      "cell_type": "code",
      "source": [
        "class AttentionLayer:\n",
        "    def __init__(self, name, enc_size, dec_size, hid_size, activ=tf.tanh,):\n",
        "        \"\"\" A layer that computes additive attention response and weights \"\"\"\n",
        "        self.name = name\n",
        "        self.enc_size = enc_size # num units in encoder state\n",
        "        self.dec_size = dec_size # num units in decoder state\n",
        "        self.hid_size = hid_size # attention layer hidden units\n",
        "        self.activ = activ       # attention layer hidden nonlinearity\n",
        "\n",
        "        with tf.variable_scope(name):\n",
        "            # YOUR CODE - create layer variables\n",
        "            self.linear_d = L.Dense(hid_size)\n",
        "            self.linear_e = L.Dense(hid_size)\n",
        "            self.linear_out = L.Dense(1)\n",
        "\n",
        "    def __call__(self, enc, dec, inp_mask):\n",
        "        \"\"\"\n",
        "        Computes attention response and weights\n",
        "        :param enc: encoder activation sequence, float32[batch_size, ninp, enc_size]\n",
        "        :param dec: single decoder state used as \"query\", float32[batch_size, dec_size]\n",
        "        :param inp_mask: mask on enc activatons (0 after first eos), float32 [batch_size, ninp]\n",
        "        :returns: attn[batch_size, enc_size], probs[batch_size, ninp]\n",
        "            - attn - attention response vector (weighted sum of enc)\n",
        "            - probs - attention weights after softmax\n",
        "        \"\"\"\n",
        "        with tf.variable_scope(self.name):\n",
        "            \n",
        "            # Compute logits\n",
        "            res = self.linear_e(enc) + self.linear_d(dec[:, None, :])\n",
        "            logits = self.linear_out(self.activ(res))[..., 0]\n",
        "            \n",
        "            # Apply mask - if mask is 0, logits should be -inf or -1e9\n",
        "            # You may need tf.where\n",
        "            logits = inp_mask*logits + (1 - inp_mask)*(-1e9)\n",
        "            \n",
        "            # Compute attention probabilities (softmax)\n",
        "            probs = tf.nn.softmax(logits)\n",
        "            \n",
        "            # Compute attention response using enc and probs\n",
        "            attn = tf.reduce_sum(probs[..., None]*enc, axis=1)\n",
        "            \n",
        "            return attn, probs"
      ],
      "execution_count": 0,
      "outputs": []
    },
    {
      "metadata": {
        "id": "fmKItD5N4uU_",
        "colab_type": "code",
        "colab": {}
      },
      "cell_type": "code",
      "source": [
        "import numpy as np\n",
        "enc_size = 32\n",
        "dec_size = 16\n",
        "hid_size = 64\n",
        "layer = AttentionLayer('test_layer', enc_size, dec_size, hid_size)\n",
        "\n",
        "batch_size = 8\n",
        "ninp = 10\n",
        "enc = np.random.randn(batch_size, ninp, enc_size)\n",
        "dec = np.random.randn(batch_size, dec_size)\n",
        "inp_mask = np.random.randn(batch_size, ninp)\n",
        "\n",
        "attn, probs = layer(tf.convert_to_tensor(enc, dtype='float'), tf.convert_to_tensor(dec, dtype='float'), tf.convert_to_tensor(inp_mask, dtype='float'))"
      ],
      "execution_count": 0,
      "outputs": []
    },
    {
      "metadata": {
        "id": "OTi0raMh4uVD",
        "colab_type": "text"
      },
      "cell_type": "markdown",
      "source": [
        "### Seq2seq model with attention\n",
        "\n",
        "You can now use the attention layer to build a network. The simplest way to implement attention is to use it in decoder phase:\n",
        "![img](https://i.imgur.com/6fKHlHb.png)\n",
        "_image from distill.pub [article](https://distill.pub/2016/augmented-rnns/)_\n",
        "\n",
        "On every step, use __previous__ decoder state to obtain attention response. Then feed concat this response to the inputs of next attetion layer.\n",
        "\n",
        "The key implementation detail here is __model state__. Put simply, you can add any tensor into the list of `encode` outputs. You will then have access to them at each `decode` step. This may include:\n",
        "* Last RNN hidden states (as in basic model)\n",
        "* The whole sequence of encoder outputs (to attend to) and mask\n",
        "* Attention probabilities (to visualize)\n",
        "\n",
        "_There are, of course, alternative ways to wire attention into your network and different kinds of attention. Take a look at [this](https://arxiv.org/abs/1609.08144), [this](https://arxiv.org/abs/1706.03762) and [this](https://arxiv.org/abs/1808.03867) for ideas. And for image captioning/im2latex there's [visual attention](https://arxiv.org/abs/1502.03044)_"
      ]
    },
    {
      "metadata": {
        "id": "2bXa1Efj4uVE",
        "colab_type": "code",
        "colab": {}
      },
      "cell_type": "code",
      "source": [
        "class AttentiveModel(BasicModel):\n",
        "    def __init__(self, name, inp_voc, out_voc,\n",
        "                 emb_size=64, hid_size=128, attn_size=128):\n",
        "        \"\"\" Translation model that uses attention. See instructions above. \"\"\"\n",
        "        self.name = name\n",
        "        self.inp_voc = inp_voc\n",
        "        self.out_voc = out_voc\n",
        "\n",
        "        with tf.variable_scope(name):\n",
        "            \n",
        "            # YOUR CODE - define model layers\n",
        "            \n",
        "            self.emb_inp = L.Embedding(len(inp_voc), emb_size)\n",
        "            self.emb_out = L.Embedding(len(out_voc), emb_size)\n",
        "            self.enc0 = L.CuDNNGRU(hid_size, return_sequences=True, return_state=True)\n",
        "\n",
        "            self.attention = AttentionLayer('attention', hid_size, hid_size, attn_size)\n",
        "            \n",
        "            self.dec_start = L.Dense(hid_size)\n",
        "            self.dec0 = L.CuDNNGRU(hid_size, return_sequences=True, return_state=True)\n",
        "            self.logits = L.Dense(len(out_voc))\n",
        "            \n",
        "            # END OF YOUR CODE\n",
        "            \n",
        "            # prepare to translate_lines\n",
        "            self.inp = tf.placeholder('int32', [None, None])\n",
        "            self.initial_state = self.prev_state = self.encode(self.inp)\n",
        "            self.prev_tokens = tf.placeholder('int32', [None])\n",
        "            self.next_state, self.next_logits = self.decode(self.prev_state, self.prev_tokens)\n",
        "\n",
        "        self.weights = tf.get_collection(tf.GraphKeys.TRAINABLE_VARIABLES, scope=name)\n",
        "\n",
        "    def encode(self, inp, **flags):\n",
        "        \"\"\"\n",
        "        Takes symbolic input sequence, computes initial state\n",
        "        :param inp: matrix of input tokens [batch, time]\n",
        "        :return: a list of initial decoder state tensors\n",
        "        \"\"\"\n",
        "        \n",
        "        # encode input sequence, create initial decoder states\n",
        "        inp_emb = self.emb_inp(inp)\n",
        "        enc_states, enc_last = self.enc0(inp_emb)\n",
        "        dec_start = self.dec_start(enc_last)\n",
        "        \n",
        "        # apply attention layer from initial decoder hidden state\n",
        "        inp_lengths = infer_length(inp, self.inp_voc.eos_ix)\n",
        "        mask = tf.sequence_mask(inp_lengths, dtype=tf.float32)\n",
        "        _, first_attn_probas = self.attention(enc_states, dec_start, mask)\n",
        " \n",
        "        \n",
        "        # Build first state: include\n",
        "        # * initial states for decoder recurrent layers\n",
        "        # * encoder sequence and encoder attn mask (for attention)\n",
        "        # * make sure that last state item is attention probabilities tensor\n",
        "        \n",
        "        first_state = [dec_start, enc_states, mask, first_attn_probas]\n",
        "        return first_state\n",
        "\n",
        "    def decode(self, prev_state, prev_tokens, **flags):\n",
        "        \"\"\"\n",
        "        Takes previous decoder state and tokens, returns new state and logits\n",
        "        :param prev_state: a list of previous decoder state tensors\n",
        "        :param prev_tokens: previous output tokens, an int vector of [batch_size]\n",
        "        :return: a list of next decoder state tensors, a tensor of logits [batch,n_tokens]\n",
        "        \"\"\"\n",
        "        \n",
        "        # Unpack your state: you will get tensors in the same order that you've packed in encode\n",
        "        [dec_prev_state, enc_states, mask, prev_attn_probas] = prev_state\n",
        "        \n",
        "        \n",
        "        # Perform decoder step\n",
        "        # * predict next attn response and attn probas given previous decoder state\n",
        "        # * use prev token embedding and attn response to update decoder states (concatenate and feed into decoder cell)\n",
        "        # * predict logits\n",
        "        \n",
        "        next_attn_response, next_attn_probas = self.attention(enc_states, dec_prev_state, mask)\n",
        " \n",
        "        prev_emb = self.emb_out(prev_tokens)\n",
        "        concat_emb = tf.concat([next_attn_response, prev_emb], axis=-1)\n",
        "        new_dec_out, new_dec_state = self.dec0(concat_emb[:, None, :], dec_prev_state)\n",
        "        output_logits = self.logits(new_dec_out)[:, 0, :]\n",
        "        \n",
        "        # Pack new state:\n",
        "        # * replace previous decoder state with next one\n",
        "        # * copy encoder sequence and mask from prev_state\n",
        "        # * append new attention probas\n",
        "        next_state = [new_dec_state, enc_states, mask, next_attn_probas]\n",
        "        return next_state, output_logits\n"
      ],
      "execution_count": 0,
      "outputs": []
    },
    {
      "metadata": {
        "id": "4G64pxxZ4uVI",
        "colab_type": "code",
        "colab": {
          "base_uri": "https://localhost:8080/",
          "height": 71
        },
        "outputId": "5a920464-7057-421b-ea9e-0915d337cbfa"
      },
      "cell_type": "code",
      "source": [
        "# WARNING! this cell will clear your TF graph from the regular model. All trained variables will be gone!\n",
        "tf.reset_default_graph()\n",
        "sess = tf.InteractiveSession()\n",
        "model = AttentiveModel('model_attn', inp_voc, out_voc)"
      ],
      "execution_count": 23,
      "outputs": [
        {
          "output_type": "stream",
          "text": [
            "/usr/local/lib/python3.6/dist-packages/tensorflow/python/client/session.py:1662: UserWarning: An interactive session is already active. This can cause out-of-memory errors in some cases. You must explicitly call `InteractiveSession.close()` to release resources held by the other session(s).\n",
            "  warnings.warn('An interactive session is already active. This can '\n"
          ],
          "name": "stderr"
        }
      ]
    },
    {
      "metadata": {
        "id": "iAn5pXYB4uVM",
        "colab_type": "text"
      },
      "cell_type": "markdown",
      "source": [
        "### Training attentive model\n",
        "\n",
        "We'll reuse the infrastructure you've built for the regular model. I hope you didn't hard-code anything :)"
      ]
    },
    {
      "metadata": {
        "id": "ecvRSNn64uVN",
        "colab_type": "code",
        "colab": {
          "base_uri": "https://localhost:8080/",
          "height": 34
        },
        "outputId": "2fb33819-8015-4382-86c5-970e06cab046"
      },
      "cell_type": "code",
      "source": [
        "inp = tf.placeholder('int32', [None, None])\n",
        "out = tf.placeholder('int32', [None, None])\n",
        "\n",
        "loss = compute_loss(model, inp, out)\n",
        "train_step = tf.train.AdamOptimizer().minimize(loss)"
      ],
      "execution_count": 24,
      "outputs": [
        {
          "output_type": "stream",
          "text": [
            "Tensor(\"SequenceMask/Cast_1:0\", shape=(?, ?), dtype=float32) Tensor(\"GatherNd:0\", shape=(?, ?), dtype=float32)\n"
          ],
          "name": "stdout"
        }
      ]
    },
    {
      "metadata": {
        "id": "Dw6WU3yY4uVS",
        "colab_type": "code",
        "colab": {}
      },
      "cell_type": "code",
      "source": [
        "metrics = {'train_loss': [], 'dev_bleu': []}\n",
        "sess.run(tf.global_variables_initializer())\n",
        "batch_size = 32"
      ],
      "execution_count": 0,
      "outputs": []
    },
    {
      "metadata": {
        "id": "FJAHIHDs4uVV",
        "colab_type": "code",
        "colab": {
          "base_uri": "https://localhost:8080/",
          "height": 314
        },
        "outputId": "d2c5d121-1cc1-4141-96ce-f515a727ebbc"
      },
      "cell_type": "code",
      "source": [
        "for _ in trange(25000):\n",
        "    step = len(metrics['train_loss']) + 1\n",
        "    batch_ix = np.random.randint(len(train_inp), size=batch_size)\n",
        "    feed_dict = {\n",
        "        inp: inp_voc.to_matrix(train_inp[batch_ix]),\n",
        "        out: out_voc.to_matrix(train_out[batch_ix]),\n",
        "    }\n",
        "    \n",
        "    loss_t, _ = sess.run([loss, train_step], feed_dict)\n",
        "    metrics['train_loss'].append((step, loss_t))\n",
        "    \n",
        "    if step % 100 == 0:\n",
        "        metrics['dev_bleu'].append((step, compute_bleu(model, dev_inp, dev_out)))\n",
        "        \n",
        "        clear_output(True)\n",
        "        plt.figure(figsize=(12,4))\n",
        "        for i, (name, history) in enumerate(sorted(metrics.items())):\n",
        "            plt.subplot(1, len(metrics), i + 1)\n",
        "            plt.title(name)\n",
        "            plt.plot(*zip(*history))\n",
        "            plt.grid()\n",
        "        plt.show()\n",
        "        print(\"Mean loss=%.3f\" % np.mean(metrics['train_loss'][-10:], axis=0)[1], flush=True)\n",
        "\n",
        "# Your model may train slower than the basic one. check that it's at least >30 bleu by 5k steps\n",
        "# Also: you don't have to train for 25k steps. It was chosen by a squirrel."
      ],
      "execution_count": 29,
      "outputs": [
        {
          "output_type": "display_data",
          "data": {
            "image/png": "[encoded data removed]",
            "text/plain": [
              "<matplotlib.figure.Figure at 0x7f101ee7a5c0>"
            ]
          },
          "metadata": {
            "tags": []
          }
        },
        {
          "output_type": "stream",
          "text": [
            "Mean loss=1.414\n"
          ],
          "name": "stdout"
        },
        {
          "output_type": "stream",
          "text": [
            "\r100%|██████████| 25000/25000 [2:21:00<00:00,  3.03s/it]\n"
          ],
          "name": "stderr"
        }
      ]
    },
    {
      "metadata": {
        "id": "mJGr3WPs4uVa",
        "colab_type": "code",
        "colab": {}
      },
      "cell_type": "code",
      "source": [
        "assert np.mean(metrics['dev_bleu'][-10:], axis=0)[1] > 45, \"Something might be wrong with the model...\""
      ],
      "execution_count": 0,
      "outputs": []
    },
    {
      "metadata": {
        "id": "6bk9qr6M4b87",
        "colab_type": "code",
        "colab": {
          "base_uri": "https://localhost:8080/",
          "height": 217
        },
        "outputId": "cff58fc0-303d-42ce-ac0e-b78f5335ed90"
      },
      "cell_type": "code",
      "source": [
        "!pip3 install bokeh\n",
        "from bokeh.io import output_notebook\n",
        "output_notebook()"
      ],
      "execution_count": 36,
      "outputs": [
        {
          "output_type": "stream",
          "text": [
            "Requirement already satisfied: bokeh in /usr/local/lib/python3.6/dist-packages (0.13.0)\n",
            "Requirement already satisfied: python-dateutil>=2.1 in /usr/local/lib/python3.6/dist-packages (from bokeh) (2.5.3)\n",
            "Requirement already satisfied: Jinja2>=2.7 in /usr/local/lib/python3.6/dist-packages (from bokeh) (2.10)\n",
            "Requirement already satisfied: tornado>=4.3 in /usr/local/lib/python3.6/dist-packages (from bokeh) (4.5.3)\n",
            "Requirement already satisfied: PyYAML>=3.10 in /usr/local/lib/python3.6/dist-packages (from bokeh) (3.13)\n",
            "Requirement already satisfied: packaging>=16.8 in /usr/local/lib/python3.6/dist-packages (from bokeh) (18.0)\n",
            "Requirement already satisfied: six>=1.5.2 in /usr/local/lib/python3.6/dist-packages (from bokeh) (1.11.0)\n",
            "Requirement already satisfied: numpy>=1.7.1 in /usr/local/lib/python3.6/dist-packages (from bokeh) (1.14.6)\n",
            "Requirement already satisfied: MarkupSafe>=0.23 in /usr/local/lib/python3.6/dist-packages (from Jinja2>=2.7->bokeh) (1.0)\n",
            "Requirement already satisfied: pyparsing>=2.0.2 in /usr/local/lib/python3.6/dist-packages (from packaging>=16.8->bokeh) (2.2.2)\n"
          ],
          "name": "stdout"
        },
        {
          "output_type": "display_data",
          "data": {
            "text/html": [
              "\n",
              "    <div class=\"bk-root\">\n",
              "        <a href=\"https://bokeh.pydata.org\" target=\"_blank\" class=\"bk-logo bk-logo-small bk-logo-notebook\"></a>\n",
              "        <span id=\"8e58f4ac-2ee5-40ee-98d8-0913ca382ad0\">Loading BokehJS ...</span>\n",
              "    </div>"
            ]
          },
          "metadata": {
            "tags": []
          }
        },
        {
          "output_type": "display_data",
          "data": {
            "application/javascript": [
              "\n",
              "(function(root) {\n",
              "  function now() {\n",
              "    return new Date();\n",
              "  }\n",
              "\n",
              "  var force = true;\n",
              "\n",
              "  if (typeof (root._bokeh_onload_callbacks) === \"undefined\" || force === true) {\n",
              "    root._bokeh_onload_callbacks = [];\n",
              "    root._bokeh_is_loading = undefined;\n",
              "  }\n",
              "\n",
              "  var JS_MIME_TYPE = 'application/javascript';\n",
              "  var HTML_MIME_TYPE = 'text/html';\n",
              "  var EXEC_MIME_TYPE = 'application/vnd.bokehjs_exec.v0+json';\n",
              "  var CLASS_NAME = 'output_bokeh rendered_html';\n",
              "\n",
              "  /**\n",
              "   * Render data to the DOM node\n",
              "   */\n",
              "  function render(props, node) {\n",
              "    var script = document.createElement(\"script\");\n",
              "    node.appendChild(script);\n",
              "  }\n",
              "\n",
              "  /**\n",
              "   * Handle when an output is cleared or removed\n",
              "   */\n",
              "  function handleClearOutput(event, handle) {\n",
              "    var cell = handle.cell;\n",
              "\n",
              "    var id = cell.output_area._bokeh_element_id;\n",
              "    var server_id = cell.output_area._bokeh_server_id;\n",
              "    // Clean up Bokeh references\n",
              "    if (id != null && id in Bokeh.index) {\n",
              "      Bokeh.index[id].model.document.clear();\n",
              "      delete Bokeh.index[id];\n",
              "    }\n",
              "\n",
              "    if (server_id !== undefined) {\n",
              "      // Clean up Bokeh references\n",
              "      var cmd = \"from bokeh.io.state import curstate; print(curstate().uuid_to_server['\" + server_id + \"'].get_sessions()[0].document.roots[0]._id)\";\n",
              "      cell.notebook.kernel.execute(cmd, {\n",
              "        iopub: {\n",
              "          output: function(msg) {\n",
              "            var id = msg.content.text.trim();\n",
              "            if (id in Bokeh.index) {\n",
              "              Bokeh.index[id].model.document.clear();\n",
              "              delete Bokeh.index[id];\n",
              "            }\n",
              "          }\n",
              "        }\n",
              "      });\n",
              "      // Destroy server and session\n",
              "      var cmd = \"import bokeh.io.notebook as ion; ion.destroy_server('\" + server_id + \"')\";\n",
              "      cell.notebook.kernel.execute(cmd);\n",
              "    }\n",
              "  }\n",
              "\n",
              "  /**\n",
              "   * Handle when a new output is added\n",
              "   */\n",
              "  function handleAddOutput(event, handle) {\n",
              "    var output_area = handle.output_area;\n",
              "    var output = handle.output;\n",
              "\n",
              "    // limit handleAddOutput to display_data with EXEC_MIME_TYPE content only\n",
              "    if ((output.output_type != \"display_data\") || (!output.data.hasOwnProperty(EXEC_MIME_TYPE))) {\n",
              "      return\n",
              "    }\n",
              "\n",
              "    var toinsert = output_area.element.find(\".\" + CLASS_NAME.split(' ')[0]);\n",
              "\n",
              "    if (output.metadata[EXEC_MIME_TYPE][\"id\"] !== undefined) {\n",
              "      toinsert[toinsert.length - 1].firstChild.textContent = output.data[JS_MIME_TYPE];\n",
              "      // store reference to embed id on output_area\n",
              "      output_area._bokeh_element_id = output.metadata[EXEC_MIME_TYPE][\"id\"];\n",
              "    }\n",
              "    if (output.metadata[EXEC_MIME_TYPE][\"server_id\"] !== undefined) {\n",
              "      var bk_div = document.createElement(\"div\");\n",
              "      bk_div.innerHTML = output.data[HTML_MIME_TYPE];\n",
              "      var script_attrs = bk_div.children[0].attributes;\n",
              "      for (var i = 0; i < script_attrs.length; i++) {\n",
              "        toinsert[toinsert.length - 1].firstChild.setAttribute(script_attrs[i].name, script_attrs[i].value);\n",
              "      }\n",
              "      // store reference to server id on output_area\n",
              "      output_area._bokeh_server_id = output.metadata[EXEC_MIME_TYPE][\"server_id\"];\n",
              "    }\n",
              "  }\n",
              "\n",
              "  function register_renderer(events, OutputArea) {\n",
              "\n",
              "    function append_mime(data, metadata, element) {\n",
              "      // create a DOM node to render to\n",
              "      var toinsert = this.create_output_subarea(\n",
              "        metadata,\n",
              "        CLASS_NAME,\n",
              "        EXEC_MIME_TYPE\n",
              "      );\n",
              "      this.keyboard_manager.register_events(toinsert);\n",
              "      // Render to node\n",
              "      var props = {data: data, metadata: metadata[EXEC_MIME_TYPE]};\n",
              "      render(props, toinsert[toinsert.length - 1]);\n",
              "      element.append(toinsert);\n",
              "      return toinsert\n",
              "    }\n",
              "\n",
              "    /* Handle when an output is cleared or removed */\n",
              "    events.on('clear_output.CodeCell', handleClearOutput);\n",
              "    events.on('delete.Cell', handleClearOutput);\n",
              "\n",
              "    /* Handle when a new output is added */\n",
              "    events.on('output_added.OutputArea', handleAddOutput);\n",
              "\n",
              "    /**\n",
              "     * Register the mime type and append_mime function with output_area\n",
              "     */\n",
              "    OutputArea.prototype.register_mime_type(EXEC_MIME_TYPE, append_mime, {\n",
              "      /* Is output safe? */\n",
              "      safe: true,\n",
              "      /* Index of renderer in `output_area.display_order` */\n",
              "      index: 0\n",
              "    });\n",
              "  }\n",
              "\n",
              "  // register the mime type if in Jupyter Notebook environment and previously unregistered\n",
              "  if (root.Jupyter !== undefined) {\n",
              "    var events = require('base/js/events');\n",
              "    var OutputArea = require('notebook/js/outputarea').OutputArea;\n",
              "\n",
              "    if (OutputArea.prototype.mime_types().indexOf(EXEC_MIME_TYPE) == -1) {\n",
              "      register_renderer(events, OutputArea);\n",
              "    }\n",
              "  }\n",
              "\n",
              "  \n",
              "  if (typeof (root._bokeh_timeout) === \"undefined\" || force === true) {\n",
              "    root._bokeh_timeout = Date.now() + 5000;\n",
              "    root._bokeh_failed_load = false;\n",
              "  }\n",
              "\n",
              "  var NB_LOAD_WARNING = {'data': {'text/html':\n",
              "     \"<div style='background-color: #fdd'>\\n\"+\n",
              "     \"<p>\\n\"+\n",
              "     \"BokehJS does not appear to have successfully loaded. If loading BokehJS from CDN, this \\n\"+\n",
              "     \"may be due to a slow or bad network connection. Possible fixes:\\n\"+\n",
              "     \"</p>\\n\"+\n",
              "     \"<ul>\\n\"+\n",
              "     \"<li>re-rerun `output_notebook()` to attempt to load from CDN again, or</li>\\n\"+\n",
              "     \"<li>use INLINE resources instead, as so:</li>\\n\"+\n",
              "     \"</ul>\\n\"+\n",
              "     \"<code>\\n\"+\n",
              "     \"from bokeh.resources import INLINE\\n\"+\n",
              "     \"output_notebook(resources=INLINE)\\n\"+\n",
              "     \"</code>\\n\"+\n",
              "     \"</div>\"}};\n",
              "\n",
              "  function display_loaded() {\n",
              "    var el = document.getElementById(\"8e58f4ac-2ee5-40ee-98d8-0913ca382ad0\");\n",
              "    if (el != null) {\n",
              "      el.textContent = \"BokehJS is loading...\";\n",
              "    }\n",
              "    if (root.Bokeh !== undefined) {\n",
              "      if (el != null) {\n",
              "        el.textContent = \"BokehJS \" + root.Bokeh.version + \" successfully loaded.\";\n",
              "      }\n",
              "    } else if (Date.now() < root._bokeh_timeout) {\n",
              "      setTimeout(display_loaded, 100)\n",
              "    }\n",
              "  }\n",
              "\n",
              "\n",
              "  function run_callbacks() {\n",
              "    try {\n",
              "      root._bokeh_onload_callbacks.forEach(function(callback) { callback() });\n",
              "    }\n",
              "    finally {\n",
              "      delete root._bokeh_onload_callbacks\n",
              "    }\n",
              "    console.info(\"Bokeh: all callbacks have finished\");\n",
              "  }\n",
              "\n",
              "  function load_libs(js_urls, callback) {\n",
              "    root._bokeh_onload_callbacks.push(callback);\n",
              "    if (root._bokeh_is_loading > 0) {\n",
              "      console.log(\"Bokeh: BokehJS is being loaded, scheduling callback at\", now());\n",
              "      return null;\n",
              "    }\n",
              "    if (js_urls == null || js_urls.length === 0) {\n",
              "      run_callbacks();\n",
              "      return null;\n",
              "    }\n",
              "    console.log(\"Bokeh: BokehJS not loaded, scheduling load and callback at\", now());\n",
              "    root._bokeh_is_loading = js_urls.length;\n",
              "    for (var i = 0; i < js_urls.length; i++) {\n",
              "      var url = js_urls[i];\n",
              "      var s = document.createElement('script');\n",
              "      s.src = url;\n",
              "      s.async = false;\n",
              "      s.onreadystatechange = s.onload = function() {\n",
              "        root._bokeh_is_loading--;\n",
              "        if (root._bokeh_is_loading === 0) {\n",
              "          console.log(\"Bokeh: all BokehJS libraries loaded\");\n",
              "          run_callbacks()\n",
              "        }\n",
              "      };\n",
              "      s.onerror = function() {\n",
              "        console.warn(\"failed to load library \" + url);\n",
              "      };\n",
              "      console.log(\"Bokeh: injecting script tag for BokehJS library: \", url);\n",
              "      document.getElementsByTagName(\"head\")[0].appendChild(s);\n",
              "    }\n",
              "  };var element = document.getElementById(\"8e58f4ac-2ee5-40ee-98d8-0913ca382ad0\");\n",
              "  if (element == null) {\n",
              "    console.log(\"Bokeh: ERROR: autoload.js configured with elementid '8e58f4ac-2ee5-40ee-98d8-0913ca382ad0' but no matching script tag was found. \")\n",
              "    return false;\n",
              "  }\n",
              "\n",
              "  var js_urls = [\"https://cdn.pydata.org/bokeh/release/bokeh-0.13.0.min.js\", \"https://cdn.pydata.org/bokeh/release/bokeh-widgets-0.13.0.min.js\", \"https://cdn.pydata.org/bokeh/release/bokeh-tables-0.13.0.min.js\", \"https://cdn.pydata.org/bokeh/release/bokeh-gl-0.13.0.min.js\"];\n",
              "\n",
              "  var inline_js = [\n",
              "    function(Bokeh) {\n",
              "      Bokeh.set_log_level(\"info\");\n",
              "    },\n",
              "    \n",
              "    function(Bokeh) {\n",
              "      \n",
              "    },\n",
              "    function(Bokeh) {\n",
              "      console.log(\"Bokeh: injecting CSS: https://cdn.pydata.org/bokeh/release/bokeh-0.13.0.min.css\");\n",
              "      Bokeh.embed.inject_css(\"https://cdn.pydata.org/bokeh/release/bokeh-0.13.0.min.css\");\n",
              "      console.log(\"Bokeh: injecting CSS: https://cdn.pydata.org/bokeh/release/bokeh-widgets-0.13.0.min.css\");\n",
              "      Bokeh.embed.inject_css(\"https://cdn.pydata.org/bokeh/release/bokeh-widgets-0.13.0.min.css\");\n",
              "      console.log(\"Bokeh: injecting CSS: https://cdn.pydata.org/bokeh/release/bokeh-tables-0.13.0.min.css\");\n",
              "      Bokeh.embed.inject_css(\"https://cdn.pydata.org/bokeh/release/bokeh-tables-0.13.0.min.css\");\n",
              "    }\n",
              "  ];\n",
              "\n",
              "  function run_inline_js() {\n",
              "    \n",
              "    if ((root.Bokeh !== undefined) || (force === true)) {\n",
              "      for (var i = 0; i < inline_js.length; i++) {\n",
              "        inline_js[i].call(root, root.Bokeh);\n",
              "      }if (force === true) {\n",
              "        display_loaded();\n",
              "      }} else if (Date.now() < root._bokeh_timeout) {\n",
              "      setTimeout(run_inline_js, 100);\n",
              "    } else if (!root._bokeh_failed_load) {\n",
              "      console.log(\"Bokeh: BokehJS failed to load within specified timeout.\");\n",
              "      root._bokeh_failed_load = true;\n",
              "    } else if (force !== true) {\n",
              "      var cell = $(document.getElementById(\"8e58f4ac-2ee5-40ee-98d8-0913ca382ad0\")).parents('.cell').data().cell;\n",
              "      cell.output_area.append_execute_result(NB_LOAD_WARNING)\n",
              "    }\n",
              "\n",
              "  }\n",
              "\n",
              "  if (root._bokeh_is_loading === 0) {\n",
              "    console.log(\"Bokeh: BokehJS loaded, going straight to plotting\");\n",
              "    run_inline_js();\n",
              "  } else {\n",
              "    load_libs(js_urls, function() {\n",
              "      console.log(\"Bokeh: BokehJS plotting callback run at\", now());\n",
              "      run_inline_js();\n",
              "    });\n",
              "  }\n",
              "}(window));"
            ],
            "application/vnd.bokehjs_load.v0+json": "\n(function(root) {\n  function now() {\n    return new Date();\n  }\n\n  var force = true;\n\n  if (typeof (root._bokeh_onload_callbacks) === \"undefined\" || force === true) {\n    root._bokeh_onload_callbacks = [];\n    root._bokeh_is_loading = undefined;\n  }\n\n  \n\n  \n  if (typeof (root._bokeh_timeout) === \"undefined\" || force === true) {\n    root._bokeh_timeout = Date.now() + 5000;\n    root._bokeh_failed_load = false;\n  }\n\n  var NB_LOAD_WARNING = {'data': {'text/html':\n     \"<div style='background-color: #fdd'>\\n\"+\n     \"<p>\\n\"+\n     \"BokehJS does not appear to have successfully loaded. If loading BokehJS from CDN, this \\n\"+\n     \"may be due to a slow or bad network connection. Possible fixes:\\n\"+\n     \"</p>\\n\"+\n     \"<ul>\\n\"+\n     \"<li>re-rerun `output_notebook()` to attempt to load from CDN again, or</li>\\n\"+\n     \"<li>use INLINE resources instead, as so:</li>\\n\"+\n     \"</ul>\\n\"+\n     \"<code>\\n\"+\n     \"from bokeh.resources import INLINE\\n\"+\n     \"output_notebook(resources=INLINE)\\n\"+\n     \"</code>\\n\"+\n     \"</div>\"}};\n\n  function display_loaded() {\n    var el = document.getElementById(\"8e58f4ac-2ee5-40ee-98d8-0913ca382ad0\");\n    if (el != null) {\n      el.textContent = \"BokehJS is loading...\";\n    }\n    if (root.Bokeh !== undefined) {\n      if (el != null) {\n        el.textContent = \"BokehJS \" + root.Bokeh.version + \" successfully loaded.\";\n      }\n    } else if (Date.now() < root._bokeh_timeout) {\n      setTimeout(display_loaded, 100)\n    }\n  }\n\n\n  function run_callbacks() {\n    try {\n      root._bokeh_onload_callbacks.forEach(function(callback) { callback() });\n    }\n    finally {\n      delete root._bokeh_onload_callbacks\n    }\n    console.info(\"Bokeh: all callbacks have finished\");\n  }\n\n  function load_libs(js_urls, callback) {\n    root._bokeh_onload_callbacks.push(callback);\n    if (root._bokeh_is_loading > 0) {\n      console.log(\"Bokeh: BokehJS is being loaded, scheduling callback at\", now());\n      return null;\n    }\n    if (js_urls == null || js_urls.length === 0) {\n      run_callbacks();\n      return null;\n    }\n    console.log(\"Bokeh: BokehJS not loaded, scheduling load and callback at\", now());\n    root._bokeh_is_loading = js_urls.length;\n    for (var i = 0; i < js_urls.length; i++) {\n      var url = js_urls[i];\n      var s = document.createElement('script');\n      s.src = url;\n      s.async = false;\n      s.onreadystatechange = s.onload = function() {\n        root._bokeh_is_loading--;\n        if (root._bokeh_is_loading === 0) {\n          console.log(\"Bokeh: all BokehJS libraries loaded\");\n          run_callbacks()\n        }\n      };\n      s.onerror = function() {\n        console.warn(\"failed to load library \" + url);\n      };\n      console.log(\"Bokeh: injecting script tag for BokehJS library: \", url);\n      document.getElementsByTagName(\"head\")[0].appendChild(s);\n    }\n  };var element = document.getElementById(\"8e58f4ac-2ee5-40ee-98d8-0913ca382ad0\");\n  if (element == null) {\n    console.log(\"Bokeh: ERROR: autoload.js configured with elementid '8e58f4ac-2ee5-40ee-98d8-0913ca382ad0' but no matching script tag was found. \")\n    return false;\n  }\n\n  var js_urls = [\"https://cdn.pydata.org/bokeh/release/bokeh-0.13.0.min.js\", \"https://cdn.pydata.org/bokeh/release/bokeh-widgets-0.13.0.min.js\", \"https://cdn.pydata.org/bokeh/release/bokeh-tables-0.13.0.min.js\", \"https://cdn.pydata.org/bokeh/release/bokeh-gl-0.13.0.min.js\"];\n\n  var inline_js = [\n    function(Bokeh) {\n      Bokeh.set_log_level(\"info\");\n    },\n    \n    function(Bokeh) {\n      \n    },\n    function(Bokeh) {\n      console.log(\"Bokeh: injecting CSS: https://cdn.pydata.org/bokeh/release/bokeh-0.13.0.min.css\");\n      Bokeh.embed.inject_css(\"https://cdn.pydata.org/bokeh/release/bokeh-0.13.0.min.css\");\n      console.log(\"Bokeh: injecting CSS: https://cdn.pydata.org/bokeh/release/bokeh-widgets-0.13.0.min.css\");\n      Bokeh.embed.inject_css(\"https://cdn.pydata.org/bokeh/release/bokeh-widgets-0.13.0.min.css\");\n      console.log(\"Bokeh: injecting CSS: https://cdn.pydata.org/bokeh/release/bokeh-tables-0.13.0.min.css\");\n      Bokeh.embed.inject_css(\"https://cdn.pydata.org/bokeh/release/bokeh-tables-0.13.0.min.css\");\n    }\n  ];\n\n  function run_inline_js() {\n    \n    if ((root.Bokeh !== undefined) || (force === true)) {\n      for (var i = 0; i < inline_js.length; i++) {\n        inline_js[i].call(root, root.Bokeh);\n      }if (force === true) {\n        display_loaded();\n      }} else if (Date.now() < root._bokeh_timeout) {\n      setTimeout(run_inline_js, 100);\n    } else if (!root._bokeh_failed_load) {\n      console.log(\"Bokeh: BokehJS failed to load within specified timeout.\");\n      root._bokeh_failed_load = true;\n    } else if (force !== true) {\n      var cell = $(document.getElementById(\"8e58f4ac-2ee5-40ee-98d8-0913ca382ad0\")).parents('.cell').data().cell;\n      cell.output_area.append_execute_result(NB_LOAD_WARNING)\n    }\n\n  }\n\n  if (root._bokeh_is_loading === 0) {\n    console.log(\"Bokeh: BokehJS loaded, going straight to plotting\");\n    run_inline_js();\n  } else {\n    load_libs(js_urls, function() {\n      console.log(\"Bokeh: BokehJS plotting callback run at\", now());\n      run_inline_js();\n    });\n  }\n}(window));"
          },
          "metadata": {
            "tags": []
          }
        }
      ]
    },
    {
      "metadata": {
        "id": "2PTM6o094uVe",
        "colab_type": "code",
        "colab": {
          "base_uri": "https://localhost:8080/",
          "height": 47
        },
        "outputId": "69aaaf04-bc05-448e-e193-5a5334a6e553"
      },
      "cell_type": "code",
      "source": [
        "import bokeh.plotting as pl\n",
        "import bokeh.models as bm\n",
        "from bokeh.io import output_notebook, show\n",
        "output_notebook()\n",
        "\n",
        "def draw_attention(inp_line, translation, probs):\n",
        "    \"\"\" An intentionally ambiguous function to visualize attention weights \"\"\"\n",
        "    output_notebook()\n",
        "    inp_tokens = inp_voc.tokenize(inp_line)\n",
        "    trans_tokens = out_voc.tokenize(translation)\n",
        "    probs = probs[:len(trans_tokens), :len(inp_tokens)]\n",
        "    \n",
        "    fig = pl.figure(x_range=(0, len(inp_tokens)), y_range=(0, len(trans_tokens)),\n",
        "                    x_axis_type=None, y_axis_type=None, tools=[])\n",
        "    fig.image([probs[::-1]], 0, 0, len(inp_tokens), len(trans_tokens))\n",
        "\n",
        "    fig.add_layout(bm.LinearAxis(axis_label='source tokens'), 'above')\n",
        "    fig.xaxis.ticker = np.arange(len(inp_tokens)) + 0.5\n",
        "    fig.xaxis.major_label_overrides = dict(zip(np.arange(len(inp_tokens)) + 0.5, inp_tokens))\n",
        "    fig.xaxis.major_label_orientation = 45\n",
        "\n",
        "    fig.add_layout(bm.LinearAxis(axis_label='translation tokens'), 'left')\n",
        "    fig.yaxis.ticker = np.arange(len(trans_tokens)) + 0.5\n",
        "    fig.yaxis.major_label_overrides = dict(zip(np.arange(len(trans_tokens)) + 0.5, trans_tokens[::-1]))\n",
        "\n",
        "    show(fig)"
      ],
      "execution_count": 39,
      "outputs": [
        {
          "output_type": "display_data",
          "data": {
            "text/html": [
              "\n",
              "    <div class=\"bk-root\">\n",
              "        <a href=\"https://bokeh.pydata.org\" target=\"_blank\" class=\"bk-logo bk-logo-small bk-logo-notebook\"></a>\n",
              "        <span id=\"89bf0065-6c78-404f-90df-421f10857057\">Loading BokehJS ...</span>\n",
              "    </div>"
            ]
          },
          "metadata": {
            "tags": []
          }
        },
        {
          "output_type": "display_data",
          "data": {
            "application/javascript": [
              "\n",
              "(function(root) {\n",
              "  function now() {\n",
              "    return new Date();\n",
              "  }\n",
              "\n",
              "  var force = true;\n",
              "\n",
              "  if (typeof (root._bokeh_onload_callbacks) === \"undefined\" || force === true) {\n",
              "    root._bokeh_onload_callbacks = [];\n",
              "    root._bokeh_is_loading = undefined;\n",
              "  }\n",
              "\n",
              "  var JS_MIME_TYPE = 'application/javascript';\n",
              "  var HTML_MIME_TYPE = 'text/html';\n",
              "  var EXEC_MIME_TYPE = 'application/vnd.bokehjs_exec.v0+json';\n",
              "  var CLASS_NAME = 'output_bokeh rendered_html';\n",
              "\n",
              "  /**\n",
              "   * Render data to the DOM node\n",
              "   */\n",
              "  function render(props, node) {\n",
              "    var script = document.createElement(\"script\");\n",
              "    node.appendChild(script);\n",
              "  }\n",
              "\n",
              "  /**\n",
              "   * Handle when an output is cleared or removed\n",
              "   */\n",
              "  function handleClearOutput(event, handle) {\n",
              "    var cell = handle.cell;\n",
              "\n",
              "    var id = cell.output_area._bokeh_element_id;\n",
              "    var server_id = cell.output_area._bokeh_server_id;\n",
              "    // Clean up Bokeh references\n",
              "    if (id != null && id in Bokeh.index) {\n",
              "      Bokeh.index[id].model.document.clear();\n",
              "      delete Bokeh.index[id];\n",
              "    }\n",
              "\n",
              "    if (server_id !== undefined) {\n",
              "      // Clean up Bokeh references\n",
              "      var cmd = \"from bokeh.io.state import curstate; print(curstate().uuid_to_server['\" + server_id + \"'].get_sessions()[0].document.roots[0]._id)\";\n",
              "      cell.notebook.kernel.execute(cmd, {\n",
              "        iopub: {\n",
              "          output: function(msg) {\n",
              "            var id = msg.content.text.trim();\n",
              "            if (id in Bokeh.index) {\n",
              "              Bokeh.index[id].model.document.clear();\n",
              "              delete Bokeh.index[id];\n",
              "            }\n",
              "          }\n",
              "        }\n",
              "      });\n",
              "      // Destroy server and session\n",
              "      var cmd = \"import bokeh.io.notebook as ion; ion.destroy_server('\" + server_id + \"')\";\n",
              "      cell.notebook.kernel.execute(cmd);\n",
              "    }\n",
              "  }\n",
              "\n",
              "  /**\n",
              "   * Handle when a new output is added\n",
              "   */\n",
              "  function handleAddOutput(event, handle) {\n",
              "    var output_area = handle.output_area;\n",
              "    var output = handle.output;\n",
              "\n",
              "    // limit handleAddOutput to display_data with EXEC_MIME_TYPE content only\n",
              "    if ((output.output_type != \"display_data\") || (!output.data.hasOwnProperty(EXEC_MIME_TYPE))) {\n",
              "      return\n",
              "    }\n",
              "\n",
              "    var toinsert = output_area.element.find(\".\" + CLASS_NAME.split(' ')[0]);\n",
              "\n",
              "    if (output.metadata[EXEC_MIME_TYPE][\"id\"] !== undefined) {\n",
              "      toinsert[toinsert.length - 1].firstChild.textContent = output.data[JS_MIME_TYPE];\n",
              "      // store reference to embed id on output_area\n",
              "      output_area._bokeh_element_id = output.metadata[EXEC_MIME_TYPE][\"id\"];\n",
              "    }\n",
              "    if (output.metadata[EXEC_MIME_TYPE][\"server_id\"] !== undefined) {\n",
              "      var bk_div = document.createElement(\"div\");\n",
              "      bk_div.innerHTML = output.data[HTML_MIME_TYPE];\n",
              "      var script_attrs = bk_div.children[0].attributes;\n",
              "      for (var i = 0; i < script_attrs.length; i++) {\n",
              "        toinsert[toinsert.length - 1].firstChild.setAttribute(script_attrs[i].name, script_attrs[i].value);\n",
              "      }\n",
              "      // store reference to server id on output_area\n",
              "      output_area._bokeh_server_id = output.metadata[EXEC_MIME_TYPE][\"server_id\"];\n",
              "    }\n",
              "  }\n",
              "\n",
              "  function register_renderer(events, OutputArea) {\n",
              "\n",
              "    function append_mime(data, metadata, element) {\n",
              "      // create a DOM node to render to\n",
              "      var toinsert = this.create_output_subarea(\n",
              "        metadata,\n",
              "        CLASS_NAME,\n",
              "        EXEC_MIME_TYPE\n",
              "      );\n",
              "      this.keyboard_manager.register_events(toinsert);\n",
              "      // Render to node\n",
              "      var props = {data: data, metadata: metadata[EXEC_MIME_TYPE]};\n",
              "      render(props, toinsert[toinsert.length - 1]);\n",
              "      element.append(toinsert);\n",
              "      return toinsert\n",
              "    }\n",
              "\n",
              "    /* Handle when an output is cleared or removed */\n",
              "    events.on('clear_output.CodeCell', handleClearOutput);\n",
              "    events.on('delete.Cell', handleClearOutput);\n",
              "\n",
              "    /* Handle when a new output is added */\n",
              "    events.on('output_added.OutputArea', handleAddOutput);\n",
              "\n",
              "    /**\n",
              "     * Register the mime type and append_mime function with output_area\n",
              "     */\n",
              "    OutputArea.prototype.register_mime_type(EXEC_MIME_TYPE, append_mime, {\n",
              "      /* Is output safe? */\n",
              "      safe: true,\n",
              "      /* Index of renderer in `output_area.display_order` */\n",
              "      index: 0\n",
              "    });\n",
              "  }\n",
              "\n",
              "  // register the mime type if in Jupyter Notebook environment and previously unregistered\n",
              "  if (root.Jupyter !== undefined) {\n",
              "    var events = require('base/js/events');\n",
              "    var OutputArea = require('notebook/js/outputarea').OutputArea;\n",
              "\n",
              "    if (OutputArea.prototype.mime_types().indexOf(EXEC_MIME_TYPE) == -1) {\n",
              "      register_renderer(events, OutputArea);\n",
              "    }\n",
              "  }\n",
              "\n",
              "  \n",
              "  if (typeof (root._bokeh_timeout) === \"undefined\" || force === true) {\n",
              "    root._bokeh_timeout = Date.now() + 5000;\n",
              "    root._bokeh_failed_load = false;\n",
              "  }\n",
              "\n",
              "  var NB_LOAD_WARNING = {'data': {'text/html':\n",
              "     \"<div style='background-color: #fdd'>\\n\"+\n",
              "     \"<p>\\n\"+\n",
              "     \"BokehJS does not appear to have successfully loaded. If loading BokehJS from CDN, this \\n\"+\n",
              "     \"may be due to a slow or bad network connection. Possible fixes:\\n\"+\n",
              "     \"</p>\\n\"+\n",
              "     \"<ul>\\n\"+\n",
              "     \"<li>re-rerun `output_notebook()` to attempt to load from CDN again, or</li>\\n\"+\n",
              "     \"<li>use INLINE resources instead, as so:</li>\\n\"+\n",
              "     \"</ul>\\n\"+\n",
              "     \"<code>\\n\"+\n",
              "     \"from bokeh.resources import INLINE\\n\"+\n",
              "     \"output_notebook(resources=INLINE)\\n\"+\n",
              "     \"</code>\\n\"+\n",
              "     \"</div>\"}};\n",
              "\n",
              "  function display_loaded() {\n",
              "    var el = document.getElementById(\"89bf0065-6c78-404f-90df-421f10857057\");\n",
              "    if (el != null) {\n",
              "      el.textContent = \"BokehJS is loading...\";\n",
              "    }\n",
              "    if (root.Bokeh !== undefined) {\n",
              "      if (el != null) {\n",
              "        el.textContent = \"BokehJS \" + root.Bokeh.version + \" successfully loaded.\";\n",
              "      }\n",
              "    } else if (Date.now() < root._bokeh_timeout) {\n",
              "      setTimeout(display_loaded, 100)\n",
              "    }\n",
              "  }\n",
              "\n",
              "\n",
              "  function run_callbacks() {\n",
              "    try {\n",
              "      root._bokeh_onload_callbacks.forEach(function(callback) { callback() });\n",
              "    }\n",
              "    finally {\n",
              "      delete root._bokeh_onload_callbacks\n",
              "    }\n",
              "    console.info(\"Bokeh: all callbacks have finished\");\n",
              "  }\n",
              "\n",
              "  function load_libs(js_urls, callback) {\n",
              "    root._bokeh_onload_callbacks.push(callback);\n",
              "    if (root._bokeh_is_loading > 0) {\n",
              "      console.log(\"Bokeh: BokehJS is being loaded, scheduling callback at\", now());\n",
              "      return null;\n",
              "    }\n",
              "    if (js_urls == null || js_urls.length === 0) {\n",
              "      run_callbacks();\n",
              "      return null;\n",
              "    }\n",
              "    console.log(\"Bokeh: BokehJS not loaded, scheduling load and callback at\", now());\n",
              "    root._bokeh_is_loading = js_urls.length;\n",
              "    for (var i = 0; i < js_urls.length; i++) {\n",
              "      var url = js_urls[i];\n",
              "      var s = document.createElement('script');\n",
              "      s.src = url;\n",
              "      s.async = false;\n",
              "      s.onreadystatechange = s.onload = function() {\n",
              "        root._bokeh_is_loading--;\n",
              "        if (root._bokeh_is_loading === 0) {\n",
              "          console.log(\"Bokeh: all BokehJS libraries loaded\");\n",
              "          run_callbacks()\n",
              "        }\n",
              "      };\n",
              "      s.onerror = function() {\n",
              "        console.warn(\"failed to load library \" + url);\n",
              "      };\n",
              "      console.log(\"Bokeh: injecting script tag for BokehJS library: \", url);\n",
              "      document.getElementsByTagName(\"head\")[0].appendChild(s);\n",
              "    }\n",
              "  };var element = document.getElementById(\"89bf0065-6c78-404f-90df-421f10857057\");\n",
              "  if (element == null) {\n",
              "    console.log(\"Bokeh: ERROR: autoload.js configured with elementid '89bf0065-6c78-404f-90df-421f10857057' but no matching script tag was found. \")\n",
              "    return false;\n",
              "  }\n",
              "\n",
              "  var js_urls = [\"https://cdn.pydata.org/bokeh/release/bokeh-0.13.0.min.js\", \"https://cdn.pydata.org/bokeh/release/bokeh-widgets-0.13.0.min.js\", \"https://cdn.pydata.org/bokeh/release/bokeh-tables-0.13.0.min.js\", \"https://cdn.pydata.org/bokeh/release/bokeh-gl-0.13.0.min.js\"];\n",
              "\n",
              "  var inline_js = [\n",
              "    function(Bokeh) {\n",
              "      Bokeh.set_log_level(\"info\");\n",
              "    },\n",
              "    \n",
              "    function(Bokeh) {\n",
              "      \n",
              "    },\n",
              "    function(Bokeh) {\n",
              "      console.log(\"Bokeh: injecting CSS: https://cdn.pydata.org/bokeh/release/bokeh-0.13.0.min.css\");\n",
              "      Bokeh.embed.inject_css(\"https://cdn.pydata.org/bokeh/release/bokeh-0.13.0.min.css\");\n",
              "      console.log(\"Bokeh: injecting CSS: https://cdn.pydata.org/bokeh/release/bokeh-widgets-0.13.0.min.css\");\n",
              "      Bokeh.embed.inject_css(\"https://cdn.pydata.org/bokeh/release/bokeh-widgets-0.13.0.min.css\");\n",
              "      console.log(\"Bokeh: injecting CSS: https://cdn.pydata.org/bokeh/release/bokeh-tables-0.13.0.min.css\");\n",
              "      Bokeh.embed.inject_css(\"https://cdn.pydata.org/bokeh/release/bokeh-tables-0.13.0.min.css\");\n",
              "    }\n",
              "  ];\n",
              "\n",
              "  function run_inline_js() {\n",
              "    \n",
              "    if ((root.Bokeh !== undefined) || (force === true)) {\n",
              "      for (var i = 0; i < inline_js.length; i++) {\n",
              "        inline_js[i].call(root, root.Bokeh);\n",
              "      }if (force === true) {\n",
              "        display_loaded();\n",
              "      }} else if (Date.now() < root._bokeh_timeout) {\n",
              "      setTimeout(run_inline_js, 100);\n",
              "    } else if (!root._bokeh_failed_load) {\n",
              "      console.log(\"Bokeh: BokehJS failed to load within specified timeout.\");\n",
              "      root._bokeh_failed_load = true;\n",
              "    } else if (force !== true) {\n",
              "      var cell = $(document.getElementById(\"89bf0065-6c78-404f-90df-421f10857057\")).parents('.cell').data().cell;\n",
              "      cell.output_area.append_execute_result(NB_LOAD_WARNING)\n",
              "    }\n",
              "\n",
              "  }\n",
              "\n",
              "  if (root._bokeh_is_loading === 0) {\n",
              "    console.log(\"Bokeh: BokehJS loaded, going straight to plotting\");\n",
              "    run_inline_js();\n",
              "  } else {\n",
              "    load_libs(js_urls, function() {\n",
              "      console.log(\"Bokeh: BokehJS plotting callback run at\", now());\n",
              "      run_inline_js();\n",
              "    });\n",
              "  }\n",
              "}(window));"
            ],
            "application/vnd.bokehjs_load.v0+json": "\n(function(root) {\n  function now() {\n    return new Date();\n  }\n\n  var force = true;\n\n  if (typeof (root._bokeh_onload_callbacks) === \"undefined\" || force === true) {\n    root._bokeh_onload_callbacks = [];\n    root._bokeh_is_loading = undefined;\n  }\n\n  \n\n  \n  if (typeof (root._bokeh_timeout) === \"undefined\" || force === true) {\n    root._bokeh_timeout = Date.now() + 5000;\n    root._bokeh_failed_load = false;\n  }\n\n  var NB_LOAD_WARNING = {'data': {'text/html':\n     \"<div style='background-color: #fdd'>\\n\"+\n     \"<p>\\n\"+\n     \"BokehJS does not appear to have successfully loaded. If loading BokehJS from CDN, this \\n\"+\n     \"may be due to a slow or bad network connection. Possible fixes:\\n\"+\n     \"</p>\\n\"+\n     \"<ul>\\n\"+\n     \"<li>re-rerun `output_notebook()` to attempt to load from CDN again, or</li>\\n\"+\n     \"<li>use INLINE resources instead, as so:</li>\\n\"+\n     \"</ul>\\n\"+\n     \"<code>\\n\"+\n     \"from bokeh.resources import INLINE\\n\"+\n     \"output_notebook(resources=INLINE)\\n\"+\n     \"</code>\\n\"+\n     \"</div>\"}};\n\n  function display_loaded() {\n    var el = document.getElementById(\"89bf0065-6c78-404f-90df-421f10857057\");\n    if (el != null) {\n      el.textContent = \"BokehJS is loading...\";\n    }\n    if (root.Bokeh !== undefined) {\n      if (el != null) {\n        el.textContent = \"BokehJS \" + root.Bokeh.version + \" successfully loaded.\";\n      }\n    } else if (Date.now() < root._bokeh_timeout) {\n      setTimeout(display_loaded, 100)\n    }\n  }\n\n\n  function run_callbacks() {\n    try {\n      root._bokeh_onload_callbacks.forEach(function(callback) { callback() });\n    }\n    finally {\n      delete root._bokeh_onload_callbacks\n    }\n    console.info(\"Bokeh: all callbacks have finished\");\n  }\n\n  function load_libs(js_urls, callback) {\n    root._bokeh_onload_callbacks.push(callback);\n    if (root._bokeh_is_loading > 0) {\n      console.log(\"Bokeh: BokehJS is being loaded, scheduling callback at\", now());\n      return null;\n    }\n    if (js_urls == null || js_urls.length === 0) {\n      run_callbacks();\n      return null;\n    }\n    console.log(\"Bokeh: BokehJS not loaded, scheduling load and callback at\", now());\n    root._bokeh_is_loading = js_urls.length;\n    for (var i = 0; i < js_urls.length; i++) {\n      var url = js_urls[i];\n      var s = document.createElement('script');\n      s.src = url;\n      s.async = false;\n      s.onreadystatechange = s.onload = function() {\n        root._bokeh_is_loading--;\n        if (root._bokeh_is_loading === 0) {\n          console.log(\"Bokeh: all BokehJS libraries loaded\");\n          run_callbacks()\n        }\n      };\n      s.onerror = function() {\n        console.warn(\"failed to load library \" + url);\n      };\n      console.log(\"Bokeh: injecting script tag for BokehJS library: \", url);\n      document.getElementsByTagName(\"head\")[0].appendChild(s);\n    }\n  };var element = document.getElementById(\"89bf0065-6c78-404f-90df-421f10857057\");\n  if (element == null) {\n    console.log(\"Bokeh: ERROR: autoload.js configured with elementid '89bf0065-6c78-404f-90df-421f10857057' but no matching script tag was found. \")\n    return false;\n  }\n\n  var js_urls = [\"https://cdn.pydata.org/bokeh/release/bokeh-0.13.0.min.js\", \"https://cdn.pydata.org/bokeh/release/bokeh-widgets-0.13.0.min.js\", \"https://cdn.pydata.org/bokeh/release/bokeh-tables-0.13.0.min.js\", \"https://cdn.pydata.org/bokeh/release/bokeh-gl-0.13.0.min.js\"];\n\n  var inline_js = [\n    function(Bokeh) {\n      Bokeh.set_log_level(\"info\");\n    },\n    \n    function(Bokeh) {\n      \n    },\n    function(Bokeh) {\n      console.log(\"Bokeh: injecting CSS: https://cdn.pydata.org/bokeh/release/bokeh-0.13.0.min.css\");\n      Bokeh.embed.inject_css(\"https://cdn.pydata.org/bokeh/release/bokeh-0.13.0.min.css\");\n      console.log(\"Bokeh: injecting CSS: https://cdn.pydata.org/bokeh/release/bokeh-widgets-0.13.0.min.css\");\n      Bokeh.embed.inject_css(\"https://cdn.pydata.org/bokeh/release/bokeh-widgets-0.13.0.min.css\");\n      console.log(\"Bokeh: injecting CSS: https://cdn.pydata.org/bokeh/release/bokeh-tables-0.13.0.min.css\");\n      Bokeh.embed.inject_css(\"https://cdn.pydata.org/bokeh/release/bokeh-tables-0.13.0.min.css\");\n    }\n  ];\n\n  function run_inline_js() {\n    \n    if ((root.Bokeh !== undefined) || (force === true)) {\n      for (var i = 0; i < inline_js.length; i++) {\n        inline_js[i].call(root, root.Bokeh);\n      }if (force === true) {\n        display_loaded();\n      }} else if (Date.now() < root._bokeh_timeout) {\n      setTimeout(run_inline_js, 100);\n    } else if (!root._bokeh_failed_load) {\n      console.log(\"Bokeh: BokehJS failed to load within specified timeout.\");\n      root._bokeh_failed_load = true;\n    } else if (force !== true) {\n      var cell = $(document.getElementById(\"89bf0065-6c78-404f-90df-421f10857057\")).parents('.cell').data().cell;\n      cell.output_area.append_execute_result(NB_LOAD_WARNING)\n    }\n\n  }\n\n  if (root._bokeh_is_loading === 0) {\n    console.log(\"Bokeh: BokehJS loaded, going straight to plotting\");\n    run_inline_js();\n  } else {\n    load_libs(js_urls, function() {\n      console.log(\"Bokeh: BokehJS plotting callback run at\", now());\n      run_inline_js();\n    });\n  }\n}(window));"
          },
          "metadata": {
            "tags": []
          }
        }
      ]
    },
    {
      "metadata": {
        "id": "wkQj7yRy4uVh",
        "colab_type": "code",
        "colab": {}
      },
      "cell_type": "code",
      "source": [
        "inp = dev_inp[::500]\n",
        "\n",
        "trans, states = model.translate_lines(inp)\n",
        "\n",
        "# select attention probs from model state (you may need to change this for your custom model)\n",
        "attention_probs = np.stack([state[-1] for state in states], axis=1)"
      ],
      "execution_count": 0,
      "outputs": []
    },
    {
      "metadata": {
        "scrolled": false,
        "id": "0Ey8Utqy4uVk",
        "colab_type": "code",
        "colab": {
          "base_uri": "https://localhost:8080/",
          "height": 3167
        },
        "outputId": "d7fbd0db-d1a2-4309-8cb2-ba855dd1264b"
      },
      "cell_type": "code",
      "source": [
        "for i in range(5):\n",
        "    draw_attention(inp[i], trans[i], attention_probs[i])"
      ],
      "execution_count": 41,
      "outputs": [
        {
          "output_type": "display_data",
          "data": {
            "text/html": [
              "\n",
              "    <div class=\"bk-root\">\n",
              "        <a href=\"https://bokeh.pydata.org\" target=\"_blank\" class=\"bk-logo bk-logo-small bk-logo-notebook\"></a>\n",
              "        <span id=\"0aefd452-5723-4d1d-b3b4-a8ab261caf81\">Loading BokehJS ...</span>\n",
              "    </div>"
            ]
          },
          "metadata": {
            "tags": []
          }
        },
        {
          "output_type": "display_data",
          "data": {
            "application/javascript": [
              "\n",
              "(function(root) {\n",
              "  function now() {\n",
              "    return new Date();\n",
              "  }\n",
              "\n",
              "  var force = true;\n",
              "\n",
              "  if (typeof (root._bokeh_onload_callbacks) === \"undefined\" || force === true) {\n",
              "    root._bokeh_onload_callbacks = [];\n",
              "    root._bokeh_is_loading = undefined;\n",
              "  }\n",
              "\n",
              "  var JS_MIME_TYPE = 'application/javascript';\n",
              "  var HTML_MIME_TYPE = 'text/html';\n",
              "  var EXEC_MIME_TYPE = 'application/vnd.bokehjs_exec.v0+json';\n",
              "  var CLASS_NAME = 'output_bokeh rendered_html';\n",
              "\n",
              "  /**\n",
              "   * Render data to the DOM node\n",
              "   */\n",
              "  function render(props, node) {\n",
              "    var script = document.createElement(\"script\");\n",
              "    node.appendChild(script);\n",
              "  }\n",
              "\n",
              "  /**\n",
              "   * Handle when an output is cleared or removed\n",
              "   */\n",
              "  function handleClearOutput(event, handle) {\n",
              "    var cell = handle.cell;\n",
              "\n",
              "    var id = cell.output_area._bokeh_element_id;\n",
              "    var server_id = cell.output_area._bokeh_server_id;\n",
              "    // Clean up Bokeh references\n",
              "    if (id != null && id in Bokeh.index) {\n",
              "      Bokeh.index[id].model.document.clear();\n",
              "      delete Bokeh.index[id];\n",
              "    }\n",
              "\n",
              "    if (server_id !== undefined) {\n",
              "      // Clean up Bokeh references\n",
              "      var cmd = \"from bokeh.io.state import curstate; print(curstate().uuid_to_server['\" + server_id + \"'].get_sessions()[0].document.roots[0]._id)\";\n",
              "      cell.notebook.kernel.execute(cmd, {\n",
              "        iopub: {\n",
              "          output: function(msg) {\n",
              "            var id = msg.content.text.trim();\n",
              "            if (id in Bokeh.index) {\n",
              "              Bokeh.index[id].model.document.clear();\n",
              "              delete Bokeh.index[id];\n",
              "            }\n",
              "          }\n",
              "        }\n",
              "      });\n",
              "      // Destroy server and session\n",
              "      var cmd = \"import bokeh.io.notebook as ion; ion.destroy_server('\" + server_id + \"')\";\n",
              "      cell.notebook.kernel.execute(cmd);\n",
              "    }\n",
              "  }\n",
              "\n",
              "  /**\n",
              "   * Handle when a new output is added\n",
              "   */\n",
              "  function handleAddOutput(event, handle) {\n",
              "    var output_area = handle.output_area;\n",
              "    var output = handle.output;\n",
              "\n",
              "    // limit handleAddOutput to display_data with EXEC_MIME_TYPE content only\n",
              "    if ((output.output_type != \"display_data\") || (!output.data.hasOwnProperty(EXEC_MIME_TYPE))) {\n",
              "      return\n",
              "    }\n",
              "\n",
              "    var toinsert = output_area.element.find(\".\" + CLASS_NAME.split(' ')[0]);\n",
              "\n",
              "    if (output.metadata[EXEC_MIME_TYPE][\"id\"] !== undefined) {\n",
              "      toinsert[toinsert.length - 1].firstChild.textContent = output.data[JS_MIME_TYPE];\n",
              "      // store reference to embed id on output_area\n",
              "      output_area._bokeh_element_id = output.metadata[EXEC_MIME_TYPE][\"id\"];\n",
              "    }\n",
              "    if (output.metadata[EXEC_MIME_TYPE][\"server_id\"] !== undefined) {\n",
              "      var bk_div = document.createElement(\"div\");\n",
              "      bk_div.innerHTML = output.data[HTML_MIME_TYPE];\n",
              "      var script_attrs = bk_div.children[0].attributes;\n",
              "      for (var i = 0; i < script_attrs.length; i++) {\n",
              "        toinsert[toinsert.length - 1].firstChild.setAttribute(script_attrs[i].name, script_attrs[i].value);\n",
              "      }\n",
              "      // store reference to server id on output_area\n",
              "      output_area._bokeh_server_id = output.metadata[EXEC_MIME_TYPE][\"server_id\"];\n",
              "    }\n",
              "  }\n",
              "\n",
              "  function register_renderer(events, OutputArea) {\n",
              "\n",
              "    function append_mime(data, metadata, element) {\n",
              "      // create a DOM node to render to\n",
              "      var toinsert = this.create_output_subarea(\n",
              "        metadata,\n",
              "        CLASS_NAME,\n",
              "        EXEC_MIME_TYPE\n",
              "      );\n",
              "      this.keyboard_manager.register_events(toinsert);\n",
              "      // Render to node\n",
              "      var props = {data: data, metadata: metadata[EXEC_MIME_TYPE]};\n",
              "      render(props, toinsert[toinsert.length - 1]);\n",
              "      element.append(toinsert);\n",
              "      return toinsert\n",
              "    }\n",
              "\n",
              "    /* Handle when an output is cleared or removed */\n",
              "    events.on('clear_output.CodeCell', handleClearOutput);\n",
              "    events.on('delete.Cell', handleClearOutput);\n",
              "\n",
              "    /* Handle when a new output is added */\n",
              "    events.on('output_added.OutputArea', handleAddOutput);\n",
              "\n",
              "    /**\n",
              "     * Register the mime type and append_mime function with output_area\n",
              "     */\n",
              "    OutputArea.prototype.register_mime_type(EXEC_MIME_TYPE, append_mime, {\n",
              "      /* Is output safe? */\n",
              "      safe: true,\n",
              "      /* Index of renderer in `output_area.display_order` */\n",
              "      index: 0\n",
              "    });\n",
              "  }\n",
              "\n",
              "  // register the mime type if in Jupyter Notebook environment and previously unregistered\n",
              "  if (root.Jupyter !== undefined) {\n",
              "    var events = require('base/js/events');\n",
              "    var OutputArea = require('notebook/js/outputarea').OutputArea;\n",
              "\n",
              "    if (OutputArea.prototype.mime_types().indexOf(EXEC_MIME_TYPE) == -1) {\n",
              "      register_renderer(events, OutputArea);\n",
              "    }\n",
              "  }\n",
              "\n",
              "  \n",
              "  if (typeof (root._bokeh_timeout) === \"undefined\" || force === true) {\n",
              "    root._bokeh_timeout = Date.now() + 5000;\n",
              "    root._bokeh_failed_load = false;\n",
              "  }\n",
              "\n",
              "  var NB_LOAD_WARNING = {'data': {'text/html':\n",
              "     \"<div style='background-color: #fdd'>\\n\"+\n",
              "     \"<p>\\n\"+\n",
              "     \"BokehJS does not appear to have successfully loaded. If loading BokehJS from CDN, this \\n\"+\n",
              "     \"may be due to a slow or bad network connection. Possible fixes:\\n\"+\n",
              "     \"</p>\\n\"+\n",
              "     \"<ul>\\n\"+\n",
              "     \"<li>re-rerun `output_notebook()` to attempt to load from CDN again, or</li>\\n\"+\n",
              "     \"<li>use INLINE resources instead, as so:</li>\\n\"+\n",
              "     \"</ul>\\n\"+\n",
              "     \"<code>\\n\"+\n",
              "     \"from bokeh.resources import INLINE\\n\"+\n",
              "     \"output_notebook(resources=INLINE)\\n\"+\n",
              "     \"</code>\\n\"+\n",
              "     \"</div>\"}};\n",
              "\n",
              "  function display_loaded() {\n",
              "    var el = document.getElementById(\"0aefd452-5723-4d1d-b3b4-a8ab261caf81\");\n",
              "    if (el != null) {\n",
              "      el.textContent = \"BokehJS is loading...\";\n",
              "    }\n",
              "    if (root.Bokeh !== undefined) {\n",
              "      if (el != null) {\n",
              "        el.textContent = \"BokehJS \" + root.Bokeh.version + \" successfully loaded.\";\n",
              "      }\n",
              "    } else if (Date.now() < root._bokeh_timeout) {\n",
              "      setTimeout(display_loaded, 100)\n",
              "    }\n",
              "  }\n",
              "\n",
              "\n",
              "  function run_callbacks() {\n",
              "    try {\n",
              "      root._bokeh_onload_callbacks.forEach(function(callback) { callback() });\n",
              "    }\n",
              "    finally {\n",
              "      delete root._bokeh_onload_callbacks\n",
              "    }\n",
              "    console.info(\"Bokeh: all callbacks have finished\");\n",
              "  }\n",
              "\n",
              "  function load_libs(js_urls, callback) {\n",
              "    root._bokeh_onload_callbacks.push(callback);\n",
              "    if (root._bokeh_is_loading > 0) {\n",
              "      console.log(\"Bokeh: BokehJS is being loaded, scheduling callback at\", now());\n",
              "      return null;\n",
              "    }\n",
              "    if (js_urls == null || js_urls.length === 0) {\n",
              "      run_callbacks();\n",
              "      return null;\n",
              "    }\n",
              "    console.log(\"Bokeh: BokehJS not loaded, scheduling load and callback at\", now());\n",
              "    root._bokeh_is_loading = js_urls.length;\n",
              "    for (var i = 0; i < js_urls.length; i++) {\n",
              "      var url = js_urls[i];\n",
              "      var s = document.createElement('script');\n",
              "      s.src = url;\n",
              "      s.async = false;\n",
              "      s.onreadystatechange = s.onload = function() {\n",
              "        root._bokeh_is_loading--;\n",
              "        if (root._bokeh_is_loading === 0) {\n",
              "          console.log(\"Bokeh: all BokehJS libraries loaded\");\n",
              "          run_callbacks()\n",
              "        }\n",
              "      };\n",
              "      s.onerror = function() {\n",
              "        console.warn(\"failed to load library \" + url);\n",
              "      };\n",
              "      console.log(\"Bokeh: injecting script tag for BokehJS library: \", url);\n",
              "      document.getElementsByTagName(\"head\")[0].appendChild(s);\n",
              "    }\n",
              "  };var element = document.getElementById(\"0aefd452-5723-4d1d-b3b4-a8ab261caf81\");\n",
              "  if (element == null) {\n",
              "    console.log(\"Bokeh: ERROR: autoload.js configured with elementid '0aefd452-5723-4d1d-b3b4-a8ab261caf81' but no matching script tag was found. \")\n",
              "    return false;\n",
              "  }\n",
              "\n",
              "  var js_urls = [\"https://cdn.pydata.org/bokeh/release/bokeh-0.13.0.min.js\", \"https://cdn.pydata.org/bokeh/release/bokeh-widgets-0.13.0.min.js\", \"https://cdn.pydata.org/bokeh/release/bokeh-tables-0.13.0.min.js\", \"https://cdn.pydata.org/bokeh/release/bokeh-gl-0.13.0.min.js\"];\n",
              "\n",
              "  var inline_js = [\n",
              "    function(Bokeh) {\n",
              "      Bokeh.set_log_level(\"info\");\n",
              "    },\n",
              "    \n",
              "    function(Bokeh) {\n",
              "      \n",
              "    },\n",
              "    function(Bokeh) {\n",
              "      console.log(\"Bokeh: injecting CSS: https://cdn.pydata.org/bokeh/release/bokeh-0.13.0.min.css\");\n",
              "      Bokeh.embed.inject_css(\"https://cdn.pydata.org/bokeh/release/bokeh-0.13.0.min.css\");\n",
              "      console.log(\"Bokeh: injecting CSS: https://cdn.pydata.org/bokeh/release/bokeh-widgets-0.13.0.min.css\");\n",
              "      Bokeh.embed.inject_css(\"https://cdn.pydata.org/bokeh/release/bokeh-widgets-0.13.0.min.css\");\n",
              "      console.log(\"Bokeh: injecting CSS: https://cdn.pydata.org/bokeh/release/bokeh-tables-0.13.0.min.css\");\n",
              "      Bokeh.embed.inject_css(\"https://cdn.pydata.org/bokeh/release/bokeh-tables-0.13.0.min.css\");\n",
              "    }\n",
              "  ];\n",
              "\n",
              "  function run_inline_js() {\n",
              "    \n",
              "    if ((root.Bokeh !== undefined) || (force === true)) {\n",
              "      for (var i = 0; i < inline_js.length; i++) {\n",
              "        inline_js[i].call(root, root.Bokeh);\n",
              "      }if (force === true) {\n",
              "        display_loaded();\n",
              "      }} else if (Date.now() < root._bokeh_timeout) {\n",
              "      setTimeout(run_inline_js, 100);\n",
              "    } else if (!root._bokeh_failed_load) {\n",
              "      console.log(\"Bokeh: BokehJS failed to load within specified timeout.\");\n",
              "      root._bokeh_failed_load = true;\n",
              "    } else if (force !== true) {\n",
              "      var cell = $(document.getElementById(\"0aefd452-5723-4d1d-b3b4-a8ab261caf81\")).parents('.cell').data().cell;\n",
              "      cell.output_area.append_execute_result(NB_LOAD_WARNING)\n",
              "    }\n",
              "\n",
              "  }\n",
              "\n",
              "  if (root._bokeh_is_loading === 0) {\n",
              "    console.log(\"Bokeh: BokehJS loaded, going straight to plotting\");\n",
              "    run_inline_js();\n",
              "  } else {\n",
              "    load_libs(js_urls, function() {\n",
              "      console.log(\"Bokeh: BokehJS plotting callback run at\", now());\n",
              "      run_inline_js();\n",
              "    });\n",
              "  }\n",
              "}(window));"
            ],
            "application/vnd.bokehjs_load.v0+json": "\n(function(root) {\n  function now() {\n    return new Date();\n  }\n\n  var force = true;\n\n  if (typeof (root._bokeh_onload_callbacks) === \"undefined\" || force === true) {\n    root._bokeh_onload_callbacks = [];\n    root._bokeh_is_loading = undefined;\n  }\n\n  \n\n  \n  if (typeof (root._bokeh_timeout) === \"undefined\" || force === true) {\n    root._bokeh_timeout = Date.now() + 5000;\n    root._bokeh_failed_load = false;\n  }\n\n  var NB_LOAD_WARNING = {'data': {'text/html':\n     \"<div style='background-color: #fdd'>\\n\"+\n     \"<p>\\n\"+\n     \"BokehJS does not appear to have successfully loaded. If loading BokehJS from CDN, this \\n\"+\n     \"may be due to a slow or bad network connection. Possible fixes:\\n\"+\n     \"</p>\\n\"+\n     \"<ul>\\n\"+\n     \"<li>re-rerun `output_notebook()` to attempt to load from CDN again, or</li>\\n\"+\n     \"<li>use INLINE resources instead, as so:</li>\\n\"+\n     \"</ul>\\n\"+\n     \"<code>\\n\"+\n     \"from bokeh.resources import INLINE\\n\"+\n     \"output_notebook(resources=INLINE)\\n\"+\n     \"</code>\\n\"+\n     \"</div>\"}};\n\n  function display_loaded() {\n    var el = document.getElementById(\"0aefd452-5723-4d1d-b3b4-a8ab261caf81\");\n    if (el != null) {\n      el.textContent = \"BokehJS is loading...\";\n    }\n    if (root.Bokeh !== undefined) {\n      if (el != null) {\n        el.textContent = \"BokehJS \" + root.Bokeh.version + \" successfully loaded.\";\n      }\n    } else if (Date.now() < root._bokeh_timeout) {\n      setTimeout(display_loaded, 100)\n    }\n  }\n\n\n  function run_callbacks() {\n    try {\n      root._bokeh_onload_callbacks.forEach(function(callback) { callback() });\n    }\n    finally {\n      delete root._bokeh_onload_callbacks\n    }\n    console.info(\"Bokeh: all callbacks have finished\");\n  }\n\n  function load_libs(js_urls, callback) {\n    root._bokeh_onload_callbacks.push(callback);\n    if (root._bokeh_is_loading > 0) {\n      console.log(\"Bokeh: BokehJS is being loaded, scheduling callback at\", now());\n      return null;\n    }\n    if (js_urls == null || js_urls.length === 0) {\n      run_callbacks();\n      return null;\n    }\n    console.log(\"Bokeh: BokehJS not loaded, scheduling load and callback at\", now());\n    root._bokeh_is_loading = js_urls.length;\n    for (var i = 0; i < js_urls.length; i++) {\n      var url = js_urls[i];\n      var s = document.createElement('script');\n      s.src = url;\n      s.async = false;\n      s.onreadystatechange = s.onload = function() {\n        root._bokeh_is_loading--;\n        if (root._bokeh_is_loading === 0) {\n          console.log(\"Bokeh: all BokehJS libraries loaded\");\n          run_callbacks()\n        }\n      };\n      s.onerror = function() {\n        console.warn(\"failed to load library \" + url);\n      };\n      console.log(\"Bokeh: injecting script tag for BokehJS library: \", url);\n      document.getElementsByTagName(\"head\")[0].appendChild(s);\n    }\n  };var element = document.getElementById(\"0aefd452-5723-4d1d-b3b4-a8ab261caf81\");\n  if (element == null) {\n    console.log(\"Bokeh: ERROR: autoload.js configured with elementid '0aefd452-5723-4d1d-b3b4-a8ab261caf81' but no matching script tag was found. \")\n    return false;\n  }\n\n  var js_urls = [\"https://cdn.pydata.org/bokeh/release/bokeh-0.13.0.min.js\", \"https://cdn.pydata.org/bokeh/release/bokeh-widgets-0.13.0.min.js\", \"https://cdn.pydata.org/bokeh/release/bokeh-tables-0.13.0.min.js\", \"https://cdn.pydata.org/bokeh/release/bokeh-gl-0.13.0.min.js\"];\n\n  var inline_js = [\n    function(Bokeh) {\n      Bokeh.set_log_level(\"info\");\n    },\n    \n    function(Bokeh) {\n      \n    },\n    function(Bokeh) {\n      console.log(\"Bokeh: injecting CSS: https://cdn.pydata.org/bokeh/release/bokeh-0.13.0.min.css\");\n      Bokeh.embed.inject_css(\"https://cdn.pydata.org/bokeh/release/bokeh-0.13.0.min.css\");\n      console.log(\"Bokeh: injecting CSS: https://cdn.pydata.org/bokeh/release/bokeh-widgets-0.13.0.min.css\");\n      Bokeh.embed.inject_css(\"https://cdn.pydata.org/bokeh/release/bokeh-widgets-0.13.0.min.css\");\n      console.log(\"Bokeh: injecting CSS: https://cdn.pydata.org/bokeh/release/bokeh-tables-0.13.0.min.css\");\n      Bokeh.embed.inject_css(\"https://cdn.pydata.org/bokeh/release/bokeh-tables-0.13.0.min.css\");\n    }\n  ];\n\n  function run_inline_js() {\n    \n    if ((root.Bokeh !== undefined) || (force === true)) {\n      for (var i = 0; i < inline_js.length; i++) {\n        inline_js[i].call(root, root.Bokeh);\n      }if (force === true) {\n        display_loaded();\n      }} else if (Date.now() < root._bokeh_timeout) {\n      setTimeout(run_inline_js, 100);\n    } else if (!root._bokeh_failed_load) {\n      console.log(\"Bokeh: BokehJS failed to load within specified timeout.\");\n      root._bokeh_failed_load = true;\n    } else if (force !== true) {\n      var cell = $(document.getElementById(\"0aefd452-5723-4d1d-b3b4-a8ab261caf81\")).parents('.cell').data().cell;\n      cell.output_area.append_execute_result(NB_LOAD_WARNING)\n    }\n\n  }\n\n  if (root._bokeh_is_loading === 0) {\n    console.log(\"Bokeh: BokehJS loaded, going straight to plotting\");\n    run_inline_js();\n  } else {\n    load_libs(js_urls, function() {\n      console.log(\"Bokeh: BokehJS plotting callback run at\", now());\n      run_inline_js();\n    });\n  }\n}(window));"
          },
          "metadata": {
            "tags": []
          }
        },
        {
          "output_type": "display_data",
          "data": {
            "text/html": [
              "\n",
              "\n",
              "\n",
              "\n",
              "\n",
              "\n",
              "  <div class=\"bk-root\" id=\"7a7a8e97-0925-46bc-9fdd-922dfaf3315b\"></div>\n"
            ]
          },
          "metadata": {
            "tags": []
          }
        },
        {
          "output_type": "display_data",
          "data": {
            "application/javascript": [
              "(function(root) {\n",
              "  function embed_document(root) {\n",
              "    \n",
              "  var docs_json = {\"af06af9e-eb18-42f2-a5e9-0323629687db\":{\"roots\":{\"references\":[{\"attributes\":{},\"id\":\"72bfd071-c377-4110-aa77-a5a1285feeca\",\"type\":\"Selection\"},{\"attributes\":{\"ticks\":[0.5,1.5,2.5,3.5,4.5,5.5,6.5,7.5,8.5,9.5,10.5]},\"id\":\"8769d261-228b-470a-a283-989b0039c406\",\"type\":\"FixedTicker\"},{\"attributes\":{},\"id\":\"4e7ce142-fd65-4cd0-a89f-29fc6e7ef78c\",\"type\":\"LinearScale\"},{\"attributes\":{\"callback\":null,\"end\":11},\"id\":\"713a6354-0de8-4b74-bd59-ddf2f678c418\",\"type\":\"Range1d\"},{\"attributes\":{},\"id\":\"eeb86442-d60b-49be-97c7-813aa5d4f719\",\"type\":\"BasicTickFormatter\"},{\"attributes\":{\"callback\":null,\"data\":{\"image\":[{\"__ndarray__\":\"WnqDPcktOT39s408ROLgO1tMFD7BISo8xwDHPCb62z1vnrs9OOWKPSwW1z575Cc8fOfzPOPo3jlU5S86KuGAPDAdgTxNi687HTTVPTbaaj3Ut489Mb8wP1A80jzYnH48J9aWOXMrZjnMoFQ8gX+tPCLB0zx1ACQ99FflPjAPTT5aGFc+Jf2qPMmViTyp/OM7B2hNO7x60DzPcKY7/VZfPfXZjj2n6JM+58CQPWMw4D4f1pw6MTkcOo5RyTgPstc4/G7wOi0cnzoBwPs7TSowPdViED5zEKc+SzX0PmNxyDmvwwM5CfeSN177QzdeuRY5tr4VO5CWTTzKBzU9iKABP+8boT5cQvQ9TdOeOuQwTjo5ogI6W3jdOcI+qzw32jM9W5ROPKLvUD6iGBk/KH+tPW2lBj23FxQ893ZXO12fUTtT5sM6pBhxPGcTkDsiG7A9sf9mPutAjz5uBWQ+rWsZPk1AkztQj7Q7OTsBO1adDTtpHIc82ubXPAxiLD+JPVw9H2CwPeockT2UPnE9hweKO2QdzjuQUKo62qlNO32cET2LehY/izFOPl8WFzymstw9q0vyPMrIYTz2EQs7lHMGOypjgTvIYNI7274SPme18z5go18+6VlyPALu0j05Jbk8pq7xO8GDOzxcRbA7gUYkPGaaGDxyY0A+B7aNPq7K5D2ldQM+wWhDPnx3OT1vM7w81wMZPCeLWDxtdc885JC5PcDpHD7DWuE+0cNOPlQYijxC2u08cvBnPPXvyTvUrwQ9dl4LPdLUMj5I93Y+UpVdPqpSVD71TgE9WAG3PEOWqTwzkyc8XIcWPNSvBD12Xgs90tQyPkj3dj5SlV0+qlJUPvVOAT1YAbc8Q5apPDOTJzxchxY8\",\"dtype\":\"float32\",\"shape\":[15,11]}]},\"selected\":{\"id\":\"72bfd071-c377-4110-aa77-a5a1285feeca\",\"type\":\"Selection\"},\"selection_policy\":{\"id\":\"c066b17c-5f54-4e45-91c5-b4d69dcc8ab2\",\"type\":\"UnionRenderers\"}},\"id\":\"70d0642c-07a1-4181-aba9-af2e3381d4f2\",\"type\":\"ColumnDataSource\"},{\"attributes\":{\"palette\":[\"#000000\",\"#252525\",\"#525252\",\"#737373\",\"#969696\",\"#bdbdbd\",\"#d9d9d9\",\"#f0f0f0\",\"#ffffff\"]},\"id\":\"400cd5c5-5762-40b2-af27-181685cbff79\",\"type\":\"LinearColorMapper\"},{\"attributes\":{\"source\":{\"id\":\"70d0642c-07a1-4181-aba9-af2e3381d4f2\",\"type\":\"ColumnDataSource\"}},\"id\":\"2f6bf8dd-a75e-42eb-bdc6-2185c73950f4\",\"type\":\"CDSView\"},{\"attributes\":{},\"id\":\"c066b17c-5f54-4e45-91c5-b4d69dcc8ab2\",\"type\":\"UnionRenderers\"},{\"attributes\":{\"active_drag\":\"auto\",\"active_inspect\":\"auto\",\"active_multi\":null,\"active_scroll\":\"auto\",\"active_tap\":\"auto\"},\"id\":\"8e88d555-85e8-4510-bd2f-8ef0bfbb2c29\",\"type\":\"Toolbar\"},{\"attributes\":{},\"id\":\"7c34c033-fbbe-42b5-b56e-bcaaf765096a\",\"type\":\"BasicTickFormatter\"},{\"attributes\":{\"axis_label\":\"translation tokens\",\"formatter\":{\"id\":\"7c34c033-fbbe-42b5-b56e-bcaaf765096a\",\"type\":\"BasicTickFormatter\"},\"major_label_overrides\":{\"0.5\":\"_EOS_\",\"1.5\":\".\",\"10.5\":\"shared\",\"11.5\":\"a\",\"12.5\":\"is\",\"13.5\":\"there\",\"14.5\":\"_BOS_\",\"2.5\":\"property\",\"3.5\":\"the\",\"4.5\":\"at\",\"5.5\":\"lounge\",\"6.5\":\"shared\",\"7.5\":\"a\",\"8.5\":\"and\",\"9.5\":\"kitchen\"},\"plot\":{\"id\":\"cfc35a76-7a21-481f-a193-4d66bb4c117c\",\"subtype\":\"Figure\",\"type\":\"Plot\"},\"ticker\":{\"id\":\"140bb788-6bc2-4de9-97ff-e5ad44124a2c\",\"type\":\"FixedTicker\"}},\"id\":\"7880015a-2b9d-4489-b201-ce7fc4c6fed3\",\"type\":\"LinearAxis\"},{\"attributes\":{\"color_mapper\":{\"id\":\"f820df41-7f47-4ea6-891d-11213076d892\",\"type\":\"LinearColorMapper\"},\"dh\":{\"units\":\"data\",\"value\":15},\"dw\":{\"units\":\"data\",\"value\":11},\"image\":{\"field\":\"image\"},\"x\":{\"value\":0},\"y\":{\"value\":0}},\"id\":\"a0a25c97-cf06-4da4-a305-26c428655cb7\",\"type\":\"Image\"},{\"attributes\":{\"plot\":null,\"text\":\"\"},\"id\":\"d137dcb1-3c9b-428c-afc5-358ea4492cb9\",\"type\":\"Title\"},{\"attributes\":{\"callback\":null,\"end\":15},\"id\":\"9bc6551c-f1c5-45e4-9198-d096b64fcdc5\",\"type\":\"Range1d\"},{\"attributes\":{\"axis_label\":\"source tokens\",\"formatter\":{\"id\":\"eeb86442-d60b-49be-97c7-813aa5d4f719\",\"type\":\"BasicTickFormatter\"},\"major_label_orientation\":45,\"major_label_overrides\":{\"0.5\":\"_BOS_\",\"1.5\":\"\\u0432\",\"10.5\":\"_EOS_\",\"2.5\":\"\\u0440\\u0430\\u0441\\u043f\\u043e\\u0440\\u044f\\u0436\\u0435\\u043d\\u0438\\u0438\",\"3.5\":\"\\u0433\\u043e\\u0441\\u0442\\u0435\\u0439\",\"4.5\":\"\\u043e\\u0431\\u0449\\u0430\\u044f\",\"5.5\":\"\\u043a\\u0443\\u0445\\u043d\\u044f\",\"6.5\":\"\\u0438\",\"7.5\":\"\\u043e\\u0431\\u0449\\u0430\\u044f\",\"8.5\":\"\\u0433\\u043e\\u0441\\u0442\\u0438\\u043d\\u0430\\u044f\",\"9.5\":\".\"},\"plot\":{\"id\":\"cfc35a76-7a21-481f-a193-4d66bb4c117c\",\"subtype\":\"Figure\",\"type\":\"Plot\"},\"ticker\":{\"id\":\"8769d261-228b-470a-a283-989b0039c406\",\"type\":\"FixedTicker\"}},\"id\":\"efe36697-6143-4a84-95b2-85e328694f1b\",\"type\":\"LinearAxis\"},{\"attributes\":{\"color_mapper\":{\"id\":\"400cd5c5-5762-40b2-af27-181685cbff79\",\"type\":\"LinearColorMapper\"},\"dh\":{\"units\":\"data\",\"value\":15},\"dw\":{\"units\":\"data\",\"value\":11},\"image\":{\"field\":\"image\"},\"x\":{\"value\":0},\"y\":{\"value\":0}},\"id\":\"0c8688f1-43b2-4437-abc3-a0ffbe672c7d\",\"type\":\"Image\"},{\"attributes\":{\"data_source\":{\"id\":\"70d0642c-07a1-4181-aba9-af2e3381d4f2\",\"type\":\"ColumnDataSource\"},\"glyph\":{\"id\":\"0c8688f1-43b2-4437-abc3-a0ffbe672c7d\",\"type\":\"Image\"},\"hover_glyph\":null,\"muted_glyph\":null,\"nonselection_glyph\":{\"id\":\"a0a25c97-cf06-4da4-a305-26c428655cb7\",\"type\":\"Image\"},\"selection_glyph\":null,\"view\":{\"id\":\"2f6bf8dd-a75e-42eb-bdc6-2185c73950f4\",\"type\":\"CDSView\"}},\"id\":\"1029e543-6178-48ab-90b2-2ba857ce28d5\",\"type\":\"GlyphRenderer\"},{\"attributes\":{\"palette\":[\"#000000\",\"#252525\",\"#525252\",\"#737373\",\"#969696\",\"#bdbdbd\",\"#d9d9d9\",\"#f0f0f0\",\"#ffffff\"]},\"id\":\"f820df41-7f47-4ea6-891d-11213076d892\",\"type\":\"LinearColorMapper\"},{\"attributes\":{\"ticks\":[0.5,1.5,2.5,3.5,4.5,5.5,6.5,7.5,8.5,9.5,10.5,11.5,12.5,13.5,14.5]},\"id\":\"140bb788-6bc2-4de9-97ff-e5ad44124a2c\",\"type\":\"FixedTicker\"},{\"attributes\":{\"above\":[{\"id\":\"efe36697-6143-4a84-95b2-85e328694f1b\",\"type\":\"LinearAxis\"}],\"left\":[{\"id\":\"7880015a-2b9d-4489-b201-ce7fc4c6fed3\",\"type\":\"LinearAxis\"}],\"renderers\":[{\"id\":\"1029e543-6178-48ab-90b2-2ba857ce28d5\",\"type\":\"GlyphRenderer\"},{\"id\":\"efe36697-6143-4a84-95b2-85e328694f1b\",\"type\":\"LinearAxis\"},{\"id\":\"7880015a-2b9d-4489-b201-ce7fc4c6fed3\",\"type\":\"LinearAxis\"}],\"title\":{\"id\":\"d137dcb1-3c9b-428c-afc5-358ea4492cb9\",\"type\":\"Title\"},\"toolbar\":{\"id\":\"8e88d555-85e8-4510-bd2f-8ef0bfbb2c29\",\"type\":\"Toolbar\"},\"x_range\":{\"id\":\"713a6354-0de8-4b74-bd59-ddf2f678c418\",\"type\":\"Range1d\"},\"x_scale\":{\"id\":\"4e7ce142-fd65-4cd0-a89f-29fc6e7ef78c\",\"type\":\"LinearScale\"},\"y_range\":{\"id\":\"9bc6551c-f1c5-45e4-9198-d096b64fcdc5\",\"type\":\"Range1d\"},\"y_scale\":{\"id\":\"dd4b4818-3adb-483c-ae09-d1844f5ec2b6\",\"type\":\"LinearScale\"}},\"id\":\"cfc35a76-7a21-481f-a193-4d66bb4c117c\",\"subtype\":\"Figure\",\"type\":\"Plot\"},{\"attributes\":{},\"id\":\"dd4b4818-3adb-483c-ae09-d1844f5ec2b6\",\"type\":\"LinearScale\"}],\"root_ids\":[\"cfc35a76-7a21-481f-a193-4d66bb4c117c\"]},\"title\":\"Bokeh Application\",\"version\":\"0.13.0\"}};\n",
              "  var render_items = [{\"docid\":\"af06af9e-eb18-42f2-a5e9-0323629687db\",\"roots\":{\"cfc35a76-7a21-481f-a193-4d66bb4c117c\":\"7a7a8e97-0925-46bc-9fdd-922dfaf3315b\"}}];\n",
              "  root.Bokeh.embed.embed_items_notebook(docs_json, render_items);\n",
              "\n",
              "  }\n",
              "  if (root.Bokeh !== undefined) {\n",
              "    embed_document(root);\n",
              "  } else {\n",
              "    var attempts = 0;\n",
              "    var timer = setInterval(function(root) {\n",
              "      if (root.Bokeh !== undefined) {\n",
              "        embed_document(root);\n",
              "        clearInterval(timer);\n",
              "      }\n",
              "      attempts++;\n",
              "      if (attempts > 100) {\n",
              "        console.log(\"Bokeh: ERROR: Unable to run BokehJS code because BokehJS library is missing\")\n",
              "        clearInterval(timer);\n",
              "      }\n",
              "    }, 10, root)\n",
              "  }\n",
              "})(window);"
            ],
            "application/vnd.bokehjs_exec.v0+json": ""
          },
          "metadata": {
            "tags": [],
            "application/vnd.bokehjs_exec.v0+json": {
              "id": "cfc35a76-7a21-481f-a193-4d66bb4c117c"
            }
          }
        },
        {
          "output_type": "display_data",
          "data": {
            "text/html": [
              "\n",
              "    <div class=\"bk-root\">\n",
              "        <a href=\"https://bokeh.pydata.org\" target=\"_blank\" class=\"bk-logo bk-logo-small bk-logo-notebook\"></a>\n",
              "        <span id=\"5d5ecd43-e73b-43f1-9526-8b1c3f6934f4\">Loading BokehJS ...</span>\n",
              "    </div>"
            ]
          },
          "metadata": {
            "tags": []
          }
        },
        {
          "output_type": "display_data",
          "data": {
            "application/javascript": [
              "\n",
              "(function(root) {\n",
              "  function now() {\n",
              "    return new Date();\n",
              "  }\n",
              "\n",
              "  var force = true;\n",
              "\n",
              "  if (typeof (root._bokeh_onload_callbacks) === \"undefined\" || force === true) {\n",
              "    root._bokeh_onload_callbacks = [];\n",
              "    root._bokeh_is_loading = undefined;\n",
              "  }\n",
              "\n",
              "  var JS_MIME_TYPE = 'application/javascript';\n",
              "  var HTML_MIME_TYPE = 'text/html';\n",
              "  var EXEC_MIME_TYPE = 'application/vnd.bokehjs_exec.v0+json';\n",
              "  var CLASS_NAME = 'output_bokeh rendered_html';\n",
              "\n",
              "  /**\n",
              "   * Render data to the DOM node\n",
              "   */\n",
              "  function render(props, node) {\n",
              "    var script = document.createElement(\"script\");\n",
              "    node.appendChild(script);\n",
              "  }\n",
              "\n",
              "  /**\n",
              "   * Handle when an output is cleared or removed\n",
              "   */\n",
              "  function handleClearOutput(event, handle) {\n",
              "    var cell = handle.cell;\n",
              "\n",
              "    var id = cell.output_area._bokeh_element_id;\n",
              "    var server_id = cell.output_area._bokeh_server_id;\n",
              "    // Clean up Bokeh references\n",
              "    if (id != null && id in Bokeh.index) {\n",
              "      Bokeh.index[id].model.document.clear();\n",
              "      delete Bokeh.index[id];\n",
              "    }\n",
              "\n",
              "    if (server_id !== undefined) {\n",
              "      // Clean up Bokeh references\n",
              "      var cmd = \"from bokeh.io.state import curstate; print(curstate().uuid_to_server['\" + server_id + \"'].get_sessions()[0].document.roots[0]._id)\";\n",
              "      cell.notebook.kernel.execute(cmd, {\n",
              "        iopub: {\n",
              "          output: function(msg) {\n",
              "            var id = msg.content.text.trim();\n",
              "            if (id in Bokeh.index) {\n",
              "              Bokeh.index[id].model.document.clear();\n",
              "              delete Bokeh.index[id];\n",
              "            }\n",
              "          }\n",
              "        }\n",
              "      });\n",
              "      // Destroy server and session\n",
              "      var cmd = \"import bokeh.io.notebook as ion; ion.destroy_server('\" + server_id + \"')\";\n",
              "      cell.notebook.kernel.execute(cmd);\n",
              "    }\n",
              "  }\n",
              "\n",
              "  /**\n",
              "   * Handle when a new output is added\n",
              "   */\n",
              "  function handleAddOutput(event, handle) {\n",
              "    var output_area = handle.output_area;\n",
              "    var output = handle.output;\n",
              "\n",
              "    // limit handleAddOutput to display_data with EXEC_MIME_TYPE content only\n",
              "    if ((output.output_type != \"display_data\") || (!output.data.hasOwnProperty(EXEC_MIME_TYPE))) {\n",
              "      return\n",
              "    }\n",
              "\n",
              "    var toinsert = output_area.element.find(\".\" + CLASS_NAME.split(' ')[0]);\n",
              "\n",
              "    if (output.metadata[EXEC_MIME_TYPE][\"id\"] !== undefined) {\n",
              "      toinsert[toinsert.length - 1].firstChild.textContent = output.data[JS_MIME_TYPE];\n",
              "      // store reference to embed id on output_area\n",
              "      output_area._bokeh_element_id = output.metadata[EXEC_MIME_TYPE][\"id\"];\n",
              "    }\n",
              "    if (output.metadata[EXEC_MIME_TYPE][\"server_id\"] !== undefined) {\n",
              "      var bk_div = document.createElement(\"div\");\n",
              "      bk_div.innerHTML = output.data[HTML_MIME_TYPE];\n",
              "      var script_attrs = bk_div.children[0].attributes;\n",
              "      for (var i = 0; i < script_attrs.length; i++) {\n",
              "        toinsert[toinsert.length - 1].firstChild.setAttribute(script_attrs[i].name, script_attrs[i].value);\n",
              "      }\n",
              "      // store reference to server id on output_area\n",
              "      output_area._bokeh_server_id = output.metadata[EXEC_MIME_TYPE][\"server_id\"];\n",
              "    }\n",
              "  }\n",
              "\n",
              "  function register_renderer(events, OutputArea) {\n",
              "\n",
              "    function append_mime(data, metadata, element) {\n",
              "      // create a DOM node to render to\n",
              "      var toinsert = this.create_output_subarea(\n",
              "        metadata,\n",
              "        CLASS_NAME,\n",
              "        EXEC_MIME_TYPE\n",
              "      );\n",
              "      this.keyboard_manager.register_events(toinsert);\n",
              "      // Render to node\n",
              "      var props = {data: data, metadata: metadata[EXEC_MIME_TYPE]};\n",
              "      render(props, toinsert[toinsert.length - 1]);\n",
              "      element.append(toinsert);\n",
              "      return toinsert\n",
              "    }\n",
              "\n",
              "    /* Handle when an output is cleared or removed */\n",
              "    events.on('clear_output.CodeCell', handleClearOutput);\n",
              "    events.on('delete.Cell', handleClearOutput);\n",
              "\n",
              "    /* Handle when a new output is added */\n",
              "    events.on('output_added.OutputArea', handleAddOutput);\n",
              "\n",
              "    /**\n",
              "     * Register the mime type and append_mime function with output_area\n",
              "     */\n",
              "    OutputArea.prototype.register_mime_type(EXEC_MIME_TYPE, append_mime, {\n",
              "      /* Is output safe? */\n",
              "      safe: true,\n",
              "      /* Index of renderer in `output_area.display_order` */\n",
              "      index: 0\n",
              "    });\n",
              "  }\n",
              "\n",
              "  // register the mime type if in Jupyter Notebook environment and previously unregistered\n",
              "  if (root.Jupyter !== undefined) {\n",
              "    var events = require('base/js/events');\n",
              "    var OutputArea = require('notebook/js/outputarea').OutputArea;\n",
              "\n",
              "    if (OutputArea.prototype.mime_types().indexOf(EXEC_MIME_TYPE) == -1) {\n",
              "      register_renderer(events, OutputArea);\n",
              "    }\n",
              "  }\n",
              "\n",
              "  \n",
              "  if (typeof (root._bokeh_timeout) === \"undefined\" || force === true) {\n",
              "    root._bokeh_timeout = Date.now() + 5000;\n",
              "    root._bokeh_failed_load = false;\n",
              "  }\n",
              "\n",
              "  var NB_LOAD_WARNING = {'data': {'text/html':\n",
              "     \"<div style='background-color: #fdd'>\\n\"+\n",
              "     \"<p>\\n\"+\n",
              "     \"BokehJS does not appear to have successfully loaded. If loading BokehJS from CDN, this \\n\"+\n",
              "     \"may be due to a slow or bad network connection. Possible fixes:\\n\"+\n",
              "     \"</p>\\n\"+\n",
              "     \"<ul>\\n\"+\n",
              "     \"<li>re-rerun `output_notebook()` to attempt to load from CDN again, or</li>\\n\"+\n",
              "     \"<li>use INLINE resources instead, as so:</li>\\n\"+\n",
              "     \"</ul>\\n\"+\n",
              "     \"<code>\\n\"+\n",
              "     \"from bokeh.resources import INLINE\\n\"+\n",
              "     \"output_notebook(resources=INLINE)\\n\"+\n",
              "     \"</code>\\n\"+\n",
              "     \"</div>\"}};\n",
              "\n",
              "  function display_loaded() {\n",
              "    var el = document.getElementById(\"5d5ecd43-e73b-43f1-9526-8b1c3f6934f4\");\n",
              "    if (el != null) {\n",
              "      el.textContent = \"BokehJS is loading...\";\n",
              "    }\n",
              "    if (root.Bokeh !== undefined) {\n",
              "      if (el != null) {\n",
              "        el.textContent = \"BokehJS \" + root.Bokeh.version + \" successfully loaded.\";\n",
              "      }\n",
              "    } else if (Date.now() < root._bokeh_timeout) {\n",
              "      setTimeout(display_loaded, 100)\n",
              "    }\n",
              "  }\n",
              "\n",
              "\n",
              "  function run_callbacks() {\n",
              "    try {\n",
              "      root._bokeh_onload_callbacks.forEach(function(callback) { callback() });\n",
              "    }\n",
              "    finally {\n",
              "      delete root._bokeh_onload_callbacks\n",
              "    }\n",
              "    console.info(\"Bokeh: all callbacks have finished\");\n",
              "  }\n",
              "\n",
              "  function load_libs(js_urls, callback) {\n",
              "    root._bokeh_onload_callbacks.push(callback);\n",
              "    if (root._bokeh_is_loading > 0) {\n",
              "      console.log(\"Bokeh: BokehJS is being loaded, scheduling callback at\", now());\n",
              "      return null;\n",
              "    }\n",
              "    if (js_urls == null || js_urls.length === 0) {\n",
              "      run_callbacks();\n",
              "      return null;\n",
              "    }\n",
              "    console.log(\"Bokeh: BokehJS not loaded, scheduling load and callback at\", now());\n",
              "    root._bokeh_is_loading = js_urls.length;\n",
              "    for (var i = 0; i < js_urls.length; i++) {\n",
              "      var url = js_urls[i];\n",
              "      var s = document.createElement('script');\n",
              "      s.src = url;\n",
              "      s.async = false;\n",
              "      s.onreadystatechange = s.onload = function() {\n",
              "        root._bokeh_is_loading--;\n",
              "        if (root._bokeh_is_loading === 0) {\n",
              "          console.log(\"Bokeh: all BokehJS libraries loaded\");\n",
              "          run_callbacks()\n",
              "        }\n",
              "      };\n",
              "      s.onerror = function() {\n",
              "        console.warn(\"failed to load library \" + url);\n",
              "      };\n",
              "      console.log(\"Bokeh: injecting script tag for BokehJS library: \", url);\n",
              "      document.getElementsByTagName(\"head\")[0].appendChild(s);\n",
              "    }\n",
              "  };var element = document.getElementById(\"5d5ecd43-e73b-43f1-9526-8b1c3f6934f4\");\n",
              "  if (element == null) {\n",
              "    console.log(\"Bokeh: ERROR: autoload.js configured with elementid '5d5ecd43-e73b-43f1-9526-8b1c3f6934f4' but no matching script tag was found. \")\n",
              "    return false;\n",
              "  }\n",
              "\n",
              "  var js_urls = [\"https://cdn.pydata.org/bokeh/release/bokeh-0.13.0.min.js\", \"https://cdn.pydata.org/bokeh/release/bokeh-widgets-0.13.0.min.js\", \"https://cdn.pydata.org/bokeh/release/bokeh-tables-0.13.0.min.js\", \"https://cdn.pydata.org/bokeh/release/bokeh-gl-0.13.0.min.js\"];\n",
              "\n",
              "  var inline_js = [\n",
              "    function(Bokeh) {\n",
              "      Bokeh.set_log_level(\"info\");\n",
              "    },\n",
              "    \n",
              "    function(Bokeh) {\n",
              "      \n",
              "    },\n",
              "    function(Bokeh) {\n",
              "      console.log(\"Bokeh: injecting CSS: https://cdn.pydata.org/bokeh/release/bokeh-0.13.0.min.css\");\n",
              "      Bokeh.embed.inject_css(\"https://cdn.pydata.org/bokeh/release/bokeh-0.13.0.min.css\");\n",
              "      console.log(\"Bokeh: injecting CSS: https://cdn.pydata.org/bokeh/release/bokeh-widgets-0.13.0.min.css\");\n",
              "      Bokeh.embed.inject_css(\"https://cdn.pydata.org/bokeh/release/bokeh-widgets-0.13.0.min.css\");\n",
              "      console.log(\"Bokeh: injecting CSS: https://cdn.pydata.org/bokeh/release/bokeh-tables-0.13.0.min.css\");\n",
              "      Bokeh.embed.inject_css(\"https://cdn.pydata.org/bokeh/release/bokeh-tables-0.13.0.min.css\");\n",
              "    }\n",
              "  ];\n",
              "\n",
              "  function run_inline_js() {\n",
              "    \n",
              "    if ((root.Bokeh !== undefined) || (force === true)) {\n",
              "      for (var i = 0; i < inline_js.length; i++) {\n",
              "        inline_js[i].call(root, root.Bokeh);\n",
              "      }if (force === true) {\n",
              "        display_loaded();\n",
              "      }} else if (Date.now() < root._bokeh_timeout) {\n",
              "      setTimeout(run_inline_js, 100);\n",
              "    } else if (!root._bokeh_failed_load) {\n",
              "      console.log(\"Bokeh: BokehJS failed to load within specified timeout.\");\n",
              "      root._bokeh_failed_load = true;\n",
              "    } else if (force !== true) {\n",
              "      var cell = $(document.getElementById(\"5d5ecd43-e73b-43f1-9526-8b1c3f6934f4\")).parents('.cell').data().cell;\n",
              "      cell.output_area.append_execute_result(NB_LOAD_WARNING)\n",
              "    }\n",
              "\n",
              "  }\n",
              "\n",
              "  if (root._bokeh_is_loading === 0) {\n",
              "    console.log(\"Bokeh: BokehJS loaded, going straight to plotting\");\n",
              "    run_inline_js();\n",
              "  } else {\n",
              "    load_libs(js_urls, function() {\n",
              "      console.log(\"Bokeh: BokehJS plotting callback run at\", now());\n",
              "      run_inline_js();\n",
              "    });\n",
              "  }\n",
              "}(window));"
            ],
            "application/vnd.bokehjs_load.v0+json": "\n(function(root) {\n  function now() {\n    return new Date();\n  }\n\n  var force = true;\n\n  if (typeof (root._bokeh_onload_callbacks) === \"undefined\" || force === true) {\n    root._bokeh_onload_callbacks = [];\n    root._bokeh_is_loading = undefined;\n  }\n\n  \n\n  \n  if (typeof (root._bokeh_timeout) === \"undefined\" || force === true) {\n    root._bokeh_timeout = Date.now() + 5000;\n    root._bokeh_failed_load = false;\n  }\n\n  var NB_LOAD_WARNING = {'data': {'text/html':\n     \"<div style='background-color: #fdd'>\\n\"+\n     \"<p>\\n\"+\n     \"BokehJS does not appear to have successfully loaded. If loading BokehJS from CDN, this \\n\"+\n     \"may be due to a slow or bad network connection. Possible fixes:\\n\"+\n     \"</p>\\n\"+\n     \"<ul>\\n\"+\n     \"<li>re-rerun `output_notebook()` to attempt to load from CDN again, or</li>\\n\"+\n     \"<li>use INLINE resources instead, as so:</li>\\n\"+\n     \"</ul>\\n\"+\n     \"<code>\\n\"+\n     \"from bokeh.resources import INLINE\\n\"+\n     \"output_notebook(resources=INLINE)\\n\"+\n     \"</code>\\n\"+\n     \"</div>\"}};\n\n  function display_loaded() {\n    var el = document.getElementById(\"5d5ecd43-e73b-43f1-9526-8b1c3f6934f4\");\n    if (el != null) {\n      el.textContent = \"BokehJS is loading...\";\n    }\n    if (root.Bokeh !== undefined) {\n      if (el != null) {\n        el.textContent = \"BokehJS \" + root.Bokeh.version + \" successfully loaded.\";\n      }\n    } else if (Date.now() < root._bokeh_timeout) {\n      setTimeout(display_loaded, 100)\n    }\n  }\n\n\n  function run_callbacks() {\n    try {\n      root._bokeh_onload_callbacks.forEach(function(callback) { callback() });\n    }\n    finally {\n      delete root._bokeh_onload_callbacks\n    }\n    console.info(\"Bokeh: all callbacks have finished\");\n  }\n\n  function load_libs(js_urls, callback) {\n    root._bokeh_onload_callbacks.push(callback);\n    if (root._bokeh_is_loading > 0) {\n      console.log(\"Bokeh: BokehJS is being loaded, scheduling callback at\", now());\n      return null;\n    }\n    if (js_urls == null || js_urls.length === 0) {\n      run_callbacks();\n      return null;\n    }\n    console.log(\"Bokeh: BokehJS not loaded, scheduling load and callback at\", now());\n    root._bokeh_is_loading = js_urls.length;\n    for (var i = 0; i < js_urls.length; i++) {\n      var url = js_urls[i];\n      var s = document.createElement('script');\n      s.src = url;\n      s.async = false;\n      s.onreadystatechange = s.onload = function() {\n        root._bokeh_is_loading--;\n        if (root._bokeh_is_loading === 0) {\n          console.log(\"Bokeh: all BokehJS libraries loaded\");\n          run_callbacks()\n        }\n      };\n      s.onerror = function() {\n        console.warn(\"failed to load library \" + url);\n      };\n      console.log(\"Bokeh: injecting script tag for BokehJS library: \", url);\n      document.getElementsByTagName(\"head\")[0].appendChild(s);\n    }\n  };var element = document.getElementById(\"5d5ecd43-e73b-43f1-9526-8b1c3f6934f4\");\n  if (element == null) {\n    console.log(\"Bokeh: ERROR: autoload.js configured with elementid '5d5ecd43-e73b-43f1-9526-8b1c3f6934f4' but no matching script tag was found. \")\n    return false;\n  }\n\n  var js_urls = [\"https://cdn.pydata.org/bokeh/release/bokeh-0.13.0.min.js\", \"https://cdn.pydata.org/bokeh/release/bokeh-widgets-0.13.0.min.js\", \"https://cdn.pydata.org/bokeh/release/bokeh-tables-0.13.0.min.js\", \"https://cdn.pydata.org/bokeh/release/bokeh-gl-0.13.0.min.js\"];\n\n  var inline_js = [\n    function(Bokeh) {\n      Bokeh.set_log_level(\"info\");\n    },\n    \n    function(Bokeh) {\n      \n    },\n    function(Bokeh) {\n      console.log(\"Bokeh: injecting CSS: https://cdn.pydata.org/bokeh/release/bokeh-0.13.0.min.css\");\n      Bokeh.embed.inject_css(\"https://cdn.pydata.org/bokeh/release/bokeh-0.13.0.min.css\");\n      console.log(\"Bokeh: injecting CSS: https://cdn.pydata.org/bokeh/release/bokeh-widgets-0.13.0.min.css\");\n      Bokeh.embed.inject_css(\"https://cdn.pydata.org/bokeh/release/bokeh-widgets-0.13.0.min.css\");\n      console.log(\"Bokeh: injecting CSS: https://cdn.pydata.org/bokeh/release/bokeh-tables-0.13.0.min.css\");\n      Bokeh.embed.inject_css(\"https://cdn.pydata.org/bokeh/release/bokeh-tables-0.13.0.min.css\");\n    }\n  ];\n\n  function run_inline_js() {\n    \n    if ((root.Bokeh !== undefined) || (force === true)) {\n      for (var i = 0; i < inline_js.length; i++) {\n        inline_js[i].call(root, root.Bokeh);\n      }if (force === true) {\n        display_loaded();\n      }} else if (Date.now() < root._bokeh_timeout) {\n      setTimeout(run_inline_js, 100);\n    } else if (!root._bokeh_failed_load) {\n      console.log(\"Bokeh: BokehJS failed to load within specified timeout.\");\n      root._bokeh_failed_load = true;\n    } else if (force !== true) {\n      var cell = $(document.getElementById(\"5d5ecd43-e73b-43f1-9526-8b1c3f6934f4\")).parents('.cell').data().cell;\n      cell.output_area.append_execute_result(NB_LOAD_WARNING)\n    }\n\n  }\n\n  if (root._bokeh_is_loading === 0) {\n    console.log(\"Bokeh: BokehJS loaded, going straight to plotting\");\n    run_inline_js();\n  } else {\n    load_libs(js_urls, function() {\n      console.log(\"Bokeh: BokehJS plotting callback run at\", now());\n      run_inline_js();\n    });\n  }\n}(window));"
          },
          "metadata": {
            "tags": []
          }
        },
        {
          "output_type": "display_data",
          "data": {
            "text/html": [
              "\n",
              "\n",
              "\n",
              "\n",
              "\n",
              "\n",
              "  <div class=\"bk-root\" id=\"cb3649bc-e311-4c90-8b50-f69bf7e35ba9\"></div>\n"
            ]
          },
          "metadata": {
            "tags": []
          }
        },
        {
          "output_type": "display_data",
          "data": {
            "application/javascript": [
              "(function(root) {\n",
              "  function embed_document(root) {\n",
              "    \n",
              "  var docs_json = {\"088b26ed-6bc0-4fce-80fc-e22b02267a3a\":{\"roots\":{\"references\":[{\"attributes\":{\"palette\":[\"#000000\",\"#252525\",\"#525252\",\"#737373\",\"#969696\",\"#bdbdbd\",\"#d9d9d9\",\"#f0f0f0\",\"#ffffff\"]},\"id\":\"bc35f79a-9735-41d6-9137-17f9a2df5f34\",\"type\":\"LinearColorMapper\"},{\"attributes\":{\"axis_label\":\"source tokens\",\"formatter\":{\"id\":\"19221a49-763d-4f4b-9d56-5cf32c1a1b12\",\"type\":\"BasicTickFormatter\"},\"major_label_orientation\":45,\"major_label_overrides\":{\"0.5\":\"_BOS_\",\"1.5\":\"\\u043a\\u0440\\u043e\\u043c\\u0435\",\"10.5\":\"\\u0438\",\"11.5\":\"\\u0431\\u0435\\u0441\\u043f\\u043b\\u0430\\u0442\\u043d\\u0430\\u044f\",\"12.5\":\"\\u043f\\u0430\\u0440\\u043a\\u043e\\u0432\\u043a\\u0430\",\"13.5\":\".\",\"14.5\":\"_EOS_\",\"2.5\":\"\\u0442\\u043e\\u0433\\u043e\",\"3.5\":\",\",\"4.5\":\"\\u043f\\u0440\\u0435\\u0434\\u043e\\u0441\\u0442\\u0430\\u0432\\u043b\\u044f\\u0435\\u0442\\u0441\\u044f\",\"5.5\":\"\\u043f\\u0440\\u043e\\u043a\\u0430\\u0442\",\"6.5\":\"\\u0432\\u0435\\u043b\\u043e\\u0441\\u0438\\u043f\\u0435\\u0434\\u043e\\u0432\",\"7.5\":\",\",\"8.5\":\"\\u0443\\u0441\\u043b\\u0443\\u0433\\u0438\",\"9.5\":\"\\u0442\\u0440\\u0430\\u043d\\u0441\\u0444\\u0435\\u0440\\u0430\"},\"plot\":{\"id\":\"db2c35f7-b553-4d8d-9164-7a91f0417829\",\"subtype\":\"Figure\",\"type\":\"Plot\"},\"ticker\":{\"id\":\"1795ee4f-7bbc-4cc6-ba5b-5a95791aea75\",\"type\":\"FixedTicker\"}},\"id\":\"1040324e-7574-409b-b9d6-7d0924c871fa\",\"type\":\"LinearAxis\"},{\"attributes\":{\"axis_label\":\"translation tokens\",\"formatter\":{\"id\":\"a7686573-7f17-4986-9dee-5bf0412e9e38\",\"type\":\"BasicTickFormatter\"},\"major_label_overrides\":{\"0.5\":\"_EOS_\",\"1.5\":\".\",\"10.5\":\"rental\",\"11.5\":\"bicycle\",\"12.5\":\"_BOS_\",\"2.5\":\"possible\",\"3.5\":\"is\",\"4.5\":\"parking\",\"5.5\":\"free\",\"6.5\":\"and\",\"7.5\":\"shuttle\",\"8.5\":\"a\",\"9.5\":\",\"},\"plot\":{\"id\":\"db2c35f7-b553-4d8d-9164-7a91f0417829\",\"subtype\":\"Figure\",\"type\":\"Plot\"},\"ticker\":{\"id\":\"eae87872-dd6d-4957-a404-325a04dd0600\",\"type\":\"FixedTicker\"}},\"id\":\"77eff498-1360-49da-913a-b5781dcd642e\",\"type\":\"LinearAxis\"},{\"attributes\":{\"ticks\":[0.5,1.5,2.5,3.5,4.5,5.5,6.5,7.5,8.5,9.5,10.5,11.5,12.5,13.5,14.5]},\"id\":\"1795ee4f-7bbc-4cc6-ba5b-5a95791aea75\",\"type\":\"FixedTicker\"},{\"attributes\":{\"color_mapper\":{\"id\":\"db647d84-4c1e-4940-ba82-e2ee9a78be0c\",\"type\":\"LinearColorMapper\"},\"dh\":{\"units\":\"data\",\"value\":13},\"dw\":{\"units\":\"data\",\"value\":15},\"image\":{\"field\":\"image\"},\"x\":{\"value\":0},\"y\":{\"value\":0}},\"id\":\"38d5a331-26e2-4529-963a-417dc6c47377\",\"type\":\"Image\"},{\"attributes\":{},\"id\":\"f97b8c97-dee5-44c2-a2da-05c2f5675736\",\"type\":\"UnionRenderers\"},{\"attributes\":{},\"id\":\"47d6bc2b-e67d-43c0-ab35-e3a0d927e0c6\",\"type\":\"LinearScale\"},{\"attributes\":{},\"id\":\"19221a49-763d-4f4b-9d56-5cf32c1a1b12\",\"type\":\"BasicTickFormatter\"},{\"attributes\":{\"ticks\":[0.5,1.5,2.5,3.5,4.5,5.5,6.5,7.5,8.5,9.5,10.5,11.5,12.5]},\"id\":\"eae87872-dd6d-4957-a404-325a04dd0600\",\"type\":\"FixedTicker\"},{\"attributes\":{},\"id\":\"a7686573-7f17-4986-9dee-5bf0412e9e38\",\"type\":\"BasicTickFormatter\"},{\"attributes\":{\"active_drag\":\"auto\",\"active_inspect\":\"auto\",\"active_multi\":null,\"active_scroll\":\"auto\",\"active_tap\":\"auto\"},\"id\":\"a73ffb1d-363e-4842-8bd6-41d8d96a4590\",\"type\":\"Toolbar\"},{\"attributes\":{},\"id\":\"2a969cad-1620-411d-a050-0edcb9e719aa\",\"type\":\"Selection\"},{\"attributes\":{\"source\":{\"id\":\"a3733eed-9c6d-4556-b3a9-818a3f809073\",\"type\":\"ColumnDataSource\"}},\"id\":\"324a487c-f1f1-4957-8ecb-c079d27b42ae\",\"type\":\"CDSView\"},{\"attributes\":{\"color_mapper\":{\"id\":\"bc35f79a-9735-41d6-9137-17f9a2df5f34\",\"type\":\"LinearColorMapper\"},\"dh\":{\"units\":\"data\",\"value\":13},\"dw\":{\"units\":\"data\",\"value\":15},\"image\":{\"field\":\"image\"},\"x\":{\"value\":0},\"y\":{\"value\":0}},\"id\":\"eb4f95eb-54cc-462b-9b9e-197fba775ae2\",\"type\":\"Image\"},{\"attributes\":{\"callback\":null,\"end\":13},\"id\":\"c4d86668-c77b-493f-ada0-dd1e5a87f74b\",\"type\":\"Range1d\"},{\"attributes\":{\"plot\":null,\"text\":\"\"},\"id\":\"f593f965-e47d-48b8-94e2-e01459b9d6e6\",\"type\":\"Title\"},{\"attributes\":{\"callback\":null,\"end\":15},\"id\":\"1671a547-1af0-400c-87de-1c7a51058d59\",\"type\":\"Range1d\"},{\"attributes\":{},\"id\":\"dc13db08-f53b-438b-b76a-974191cba773\",\"type\":\"LinearScale\"},{\"attributes\":{\"data_source\":{\"id\":\"a3733eed-9c6d-4556-b3a9-818a3f809073\",\"type\":\"ColumnDataSource\"},\"glyph\":{\"id\":\"eb4f95eb-54cc-462b-9b9e-197fba775ae2\",\"type\":\"Image\"},\"hover_glyph\":null,\"muted_glyph\":null,\"nonselection_glyph\":{\"id\":\"38d5a331-26e2-4529-963a-417dc6c47377\",\"type\":\"Image\"},\"selection_glyph\":null,\"view\":{\"id\":\"324a487c-f1f1-4957-8ecb-c079d27b42ae\",\"type\":\"CDSView\"}},\"id\":\"442bbd9f-0a5b-4724-b146-e11292188c3f\",\"type\":\"GlyphRenderer\"},{\"attributes\":{\"palette\":[\"#000000\",\"#252525\",\"#525252\",\"#737373\",\"#969696\",\"#bdbdbd\",\"#d9d9d9\",\"#f0f0f0\",\"#ffffff\"]},\"id\":\"db647d84-4c1e-4940-ba82-e2ee9a78be0c\",\"type\":\"LinearColorMapper\"},{\"attributes\":{\"callback\":null,\"data\":{\"image\":[{\"__ndarray__\":\"AIivPLH6vTybCCE74jy8PFh8Ljzfc6I6ZolOOyrf2jxCuXw7u5PeO4LRCzyuBxc9OntfPQKsGj74YyA/m0E1Pc9qfj3xTW07EpqoPfHNmT2WNCM9tnOqPeTwAD3pXEA8T4RNPby2HD1/9NE8c0/rPE1awT0ef6g+iOdPPEXkwDtVI4E5mmTxOmSP9Tu//+o7i40IPALLiT22fzA9qKdOPQJ3Qj3vBQM+MgVNPkYnWD4/ylU+OFdKO7R2VjswNuM5cHx6Ot2QjTqFqpw5+pJCOsweHTvyqqI6x4egOwoUKTyYOp89UKaPPslY6z7g+Rw+wh0TORPH9TjGM1E47VNEOTthcjkvaqg5vXs7Os458jphg5E6dMqtPEdnBD1Tezw9giqwPrmi2z5SPPs9bzDsOZMd/DlTwgs4RVgSONBLJjnGGxk65hcqO+apnTthr3c7Ao7xPZ3FEz69epY+CCSbPp7KrD2iTTI9u5+VOi4dLzrsU/s4IOvxOaKVpTrbeJk5/kN/OrDOajt110475rxKPjw/6z6Tjjc9b4AkPV4QOz7/f4E9jbYuOomAAzpZW4A5YO2XOiLwkjsKX8E7k9+OPDTJGT0om649GTp1PiF4tj7jP8c8APR8PXfVBj6H6gc9pwAfOmlm4Tn0ct44Cx7HONE/Qjr4bmw7oxEDPDT9hjyM5FY9FjWaPps0xz4V3Rc9Tf1IPabMzT2rNSY9VHnFO8yqVjuIvKk59QK0OiRVvzvIviQ9SLb2PDAhpD1xzVc+QVJKPvhPmT7EmbU8P8vePOfDgj1Oyz882wgJPJ2PjzzSlr88JcyXPUuclz1WMJg95SedPY5NwT4usZs9ldtxPbi/iT2lUfo73N0yPNqaMT1/ix884xnxPEDVNj3b2N09DKtEPdRj9j2gLio+qxssPp9IDz75yoY9Z2WSPWXjvjymoII7Pwu7O3QNWzsrob464xnxPEDVNj3b2N09DKtEPdRj9j2gLio+qxssPp9IDz75yoY9Z2WSPWXjvjymoII7Pwu7O3QNWzsrob46\",\"dtype\":\"float32\",\"shape\":[13,15]}]},\"selected\":{\"id\":\"2a969cad-1620-411d-a050-0edcb9e719aa\",\"type\":\"Selection\"},\"selection_policy\":{\"id\":\"f97b8c97-dee5-44c2-a2da-05c2f5675736\",\"type\":\"UnionRenderers\"}},\"id\":\"a3733eed-9c6d-4556-b3a9-818a3f809073\",\"type\":\"ColumnDataSource\"},{\"attributes\":{\"above\":[{\"id\":\"1040324e-7574-409b-b9d6-7d0924c871fa\",\"type\":\"LinearAxis\"}],\"left\":[{\"id\":\"77eff498-1360-49da-913a-b5781dcd642e\",\"type\":\"LinearAxis\"}],\"renderers\":[{\"id\":\"442bbd9f-0a5b-4724-b146-e11292188c3f\",\"type\":\"GlyphRenderer\"},{\"id\":\"1040324e-7574-409b-b9d6-7d0924c871fa\",\"type\":\"LinearAxis\"},{\"id\":\"77eff498-1360-49da-913a-b5781dcd642e\",\"type\":\"LinearAxis\"}],\"title\":{\"id\":\"f593f965-e47d-48b8-94e2-e01459b9d6e6\",\"type\":\"Title\"},\"toolbar\":{\"id\":\"a73ffb1d-363e-4842-8bd6-41d8d96a4590\",\"type\":\"Toolbar\"},\"x_range\":{\"id\":\"1671a547-1af0-400c-87de-1c7a51058d59\",\"type\":\"Range1d\"},\"x_scale\":{\"id\":\"dc13db08-f53b-438b-b76a-974191cba773\",\"type\":\"LinearScale\"},\"y_range\":{\"id\":\"c4d86668-c77b-493f-ada0-dd1e5a87f74b\",\"type\":\"Range1d\"},\"y_scale\":{\"id\":\"47d6bc2b-e67d-43c0-ab35-e3a0d927e0c6\",\"type\":\"LinearScale\"}},\"id\":\"db2c35f7-b553-4d8d-9164-7a91f0417829\",\"subtype\":\"Figure\",\"type\":\"Plot\"}],\"root_ids\":[\"db2c35f7-b553-4d8d-9164-7a91f0417829\"]},\"title\":\"Bokeh Application\",\"version\":\"0.13.0\"}};\n",
              "  var render_items = [{\"docid\":\"088b26ed-6bc0-4fce-80fc-e22b02267a3a\",\"roots\":{\"db2c35f7-b553-4d8d-9164-7a91f0417829\":\"cb3649bc-e311-4c90-8b50-f69bf7e35ba9\"}}];\n",
              "  root.Bokeh.embed.embed_items_notebook(docs_json, render_items);\n",
              "\n",
              "  }\n",
              "  if (root.Bokeh !== undefined) {\n",
              "    embed_document(root);\n",
              "  } else {\n",
              "    var attempts = 0;\n",
              "    var timer = setInterval(function(root) {\n",
              "      if (root.Bokeh !== undefined) {\n",
              "        embed_document(root);\n",
              "        clearInterval(timer);\n",
              "      }\n",
              "      attempts++;\n",
              "      if (attempts > 100) {\n",
              "        console.log(\"Bokeh: ERROR: Unable to run BokehJS code because BokehJS library is missing\")\n",
              "        clearInterval(timer);\n",
              "      }\n",
              "    }, 10, root)\n",
              "  }\n",
              "})(window);"
            ],
            "application/vnd.bokehjs_exec.v0+json": ""
          },
          "metadata": {
            "tags": [],
            "application/vnd.bokehjs_exec.v0+json": {
              "id": "db2c35f7-b553-4d8d-9164-7a91f0417829"
            }
          }
        },
        {
          "output_type": "display_data",
          "data": {
            "text/html": [
              "\n",
              "    <div class=\"bk-root\">\n",
              "        <a href=\"https://bokeh.pydata.org\" target=\"_blank\" class=\"bk-logo bk-logo-small bk-logo-notebook\"></a>\n",
              "        <span id=\"dbd9e868-b9a4-41e1-b872-ef61c3b11dab\">Loading BokehJS ...</span>\n",
              "    </div>"
            ]
          },
          "metadata": {
            "tags": []
          }
        },
        {
          "output_type": "display_data",
          "data": {
            "application/javascript": [
              "\n",
              "(function(root) {\n",
              "  function now() {\n",
              "    return new Date();\n",
              "  }\n",
              "\n",
              "  var force = true;\n",
              "\n",
              "  if (typeof (root._bokeh_onload_callbacks) === \"undefined\" || force === true) {\n",
              "    root._bokeh_onload_callbacks = [];\n",
              "    root._bokeh_is_loading = undefined;\n",
              "  }\n",
              "\n",
              "  var JS_MIME_TYPE = 'application/javascript';\n",
              "  var HTML_MIME_TYPE = 'text/html';\n",
              "  var EXEC_MIME_TYPE = 'application/vnd.bokehjs_exec.v0+json';\n",
              "  var CLASS_NAME = 'output_bokeh rendered_html';\n",
              "\n",
              "  /**\n",
              "   * Render data to the DOM node\n",
              "   */\n",
              "  function render(props, node) {\n",
              "    var script = document.createElement(\"script\");\n",
              "    node.appendChild(script);\n",
              "  }\n",
              "\n",
              "  /**\n",
              "   * Handle when an output is cleared or removed\n",
              "   */\n",
              "  function handleClearOutput(event, handle) {\n",
              "    var cell = handle.cell;\n",
              "\n",
              "    var id = cell.output_area._bokeh_element_id;\n",
              "    var server_id = cell.output_area._bokeh_server_id;\n",
              "    // Clean up Bokeh references\n",
              "    if (id != null && id in Bokeh.index) {\n",
              "      Bokeh.index[id].model.document.clear();\n",
              "      delete Bokeh.index[id];\n",
              "    }\n",
              "\n",
              "    if (server_id !== undefined) {\n",
              "      // Clean up Bokeh references\n",
              "      var cmd = \"from bokeh.io.state import curstate; print(curstate().uuid_to_server['\" + server_id + \"'].get_sessions()[0].document.roots[0]._id)\";\n",
              "      cell.notebook.kernel.execute(cmd, {\n",
              "        iopub: {\n",
              "          output: function(msg) {\n",
              "            var id = msg.content.text.trim();\n",
              "            if (id in Bokeh.index) {\n",
              "              Bokeh.index[id].model.document.clear();\n",
              "              delete Bokeh.index[id];\n",
              "            }\n",
              "          }\n",
              "        }\n",
              "      });\n",
              "      // Destroy server and session\n",
              "      var cmd = \"import bokeh.io.notebook as ion; ion.destroy_server('\" + server_id + \"')\";\n",
              "      cell.notebook.kernel.execute(cmd);\n",
              "    }\n",
              "  }\n",
              "\n",
              "  /**\n",
              "   * Handle when a new output is added\n",
              "   */\n",
              "  function handleAddOutput(event, handle) {\n",
              "    var output_area = handle.output_area;\n",
              "    var output = handle.output;\n",
              "\n",
              "    // limit handleAddOutput to display_data with EXEC_MIME_TYPE content only\n",
              "    if ((output.output_type != \"display_data\") || (!output.data.hasOwnProperty(EXEC_MIME_TYPE))) {\n",
              "      return\n",
              "    }\n",
              "\n",
              "    var toinsert = output_area.element.find(\".\" + CLASS_NAME.split(' ')[0]);\n",
              "\n",
              "    if (output.metadata[EXEC_MIME_TYPE][\"id\"] !== undefined) {\n",
              "      toinsert[toinsert.length - 1].firstChild.textContent = output.data[JS_MIME_TYPE];\n",
              "      // store reference to embed id on output_area\n",
              "      output_area._bokeh_element_id = output.metadata[EXEC_MIME_TYPE][\"id\"];\n",
              "    }\n",
              "    if (output.metadata[EXEC_MIME_TYPE][\"server_id\"] !== undefined) {\n",
              "      var bk_div = document.createElement(\"div\");\n",
              "      bk_div.innerHTML = output.data[HTML_MIME_TYPE];\n",
              "      var script_attrs = bk_div.children[0].attributes;\n",
              "      for (var i = 0; i < script_attrs.length; i++) {\n",
              "        toinsert[toinsert.length - 1].firstChild.setAttribute(script_attrs[i].name, script_attrs[i].value);\n",
              "      }\n",
              "      // store reference to server id on output_area\n",
              "      output_area._bokeh_server_id = output.metadata[EXEC_MIME_TYPE][\"server_id\"];\n",
              "    }\n",
              "  }\n",
              "\n",
              "  function register_renderer(events, OutputArea) {\n",
              "\n",
              "    function append_mime(data, metadata, element) {\n",
              "      // create a DOM node to render to\n",
              "      var toinsert = this.create_output_subarea(\n",
              "        metadata,\n",
              "        CLASS_NAME,\n",
              "        EXEC_MIME_TYPE\n",
              "      );\n",
              "      this.keyboard_manager.register_events(toinsert);\n",
              "      // Render to node\n",
              "      var props = {data: data, metadata: metadata[EXEC_MIME_TYPE]};\n",
              "      render(props, toinsert[toinsert.length - 1]);\n",
              "      element.append(toinsert);\n",
              "      return toinsert\n",
              "    }\n",
              "\n",
              "    /* Handle when an output is cleared or removed */\n",
              "    events.on('clear_output.CodeCell', handleClearOutput);\n",
              "    events.on('delete.Cell', handleClearOutput);\n",
              "\n",
              "    /* Handle when a new output is added */\n",
              "    events.on('output_added.OutputArea', handleAddOutput);\n",
              "\n",
              "    /**\n",
              "     * Register the mime type and append_mime function with output_area\n",
              "     */\n",
              "    OutputArea.prototype.register_mime_type(EXEC_MIME_TYPE, append_mime, {\n",
              "      /* Is output safe? */\n",
              "      safe: true,\n",
              "      /* Index of renderer in `output_area.display_order` */\n",
              "      index: 0\n",
              "    });\n",
              "  }\n",
              "\n",
              "  // register the mime type if in Jupyter Notebook environment and previously unregistered\n",
              "  if (root.Jupyter !== undefined) {\n",
              "    var events = require('base/js/events');\n",
              "    var OutputArea = require('notebook/js/outputarea').OutputArea;\n",
              "\n",
              "    if (OutputArea.prototype.mime_types().indexOf(EXEC_MIME_TYPE) == -1) {\n",
              "      register_renderer(events, OutputArea);\n",
              "    }\n",
              "  }\n",
              "\n",
              "  \n",
              "  if (typeof (root._bokeh_timeout) === \"undefined\" || force === true) {\n",
              "    root._bokeh_timeout = Date.now() + 5000;\n",
              "    root._bokeh_failed_load = false;\n",
              "  }\n",
              "\n",
              "  var NB_LOAD_WARNING = {'data': {'text/html':\n",
              "     \"<div style='background-color: #fdd'>\\n\"+\n",
              "     \"<p>\\n\"+\n",
              "     \"BokehJS does not appear to have successfully loaded. If loading BokehJS from CDN, this \\n\"+\n",
              "     \"may be due to a slow or bad network connection. Possible fixes:\\n\"+\n",
              "     \"</p>\\n\"+\n",
              "     \"<ul>\\n\"+\n",
              "     \"<li>re-rerun `output_notebook()` to attempt to load from CDN again, or</li>\\n\"+\n",
              "     \"<li>use INLINE resources instead, as so:</li>\\n\"+\n",
              "     \"</ul>\\n\"+\n",
              "     \"<code>\\n\"+\n",
              "     \"from bokeh.resources import INLINE\\n\"+\n",
              "     \"output_notebook(resources=INLINE)\\n\"+\n",
              "     \"</code>\\n\"+\n",
              "     \"</div>\"}};\n",
              "\n",
              "  function display_loaded() {\n",
              "    var el = document.getElementById(\"dbd9e868-b9a4-41e1-b872-ef61c3b11dab\");\n",
              "    if (el != null) {\n",
              "      el.textContent = \"BokehJS is loading...\";\n",
              "    }\n",
              "    if (root.Bokeh !== undefined) {\n",
              "      if (el != null) {\n",
              "        el.textContent = \"BokehJS \" + root.Bokeh.version + \" successfully loaded.\";\n",
              "      }\n",
              "    } else if (Date.now() < root._bokeh_timeout) {\n",
              "      setTimeout(display_loaded, 100)\n",
              "    }\n",
              "  }\n",
              "\n",
              "\n",
              "  function run_callbacks() {\n",
              "    try {\n",
              "      root._bokeh_onload_callbacks.forEach(function(callback) { callback() });\n",
              "    }\n",
              "    finally {\n",
              "      delete root._bokeh_onload_callbacks\n",
              "    }\n",
              "    console.info(\"Bokeh: all callbacks have finished\");\n",
              "  }\n",
              "\n",
              "  function load_libs(js_urls, callback) {\n",
              "    root._bokeh_onload_callbacks.push(callback);\n",
              "    if (root._bokeh_is_loading > 0) {\n",
              "      console.log(\"Bokeh: BokehJS is being loaded, scheduling callback at\", now());\n",
              "      return null;\n",
              "    }\n",
              "    if (js_urls == null || js_urls.length === 0) {\n",
              "      run_callbacks();\n",
              "      return null;\n",
              "    }\n",
              "    console.log(\"Bokeh: BokehJS not loaded, scheduling load and callback at\", now());\n",
              "    root._bokeh_is_loading = js_urls.length;\n",
              "    for (var i = 0; i < js_urls.length; i++) {\n",
              "      var url = js_urls[i];\n",
              "      var s = document.createElement('script');\n",
              "      s.src = url;\n",
              "      s.async = false;\n",
              "      s.onreadystatechange = s.onload = function() {\n",
              "        root._bokeh_is_loading--;\n",
              "        if (root._bokeh_is_loading === 0) {\n",
              "          console.log(\"Bokeh: all BokehJS libraries loaded\");\n",
              "          run_callbacks()\n",
              "        }\n",
              "      };\n",
              "      s.onerror = function() {\n",
              "        console.warn(\"failed to load library \" + url);\n",
              "      };\n",
              "      console.log(\"Bokeh: injecting script tag for BokehJS library: \", url);\n",
              "      document.getElementsByTagName(\"head\")[0].appendChild(s);\n",
              "    }\n",
              "  };var element = document.getElementById(\"dbd9e868-b9a4-41e1-b872-ef61c3b11dab\");\n",
              "  if (element == null) {\n",
              "    console.log(\"Bokeh: ERROR: autoload.js configured with elementid 'dbd9e868-b9a4-41e1-b872-ef61c3b11dab' but no matching script tag was found. \")\n",
              "    return false;\n",
              "  }\n",
              "\n",
              "  var js_urls = [\"https://cdn.pydata.org/bokeh/release/bokeh-0.13.0.min.js\", \"https://cdn.pydata.org/bokeh/release/bokeh-widgets-0.13.0.min.js\", \"https://cdn.pydata.org/bokeh/release/bokeh-tables-0.13.0.min.js\", \"https://cdn.pydata.org/bokeh/release/bokeh-gl-0.13.0.min.js\"];\n",
              "\n",
              "  var inline_js = [\n",
              "    function(Bokeh) {\n",
              "      Bokeh.set_log_level(\"info\");\n",
              "    },\n",
              "    \n",
              "    function(Bokeh) {\n",
              "      \n",
              "    },\n",
              "    function(Bokeh) {\n",
              "      console.log(\"Bokeh: injecting CSS: https://cdn.pydata.org/bokeh/release/bokeh-0.13.0.min.css\");\n",
              "      Bokeh.embed.inject_css(\"https://cdn.pydata.org/bokeh/release/bokeh-0.13.0.min.css\");\n",
              "      console.log(\"Bokeh: injecting CSS: https://cdn.pydata.org/bokeh/release/bokeh-widgets-0.13.0.min.css\");\n",
              "      Bokeh.embed.inject_css(\"https://cdn.pydata.org/bokeh/release/bokeh-widgets-0.13.0.min.css\");\n",
              "      console.log(\"Bokeh: injecting CSS: https://cdn.pydata.org/bokeh/release/bokeh-tables-0.13.0.min.css\");\n",
              "      Bokeh.embed.inject_css(\"https://cdn.pydata.org/bokeh/release/bokeh-tables-0.13.0.min.css\");\n",
              "    }\n",
              "  ];\n",
              "\n",
              "  function run_inline_js() {\n",
              "    \n",
              "    if ((root.Bokeh !== undefined) || (force === true)) {\n",
              "      for (var i = 0; i < inline_js.length; i++) {\n",
              "        inline_js[i].call(root, root.Bokeh);\n",
              "      }if (force === true) {\n",
              "        display_loaded();\n",
              "      }} else if (Date.now() < root._bokeh_timeout) {\n",
              "      setTimeout(run_inline_js, 100);\n",
              "    } else if (!root._bokeh_failed_load) {\n",
              "      console.log(\"Bokeh: BokehJS failed to load within specified timeout.\");\n",
              "      root._bokeh_failed_load = true;\n",
              "    } else if (force !== true) {\n",
              "      var cell = $(document.getElementById(\"dbd9e868-b9a4-41e1-b872-ef61c3b11dab\")).parents('.cell').data().cell;\n",
              "      cell.output_area.append_execute_result(NB_LOAD_WARNING)\n",
              "    }\n",
              "\n",
              "  }\n",
              "\n",
              "  if (root._bokeh_is_loading === 0) {\n",
              "    console.log(\"Bokeh: BokehJS loaded, going straight to plotting\");\n",
              "    run_inline_js();\n",
              "  } else {\n",
              "    load_libs(js_urls, function() {\n",
              "      console.log(\"Bokeh: BokehJS plotting callback run at\", now());\n",
              "      run_inline_js();\n",
              "    });\n",
              "  }\n",
              "}(window));"
            ],
            "application/vnd.bokehjs_load.v0+json": "\n(function(root) {\n  function now() {\n    return new Date();\n  }\n\n  var force = true;\n\n  if (typeof (root._bokeh_onload_callbacks) === \"undefined\" || force === true) {\n    root._bokeh_onload_callbacks = [];\n    root._bokeh_is_loading = undefined;\n  }\n\n  \n\n  \n  if (typeof (root._bokeh_timeout) === \"undefined\" || force === true) {\n    root._bokeh_timeout = Date.now() + 5000;\n    root._bokeh_failed_load = false;\n  }\n\n  var NB_LOAD_WARNING = {'data': {'text/html':\n     \"<div style='background-color: #fdd'>\\n\"+\n     \"<p>\\n\"+\n     \"BokehJS does not appear to have successfully loaded. If loading BokehJS from CDN, this \\n\"+\n     \"may be due to a slow or bad network connection. Possible fixes:\\n\"+\n     \"</p>\\n\"+\n     \"<ul>\\n\"+\n     \"<li>re-rerun `output_notebook()` to attempt to load from CDN again, or</li>\\n\"+\n     \"<li>use INLINE resources instead, as so:</li>\\n\"+\n     \"</ul>\\n\"+\n     \"<code>\\n\"+\n     \"from bokeh.resources import INLINE\\n\"+\n     \"output_notebook(resources=INLINE)\\n\"+\n     \"</code>\\n\"+\n     \"</div>\"}};\n\n  function display_loaded() {\n    var el = document.getElementById(\"dbd9e868-b9a4-41e1-b872-ef61c3b11dab\");\n    if (el != null) {\n      el.textContent = \"BokehJS is loading...\";\n    }\n    if (root.Bokeh !== undefined) {\n      if (el != null) {\n        el.textContent = \"BokehJS \" + root.Bokeh.version + \" successfully loaded.\";\n      }\n    } else if (Date.now() < root._bokeh_timeout) {\n      setTimeout(display_loaded, 100)\n    }\n  }\n\n\n  function run_callbacks() {\n    try {\n      root._bokeh_onload_callbacks.forEach(function(callback) { callback() });\n    }\n    finally {\n      delete root._bokeh_onload_callbacks\n    }\n    console.info(\"Bokeh: all callbacks have finished\");\n  }\n\n  function load_libs(js_urls, callback) {\n    root._bokeh_onload_callbacks.push(callback);\n    if (root._bokeh_is_loading > 0) {\n      console.log(\"Bokeh: BokehJS is being loaded, scheduling callback at\", now());\n      return null;\n    }\n    if (js_urls == null || js_urls.length === 0) {\n      run_callbacks();\n      return null;\n    }\n    console.log(\"Bokeh: BokehJS not loaded, scheduling load and callback at\", now());\n    root._bokeh_is_loading = js_urls.length;\n    for (var i = 0; i < js_urls.length; i++) {\n      var url = js_urls[i];\n      var s = document.createElement('script');\n      s.src = url;\n      s.async = false;\n      s.onreadystatechange = s.onload = function() {\n        root._bokeh_is_loading--;\n        if (root._bokeh_is_loading === 0) {\n          console.log(\"Bokeh: all BokehJS libraries loaded\");\n          run_callbacks()\n        }\n      };\n      s.onerror = function() {\n        console.warn(\"failed to load library \" + url);\n      };\n      console.log(\"Bokeh: injecting script tag for BokehJS library: \", url);\n      document.getElementsByTagName(\"head\")[0].appendChild(s);\n    }\n  };var element = document.getElementById(\"dbd9e868-b9a4-41e1-b872-ef61c3b11dab\");\n  if (element == null) {\n    console.log(\"Bokeh: ERROR: autoload.js configured with elementid 'dbd9e868-b9a4-41e1-b872-ef61c3b11dab' but no matching script tag was found. \")\n    return false;\n  }\n\n  var js_urls = [\"https://cdn.pydata.org/bokeh/release/bokeh-0.13.0.min.js\", \"https://cdn.pydata.org/bokeh/release/bokeh-widgets-0.13.0.min.js\", \"https://cdn.pydata.org/bokeh/release/bokeh-tables-0.13.0.min.js\", \"https://cdn.pydata.org/bokeh/release/bokeh-gl-0.13.0.min.js\"];\n\n  var inline_js = [\n    function(Bokeh) {\n      Bokeh.set_log_level(\"info\");\n    },\n    \n    function(Bokeh) {\n      \n    },\n    function(Bokeh) {\n      console.log(\"Bokeh: injecting CSS: https://cdn.pydata.org/bokeh/release/bokeh-0.13.0.min.css\");\n      Bokeh.embed.inject_css(\"https://cdn.pydata.org/bokeh/release/bokeh-0.13.0.min.css\");\n      console.log(\"Bokeh: injecting CSS: https://cdn.pydata.org/bokeh/release/bokeh-widgets-0.13.0.min.css\");\n      Bokeh.embed.inject_css(\"https://cdn.pydata.org/bokeh/release/bokeh-widgets-0.13.0.min.css\");\n      console.log(\"Bokeh: injecting CSS: https://cdn.pydata.org/bokeh/release/bokeh-tables-0.13.0.min.css\");\n      Bokeh.embed.inject_css(\"https://cdn.pydata.org/bokeh/release/bokeh-tables-0.13.0.min.css\");\n    }\n  ];\n\n  function run_inline_js() {\n    \n    if ((root.Bokeh !== undefined) || (force === true)) {\n      for (var i = 0; i < inline_js.length; i++) {\n        inline_js[i].call(root, root.Bokeh);\n      }if (force === true) {\n        display_loaded();\n      }} else if (Date.now() < root._bokeh_timeout) {\n      setTimeout(run_inline_js, 100);\n    } else if (!root._bokeh_failed_load) {\n      console.log(\"Bokeh: BokehJS failed to load within specified timeout.\");\n      root._bokeh_failed_load = true;\n    } else if (force !== true) {\n      var cell = $(document.getElementById(\"dbd9e868-b9a4-41e1-b872-ef61c3b11dab\")).parents('.cell').data().cell;\n      cell.output_area.append_execute_result(NB_LOAD_WARNING)\n    }\n\n  }\n\n  if (root._bokeh_is_loading === 0) {\n    console.log(\"Bokeh: BokehJS loaded, going straight to plotting\");\n    run_inline_js();\n  } else {\n    load_libs(js_urls, function() {\n      console.log(\"Bokeh: BokehJS plotting callback run at\", now());\n      run_inline_js();\n    });\n  }\n}(window));"
          },
          "metadata": {
            "tags": []
          }
        },
        {
          "output_type": "display_data",
          "data": {
            "text/html": [
              "\n",
              "\n",
              "\n",
              "\n",
              "\n",
              "\n",
              "  <div class=\"bk-root\" id=\"4a5100e6-f74f-48ae-894d-0424a899b497\"></div>\n"
            ]
          },
          "metadata": {
            "tags": []
          }
        },
        {
          "output_type": "display_data",
          "data": {
            "application/javascript": [
              "(function(root) {\n",
              "  function embed_document(root) {\n",
              "    \n",
              "  var docs_json = {\"1ba8d3ee-fe96-4896-b3ac-a453d723fcd2\":{\"roots\":{\"references\":[{\"attributes\":{\"ticks\":[0.5,1.5,2.5,3.5,4.5,5.5,6.5,7.5,8.5,9.5,10.5,11.5,12.5,13.5,14.5,15.5,16.5]},\"id\":\"e7e38859-00fd-4e1a-85a7-f6a823b655ce\",\"type\":\"FixedTicker\"},{\"attributes\":{\"palette\":[\"#000000\",\"#252525\",\"#525252\",\"#737373\",\"#969696\",\"#bdbdbd\",\"#d9d9d9\",\"#f0f0f0\",\"#ffffff\"]},\"id\":\"74a3f166-5a71-494a-b43c-053916624e33\",\"type\":\"LinearColorMapper\"},{\"attributes\":{},\"id\":\"94e3220b-e61f-4b26-bf69-bda3859c02b6\",\"type\":\"LinearScale\"},{\"attributes\":{\"ticks\":[0.5,1.5,2.5,3.5,4.5,5.5,6.5,7.5,8.5,9.5,10.5,11.5,12.5]},\"id\":\"718b2cff-a4ca-479c-b95d-8c16b1ea9993\",\"type\":\"FixedTicker\"},{\"attributes\":{\"source\":{\"id\":\"c4bfa4f3-171e-41fe-9019-8f657a3c062e\",\"type\":\"ColumnDataSource\"}},\"id\":\"f90fb8d8-eb24-4196-82cd-3d86ea718537\",\"type\":\"CDSView\"},{\"attributes\":{\"above\":[{\"id\":\"aa661362-0455-40d4-85a8-bb4fcdd3af07\",\"type\":\"LinearAxis\"}],\"left\":[{\"id\":\"f070b9f0-e2aa-4ba3-9d64-1ed2a43ba805\",\"type\":\"LinearAxis\"}],\"renderers\":[{\"id\":\"a7496b87-be94-4e19-a676-35ba2a85f56c\",\"type\":\"GlyphRenderer\"},{\"id\":\"aa661362-0455-40d4-85a8-bb4fcdd3af07\",\"type\":\"LinearAxis\"},{\"id\":\"f070b9f0-e2aa-4ba3-9d64-1ed2a43ba805\",\"type\":\"LinearAxis\"}],\"title\":{\"id\":\"2e4ec08a-535c-4eb7-92f2-763161b3ac5e\",\"type\":\"Title\"},\"toolbar\":{\"id\":\"b384ddba-74bd-4afe-ba5f-77cc356e5843\",\"type\":\"Toolbar\"},\"x_range\":{\"id\":\"11440a71-9c0c-4197-b390-e7c02ac9777b\",\"type\":\"Range1d\"},\"x_scale\":{\"id\":\"5fa8a99c-147b-43c6-904f-45b9925ce16a\",\"type\":\"LinearScale\"},\"y_range\":{\"id\":\"34860742-0ae6-4c6e-973f-21d1279ce57a\",\"type\":\"Range1d\"},\"y_scale\":{\"id\":\"94e3220b-e61f-4b26-bf69-bda3859c02b6\",\"type\":\"LinearScale\"}},\"id\":\"25b6a713-7376-488b-a78c-4ff1a962b90a\",\"subtype\":\"Figure\",\"type\":\"Plot\"},{\"attributes\":{\"plot\":null,\"text\":\"\"},\"id\":\"2e4ec08a-535c-4eb7-92f2-763161b3ac5e\",\"type\":\"Title\"},{\"attributes\":{\"callback\":null,\"data\":{\"image\":[{\"__ndarray__\":\"4Rt/OzUh3Twqnj49ARZaPYZG5Tqd/vc5wk+NOvv9qzpSce47KsedPsyLkT4zSJo9qjtCPozIBztosh47C8CjO49Vaz3paCQ5udIxOllWhDsQ7gE9RXuEPdPeJj7YMgI/OodfPEMZFj7pYXg7gVYLO1AoVjtDF5E+ADN/OWGkLzvQteo8bqeFPlLfgD4o1ZM8Ur9lPW24LDy9oqA9qSIoO4ExIzpmRCU7PnOzPEgMSTlnhrY958XmPkUt6D3DxNs9zmGKPYwvCT1WJYY8FPrAPatt9jxF2cQ8z/fQPAS12jtIYI89iLztPeGw8j35ryQ9wx6BPOlOYT6zTyU+U/0+PGDdIz7lT+k9ntmaPbXNCD2Xoa48TLWYPHe4Dz4FTpo+C3MHPmaybz1LMaA8WeS8PDhVrTu7LWg9CBelO0MpMTuHxqk75uqcOz5lmTtfzu49/E0HP69XZj7I78M9OYMTOpVB0zqYzys6XdYTPB0r7DtMVtQ6yrByO/Rw7TtQNSY7WdE7PykqNz6O+DM99ulQPA4xwjmJBfA5NnQYOkUf5zsDE0499XH3PBUcdj6Fvl09EH8GPrbGmz4g3j09qzzjPCqeCjzuyhI8bpXEPLQdejxZKnA9D+PEPHx8YzzBOnw9IsPMPWp9hz1uPGM+dYisPV+2tD2dtwk9Yf+zPWvPdT2SqNg9O61XPeg5kTi1zfY48bkFOuYcQzotjIE4eeyeOrs9KDognpk5AnCjOXRaRT5i2kw/YlsAOz71lTpCmwc7GJHFOvuDKztnwuc7+rd0OkELIDtfI5o7tTy3O7ERmjv9sg4/14HRPrfCcTrgeVg6/pntO2YamDzmeLU8qtLFPKXVfz2G+0E+j7HGPTzWmz1wcc09ZOw2PnlEWz4u44Y75B26O509kDyNvG48/yXnPJ+ORD0d+CM9L7lYPnyxAz4fSVg+XRhsPoRFeTwHBig9GsZOOwiQJjxcZaI7U8NCPP9MuzxBsqo90mYEPQFEXT6sd14+k5lKPvgWxz0vLVc9uvA7PXnUszvK1Ek8+wUdOwq55ztmqyA9K17lPKM5gz6n4vA+E42ePe5JGj12Yaw8XkP9PPXGezzxDPs76I7TO/sFHTsKuec7ZqsgPSte5TyjOYM+p+LwPhONnj3uSRo9dmGsPF5D/Tz1xns88Qz7O+iO0zs=\",\"dtype\":\"float32\",\"shape\":[17,13]}]},\"selected\":{\"id\":\"89059696-adf8-4119-a66d-d7479f1f0904\",\"type\":\"Selection\"},\"selection_policy\":{\"id\":\"ef9f3f45-35be-47e2-b3ff-547c5481404d\",\"type\":\"UnionRenderers\"}},\"id\":\"c4bfa4f3-171e-41fe-9019-8f657a3c062e\",\"type\":\"ColumnDataSource\"},{\"attributes\":{},\"id\":\"5fa8a99c-147b-43c6-904f-45b9925ce16a\",\"type\":\"LinearScale\"},{\"attributes\":{\"color_mapper\":{\"id\":\"74a3f166-5a71-494a-b43c-053916624e33\",\"type\":\"LinearColorMapper\"},\"dh\":{\"units\":\"data\",\"value\":17},\"dw\":{\"units\":\"data\",\"value\":13},\"image\":{\"field\":\"image\"},\"x\":{\"value\":0},\"y\":{\"value\":0}},\"id\":\"4c637285-5119-45ee-8246-d26faef245d1\",\"type\":\"Image\"},{\"attributes\":{},\"id\":\"cd36ae58-cd39-45cb-90c5-7c1b9b81bdcb\",\"type\":\"BasicTickFormatter\"},{\"attributes\":{},\"id\":\"ef9f3f45-35be-47e2-b3ff-547c5481404d\",\"type\":\"UnionRenderers\"},{\"attributes\":{\"axis_label\":\"source tokens\",\"formatter\":{\"id\":\"cd36ae58-cd39-45cb-90c5-7c1b9b81bdcb\",\"type\":\"BasicTickFormatter\"},\"major_label_orientation\":45,\"major_label_overrides\":{\"0.5\":\"_BOS_\",\"1.5\":\"\\u0440\\u0430\\u0441\\u0441\\u0442\\u043e\\u044f\\u043d\\u0438\\u0435\",\"10.5\":\"\\u043a\\u043c\",\"11.5\":\".\",\"12.5\":\"_EOS_\",\"2.5\":\"\\u0434\\u043e\",\"3.5\":\"\\u0433\\u043e\\u0440\\u043e\\u0434\\u0430\",\"4.5\":\"\\u043a\\u0438@@\",\"5.5\":\"\\u0441\\u0441\\u0438@@\",\"6.5\":\"\\u043c@@\",\"7.5\":\"\\u043c\\u0438\",\"8.5\":\"\\u0441\\u043e\\u0441\\u0442\\u0430\\u0432\\u043b\\u044f\\u0435\\u0442\",\"9.5\":\"26\"},\"plot\":{\"id\":\"25b6a713-7376-488b-a78c-4ff1a962b90a\",\"subtype\":\"Figure\",\"type\":\"Plot\"},\"ticker\":{\"id\":\"718b2cff-a4ca-479c-b95d-8c16b1ea9993\",\"type\":\"FixedTicker\"}},\"id\":\"aa661362-0455-40d4-85a8-bb4fcdd3af07\",\"type\":\"LinearAxis\"},{\"attributes\":{\"callback\":null,\"end\":17},\"id\":\"34860742-0ae6-4c6e-973f-21d1279ce57a\",\"type\":\"Range1d\"},{\"attributes\":{},\"id\":\"89059696-adf8-4119-a66d-d7479f1f0904\",\"type\":\"Selection\"},{\"attributes\":{\"callback\":null,\"end\":13},\"id\":\"11440a71-9c0c-4197-b390-e7c02ac9777b\",\"type\":\"Range1d\"},{\"attributes\":{},\"id\":\"a0e81da8-11ee-451d-9841-efa17df8d87c\",\"type\":\"BasicTickFormatter\"},{\"attributes\":{\"color_mapper\":{\"id\":\"fa9c3bc3-6e4d-4724-beab-a0f63159080d\",\"type\":\"LinearColorMapper\"},\"dh\":{\"units\":\"data\",\"value\":17},\"dw\":{\"units\":\"data\",\"value\":13},\"image\":{\"field\":\"image\"},\"x\":{\"value\":0},\"y\":{\"value\":0}},\"id\":\"3788bca0-4126-47e3-9e0a-7b2cf0342dc8\",\"type\":\"Image\"},{\"attributes\":{\"data_source\":{\"id\":\"c4bfa4f3-171e-41fe-9019-8f657a3c062e\",\"type\":\"ColumnDataSource\"},\"glyph\":{\"id\":\"4c637285-5119-45ee-8246-d26faef245d1\",\"type\":\"Image\"},\"hover_glyph\":null,\"muted_glyph\":null,\"nonselection_glyph\":{\"id\":\"3788bca0-4126-47e3-9e0a-7b2cf0342dc8\",\"type\":\"Image\"},\"selection_glyph\":null,\"view\":{\"id\":\"f90fb8d8-eb24-4196-82cd-3d86ea718537\",\"type\":\"CDSView\"}},\"id\":\"a7496b87-be94-4e19-a676-35ba2a85f56c\",\"type\":\"GlyphRenderer\"},{\"attributes\":{\"palette\":[\"#000000\",\"#252525\",\"#525252\",\"#737373\",\"#969696\",\"#bdbdbd\",\"#d9d9d9\",\"#f0f0f0\",\"#ffffff\"]},\"id\":\"fa9c3bc3-6e4d-4724-beab-a0f63159080d\",\"type\":\"LinearColorMapper\"},{\"attributes\":{\"axis_label\":\"translation tokens\",\"formatter\":{\"id\":\"a0e81da8-11ee-451d-9841-efa17df8d87c\",\"type\":\"BasicTickFormatter\"},\"major_label_overrides\":{\"0.5\":\"_EOS_\",\"1.5\":\".\",\"10.5\":\"km\",\"11.5\":\"26\",\"12.5\":\"is\",\"13.5\":\"home\",\"14.5\":\"holiday\",\"15.5\":\"the\",\"16.5\":\"_BOS_\",\"2.5\":\"ga\",\"3.5\":\"gor@@\",\"4.5\":\"deep\",\"5.5\":\"on\",\"6.5\":\"home\",\"7.5\":\"holiday\",\"8.5\":\"the\",\"9.5\":\"from\"},\"plot\":{\"id\":\"25b6a713-7376-488b-a78c-4ff1a962b90a\",\"subtype\":\"Figure\",\"type\":\"Plot\"},\"ticker\":{\"id\":\"e7e38859-00fd-4e1a-85a7-f6a823b655ce\",\"type\":\"FixedTicker\"}},\"id\":\"f070b9f0-e2aa-4ba3-9d64-1ed2a43ba805\",\"type\":\"LinearAxis\"},{\"attributes\":{\"active_drag\":\"auto\",\"active_inspect\":\"auto\",\"active_multi\":null,\"active_scroll\":\"auto\",\"active_tap\":\"auto\"},\"id\":\"b384ddba-74bd-4afe-ba5f-77cc356e5843\",\"type\":\"Toolbar\"}],\"root_ids\":[\"25b6a713-7376-488b-a78c-4ff1a962b90a\"]},\"title\":\"Bokeh Application\",\"version\":\"0.13.0\"}};\n",
              "  var render_items = [{\"docid\":\"1ba8d3ee-fe96-4896-b3ac-a453d723fcd2\",\"roots\":{\"25b6a713-7376-488b-a78c-4ff1a962b90a\":\"4a5100e6-f74f-48ae-894d-0424a899b497\"}}];\n",
              "  root.Bokeh.embed.embed_items_notebook(docs_json, render_items);\n",
              "\n",
              "  }\n",
              "  if (root.Bokeh !== undefined) {\n",
              "    embed_document(root);\n",
              "  } else {\n",
              "    var attempts = 0;\n",
              "    var timer = setInterval(function(root) {\n",
              "      if (root.Bokeh !== undefined) {\n",
              "        embed_document(root);\n",
              "        clearInterval(timer);\n",
              "      }\n",
              "      attempts++;\n",
              "      if (attempts > 100) {\n",
              "        console.log(\"Bokeh: ERROR: Unable to run BokehJS code because BokehJS library is missing\")\n",
              "        clearInterval(timer);\n",
              "      }\n",
              "    }, 10, root)\n",
              "  }\n",
              "})(window);"
            ],
            "application/vnd.bokehjs_exec.v0+json": ""
          },
          "metadata": {
            "tags": [],
            "application/vnd.bokehjs_exec.v0+json": {
              "id": "25b6a713-7376-488b-a78c-4ff1a962b90a"
            }
          }
        },
        {
          "output_type": "display_data",
          "data": {
            "text/html": [
              "\n",
              "    <div class=\"bk-root\">\n",
              "        <a href=\"https://bokeh.pydata.org\" target=\"_blank\" class=\"bk-logo bk-logo-small bk-logo-notebook\"></a>\n",
              "        <span id=\"927c9d2b-940e-44ee-8abc-70d3d6cfb733\">Loading BokehJS ...</span>\n",
              "    </div>"
            ]
          },
          "metadata": {
            "tags": []
          }
        },
        {
          "output_type": "display_data",
          "data": {
            "application/javascript": [
              "\n",
              "(function(root) {\n",
              "  function now() {\n",
              "    return new Date();\n",
              "  }\n",
              "\n",
              "  var force = true;\n",
              "\n",
              "  if (typeof (root._bokeh_onload_callbacks) === \"undefined\" || force === true) {\n",
              "    root._bokeh_onload_callbacks = [];\n",
              "    root._bokeh_is_loading = undefined;\n",
              "  }\n",
              "\n",
              "  var JS_MIME_TYPE = 'application/javascript';\n",
              "  var HTML_MIME_TYPE = 'text/html';\n",
              "  var EXEC_MIME_TYPE = 'application/vnd.bokehjs_exec.v0+json';\n",
              "  var CLASS_NAME = 'output_bokeh rendered_html';\n",
              "\n",
              "  /**\n",
              "   * Render data to the DOM node\n",
              "   */\n",
              "  function render(props, node) {\n",
              "    var script = document.createElement(\"script\");\n",
              "    node.appendChild(script);\n",
              "  }\n",
              "\n",
              "  /**\n",
              "   * Handle when an output is cleared or removed\n",
              "   */\n",
              "  function handleClearOutput(event, handle) {\n",
              "    var cell = handle.cell;\n",
              "\n",
              "    var id = cell.output_area._bokeh_element_id;\n",
              "    var server_id = cell.output_area._bokeh_server_id;\n",
              "    // Clean up Bokeh references\n",
              "    if (id != null && id in Bokeh.index) {\n",
              "      Bokeh.index[id].model.document.clear();\n",
              "      delete Bokeh.index[id];\n",
              "    }\n",
              "\n",
              "    if (server_id !== undefined) {\n",
              "      // Clean up Bokeh references\n",
              "      var cmd = \"from bokeh.io.state import curstate; print(curstate().uuid_to_server['\" + server_id + \"'].get_sessions()[0].document.roots[0]._id)\";\n",
              "      cell.notebook.kernel.execute(cmd, {\n",
              "        iopub: {\n",
              "          output: function(msg) {\n",
              "            var id = msg.content.text.trim();\n",
              "            if (id in Bokeh.index) {\n",
              "              Bokeh.index[id].model.document.clear();\n",
              "              delete Bokeh.index[id];\n",
              "            }\n",
              "          }\n",
              "        }\n",
              "      });\n",
              "      // Destroy server and session\n",
              "      var cmd = \"import bokeh.io.notebook as ion; ion.destroy_server('\" + server_id + \"')\";\n",
              "      cell.notebook.kernel.execute(cmd);\n",
              "    }\n",
              "  }\n",
              "\n",
              "  /**\n",
              "   * Handle when a new output is added\n",
              "   */\n",
              "  function handleAddOutput(event, handle) {\n",
              "    var output_area = handle.output_area;\n",
              "    var output = handle.output;\n",
              "\n",
              "    // limit handleAddOutput to display_data with EXEC_MIME_TYPE content only\n",
              "    if ((output.output_type != \"display_data\") || (!output.data.hasOwnProperty(EXEC_MIME_TYPE))) {\n",
              "      return\n",
              "    }\n",
              "\n",
              "    var toinsert = output_area.element.find(\".\" + CLASS_NAME.split(' ')[0]);\n",
              "\n",
              "    if (output.metadata[EXEC_MIME_TYPE][\"id\"] !== undefined) {\n",
              "      toinsert[toinsert.length - 1].firstChild.textContent = output.data[JS_MIME_TYPE];\n",
              "      // store reference to embed id on output_area\n",
              "      output_area._bokeh_element_id = output.metadata[EXEC_MIME_TYPE][\"id\"];\n",
              "    }\n",
              "    if (output.metadata[EXEC_MIME_TYPE][\"server_id\"] !== undefined) {\n",
              "      var bk_div = document.createElement(\"div\");\n",
              "      bk_div.innerHTML = output.data[HTML_MIME_TYPE];\n",
              "      var script_attrs = bk_div.children[0].attributes;\n",
              "      for (var i = 0; i < script_attrs.length; i++) {\n",
              "        toinsert[toinsert.length - 1].firstChild.setAttribute(script_attrs[i].name, script_attrs[i].value);\n",
              "      }\n",
              "      // store reference to server id on output_area\n",
              "      output_area._bokeh_server_id = output.metadata[EXEC_MIME_TYPE][\"server_id\"];\n",
              "    }\n",
              "  }\n",
              "\n",
              "  function register_renderer(events, OutputArea) {\n",
              "\n",
              "    function append_mime(data, metadata, element) {\n",
              "      // create a DOM node to render to\n",
              "      var toinsert = this.create_output_subarea(\n",
              "        metadata,\n",
              "        CLASS_NAME,\n",
              "        EXEC_MIME_TYPE\n",
              "      );\n",
              "      this.keyboard_manager.register_events(toinsert);\n",
              "      // Render to node\n",
              "      var props = {data: data, metadata: metadata[EXEC_MIME_TYPE]};\n",
              "      render(props, toinsert[toinsert.length - 1]);\n",
              "      element.append(toinsert);\n",
              "      return toinsert\n",
              "    }\n",
              "\n",
              "    /* Handle when an output is cleared or removed */\n",
              "    events.on('clear_output.CodeCell', handleClearOutput);\n",
              "    events.on('delete.Cell', handleClearOutput);\n",
              "\n",
              "    /* Handle when a new output is added */\n",
              "    events.on('output_added.OutputArea', handleAddOutput);\n",
              "\n",
              "    /**\n",
              "     * Register the mime type and append_mime function with output_area\n",
              "     */\n",
              "    OutputArea.prototype.register_mime_type(EXEC_MIME_TYPE, append_mime, {\n",
              "      /* Is output safe? */\n",
              "      safe: true,\n",
              "      /* Index of renderer in `output_area.display_order` */\n",
              "      index: 0\n",
              "    });\n",
              "  }\n",
              "\n",
              "  // register the mime type if in Jupyter Notebook environment and previously unregistered\n",
              "  if (root.Jupyter !== undefined) {\n",
              "    var events = require('base/js/events');\n",
              "    var OutputArea = require('notebook/js/outputarea').OutputArea;\n",
              "\n",
              "    if (OutputArea.prototype.mime_types().indexOf(EXEC_MIME_TYPE) == -1) {\n",
              "      register_renderer(events, OutputArea);\n",
              "    }\n",
              "  }\n",
              "\n",
              "  \n",
              "  if (typeof (root._bokeh_timeout) === \"undefined\" || force === true) {\n",
              "    root._bokeh_timeout = Date.now() + 5000;\n",
              "    root._bokeh_failed_load = false;\n",
              "  }\n",
              "\n",
              "  var NB_LOAD_WARNING = {'data': {'text/html':\n",
              "     \"<div style='background-color: #fdd'>\\n\"+\n",
              "     \"<p>\\n\"+\n",
              "     \"BokehJS does not appear to have successfully loaded. If loading BokehJS from CDN, this \\n\"+\n",
              "     \"may be due to a slow or bad network connection. Possible fixes:\\n\"+\n",
              "     \"</p>\\n\"+\n",
              "     \"<ul>\\n\"+\n",
              "     \"<li>re-rerun `output_notebook()` to attempt to load from CDN again, or</li>\\n\"+\n",
              "     \"<li>use INLINE resources instead, as so:</li>\\n\"+\n",
              "     \"</ul>\\n\"+\n",
              "     \"<code>\\n\"+\n",
              "     \"from bokeh.resources import INLINE\\n\"+\n",
              "     \"output_notebook(resources=INLINE)\\n\"+\n",
              "     \"</code>\\n\"+\n",
              "     \"</div>\"}};\n",
              "\n",
              "  function display_loaded() {\n",
              "    var el = document.getElementById(\"927c9d2b-940e-44ee-8abc-70d3d6cfb733\");\n",
              "    if (el != null) {\n",
              "      el.textContent = \"BokehJS is loading...\";\n",
              "    }\n",
              "    if (root.Bokeh !== undefined) {\n",
              "      if (el != null) {\n",
              "        el.textContent = \"BokehJS \" + root.Bokeh.version + \" successfully loaded.\";\n",
              "      }\n",
              "    } else if (Date.now() < root._bokeh_timeout) {\n",
              "      setTimeout(display_loaded, 100)\n",
              "    }\n",
              "  }\n",
              "\n",
              "\n",
              "  function run_callbacks() {\n",
              "    try {\n",
              "      root._bokeh_onload_callbacks.forEach(function(callback) { callback() });\n",
              "    }\n",
              "    finally {\n",
              "      delete root._bokeh_onload_callbacks\n",
              "    }\n",
              "    console.info(\"Bokeh: all callbacks have finished\");\n",
              "  }\n",
              "\n",
              "  function load_libs(js_urls, callback) {\n",
              "    root._bokeh_onload_callbacks.push(callback);\n",
              "    if (root._bokeh_is_loading > 0) {\n",
              "      console.log(\"Bokeh: BokehJS is being loaded, scheduling callback at\", now());\n",
              "      return null;\n",
              "    }\n",
              "    if (js_urls == null || js_urls.length === 0) {\n",
              "      run_callbacks();\n",
              "      return null;\n",
              "    }\n",
              "    console.log(\"Bokeh: BokehJS not loaded, scheduling load and callback at\", now());\n",
              "    root._bokeh_is_loading = js_urls.length;\n",
              "    for (var i = 0; i < js_urls.length; i++) {\n",
              "      var url = js_urls[i];\n",
              "      var s = document.createElement('script');\n",
              "      s.src = url;\n",
              "      s.async = false;\n",
              "      s.onreadystatechange = s.onload = function() {\n",
              "        root._bokeh_is_loading--;\n",
              "        if (root._bokeh_is_loading === 0) {\n",
              "          console.log(\"Bokeh: all BokehJS libraries loaded\");\n",
              "          run_callbacks()\n",
              "        }\n",
              "      };\n",
              "      s.onerror = function() {\n",
              "        console.warn(\"failed to load library \" + url);\n",
              "      };\n",
              "      console.log(\"Bokeh: injecting script tag for BokehJS library: \", url);\n",
              "      document.getElementsByTagName(\"head\")[0].appendChild(s);\n",
              "    }\n",
              "  };var element = document.getElementById(\"927c9d2b-940e-44ee-8abc-70d3d6cfb733\");\n",
              "  if (element == null) {\n",
              "    console.log(\"Bokeh: ERROR: autoload.js configured with elementid '927c9d2b-940e-44ee-8abc-70d3d6cfb733' but no matching script tag was found. \")\n",
              "    return false;\n",
              "  }\n",
              "\n",
              "  var js_urls = [\"https://cdn.pydata.org/bokeh/release/bokeh-0.13.0.min.js\", \"https://cdn.pydata.org/bokeh/release/bokeh-widgets-0.13.0.min.js\", \"https://cdn.pydata.org/bokeh/release/bokeh-tables-0.13.0.min.js\", \"https://cdn.pydata.org/bokeh/release/bokeh-gl-0.13.0.min.js\"];\n",
              "\n",
              "  var inline_js = [\n",
              "    function(Bokeh) {\n",
              "      Bokeh.set_log_level(\"info\");\n",
              "    },\n",
              "    \n",
              "    function(Bokeh) {\n",
              "      \n",
              "    },\n",
              "    function(Bokeh) {\n",
              "      console.log(\"Bokeh: injecting CSS: https://cdn.pydata.org/bokeh/release/bokeh-0.13.0.min.css\");\n",
              "      Bokeh.embed.inject_css(\"https://cdn.pydata.org/bokeh/release/bokeh-0.13.0.min.css\");\n",
              "      console.log(\"Bokeh: injecting CSS: https://cdn.pydata.org/bokeh/release/bokeh-widgets-0.13.0.min.css\");\n",
              "      Bokeh.embed.inject_css(\"https://cdn.pydata.org/bokeh/release/bokeh-widgets-0.13.0.min.css\");\n",
              "      console.log(\"Bokeh: injecting CSS: https://cdn.pydata.org/bokeh/release/bokeh-tables-0.13.0.min.css\");\n",
              "      Bokeh.embed.inject_css(\"https://cdn.pydata.org/bokeh/release/bokeh-tables-0.13.0.min.css\");\n",
              "    }\n",
              "  ];\n",
              "\n",
              "  function run_inline_js() {\n",
              "    \n",
              "    if ((root.Bokeh !== undefined) || (force === true)) {\n",
              "      for (var i = 0; i < inline_js.length; i++) {\n",
              "        inline_js[i].call(root, root.Bokeh);\n",
              "      }if (force === true) {\n",
              "        display_loaded();\n",
              "      }} else if (Date.now() < root._bokeh_timeout) {\n",
              "      setTimeout(run_inline_js, 100);\n",
              "    } else if (!root._bokeh_failed_load) {\n",
              "      console.log(\"Bokeh: BokehJS failed to load within specified timeout.\");\n",
              "      root._bokeh_failed_load = true;\n",
              "    } else if (force !== true) {\n",
              "      var cell = $(document.getElementById(\"927c9d2b-940e-44ee-8abc-70d3d6cfb733\")).parents('.cell').data().cell;\n",
              "      cell.output_area.append_execute_result(NB_LOAD_WARNING)\n",
              "    }\n",
              "\n",
              "  }\n",
              "\n",
              "  if (root._bokeh_is_loading === 0) {\n",
              "    console.log(\"Bokeh: BokehJS loaded, going straight to plotting\");\n",
              "    run_inline_js();\n",
              "  } else {\n",
              "    load_libs(js_urls, function() {\n",
              "      console.log(\"Bokeh: BokehJS plotting callback run at\", now());\n",
              "      run_inline_js();\n",
              "    });\n",
              "  }\n",
              "}(window));"
            ],
            "application/vnd.bokehjs_load.v0+json": "\n(function(root) {\n  function now() {\n    return new Date();\n  }\n\n  var force = true;\n\n  if (typeof (root._bokeh_onload_callbacks) === \"undefined\" || force === true) {\n    root._bokeh_onload_callbacks = [];\n    root._bokeh_is_loading = undefined;\n  }\n\n  \n\n  \n  if (typeof (root._bokeh_timeout) === \"undefined\" || force === true) {\n    root._bokeh_timeout = Date.now() + 5000;\n    root._bokeh_failed_load = false;\n  }\n\n  var NB_LOAD_WARNING = {'data': {'text/html':\n     \"<div style='background-color: #fdd'>\\n\"+\n     \"<p>\\n\"+\n     \"BokehJS does not appear to have successfully loaded. If loading BokehJS from CDN, this \\n\"+\n     \"may be due to a slow or bad network connection. Possible fixes:\\n\"+\n     \"</p>\\n\"+\n     \"<ul>\\n\"+\n     \"<li>re-rerun `output_notebook()` to attempt to load from CDN again, or</li>\\n\"+\n     \"<li>use INLINE resources instead, as so:</li>\\n\"+\n     \"</ul>\\n\"+\n     \"<code>\\n\"+\n     \"from bokeh.resources import INLINE\\n\"+\n     \"output_notebook(resources=INLINE)\\n\"+\n     \"</code>\\n\"+\n     \"</div>\"}};\n\n  function display_loaded() {\n    var el = document.getElementById(\"927c9d2b-940e-44ee-8abc-70d3d6cfb733\");\n    if (el != null) {\n      el.textContent = \"BokehJS is loading...\";\n    }\n    if (root.Bokeh !== undefined) {\n      if (el != null) {\n        el.textContent = \"BokehJS \" + root.Bokeh.version + \" successfully loaded.\";\n      }\n    } else if (Date.now() < root._bokeh_timeout) {\n      setTimeout(display_loaded, 100)\n    }\n  }\n\n\n  function run_callbacks() {\n    try {\n      root._bokeh_onload_callbacks.forEach(function(callback) { callback() });\n    }\n    finally {\n      delete root._bokeh_onload_callbacks\n    }\n    console.info(\"Bokeh: all callbacks have finished\");\n  }\n\n  function load_libs(js_urls, callback) {\n    root._bokeh_onload_callbacks.push(callback);\n    if (root._bokeh_is_loading > 0) {\n      console.log(\"Bokeh: BokehJS is being loaded, scheduling callback at\", now());\n      return null;\n    }\n    if (js_urls == null || js_urls.length === 0) {\n      run_callbacks();\n      return null;\n    }\n    console.log(\"Bokeh: BokehJS not loaded, scheduling load and callback at\", now());\n    root._bokeh_is_loading = js_urls.length;\n    for (var i = 0; i < js_urls.length; i++) {\n      var url = js_urls[i];\n      var s = document.createElement('script');\n      s.src = url;\n      s.async = false;\n      s.onreadystatechange = s.onload = function() {\n        root._bokeh_is_loading--;\n        if (root._bokeh_is_loading === 0) {\n          console.log(\"Bokeh: all BokehJS libraries loaded\");\n          run_callbacks()\n        }\n      };\n      s.onerror = function() {\n        console.warn(\"failed to load library \" + url);\n      };\n      console.log(\"Bokeh: injecting script tag for BokehJS library: \", url);\n      document.getElementsByTagName(\"head\")[0].appendChild(s);\n    }\n  };var element = document.getElementById(\"927c9d2b-940e-44ee-8abc-70d3d6cfb733\");\n  if (element == null) {\n    console.log(\"Bokeh: ERROR: autoload.js configured with elementid '927c9d2b-940e-44ee-8abc-70d3d6cfb733' but no matching script tag was found. \")\n    return false;\n  }\n\n  var js_urls = [\"https://cdn.pydata.org/bokeh/release/bokeh-0.13.0.min.js\", \"https://cdn.pydata.org/bokeh/release/bokeh-widgets-0.13.0.min.js\", \"https://cdn.pydata.org/bokeh/release/bokeh-tables-0.13.0.min.js\", \"https://cdn.pydata.org/bokeh/release/bokeh-gl-0.13.0.min.js\"];\n\n  var inline_js = [\n    function(Bokeh) {\n      Bokeh.set_log_level(\"info\");\n    },\n    \n    function(Bokeh) {\n      \n    },\n    function(Bokeh) {\n      console.log(\"Bokeh: injecting CSS: https://cdn.pydata.org/bokeh/release/bokeh-0.13.0.min.css\");\n      Bokeh.embed.inject_css(\"https://cdn.pydata.org/bokeh/release/bokeh-0.13.0.min.css\");\n      console.log(\"Bokeh: injecting CSS: https://cdn.pydata.org/bokeh/release/bokeh-widgets-0.13.0.min.css\");\n      Bokeh.embed.inject_css(\"https://cdn.pydata.org/bokeh/release/bokeh-widgets-0.13.0.min.css\");\n      console.log(\"Bokeh: injecting CSS: https://cdn.pydata.org/bokeh/release/bokeh-tables-0.13.0.min.css\");\n      Bokeh.embed.inject_css(\"https://cdn.pydata.org/bokeh/release/bokeh-tables-0.13.0.min.css\");\n    }\n  ];\n\n  function run_inline_js() {\n    \n    if ((root.Bokeh !== undefined) || (force === true)) {\n      for (var i = 0; i < inline_js.length; i++) {\n        inline_js[i].call(root, root.Bokeh);\n      }if (force === true) {\n        display_loaded();\n      }} else if (Date.now() < root._bokeh_timeout) {\n      setTimeout(run_inline_js, 100);\n    } else if (!root._bokeh_failed_load) {\n      console.log(\"Bokeh: BokehJS failed to load within specified timeout.\");\n      root._bokeh_failed_load = true;\n    } else if (force !== true) {\n      var cell = $(document.getElementById(\"927c9d2b-940e-44ee-8abc-70d3d6cfb733\")).parents('.cell').data().cell;\n      cell.output_area.append_execute_result(NB_LOAD_WARNING)\n    }\n\n  }\n\n  if (root._bokeh_is_loading === 0) {\n    console.log(\"Bokeh: BokehJS loaded, going straight to plotting\");\n    run_inline_js();\n  } else {\n    load_libs(js_urls, function() {\n      console.log(\"Bokeh: BokehJS plotting callback run at\", now());\n      run_inline_js();\n    });\n  }\n}(window));"
          },
          "metadata": {
            "tags": []
          }
        },
        {
          "output_type": "display_data",
          "data": {
            "text/html": [
              "\n",
              "\n",
              "\n",
              "\n",
              "\n",
              "\n",
              "  <div class=\"bk-root\" id=\"7ebf3441-bca1-4fe6-ac99-35b1f4ca244e\"></div>\n"
            ]
          },
          "metadata": {
            "tags": []
          }
        },
        {
          "output_type": "display_data",
          "data": {
            "application/javascript": [
              "(function(root) {\n",
              "  function embed_document(root) {\n",
              "    \n",
              "  var docs_json = {\"1232b09a-5fe0-4193-8a5a-39e83c12d0e5\":{\"roots\":{\"references\":[{\"attributes\":{\"axis_label\":\"translation tokens\",\"formatter\":{\"id\":\"192f3299-7a39-4776-be43-92b2a1ba0818\",\"type\":\"BasicTickFormatter\"},\"major_label_overrides\":{\"0.5\":\"_EOS_\",\"1.5\":\".\",\"10.5\":\"the\",\"11.5\":\"from\",\"12.5\":\"walk\",\"13.5\":\"minute\",\"14.5\":\"-\",\"15.5\":\"5\",\"16.5\":\"a\",\"17.5\":\"just\",\"18.5\":\"is\",\"19.5\":\"island\",\"2.5\":\"restaurant\",\"20.5\":\"coral\",\"21.5\":\"and\",\"22.5\":\",\",\"23.5\":\"beach\",\"24.5\":\"the\",\"25.5\":\"from\",\"26.5\":\"walk\",\"27.5\":\"minute\",\"28.5\":\"-\",\"29.5\":\"two\",\"3.5\":\"carte\",\"30.5\":\"a\",\"31.5\":\",\",\"32.5\":\"terrace\",\"33.5\":\"sun\",\"34.5\":\"a\",\"35.5\":\"with\",\"36.5\":\"accommodation\",\"37.5\":\"conditioned\",\"38.5\":\"-\",\"39.5\":\"air\",\"4.5\":\"-\",\"40.5\":\"and\",\"41.5\":\"garden\",\"42.5\":\",\",\"43.5\":\"pool\",\"44.5\":\"private\",\"45.5\":\"a\",\"46.5\":\"featuring\",\"47.5\":\"_BOS_\",\"5.5\":\"la\",\"6.5\":\"-\",\"7.5\":\"la\",\"8.5\":\"-\",\"9.5\":\"marina\"},\"plot\":{\"id\":\"64165d93-b08f-4231-849e-79910d58deed\",\"subtype\":\"Figure\",\"type\":\"Plot\"},\"ticker\":{\"id\":\"0ba8355a-e312-4871-a248-b67f934ff951\",\"type\":\"FixedTicker\"}},\"id\":\"f907a72f-952b-4d88-8fa8-2ad72cbb0c27\",\"type\":\"LinearAxis\"},{\"attributes\":{},\"id\":\"68db4eb5-925d-4e75-8450-bd9de915ca3e\",\"type\":\"Selection\"},{\"attributes\":{\"palette\":[\"#000000\",\"#252525\",\"#525252\",\"#737373\",\"#969696\",\"#bdbdbd\",\"#d9d9d9\",\"#f0f0f0\",\"#ffffff\"]},\"id\":\"f79baf1d-86f9-4544-bb57-f11273a0b7ce\",\"type\":\"LinearColorMapper\"},{\"attributes\":{\"source\":{\"id\":\"b3bc396f-5b60-47cb-b65d-d1a82479ec83\",\"type\":\"ColumnDataSource\"}},\"id\":\"a9c1d18e-a999-48bd-bf80-536313202891\",\"type\":\"CDSView\"},{\"attributes\":{},\"id\":\"0505b005-6a70-4fc6-bd77-53d5282c534d\",\"type\":\"UnionRenderers\"},{\"attributes\":{\"axis_label\":\"source tokens\",\"formatter\":{\"id\":\"18406aba-29ff-4dfe-a5ab-034fdf82af2d\",\"type\":\"BasicTickFormatter\"},\"major_label_orientation\":45,\"major_label_overrides\":{\"0.5\":\"_BOS_\",\"1.5\":\"\\u0430\\u043f\\u0430\\u0440\\u0442\\u0430\\u043c\\u0435\\u043d\\u0442\\u044b\",\"10.5\":\"\\u0441\\u0430\\u0434\\u043e\\u043c\",\"11.5\":\",\",\"12.5\":\"\\u043a\\u043e\\u043d\\u0434\\u0438\\u0446\\u0438\\u043e\\u043d\\u0435\\u0440\\u043e\\u043c\",\"13.5\":\"\\u0438\",\"14.5\":\"\\u0442\\u0435\\u0440\\u0440\\u0430\\u0441\\u043e\\u0439\",\"15.5\":\"\\u0434\\u043b\\u044f\",\"16.5\":\"\\u0437\\u0430\\u0433\\u0430\\u0440\\u0430\",\"17.5\":\"\\u0440\\u0430\\u0441\\u043f\\u043e\\u043b\\u043e\\u0436\\u0435\\u043d\\u044b\",\"18.5\":\"\\u0432\",\"19.5\":\"5\",\"2.5\":\"\\u0432\",\"20.5\":\"\\u043c\\u0438\\u043d\\u0443\\u0442\\u0430\\u0445\",\"21.5\":\"\\u0445\\u043e\\u0434\\u044c\\u0431\\u044b\",\"22.5\":\"\\u043e\\u0442\",\"23.5\":\"\\u043f\\u043b\\u044f\\u0436\\u0430\",\"24.5\":\"\\u043d\\u0430\",\"25.5\":\"\\u043a\\u0443\\u0440\\u043e\\u0440\\u0442\\u0435\",\"26.5\":\"\\u043a\\u0430@@\",\"27.5\":\"\\u0431\\u043e\",\"28.5\":\"-\",\"29.5\":\"\\u0440\\u043e\\u0439\",\"3.5\":\"\\u043f\\u0435\\u043d\\u0442@@\",\"30.5\":\".\",\"31.5\":\"_EOS_\",\"4.5\":\"\\u0445\\u0430\\u0443\\u0441\\u0435\",\"5.5\":\"\\u0441\",\"6.5\":\"\\u043e\\u0431\\u0449\\u0438\\u043c\",\"7.5\":\"\\u043e\\u0442\\u043a\\u0440\\u044b\\u0442\\u044b\\u043c\",\"8.5\":\"\\u0431\\u0430\\u0441\\u0441\\u0435\\u0439\\u043d\\u043e\\u043c\",\"9.5\":\",\"},\"plot\":{\"id\":\"64165d93-b08f-4231-849e-79910d58deed\",\"subtype\":\"Figure\",\"type\":\"Plot\"},\"ticker\":{\"id\":\"1906dd03-96ca-45ea-ad1c-767dd4746622\",\"type\":\"FixedTicker\"}},\"id\":\"51fe8df7-e599-4698-b4ec-1f00bd43eaa3\",\"type\":\"LinearAxis\"},{\"attributes\":{},\"id\":\"192f3299-7a39-4776-be43-92b2a1ba0818\",\"type\":\"BasicTickFormatter\"},{\"attributes\":{\"color_mapper\":{\"id\":\"ff6a6dc0-6ef6-4219-b0aa-8cd8dba4164a\",\"type\":\"LinearColorMapper\"},\"dh\":{\"units\":\"data\",\"value\":48},\"dw\":{\"units\":\"data\",\"value\":32},\"image\":{\"field\":\"image\"},\"x\":{\"value\":0},\"y\":{\"value\":0}},\"id\":\"0af0f931-f79a-4319-931f-24238e49d247\",\"type\":\"Image\"},{\"attributes\":{\"plot\":null,\"text\":\"\"},\"id\":\"e612860d-ce01-4e95-8c7c-087eeedffc59\",\"type\":\"Title\"},{\"attributes\":{\"color_mapper\":{\"id\":\"f79baf1d-86f9-4544-bb57-f11273a0b7ce\",\"type\":\"LinearColorMapper\"},\"dh\":{\"units\":\"data\",\"value\":48},\"dw\":{\"units\":\"data\",\"value\":32},\"image\":{\"field\":\"image\"},\"x\":{\"value\":0},\"y\":{\"value\":0}},\"id\":\"472aa8a6-8943-428f-be99-0af111752077\",\"type\":\"Image\"},{\"attributes\":{},\"id\":\"09cbaae0-fdb7-4ccc-8395-a5d5b0327a6b\",\"type\":\"LinearScale\"},{\"attributes\":{\"ticks\":[0.5,1.5,2.5,3.5,4.5,5.5,6.5,7.5,8.5,9.5,10.5,11.5,12.5,13.5,14.5,15.5,16.5,17.5,18.5,19.5,20.5,21.5,22.5,23.5,24.5,25.5,26.5,27.5,28.5,29.5,30.5,31.5,32.5,33.5,34.5,35.5,36.5,37.5,38.5,39.5,40.5,41.5,42.5,43.5,44.5,45.5,46.5,47.5]},\"id\":\"0ba8355a-e312-4871-a248-b67f934ff951\",\"type\":\"FixedTicker\"},{\"attributes\":{\"ticks\":[0.5,1.5,2.5,3.5,4.5,5.5,6.5,7.5,8.5,9.5,10.5,11.5,12.5,13.5,14.5,15.5,16.5,17.5,18.5,19.5,20.5,21.5,22.5,23.5,24.5,25.5,26.5,27.5,28.5,29.5,30.5,31.5]},\"id\":\"1906dd03-96ca-45ea-ad1c-767dd4746622\",\"type\":\"FixedTicker\"},{\"attributes\":{},\"id\":\"996489e2-8838-4089-811e-6165a8af84ed\",\"type\":\"LinearScale\"},{\"attributes\":{\"data_source\":{\"id\":\"b3bc396f-5b60-47cb-b65d-d1a82479ec83\",\"type\":\"ColumnDataSource\"},\"glyph\":{\"id\":\"0af0f931-f79a-4319-931f-24238e49d247\",\"type\":\"Image\"},\"hover_glyph\":null,\"muted_glyph\":null,\"nonselection_glyph\":{\"id\":\"472aa8a6-8943-428f-be99-0af111752077\",\"type\":\"Image\"},\"selection_glyph\":null,\"view\":{\"id\":\"a9c1d18e-a999-48bd-bf80-536313202891\",\"type\":\"CDSView\"}},\"id\":\"9270b8a6-8b91-483d-b5d8-a568ad17a830\",\"type\":\"GlyphRenderer\"},{\"attributes\":{\"above\":[{\"id\":\"51fe8df7-e599-4698-b4ec-1f00bd43eaa3\",\"type\":\"LinearAxis\"}],\"left\":[{\"id\":\"f907a72f-952b-4d88-8fa8-2ad72cbb0c27\",\"type\":\"LinearAxis\"}],\"renderers\":[{\"id\":\"9270b8a6-8b91-483d-b5d8-a568ad17a830\",\"type\":\"GlyphRenderer\"},{\"id\":\"51fe8df7-e599-4698-b4ec-1f00bd43eaa3\",\"type\":\"LinearAxis\"},{\"id\":\"f907a72f-952b-4d88-8fa8-2ad72cbb0c27\",\"type\":\"LinearAxis\"}],\"title\":{\"id\":\"e612860d-ce01-4e95-8c7c-087eeedffc59\",\"type\":\"Title\"},\"toolbar\":{\"id\":\"8e9e83fb-5dd9-466b-8b9e-8575bdb3434a\",\"type\":\"Toolbar\"},\"x_range\":{\"id\":\"86963283-446b-4aa3-820e-b63fd10fbaa2\",\"type\":\"Range1d\"},\"x_scale\":{\"id\":\"09cbaae0-fdb7-4ccc-8395-a5d5b0327a6b\",\"type\":\"LinearScale\"},\"y_range\":{\"id\":\"39fd141e-765a-40ee-88cb-8140dae766c1\",\"type\":\"Range1d\"},\"y_scale\":{\"id\":\"996489e2-8838-4089-811e-6165a8af84ed\",\"type\":\"LinearScale\"}},\"id\":\"64165d93-b08f-4231-849e-79910d58deed\",\"subtype\":\"Figure\",\"type\":\"Plot\"},{\"attributes\":{\"callback\":null,\"data\":{\"image\":[{\"__ndarray__\":\"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\",\"dtype\":\"float32\",\"shape\":[48,32]}]},\"selected\":{\"id\":\"68db4eb5-925d-4e75-8450-bd9de915ca3e\",\"type\":\"Selection\"},\"selection_policy\":{\"id\":\"0505b005-6a70-4fc6-bd77-53d5282c534d\",\"type\":\"UnionRenderers\"}},\"id\":\"b3bc396f-5b60-47cb-b65d-d1a82479ec83\",\"type\":\"ColumnDataSource\"},{\"attributes\":{},\"id\":\"18406aba-29ff-4dfe-a5ab-034fdf82af2d\",\"type\":\"BasicTickFormatter\"},{\"attributes\":{\"active_drag\":\"auto\",\"active_inspect\":\"auto\",\"active_multi\":null,\"active_scroll\":\"auto\",\"active_tap\":\"auto\"},\"id\":\"8e9e83fb-5dd9-466b-8b9e-8575bdb3434a\",\"type\":\"Toolbar\"},{\"attributes\":{\"callback\":null,\"end\":48},\"id\":\"39fd141e-765a-40ee-88cb-8140dae766c1\",\"type\":\"Range1d\"},{\"attributes\":{\"callback\":null,\"end\":32},\"id\":\"86963283-446b-4aa3-820e-b63fd10fbaa2\",\"type\":\"Range1d\"},{\"attributes\":{\"palette\":[\"#000000\",\"#252525\",\"#525252\",\"#737373\",\"#969696\",\"#bdbdbd\",\"#d9d9d9\",\"#f0f0f0\",\"#ffffff\"]},\"id\":\"ff6a6dc0-6ef6-4219-b0aa-8cd8dba4164a\",\"type\":\"LinearColorMapper\"}],\"root_ids\":[\"64165d93-b08f-4231-849e-79910d58deed\"]},\"title\":\"Bokeh Application\",\"version\":\"0.13.0\"}};\n",
              "  var render_items = [{\"docid\":\"1232b09a-5fe0-4193-8a5a-39e83c12d0e5\",\"roots\":{\"64165d93-b08f-4231-849e-79910d58deed\":\"7ebf3441-bca1-4fe6-ac99-35b1f4ca244e\"}}];\n",
              "  root.Bokeh.embed.embed_items_notebook(docs_json, render_items);\n",
              "\n",
              "  }\n",
              "  if (root.Bokeh !== undefined) {\n",
              "    embed_document(root);\n",
              "  } else {\n",
              "    var attempts = 0;\n",
              "    var timer = setInterval(function(root) {\n",
              "      if (root.Bokeh !== undefined) {\n",
              "        embed_document(root);\n",
              "        clearInterval(timer);\n",
              "      }\n",
              "      attempts++;\n",
              "      if (attempts > 100) {\n",
              "        console.log(\"Bokeh: ERROR: Unable to run BokehJS code because BokehJS library is missing\")\n",
              "        clearInterval(timer);\n",
              "      }\n",
              "    }, 10, root)\n",
              "  }\n",
              "})(window);"
            ],
            "application/vnd.bokehjs_exec.v0+json": ""
          },
          "metadata": {
            "tags": [],
            "application/vnd.bokehjs_exec.v0+json": {
              "id": "64165d93-b08f-4231-849e-79910d58deed"
            }
          }
        },
        {
          "output_type": "display_data",
          "data": {
            "text/html": [
              "\n",
              "    <div class=\"bk-root\">\n",
              "        <a href=\"https://bokeh.pydata.org\" target=\"_blank\" class=\"bk-logo bk-logo-small bk-logo-notebook\"></a>\n",
              "        <span id=\"57d23330-3935-49cd-bd90-8b53812122e4\">Loading BokehJS ...</span>\n",
              "    </div>"
            ]
          },
          "metadata": {
            "tags": []
          }
        },
        {
          "output_type": "display_data",
          "data": {
            "application/javascript": [
              "\n",
              "(function(root) {\n",
              "  function now() {\n",
              "    return new Date();\n",
              "  }\n",
              "\n",
              "  var force = true;\n",
              "\n",
              "  if (typeof (root._bokeh_onload_callbacks) === \"undefined\" || force === true) {\n",
              "    root._bokeh_onload_callbacks = [];\n",
              "    root._bokeh_is_loading = undefined;\n",
              "  }\n",
              "\n",
              "  var JS_MIME_TYPE = 'application/javascript';\n",
              "  var HTML_MIME_TYPE = 'text/html';\n",
              "  var EXEC_MIME_TYPE = 'application/vnd.bokehjs_exec.v0+json';\n",
              "  var CLASS_NAME = 'output_bokeh rendered_html';\n",
              "\n",
              "  /**\n",
              "   * Render data to the DOM node\n",
              "   */\n",
              "  function render(props, node) {\n",
              "    var script = document.createElement(\"script\");\n",
              "    node.appendChild(script);\n",
              "  }\n",
              "\n",
              "  /**\n",
              "   * Handle when an output is cleared or removed\n",
              "   */\n",
              "  function handleClearOutput(event, handle) {\n",
              "    var cell = handle.cell;\n",
              "\n",
              "    var id = cell.output_area._bokeh_element_id;\n",
              "    var server_id = cell.output_area._bokeh_server_id;\n",
              "    // Clean up Bokeh references\n",
              "    if (id != null && id in Bokeh.index) {\n",
              "      Bokeh.index[id].model.document.clear();\n",
              "      delete Bokeh.index[id];\n",
              "    }\n",
              "\n",
              "    if (server_id !== undefined) {\n",
              "      // Clean up Bokeh references\n",
              "      var cmd = \"from bokeh.io.state import curstate; print(curstate().uuid_to_server['\" + server_id + \"'].get_sessions()[0].document.roots[0]._id)\";\n",
              "      cell.notebook.kernel.execute(cmd, {\n",
              "        iopub: {\n",
              "          output: function(msg) {\n",
              "            var id = msg.content.text.trim();\n",
              "            if (id in Bokeh.index) {\n",
              "              Bokeh.index[id].model.document.clear();\n",
              "              delete Bokeh.index[id];\n",
              "            }\n",
              "          }\n",
              "        }\n",
              "      });\n",
              "      // Destroy server and session\n",
              "      var cmd = \"import bokeh.io.notebook as ion; ion.destroy_server('\" + server_id + \"')\";\n",
              "      cell.notebook.kernel.execute(cmd);\n",
              "    }\n",
              "  }\n",
              "\n",
              "  /**\n",
              "   * Handle when a new output is added\n",
              "   */\n",
              "  function handleAddOutput(event, handle) {\n",
              "    var output_area = handle.output_area;\n",
              "    var output = handle.output;\n",
              "\n",
              "    // limit handleAddOutput to display_data with EXEC_MIME_TYPE content only\n",
              "    if ((output.output_type != \"display_data\") || (!output.data.hasOwnProperty(EXEC_MIME_TYPE))) {\n",
              "      return\n",
              "    }\n",
              "\n",
              "    var toinsert = output_area.element.find(\".\" + CLASS_NAME.split(' ')[0]);\n",
              "\n",
              "    if (output.metadata[EXEC_MIME_TYPE][\"id\"] !== undefined) {\n",
              "      toinsert[toinsert.length - 1].firstChild.textContent = output.data[JS_MIME_TYPE];\n",
              "      // store reference to embed id on output_area\n",
              "      output_area._bokeh_element_id = output.metadata[EXEC_MIME_TYPE][\"id\"];\n",
              "    }\n",
              "    if (output.metadata[EXEC_MIME_TYPE][\"server_id\"] !== undefined) {\n",
              "      var bk_div = document.createElement(\"div\");\n",
              "      bk_div.innerHTML = output.data[HTML_MIME_TYPE];\n",
              "      var script_attrs = bk_div.children[0].attributes;\n",
              "      for (var i = 0; i < script_attrs.length; i++) {\n",
              "        toinsert[toinsert.length - 1].firstChild.setAttribute(script_attrs[i].name, script_attrs[i].value);\n",
              "      }\n",
              "      // store reference to server id on output_area\n",
              "      output_area._bokeh_server_id = output.metadata[EXEC_MIME_TYPE][\"server_id\"];\n",
              "    }\n",
              "  }\n",
              "\n",
              "  function register_renderer(events, OutputArea) {\n",
              "\n",
              "    function append_mime(data, metadata, element) {\n",
              "      // create a DOM node to render to\n",
              "      var toinsert = this.create_output_subarea(\n",
              "        metadata,\n",
              "        CLASS_NAME,\n",
              "        EXEC_MIME_TYPE\n",
              "      );\n",
              "      this.keyboard_manager.register_events(toinsert);\n",
              "      // Render to node\n",
              "      var props = {data: data, metadata: metadata[EXEC_MIME_TYPE]};\n",
              "      render(props, toinsert[toinsert.length - 1]);\n",
              "      element.append(toinsert);\n",
              "      return toinsert\n",
              "    }\n",
              "\n",
              "    /* Handle when an output is cleared or removed */\n",
              "    events.on('clear_output.CodeCell', handleClearOutput);\n",
              "    events.on('delete.Cell', handleClearOutput);\n",
              "\n",
              "    /* Handle when a new output is added */\n",
              "    events.on('output_added.OutputArea', handleAddOutput);\n",
              "\n",
              "    /**\n",
              "     * Register the mime type and append_mime function with output_area\n",
              "     */\n",
              "    OutputArea.prototype.register_mime_type(EXEC_MIME_TYPE, append_mime, {\n",
              "      /* Is output safe? */\n",
              "      safe: true,\n",
              "      /* Index of renderer in `output_area.display_order` */\n",
              "      index: 0\n",
              "    });\n",
              "  }\n",
              "\n",
              "  // register the mime type if in Jupyter Notebook environment and previously unregistered\n",
              "  if (root.Jupyter !== undefined) {\n",
              "    var events = require('base/js/events');\n",
              "    var OutputArea = require('notebook/js/outputarea').OutputArea;\n",
              "\n",
              "    if (OutputArea.prototype.mime_types().indexOf(EXEC_MIME_TYPE) == -1) {\n",
              "      register_renderer(events, OutputArea);\n",
              "    }\n",
              "  }\n",
              "\n",
              "  \n",
              "  if (typeof (root._bokeh_timeout) === \"undefined\" || force === true) {\n",
              "    root._bokeh_timeout = Date.now() + 5000;\n",
              "    root._bokeh_failed_load = false;\n",
              "  }\n",
              "\n",
              "  var NB_LOAD_WARNING = {'data': {'text/html':\n",
              "     \"<div style='background-color: #fdd'>\\n\"+\n",
              "     \"<p>\\n\"+\n",
              "     \"BokehJS does not appear to have successfully loaded. If loading BokehJS from CDN, this \\n\"+\n",
              "     \"may be due to a slow or bad network connection. Possible fixes:\\n\"+\n",
              "     \"</p>\\n\"+\n",
              "     \"<ul>\\n\"+\n",
              "     \"<li>re-rerun `output_notebook()` to attempt to load from CDN again, or</li>\\n\"+\n",
              "     \"<li>use INLINE resources instead, as so:</li>\\n\"+\n",
              "     \"</ul>\\n\"+\n",
              "     \"<code>\\n\"+\n",
              "     \"from bokeh.resources import INLINE\\n\"+\n",
              "     \"output_notebook(resources=INLINE)\\n\"+\n",
              "     \"</code>\\n\"+\n",
              "     \"</div>\"}};\n",
              "\n",
              "  function display_loaded() {\n",
              "    var el = document.getElementById(\"57d23330-3935-49cd-bd90-8b53812122e4\");\n",
              "    if (el != null) {\n",
              "      el.textContent = \"BokehJS is loading...\";\n",
              "    }\n",
              "    if (root.Bokeh !== undefined) {\n",
              "      if (el != null) {\n",
              "        el.textContent = \"BokehJS \" + root.Bokeh.version + \" successfully loaded.\";\n",
              "      }\n",
              "    } else if (Date.now() < root._bokeh_timeout) {\n",
              "      setTimeout(display_loaded, 100)\n",
              "    }\n",
              "  }\n",
              "\n",
              "\n",
              "  function run_callbacks() {\n",
              "    try {\n",
              "      root._bokeh_onload_callbacks.forEach(function(callback) { callback() });\n",
              "    }\n",
              "    finally {\n",
              "      delete root._bokeh_onload_callbacks\n",
              "    }\n",
              "    console.info(\"Bokeh: all callbacks have finished\");\n",
              "  }\n",
              "\n",
              "  function load_libs(js_urls, callback) {\n",
              "    root._bokeh_onload_callbacks.push(callback);\n",
              "    if (root._bokeh_is_loading > 0) {\n",
              "      console.log(\"Bokeh: BokehJS is being loaded, scheduling callback at\", now());\n",
              "      return null;\n",
              "    }\n",
              "    if (js_urls == null || js_urls.length === 0) {\n",
              "      run_callbacks();\n",
              "      return null;\n",
              "    }\n",
              "    console.log(\"Bokeh: BokehJS not loaded, scheduling load and callback at\", now());\n",
              "    root._bokeh_is_loading = js_urls.length;\n",
              "    for (var i = 0; i < js_urls.length; i++) {\n",
              "      var url = js_urls[i];\n",
              "      var s = document.createElement('script');\n",
              "      s.src = url;\n",
              "      s.async = false;\n",
              "      s.onreadystatechange = s.onload = function() {\n",
              "        root._bokeh_is_loading--;\n",
              "        if (root._bokeh_is_loading === 0) {\n",
              "          console.log(\"Bokeh: all BokehJS libraries loaded\");\n",
              "          run_callbacks()\n",
              "        }\n",
              "      };\n",
              "      s.onerror = function() {\n",
              "        console.warn(\"failed to load library \" + url);\n",
              "      };\n",
              "      console.log(\"Bokeh: injecting script tag for BokehJS library: \", url);\n",
              "      document.getElementsByTagName(\"head\")[0].appendChild(s);\n",
              "    }\n",
              "  };var element = document.getElementById(\"57d23330-3935-49cd-bd90-8b53812122e4\");\n",
              "  if (element == null) {\n",
              "    console.log(\"Bokeh: ERROR: autoload.js configured with elementid '57d23330-3935-49cd-bd90-8b53812122e4' but no matching script tag was found. \")\n",
              "    return false;\n",
              "  }\n",
              "\n",
              "  var js_urls = [\"https://cdn.pydata.org/bokeh/release/bokeh-0.13.0.min.js\", \"https://cdn.pydata.org/bokeh/release/bokeh-widgets-0.13.0.min.js\", \"https://cdn.pydata.org/bokeh/release/bokeh-tables-0.13.0.min.js\", \"https://cdn.pydata.org/bokeh/release/bokeh-gl-0.13.0.min.js\"];\n",
              "\n",
              "  var inline_js = [\n",
              "    function(Bokeh) {\n",
              "      Bokeh.set_log_level(\"info\");\n",
              "    },\n",
              "    \n",
              "    function(Bokeh) {\n",
              "      \n",
              "    },\n",
              "    function(Bokeh) {\n",
              "      console.log(\"Bokeh: injecting CSS: https://cdn.pydata.org/bokeh/release/bokeh-0.13.0.min.css\");\n",
              "      Bokeh.embed.inject_css(\"https://cdn.pydata.org/bokeh/release/bokeh-0.13.0.min.css\");\n",
              "      console.log(\"Bokeh: injecting CSS: https://cdn.pydata.org/bokeh/release/bokeh-widgets-0.13.0.min.css\");\n",
              "      Bokeh.embed.inject_css(\"https://cdn.pydata.org/bokeh/release/bokeh-widgets-0.13.0.min.css\");\n",
              "      console.log(\"Bokeh: injecting CSS: https://cdn.pydata.org/bokeh/release/bokeh-tables-0.13.0.min.css\");\n",
              "      Bokeh.embed.inject_css(\"https://cdn.pydata.org/bokeh/release/bokeh-tables-0.13.0.min.css\");\n",
              "    }\n",
              "  ];\n",
              "\n",
              "  function run_inline_js() {\n",
              "    \n",
              "    if ((root.Bokeh !== undefined) || (force === true)) {\n",
              "      for (var i = 0; i < inline_js.length; i++) {\n",
              "        inline_js[i].call(root, root.Bokeh);\n",
              "      }if (force === true) {\n",
              "        display_loaded();\n",
              "      }} else if (Date.now() < root._bokeh_timeout) {\n",
              "      setTimeout(run_inline_js, 100);\n",
              "    } else if (!root._bokeh_failed_load) {\n",
              "      console.log(\"Bokeh: BokehJS failed to load within specified timeout.\");\n",
              "      root._bokeh_failed_load = true;\n",
              "    } else if (force !== true) {\n",
              "      var cell = $(document.getElementById(\"57d23330-3935-49cd-bd90-8b53812122e4\")).parents('.cell').data().cell;\n",
              "      cell.output_area.append_execute_result(NB_LOAD_WARNING)\n",
              "    }\n",
              "\n",
              "  }\n",
              "\n",
              "  if (root._bokeh_is_loading === 0) {\n",
              "    console.log(\"Bokeh: BokehJS loaded, going straight to plotting\");\n",
              "    run_inline_js();\n",
              "  } else {\n",
              "    load_libs(js_urls, function() {\n",
              "      console.log(\"Bokeh: BokehJS plotting callback run at\", now());\n",
              "      run_inline_js();\n",
              "    });\n",
              "  }\n",
              "}(window));"
            ],
            "application/vnd.bokehjs_load.v0+json": "\n(function(root) {\n  function now() {\n    return new Date();\n  }\n\n  var force = true;\n\n  if (typeof (root._bokeh_onload_callbacks) === \"undefined\" || force === true) {\n    root._bokeh_onload_callbacks = [];\n    root._bokeh_is_loading = undefined;\n  }\n\n  \n\n  \n  if (typeof (root._bokeh_timeout) === \"undefined\" || force === true) {\n    root._bokeh_timeout = Date.now() + 5000;\n    root._bokeh_failed_load = false;\n  }\n\n  var NB_LOAD_WARNING = {'data': {'text/html':\n     \"<div style='background-color: #fdd'>\\n\"+\n     \"<p>\\n\"+\n     \"BokehJS does not appear to have successfully loaded. If loading BokehJS from CDN, this \\n\"+\n     \"may be due to a slow or bad network connection. Possible fixes:\\n\"+\n     \"</p>\\n\"+\n     \"<ul>\\n\"+\n     \"<li>re-rerun `output_notebook()` to attempt to load from CDN again, or</li>\\n\"+\n     \"<li>use INLINE resources instead, as so:</li>\\n\"+\n     \"</ul>\\n\"+\n     \"<code>\\n\"+\n     \"from bokeh.resources import INLINE\\n\"+\n     \"output_notebook(resources=INLINE)\\n\"+\n     \"</code>\\n\"+\n     \"</div>\"}};\n\n  function display_loaded() {\n    var el = document.getElementById(\"57d23330-3935-49cd-bd90-8b53812122e4\");\n    if (el != null) {\n      el.textContent = \"BokehJS is loading...\";\n    }\n    if (root.Bokeh !== undefined) {\n      if (el != null) {\n        el.textContent = \"BokehJS \" + root.Bokeh.version + \" successfully loaded.\";\n      }\n    } else if (Date.now() < root._bokeh_timeout) {\n      setTimeout(display_loaded, 100)\n    }\n  }\n\n\n  function run_callbacks() {\n    try {\n      root._bokeh_onload_callbacks.forEach(function(callback) { callback() });\n    }\n    finally {\n      delete root._bokeh_onload_callbacks\n    }\n    console.info(\"Bokeh: all callbacks have finished\");\n  }\n\n  function load_libs(js_urls, callback) {\n    root._bokeh_onload_callbacks.push(callback);\n    if (root._bokeh_is_loading > 0) {\n      console.log(\"Bokeh: BokehJS is being loaded, scheduling callback at\", now());\n      return null;\n    }\n    if (js_urls == null || js_urls.length === 0) {\n      run_callbacks();\n      return null;\n    }\n    console.log(\"Bokeh: BokehJS not loaded, scheduling load and callback at\", now());\n    root._bokeh_is_loading = js_urls.length;\n    for (var i = 0; i < js_urls.length; i++) {\n      var url = js_urls[i];\n      var s = document.createElement('script');\n      s.src = url;\n      s.async = false;\n      s.onreadystatechange = s.onload = function() {\n        root._bokeh_is_loading--;\n        if (root._bokeh_is_loading === 0) {\n          console.log(\"Bokeh: all BokehJS libraries loaded\");\n          run_callbacks()\n        }\n      };\n      s.onerror = function() {\n        console.warn(\"failed to load library \" + url);\n      };\n      console.log(\"Bokeh: injecting script tag for BokehJS library: \", url);\n      document.getElementsByTagName(\"head\")[0].appendChild(s);\n    }\n  };var element = document.getElementById(\"57d23330-3935-49cd-bd90-8b53812122e4\");\n  if (element == null) {\n    console.log(\"Bokeh: ERROR: autoload.js configured with elementid '57d23330-3935-49cd-bd90-8b53812122e4' but no matching script tag was found. \")\n    return false;\n  }\n\n  var js_urls = [\"https://cdn.pydata.org/bokeh/release/bokeh-0.13.0.min.js\", \"https://cdn.pydata.org/bokeh/release/bokeh-widgets-0.13.0.min.js\", \"https://cdn.pydata.org/bokeh/release/bokeh-tables-0.13.0.min.js\", \"https://cdn.pydata.org/bokeh/release/bokeh-gl-0.13.0.min.js\"];\n\n  var inline_js = [\n    function(Bokeh) {\n      Bokeh.set_log_level(\"info\");\n    },\n    \n    function(Bokeh) {\n      \n    },\n    function(Bokeh) {\n      console.log(\"Bokeh: injecting CSS: https://cdn.pydata.org/bokeh/release/bokeh-0.13.0.min.css\");\n      Bokeh.embed.inject_css(\"https://cdn.pydata.org/bokeh/release/bokeh-0.13.0.min.css\");\n      console.log(\"Bokeh: injecting CSS: https://cdn.pydata.org/bokeh/release/bokeh-widgets-0.13.0.min.css\");\n      Bokeh.embed.inject_css(\"https://cdn.pydata.org/bokeh/release/bokeh-widgets-0.13.0.min.css\");\n      console.log(\"Bokeh: injecting CSS: https://cdn.pydata.org/bokeh/release/bokeh-tables-0.13.0.min.css\");\n      Bokeh.embed.inject_css(\"https://cdn.pydata.org/bokeh/release/bokeh-tables-0.13.0.min.css\");\n    }\n  ];\n\n  function run_inline_js() {\n    \n    if ((root.Bokeh !== undefined) || (force === true)) {\n      for (var i = 0; i < inline_js.length; i++) {\n        inline_js[i].call(root, root.Bokeh);\n      }if (force === true) {\n        display_loaded();\n      }} else if (Date.now() < root._bokeh_timeout) {\n      setTimeout(run_inline_js, 100);\n    } else if (!root._bokeh_failed_load) {\n      console.log(\"Bokeh: BokehJS failed to load within specified timeout.\");\n      root._bokeh_failed_load = true;\n    } else if (force !== true) {\n      var cell = $(document.getElementById(\"57d23330-3935-49cd-bd90-8b53812122e4\")).parents('.cell').data().cell;\n      cell.output_area.append_execute_result(NB_LOAD_WARNING)\n    }\n\n  }\n\n  if (root._bokeh_is_loading === 0) {\n    console.log(\"Bokeh: BokehJS loaded, going straight to plotting\");\n    run_inline_js();\n  } else {\n    load_libs(js_urls, function() {\n      console.log(\"Bokeh: BokehJS plotting callback run at\", now());\n      run_inline_js();\n    });\n  }\n}(window));"
          },
          "metadata": {
            "tags": []
          }
        },
        {
          "output_type": "display_data",
          "data": {
            "text/html": [
              "\n",
              "\n",
              "\n",
              "\n",
              "\n",
              "\n",
              "  <div class=\"bk-root\" id=\"8fc4edbf-d9b4-4b38-a662-f5208b31df9a\"></div>\n"
            ]
          },
          "metadata": {
            "tags": []
          }
        },
        {
          "output_type": "display_data",
          "data": {
            "application/javascript": [
              "(function(root) {\n",
              "  function embed_document(root) {\n",
              "    \n",
              "  var docs_json = {\"bb2d9e3f-b5f8-401a-99a2-da387b4fb7a6\":{\"roots\":{\"references\":[{\"attributes\":{},\"id\":\"aa082fa5-71be-4d88-b2fa-f8567f7a70d4\",\"type\":\"BasicTickFormatter\"},{\"attributes\":{\"active_drag\":\"auto\",\"active_inspect\":\"auto\",\"active_multi\":null,\"active_scroll\":\"auto\",\"active_tap\":\"auto\"},\"id\":\"0a00a45d-2599-4f99-b78f-57dead72b4d6\",\"type\":\"Toolbar\"},{\"attributes\":{\"ticks\":[0.5,1.5,2.5,3.5,4.5,5.5,6.5,7.5,8.5,9.5,10.5,11.5,12.5,13.5,14.5,15.5,16.5,17.5,18.5,19.5,20.5,21.5,22.5]},\"id\":\"c8e2c891-68f8-4f3a-9eee-ad1cfec57ef9\",\"type\":\"FixedTicker\"},{\"attributes\":{\"plot\":null,\"text\":\"\"},\"id\":\"d3d241d3-aaa5-4da7-ab36-d9d37f4e5eb3\",\"type\":\"Title\"},{\"attributes\":{\"above\":[{\"id\":\"d0de067c-4305-428e-bbe3-751ef46bdda8\",\"type\":\"LinearAxis\"}],\"left\":[{\"id\":\"ccb39b46-a2dc-4165-98c3-28a7473797d1\",\"type\":\"LinearAxis\"}],\"renderers\":[{\"id\":\"030bb434-5d4d-4412-abfc-0d99a92bdaf6\",\"type\":\"GlyphRenderer\"},{\"id\":\"d0de067c-4305-428e-bbe3-751ef46bdda8\",\"type\":\"LinearAxis\"},{\"id\":\"ccb39b46-a2dc-4165-98c3-28a7473797d1\",\"type\":\"LinearAxis\"}],\"title\":{\"id\":\"d3d241d3-aaa5-4da7-ab36-d9d37f4e5eb3\",\"type\":\"Title\"},\"toolbar\":{\"id\":\"0a00a45d-2599-4f99-b78f-57dead72b4d6\",\"type\":\"Toolbar\"},\"x_range\":{\"id\":\"6672e955-748f-40a1-ad29-c81867acf635\",\"type\":\"Range1d\"},\"x_scale\":{\"id\":\"ca579430-925e-44bf-85f1-fcd13839cf82\",\"type\":\"LinearScale\"},\"y_range\":{\"id\":\"e19c2f23-e58f-453e-872f-8c58f58bc47f\",\"type\":\"Range1d\"},\"y_scale\":{\"id\":\"5b4fb57d-aa26-4f3f-bfa7-06530ea07211\",\"type\":\"LinearScale\"}},\"id\":\"dca51812-81a9-49b4-9b35-f825ff03590f\",\"subtype\":\"Figure\",\"type\":\"Plot\"},{\"attributes\":{\"palette\":[\"#000000\",\"#252525\",\"#525252\",\"#737373\",\"#969696\",\"#bdbdbd\",\"#d9d9d9\",\"#f0f0f0\",\"#ffffff\"]},\"id\":\"f229e1ce-530a-40a5-ab72-b4683481eb0b\",\"type\":\"LinearColorMapper\"},{\"attributes\":{},\"id\":\"5b4fb57d-aa26-4f3f-bfa7-06530ea07211\",\"type\":\"LinearScale\"},{\"attributes\":{\"callback\":null,\"end\":23},\"id\":\"e19c2f23-e58f-453e-872f-8c58f58bc47f\",\"type\":\"Range1d\"},{\"attributes\":{},\"id\":\"ca579430-925e-44bf-85f1-fcd13839cf82\",\"type\":\"LinearScale\"},{\"attributes\":{\"palette\":[\"#000000\",\"#252525\",\"#525252\",\"#737373\",\"#969696\",\"#bdbdbd\",\"#d9d9d9\",\"#f0f0f0\",\"#ffffff\"]},\"id\":\"b120abd3-3394-44fe-8128-af9b8d252c41\",\"type\":\"LinearColorMapper\"},{\"attributes\":{\"axis_label\":\"translation tokens\",\"formatter\":{\"id\":\"aa082fa5-71be-4d88-b2fa-f8567f7a70d4\",\"type\":\"BasicTickFormatter\"},\"major_label_overrides\":{\"0.5\":\"_EOS_\",\"1.5\":\".\",\"10.5\":\".\",\"11.5\":\"1\",\"12.5\":\"of\",\"13.5\":\"split\",\"14.5\":\"a\",\"15.5\":\"in\",\"16.5\":\"are\",\"17.5\":\"apartments\",\"18.5\":\"centrum\",\"19.5\":\"s\",\"2.5\":\"opera\",\"20.5\":\"200\",\"21.5\":\"apartament\",\"22.5\":\"_BOS_\",\"3.5\":\"of\",\"4.5\":\"theatre\",\"5.5\":\"holy\",\"6.5\":\"the\",\"7.5\":\"from\",\"8.5\":\"km\",\"9.5\":\"1\"},\"plot\":{\"id\":\"dca51812-81a9-49b4-9b35-f825ff03590f\",\"subtype\":\"Figure\",\"type\":\"Plot\"},\"ticker\":{\"id\":\"c8e2c891-68f8-4f3a-9eee-ad1cfec57ef9\",\"type\":\"FixedTicker\"}},\"id\":\"ccb39b46-a2dc-4165-98c3-28a7473797d1\",\"type\":\"LinearAxis\"},{\"attributes\":{},\"id\":\"f3fed119-65fd-4c1c-b0c9-b2caa778d755\",\"type\":\"UnionRenderers\"},{\"attributes\":{},\"id\":\"3d197d52-3f38-47b6-a9bc-adea43e16c57\",\"type\":\"Selection\"},{\"attributes\":{\"color_mapper\":{\"id\":\"b120abd3-3394-44fe-8128-af9b8d252c41\",\"type\":\"LinearColorMapper\"},\"dh\":{\"units\":\"data\",\"value\":23},\"dw\":{\"units\":\"data\",\"value\":23},\"image\":{\"field\":\"image\"},\"x\":{\"value\":0},\"y\":{\"value\":0}},\"id\":\"0303bb4a-9ae5-4a24-91cb-07d139356478\",\"type\":\"Image\"},{\"attributes\":{\"source\":{\"id\":\"bf471fe6-40b1-4a32-871e-4c76ca3ceab5\",\"type\":\"ColumnDataSource\"}},\"id\":\"b10a6027-5be6-4c73-a5a9-cd253b7d45d4\",\"type\":\"CDSView\"},{\"attributes\":{\"callback\":null,\"data\":{\"image\":[{\"__ndarray__\":\"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\",\"dtype\":\"float32\",\"shape\":[23,23]}]},\"selected\":{\"id\":\"3d197d52-3f38-47b6-a9bc-adea43e16c57\",\"type\":\"Selection\"},\"selection_policy\":{\"id\":\"f3fed119-65fd-4c1c-b0c9-b2caa778d755\",\"type\":\"UnionRenderers\"}},\"id\":\"bf471fe6-40b1-4a32-871e-4c76ca3ceab5\",\"type\":\"ColumnDataSource\"},{\"attributes\":{\"data_source\":{\"id\":\"bf471fe6-40b1-4a32-871e-4c76ca3ceab5\",\"type\":\"ColumnDataSource\"},\"glyph\":{\"id\":\"873bc364-a2b2-4671-b21f-f5d95ad12961\",\"type\":\"Image\"},\"hover_glyph\":null,\"muted_glyph\":null,\"nonselection_glyph\":{\"id\":\"0303bb4a-9ae5-4a24-91cb-07d139356478\",\"type\":\"Image\"},\"selection_glyph\":null,\"view\":{\"id\":\"b10a6027-5be6-4c73-a5a9-cd253b7d45d4\",\"type\":\"CDSView\"}},\"id\":\"030bb434-5d4d-4412-abfc-0d99a92bdaf6\",\"type\":\"GlyphRenderer\"},{\"attributes\":{\"callback\":null,\"end\":23},\"id\":\"6672e955-748f-40a1-ad29-c81867acf635\",\"type\":\"Range1d\"},{\"attributes\":{\"ticks\":[0.5,1.5,2.5,3.5,4.5,5.5,6.5,7.5,8.5,9.5,10.5,11.5,12.5,13.5,14.5,15.5,16.5,17.5,18.5,19.5,20.5,21.5,22.5]},\"id\":\"5371349b-2ee0-4d2c-b5be-3ee1f032dd33\",\"type\":\"FixedTicker\"},{\"attributes\":{\"axis_label\":\"source tokens\",\"formatter\":{\"id\":\"21a42cd1-970c-4be8-83e6-54b7912edc6a\",\"type\":\"BasicTickFormatter\"},\"major_label_orientation\":45,\"major_label_overrides\":{\"0.5\":\"_BOS_\",\"1.5\":\"\\u0430\\u043f\\u0430\\u0440\\u0442\\u0430\\u043c\\u0435\\u043d\\u0442\\u044b\",\"10.5\":\"square\",\"11.5\":\"\\u043d\\u0430\\u0445\\u043e\\u0434\\u044f\\u0442\\u0441\\u044f\",\"12.5\":\"\\u0432\",\"13.5\":\"\\u043c\\u043e\\u0441\\u043a\\u0432\\u0435\",\"14.5\":\",\",\"15.5\":\"\\u0432\",\"16.5\":\"200\",\"17.5\":\"\\u043c\\u0435\\u0442\\u0440\\u0430\\u0445\",\"18.5\":\"\\u043e\\u0442\",\"19.5\":\"\\u0431\\u043e\\u043b\\u044c\\u0448\\u043e\\u0433\\u043e\",\"2.5\":\"mo@@\",\"20.5\":\"\\u0442\\u0435\\u0430\\u0442\\u0440\\u0430\",\"21.5\":\".\",\"22.5\":\"_EOS_\",\"3.5\":\"s@@\",\"4.5\":\"co@@\",\"5.5\":\"w\",\"6.5\":\"point\",\"7.5\":\"-\",\"8.5\":\"loft\",\"9.5\":\"red\"},\"plot\":{\"id\":\"dca51812-81a9-49b4-9b35-f825ff03590f\",\"subtype\":\"Figure\",\"type\":\"Plot\"},\"ticker\":{\"id\":\"5371349b-2ee0-4d2c-b5be-3ee1f032dd33\",\"type\":\"FixedTicker\"}},\"id\":\"d0de067c-4305-428e-bbe3-751ef46bdda8\",\"type\":\"LinearAxis\"},{\"attributes\":{},\"id\":\"21a42cd1-970c-4be8-83e6-54b7912edc6a\",\"type\":\"BasicTickFormatter\"},{\"attributes\":{\"color_mapper\":{\"id\":\"f229e1ce-530a-40a5-ab72-b4683481eb0b\",\"type\":\"LinearColorMapper\"},\"dh\":{\"units\":\"data\",\"value\":23},\"dw\":{\"units\":\"data\",\"value\":23},\"image\":{\"field\":\"image\"},\"x\":{\"value\":0},\"y\":{\"value\":0}},\"id\":\"873bc364-a2b2-4671-b21f-f5d95ad12961\",\"type\":\"Image\"}],\"root_ids\":[\"dca51812-81a9-49b4-9b35-f825ff03590f\"]},\"title\":\"Bokeh Application\",\"version\":\"0.13.0\"}};\n",
              "  var render_items = [{\"docid\":\"bb2d9e3f-b5f8-401a-99a2-da387b4fb7a6\",\"roots\":{\"dca51812-81a9-49b4-9b35-f825ff03590f\":\"8fc4edbf-d9b4-4b38-a662-f5208b31df9a\"}}];\n",
              "  root.Bokeh.embed.embed_items_notebook(docs_json, render_items);\n",
              "\n",
              "  }\n",
              "  if (root.Bokeh !== undefined) {\n",
              "    embed_document(root);\n",
              "  } else {\n",
              "    var attempts = 0;\n",
              "    var timer = setInterval(function(root) {\n",
              "      if (root.Bokeh !== undefined) {\n",
              "        embed_document(root);\n",
              "        clearInterval(timer);\n",
              "      }\n",
              "      attempts++;\n",
              "      if (attempts > 100) {\n",
              "        console.log(\"Bokeh: ERROR: Unable to run BokehJS code because BokehJS library is missing\")\n",
              "        clearInterval(timer);\n",
              "      }\n",
              "    }, 10, root)\n",
              "  }\n",
              "})(window);"
            ],
            "application/vnd.bokehjs_exec.v0+json": ""
          },
          "metadata": {
            "tags": [],
            "application/vnd.bokehjs_exec.v0+json": {
              "id": "dca51812-81a9-49b4-9b35-f825ff03590f"
            }
          }
        }
      ]
    },
    {
      "metadata": {
        "id": "dBDZrPoR4uVr",
        "colab_type": "text"
      },
      "cell_type": "markdown",
      "source": [
        "## Grand Finale (4+ points)\n",
        "\n",
        "We want you to find the best model for the task. Use everything you know.\n",
        "\n",
        "* different recurrent units: rnn/gru/lstm; deeper architectures\n",
        "* bidirectional encoder, different attention methods for decoder\n",
        "* word dropout, training schedules, anything you can imagine\n",
        "\n",
        "As usual, we want you to describe what you tried and what results you obtained."
      ]
    },
    {
      "metadata": {
        "collapsed": true,
        "id": "B5x98HZA4uVs",
        "colab_type": "text"
      },
      "cell_type": "markdown",
      "source": [
        "`[your report/log here or anywhere you please]`"
      ]
    },
    {
      "metadata": {
        "id": "Jw5aWxbK885Y",
        "colab_type": "code",
        "colab": {
          "base_uri": "https://localhost:8080/",
          "height": 34
        },
        "outputId": "b2c667c2-0742-41f2-bd04-7f018f5df146"
      },
      "cell_type": "code",
      "source": [
        "import keras\n",
        "print(keras.__version__)"
      ],
      "execution_count": 26,
      "outputs": [
        {
          "output_type": "stream",
          "text": [
            "2.1.6\n"
          ],
          "name": "stdout"
        }
      ]
    },
    {
      "metadata": {
        "id": "Ktn8BEPX2Kjd",
        "colab_type": "code",
        "colab": {}
      },
      "cell_type": "code",
      "source": [
        "class AttentiveModelEnhanced(BasicModel):\n",
        "    def __init__(self, name, inp_voc, out_voc,\n",
        "                 recurrent_layer=L.CuDNNGRU, enc_layers=1,\n",
        "                 emb_size=64, hid_size=128, attn_size=128):\n",
        "        \"\"\" Translation model that uses attention. See instructions above. \"\"\"\n",
        "        self.name = name\n",
        "        self.inp_voc = inp_voc\n",
        "        self.out_voc = out_voc\n",
        "\n",
        "        with tf.variable_scope(name):\n",
        "            \n",
        "            # YOUR CODE - define model layers\n",
        "            \n",
        "            self.emb_inp = L.Embedding(len(inp_voc), emb_size)\n",
        "            self.emb_out = L.Embedding(len(out_voc), emb_size)\n",
        "            self.encs = [recurrent_layer(hid_size, return_sequences=True, return_state=True) for _ in range(enc_layers)]\n",
        "\n",
        "            self.attention = AttentionLayer('attention', hid_size, hid_size, attn_size)\n",
        "            \n",
        "            self.dec_start = L.Dense(hid_size)\n",
        "            self.dec0 = recurrent_layer(hid_size, return_sequences=True, return_state=True)\n",
        "            self.logits = L.Dense(len(out_voc))\n",
        "            \n",
        "            # END OF YOUR CODE\n",
        "            \n",
        "            # prepare to translate_lines\n",
        "            self.inp = tf.placeholder('int32', [None, None])\n",
        "            self.initial_state = self.prev_state = self.encode(self.inp)\n",
        "            self.prev_tokens = tf.placeholder('int32', [None])\n",
        "            self.next_state, self.next_logits = self.decode(self.prev_state, self.prev_tokens)\n",
        "\n",
        "        self.weights = tf.get_collection(tf.GraphKeys.TRAINABLE_VARIABLES, scope=name)\n",
        "\n",
        "    def encode(self, inp, **flags):\n",
        "        \"\"\"\n",
        "        Takes symbolic input sequence, computes initial state\n",
        "        :param inp: matrix of input tokens [batch, time]\n",
        "        :return: a list of initial decoder state tensors\n",
        "        \"\"\"\n",
        "        \n",
        "        # encode input sequence, create initial decoder states\n",
        "        result = self.emb_inp(inp)\n",
        "        for enc in self.encs:\n",
        "            result = enc(result)\n",
        "        enc_states = result[0]\n",
        "        enc_last = result[1:]\n",
        "        dec_start = tf.concat(list(map(self.dec_start, enc_last)), axis=1)\n",
        "\n",
        "        # apply attention layer from initial decoder hidden state\n",
        "        inp_lengths = infer_length(inp, self.inp_voc.eos_ix)\n",
        "        mask = tf.sequence_mask(inp_lengths, dtype=tf.float32)\n",
        "        _, first_attn_probas = self.attention(enc_states, dec_start, mask)\n",
        " \n",
        "        \n",
        "        # Build first state: include\n",
        "        # * initial states for decoder recurrent layers\n",
        "        # * encoder sequence and encoder attn mask (for attention)\n",
        "        # * make sure that last state item is attention probabilities tensor\n",
        "        \n",
        "        first_state = [tuple(enc_last), enc_states, mask, first_attn_probas]\n",
        "        return first_state\n",
        "\n",
        "    def decode(self, prev_state, prev_tokens, **flags):\n",
        "        \"\"\"\n",
        "        Takes previous decoder state and tokens, returns new state and logits\n",
        "        :param prev_state: a list of previous decoder state tensors\n",
        "        :param prev_tokens: previous output tokens, an int vector of [batch_size]\n",
        "        :return: a list of next decoder state tensors, a tensor of logits [batch,n_tokens]\n",
        "        \"\"\"\n",
        "        \n",
        "        # Unpack your state: you will get tensors in the same order that you've packed in encode\n",
        "        [dec_prev_state, enc_states, mask, prev_attn_probas] = prev_state\n",
        "        \n",
        "        # Perform decoder step\n",
        "        # * predict next attn response and attn probas given previous decoder state\n",
        "        # * use prev token embedding and attn response to update decoder states (concatenate and feed into decoder cell)\n",
        "        # * predict logits\n",
        "        \n",
        "        dec_state = tf.concat(dec_prev_state, axis=1)\n",
        "        next_attn_response, next_attn_probas = self.attention(enc_states, dec_state, mask)\n",
        " \n",
        "        prev_emb = self.emb_out(prev_tokens)\n",
        "        concat_emb = tf.concat([next_attn_response, prev_emb], axis=-1)\n",
        "        result = self.dec0(concat_emb[:, None, :], dec_prev_state)\n",
        "        new_dec_out = result[0]\n",
        "        new_dec_state = result[1:]\n",
        "        output_logits = self.logits(new_dec_out)[:, 0, :]\n",
        "        \n",
        "        # Pack new state:\n",
        "        # * replace previous decoder state with next one\n",
        "        # * copy encoder sequence and mask from prev_state\n",
        "        # * append new attention probas\n",
        "        next_state = [tuple(new_dec_state), enc_states, mask, next_attn_probas]\n",
        "        return next_state, output_logits\n"
      ],
      "execution_count": 0,
      "outputs": []
    },
    {
      "metadata": {
        "id": "KVUrJkIY_okk",
        "colab_type": "code",
        "colab": {
          "base_uri": "https://localhost:8080/",
          "height": 314
        },
        "outputId": "6295a88e-054c-45a4-831f-c2778456ece6"
      },
      "cell_type": "code",
      "source": [
        "# WARNING! this cell will clear your TF graph from the regular model. All trained variables will be gone!\n",
        "tf.reset_default_graph()\n",
        "sess = tf.InteractiveSession()\n",
        "model = AttentiveModelEnhanced('model', inp_voc, out_voc, recurrent_layer=L.CuDNNGRU, enc_layers=1)\n",
        "\n",
        "inp = tf.placeholder('int32', [None, None])\n",
        "out = tf.placeholder('int32', [None, None])\n",
        "\n",
        "loss = compute_loss(model, inp, out)\n",
        "train_step = tf.train.AdamOptimizer().minimize(loss)\n",
        "\n",
        "metrics = {'train_loss': [], 'dev_bleu': []}\n",
        "sess.run(tf.global_variables_initializer())\n",
        "batch_size = 32\n",
        "\n",
        "for _ in trange(25000):\n",
        "    step = len(metrics['train_loss']) + 1\n",
        "    batch_ix = np.random.randint(len(train_inp), size=batch_size)\n",
        "    feed_dict = {\n",
        "        inp: inp_voc.to_matrix(train_inp[batch_ix]),\n",
        "        out: out_voc.to_matrix(train_out[batch_ix]),\n",
        "    }\n",
        "\n",
        "    loss_t, _ = sess.run([loss, train_step], feed_dict)\n",
        "    metrics['train_loss'].append((step, loss_t))\n",
        "\n",
        "    if step % 100 == 0:\n",
        "        metrics['dev_bleu'].append((step, compute_bleu(model, dev_inp, dev_out)))\n",
        "\n",
        "        clear_output(True)\n",
        "        plt.figure(figsize=(12,4))\n",
        "        for i, (name, history) in enumerate(sorted(metrics.items())):\n",
        "            plt.subplot(1, len(metrics), i + 1)\n",
        "            plt.title(name)\n",
        "            plt.plot(*zip(*history))\n",
        "            plt.grid()\n",
        "        plt.show()\n",
        "        print(\"Mean loss=%.3f\" % np.mean(metrics['train_loss'][-10:], axis=0)[1], flush=True)\n",
        "\n",
        "# Your model may train slower than the basic one. check that it's at least >30 bleu by 5k steps\n",
        "# Also: you don't have to train for 25k steps. It was chosen by a squirrel."
      ],
      "execution_count": 28,
      "outputs": [
        {
          "output_type": "display_data",
          "data": {
            "image/png": "[encoded data removed]",
            "text/plain": [
              "<matplotlib.figure.Figure at 0x7f6cec0bf9e8>"
            ]
          },
          "metadata": {
            "tags": []
          }
        },
        {
          "output_type": "stream",
          "text": [
            "Mean loss=1.540\n"
          ],
          "name": "stdout"
        },
        {
          "output_type": "stream",
          "text": [
            "\r100%|██████████| 25000/25000 [2:28:37<00:00,  2.94s/it]\n"
          ],
          "name": "stderr"
        }
      ]
    },
    {
      "metadata": {
        "id": "OC9MvJUWMZZb",
        "colab_type": "code",
        "colab": {
          "base_uri": "https://localhost:8080/",
          "height": 34
        },
        "outputId": "e6edcefd-b9b9-4412-aa74-28768f4dbeb6"
      },
      "cell_type": "code",
      "source": [
        "np.mean(metrics['dev_bleu'][-10:], axis=0)[1]"
      ],
      "execution_count": 29,
      "outputs": [
        {
          "output_type": "execute_result",
          "data": {
            "text/plain": [
              "54.56117077554662"
            ]
          },
          "metadata": {
            "tags": []
          },
          "execution_count": 29
        }
      ]
    },
    {
      "metadata": {
        "id": "ly56ldoYCvqb",
        "colab_type": "code",
        "colab": {
          "base_uri": "https://localhost:8080/",
          "height": 314
        },
        "outputId": "df7ba22f-5b10-4ecf-b682-17dbd987a259"
      },
      "cell_type": "code",
      "source": [
        "# WARNING! this cell will clear your TF graph from the regular model. All trained variables will be gone!\n",
        "tf.reset_default_graph()\n",
        "sess = tf.InteractiveSession()\n",
        "model = AttentiveModelEnhanced('model', inp_voc, out_voc, recurrent_layer=L.CuDNNLSTM, enc_layers=1)\n",
        "\n",
        "inp = tf.placeholder('int32', [None, None])\n",
        "out = tf.placeholder('int32', [None, None])\n",
        "\n",
        "loss = compute_loss(model, inp, out)\n",
        "train_step = tf.train.AdamOptimizer().minimize(loss)\n",
        "\n",
        "metrics = {'train_loss': [], 'dev_bleu': []}\n",
        "sess.run(tf.global_variables_initializer())\n",
        "batch_size = 32\n",
        "\n",
        "for _ in trange(25000):\n",
        "    step = len(metrics['train_loss']) + 1\n",
        "    batch_ix = np.random.randint(len(train_inp), size=batch_size)\n",
        "    feed_dict = {\n",
        "        inp: inp_voc.to_matrix(train_inp[batch_ix]),\n",
        "        out: out_voc.to_matrix(train_out[batch_ix]),\n",
        "    }\n",
        "\n",
        "    loss_t, _ = sess.run([loss, train_step], feed_dict)\n",
        "    metrics['train_loss'].append((step, loss_t))\n",
        "\n",
        "    if step % 100 == 0:\n",
        "        metrics['dev_bleu'].append((step, compute_bleu(model, dev_inp, dev_out)))\n",
        "\n",
        "        clear_output(True)\n",
        "        plt.figure(figsize=(12,4))\n",
        "        for i, (name, history) in enumerate(sorted(metrics.items())):\n",
        "            plt.subplot(1, len(metrics), i + 1)\n",
        "            plt.title(name)\n",
        "            plt.plot(*zip(*history))\n",
        "            plt.grid()\n",
        "        plt.show()\n",
        "        print(\"Mean loss=%.3f\" % np.mean(metrics['train_loss'][-10:], axis=0)[1], flush=True)\n",
        "\n",
        "# Your model may train slower than the basic one. check that it's at least >30 bleu by 5k steps\n",
        "# Also: you don't have to train for 25k steps. It was chosen by a squirrel."
      ],
      "execution_count": 30,
      "outputs": [
        {
          "output_type": "display_data",
          "data": {
            "image/png": "[encoded data removed]",
            "text/plain": [
              "<matplotlib.figure.Figure at 0x7f6ce91cbeb8>"
            ]
          },
          "metadata": {
            "tags": []
          }
        },
        {
          "output_type": "stream",
          "text": [
            "Mean loss=1.745\n"
          ],
          "name": "stdout"
        },
        {
          "output_type": "stream",
          "text": [
            "\r100%|██████████| 25000/25000 [2:32:23<00:00,  3.05s/it]\n"
          ],
          "name": "stderr"
        }
      ]
    },
    {
      "metadata": {
        "id": "PKIMxfFIMiCA",
        "colab_type": "code",
        "colab": {
          "base_uri": "https://localhost:8080/",
          "height": 34
        },
        "outputId": "e1c8cca5-00e6-4b5f-9ab6-1fe5f54fdcb4"
      },
      "cell_type": "code",
      "source": [
        "np.mean(metrics['dev_bleu'][-10:], axis=0)[1]"
      ],
      "execution_count": 31,
      "outputs": [
        {
          "output_type": "execute_result",
          "data": {
            "text/plain": [
              "52.503262910656886"
            ]
          },
          "metadata": {
            "tags": []
          },
          "execution_count": 31
        }
      ]
    },
    {
      "metadata": {
        "id": "oSSm9HmT_qCv",
        "colab_type": "code",
        "colab": {
          "base_uri": "https://localhost:8080/",
          "height": 314
        },
        "outputId": "43eaada4-e03e-468c-f8c6-99c2b308fa5e"
      },
      "cell_type": "code",
      "source": [
        "# WARNING! this cell will clear your TF graph from the regular model. All trained variables will be gone!\n",
        "tf.reset_default_graph()\n",
        "sess = tf.InteractiveSession()\n",
        "model = AttentiveModelEnhanced('model', inp_voc, out_voc, recurrent_layer=L.CuDNNGRU, enc_layers=3)\n",
        "\n",
        "inp = tf.placeholder('int32', [None, None])\n",
        "out = tf.placeholder('int32', [None, None])\n",
        "\n",
        "loss = compute_loss(model, inp, out)\n",
        "train_step = tf.train.AdamOptimizer().minimize(loss)\n",
        "\n",
        "metrics = {'train_loss': [], 'dev_bleu': []}\n",
        "sess.run(tf.global_variables_initializer())\n",
        "batch_size = 32\n",
        "\n",
        "for _ in trange(25000):\n",
        "    step = len(metrics['train_loss']) + 1\n",
        "    batch_ix = np.random.randint(len(train_inp), size=batch_size)\n",
        "    feed_dict = {\n",
        "        inp: inp_voc.to_matrix(train_inp[batch_ix]),\n",
        "        out: out_voc.to_matrix(train_out[batch_ix]),\n",
        "    }\n",
        "\n",
        "    loss_t, _ = sess.run([loss, train_step], feed_dict)\n",
        "    metrics['train_loss'].append((step, loss_t))\n",
        "\n",
        "    if step % 100 == 0:\n",
        "        metrics['dev_bleu'].append((step, compute_bleu(model, dev_inp, dev_out)))\n",
        "\n",
        "        clear_output(True)\n",
        "        plt.figure(figsize=(12,4))\n",
        "        for i, (name, history) in enumerate(sorted(metrics.items())):\n",
        "            plt.subplot(1, len(metrics), i + 1)\n",
        "            plt.title(name)\n",
        "            plt.plot(*zip(*history))\n",
        "            plt.grid()\n",
        "        plt.show()\n",
        "        print(\"Mean loss=%.3f\" % np.mean(metrics['train_loss'][-10:], axis=0)[1], flush=True)\n",
        "\n",
        "# Your model may train slower than the basic one. check that it's at least >30 bleu by 5k steps\n",
        "# Also: you don't have to train for 25k steps. It was chosen by a squirrel."
      ],
      "execution_count": 32,
      "outputs": [
        {
          "output_type": "display_data",
          "data": {
            "image/png": "[encoded data removed]",
            "text/plain": [
              "<matplotlib.figure.Figure at 0x7f6ce98539b0>"
            ]
          },
          "metadata": {
            "tags": []
          }
        },
        {
          "output_type": "stream",
          "text": [
            "Mean loss=1.713\n"
          ],
          "name": "stdout"
        },
        {
          "output_type": "stream",
          "text": [
            "\r100%|██████████| 25000/25000 [2:35:27<00:00,  3.11s/it]\n"
          ],
          "name": "stderr"
        }
      ]
    },
    {
      "metadata": {
        "id": "N_HXaRbJMjRu",
        "colab_type": "code",
        "colab": {
          "base_uri": "https://localhost:8080/",
          "height": 34
        },
        "outputId": "a6bb3b6a-b165-4036-a656-b0efec1334a1"
      },
      "cell_type": "code",
      "source": [
        "np.mean(metrics['dev_bleu'][-10:], axis=0)[1]"
      ],
      "execution_count": 33,
      "outputs": [
        {
          "output_type": "execute_result",
          "data": {
            "text/plain": [
              "51.15543829665687"
            ]
          },
          "metadata": {
            "tags": []
          },
          "execution_count": 33
        }
      ]
    },
    {
      "metadata": {
        "id": "ScPJMrVOL3XJ",
        "colab_type": "code",
        "colab": {
          "base_uri": "https://localhost:8080/",
          "height": 314
        },
        "outputId": "b9f5d54e-27a5-48ac-d9ed-eae1dd47c1d5"
      },
      "cell_type": "code",
      "source": [
        "# WARNING! this cell will clear your TF graph from the regular model. All trained variables will be gone!\n",
        "tf.reset_default_graph()\n",
        "sess = tf.InteractiveSession()\n",
        "model = AttentiveModelEnhanced('model', inp_voc, out_voc, recurrent_layer=L.CuDNNLSTM, enc_layers=3)\n",
        "\n",
        "inp = tf.placeholder('int32', [None, None])\n",
        "out = tf.placeholder('int32', [None, None])\n",
        "\n",
        "loss = compute_loss(model, inp, out)\n",
        "train_step = tf.train.AdamOptimizer().minimize(loss)\n",
        "\n",
        "metrics = {'train_loss': [], 'dev_bleu': []}\n",
        "sess.run(tf.global_variables_initializer())\n",
        "batch_size = 32\n",
        "\n",
        "for _ in trange(25000):\n",
        "    step = len(metrics['train_loss']) + 1\n",
        "    batch_ix = np.random.randint(len(train_inp), size=batch_size)\n",
        "    feed_dict = {\n",
        "        inp: inp_voc.to_matrix(train_inp[batch_ix]),\n",
        "        out: out_voc.to_matrix(train_out[batch_ix]),\n",
        "    }\n",
        "\n",
        "    loss_t, _ = sess.run([loss, train_step], feed_dict)\n",
        "    metrics['train_loss'].append((step, loss_t))\n",
        "\n",
        "    if step % 100 == 0:\n",
        "        metrics['dev_bleu'].append((step, compute_bleu(model, dev_inp, dev_out)))\n",
        "\n",
        "        clear_output(True)\n",
        "        plt.figure(figsize=(12,4))\n",
        "        for i, (name, history) in enumerate(sorted(metrics.items())):\n",
        "            plt.subplot(1, len(metrics), i + 1)\n",
        "            plt.title(name)\n",
        "            plt.plot(*zip(*history))\n",
        "            plt.grid()\n",
        "        plt.show()\n",
        "        print(\"Mean loss=%.3f\" % np.mean(metrics['train_loss'][-10:], axis=0)[1], flush=True)\n",
        "\n",
        "# Your model may train slower than the basic one. check that it's at least >30 bleu by 5k steps\n",
        "# Also: you don't have to train for 25k steps. It was chosen by a squirrel."
      ],
      "execution_count": 34,
      "outputs": [
        {
          "output_type": "display_data",
          "data": {
            "image/png": "[encoded data removed]",
            "text/plain": [
              "<matplotlib.figure.Figure at 0x7f6ceb64d8d0>"
            ]
          },
          "metadata": {
            "tags": []
          }
        },
        {
          "output_type": "stream",
          "text": [
            "Mean loss=1.880\n"
          ],
          "name": "stdout"
        },
        {
          "output_type": "stream",
          "text": [
            "\r100%|██████████| 25000/25000 [2:42:39<00:00,  3.09s/it]\n"
          ],
          "name": "stderr"
        }
      ]
    },
    {
      "metadata": {
        "id": "P2X7USyLMj_v",
        "colab_type": "code",
        "colab": {
          "base_uri": "https://localhost:8080/",
          "height": 34
        },
        "outputId": "185de2af-dfa1-44a5-8254-3191d0c84213"
      },
      "cell_type": "code",
      "source": [
        "np.mean(metrics['dev_bleu'][-10:], axis=0)[1]"
      ],
      "execution_count": 35,
      "outputs": [
        {
          "output_type": "execute_result",
          "data": {
            "text/plain": [
              "48.052962466068244"
            ]
          },
          "metadata": {
            "tags": []
          },
          "execution_count": 35
        }
      ]
    },
    {
      "metadata": {
        "id": "FdDPrqfUMnpr",
        "colab_type": "code",
        "colab": {}
      },
      "cell_type": "code",
      "source": [
        "from tensorflow.contrib.cudnn_rnn import CudnnGRU, CudnnLSTM\n",
        "from tensorflow.contrib.cudnn_rnn.python.ops.cudnn_rnn_ops import CUDNN_RNN_UNIDIRECTION, CUDNN_RNN_BIDIRECTION\n",
        "\n",
        "class AttentiveModelEnhanced2(BasicModel):\n",
        "    def __init__(self, name, inp_voc, out_voc,\n",
        "                 enc_layer=CudnnGRU, enc_layers=1, enc_dropout=0, enc_direction=CUDNN_RNN_UNIDIRECTION,\n",
        "                 dec_layer=L.CuDNNGRU, emb_size=64, hid_size=128, attn_size=128):\n",
        "        \"\"\" Translation model that uses attention. See instructions above. \"\"\"\n",
        "        self.name = name\n",
        "        self.inp_voc = inp_voc\n",
        "        self.out_voc = out_voc\n",
        "\n",
        "        with tf.variable_scope(name):\n",
        "            \n",
        "            # YOUR CODE - define model layers\n",
        "            \n",
        "            self.emb_inp = L.Embedding(len(inp_voc), emb_size)\n",
        "            self.emb_out = L.Embedding(len(out_voc), emb_size)\n",
        "            self.enc0 = enc_layer(enc_layers, hid_size, direction=enc_direction, dropout=enc_dropout)\n",
        "\n",
        "            self.attention = AttentionLayer('attention', hid_size, hid_size, attn_size)\n",
        "            \n",
        "            self.dec_start = L.Dense(hid_size)\n",
        "            self.dec0 = dec_layer(hid_size, return_sequences=True, return_state=True)\n",
        "            self.logits = L.Dense(len(out_voc))\n",
        "            \n",
        "            # END OF YOUR CODE\n",
        "            \n",
        "            # prepare to translate_lines\n",
        "            self.inp = tf.placeholder('int32', [None, None])\n",
        "            self.initial_state = self.prev_state = self.encode(self.inp)\n",
        "            self.prev_tokens = tf.placeholder('int32', [None])\n",
        "            self.next_state, self.next_logits = self.decode(self.prev_state, self.prev_tokens)\n",
        "\n",
        "        self.weights = tf.get_collection(tf.GraphKeys.TRAINABLE_VARIABLES, scope=name)\n",
        "\n",
        "    def encode(self, inp, **flags):\n",
        "        \"\"\"\n",
        "        Takes symbolic input sequence, computes initial state\n",
        "        :param inp: matrix of input tokens [batch, time]\n",
        "        :return: a list of initial decoder state tensors\n",
        "        \"\"\"\n",
        "        \n",
        "        # encode input sequence, create initial decoder states\n",
        "        emb = self.emb_inp(inp)\n",
        "        transposed_emb = tf.transpose(emb, [1, 0, 2])\n",
        "        enc_states, enc_last = self.enc0(transposed_emb)\n",
        "        enc_states_transposed = tf.transpose(enc_states, [1, 0, 2])\n",
        "        dec_start = tuple(map(lambda x: self.dec_start(tf.reshape(tf.transpose(x, [1, 0, 2]), (-1, x.shape[0]*x.shape[2]))), enc_last))\n",
        "        dec_start_concat = tf.concat(dec_start, axis=1)\n",
        "\n",
        "        # apply attention layer from initial decoder hidden state\n",
        "        inp_lengths = infer_length(inp, self.inp_voc.eos_ix)\n",
        "        mask = tf.sequence_mask(inp_lengths, dtype=tf.float32)\n",
        "        _, first_attn_probas = self.attention(enc_states_transposed, dec_start_concat, mask)\n",
        " \n",
        "        \n",
        "        # Build first state: include\n",
        "        # * initial states for decoder recurrent layers\n",
        "        # * encoder sequence and encoder attn mask (for attention)\n",
        "        # * make sure that last state item is attention probabilities tensor\n",
        "         \n",
        "        first_state = [dec_start, enc_states_transposed, mask, first_attn_probas]\n",
        "        return first_state\n",
        "\n",
        "    def decode(self, prev_state, prev_tokens, **flags):\n",
        "        \"\"\"\n",
        "        Takes previous decoder state and tokens, returns new state and logits\n",
        "        :param prev_state: a list of previous decoder state tensors\n",
        "        :param prev_tokens: previous output tokens, an int vector of [batch_size]\n",
        "        :return: a list of next decoder state tensors, a tensor of logits [batch,n_tokens]\n",
        "        \"\"\"\n",
        "        \n",
        "        # Unpack your state: you will get tensors in the same order that you've packed in encode\n",
        "        [dec_prev_state, enc_states, mask, prev_attn_probas] = prev_state\n",
        "\n",
        "        # Perform decoder step\n",
        "        # * predict next attn response and attn probas given previous decoder state\n",
        "        # * use prev token embedding and attn response to update decoder states (concatenate and feed into decoder cell)\n",
        "        # * predict logits\n",
        "        \n",
        "        dec_state = tf.concat(dec_prev_state, axis=1)\n",
        "        next_attn_response, next_attn_probas = self.attention(enc_states, dec_state, mask)\n",
        " \n",
        "        prev_emb = self.emb_out(prev_tokens)\n",
        "        concat_emb = tf.concat([next_attn_response, prev_emb], axis=-1)\n",
        "        result = self.dec0(concat_emb[:, None, :], dec_prev_state)\n",
        "        new_dec_out = result[0]\n",
        "        new_dec_state = tuple(result[1:])\n",
        "        output_logits = self.logits(new_dec_out)[:, 0, :]\n",
        "        \n",
        "        # Pack new state:\n",
        "        # * replace previous decoder state with next one\n",
        "        # * copy encoder sequence and mask from prev_state\n",
        "        # * append new attention probas\n",
        "        next_state = [new_dec_state, enc_states, mask, next_attn_probas]\n",
        "        return next_state, output_logits"
      ],
      "execution_count": 0,
      "outputs": []
    },
    {
      "metadata": {
        "id": "gYULtzAzOWX3",
        "colab_type": "code",
        "colab": {
          "base_uri": "https://localhost:8080/",
          "height": 314
        },
        "outputId": "f7599cbb-cd14-47fa-c2bf-51a840a67e61"
      },
      "cell_type": "code",
      "source": [
        "# WARNING! this cell will clear your TF graph from the regular model. All trained variables will be gone!\n",
        "tf.reset_default_graph()\n",
        "sess = tf.InteractiveSession()\n",
        "model = AttentiveModelEnhanced2('model', inp_voc, out_voc, enc_direction=CUDNN_RNN_BIDIRECTION)\n",
        "\n",
        "inp = tf.placeholder('int32', [None, None])\n",
        "out = tf.placeholder('int32', [None, None])\n",
        "\n",
        "loss = compute_loss(model, inp, out)\n",
        "train_step = tf.train.AdamOptimizer().minimize(loss)\n",
        "\n",
        "metrics = {'train_loss': [], 'dev_bleu': []}\n",
        "sess.run(tf.global_variables_initializer())\n",
        "batch_size = 32\n",
        "\n",
        "for _ in trange(25000):\n",
        "    step = len(metrics['train_loss']) + 1\n",
        "    batch_ix = np.random.randint(len(train_inp), size=batch_size)\n",
        "    feed_dict = {\n",
        "        inp: inp_voc.to_matrix(train_inp[batch_ix]),\n",
        "        out: out_voc.to_matrix(train_out[batch_ix]),\n",
        "    }\n",
        "\n",
        "    loss_t, _ = sess.run([loss, train_step], feed_dict)\n",
        "    metrics['train_loss'].append((step, loss_t))\n",
        "\n",
        "    if step % 100 == 0:\n",
        "        metrics['dev_bleu'].append((step, compute_bleu(model, dev_inp, dev_out)))\n",
        "\n",
        "        clear_output(True)\n",
        "        plt.figure(figsize=(12,4))\n",
        "        for i, (name, history) in enumerate(sorted(metrics.items())):\n",
        "            plt.subplot(1, len(metrics), i + 1)\n",
        "            plt.title(name)\n",
        "            plt.plot(*zip(*history))\n",
        "            plt.grid()\n",
        "        plt.show()\n",
        "        print(\"Mean loss=%.3f\" % np.mean(metrics['train_loss'][-10:], axis=0)[1], flush=True)\n",
        "\n",
        "# Your model may train slower than the basic one. check that it's at least >30 bleu by 5k steps\n",
        "# Also: you don't have to train for 25k steps. It was chosen by a squirrel."
      ],
      "execution_count": 32,
      "outputs": [
        {
          "output_type": "display_data",
          "data": {
            "image/png": "[encoded data removed]",
            "text/plain": [
              "<matplotlib.figure.Figure at 0x7ff52a27bc88>"
            ]
          },
          "metadata": {
            "tags": []
          }
        },
        {
          "output_type": "stream",
          "text": [
            "Mean loss=1.108\n"
          ],
          "name": "stdout"
        },
        {
          "output_type": "stream",
          "text": [
            "\r100%|██████████| 25000/25000 [2:22:23<00:00,  3.66s/it]\n"
          ],
          "name": "stderr"
        }
      ]
    },
    {
      "metadata": {
        "id": "v3ZQEvpTlI-r",
        "colab_type": "code",
        "colab": {
          "base_uri": "https://localhost:8080/",
          "height": 34
        },
        "outputId": "f93d710a-7baa-4dda-d7e8-13bfa416576f"
      },
      "cell_type": "code",
      "source": [
        "np.mean(metrics['dev_bleu'][-10:], axis=0)[1]"
      ],
      "execution_count": 33,
      "outputs": [
        {
          "output_type": "execute_result",
          "data": {
            "text/plain": [
              "56.7122537638888"
            ]
          },
          "metadata": {
            "tags": []
          },
          "execution_count": 33
        }
      ]
    },
    {
      "metadata": {
        "id": "W4dSL40Cj8OW",
        "colab_type": "code",
        "colab": {
          "base_uri": "https://localhost:8080/",
          "height": 314
        },
        "outputId": "02624da4-be5a-4686-a057-42357e1c5917"
      },
      "cell_type": "code",
      "source": [
        "# WARNING! this cell will clear your TF graph from the regular model. All trained variables will be gone!\n",
        "tf.reset_default_graph()\n",
        "sess = tf.InteractiveSession()\n",
        "model = AttentiveModelEnhanced2('model', inp_voc, out_voc, enc_layer=CudnnLSTM, dec_layer=L.CuDNNLSTM, enc_direction=CUDNN_RNN_BIDIRECTION)\n",
        "\n",
        "inp = tf.placeholder('int32', [None, None])\n",
        "out = tf.placeholder('int32', [None, None])\n",
        "\n",
        "loss = compute_loss(model, inp, out)\n",
        "train_step = tf.train.AdamOptimizer().minimize(loss)\n",
        "\n",
        "metrics = {'train_loss': [], 'dev_bleu': []}\n",
        "sess.run(tf.global_variables_initializer())\n",
        "batch_size = 32\n",
        "\n",
        "for _ in trange(25000):\n",
        "    step = len(metrics['train_loss']) + 1\n",
        "    batch_ix = np.random.randint(len(train_inp), size=batch_size)\n",
        "    feed_dict = {\n",
        "        inp: inp_voc.to_matrix(train_inp[batch_ix]),\n",
        "        out: out_voc.to_matrix(train_out[batch_ix]),\n",
        "    }\n",
        "\n",
        "    loss_t, _ = sess.run([loss, train_step], feed_dict)\n",
        "    metrics['train_loss'].append((step, loss_t))\n",
        "\n",
        "    if step % 100 == 0:\n",
        "        metrics['dev_bleu'].append((step, compute_bleu(model, dev_inp, dev_out)))\n",
        "\n",
        "        clear_output(True)\n",
        "        plt.figure(figsize=(12,4))\n",
        "        for i, (name, history) in enumerate(sorted(metrics.items())):\n",
        "            plt.subplot(1, len(metrics), i + 1)\n",
        "            plt.title(name)\n",
        "            plt.plot(*zip(*history))\n",
        "            plt.grid()\n",
        "        plt.show()\n",
        "        print(\"Mean loss=%.3f\" % np.mean(metrics['train_loss'][-10:], axis=0)[1], flush=True)\n",
        "\n",
        "# Your model may train slower than the basic one. check that it's at least >30 bleu by 5k steps\n",
        "# Also: you don't have to train for 25k steps. It was chosen by a squirrel."
      ],
      "execution_count": 34,
      "outputs": [
        {
          "output_type": "display_data",
          "data": {
            "image/png": "[encoded data removed]",
            "text/plain": [
              "<matplotlib.figure.Figure at 0x7ff52cb31c18>"
            ]
          },
          "metadata": {
            "tags": []
          }
        },
        {
          "output_type": "stream",
          "text": [
            "Mean loss=1.784\n"
          ],
          "name": "stdout"
        },
        {
          "output_type": "stream",
          "text": [
            "\r100%|██████████| 25000/25000 [2:29:55<00:00,  3.88s/it]\n"
          ],
          "name": "stderr"
        }
      ]
    },
    {
      "metadata": {
        "id": "9qdYSuzmlKC5",
        "colab_type": "code",
        "colab": {
          "base_uri": "https://localhost:8080/",
          "height": 34
        },
        "outputId": "62028f2a-064e-4516-9e89-04623361a9ee"
      },
      "cell_type": "code",
      "source": [
        "np.mean(metrics['dev_bleu'][-10:], axis=0)[1]"
      ],
      "execution_count": 35,
      "outputs": [
        {
          "output_type": "execute_result",
          "data": {
            "text/plain": [
              "50.15332464033701"
            ]
          },
          "metadata": {
            "tags": []
          },
          "execution_count": 35
        }
      ]
    },
    {
      "metadata": {
        "id": "MiAY0kWQPwsm",
        "colab_type": "code",
        "colab": {
          "base_uri": "https://localhost:8080/",
          "height": 314
        },
        "outputId": "d9b04621-40bf-42b2-bde9-6aca37dba57c"
      },
      "cell_type": "code",
      "source": [
        "# WARNING! this cell will clear your TF graph from the regular model. All trained variables will be gone!\n",
        "tf.reset_default_graph()\n",
        "sess = tf.InteractiveSession()\n",
        "model = AttentiveModelEnhanced2('model', inp_voc, out_voc, enc_layers=3, enc_direction=CUDNN_RNN_BIDIRECTION)\n",
        "\n",
        "inp = tf.placeholder('int32', [None, None])\n",
        "out = tf.placeholder('int32', [None, None])\n",
        "\n",
        "loss = compute_loss(model, inp, out)\n",
        "train_step = tf.train.AdamOptimizer().minimize(loss)\n",
        "\n",
        "metrics = {'train_loss': [], 'dev_bleu': []}\n",
        "sess.run(tf.global_variables_initializer())\n",
        "batch_size = 32\n",
        "\n",
        "for _ in trange(25000):\n",
        "    step = len(metrics['train_loss']) + 1\n",
        "    batch_ix = np.random.randint(len(train_inp), size=batch_size)\n",
        "    feed_dict = {\n",
        "        inp: inp_voc.to_matrix(train_inp[batch_ix]),\n",
        "        out: out_voc.to_matrix(train_out[batch_ix]),\n",
        "    }\n",
        "\n",
        "    loss_t, _ = sess.run([loss, train_step], feed_dict)\n",
        "    metrics['train_loss'].append((step, loss_t))\n",
        "\n",
        "    if step % 100 == 0:\n",
        "        metrics['dev_bleu'].append((step, compute_bleu(model, dev_inp, dev_out)))\n",
        "\n",
        "        clear_output(True)\n",
        "        plt.figure(figsize=(12,4))\n",
        "        for i, (name, history) in enumerate(sorted(metrics.items())):\n",
        "            plt.subplot(1, len(metrics), i + 1)\n",
        "            plt.title(name)\n",
        "            plt.plot(*zip(*history))\n",
        "            plt.grid()\n",
        "        plt.show()\n",
        "        print(\"Mean loss=%.3f\" % np.mean(metrics['train_loss'][-10:], axis=0)[1], flush=True)\n",
        "\n",
        "# Your model may train slower than the basic one. check that it's at least >30 bleu by 5k steps\n",
        "# Also: you don't have to train for 25k steps. It was chosen by a squirrel."
      ],
      "execution_count": 29,
      "outputs": [
        {
          "output_type": "display_data",
          "data": {
            "image/png": "[encoded data removed]",
            "text/plain": [
              "<matplotlib.figure.Figure at 0x7f7c5b5389e8>"
            ]
          },
          "metadata": {
            "tags": []
          }
        },
        {
          "output_type": "stream",
          "text": [
            "Mean loss=1.486\n"
          ],
          "name": "stdout"
        },
        {
          "output_type": "stream",
          "text": [
            "\r100%|██████████| 25000/25000 [2:44:36<00:00,  3.60s/it]\n"
          ],
          "name": "stderr"
        }
      ]
    },
    {
      "metadata": {
        "id": "43KJF64XlK6d",
        "colab_type": "code",
        "colab": {
          "base_uri": "https://localhost:8080/",
          "height": 34
        },
        "outputId": "5ebea58b-588b-42ec-83ae-ea070752b6e2"
      },
      "cell_type": "code",
      "source": [
        "np.mean(metrics['dev_bleu'][-10:], axis=0)[1]"
      ],
      "execution_count": 30,
      "outputs": [
        {
          "output_type": "execute_result",
          "data": {
            "text/plain": [
              "47.95953413997798"
            ]
          },
          "metadata": {
            "tags": []
          },
          "execution_count": 30
        }
      ]
    },
    {
      "metadata": {
        "id": "hjgK20qmkd6w",
        "colab_type": "code",
        "colab": {
          "base_uri": "https://localhost:8080/",
          "height": 314
        },
        "outputId": "85504ea8-7f02-4aa3-d3c3-f43752a63d4d"
      },
      "cell_type": "code",
      "source": [
        "# WARNING! this cell will clear your TF graph from the regular model. All trained variables will be gone!\n",
        "tf.reset_default_graph()\n",
        "sess = tf.InteractiveSession()\n",
        "model = AttentiveModelEnhanced2('model', inp_voc, out_voc, enc_layer=CudnnLSTM, enc_layers=3, dec_layer=L.CuDNNLSTM, enc_direction=CUDNN_RNN_BIDIRECTION)\n",
        "\n",
        "inp = tf.placeholder('int32', [None, None])\n",
        "out = tf.placeholder('int32', [None, None])\n",
        "\n",
        "loss = compute_loss(model, inp, out)\n",
        "train_step = tf.train.AdamOptimizer().minimize(loss)\n",
        "\n",
        "metrics = {'train_loss': [], 'dev_bleu': []}\n",
        "sess.run(tf.global_variables_initializer())\n",
        "batch_size = 32\n",
        "\n",
        "for _ in trange(25000):\n",
        "    step = len(metrics['train_loss']) + 1\n",
        "    batch_ix = np.random.randint(len(train_inp), size=batch_size)\n",
        "    feed_dict = {\n",
        "        inp: inp_voc.to_matrix(train_inp[batch_ix]),\n",
        "        out: out_voc.to_matrix(train_out[batch_ix]),\n",
        "    }\n",
        "\n",
        "    loss_t, _ = sess.run([loss, train_step], feed_dict)\n",
        "    metrics['train_loss'].append((step, loss_t))\n",
        "\n",
        "    if step % 100 == 0:\n",
        "        metrics['dev_bleu'].append((step, compute_bleu(model, dev_inp, dev_out)))\n",
        "\n",
        "        clear_output(True)\n",
        "        plt.figure(figsize=(12,4))\n",
        "        for i, (name, history) in enumerate(sorted(metrics.items())):\n",
        "            plt.subplot(1, len(metrics), i + 1)\n",
        "            plt.title(name)\n",
        "            plt.plot(*zip(*history))\n",
        "            plt.grid()\n",
        "        plt.show()\n",
        "        print(\"Mean loss=%.3f\" % np.mean(metrics['train_loss'][-10:], axis=0)[1], flush=True)\n",
        "\n",
        "# Your model may train slower than the basic one. check that it's at least >30 bleu by 5k steps\n",
        "# Also: you don't have to train for 25k steps. It was chosen by a squirrel."
      ],
      "execution_count": 31,
      "outputs": [
        {
          "output_type": "display_data",
          "data": {
            "image/png": "[encoded data removed]",
            "text/plain": [
              "<matplotlib.figure.Figure at 0x7f7c5b543f98>"
            ]
          },
          "metadata": {
            "tags": []
          }
        },
        {
          "output_type": "stream",
          "text": [
            "Mean loss=1.997\n"
          ],
          "name": "stdout"
        },
        {
          "output_type": "stream",
          "text": [
            "\r100%|██████████| 25000/25000 [2:45:24<00:00,  3.52s/it]\n"
          ],
          "name": "stderr"
        }
      ]
    },
    {
      "metadata": {
        "id": "hvp9AXtylLq3",
        "colab_type": "code",
        "colab": {
          "base_uri": "https://localhost:8080/",
          "height": 34
        },
        "outputId": "a1110003-08e0-4641-e4fc-e5ccd3919b75"
      },
      "cell_type": "code",
      "source": [
        "np.mean(metrics['dev_bleu'][-10:], axis=0)[1]"
      ],
      "execution_count": 32,
      "outputs": [
        {
          "output_type": "execute_result",
          "data": {
            "text/plain": [
              "46.59779244266267"
            ]
          },
          "metadata": {
            "tags": []
          },
          "execution_count": 32
        }
      ]
    },
    {
      "metadata": {
        "id": "DR5Q8HWak1CL",
        "colab_type": "code",
        "colab": {
          "base_uri": "https://localhost:8080/",
          "height": 314
        },
        "outputId": "4faf4baf-862d-49f0-f24f-e9c337ab36e6"
      },
      "cell_type": "code",
      "source": [
        "# WARNING! this cell will clear your TF graph from the regular model. All trained variables will be gone!\n",
        "tf.reset_default_graph()\n",
        "sess = tf.InteractiveSession()\n",
        "model = AttentiveModelEnhanced2('model', inp_voc, out_voc, emb_size=128, hid_size=256, attn_size=256)\n",
        "\n",
        "inp = tf.placeholder('int32', [None, None])\n",
        "out = tf.placeholder('int32', [None, None])\n",
        "\n",
        "loss = compute_loss(model, inp, out)\n",
        "train_step = tf.train.AdamOptimizer().minimize(loss)\n",
        "\n",
        "metrics = {'train_loss': [], 'dev_bleu': []}\n",
        "sess.run(tf.global_variables_initializer())\n",
        "batch_size = 32\n",
        "\n",
        "for _ in trange(25000):\n",
        "    step = len(metrics['train_loss']) + 1\n",
        "    batch_ix = np.random.randint(len(train_inp), size=batch_size)\n",
        "    feed_dict = {\n",
        "        inp: inp_voc.to_matrix(train_inp[batch_ix]),\n",
        "        out: out_voc.to_matrix(train_out[batch_ix]),\n",
        "    }\n",
        "\n",
        "    loss_t, _ = sess.run([loss, train_step], feed_dict)\n",
        "    metrics['train_loss'].append((step, loss_t))\n",
        "\n",
        "    if step % 100 == 0:\n",
        "        metrics['dev_bleu'].append((step, compute_bleu(model, dev_inp, dev_out)))\n",
        "\n",
        "        clear_output(True)\n",
        "        plt.figure(figsize=(12,4))\n",
        "        for i, (name, history) in enumerate(sorted(metrics.items())):\n",
        "            plt.subplot(1, len(metrics), i + 1)\n",
        "            plt.title(name)\n",
        "            plt.plot(*zip(*history))\n",
        "            plt.grid()\n",
        "        plt.show()\n",
        "        print(\"Mean loss=%.3f\" % np.mean(metrics['train_loss'][-10:], axis=0)[1], flush=True)\n",
        "\n",
        "# Your model may train slower than the basic one. check that it's at least >30 bleu by 5k steps\n",
        "# Also: you don't have to train for 25k steps. It was chosen by a squirrel."
      ],
      "execution_count": 30,
      "outputs": [
        {
          "output_type": "display_data",
          "data": {
            "image/png": "[encoded data removed]",
            "text/plain": [
              "<matplotlib.figure.Figure at 0x7f9e9a0acd68>"
            ]
          },
          "metadata": {
            "tags": []
          }
        },
        {
          "output_type": "stream",
          "text": [
            "Mean loss=0.756\n"
          ],
          "name": "stdout"
        },
        {
          "output_type": "stream",
          "text": [
            "\r100%|██████████| 25000/25000 [2:33:11<00:00,  3.99s/it]\n"
          ],
          "name": "stderr"
        }
      ]
    },
    {
      "metadata": {
        "id": "x9aYws-4lMnR",
        "colab_type": "code",
        "colab": {
          "base_uri": "https://localhost:8080/",
          "height": 34
        },
        "outputId": "05d28aaf-3a31-435c-b77a-64dcb878d9d7"
      },
      "cell_type": "code",
      "source": [
        "np.mean(metrics['dev_bleu'][-10:], axis=0)[1]"
      ],
      "execution_count": 31,
      "outputs": [
        {
          "output_type": "execute_result",
          "data": {
            "text/plain": [
              "56.56142809595635"
            ]
          },
          "metadata": {
            "tags": []
          },
          "execution_count": 31
        }
      ]
    },
    {
      "metadata": {
        "id": "vLQZ4Dy3lZUf",
        "colab_type": "code",
        "colab": {
          "base_uri": "https://localhost:8080/",
          "height": 314
        },
        "outputId": "0c7513fe-b11d-4596-97f1-60f841adf573"
      },
      "cell_type": "code",
      "source": [
        "# WARNING! this cell will clear your TF graph from the regular model. All trained variables will be gone!\n",
        "tf.reset_default_graph()\n",
        "sess = tf.InteractiveSession()\n",
        "model = AttentiveModelEnhanced2('model', inp_voc, out_voc, emb_size=128, hid_size=256, attn_size=256, enc_direction=CUDNN_RNN_BIDIRECTION)\n",
        "\n",
        "inp = tf.placeholder('int32', [None, None])\n",
        "out = tf.placeholder('int32', [None, None])\n",
        "\n",
        "loss = compute_loss(model, inp, out)\n",
        "train_step = tf.train.AdamOptimizer().minimize(loss)\n",
        "\n",
        "metrics = {'train_loss': [], 'dev_bleu': []}\n",
        "sess.run(tf.global_variables_initializer())\n",
        "batch_size = 32\n",
        "\n",
        "for _ in trange(25000):\n",
        "    step = len(metrics['train_loss']) + 1\n",
        "    batch_ix = np.random.randint(len(train_inp), size=batch_size)\n",
        "    feed_dict = {\n",
        "        inp: inp_voc.to_matrix(train_inp[batch_ix]),\n",
        "        out: out_voc.to_matrix(train_out[batch_ix]),\n",
        "    }\n",
        "\n",
        "    loss_t, _ = sess.run([loss, train_step], feed_dict)\n",
        "    metrics['train_loss'].append((step, loss_t))\n",
        "\n",
        "    if step % 100 == 0:\n",
        "        metrics['dev_bleu'].append((step, compute_bleu(model, dev_inp, dev_out)))\n",
        "\n",
        "        clear_output(True)\n",
        "        plt.figure(figsize=(12,4))\n",
        "        for i, (name, history) in enumerate(sorted(metrics.items())):\n",
        "            plt.subplot(1, len(metrics), i + 1)\n",
        "            plt.title(name)\n",
        "            plt.plot(*zip(*history))\n",
        "            plt.grid()\n",
        "        plt.show()\n",
        "        print(\"Mean loss=%.3f\" % np.mean(metrics['train_loss'][-10:], axis=0)[1], flush=True)\n",
        "\n",
        "# Your model may train slower than the basic one. check that it's at least >30 bleu by 5k steps\n",
        "# Also: you don't have to train for 25k steps. It was chosen by a squirrel."
      ],
      "execution_count": 29,
      "outputs": [
        {
          "output_type": "display_data",
          "data": {
            "image/png": "[encoded data removed]",
            "text/plain": [
              "<matplotlib.figure.Figure at 0x7f72cd5f9a90>"
            ]
          },
          "metadata": {
            "tags": []
          }
        },
        {
          "output_type": "stream",
          "text": [
            "Mean loss=0.615\n"
          ],
          "name": "stdout"
        },
        {
          "output_type": "stream",
          "text": [
            "\r100%|██████████| 25000/25000 [3:09:15<00:00,  5.53s/it]\n"
          ],
          "name": "stderr"
        }
      ]
    },
    {
      "metadata": {
        "id": "ddi1EaWO1Udh",
        "colab_type": "code",
        "colab": {
          "base_uri": "https://localhost:8080/",
          "height": 34
        },
        "outputId": "e55e96a8-22b5-4cdb-8c16-81f0ea74f0d2"
      },
      "cell_type": "code",
      "source": [
        "np.mean(metrics['dev_bleu'][-10:], axis=0)[1]"
      ],
      "execution_count": 30,
      "outputs": [
        {
          "output_type": "execute_result",
          "data": {
            "text/plain": [
              "57.32669142641221"
            ]
          },
          "metadata": {
            "tags": []
          },
          "execution_count": 30
        }
      ]
    },
    {
      "metadata": {
        "id": "2TQheCwa3Dbk",
        "colab_type": "code",
        "colab": {
          "base_uri": "https://localhost:8080/",
          "height": 390
        },
        "outputId": "92f18971-4c2a-4f78-dbd8-000c84b43d0d"
      },
      "cell_type": "code",
      "source": [
        "import pandas as pd\n",
        "\n",
        "data = {\n",
        "    'baseline': 47.067509955402066,\n",
        "    '1 layer GRU with attention': 54.56117077554662,\n",
        "    '1 layer LSTM with attention': 52.503262910656886,\n",
        "    '3 layer GRU with attention': 51.15543829665687,\n",
        "    '3 layer LSTM with attention': 48.052962466068244,\n",
        "    '1 layer bidirectional GRU with attention': 56.7122537638888,\n",
        "    '1 layer bidirectional LSTM with attention': 50.15332464033701,\n",
        "    '3 layer bidirectional GRU with attention': 47.95953413997798,\n",
        "    '3 layer bidirectional LSTM with attention': 46.59779244266267,\n",
        "    '1 layer GRU with doubled emb_size, hid_size, attn_size': 56.56142809595635,\n",
        "    '1 layer bidirectional GRU with doubled sizes': 57.32669142641221\n",
        "}\n",
        "\n",
        "titles, values = zip(*sorted(data.items(), key=lambda x: x[1]))\n",
        "\n",
        "pd.DataFrame.from_dict({'title': titles, 'BLEU': values})"
      ],
      "execution_count": 2,
      "outputs": [
        {
          "output_type": "execute_result",
          "data": {
            "text/html": [
              "<div>\n",
              "<style scoped>\n",
              "    .dataframe tbody tr th:only-of-type {\n",
              "        vertical-align: middle;\n",
              "    }\n",
              "\n",
              "    .dataframe tbody tr th {\n",
              "        vertical-align: top;\n",
              "    }\n",
              "\n",
              "    .dataframe thead th {\n",
              "        text-align: right;\n",
              "    }\n",
              "</style>\n",
              "<table border=\"1\" class=\"dataframe\">\n",
              "  <thead>\n",
              "    <tr style=\"text-align: right;\">\n",
              "      <th></th>\n",
              "      <th>BLEU</th>\n",
              "      <th>title</th>\n",
              "    </tr>\n",
              "  </thead>\n",
              "  <tbody>\n",
              "    <tr>\n",
              "      <th>0</th>\n",
              "      <td>46.597792</td>\n",
              "      <td>3 layer bidirectional LSTM with attention</td>\n",
              "    </tr>\n",
              "    <tr>\n",
              "      <th>1</th>\n",
              "      <td>47.067510</td>\n",
              "      <td>baseline</td>\n",
              "    </tr>\n",
              "    <tr>\n",
              "      <th>2</th>\n",
              "      <td>47.959534</td>\n",
              "      <td>3 layer bidirectional GRU with attention</td>\n",
              "    </tr>\n",
              "    <tr>\n",
              "      <th>3</th>\n",
              "      <td>48.052962</td>\n",
              "      <td>3 layer LSTM with attention</td>\n",
              "    </tr>\n",
              "    <tr>\n",
              "      <th>4</th>\n",
              "      <td>50.153325</td>\n",
              "      <td>1 layer bidirectional LSTM with attention</td>\n",
              "    </tr>\n",
              "    <tr>\n",
              "      <th>5</th>\n",
              "      <td>51.155438</td>\n",
              "      <td>3 layer GRU with attention</td>\n",
              "    </tr>\n",
              "    <tr>\n",
              "      <th>6</th>\n",
              "      <td>52.503263</td>\n",
              "      <td>1 layer LSTM with attention</td>\n",
              "    </tr>\n",
              "    <tr>\n",
              "      <th>7</th>\n",
              "      <td>54.561171</td>\n",
              "      <td>1 layer GRU with attention</td>\n",
              "    </tr>\n",
              "    <tr>\n",
              "      <th>8</th>\n",
              "      <td>56.561428</td>\n",
              "      <td>1 layer GRU with doubled emb_size, hid_size, a...</td>\n",
              "    </tr>\n",
              "    <tr>\n",
              "      <th>9</th>\n",
              "      <td>56.712254</td>\n",
              "      <td>1 layer bidirectional GRU with attention</td>\n",
              "    </tr>\n",
              "    <tr>\n",
              "      <th>10</th>\n",
              "      <td>57.326691</td>\n",
              "      <td>1 layer bidirectional GRU with doubled sizes</td>\n",
              "    </tr>\n",
              "  </tbody>\n",
              "</table>\n",
              "</div>"
            ],
            "text/plain": [
              "         BLEU                                              title\n",
              "0   46.597792          3 layer bidirectional LSTM with attention\n",
              "1   47.067510                                           baseline\n",
              "2   47.959534           3 layer bidirectional GRU with attention\n",
              "3   48.052962                        3 layer LSTM with attention\n",
              "4   50.153325          1 layer bidirectional LSTM with attention\n",
              "5   51.155438                         3 layer GRU with attention\n",
              "6   52.503263                        1 layer LSTM with attention\n",
              "7   54.561171                         1 layer GRU with attention\n",
              "8   56.561428  1 layer GRU with doubled emb_size, hid_size, a...\n",
              "9   56.712254           1 layer bidirectional GRU with attention\n",
              "10  57.326691       1 layer bidirectional GRU with doubled sizes"
            ]
          },
          "metadata": {
            "tags": []
          },
          "execution_count": 2
        }
      ]
    },
    {
      "metadata": {
        "id": "rvnlIuMa4w-4",
        "colab_type": "text"
      },
      "cell_type": "markdown",
      "source": [
        "* Попробовал разные рекурентные модели (GRU, LSTM), видно, что везде GRU ведет себя лучше LSTM (возможно это связано с тем, что у LSTM больше параметров и на нашем небольшом датасете не получилось нормально ее обучить)\n",
        "* Попробовал bidirectional модели, в большинстве случаев они ведут себя хуже unidirectional аналогов, что может быть также связано с б*о*льшим количеством параметров, однако модель с bidirectional 1 layer GRU показала лучший результат, чем обычная 1 layer GRU (`1 layer bidirectional GRU with attention` в таблице)\n",
        "* Попробовал добавить рекурентных слоев (для GRU и LSTM Bidirectional и Unidirectional) обучил аналогичную модель с тремя рекурентными слоями, для всех моделей результат ухудшился\n",
        "* Также попробовал обучить GRU, удвоив размер эмбеддинга, размер скрытого слоя и размер аттеншона, результат улучшился по сравнению с моделью 1 layer GRU (`1 layer GRU with doubled emb_size, hid_size, a...` в таблице)\n",
        "* Попробовал скомбинировать предыдущие модели, которые хорошо сработали (увеличение размера слоя и bidirectional модель), получил дальшейшее увеличение качества (`1 layer bidirectional GRU with doubled sizes` в таблице)"
      ]
    },
    {
      "metadata": {
        "id": "IB7AjGDF3pIi",
        "colab_type": "code",
        "colab": {}
      },
      "cell_type": "code",
      "source": [
        ""
      ],
      "execution_count": 0,
      "outputs": []
    }
  ]
}