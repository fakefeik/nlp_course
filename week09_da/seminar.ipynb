{
  "nbformat": 4,
  "nbformat_minor": 0,
  "metadata": {
    "colab": {
      "name": "seminar.ipynb",
      "version": "0.3.2",
      "provenance": [],
      "collapsed_sections": []
    },
    "kernelspec": {
      "display_name": "Python 3",
      "language": "python",
      "name": "python3"
    },
    "accelerator": "GPU"
  },
  "cells": [
    {
      "metadata": {
        "colab_type": "text",
        "id": "PGGgklSE_-mj"
      },
      "cell_type": "markdown",
      "source": [
        "## Domain adaptation (5 pts total)\n",
        "\n",
        "In this seminar you will adapt a pre-trained machine translation model for the hotel review translation task you solved a few weeks ago. \n",
        "\n",
        "This time it comes with a few complications:\n",
        "* Harder task: __en -> ru__ instead of __ru -> en__\n",
        "* You are given a model pre-trained on WMT. Visit [statmt.org](http://statmt.org/) for more details.\n",
        "* The baseline model already includes attention and some hacks\n",
        "\n",
        "With luck and skills on your side, you will adapt it to improve hotel translation quality."
      ]
    },
    {
      "metadata": {
        "colab_type": "code",
        "id": "eCuU4oID_-mm",
        "outputId": "4b99d1f2-d520-45bd-e248-36e6365f81c4",
        "colab": {
          "base_uri": "https://localhost:8080/",
          "height": 955
        }
      },
      "cell_type": "code",
      "source": [
        "!pip3 install subword-nmt &> log\n",
        "!wget https://github.com/yandexdataschool/nlp_course/raw/master/week09_da/data.tar.gz\n",
        "!wget https://raw.githubusercontent.com/yandexdataschool/nlp_course/master/week09_da/utils.py\n",
        "!tar -xvzf data.tar.gz\n",
        "!mv data/* .\n",
        "!wget https://www.dropbox.com/s/xm73pjug7eq1rff/model-pretrained.npz?dl=1 -O model-pretrained.npz"
      ],
      "execution_count": 1,
      "outputs": [
        {
          "output_type": "stream",
          "text": [
            "--2018-12-02 11:47:15--  https://github.com/yandexdataschool/nlp_course/raw/master/week09_da/data.tar.gz\n",
            "Resolving github.com (github.com)... 192.30.253.112, 192.30.253.113\n",
            "Connecting to github.com (github.com)|192.30.253.112|:443... connected.\n",
            "HTTP request sent, awaiting response... 302 Found\n",
            "Location: https://raw.githubusercontent.com/yandexdataschool/nlp_course/master/week09_da/data.tar.gz [following]\n",
            "--2018-12-02 11:47:15--  https://raw.githubusercontent.com/yandexdataschool/nlp_course/master/week09_da/data.tar.gz\n",
            "Resolving raw.githubusercontent.com (raw.githubusercontent.com)... 151.101.0.133, 151.101.64.133, 151.101.128.133, ...\n",
            "Connecting to raw.githubusercontent.com (raw.githubusercontent.com)|151.101.0.133|:443... connected.\n",
            "HTTP request sent, awaiting response... 200 OK\n",
            "Length: 3242995 (3.1M) [application/octet-stream]\n",
            "Saving to: ‘data.tar.gz.2’\n",
            "\n",
            "\rdata.tar.gz.2         0%[                    ]       0  --.-KB/s               \rdata.tar.gz.2       100%[===================>]   3.09M  --.-KB/s    in 0.04s   \n",
            "\n",
            "2018-12-02 11:47:15 (69.0 MB/s) - ‘data.tar.gz.2’ saved [3242995/3242995]\n",
            "\n",
            "--2018-12-02 11:47:18--  https://raw.githubusercontent.com/yandexdataschool/nlp_course/master/week09_da/utils.py\n",
            "Resolving raw.githubusercontent.com (raw.githubusercontent.com)... 151.101.0.133, 151.101.64.133, 151.101.128.133, ...\n",
            "Connecting to raw.githubusercontent.com (raw.githubusercontent.com)|151.101.0.133|:443... connected.\n",
            "HTTP request sent, awaiting response... 200 OK\n",
            "Length: 15430 (15K) [text/plain]\n",
            "Saving to: ‘utils.py.2’\n",
            "\n",
            "utils.py.2          100%[===================>]  15.07K  --.-KB/s    in 0.005s  \n",
            "\n",
            "2018-12-02 11:47:18 (2.78 MB/s) - ‘utils.py.2’ saved [15430/15430]\n",
            "\n",
            "data/\n",
            "data/tokens.ru\n",
            "data/train.domain.ru\n",
            "data/tokens.en\n",
            "data/bpe_rules.en\n",
            "data/train.domain.en\n",
            "data/bpe_rules.ru\n",
            "--2018-12-02 11:47:26--  https://www.dropbox.com/s/xm73pjug7eq1rff/model-pretrained.npz?dl=1\n",
            "Resolving www.dropbox.com (www.dropbox.com)... 162.125.65.1, 2620:100:6021:1::a27d:4101\n",
            "Connecting to www.dropbox.com (www.dropbox.com)|162.125.65.1|:443... connected.\n",
            "HTTP request sent, awaiting response... 301 Moved Permanently\n",
            "Location: /s/dl/xm73pjug7eq1rff/model-pretrained.npz [following]\n",
            "--2018-12-02 11:47:27--  https://www.dropbox.com/s/dl/xm73pjug7eq1rff/model-pretrained.npz\n",
            "Reusing existing connection to www.dropbox.com:443.\n",
            "HTTP request sent, awaiting response... 302 Found\n",
            "Location: https://uca98e93d0c031ae3d086792c69b.dl.dropboxusercontent.com/cd/0/get/AWvesdrnBNxQEGYIbFDM-08jvQk5z5k9dXSOVVZgp5jn0tiMVqwivaXHxbA9q0LAwEa3uYUBJQl3r1sMlxA_pe3FXiN8Hzxnb9gFuHJO3kS_MK38rJLlHynsu7IUu-CQAdr_wDOTgBIMO02YBOMbnf5uPQDnjxLIm1Sht9OgyKaf5IB7Fg-u9ZpAS08thGxYQSw/file?dl=1 [following]\n",
            "--2018-12-02 11:47:27--  https://uca98e93d0c031ae3d086792c69b.dl.dropboxusercontent.com/cd/0/get/AWvesdrnBNxQEGYIbFDM-08jvQk5z5k9dXSOVVZgp5jn0tiMVqwivaXHxbA9q0LAwEa3uYUBJQl3r1sMlxA_pe3FXiN8Hzxnb9gFuHJO3kS_MK38rJLlHynsu7IUu-CQAdr_wDOTgBIMO02YBOMbnf5uPQDnjxLIm1Sht9OgyKaf5IB7Fg-u9ZpAS08thGxYQSw/file?dl=1\n",
            "Resolving uca98e93d0c031ae3d086792c69b.dl.dropboxusercontent.com (uca98e93d0c031ae3d086792c69b.dl.dropboxusercontent.com)... 162.125.65.6, 2620:100:6021:6::a27d:4106\n",
            "Connecting to uca98e93d0c031ae3d086792c69b.dl.dropboxusercontent.com (uca98e93d0c031ae3d086792c69b.dl.dropboxusercontent.com)|162.125.65.6|:443... connected.\n",
            "HTTP request sent, awaiting response... 200 OK\n",
            "Length: 145546138 (139M) [application/binary]\n",
            "Saving to: ‘model-pretrained.npz’\n",
            "\n",
            "model-pretrained.np 100%[===================>] 138.80M  37.8MB/s    in 4.1s    \n",
            "\n",
            "2018-12-02 11:47:32 (34.2 MB/s) - ‘model-pretrained.npz’ saved [145546138/145546138]\n",
            "\n"
          ],
          "name": "stdout"
        }
      ]
    },
    {
      "metadata": {
        "colab_type": "text",
        "id": "-HJOpjCs_-mt"
      },
      "cell_type": "markdown",
      "source": [
        "### Data preprocessing\n",
        "\n",
        "We provide you with a pre-trained model that uses Byte Pair Encodings [(bpe)](https://github.com/rsennrich/subword-nmt) to segment rare words into sub-word units. \n",
        "\n",
        "It is important that we fine-tune our model using the same set of BPE rules."
      ]
    },
    {
      "metadata": {
        "colab_type": "code",
        "id": "TNo0TfsJ_-mu",
        "colab": {}
      },
      "cell_type": "code",
      "source": [
        "import numpy as np\n",
        "from nltk.tokenize import WordPunctTokenizer\n",
        "from subword_nmt.apply_bpe import BPE\n",
        "tokenizer = WordPunctTokenizer()\n",
        "def tokenize(x):\n",
        "    return ' '.join(tokenizer.tokenize(x.lower()))\n",
        "\n",
        "bpe = {}\n",
        "for lang in ['en', 'ru']:\n",
        "    bpe[lang] = BPE(open('./bpe_rules.' + lang, encoding='utf8'))"
      ],
      "execution_count": 0,
      "outputs": []
    },
    {
      "metadata": {
        "colab_type": "code",
        "id": "kWBy1Za4_-mx",
        "outputId": "5d8a1deb-c212-474c-e404-bbea942fbeb2",
        "colab": {
          "base_uri": "https://localhost:8080/",
          "height": 34
        }
      },
      "cell_type": "code",
      "source": [
        "print(bpe['ru'].process_line(tokenize(\"Скажи: какого цвета глаза у ветра?\")))"
      ],
      "execution_count": 3,
      "outputs": [
        {
          "output_type": "stream",
          "text": [
            "ска@@ жи : какого цвета глаза у вет@@ ра ?\n"
          ],
          "name": "stdout"
        }
      ]
    },
    {
      "metadata": {
        "colab_type": "code",
        "id": "dUU8HWlV_-m1",
        "outputId": "a3ae13da-9adb-4095-ccd3-61e32c0744c7",
        "colab": {
          "base_uri": "https://localhost:8080/",
          "height": 85
        }
      },
      "cell_type": "code",
      "source": [
        "data_inp_raw = list(open('./train.domain.en', encoding='utf8'))\n",
        "data_out_raw = list(open('./train.domain.ru', encoding='utf8'))\n",
        "\n",
        "print(data_inp_raw[0])\n",
        "print(data_out_raw[0])"
      ],
      "execution_count": 4,
      "outputs": [
        {
          "output_type": "stream",
          "text": [
            "cordelia hotel is situated in tbilisi , a 3 - minute walk away from saint trinity church .\n",
            "\n",
            "отель cordelia расположен в тбилиси , в 3 минутах ходьбы от свято - троицкого собора .\n",
            "\n"
          ],
          "name": "stdout"
        }
      ]
    },
    {
      "metadata": {
        "colab_type": "code",
        "id": "ZUCGknuV_-m4",
        "colab": {}
      },
      "cell_type": "code",
      "source": [
        "# convert lines into space-separated tokenized bpe units\n",
        "data_inp = list(map(lambda x: bpe['en'].process_line(tokenize(x)), data_inp_raw))\n",
        "data_out = list(map(lambda x: bpe['ru'].process_line(tokenize(x)), data_out_raw))"
      ],
      "execution_count": 0,
      "outputs": []
    },
    {
      "metadata": {
        "colab_type": "code",
        "id": "QoQh-a2k_-m7",
        "colab": {}
      },
      "cell_type": "code",
      "source": [
        "assert data_inp[0] == 'cor@@ del@@ ia hotel is situated in t@@ bil@@ isi , a 3 - minute walk away from saint tr@@ inity church .'\n",
        "assert data_out[500] == 'некоторые номера также располага@@ ют бал@@ ко@@ ном или тер@@ ра@@ со@@ й .'"
      ],
      "execution_count": 0,
      "outputs": []
    },
    {
      "metadata": {
        "colab_type": "code",
        "id": "We5wJ_a9_-m-",
        "colab": {}
      },
      "cell_type": "code",
      "source": [
        "from sklearn.model_selection import train_test_split\n",
        "data_inp, data_out = map(np.array, [data_inp, data_out])\n",
        "train_inp, dev_inp, train_out, dev_out = train_test_split(data_inp, data_out, test_size=3000,\n",
        "                                                          random_state=42)"
      ],
      "execution_count": 0,
      "outputs": []
    },
    {
      "metadata": {
        "colab_type": "text",
        "id": "bTj09mo8_-nC"
      },
      "cell_type": "markdown",
      "source": [
        "### Model\n",
        "\n",
        "For this assignment, you are given a pre-trained neural machine translation model:\n",
        "* bidirectional LSTM encoder\n",
        "* single LSTM decoder with additive attention\n",
        "\n",
        "It was trained till convergence on the general dataset of news, websites and literature.\n"
      ]
    },
    {
      "metadata": {
        "colab_type": "code",
        "id": "Or9JH5Gc_-nD",
        "outputId": "9dd38078-0858-4589-ac66-e05940445687",
        "colab": {
          "base_uri": "https://localhost:8080/",
          "height": 34
        }
      },
      "cell_type": "code",
      "source": [
        "import numpy as np\n",
        "import tensorflow as tf\n",
        "import utils\n",
        "tf.reset_default_graph()\n",
        "sess = tf.InteractiveSession()\n",
        "\n",
        "inp_voc = utils.Vocab(open('tokens.en', encoding='utf8').read().split('\\n'))\n",
        "out_voc = utils.Vocab(open('tokens.ru', encoding='utf8').read().split('\\n'))\n",
        "\n",
        "model = utils.Model('mod', inp_voc, out_voc)\n",
        "utils.load(tf.trainable_variables(), 'model-pretrained.npz')"
      ],
      "execution_count": 8,
      "outputs": [
        {
          "output_type": "stream",
          "text": [
            "Using TensorFlow backend.\n"
          ],
          "name": "stderr"
        }
      ]
    },
    {
      "metadata": {
        "colab_type": "code",
        "id": "8wHvlrut_-nH",
        "outputId": "1335220c-9ca8-4a20-91e3-98564562c15f",
        "colab": {
          "base_uri": "https://localhost:8080/",
          "height": 34
        }
      },
      "cell_type": "code",
      "source": [
        "src = 'i am the monument to all your sins'\n",
        "src = bpe['en'].process_line(tokenize(src))\n",
        "trans, _ = model.translate_lines([src])\n",
        "print(trans)"
      ],
      "execution_count": 9,
      "outputs": [
        {
          "output_type": "stream",
          "text": [
            "['я - памят@@ ник всем гре@@ ха@@ м']\n"
          ],
          "name": "stdout"
        }
      ]
    },
    {
      "metadata": {
        "colab_type": "text",
        "id": "ePsESjCK_-nL"
      },
      "cell_type": "markdown",
      "source": [
        "### Estimate baseline quality\n",
        "\n",
        "As before, we shall estimate our model's quality using [BLEU](https://en.wikipedia.org/wiki/BLEU) metric.\n",
        "\n",
        "This metric simply computes which fraction of predicted n-grams is actually present in the reference translation. It does so for n=1,2,3 and 4 and computes the geometric average with penalty if translation is shorter than reference.\n",
        "\n",
        "One important thing about BLEU is that it is usually computed on a __corpora level__:\n",
        "* first you count precisions over the entire test set\n",
        "* then you do the geometric averaging and apply penalties"
      ]
    },
    {
      "metadata": {
        "colab_type": "code",
        "id": "uamn1XYe_-nM",
        "colab": {}
      },
      "cell_type": "code",
      "source": [
        "from nltk.translate.bleu_score import corpus_bleu\n",
        "def bleu(references, translations):\n",
        "    \"\"\" Estimates corpora-level BLEU score of predicted translations given references \"\"\"\n",
        "    return corpus_bleu([[ref.split()] for ref in references], \n",
        "                       [trans.split() for trans in translations]) * 100"
      ],
      "execution_count": 0,
      "outputs": []
    },
    {
      "metadata": {
        "colab_type": "code",
        "id": "zk2hCud3_-nQ",
        "outputId": "0cae0db1-5ecf-493e-b418-bcefd6b9d0f5",
        "colab": {
          "base_uri": "https://localhost:8080/",
          "height": 34
        }
      },
      "cell_type": "code",
      "source": [
        "bleu(['a cat sat on a mat', 'i love bees'], \n",
        "     ['a cat sat on a cat', 'i hate people'])"
      ],
      "execution_count": 11,
      "outputs": [
        {
          "output_type": "execute_result",
          "data": {
            "text/plain": [
              "58.143073696821936"
            ]
          },
          "metadata": {
            "tags": []
          },
          "execution_count": 11
        }
      ]
    },
    {
      "metadata": {
        "colab_type": "text",
        "id": "VKC9qI6F_-nU"
      },
      "cell_type": "markdown",
      "source": [
        "__Task 1 (1 point):__ evaluate baseline BLEU\n"
      ]
    },
    {
      "metadata": {
        "colab_type": "code",
        "id": "fmhFEdkh_-nV",
        "colab": {}
      },
      "cell_type": "code",
      "source": [
        "def evaluate(model, inp_lines, out_lines):\n",
        "    \"\"\"\n",
        "    Estimates model's corpora level bleu\n",
        "    :param inp_lines: a list of BPE strings in source language\n",
        "    :param out_lines: a list of BPE strings in target language\n",
        "    :returns: model's BLEU (float scalar)\n",
        "    \n",
        "    Important:\n",
        "    * Make sure to de-BPEize both translations and references. You can do that with str.replace\n",
        "    * Use model.translate_lines with default max_len\n",
        "    * If you're low on RAM, split data in several batches and translate sequentially\n",
        "    \"\"\"\n",
        "    \n",
        "    trans, _ = model.translate_lines(inp_lines)\n",
        "    trans = list(map(lambda x: x.replace('@@ ', ''), trans))\n",
        "    trg = list(map(lambda x: x.replace('@@ ', ''), out_lines))\n",
        "    return bleu(trg, trans)"
      ],
      "execution_count": 0,
      "outputs": []
    },
    {
      "metadata": {
        "colab_type": "code",
        "id": "APelq5f0_-nY",
        "outputId": "5694d84c-bee7-44a1-b763-55bc9120c05b",
        "colab": {
          "base_uri": "https://localhost:8080/",
          "height": 34
        }
      },
      "cell_type": "code",
      "source": [
        "evaluate(model, dev_inp[:500], dev_out[:500])"
      ],
      "execution_count": 13,
      "outputs": [
        {
          "output_type": "execute_result",
          "data": {
            "text/plain": [
              "20.720304370020497"
            ]
          },
          "metadata": {
            "tags": []
          },
          "execution_count": 13
        }
      ]
    },
    {
      "metadata": {
        "colab_type": "text",
        "id": "cwoPi43p_-nf"
      },
      "cell_type": "markdown",
      "source": [
        "### Naive training (1.5 points)\n",
        "\n",
        "The simplest thing you can do in supervised domain adaptation is to simply fine-tune your model on the target domain data.\n",
        "\n",
        "Here's a reminder of what training objective looks like:\n",
        "$$ L = {\\frac1{|D|}} \\sum_{X, Y \\in D} \\sum_{y_t \\in Y} - \\log p(y_t \\mid y_1, \\dots, y_{t-1}, X, \\theta) $$\n",
        "\n",
        "where $|D|$ is the __total length of all sequences__.\n",
        "\n"
      ]
    },
    {
      "metadata": {
        "colab_type": "code",
        "id": "0qlZScO6_-ng",
        "scrolled": true,
        "colab": {}
      },
      "cell_type": "code",
      "source": [
        "from utils import select_values_over_last_axis\n",
        "\n",
        "def compute_logprobs(model, inp, out, **flags):\n",
        "    first_state = model.encode(inp, **flags)\n",
        "    batch_size = tf.shape(inp)[0]\n",
        "    bos = tf.fill([batch_size], model.out_voc.bos_ix)\n",
        "    first_logits = tf.log(tf.one_hot(bos, len(model.out_voc)) + 1e-30)\n",
        "    \n",
        "    def step(blob, y_prev):\n",
        "        h_prev = blob[:-1]\n",
        "        h_new, logits = model.decode(h_prev, y_prev, **flags)\n",
        "        return list(h_new) + [logits]\n",
        "\n",
        "    *states_seq, logits_seq = tf.scan(step, initializer=list(first_state) + [first_logits], elems=tf.transpose(out))\n",
        "\n",
        "    # gather state and logits, each of shape [time, batch, ...]\n",
        "    logits_seq = tf.concat((first_logits[None], logits_seq),axis=0)\n",
        "    #convert from [time, batch,...] to [batch, time, ...]\n",
        "    logits_seq = tf.transpose(logits_seq, [1, 0, 2])\n",
        "    \n",
        "    logprobs_seq = tf.nn.log_softmax(logits_seq, dim=-1)\n",
        "    return logprobs_seq\n",
        "\n",
        "def compute_loss(model, inp, out, **flags):\n",
        "    \"\"\"\n",
        "    Compute loss (float32 scalar) as in the formula above\n",
        "    :param inp: input tokens matrix, int32[batch, time]\n",
        "    :param out: reference tokens matrix, int32[batch, time]\n",
        "    \"\"\"\n",
        "    logprobs_seq = compute_logprobs(model, inp, out, **flags)\n",
        "    \n",
        "    logp_out = select_values_over_last_axis(logprobs_seq, out)\n",
        "    mask = utils.infer_mask(out, out_voc.eos_ix)\n",
        "    return -tf.reduce_sum(logp_out * mask) / tf.reduce_sum(mask)"
      ],
      "execution_count": 0,
      "outputs": []
    },
    {
      "metadata": {
        "colab_type": "text",
        "id": "ThOM3Ky3_-nk"
      },
      "cell_type": "markdown",
      "source": [
        "### Training loop"
      ]
    },
    {
      "metadata": {
        "colab_type": "code",
        "id": "Nu8_IVVO_-nk",
        "outputId": "c9cbbcac-b272-4cac-d626-96ae4027fdb8",
        "colab": {
          "base_uri": "https://localhost:8080/",
          "height": 88
        }
      },
      "cell_type": "code",
      "source": [
        "inp = tf.placeholder('int32', [None, None])\n",
        "out = tf.placeholder('int32', [None, None])\n",
        "\n",
        "loss = compute_loss(model, inp, out)\n",
        "\n",
        "train_step = tf.train.AdamOptimizer().minimize(loss)\n",
        "utils.initialize_uninitialized()"
      ],
      "execution_count": 15,
      "outputs": [
        {
          "output_type": "stream",
          "text": [
            "WARNING:tensorflow:From <ipython-input-14-f981a8b388f8>:21: calling log_softmax (from tensorflow.python.ops.nn_ops) with dim is deprecated and will be removed in a future version.\n",
            "Instructions for updating:\n",
            "dim is deprecated, use axis instead\n"
          ],
          "name": "stdout"
        }
      ]
    },
    {
      "metadata": {
        "colab_type": "code",
        "id": "o7yK8KPb_-no",
        "scrolled": false,
        "colab": {}
      },
      "cell_type": "code",
      "source": [
        "import matplotlib.pyplot as plt\n",
        "%matplotlib inline\n",
        "from IPython.display import clear_output\n",
        "from tqdm import tqdm, trange\n",
        "\n",
        "batch_size = 32\n",
        "metrics = {'train_loss': [], 'dev_bleu': [] }"
      ],
      "execution_count": 0,
      "outputs": []
    },
    {
      "metadata": {
        "colab_type": "code",
        "id": "5iAONWls_-nr",
        "outputId": "fdb6bc4d-17be-4507-e736-149b4a01e21c",
        "colab": {
          "base_uri": "https://localhost:8080/",
          "height": 314
        }
      },
      "cell_type": "code",
      "source": [
        "for _ in trange(10000):\n",
        "    step = len(metrics['train_loss']) + 1\n",
        "    batch_ix = np.random.randint(len(train_inp), size=32)\n",
        "    feed_dict = {\n",
        "        inp: inp_voc.to_matrix(train_inp[batch_ix]),\n",
        "        out: out_voc.to_matrix(train_out[batch_ix]),\n",
        "    }\n",
        "    \n",
        "    loss_t, _ = sess.run([loss, train_step], feed_dict)\n",
        "    metrics['train_loss'].append((step, loss_t))\n",
        "    \n",
        "    if step % 100 == 0:\n",
        "        metrics['dev_bleu'].append((step, evaluate(model, dev_inp, dev_out)))\n",
        "        \n",
        "        clear_output(True)\n",
        "        plt.figure(figsize=(12,4))\n",
        "        for i, (name, history) in enumerate(sorted(metrics.items())):\n",
        "            plt.subplot(1, len(metrics), i + 1)\n",
        "            plt.title(name)\n",
        "            plt.plot(*zip(*history))\n",
        "            plt.grid()\n",
        "        plt.show()\n",
        "        print(\"Mean loss=%.3f\" % np.mean(metrics['train_loss'][-10:], axis=0)[1], flush=True)\n",
        "        \n",
        "# Note: it's okay if bleu oscillates up and down as long as it gets better on average over long term (e.g. 5k batches)"
      ],
      "execution_count": 0,
      "outputs": [
        {
          "output_type": "display_data",
          "data": {
            "image/png": "[encoded data removed]",
            "text/plain": [
              "<matplotlib.figure.Figure at 0x7f3c70d20470>"
            ]
          },
          "metadata": {
            "tags": []
          }
        },
        {
          "output_type": "stream",
          "text": [
            "Mean loss=0.236\n"
          ],
          "name": "stdout"
        },
        {
          "output_type": "stream",
          "text": [
            "\r100%|██████████| 10000/10000 [4:01:57<00:00, 12.48s/it]\n"
          ],
          "name": "stderr"
        }
      ]
    },
    {
      "metadata": {
        "colab_type": "code",
        "id": "BJuqiEcW_-ny",
        "colab": {}
      },
      "cell_type": "code",
      "source": [
        "assert np.mean(metrics['dev_bleu'][-10:], axis=0)[1] > 30, \"We kind of need a higher bleu BLEU from you. Kind of right now.\""
      ],
      "execution_count": 0,
      "outputs": []
    },
    {
      "metadata": {
        "colab_type": "code",
        "id": "RVEieatj_-n2",
        "outputId": "a7805cf2-eb80-40f8-cd64-b950e11b6638",
        "colab": {
          "base_uri": "https://localhost:8080/",
          "height": 530
        }
      },
      "cell_type": "code",
      "source": [
        "#print translations of some random dev lines\n",
        "inp_lines = np.random.choice(dev_inp, 10)\n",
        "trans_lines, _ = model.translate_lines(inp_lines)\n",
        "print('\\n\\n'.join(map(lambda x: f'{x[0].replace(\"@@ \", \"\")}\\n{x[1].replace(\"@@ \", \"\")}', zip(inp_lines, trans_lines))))"
      ],
      "execution_count": 0,
      "outputs": [
        {
          "output_type": "stream",
          "text": [
            "featuring a fireplace , the living area includes a dining table and tv .\n",
            "в гостиной зоне установлен камин , обеденный стол и телевизор .\n",
            "\n",
            "room service is also available .\n",
            "кроме того , производится обслуживание номеров .\n",
            "\n",
            "located in a rural , this modern b & b features an outdoor swimming pool and well - equipped kitchen .\n",
            "этот современный отель типа \" постель и завтрак \" расположен в загородной местности , на открытом воздухе с открытым бассейном и хорошо оборудованной кухней .\n",
            "\n",
            "são josé dos campos airport is situated 4 , 5 km away .\n",
            "расстояние до аэропорта сан - хосе - дос - кампус составляет 4 , 5 км .\n",
            "\n",
            "the fully equipped private bathroom has a bathtub or a shower .\n",
            "в распоряжении гостей полностью оборудованная собственная ванная комната с ванной или душем .\n",
            "\n",
            "the private bathroom includes a shower .\n",
            "в собственной ванной комнате установлен душ .\n",
            "\n",
            "this east point hotel offers free 22 - hour airport shuttle to hartsfield - jackson atlanta international airport , which is just one mile away .\n",
            "этот отель расположен в восточном пойнном отеле . гостям предоставляется бесплатный часовой трансфер до международного аэропорта хартсфилд - джсон - джексон ( 1 км _UNK_ .\n",
            "\n",
            "free private parking is available at sarova .\n",
            "на территории сарова обустроена бесплатная частная парковка .\n",
            "\n",
            "wi - fi is free in public areas .\n",
            "в зонах общественного пользования работает бесплатный wifi .\n",
            "\n",
            "albergo morando is 30 km from serravalle scrivia outlet shopping center . genoa is a 1 - hour drive away .\n",
            "отель albergo morando находится в 30 км от торгового центра serrvalle scarch around riviery и в 1 часе езды от города генуя .\n"
          ],
          "name": "stdout"
        }
      ]
    },
    {
      "metadata": {
        "colab_type": "text",
        "id": "nvsAGrZn_-n7"
      },
      "cell_type": "markdown",
      "source": [
        "### Domain adaptation with KL penalty (2.5 pts)\n",
        "\n",
        "The problem with fine-tuning is that model can stray too far from the original parameters and forget useful information. One way to mitigate this problem is to use KL penalty:\n",
        "\n",
        "$$ Loss = (1 - \\lambda) \\cdot L_{xent} + \\lambda \\cdot {1 \\over N} \\underset {x, y_t} \\sum KL(P_{teacher}(y_t|x, y_0, ..., y_{t-1}) || P_{student}(y_t|x, y_0, ..., y_{t-1}))$$"
      ]
    },
    {
      "metadata": {
        "colab_type": "code",
        "id": "TU7O7HPm_-n8",
        "scrolled": true,
        "colab": {
          "base_uri": "https://localhost:8080/",
          "height": 88
        },
        "outputId": "ed427e8c-91d5-467f-cd37-6a781cb91d07"
      },
      "cell_type": "code",
      "source": [
        "tf.reset_default_graph()\n",
        "sess = tf.InteractiveSession()\n",
        "\n",
        "model = utils.Model('mod', inp_voc, out_voc)\n",
        "utils.load(tf.trainable_variables(), 'model-pretrained.npz')\n",
        "\n",
        "teacher = utils.Model('teacher', inp_voc, out_voc)\n",
        "\n",
        "teacher_ckpt = np.load('model-pretrained.npz')\n",
        "teacher_ckpt = { name.replace('mod/', 'teacher/'): teacher_ckpt[name] for name in teacher_ckpt}\n",
        "np.savez('teacher.npz', **teacher_ckpt)\n",
        "utils.load(tf.trainable_variables(), 'teacher.npz')"
      ],
      "execution_count": 17,
      "outputs": [
        {
          "output_type": "stream",
          "text": [
            "/usr/local/lib/python3.6/dist-packages/tensorflow/python/client/session.py:1702: UserWarning: An interactive session is already active. This can cause out-of-memory errors in some cases. You must explicitly call `InteractiveSession.close()` to release resources held by the other session(s).\n",
            "  warnings.warn('An interactive session is already active. This can '\n",
            "Variables not initialized: mod/enc_fw/i2c:0 mod/enc_fw/h2c:0 mod/enc_fw/b_c:0 mod/enc_fw/i2f:0 mod/enc_fw/h2f:0 mod/enc_fw/b_f:0 mod/enc_fw/i2i:0 mod/enc_fw/h2i:0 mod/enc_fw/b_i:0 mod/enc_fw/i2o:0 mod/enc_fw/h2o:0 mod/enc_fw/b_o:0 mod/enc_bw/i2c:0 mod/enc_bw/h2c:0 mod/enc_bw/b_c:0 mod/enc_bw/i2f:0 mod/enc_bw/h2f:0 mod/enc_bw/b_f:0 mod/enc_bw/i2i:0 mod/enc_bw/h2i:0 mod/enc_bw/b_i:0 mod/enc_bw/i2o:0 mod/enc_bw/h2o:0 mod/enc_bw/b_o:0 mod/decoder/i2c:0 mod/decoder/h2c:0 mod/decoder/b_c:0 mod/decoder/i2f:0 mod/decoder/h2f:0 mod/decoder/b_f:0 mod/decoder/i2i:0 mod/decoder/h2i:0 mod/decoder/b_i:0 mod/decoder/i2o:0 mod/decoder/h2o:0 mod/decoder/b_o:0 mod/attn/dec:0 mod/attn/enc:0 mod/attn/vec:0 mod/embedding_1/embeddings:0 mod/embedding_2/embeddings:0 mod/dense_1/kernel:0 mod/dense_1/bias:0\n"
          ],
          "name": "stderr"
        }
      ]
    },
    {
      "metadata": {
        "colab_type": "code",
        "id": "whErsTJH_-n9",
        "colab": {}
      },
      "cell_type": "code",
      "source": [
        "def compute_loss_with_kl(model, teacher, inp, out, lambda_coeff=0.25, **flags):\n",
        "    \"\"\"\n",
        "    Compute loss (float32 scalar) as in the formula above\n",
        "    :param inp: input tokens matrix, int32[batch, time]\n",
        "    :param out: reference tokens matrix, int32[batch, time]\n",
        "    :param lambda_coeff: lambda from the formula above.\n",
        "    \n",
        "    use lambda_coeff from outer scope\n",
        "    \"\"\"\n",
        "    loss_xent = compute_loss(model, inp, out, **flags)\n",
        "    \n",
        "    model_logprobs = compute_logprobs(model, inp, out, **flags)\n",
        "    teacher_logprobs = compute_logprobs(teacher, inp, out, **flags)\n",
        "    \n",
        "    kld = tf.keras.losses.kld(tf.exp(teacher_logprobs), tf.exp(model_logprobs))\n",
        "    mask = utils.infer_mask(out, out_voc.eos_ix)\n",
        "\n",
        "    loss_kl = tf.reduce_sum(kld[:,:-1]*mask)/tf.reduce_sum(mask)\n",
        "    \n",
        "    loss = (1 - lambda_coeff)*loss_xent + lambda_coeff*loss_kl\n",
        "    \n",
        "    return loss"
      ],
      "execution_count": 0,
      "outputs": []
    },
    {
      "metadata": {
        "colab_type": "code",
        "id": "4nm4xJvG_-oA",
        "colab": {}
      },
      "cell_type": "code",
      "source": [
        "### Do it yourself: create training step operations and \n",
        "# feel free to copy the code from simple fine-tuning\n",
        "inp = tf.placeholder('int32', [None, None])\n",
        "out = tf.placeholder('int32', [None, None])\n",
        "\n",
        "loss = compute_loss_with_kl(model, teacher, inp, out)\n",
        "\n",
        "train_step = tf.train.AdamOptimizer().minimize(loss)\n",
        "utils.initialize_uninitialized()"
      ],
      "execution_count": 0,
      "outputs": []
    },
    {
      "metadata": {
        "colab_type": "code",
        "id": "BSgMK9ij_-oC",
        "scrolled": false,
        "colab": {
          "base_uri": "https://localhost:8080/",
          "height": 314
        },
        "outputId": "b3126893-51c0-4970-928b-01e438fde1ec"
      },
      "cell_type": "code",
      "source": [
        "batch_size = 32\n",
        "metrics = {'train_loss': [], 'dev_bleu': []}\n",
        "\n",
        "for _ in trange(10000):\n",
        "    step = len(metrics['train_loss']) + 1\n",
        "    batch_ix = np.random.randint(len(train_inp), size=32)\n",
        "    feed_dict = {\n",
        "        inp: inp_voc.to_matrix(train_inp[batch_ix]),\n",
        "        out: out_voc.to_matrix(train_out[batch_ix]),\n",
        "    }\n",
        "    \n",
        "    loss_t, _ = sess.run([loss, train_step], feed_dict)\n",
        "    metrics['train_loss'].append((step, loss_t))\n",
        "    \n",
        "    if step % 100 == 0:\n",
        "        metrics['dev_bleu'].append((step, evaluate(model, dev_inp, dev_out)))\n",
        "        \n",
        "        clear_output(True)\n",
        "        plt.figure(figsize=(12,4))\n",
        "        for i, (name, history) in enumerate(sorted(metrics.items())):\n",
        "            plt.subplot(1, len(metrics), i + 1)\n",
        "            plt.title(name)\n",
        "            plt.plot(*zip(*history))\n",
        "            plt.grid()\n",
        "        plt.show()\n",
        "        print(\"Mean loss=%.3f\" % np.mean(metrics['train_loss'][-10:], axis=0)[1], flush=True)"
      ],
      "execution_count": 20,
      "outputs": [
        {
          "output_type": "display_data",
          "data": {
            "image/png": "[encoded data removed]",
            "text/plain": [
              "<matplotlib.figure.Figure at 0x7fa1924137b8>"
            ]
          },
          "metadata": {
            "tags": []
          }
        },
        {
          "output_type": "stream",
          "text": [
            "Mean loss=0.276\n"
          ],
          "name": "stdout"
        },
        {
          "output_type": "stream",
          "text": [
            "\r100%|██████████| 10000/10000 [10:32:42<00:00, 15.14s/it]\n"
          ],
          "name": "stderr"
        }
      ]
    },
    {
      "metadata": {
        "colab_type": "code",
        "id": "Bn5_4SV__-oF",
        "colab": {
          "base_uri": "https://localhost:8080/",
          "height": 34
        },
        "outputId": "52dbc9ed-fd94-41e5-b858-cd7f77f6a0df"
      },
      "cell_type": "code",
      "source": [
        "### Do it yourself: estimate the final quality\n",
        "# feel free to reuse the code from simple fine-tuning\n",
        "print(f\"dev_bleu: {np.mean(metrics['dev_bleu'][-10:], axis=0)[1]:.2f}\")\n",
        "assert np.mean(metrics['dev_bleu'][-10:], axis=0)[1] > 34, \"We kind of need a higher bleu BLEU from you. Kind of right now.\""
      ],
      "execution_count": 28,
      "outputs": [
        {
          "output_type": "stream",
          "text": [
            "dev_bleu: 34.64\n"
          ],
          "name": "stdout"
        }
      ]
    },
    {
      "metadata": {
        "id": "D7y6oyW2BdKw",
        "colab_type": "text"
      },
      "cell_type": "markdown",
      "source": [
        "BLEU немного вырос по сравнению с простой моделью"
      ]
    },
    {
      "metadata": {
        "id": "-xHthhIPvAVx",
        "colab_type": "code",
        "colab": {
          "base_uri": "https://localhost:8080/",
          "height": 530
        },
        "outputId": "f1802ce7-22ec-4522-dfcc-4b419390f3be"
      },
      "cell_type": "code",
      "source": [
        "#print translations of some random dev lines\n",
        "inp_lines = np.random.choice(dev_inp, 10)\n",
        "trans_lines, _ = model.translate_lines(inp_lines)\n",
        "print('\\n\\n'.join(map(lambda x: f'{x[0].replace(\"@@ \", \"\")}\\n{x[1].replace(\"@@ \", \"\")}', zip(inp_lines, trans_lines))))"
      ],
      "execution_count": 29,
      "outputs": [
        {
          "output_type": "stream",
          "text": [
            "the property offers free parking .\n",
            "для гостей обустроена бесплатная парковка .\n",
            "\n",
            "motorway access is right next to the villa , and it can be used for quick connections to the city centre by car .\n",
            "рядом с отелем проходит автомагистраль , а город можно быстро добраться до центра города на автомобиле .\n",
            "\n",
            "parking is free .\n",
            "для гостей обустроена бесплатная парковка .\n",
            "\n",
            "extras include an outdoor seating area , bed linen and a fan .\n",
            "в числе прочих удобств _UNK_ открытый гостиный уголок , постельное белье и вентилятор .\n",
            "\n",
            "various cafes are a 5 - minute walk away .\n",
            "прогулка до различных кафе занимает 5 минут .\n",
            "\n",
            "offering a barbecue and a private beach area , blue whale nilaveli is set in nilaveli , 12 km from trincomalee .\n",
            "отель типа _UNK_ постель и завтрак _UNK_ blue whale nilaveli с принадлежностями для барбекю и собственным пляжем расположен в нилавели , в 12 км от трикомаля .\n",
            "\n",
            "gazipasa airport is located 61 km from the property .\n",
            "расстояние до аэропорта газипаша составляет 61 км .\n",
            "\n",
            "guest can also rent a car or scooter to explore around .\n",
            "гости могут взять напрокат автомобиль или велосипедный прогулку по окрестностям .\n",
            "\n",
            "toronto pearson international airport is a 15 - minute drive from the north toronto super 8 .\n",
            "международный аэропорт имени торонто - пиарсона находится в 15 минутах езды от отеля north toronto super 8 .\n",
            "\n",
            "stuttgart - österfeld s - bahn station is 4 km away and provides connections to stuttgart central station , 8 . 3 km to the north .\n",
            "расстояние до станции штуттгарт - эстерфельд составляет 4 , 3 км , до центрального вокзала штутгартта - эстерфельд - пассажирского вокзала , в 8 , 3 км к северу .\n"
          ],
          "name": "stdout"
        }
      ]
    },
    {
      "metadata": {
        "colab_type": "text",
        "id": "bNUYXXdV_-oI"
      },
      "cell_type": "markdown",
      "source": [
        "### Bonus tasks:\n",
        "Both tasks start at 3 points for basic solution and a ton more if you do something as awesome as the stuff from the lecture.\n",
        "\n",
        "1. __Domain adaptation with unlabeled data:__\n",
        " * In machine translation, it's relatively easy to obtain unparallel data. For the hotels task, there's almost 10x as large a corpora available if you \n",
        " * Download the full data [here](https://yadi.sk/d/zrYuTKQ63S33m3)\n",
        " * The dataset was originally provided by [Tilde](https://www.tilde.com/). Huge thanks to them! :)\n",
        " * The goal is simple: improve the model using the extra data. You can use proxy labels, pre-train as language model or do literally anything else.\n",
        " * Using extra out-of-domain data, whether parallel or not, is also encouraged. Here's [statmt](http://www.statmt.org/) with parallel corpora section at the bottom.\n",
        "\n",
        " \n",
        "2. __Beam search:__\n",
        " * While it's not related to domain adaption, beam search is a good general way to improve model inference.\n",
        " * The key idea of beam search if to consider not top-1 but top-K hypotheses at each step\n",
        " * In the example below, k=4\n",
        " * Whenever a hypothesis in top-K is finished (with a `_EOS_`), record it and remember it's score.\n",
        " * Iterate until all hypotheses are already worse than the best finished hypo."
      ]
    },
    {
      "metadata": {
        "colab_type": "code",
        "id": "3tYmZhwm_-oJ",
        "colab": {}
      },
      "cell_type": "code",
      "source": [
        "!wget https://raw.githubusercontent.com/yandexdataschool/nlp_course/master/resources/beam_search.html 2> log\n",
        "from IPython.display import HTML\n",
        "# source: parlament does not support the amendment freeing tymoshenko\n",
        "HTML('./beam_search.html')"
      ],
      "execution_count": 0,
      "outputs": []
    }
  ]
}